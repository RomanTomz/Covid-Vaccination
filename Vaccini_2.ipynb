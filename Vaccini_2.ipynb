{
 "cells": [
  {
   "cell_type": "code",
   "execution_count": 470,
   "metadata": {},
   "outputs": [
    {
     "data": {
      "text/html": [
       "<style>.container { width:100% !important; }</style>"
      ],
      "text/plain": [
       "<IPython.core.display.HTML object>"
      ]
     },
     "metadata": {},
     "output_type": "display_data"
    }
   ],
   "source": [
    "from IPython.core.display import display, HTML\n",
    "display(HTML(\"<style>.container { width:100% !important; }</style>\"))"
   ]
  },
  {
   "cell_type": "code",
   "execution_count": 471,
   "metadata": {},
   "outputs": [],
   "source": [
    "import pandas as pd\n",
    "import numpy as np\n",
    "import seaborn as sns\n",
    "import matplotlib.pyplot as plt"
   ]
  },
  {
   "cell_type": "code",
   "execution_count": 472,
   "metadata": {},
   "outputs": [],
   "source": [
    "df = pd.read_csv('https://raw.githubusercontent.com/italia/covid19-opendata-vaccini/master/dati/somministrazioni-vaccini-latest.csv')\n",
    "df.data_somministrazione = pd.to_datetime(df.data_somministrazione)"
   ]
  },
  {
   "cell_type": "code",
   "execution_count": 473,
   "metadata": {},
   "outputs": [],
   "source": [
    "df.sort_values('data_somministrazione', inplace=True)"
   ]
  },
  {
   "cell_type": "code",
   "execution_count": 474,
   "metadata": {},
   "outputs": [
    {
     "data": {
      "text/html": [
       "<div>\n",
       "<style scoped>\n",
       "    .dataframe tbody tr th:only-of-type {\n",
       "        vertical-align: middle;\n",
       "    }\n",
       "\n",
       "    .dataframe tbody tr th {\n",
       "        vertical-align: top;\n",
       "    }\n",
       "\n",
       "    .dataframe thead th {\n",
       "        text-align: right;\n",
       "    }\n",
       "</style>\n",
       "<table border=\"1\" class=\"dataframe\">\n",
       "  <thead>\n",
       "    <tr style=\"text-align: right;\">\n",
       "      <th></th>\n",
       "      <th>data_somministrazione</th>\n",
       "      <th>fornitore</th>\n",
       "      <th>area</th>\n",
       "      <th>fascia_anagrafica</th>\n",
       "      <th>sesso_maschile</th>\n",
       "      <th>sesso_femminile</th>\n",
       "      <th>categoria_operatori_sanitari_sociosanitari</th>\n",
       "      <th>categoria_personale_non_sanitario</th>\n",
       "      <th>categoria_ospiti_rsa</th>\n",
       "      <th>categoria_over80</th>\n",
       "      <th>prima_dose</th>\n",
       "      <th>seconda_dose</th>\n",
       "    </tr>\n",
       "  </thead>\n",
       "  <tbody>\n",
       "    <tr>\n",
       "      <th>0</th>\n",
       "      <td>2020-12-27</td>\n",
       "      <td>Pfizer/BioNTech</td>\n",
       "      <td>ABR</td>\n",
       "      <td>20-29</td>\n",
       "      <td>1</td>\n",
       "      <td>0</td>\n",
       "      <td>1</td>\n",
       "      <td>0</td>\n",
       "      <td>0</td>\n",
       "      <td>0</td>\n",
       "      <td>1</td>\n",
       "      <td>0</td>\n",
       "    </tr>\n",
       "    <tr>\n",
       "      <th>96</th>\n",
       "      <td>2020-12-27</td>\n",
       "      <td>Pfizer/BioNTech</td>\n",
       "      <td>PIE</td>\n",
       "      <td>50-59</td>\n",
       "      <td>104</td>\n",
       "      <td>189</td>\n",
       "      <td>250</td>\n",
       "      <td>40</td>\n",
       "      <td>3</td>\n",
       "      <td>0</td>\n",
       "      <td>293</td>\n",
       "      <td>0</td>\n",
       "    </tr>\n",
       "    <tr>\n",
       "      <th>97</th>\n",
       "      <td>2020-12-27</td>\n",
       "      <td>Pfizer/BioNTech</td>\n",
       "      <td>PIE</td>\n",
       "      <td>60-69</td>\n",
       "      <td>94</td>\n",
       "      <td>37</td>\n",
       "      <td>113</td>\n",
       "      <td>9</td>\n",
       "      <td>9</td>\n",
       "      <td>0</td>\n",
       "      <td>131</td>\n",
       "      <td>0</td>\n",
       "    </tr>\n",
       "    <tr>\n",
       "      <th>98</th>\n",
       "      <td>2020-12-27</td>\n",
       "      <td>Pfizer/BioNTech</td>\n",
       "      <td>PIE</td>\n",
       "      <td>70-79</td>\n",
       "      <td>9</td>\n",
       "      <td>10</td>\n",
       "      <td>1</td>\n",
       "      <td>0</td>\n",
       "      <td>18</td>\n",
       "      <td>0</td>\n",
       "      <td>19</td>\n",
       "      <td>0</td>\n",
       "    </tr>\n",
       "    <tr>\n",
       "      <th>99</th>\n",
       "      <td>2020-12-27</td>\n",
       "      <td>Pfizer/BioNTech</td>\n",
       "      <td>PIE</td>\n",
       "      <td>80-89</td>\n",
       "      <td>5</td>\n",
       "      <td>19</td>\n",
       "      <td>0</td>\n",
       "      <td>0</td>\n",
       "      <td>24</td>\n",
       "      <td>0</td>\n",
       "      <td>24</td>\n",
       "      <td>0</td>\n",
       "    </tr>\n",
       "  </tbody>\n",
       "</table>\n",
       "</div>"
      ],
      "text/plain": [
       "   data_somministrazione        fornitore area fascia_anagrafica  \\\n",
       "0             2020-12-27  Pfizer/BioNTech  ABR             20-29   \n",
       "96            2020-12-27  Pfizer/BioNTech  PIE             50-59   \n",
       "97            2020-12-27  Pfizer/BioNTech  PIE             60-69   \n",
       "98            2020-12-27  Pfizer/BioNTech  PIE             70-79   \n",
       "99            2020-12-27  Pfizer/BioNTech  PIE             80-89   \n",
       "\n",
       "    sesso_maschile  sesso_femminile  \\\n",
       "0                1                0   \n",
       "96             104              189   \n",
       "97              94               37   \n",
       "98               9               10   \n",
       "99               5               19   \n",
       "\n",
       "    categoria_operatori_sanitari_sociosanitari  \\\n",
       "0                                            1   \n",
       "96                                         250   \n",
       "97                                         113   \n",
       "98                                           1   \n",
       "99                                           0   \n",
       "\n",
       "    categoria_personale_non_sanitario  categoria_ospiti_rsa  categoria_over80  \\\n",
       "0                                   0                     0                 0   \n",
       "96                                 40                     3                 0   \n",
       "97                                  9                     9                 0   \n",
       "98                                  0                    18                 0   \n",
       "99                                  0                    24                 0   \n",
       "\n",
       "    prima_dose  seconda_dose  \n",
       "0            1             0  \n",
       "96         293             0  \n",
       "97         131             0  \n",
       "98          19             0  \n",
       "99          24             0  "
      ]
     },
     "execution_count": 474,
     "metadata": {},
     "output_type": "execute_result"
    }
   ],
   "source": [
    "df.head()"
   ]
  },
  {
   "cell_type": "code",
   "execution_count": 475,
   "metadata": {},
   "outputs": [],
   "source": [
    "df.data_somministrazione = df.data_somministrazione.dt.strftime(\"%d-%m-%Y\")"
   ]
  },
  {
   "cell_type": "code",
   "execution_count": 476,
   "metadata": {},
   "outputs": [
    {
     "name": "stderr",
     "output_type": "stream",
     "text": [
      "/Users/admin/opt/anaconda3/lib/python3.7/site-packages/ipykernel_launcher.py:1: FutureWarning: Indexing with multiple keys (implicitly converted to a tuple of keys) will be deprecated, use a list instead.\n",
      "  \"\"\"Entry point for launching an IPython kernel.\n"
     ]
    },
    {
     "data": {
      "text/html": [
       "<div>\n",
       "<style scoped>\n",
       "    .dataframe tbody tr th:only-of-type {\n",
       "        vertical-align: middle;\n",
       "    }\n",
       "\n",
       "    .dataframe tbody tr th {\n",
       "        vertical-align: top;\n",
       "    }\n",
       "\n",
       "    .dataframe thead th {\n",
       "        text-align: right;\n",
       "    }\n",
       "</style>\n",
       "<table border=\"1\" class=\"dataframe\">\n",
       "  <thead>\n",
       "    <tr style=\"text-align: right;\">\n",
       "      <th>data_somministrazione</th>\n",
       "      <th>01-01-2021</th>\n",
       "      <th>02-01-2021</th>\n",
       "      <th>03-01-2021</th>\n",
       "      <th>04-01-2021</th>\n",
       "      <th>05-01-2021</th>\n",
       "      <th>06-01-2021</th>\n",
       "      <th>07-01-2021</th>\n",
       "      <th>08-01-2021</th>\n",
       "      <th>09-01-2021</th>\n",
       "      <th>10-01-2021</th>\n",
       "      <th>...</th>\n",
       "      <th>19-01-2021</th>\n",
       "      <th>20-01-2021</th>\n",
       "      <th>21-01-2021</th>\n",
       "      <th>22-01-2021</th>\n",
       "      <th>23-01-2021</th>\n",
       "      <th>27-12-2020</th>\n",
       "      <th>28-12-2020</th>\n",
       "      <th>29-12-2020</th>\n",
       "      <th>30-12-2020</th>\n",
       "      <th>31-12-2020</th>\n",
       "    </tr>\n",
       "    <tr>\n",
       "      <th>fascia_anagrafica</th>\n",
       "      <th></th>\n",
       "      <th></th>\n",
       "      <th></th>\n",
       "      <th></th>\n",
       "      <th></th>\n",
       "      <th></th>\n",
       "      <th></th>\n",
       "      <th></th>\n",
       "      <th></th>\n",
       "      <th></th>\n",
       "      <th></th>\n",
       "      <th></th>\n",
       "      <th></th>\n",
       "      <th></th>\n",
       "      <th></th>\n",
       "      <th></th>\n",
       "      <th></th>\n",
       "      <th></th>\n",
       "      <th></th>\n",
       "      <th></th>\n",
       "      <th></th>\n",
       "    </tr>\n",
       "  </thead>\n",
       "  <tbody>\n",
       "    <tr>\n",
       "      <th>16-19</th>\n",
       "      <td>2.0</td>\n",
       "      <td>18.0</td>\n",
       "      <td>0.0</td>\n",
       "      <td>12.0</td>\n",
       "      <td>22.0</td>\n",
       "      <td>37.0</td>\n",
       "      <td>31.0</td>\n",
       "      <td>43.0</td>\n",
       "      <td>75.0</td>\n",
       "      <td>143.0</td>\n",
       "      <td>...</td>\n",
       "      <td>40.0</td>\n",
       "      <td>24.0</td>\n",
       "      <td>24.0</td>\n",
       "      <td>18.0</td>\n",
       "      <td>5.0</td>\n",
       "      <td>0.0</td>\n",
       "      <td>0.0</td>\n",
       "      <td>0.0</td>\n",
       "      <td>2.0</td>\n",
       "      <td>23.0</td>\n",
       "    </tr>\n",
       "    <tr>\n",
       "      <th>20-29</th>\n",
       "      <td>902.0</td>\n",
       "      <td>3452.0</td>\n",
       "      <td>3392.0</td>\n",
       "      <td>5807.0</td>\n",
       "      <td>6695.0</td>\n",
       "      <td>6515.0</td>\n",
       "      <td>7625.0</td>\n",
       "      <td>8805.0</td>\n",
       "      <td>8611.0</td>\n",
       "      <td>7320.0</td>\n",
       "      <td>...</td>\n",
       "      <td>2666.0</td>\n",
       "      <td>1831.0</td>\n",
       "      <td>1108.0</td>\n",
       "      <td>786.0</td>\n",
       "      <td>359.0</td>\n",
       "      <td>647.0</td>\n",
       "      <td>107.0</td>\n",
       "      <td>71.0</td>\n",
       "      <td>453.0</td>\n",
       "      <td>2330.0</td>\n",
       "    </tr>\n",
       "    <tr>\n",
       "      <th>30-39</th>\n",
       "      <td>1942.0</td>\n",
       "      <td>6789.0</td>\n",
       "      <td>6043.0</td>\n",
       "      <td>11851.0</td>\n",
       "      <td>13490.0</td>\n",
       "      <td>11193.0</td>\n",
       "      <td>14972.0</td>\n",
       "      <td>14895.0</td>\n",
       "      <td>13067.0</td>\n",
       "      <td>9793.0</td>\n",
       "      <td>...</td>\n",
       "      <td>3503.0</td>\n",
       "      <td>2723.0</td>\n",
       "      <td>1597.0</td>\n",
       "      <td>1139.0</td>\n",
       "      <td>564.0</td>\n",
       "      <td>1024.0</td>\n",
       "      <td>166.0</td>\n",
       "      <td>173.0</td>\n",
       "      <td>827.0</td>\n",
       "      <td>4212.0</td>\n",
       "    </tr>\n",
       "    <tr>\n",
       "      <th>40-49</th>\n",
       "      <td>2406.0</td>\n",
       "      <td>8297.0</td>\n",
       "      <td>7664.0</td>\n",
       "      <td>14321.0</td>\n",
       "      <td>16464.0</td>\n",
       "      <td>12748.0</td>\n",
       "      <td>18881.0</td>\n",
       "      <td>19051.0</td>\n",
       "      <td>15906.0</td>\n",
       "      <td>11349.0</td>\n",
       "      <td>...</td>\n",
       "      <td>4284.0</td>\n",
       "      <td>3622.0</td>\n",
       "      <td>2002.0</td>\n",
       "      <td>1525.0</td>\n",
       "      <td>637.0</td>\n",
       "      <td>1441.0</td>\n",
       "      <td>235.0</td>\n",
       "      <td>196.0</td>\n",
       "      <td>1185.0</td>\n",
       "      <td>5613.0</td>\n",
       "    </tr>\n",
       "    <tr>\n",
       "      <th>50-59</th>\n",
       "      <td>3172.0</td>\n",
       "      <td>10595.0</td>\n",
       "      <td>9966.0</td>\n",
       "      <td>19610.0</td>\n",
       "      <td>22703.0</td>\n",
       "      <td>17609.0</td>\n",
       "      <td>26240.0</td>\n",
       "      <td>26067.0</td>\n",
       "      <td>21887.0</td>\n",
       "      <td>15035.0</td>\n",
       "      <td>...</td>\n",
       "      <td>5418.0</td>\n",
       "      <td>4601.0</td>\n",
       "      <td>2536.0</td>\n",
       "      <td>1845.0</td>\n",
       "      <td>922.0</td>\n",
       "      <td>2114.0</td>\n",
       "      <td>276.0</td>\n",
       "      <td>274.0</td>\n",
       "      <td>1228.0</td>\n",
       "      <td>6977.0</td>\n",
       "    </tr>\n",
       "    <tr>\n",
       "      <th>60-69</th>\n",
       "      <td>1670.0</td>\n",
       "      <td>6378.0</td>\n",
       "      <td>5877.0</td>\n",
       "      <td>11728.0</td>\n",
       "      <td>13897.0</td>\n",
       "      <td>11706.0</td>\n",
       "      <td>15287.0</td>\n",
       "      <td>15365.0</td>\n",
       "      <td>16426.0</td>\n",
       "      <td>10548.0</td>\n",
       "      <td>...</td>\n",
       "      <td>3295.0</td>\n",
       "      <td>2655.0</td>\n",
       "      <td>1545.0</td>\n",
       "      <td>1090.0</td>\n",
       "      <td>761.0</td>\n",
       "      <td>1442.0</td>\n",
       "      <td>165.0</td>\n",
       "      <td>162.0</td>\n",
       "      <td>548.0</td>\n",
       "      <td>3467.0</td>\n",
       "    </tr>\n",
       "    <tr>\n",
       "      <th>70-79</th>\n",
       "      <td>183.0</td>\n",
       "      <td>592.0</td>\n",
       "      <td>526.0</td>\n",
       "      <td>1081.0</td>\n",
       "      <td>1536.0</td>\n",
       "      <td>1672.0</td>\n",
       "      <td>2203.0</td>\n",
       "      <td>2560.0</td>\n",
       "      <td>2905.0</td>\n",
       "      <td>2174.0</td>\n",
       "      <td>...</td>\n",
       "      <td>1653.0</td>\n",
       "      <td>1454.0</td>\n",
       "      <td>888.0</td>\n",
       "      <td>604.0</td>\n",
       "      <td>290.0</td>\n",
       "      <td>126.0</td>\n",
       "      <td>0.0</td>\n",
       "      <td>8.0</td>\n",
       "      <td>90.0</td>\n",
       "      <td>548.0</td>\n",
       "    </tr>\n",
       "    <tr>\n",
       "      <th>80-89</th>\n",
       "      <td>279.0</td>\n",
       "      <td>776.0</td>\n",
       "      <td>596.0</td>\n",
       "      <td>1349.0</td>\n",
       "      <td>1806.0</td>\n",
       "      <td>1512.0</td>\n",
       "      <td>2919.0</td>\n",
       "      <td>2898.0</td>\n",
       "      <td>2814.0</td>\n",
       "      <td>1650.0</td>\n",
       "      <td>...</td>\n",
       "      <td>3417.0</td>\n",
       "      <td>2811.0</td>\n",
       "      <td>1778.0</td>\n",
       "      <td>1089.0</td>\n",
       "      <td>522.0</td>\n",
       "      <td>114.0</td>\n",
       "      <td>1.0</td>\n",
       "      <td>9.0</td>\n",
       "      <td>158.0</td>\n",
       "      <td>998.0</td>\n",
       "    </tr>\n",
       "    <tr>\n",
       "      <th>90+</th>\n",
       "      <td>325.0</td>\n",
       "      <td>725.0</td>\n",
       "      <td>530.0</td>\n",
       "      <td>1234.0</td>\n",
       "      <td>1719.0</td>\n",
       "      <td>1385.0</td>\n",
       "      <td>2640.0</td>\n",
       "      <td>2513.0</td>\n",
       "      <td>2281.0</td>\n",
       "      <td>1279.0</td>\n",
       "      <td>...</td>\n",
       "      <td>2343.0</td>\n",
       "      <td>2078.0</td>\n",
       "      <td>1359.0</td>\n",
       "      <td>836.0</td>\n",
       "      <td>398.0</td>\n",
       "      <td>75.0</td>\n",
       "      <td>0.0</td>\n",
       "      <td>9.0</td>\n",
       "      <td>94.0</td>\n",
       "      <td>767.0</td>\n",
       "    </tr>\n",
       "  </tbody>\n",
       "</table>\n",
       "<p>9 rows × 28 columns</p>\n",
       "</div>"
      ],
      "text/plain": [
       "data_somministrazione  01-01-2021  02-01-2021  03-01-2021  04-01-2021  \\\n",
       "fascia_anagrafica                                                       \n",
       "16-19                         2.0        18.0         0.0        12.0   \n",
       "20-29                       902.0      3452.0      3392.0      5807.0   \n",
       "30-39                      1942.0      6789.0      6043.0     11851.0   \n",
       "40-49                      2406.0      8297.0      7664.0     14321.0   \n",
       "50-59                      3172.0     10595.0      9966.0     19610.0   \n",
       "60-69                      1670.0      6378.0      5877.0     11728.0   \n",
       "70-79                       183.0       592.0       526.0      1081.0   \n",
       "80-89                       279.0       776.0       596.0      1349.0   \n",
       "90+                         325.0       725.0       530.0      1234.0   \n",
       "\n",
       "data_somministrazione  05-01-2021  06-01-2021  07-01-2021  08-01-2021  \\\n",
       "fascia_anagrafica                                                       \n",
       "16-19                        22.0        37.0        31.0        43.0   \n",
       "20-29                      6695.0      6515.0      7625.0      8805.0   \n",
       "30-39                     13490.0     11193.0     14972.0     14895.0   \n",
       "40-49                     16464.0     12748.0     18881.0     19051.0   \n",
       "50-59                     22703.0     17609.0     26240.0     26067.0   \n",
       "60-69                     13897.0     11706.0     15287.0     15365.0   \n",
       "70-79                      1536.0      1672.0      2203.0      2560.0   \n",
       "80-89                      1806.0      1512.0      2919.0      2898.0   \n",
       "90+                        1719.0      1385.0      2640.0      2513.0   \n",
       "\n",
       "data_somministrazione  09-01-2021  10-01-2021  ...  19-01-2021  20-01-2021  \\\n",
       "fascia_anagrafica                              ...                           \n",
       "16-19                        75.0       143.0  ...        40.0        24.0   \n",
       "20-29                      8611.0      7320.0  ...      2666.0      1831.0   \n",
       "30-39                     13067.0      9793.0  ...      3503.0      2723.0   \n",
       "40-49                     15906.0     11349.0  ...      4284.0      3622.0   \n",
       "50-59                     21887.0     15035.0  ...      5418.0      4601.0   \n",
       "60-69                     16426.0     10548.0  ...      3295.0      2655.0   \n",
       "70-79                      2905.0      2174.0  ...      1653.0      1454.0   \n",
       "80-89                      2814.0      1650.0  ...      3417.0      2811.0   \n",
       "90+                        2281.0      1279.0  ...      2343.0      2078.0   \n",
       "\n",
       "data_somministrazione  21-01-2021  22-01-2021  23-01-2021  27-12-2020  \\\n",
       "fascia_anagrafica                                                       \n",
       "16-19                        24.0        18.0         5.0         0.0   \n",
       "20-29                      1108.0       786.0       359.0       647.0   \n",
       "30-39                      1597.0      1139.0       564.0      1024.0   \n",
       "40-49                      2002.0      1525.0       637.0      1441.0   \n",
       "50-59                      2536.0      1845.0       922.0      2114.0   \n",
       "60-69                      1545.0      1090.0       761.0      1442.0   \n",
       "70-79                       888.0       604.0       290.0       126.0   \n",
       "80-89                      1778.0      1089.0       522.0       114.0   \n",
       "90+                        1359.0       836.0       398.0        75.0   \n",
       "\n",
       "data_somministrazione  28-12-2020  29-12-2020  30-12-2020  31-12-2020  \n",
       "fascia_anagrafica                                                      \n",
       "16-19                         0.0         0.0         2.0        23.0  \n",
       "20-29                       107.0        71.0       453.0      2330.0  \n",
       "30-39                       166.0       173.0       827.0      4212.0  \n",
       "40-49                       235.0       196.0      1185.0      5613.0  \n",
       "50-59                       276.0       274.0      1228.0      6977.0  \n",
       "60-69                       165.0       162.0       548.0      3467.0  \n",
       "70-79                         0.0         8.0        90.0       548.0  \n",
       "80-89                         1.0         9.0       158.0       998.0  \n",
       "90+                           0.0         9.0        94.0       767.0  \n",
       "\n",
       "[9 rows x 28 columns]"
      ]
     },
     "execution_count": 476,
     "metadata": {},
     "output_type": "execute_result"
    }
   ],
   "source": [
    "df_pivot = (df.groupby(['data_somministrazione','fascia_anagrafica'])['prima_dose','seconda_dose'].sum().reset_index(level=0).\n",
    " pivot(columns='data_somministrazione', values='prima_dose').fillna(0))\n",
    "df_pivot"
   ]
  },
  {
   "cell_type": "code",
   "execution_count": 477,
   "metadata": {},
   "outputs": [
    {
     "data": {
      "text/plain": [
       "<matplotlib.axes._subplots.AxesSubplot at 0x7fb076950d10>"
      ]
     },
     "execution_count": 477,
     "metadata": {},
     "output_type": "execute_result"
    },
    {
     "data": {
      "image/png": "[encoded data removed]",
      "text/plain": [
       "<Figure size 1080x576 with 2 Axes>"
      ]
     },
     "metadata": {},
     "output_type": "display_data"
    }
   ],
   "source": [
    "\n",
    "plt.figure(figsize=(15,8))\n",
    "sns.heatmap(df_pivot, cmap='coolwarm', linecolor='white', linewidths=0.1)"
   ]
  },
  {
   "cell_type": "code",
   "execution_count": 478,
   "metadata": {},
   "outputs": [],
   "source": [
    "daily = df.groupby('data_somministrazione')['prima_dose'].sum().reset_index()\n",
    "df = df.merge(daily, left_on='data_somministrazione', right_on='data_somministrazione', how='inner', \n",
    "        suffixes=['','_totale_giorno'])"
   ]
  },
  {
   "cell_type": "markdown",
   "metadata": {},
   "source": [
    "I need to groupby before calculating percentage as they are labelled by region as well"
   ]
  },
  {
   "cell_type": "code",
   "execution_count": 479,
   "metadata": {},
   "outputs": [],
   "source": [
    "df1 = df.groupby(['data_somministrazione', 'fascia_anagrafica'])['prima_dose'].sum().reset_index(level=1).fillna(0)"
   ]
  },
  {
   "cell_type": "code",
   "execution_count": 480,
   "metadata": {},
   "outputs": [],
   "source": [
    "df1 = df1.merge(daily, left_on='data_somministrazione', right_on='data_somministrazione', how='inner', \n",
    "        suffixes=['','_totale_giorno']).fillna(0)"
   ]
  },
  {
   "cell_type": "code",
   "execution_count": 481,
   "metadata": {},
   "outputs": [],
   "source": [
    "df1['perc_tot_somministrati'] = (df1.prima_dose/df1.prima_dose_totale_giorno).mul(100).round(2)"
   ]
  },
  {
   "cell_type": "code",
   "execution_count": 482,
   "metadata": {},
   "outputs": [],
   "source": [
    "df1_pivot = df1.pivot(columns='data_somministrazione',index='fascia_anagrafica',values='perc_tot_somministrati').sort_index(ascending=False)"
   ]
  },
  {
   "cell_type": "code",
   "execution_count": 491,
   "metadata": {},
   "outputs": [
    {
     "data": {
      "text/plain": [
       "(array([0.5, 1.5, 2.5, 3.5, 4.5, 5.5, 6.5, 7.5, 8.5]),\n",
       " <a list of 9 Text major ticklabel objects>)"
      ]
     },
     "execution_count": 491,
     "metadata": {},
     "output_type": "execute_result"
    },
    {
     "data": {
      "image/png": "[encoded data removed]",
      "text/plain": [
       "<Figure size 1080x576 with 1 Axes>"
      ]
     },
     "metadata": {},
     "output_type": "display_data"
    }
   ],
   "source": [
    "plt.figure(figsize=(15,8))\n",
    "sns.heatmap(df1_pivot, cmap=sns.light_palette(\"seagreen\", as_cmap=True)\n",
    ",annot=True, linecolor='black', linewidths=0.1, cbar=False)\n",
    "plt.ylabel('')\n",
    "plt.yticks(rotation=0)\n",
    "plt.suptitle('Percentuale ')"
   ]
  },
  {
   "cell_type": "markdown",
   "metadata": {},
   "source": [
    "# Analisi Popolazione\n",
    "Percentuale somministrazioni sul totale popolazione divisa per gruppi anagrafici"
   ]
  },
  {
   "cell_type": "code",
   "execution_count": null,
   "metadata": {},
   "outputs": [],
   "source": [
    "pd.read_html('https://www.tuttitalia.it/statistiche/popolazione-eta-sesso-stato-civile-2020/')[0]\n"
   ]
  },
  {
   "cell_type": "code",
   "execution_count": null,
   "metadata": {},
   "outputs": [],
   "source": [
    "pop = pd.read_html('https://it.wikipedia.org/wiki/Demografia_d%27Italia', thousands='.')[11]\n",
    "pop = pop[['Età', 'Totale']]\n",
    "pop.drop(index=101, axis=0, inplace=True)\n",
    "pop.Totale = pd.to_numeric(pop.Totale)\n",
    "pop.tail()"
   ]
  },
  {
   "cell_type": "code",
   "execution_count": null,
   "metadata": {},
   "outputs": [],
   "source": [
    "pop['Età'] = pd.to_numeric(pop['Età'].str.split(' ', expand=True)[0])"
   ]
  },
  {
   "cell_type": "code",
   "execution_count": null,
   "metadata": {},
   "outputs": [],
   "source": [
    "def ages(s):\n",
    "    if (s['Età'] >= 0 and s['Età'] < 16):\n",
    "        return '0-16'\n",
    "    elif (s['Età'] >= 16 and s['Età'] <= 19):\n",
    "        return '16-19'\n",
    "    elif (s['Età'] >= 20 and s['Età'] <= 29):\n",
    "        return '20-29'\n",
    "    elif (s['Età'] >= 30 and s['Età'] <= 39):\n",
    "        return '30-39'\n",
    "    elif (s['Età'] >= 40 and s['Età'] <= 49):\n",
    "        return '40-49'\n",
    "    elif (s['Età'] >= 50 and s['Età'] <= 59):\n",
    "        return '50-59'\n",
    "    elif (s['Età'] >= 60 and s['Età'] <= 69):\n",
    "        return '60-69'\n",
    "    elif (s['Età'] >= 70 and s['Età'] <= 79):\n",
    "        return '70-79'\n",
    "    elif (s['Età'] >= 80 and s['Età'] <= 89):\n",
    "        return '80-89'\n",
    "    elif s['Età'] >= 90:\n",
    "        return '90+'"
   ]
  },
  {
   "cell_type": "markdown",
   "metadata": {},
   "source": [
    "def regrouping(s):\n",
    "    if s['Età'] >= 0 | s['Età'] < 16:\n",
    "        return '0-16'\n",
    "    elif s['Età'] >= 16 | s['Età'] <= 19:\n",
    "        return '16-19'\n",
    "    elif s['Età'] >= 20 | s['Età'] <= 29:\n",
    "        return '20-29'\n",
    "    elif s['Età'] >= 30 | s['Età'] <= 39:\n",
    "        return '30-39'\n",
    "    elif s['Età'] >= 40 | s['Età'] <= 49:\n",
    "        return '40-49'\n",
    "    elif s['Età'] >= 50 | s['Età'] <= 59:\n",
    "        return '50-59'\n",
    "    elif s['Età'] >= 60 | s['Età'] <= 69:\n",
    "        return '60-69'\n",
    "    elif s['Età'] >= 70 | s['Età'] <= 79:\n",
    "        return '70-79'\n",
    "    elif s['Età'] >= 80 | s['Età'] <= 89:\n",
    "        return '80-89'\n",
    "    elif s['Età'] >= 90:\n",
    "        return '90+'"
   ]
  },
  {
   "cell_type": "code",
   "execution_count": null,
   "metadata": {},
   "outputs": [],
   "source": [
    "\n",
    "pop['gruppo'] = pop.apply(ages, axis=1)"
   ]
  },
  {
   "cell_type": "code",
   "execution_count": null,
   "metadata": {},
   "outputs": [],
   "source": [
    "pop"
   ]
  },
  {
   "cell_type": "code",
   "execution_count": null,
   "metadata": {},
   "outputs": [],
   "source": [
    "pop = pop.groupby('gruppo')['Totale'].sum().reset_index()\n",
    "pop.gruppo = pop.gruppo.astype(str)"
   ]
  },
  {
   "cell_type": "code",
   "execution_count": null,
   "metadata": {},
   "outputs": [],
   "source": [
    "pop"
   ]
  },
  {
   "cell_type": "code",
   "execution_count": null,
   "metadata": {},
   "outputs": [],
   "source": [
    "df1 = df1.merge(pop, left_on='fascia_anagrafica', right_on='gruppo', how='inner')\n",
    "df1.drop('gruppo', axis=1, inplace=True)\n",
    "df1.rename(columns={'Totale':'totale_fascia'}, inplace=True)\n",
    "df1.head()"
   ]
  },
  {
   "cell_type": "code",
   "execution_count": null,
   "metadata": {},
   "outputs": [],
   "source": [
    "df2 = (df1.groupby(['data_somministrazione','fascia_anagrafica'])['prima_dose']\n",
    " .sum().groupby(level=0).cumsum().reset_index()\n",
    ".merge(pop, left_on='fascia_anagrafica', right_on='gruppo')).drop(['gruppo'], axis=1)\n",
    "df2.tail()"
   ]
  },
  {
   "cell_type": "code",
   "execution_count": null,
   "metadata": {},
   "outputs": [],
   "source": [
    "df_last = df1.groupby('fascia_anagrafica')[['prima_dose','totale_fascia']].agg({'prima_dose':'sum','totale_fascia':'last'}).reset_index()"
   ]
  },
  {
   "cell_type": "code",
   "execution_count": null,
   "metadata": {},
   "outputs": [],
   "source": [
    "df_last['perc_vaccinata'] = (df_last.prima_dose/df_last.totale_fascia).mul(100).round(2)"
   ]
  },
  {
   "cell_type": "code",
   "execution_count": null,
   "metadata": {},
   "outputs": [],
   "source": [
    "df_last"
   ]
  },
  {
   "cell_type": "code",
   "execution_count": null,
   "metadata": {},
   "outputs": [],
   "source": [
    "sns.set_style('darkgrid')\n",
    "plt.figure(figsize=(14,7))\n",
    "sns.barplot(data=df_last, x='fascia_anagrafica',y='perc_vaccinata', color='#176AA5').set_title('Elaborazione: @TomZ_UK - Dati: ISS/ISTAT', fontsize=12)\n",
    "plt.ylabel('Percentuale', fontsize=16)\n",
    "plt.xlabel('Fascia Anagrafica', fontsize=16)\n",
    "plt.suptitle('Percentuale di Popolazione Vaccinata (Prima Dose)', fontsize=20)\n",
    "\n",
    "plt.savefig('Percentuale_Pop.png')"
   ]
  },
  {
   "cell_type": "code",
   "execution_count": null,
   "metadata": {},
   "outputs": [],
   "source": []
  }
 ],
 "metadata": {
  "kernelspec": {
   "display_name": "Python 3",
   "language": "python",
   "name": "python3"
  },
  "language_info": {
   "codemirror_mode": {
    "name": "ipython",
    "version": 3
   },
   "file_extension": ".py",
   "mimetype": "text/x-python",
   "name": "python",
   "nbconvert_exporter": "python",
   "pygments_lexer": "ipython3",
   "version": "3.7.6"
  }
 },
 "nbformat": 4,
 "nbformat_minor": 4
}
