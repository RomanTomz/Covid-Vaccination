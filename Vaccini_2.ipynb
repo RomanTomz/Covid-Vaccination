{
 "cells": [
  {
   "cell_type": "code",
   "execution_count": 252,
   "metadata": {},
   "outputs": [
    {
     "data": {
      "text/html": [
       "<style>.container { width:100% !important; }</style>"
      ],
      "text/plain": [
       "<IPython.core.display.HTML object>"
      ]
     },
     "metadata": {},
     "output_type": "display_data"
    }
   ],
   "source": [
    "from IPython.core.display import display, HTML\n",
    "display(HTML(\"<style>.container { width:100% !important; }</style>\"))"
   ]
  },
  {
   "cell_type": "code",
   "execution_count": 253,
   "metadata": {},
   "outputs": [],
   "source": [
    "import pandas as pd\n",
    "import numpy as np\n",
    "\n",
    "import seaborn as sns\n",
    "import matplotlib.pyplot as plt\n",
    "import plotly.express as px\n",
    "import plotly.graph_objects as go"
   ]
  },
  {
   "cell_type": "code",
   "execution_count": 254,
   "metadata": {},
   "outputs": [],
   "source": [
    "df = pd.read_csv('https://raw.githubusercontent.com/italia/covid19-opendata-vaccini/master/dati/somministrazioni-vaccini-latest.csv')\n",
    "df.data_somministrazione = pd.to_datetime(df.data_somministrazione)"
   ]
  },
  {
   "cell_type": "code",
   "execution_count": 255,
   "metadata": {},
   "outputs": [],
   "source": [
    "df.sort_values('data_somministrazione', inplace=True)"
   ]
  },
  {
   "cell_type": "code",
   "execution_count": 256,
   "metadata": {},
   "outputs": [
    {
     "data": {
      "text/html": [
       "<div>\n",
       "<style scoped>\n",
       "    .dataframe tbody tr th:only-of-type {\n",
       "        vertical-align: middle;\n",
       "    }\n",
       "\n",
       "    .dataframe tbody tr th {\n",
       "        vertical-align: top;\n",
       "    }\n",
       "\n",
       "    .dataframe thead th {\n",
       "        text-align: right;\n",
       "    }\n",
       "</style>\n",
       "<table border=\"1\" class=\"dataframe\">\n",
       "  <thead>\n",
       "    <tr style=\"text-align: right;\">\n",
       "      <th></th>\n",
       "      <th>data_somministrazione</th>\n",
       "      <th>fornitore</th>\n",
       "      <th>area</th>\n",
       "      <th>fascia_anagrafica</th>\n",
       "      <th>sesso_maschile</th>\n",
       "      <th>sesso_femminile</th>\n",
       "      <th>categoria_operatori_sanitari_sociosanitari</th>\n",
       "      <th>categoria_personale_non_sanitario</th>\n",
       "      <th>categoria_ospiti_rsa</th>\n",
       "      <th>categoria_over80</th>\n",
       "      <th>categoria_forze_armate</th>\n",
       "      <th>categoria_personale_scolastico</th>\n",
       "      <th>prima_dose</th>\n",
       "      <th>seconda_dose</th>\n",
       "      <th>codice_NUTS1</th>\n",
       "      <th>codice_NUTS2</th>\n",
       "      <th>codice_regione_ISTAT</th>\n",
       "      <th>nome_area</th>\n",
       "    </tr>\n",
       "  </thead>\n",
       "  <tbody>\n",
       "    <tr>\n",
       "      <th>0</th>\n",
       "      <td>2020-12-27</td>\n",
       "      <td>Pfizer/BioNTech</td>\n",
       "      <td>ABR</td>\n",
       "      <td>20-29</td>\n",
       "      <td>1</td>\n",
       "      <td>0</td>\n",
       "      <td>1</td>\n",
       "      <td>0</td>\n",
       "      <td>0</td>\n",
       "      <td>0</td>\n",
       "      <td>0</td>\n",
       "      <td>0</td>\n",
       "      <td>1</td>\n",
       "      <td>0</td>\n",
       "      <td>ITF</td>\n",
       "      <td>ITF1</td>\n",
       "      <td>13</td>\n",
       "      <td>Abruzzo</td>\n",
       "    </tr>\n",
       "    <tr>\n",
       "      <th>94</th>\n",
       "      <td>2020-12-27</td>\n",
       "      <td>Pfizer/BioNTech</td>\n",
       "      <td>PIE</td>\n",
       "      <td>70-79</td>\n",
       "      <td>9</td>\n",
       "      <td>10</td>\n",
       "      <td>1</td>\n",
       "      <td>0</td>\n",
       "      <td>18</td>\n",
       "      <td>0</td>\n",
       "      <td>0</td>\n",
       "      <td>0</td>\n",
       "      <td>19</td>\n",
       "      <td>0</td>\n",
       "      <td>ITC</td>\n",
       "      <td>ITC1</td>\n",
       "      <td>1</td>\n",
       "      <td>Piemonte</td>\n",
       "    </tr>\n",
       "    <tr>\n",
       "      <th>95</th>\n",
       "      <td>2020-12-27</td>\n",
       "      <td>Pfizer/BioNTech</td>\n",
       "      <td>PIE</td>\n",
       "      <td>80-89</td>\n",
       "      <td>5</td>\n",
       "      <td>19</td>\n",
       "      <td>0</td>\n",
       "      <td>0</td>\n",
       "      <td>24</td>\n",
       "      <td>0</td>\n",
       "      <td>0</td>\n",
       "      <td>0</td>\n",
       "      <td>24</td>\n",
       "      <td>0</td>\n",
       "      <td>ITC</td>\n",
       "      <td>ITC1</td>\n",
       "      <td>1</td>\n",
       "      <td>Piemonte</td>\n",
       "    </tr>\n",
       "    <tr>\n",
       "      <th>96</th>\n",
       "      <td>2020-12-27</td>\n",
       "      <td>Pfizer/BioNTech</td>\n",
       "      <td>PIE</td>\n",
       "      <td>90+</td>\n",
       "      <td>5</td>\n",
       "      <td>15</td>\n",
       "      <td>0</td>\n",
       "      <td>0</td>\n",
       "      <td>20</td>\n",
       "      <td>0</td>\n",
       "      <td>0</td>\n",
       "      <td>0</td>\n",
       "      <td>20</td>\n",
       "      <td>0</td>\n",
       "      <td>ITC</td>\n",
       "      <td>ITC1</td>\n",
       "      <td>1</td>\n",
       "      <td>Piemonte</td>\n",
       "    </tr>\n",
       "    <tr>\n",
       "      <th>97</th>\n",
       "      <td>2020-12-27</td>\n",
       "      <td>Pfizer/BioNTech</td>\n",
       "      <td>PUG</td>\n",
       "      <td>20-29</td>\n",
       "      <td>18</td>\n",
       "      <td>33</td>\n",
       "      <td>47</td>\n",
       "      <td>4</td>\n",
       "      <td>0</td>\n",
       "      <td>0</td>\n",
       "      <td>0</td>\n",
       "      <td>0</td>\n",
       "      <td>51</td>\n",
       "      <td>0</td>\n",
       "      <td>ITF</td>\n",
       "      <td>ITF4</td>\n",
       "      <td>16</td>\n",
       "      <td>Puglia</td>\n",
       "    </tr>\n",
       "  </tbody>\n",
       "</table>\n",
       "</div>"
      ],
      "text/plain": [
       "   data_somministrazione        fornitore area fascia_anagrafica  \\\n",
       "0             2020-12-27  Pfizer/BioNTech  ABR             20-29   \n",
       "94            2020-12-27  Pfizer/BioNTech  PIE             70-79   \n",
       "95            2020-12-27  Pfizer/BioNTech  PIE             80-89   \n",
       "96            2020-12-27  Pfizer/BioNTech  PIE               90+   \n",
       "97            2020-12-27  Pfizer/BioNTech  PUG             20-29   \n",
       "\n",
       "    sesso_maschile  sesso_femminile  \\\n",
       "0                1                0   \n",
       "94               9               10   \n",
       "95               5               19   \n",
       "96               5               15   \n",
       "97              18               33   \n",
       "\n",
       "    categoria_operatori_sanitari_sociosanitari  \\\n",
       "0                                            1   \n",
       "94                                           1   \n",
       "95                                           0   \n",
       "96                                           0   \n",
       "97                                          47   \n",
       "\n",
       "    categoria_personale_non_sanitario  categoria_ospiti_rsa  categoria_over80  \\\n",
       "0                                   0                     0                 0   \n",
       "94                                  0                    18                 0   \n",
       "95                                  0                    24                 0   \n",
       "96                                  0                    20                 0   \n",
       "97                                  4                     0                 0   \n",
       "\n",
       "    categoria_forze_armate  categoria_personale_scolastico  prima_dose  \\\n",
       "0                        0                               0           1   \n",
       "94                       0                               0          19   \n",
       "95                       0                               0          24   \n",
       "96                       0                               0          20   \n",
       "97                       0                               0          51   \n",
       "\n",
       "    seconda_dose codice_NUTS1 codice_NUTS2  codice_regione_ISTAT nome_area  \n",
       "0              0          ITF         ITF1                    13   Abruzzo  \n",
       "94             0          ITC         ITC1                     1  Piemonte  \n",
       "95             0          ITC         ITC1                     1  Piemonte  \n",
       "96             0          ITC         ITC1                     1  Piemonte  \n",
       "97             0          ITF         ITF4                    16    Puglia  "
      ]
     },
     "execution_count": 256,
     "metadata": {},
     "output_type": "execute_result"
    }
   ],
   "source": [
    "df.head()"
   ]
  },
  {
   "cell_type": "code",
   "execution_count": 257,
   "metadata": {},
   "outputs": [],
   "source": [
    "df = df[df['data_somministrazione']>='2021-01-01']"
   ]
  },
  {
   "cell_type": "code",
   "execution_count": 258,
   "metadata": {},
   "outputs": [],
   "source": [
    "#df.data_somministrazione = df.data_somministrazione.dt.strftime(\"%d-%m-%Y\")"
   ]
  },
  {
   "cell_type": "code",
   "execution_count": 259,
   "metadata": {},
   "outputs": [],
   "source": [
    "df['giorno_campagna'] = df.data_somministrazione.dt.dayofyear"
   ]
  },
  {
   "cell_type": "code",
   "execution_count": 260,
   "metadata": {},
   "outputs": [
    {
     "name": "stderr",
     "output_type": "stream",
     "text": [
      "/Users/admin/opt/anaconda3/lib/python3.7/site-packages/ipykernel_launcher.py:1: FutureWarning:\n",
      "\n",
      "Indexing with multiple keys (implicitly converted to a tuple of keys) will be deprecated, use a list instead.\n",
      "\n"
     ]
    },
    {
     "data": {
      "text/html": [
       "<div>\n",
       "<style scoped>\n",
       "    .dataframe tbody tr th:only-of-type {\n",
       "        vertical-align: middle;\n",
       "    }\n",
       "\n",
       "    .dataframe tbody tr th {\n",
       "        vertical-align: top;\n",
       "    }\n",
       "\n",
       "    .dataframe thead th {\n",
       "        text-align: right;\n",
       "    }\n",
       "</style>\n",
       "<table border=\"1\" class=\"dataframe\">\n",
       "  <thead>\n",
       "    <tr style=\"text-align: right;\">\n",
       "      <th>data_somministrazione</th>\n",
       "      <th>2021-01-01</th>\n",
       "      <th>2021-01-02</th>\n",
       "      <th>2021-01-03</th>\n",
       "      <th>2021-01-04</th>\n",
       "      <th>2021-01-05</th>\n",
       "      <th>2021-01-06</th>\n",
       "      <th>2021-01-07</th>\n",
       "      <th>2021-01-08</th>\n",
       "      <th>2021-01-09</th>\n",
       "      <th>2021-01-10</th>\n",
       "      <th>...</th>\n",
       "      <th>2021-02-23</th>\n",
       "      <th>2021-02-24</th>\n",
       "      <th>2021-02-25</th>\n",
       "      <th>2021-02-26</th>\n",
       "      <th>2021-02-27</th>\n",
       "      <th>2021-02-28</th>\n",
       "      <th>2021-03-01</th>\n",
       "      <th>2021-03-02</th>\n",
       "      <th>2021-03-03</th>\n",
       "      <th>2021-03-04</th>\n",
       "    </tr>\n",
       "    <tr>\n",
       "      <th>fascia_anagrafica</th>\n",
       "      <th></th>\n",
       "      <th></th>\n",
       "      <th></th>\n",
       "      <th></th>\n",
       "      <th></th>\n",
       "      <th></th>\n",
       "      <th></th>\n",
       "      <th></th>\n",
       "      <th></th>\n",
       "      <th></th>\n",
       "      <th></th>\n",
       "      <th></th>\n",
       "      <th></th>\n",
       "      <th></th>\n",
       "      <th></th>\n",
       "      <th></th>\n",
       "      <th></th>\n",
       "      <th></th>\n",
       "      <th></th>\n",
       "      <th></th>\n",
       "      <th></th>\n",
       "    </tr>\n",
       "  </thead>\n",
       "  <tbody>\n",
       "    <tr>\n",
       "      <th>16-19</th>\n",
       "      <td>2.0</td>\n",
       "      <td>19.0</td>\n",
       "      <td>0.0</td>\n",
       "      <td>12.0</td>\n",
       "      <td>22.0</td>\n",
       "      <td>38.0</td>\n",
       "      <td>31.0</td>\n",
       "      <td>43.0</td>\n",
       "      <td>77.0</td>\n",
       "      <td>144.0</td>\n",
       "      <td>...</td>\n",
       "      <td>80.0</td>\n",
       "      <td>86.0</td>\n",
       "      <td>85.0</td>\n",
       "      <td>106.0</td>\n",
       "      <td>76.0</td>\n",
       "      <td>35.0</td>\n",
       "      <td>67.0</td>\n",
       "      <td>68.0</td>\n",
       "      <td>89.0</td>\n",
       "      <td>36.0</td>\n",
       "    </tr>\n",
       "    <tr>\n",
       "      <th>20-29</th>\n",
       "      <td>924.0</td>\n",
       "      <td>3513.0</td>\n",
       "      <td>3466.0</td>\n",
       "      <td>5930.0</td>\n",
       "      <td>6801.0</td>\n",
       "      <td>6580.0</td>\n",
       "      <td>7693.0</td>\n",
       "      <td>9015.0</td>\n",
       "      <td>8884.0</td>\n",
       "      <td>7460.0</td>\n",
       "      <td>...</td>\n",
       "      <td>5326.0</td>\n",
       "      <td>4964.0</td>\n",
       "      <td>4661.0</td>\n",
       "      <td>4944.0</td>\n",
       "      <td>4083.0</td>\n",
       "      <td>2614.0</td>\n",
       "      <td>4104.0</td>\n",
       "      <td>4807.0</td>\n",
       "      <td>4662.0</td>\n",
       "      <td>3315.0</td>\n",
       "    </tr>\n",
       "    <tr>\n",
       "      <th>30-39</th>\n",
       "      <td>1967.0</td>\n",
       "      <td>6934.0</td>\n",
       "      <td>6131.0</td>\n",
       "      <td>12099.0</td>\n",
       "      <td>13668.0</td>\n",
       "      <td>11285.0</td>\n",
       "      <td>15090.0</td>\n",
       "      <td>15401.0</td>\n",
       "      <td>13543.0</td>\n",
       "      <td>9938.0</td>\n",
       "      <td>...</td>\n",
       "      <td>7951.0</td>\n",
       "      <td>7939.0</td>\n",
       "      <td>7549.0</td>\n",
       "      <td>8728.0</td>\n",
       "      <td>8022.0</td>\n",
       "      <td>4516.0</td>\n",
       "      <td>6843.0</td>\n",
       "      <td>8725.0</td>\n",
       "      <td>8621.0</td>\n",
       "      <td>5578.0</td>\n",
       "    </tr>\n",
       "    <tr>\n",
       "      <th>40-49</th>\n",
       "      <td>2441.0</td>\n",
       "      <td>8464.0</td>\n",
       "      <td>7780.0</td>\n",
       "      <td>14575.0</td>\n",
       "      <td>16660.0</td>\n",
       "      <td>12858.0</td>\n",
       "      <td>19017.0</td>\n",
       "      <td>19571.0</td>\n",
       "      <td>16446.0</td>\n",
       "      <td>11470.0</td>\n",
       "      <td>...</td>\n",
       "      <td>13006.0</td>\n",
       "      <td>12843.0</td>\n",
       "      <td>12409.0</td>\n",
       "      <td>13992.0</td>\n",
       "      <td>14153.0</td>\n",
       "      <td>7676.0</td>\n",
       "      <td>12433.0</td>\n",
       "      <td>14722.0</td>\n",
       "      <td>14631.0</td>\n",
       "      <td>9365.0</td>\n",
       "    </tr>\n",
       "    <tr>\n",
       "      <th>50-59</th>\n",
       "      <td>3216.0</td>\n",
       "      <td>10834.0</td>\n",
       "      <td>10100.0</td>\n",
       "      <td>19950.0</td>\n",
       "      <td>22956.0</td>\n",
       "      <td>17826.0</td>\n",
       "      <td>26405.0</td>\n",
       "      <td>26857.0</td>\n",
       "      <td>22495.0</td>\n",
       "      <td>15278.0</td>\n",
       "      <td>...</td>\n",
       "      <td>12915.0</td>\n",
       "      <td>13468.0</td>\n",
       "      <td>14840.0</td>\n",
       "      <td>18687.0</td>\n",
       "      <td>19362.0</td>\n",
       "      <td>11067.0</td>\n",
       "      <td>17198.0</td>\n",
       "      <td>22238.0</td>\n",
       "      <td>21928.0</td>\n",
       "      <td>14315.0</td>\n",
       "    </tr>\n",
       "    <tr>\n",
       "      <th>60-69</th>\n",
       "      <td>1698.0</td>\n",
       "      <td>6577.0</td>\n",
       "      <td>5976.0</td>\n",
       "      <td>11971.0</td>\n",
       "      <td>14135.0</td>\n",
       "      <td>11874.0</td>\n",
       "      <td>15511.0</td>\n",
       "      <td>16060.0</td>\n",
       "      <td>16962.0</td>\n",
       "      <td>10685.0</td>\n",
       "      <td>...</td>\n",
       "      <td>3489.0</td>\n",
       "      <td>4794.0</td>\n",
       "      <td>6546.0</td>\n",
       "      <td>8489.0</td>\n",
       "      <td>9405.0</td>\n",
       "      <td>7051.0</td>\n",
       "      <td>8487.0</td>\n",
       "      <td>12746.0</td>\n",
       "      <td>13319.0</td>\n",
       "      <td>8138.0</td>\n",
       "    </tr>\n",
       "    <tr>\n",
       "      <th>70-79</th>\n",
       "      <td>184.0</td>\n",
       "      <td>597.0</td>\n",
       "      <td>533.0</td>\n",
       "      <td>1112.0</td>\n",
       "      <td>1568.0</td>\n",
       "      <td>1698.0</td>\n",
       "      <td>2308.0</td>\n",
       "      <td>2665.0</td>\n",
       "      <td>3045.0</td>\n",
       "      <td>2223.0</td>\n",
       "      <td>...</td>\n",
       "      <td>1769.0</td>\n",
       "      <td>1795.0</td>\n",
       "      <td>1530.0</td>\n",
       "      <td>1513.0</td>\n",
       "      <td>1500.0</td>\n",
       "      <td>835.0</td>\n",
       "      <td>1506.0</td>\n",
       "      <td>1525.0</td>\n",
       "      <td>2889.0</td>\n",
       "      <td>2491.0</td>\n",
       "    </tr>\n",
       "    <tr>\n",
       "      <th>80-89</th>\n",
       "      <td>281.0</td>\n",
       "      <td>802.0</td>\n",
       "      <td>597.0</td>\n",
       "      <td>1440.0</td>\n",
       "      <td>1858.0</td>\n",
       "      <td>1534.0</td>\n",
       "      <td>3063.0</td>\n",
       "      <td>3064.0</td>\n",
       "      <td>2929.0</td>\n",
       "      <td>1740.0</td>\n",
       "      <td>...</td>\n",
       "      <td>44259.0</td>\n",
       "      <td>49959.0</td>\n",
       "      <td>52660.0</td>\n",
       "      <td>50169.0</td>\n",
       "      <td>45518.0</td>\n",
       "      <td>28535.0</td>\n",
       "      <td>45823.0</td>\n",
       "      <td>47344.0</td>\n",
       "      <td>50286.0</td>\n",
       "      <td>36125.0</td>\n",
       "    </tr>\n",
       "    <tr>\n",
       "      <th>90+</th>\n",
       "      <td>325.0</td>\n",
       "      <td>750.0</td>\n",
       "      <td>532.0</td>\n",
       "      <td>1328.0</td>\n",
       "      <td>1802.0</td>\n",
       "      <td>1424.0</td>\n",
       "      <td>2780.0</td>\n",
       "      <td>2696.0</td>\n",
       "      <td>2433.0</td>\n",
       "      <td>1373.0</td>\n",
       "      <td>...</td>\n",
       "      <td>10585.0</td>\n",
       "      <td>14772.0</td>\n",
       "      <td>12503.0</td>\n",
       "      <td>10835.0</td>\n",
       "      <td>9950.0</td>\n",
       "      <td>6344.0</td>\n",
       "      <td>8969.0</td>\n",
       "      <td>10189.0</td>\n",
       "      <td>15555.0</td>\n",
       "      <td>11301.0</td>\n",
       "    </tr>\n",
       "  </tbody>\n",
       "</table>\n",
       "<p>9 rows × 63 columns</p>\n",
       "</div>"
      ],
      "text/plain": [
       "data_somministrazione  2021-01-01  2021-01-02  2021-01-03  2021-01-04  \\\n",
       "fascia_anagrafica                                                       \n",
       "16-19                         2.0        19.0         0.0        12.0   \n",
       "20-29                       924.0      3513.0      3466.0      5930.0   \n",
       "30-39                      1967.0      6934.0      6131.0     12099.0   \n",
       "40-49                      2441.0      8464.0      7780.0     14575.0   \n",
       "50-59                      3216.0     10834.0     10100.0     19950.0   \n",
       "60-69                      1698.0      6577.0      5976.0     11971.0   \n",
       "70-79                       184.0       597.0       533.0      1112.0   \n",
       "80-89                       281.0       802.0       597.0      1440.0   \n",
       "90+                         325.0       750.0       532.0      1328.0   \n",
       "\n",
       "data_somministrazione  2021-01-05  2021-01-06  2021-01-07  2021-01-08  \\\n",
       "fascia_anagrafica                                                       \n",
       "16-19                        22.0        38.0        31.0        43.0   \n",
       "20-29                      6801.0      6580.0      7693.0      9015.0   \n",
       "30-39                     13668.0     11285.0     15090.0     15401.0   \n",
       "40-49                     16660.0     12858.0     19017.0     19571.0   \n",
       "50-59                     22956.0     17826.0     26405.0     26857.0   \n",
       "60-69                     14135.0     11874.0     15511.0     16060.0   \n",
       "70-79                      1568.0      1698.0      2308.0      2665.0   \n",
       "80-89                      1858.0      1534.0      3063.0      3064.0   \n",
       "90+                        1802.0      1424.0      2780.0      2696.0   \n",
       "\n",
       "data_somministrazione  2021-01-09  2021-01-10  ...  2021-02-23  2021-02-24  \\\n",
       "fascia_anagrafica                              ...                           \n",
       "16-19                        77.0       144.0  ...        80.0        86.0   \n",
       "20-29                      8884.0      7460.0  ...      5326.0      4964.0   \n",
       "30-39                     13543.0      9938.0  ...      7951.0      7939.0   \n",
       "40-49                     16446.0     11470.0  ...     13006.0     12843.0   \n",
       "50-59                     22495.0     15278.0  ...     12915.0     13468.0   \n",
       "60-69                     16962.0     10685.0  ...      3489.0      4794.0   \n",
       "70-79                      3045.0      2223.0  ...      1769.0      1795.0   \n",
       "80-89                      2929.0      1740.0  ...     44259.0     49959.0   \n",
       "90+                        2433.0      1373.0  ...     10585.0     14772.0   \n",
       "\n",
       "data_somministrazione  2021-02-25  2021-02-26  2021-02-27  2021-02-28  \\\n",
       "fascia_anagrafica                                                       \n",
       "16-19                        85.0       106.0        76.0        35.0   \n",
       "20-29                      4661.0      4944.0      4083.0      2614.0   \n",
       "30-39                      7549.0      8728.0      8022.0      4516.0   \n",
       "40-49                     12409.0     13992.0     14153.0      7676.0   \n",
       "50-59                     14840.0     18687.0     19362.0     11067.0   \n",
       "60-69                      6546.0      8489.0      9405.0      7051.0   \n",
       "70-79                      1530.0      1513.0      1500.0       835.0   \n",
       "80-89                     52660.0     50169.0     45518.0     28535.0   \n",
       "90+                       12503.0     10835.0      9950.0      6344.0   \n",
       "\n",
       "data_somministrazione  2021-03-01  2021-03-02  2021-03-03  2021-03-04  \n",
       "fascia_anagrafica                                                      \n",
       "16-19                        67.0        68.0        89.0        36.0  \n",
       "20-29                      4104.0      4807.0      4662.0      3315.0  \n",
       "30-39                      6843.0      8725.0      8621.0      5578.0  \n",
       "40-49                     12433.0     14722.0     14631.0      9365.0  \n",
       "50-59                     17198.0     22238.0     21928.0     14315.0  \n",
       "60-69                      8487.0     12746.0     13319.0      8138.0  \n",
       "70-79                      1506.0      1525.0      2889.0      2491.0  \n",
       "80-89                     45823.0     47344.0     50286.0     36125.0  \n",
       "90+                        8969.0     10189.0     15555.0     11301.0  \n",
       "\n",
       "[9 rows x 63 columns]"
      ]
     },
     "execution_count": 260,
     "metadata": {},
     "output_type": "execute_result"
    }
   ],
   "source": [
    "df_pivot = (df.groupby(['data_somministrazione','fascia_anagrafica'])['prima_dose','seconda_dose'].sum().reset_index(level=0).\n",
    " pivot(columns='data_somministrazione', values='prima_dose').fillna(0))\n",
    "df_pivot"
   ]
  },
  {
   "cell_type": "code",
   "execution_count": 261,
   "metadata": {},
   "outputs": [
    {
     "data": {
      "text/plain": [
       "<matplotlib.axes._subplots.AxesSubplot at 0x7fb43faaf490>"
      ]
     },
     "execution_count": 261,
     "metadata": {},
     "output_type": "execute_result"
    },
    {
     "data": {
      "image/png": "[encoded data removed]",
      "text/plain": [
       "<Figure size 1080x576 with 2 Axes>"
      ]
     },
     "metadata": {},
     "output_type": "display_data"
    }
   ],
   "source": [
    "\n",
    "plt.figure(figsize=(15,8))\n",
    "sns.heatmap(df_pivot, cmap='coolwarm', linecolor='white', linewidths=0.1)"
   ]
  },
  {
   "cell_type": "code",
   "execution_count": 262,
   "metadata": {},
   "outputs": [],
   "source": [
    "daily = df.groupby('data_somministrazione')['prima_dose'].sum().reset_index()\n",
    "df = df.merge(daily, left_on='data_somministrazione', right_on='data_somministrazione', how='inner', \n",
    "        suffixes=['','_totale_giorno'])"
   ]
  },
  {
   "cell_type": "markdown",
   "metadata": {},
   "source": [
    "I need to groupby before calculating percentage as they are labelled by region as well"
   ]
  },
  {
   "cell_type": "code",
   "execution_count": 263,
   "metadata": {},
   "outputs": [],
   "source": [
    "df1 = df.groupby(['data_somministrazione', 'fascia_anagrafica'])['prima_dose'].sum().reset_index(level=1).fillna(0)"
   ]
  },
  {
   "cell_type": "code",
   "execution_count": 264,
   "metadata": {},
   "outputs": [],
   "source": [
    "df1 = df1.merge(daily, left_on='data_somministrazione', right_on='data_somministrazione', how='inner', \n",
    "        suffixes=['','_totale_giorno']).fillna(0)"
   ]
  },
  {
   "cell_type": "code",
   "execution_count": 265,
   "metadata": {},
   "outputs": [],
   "source": [
    "df1['perc_tot_somministrati'] = (df1.prima_dose/df1.prima_dose_totale_giorno).mul(100).round(0)"
   ]
  },
  {
   "cell_type": "code",
   "execution_count": 266,
   "metadata": {},
   "outputs": [],
   "source": [
    "#df1.data_somministrazione = df1.data_somministrazione.dt.strftime(\"%d-%m-%Y\")\n",
    "df1_pivot = df1.pivot(columns='data_somministrazione',index='fascia_anagrafica',values='perc_tot_somministrati').sort_index(ascending=False)"
   ]
  },
  {
   "cell_type": "code",
   "execution_count": 267,
   "metadata": {},
   "outputs": [
    {
     "data": {
      "text/html": [
       "<div>\n",
       "<style scoped>\n",
       "    .dataframe tbody tr th:only-of-type {\n",
       "        vertical-align: middle;\n",
       "    }\n",
       "\n",
       "    .dataframe tbody tr th {\n",
       "        vertical-align: top;\n",
       "    }\n",
       "\n",
       "    .dataframe thead th {\n",
       "        text-align: right;\n",
       "    }\n",
       "</style>\n",
       "<table border=\"1\" class=\"dataframe\">\n",
       "  <thead>\n",
       "    <tr style=\"text-align: right;\">\n",
       "      <th>data_somministrazione</th>\n",
       "      <th>2021-01-01</th>\n",
       "      <th>2021-01-02</th>\n",
       "      <th>2021-01-03</th>\n",
       "      <th>2021-01-04</th>\n",
       "      <th>2021-01-05</th>\n",
       "      <th>2021-01-06</th>\n",
       "      <th>2021-01-07</th>\n",
       "      <th>2021-01-08</th>\n",
       "      <th>2021-01-09</th>\n",
       "      <th>2021-01-10</th>\n",
       "      <th>...</th>\n",
       "      <th>2021-02-23</th>\n",
       "      <th>2021-02-24</th>\n",
       "      <th>2021-02-25</th>\n",
       "      <th>2021-02-26</th>\n",
       "      <th>2021-02-27</th>\n",
       "      <th>2021-02-28</th>\n",
       "      <th>2021-03-01</th>\n",
       "      <th>2021-03-02</th>\n",
       "      <th>2021-03-03</th>\n",
       "      <th>2021-03-04</th>\n",
       "    </tr>\n",
       "    <tr>\n",
       "      <th>fascia_anagrafica</th>\n",
       "      <th></th>\n",
       "      <th></th>\n",
       "      <th></th>\n",
       "      <th></th>\n",
       "      <th></th>\n",
       "      <th></th>\n",
       "      <th></th>\n",
       "      <th></th>\n",
       "      <th></th>\n",
       "      <th></th>\n",
       "      <th></th>\n",
       "      <th></th>\n",
       "      <th></th>\n",
       "      <th></th>\n",
       "      <th></th>\n",
       "      <th></th>\n",
       "      <th></th>\n",
       "      <th></th>\n",
       "      <th></th>\n",
       "      <th></th>\n",
       "      <th></th>\n",
       "    </tr>\n",
       "  </thead>\n",
       "  <tbody>\n",
       "    <tr>\n",
       "      <th>16-19</th>\n",
       "      <td>2.0</td>\n",
       "      <td>19.0</td>\n",
       "      <td>0.0</td>\n",
       "      <td>12.0</td>\n",
       "      <td>22.0</td>\n",
       "      <td>38.0</td>\n",
       "      <td>31.0</td>\n",
       "      <td>43.0</td>\n",
       "      <td>77.0</td>\n",
       "      <td>144.0</td>\n",
       "      <td>...</td>\n",
       "      <td>80.0</td>\n",
       "      <td>86.0</td>\n",
       "      <td>85.0</td>\n",
       "      <td>106.0</td>\n",
       "      <td>76.0</td>\n",
       "      <td>35.0</td>\n",
       "      <td>67.0</td>\n",
       "      <td>68.0</td>\n",
       "      <td>89.0</td>\n",
       "      <td>36.0</td>\n",
       "    </tr>\n",
       "    <tr>\n",
       "      <th>20-29</th>\n",
       "      <td>924.0</td>\n",
       "      <td>3513.0</td>\n",
       "      <td>3466.0</td>\n",
       "      <td>5930.0</td>\n",
       "      <td>6801.0</td>\n",
       "      <td>6580.0</td>\n",
       "      <td>7693.0</td>\n",
       "      <td>9015.0</td>\n",
       "      <td>8884.0</td>\n",
       "      <td>7460.0</td>\n",
       "      <td>...</td>\n",
       "      <td>5326.0</td>\n",
       "      <td>4964.0</td>\n",
       "      <td>4661.0</td>\n",
       "      <td>4944.0</td>\n",
       "      <td>4083.0</td>\n",
       "      <td>2614.0</td>\n",
       "      <td>4104.0</td>\n",
       "      <td>4807.0</td>\n",
       "      <td>4662.0</td>\n",
       "      <td>3315.0</td>\n",
       "    </tr>\n",
       "    <tr>\n",
       "      <th>30-39</th>\n",
       "      <td>1967.0</td>\n",
       "      <td>6934.0</td>\n",
       "      <td>6131.0</td>\n",
       "      <td>12099.0</td>\n",
       "      <td>13668.0</td>\n",
       "      <td>11285.0</td>\n",
       "      <td>15090.0</td>\n",
       "      <td>15401.0</td>\n",
       "      <td>13543.0</td>\n",
       "      <td>9938.0</td>\n",
       "      <td>...</td>\n",
       "      <td>7951.0</td>\n",
       "      <td>7939.0</td>\n",
       "      <td>7549.0</td>\n",
       "      <td>8728.0</td>\n",
       "      <td>8022.0</td>\n",
       "      <td>4516.0</td>\n",
       "      <td>6843.0</td>\n",
       "      <td>8725.0</td>\n",
       "      <td>8621.0</td>\n",
       "      <td>5578.0</td>\n",
       "    </tr>\n",
       "    <tr>\n",
       "      <th>40-49</th>\n",
       "      <td>2441.0</td>\n",
       "      <td>8464.0</td>\n",
       "      <td>7780.0</td>\n",
       "      <td>14575.0</td>\n",
       "      <td>16660.0</td>\n",
       "      <td>12858.0</td>\n",
       "      <td>19017.0</td>\n",
       "      <td>19571.0</td>\n",
       "      <td>16446.0</td>\n",
       "      <td>11470.0</td>\n",
       "      <td>...</td>\n",
       "      <td>13006.0</td>\n",
       "      <td>12843.0</td>\n",
       "      <td>12409.0</td>\n",
       "      <td>13992.0</td>\n",
       "      <td>14153.0</td>\n",
       "      <td>7676.0</td>\n",
       "      <td>12433.0</td>\n",
       "      <td>14722.0</td>\n",
       "      <td>14631.0</td>\n",
       "      <td>9365.0</td>\n",
       "    </tr>\n",
       "    <tr>\n",
       "      <th>50-59</th>\n",
       "      <td>3216.0</td>\n",
       "      <td>10834.0</td>\n",
       "      <td>10100.0</td>\n",
       "      <td>19950.0</td>\n",
       "      <td>22956.0</td>\n",
       "      <td>17826.0</td>\n",
       "      <td>26405.0</td>\n",
       "      <td>26857.0</td>\n",
       "      <td>22495.0</td>\n",
       "      <td>15278.0</td>\n",
       "      <td>...</td>\n",
       "      <td>12915.0</td>\n",
       "      <td>13468.0</td>\n",
       "      <td>14840.0</td>\n",
       "      <td>18687.0</td>\n",
       "      <td>19362.0</td>\n",
       "      <td>11067.0</td>\n",
       "      <td>17198.0</td>\n",
       "      <td>22238.0</td>\n",
       "      <td>21928.0</td>\n",
       "      <td>14315.0</td>\n",
       "    </tr>\n",
       "    <tr>\n",
       "      <th>60-69</th>\n",
       "      <td>1698.0</td>\n",
       "      <td>6577.0</td>\n",
       "      <td>5976.0</td>\n",
       "      <td>11971.0</td>\n",
       "      <td>14135.0</td>\n",
       "      <td>11874.0</td>\n",
       "      <td>15511.0</td>\n",
       "      <td>16060.0</td>\n",
       "      <td>16962.0</td>\n",
       "      <td>10685.0</td>\n",
       "      <td>...</td>\n",
       "      <td>3489.0</td>\n",
       "      <td>4794.0</td>\n",
       "      <td>6546.0</td>\n",
       "      <td>8489.0</td>\n",
       "      <td>9405.0</td>\n",
       "      <td>7051.0</td>\n",
       "      <td>8487.0</td>\n",
       "      <td>12746.0</td>\n",
       "      <td>13319.0</td>\n",
       "      <td>8138.0</td>\n",
       "    </tr>\n",
       "    <tr>\n",
       "      <th>70-79</th>\n",
       "      <td>184.0</td>\n",
       "      <td>597.0</td>\n",
       "      <td>533.0</td>\n",
       "      <td>1112.0</td>\n",
       "      <td>1568.0</td>\n",
       "      <td>1698.0</td>\n",
       "      <td>2308.0</td>\n",
       "      <td>2665.0</td>\n",
       "      <td>3045.0</td>\n",
       "      <td>2223.0</td>\n",
       "      <td>...</td>\n",
       "      <td>1769.0</td>\n",
       "      <td>1795.0</td>\n",
       "      <td>1530.0</td>\n",
       "      <td>1513.0</td>\n",
       "      <td>1500.0</td>\n",
       "      <td>835.0</td>\n",
       "      <td>1506.0</td>\n",
       "      <td>1525.0</td>\n",
       "      <td>2889.0</td>\n",
       "      <td>2491.0</td>\n",
       "    </tr>\n",
       "    <tr>\n",
       "      <th>80-89</th>\n",
       "      <td>281.0</td>\n",
       "      <td>802.0</td>\n",
       "      <td>597.0</td>\n",
       "      <td>1440.0</td>\n",
       "      <td>1858.0</td>\n",
       "      <td>1534.0</td>\n",
       "      <td>3063.0</td>\n",
       "      <td>3064.0</td>\n",
       "      <td>2929.0</td>\n",
       "      <td>1740.0</td>\n",
       "      <td>...</td>\n",
       "      <td>44259.0</td>\n",
       "      <td>49959.0</td>\n",
       "      <td>52660.0</td>\n",
       "      <td>50169.0</td>\n",
       "      <td>45518.0</td>\n",
       "      <td>28535.0</td>\n",
       "      <td>45823.0</td>\n",
       "      <td>47344.0</td>\n",
       "      <td>50286.0</td>\n",
       "      <td>36125.0</td>\n",
       "    </tr>\n",
       "    <tr>\n",
       "      <th>90+</th>\n",
       "      <td>325.0</td>\n",
       "      <td>750.0</td>\n",
       "      <td>532.0</td>\n",
       "      <td>1328.0</td>\n",
       "      <td>1802.0</td>\n",
       "      <td>1424.0</td>\n",
       "      <td>2780.0</td>\n",
       "      <td>2696.0</td>\n",
       "      <td>2433.0</td>\n",
       "      <td>1373.0</td>\n",
       "      <td>...</td>\n",
       "      <td>10585.0</td>\n",
       "      <td>14772.0</td>\n",
       "      <td>12503.0</td>\n",
       "      <td>10835.0</td>\n",
       "      <td>9950.0</td>\n",
       "      <td>6344.0</td>\n",
       "      <td>8969.0</td>\n",
       "      <td>10189.0</td>\n",
       "      <td>15555.0</td>\n",
       "      <td>11301.0</td>\n",
       "    </tr>\n",
       "  </tbody>\n",
       "</table>\n",
       "<p>9 rows × 63 columns</p>\n",
       "</div>"
      ],
      "text/plain": [
       "data_somministrazione  2021-01-01  2021-01-02  2021-01-03  2021-01-04  \\\n",
       "fascia_anagrafica                                                       \n",
       "16-19                         2.0        19.0         0.0        12.0   \n",
       "20-29                       924.0      3513.0      3466.0      5930.0   \n",
       "30-39                      1967.0      6934.0      6131.0     12099.0   \n",
       "40-49                      2441.0      8464.0      7780.0     14575.0   \n",
       "50-59                      3216.0     10834.0     10100.0     19950.0   \n",
       "60-69                      1698.0      6577.0      5976.0     11971.0   \n",
       "70-79                       184.0       597.0       533.0      1112.0   \n",
       "80-89                       281.0       802.0       597.0      1440.0   \n",
       "90+                         325.0       750.0       532.0      1328.0   \n",
       "\n",
       "data_somministrazione  2021-01-05  2021-01-06  2021-01-07  2021-01-08  \\\n",
       "fascia_anagrafica                                                       \n",
       "16-19                        22.0        38.0        31.0        43.0   \n",
       "20-29                      6801.0      6580.0      7693.0      9015.0   \n",
       "30-39                     13668.0     11285.0     15090.0     15401.0   \n",
       "40-49                     16660.0     12858.0     19017.0     19571.0   \n",
       "50-59                     22956.0     17826.0     26405.0     26857.0   \n",
       "60-69                     14135.0     11874.0     15511.0     16060.0   \n",
       "70-79                      1568.0      1698.0      2308.0      2665.0   \n",
       "80-89                      1858.0      1534.0      3063.0      3064.0   \n",
       "90+                        1802.0      1424.0      2780.0      2696.0   \n",
       "\n",
       "data_somministrazione  2021-01-09  2021-01-10  ...  2021-02-23  2021-02-24  \\\n",
       "fascia_anagrafica                              ...                           \n",
       "16-19                        77.0       144.0  ...        80.0        86.0   \n",
       "20-29                      8884.0      7460.0  ...      5326.0      4964.0   \n",
       "30-39                     13543.0      9938.0  ...      7951.0      7939.0   \n",
       "40-49                     16446.0     11470.0  ...     13006.0     12843.0   \n",
       "50-59                     22495.0     15278.0  ...     12915.0     13468.0   \n",
       "60-69                     16962.0     10685.0  ...      3489.0      4794.0   \n",
       "70-79                      3045.0      2223.0  ...      1769.0      1795.0   \n",
       "80-89                      2929.0      1740.0  ...     44259.0     49959.0   \n",
       "90+                        2433.0      1373.0  ...     10585.0     14772.0   \n",
       "\n",
       "data_somministrazione  2021-02-25  2021-02-26  2021-02-27  2021-02-28  \\\n",
       "fascia_anagrafica                                                       \n",
       "16-19                        85.0       106.0        76.0        35.0   \n",
       "20-29                      4661.0      4944.0      4083.0      2614.0   \n",
       "30-39                      7549.0      8728.0      8022.0      4516.0   \n",
       "40-49                     12409.0     13992.0     14153.0      7676.0   \n",
       "50-59                     14840.0     18687.0     19362.0     11067.0   \n",
       "60-69                      6546.0      8489.0      9405.0      7051.0   \n",
       "70-79                      1530.0      1513.0      1500.0       835.0   \n",
       "80-89                     52660.0     50169.0     45518.0     28535.0   \n",
       "90+                       12503.0     10835.0      9950.0      6344.0   \n",
       "\n",
       "data_somministrazione  2021-03-01  2021-03-02  2021-03-03  2021-03-04  \n",
       "fascia_anagrafica                                                      \n",
       "16-19                        67.0        68.0        89.0        36.0  \n",
       "20-29                      4104.0      4807.0      4662.0      3315.0  \n",
       "30-39                      6843.0      8725.0      8621.0      5578.0  \n",
       "40-49                     12433.0     14722.0     14631.0      9365.0  \n",
       "50-59                     17198.0     22238.0     21928.0     14315.0  \n",
       "60-69                      8487.0     12746.0     13319.0      8138.0  \n",
       "70-79                      1506.0      1525.0      2889.0      2491.0  \n",
       "80-89                     45823.0     47344.0     50286.0     36125.0  \n",
       "90+                        8969.0     10189.0     15555.0     11301.0  \n",
       "\n",
       "[9 rows x 63 columns]"
      ]
     },
     "execution_count": 267,
     "metadata": {},
     "output_type": "execute_result"
    }
   ],
   "source": [
    "df_pivot"
   ]
  },
  {
   "cell_type": "code",
   "execution_count": 268,
   "metadata": {},
   "outputs": [
    {
     "data": {
      "image/png": "[encoded data removed]",
      "text/plain": [
       "<Figure size 1080x576 with 1 Axes>"
      ]
     },
     "metadata": {},
     "output_type": "display_data"
    }
   ],
   "source": [
    "plt.figure(figsize=(15,8))\n",
    "ax = sns.heatmap(df1_pivot, cmap='Blues'\n",
    ",annot=True, linecolor='black', linewidths=0.01, cbar=False, fmt='g')\n",
    "ax.set_xticklabels(df1.data_somministrazione.dt.date)\n",
    "plt.ylabel('')\n",
    "plt.yticks(rotation=0, )\n",
    "plt.suptitle('Percentuale Somministrata sul Totale Giornaliero', fontsize=20)\n",
    "plt.title('Elaborazione: @TomZ_UK - Dati: ISS')\n",
    "\n",
    "plt.savefig('percentuale_totale_HM.png')"
   ]
  },
  {
   "cell_type": "markdown",
   "metadata": {},
   "source": [
    "# Analisi Popolazione\n",
    "Percentuale somministrazioni sul totale popolazione divisa per gruppi anagrafici"
   ]
  },
  {
   "cell_type": "code",
   "execution_count": 269,
   "metadata": {},
   "outputs": [
    {
     "data": {
      "text/html": [
       "<div>\n",
       "<style scoped>\n",
       "    .dataframe tbody tr th:only-of-type {\n",
       "        vertical-align: middle;\n",
       "    }\n",
       "\n",
       "    .dataframe tbody tr th {\n",
       "        vertical-align: top;\n",
       "    }\n",
       "\n",
       "    .dataframe thead tr th {\n",
       "        text-align: left;\n",
       "    }\n",
       "</style>\n",
       "<table border=\"1\" class=\"dataframe\">\n",
       "  <thead>\n",
       "    <tr>\n",
       "      <th></th>\n",
       "      <th>Età</th>\n",
       "      <th>Celibi/Nubili</th>\n",
       "      <th>Coniugati/e</th>\n",
       "      <th>Vedovi/e</th>\n",
       "      <th>Divorziati/e</th>\n",
       "      <th>Maschi</th>\n",
       "      <th>Femmine</th>\n",
       "      <th colspan=\"2\" halign=\"left\">Totale</th>\n",
       "    </tr>\n",
       "    <tr>\n",
       "      <th></th>\n",
       "      <th>Età</th>\n",
       "      <th>Celibi/Nubili</th>\n",
       "      <th>Coniugati/e</th>\n",
       "      <th>Vedovi/e</th>\n",
       "      <th>Divorziati/e</th>\n",
       "      <th>Maschi</th>\n",
       "      <th>Femmine</th>\n",
       "      <th>Unnamed: 7_level_1</th>\n",
       "      <th>%</th>\n",
       "    </tr>\n",
       "  </thead>\n",
       "  <tbody>\n",
       "    <tr>\n",
       "      <th>0</th>\n",
       "      <td>0-4</td>\n",
       "      <td>2.264.538</td>\n",
       "      <td>0</td>\n",
       "      <td>0</td>\n",
       "      <td>0</td>\n",
       "      <td>1.163.19851,4%</td>\n",
       "      <td>1.101.34048,6%</td>\n",
       "      <td>2.264.538</td>\n",
       "      <td>3,8%</td>\n",
       "    </tr>\n",
       "    <tr>\n",
       "      <th>1</th>\n",
       "      <td>5-9</td>\n",
       "      <td>2.627.956</td>\n",
       "      <td>0</td>\n",
       "      <td>0</td>\n",
       "      <td>0</td>\n",
       "      <td>1.352.24051,5%</td>\n",
       "      <td>1.275.71648,5%</td>\n",
       "      <td>2.627.956</td>\n",
       "      <td>4,4%</td>\n",
       "    </tr>\n",
       "    <tr>\n",
       "      <th>2</th>\n",
       "      <td>10-14</td>\n",
       "      <td>2.835.060</td>\n",
       "      <td>0</td>\n",
       "      <td>0</td>\n",
       "      <td>0</td>\n",
       "      <td>1.460.44951,5%</td>\n",
       "      <td>1.374.61148,5%</td>\n",
       "      <td>2.835.060</td>\n",
       "      <td>4,8%</td>\n",
       "    </tr>\n",
       "    <tr>\n",
       "      <th>3</th>\n",
       "      <td>15-19</td>\n",
       "      <td>2.868.948</td>\n",
       "      <td>2.004</td>\n",
       "      <td>21</td>\n",
       "      <td>83</td>\n",
       "      <td>1.485.46551,7%</td>\n",
       "      <td>1.385.59148,3%</td>\n",
       "      <td>2.871.056</td>\n",
       "      <td>4,8%</td>\n",
       "    </tr>\n",
       "    <tr>\n",
       "      <th>4</th>\n",
       "      <td>20-24</td>\n",
       "      <td>2.890.840</td>\n",
       "      <td>64.253</td>\n",
       "      <td>127</td>\n",
       "      <td>668</td>\n",
       "      <td>1.549.02052,4%</td>\n",
       "      <td>1.406.86847,6%</td>\n",
       "      <td>2.955.888</td>\n",
       "      <td>5,0%</td>\n",
       "    </tr>\n",
       "    <tr>\n",
       "      <th>5</th>\n",
       "      <td>25-29</td>\n",
       "      <td>2.714.681</td>\n",
       "      <td>407.555</td>\n",
       "      <td>630</td>\n",
       "      <td>5.628</td>\n",
       "      <td>1.605.44451,3%</td>\n",
       "      <td>1.523.05048,7%</td>\n",
       "      <td>3.128.494</td>\n",
       "      <td>5,2%</td>\n",
       "    </tr>\n",
       "    <tr>\n",
       "      <th>6</th>\n",
       "      <td>30-34</td>\n",
       "      <td>2.084.313</td>\n",
       "      <td>1.169.221</td>\n",
       "      <td>2.418</td>\n",
       "      <td>26.489</td>\n",
       "      <td>1.658.74950,5%</td>\n",
       "      <td>1.623.69249,5%</td>\n",
       "      <td>3.282.441</td>\n",
       "      <td>5,5%</td>\n",
       "    </tr>\n",
       "    <tr>\n",
       "      <th>7</th>\n",
       "      <td>35-39</td>\n",
       "      <td>1.577.289</td>\n",
       "      <td>1.915.487</td>\n",
       "      <td>7.282</td>\n",
       "      <td>72.133</td>\n",
       "      <td>1.792.98150,2%</td>\n",
       "      <td>1.779.21049,8%</td>\n",
       "      <td>3.572.191</td>\n",
       "      <td>6,0%</td>\n",
       "    </tr>\n",
       "    <tr>\n",
       "      <th>8</th>\n",
       "      <td>40-44</td>\n",
       "      <td>1.393.337</td>\n",
       "      <td>2.620.552</td>\n",
       "      <td>18.957</td>\n",
       "      <td>154.618</td>\n",
       "      <td>2.089.19849,9%</td>\n",
       "      <td>2.098.26650,1%</td>\n",
       "      <td>4.187.464</td>\n",
       "      <td>7,0%</td>\n",
       "    </tr>\n",
       "    <tr>\n",
       "      <th>9</th>\n",
       "      <td>45-49</td>\n",
       "      <td>1.211.484</td>\n",
       "      <td>3.236.400</td>\n",
       "      <td>42.592</td>\n",
       "      <td>259.289</td>\n",
       "      <td>2.356.80049,6%</td>\n",
       "      <td>2.392.96550,4%</td>\n",
       "      <td>4.749.765</td>\n",
       "      <td>8,0%</td>\n",
       "    </tr>\n",
       "    <tr>\n",
       "      <th>10</th>\n",
       "      <td>50-54</td>\n",
       "      <td>914.381</td>\n",
       "      <td>3.545.692</td>\n",
       "      <td>84.717</td>\n",
       "      <td>331.914</td>\n",
       "      <td>2.404.14449,3%</td>\n",
       "      <td>2.472.56050,7%</td>\n",
       "      <td>4.876.704</td>\n",
       "      <td>8,2%</td>\n",
       "    </tr>\n",
       "    <tr>\n",
       "      <th>11</th>\n",
       "      <td>55-59</td>\n",
       "      <td>626.453</td>\n",
       "      <td>3.439.662</td>\n",
       "      <td>147.926</td>\n",
       "      <td>323.450</td>\n",
       "      <td>2.213.00848,8%</td>\n",
       "      <td>2.324.48351,2%</td>\n",
       "      <td>4.537.491</td>\n",
       "      <td>7,6%</td>\n",
       "    </tr>\n",
       "    <tr>\n",
       "      <th>12</th>\n",
       "      <td>60-64</td>\n",
       "      <td>411.731</td>\n",
       "      <td>3.006.985</td>\n",
       "      <td>230.387</td>\n",
       "      <td>244.247</td>\n",
       "      <td>1.874.92248,2%</td>\n",
       "      <td>2.018.42851,8%</td>\n",
       "      <td>3.893.350</td>\n",
       "      <td>6,5%</td>\n",
       "    </tr>\n",
       "    <tr>\n",
       "      <th>13</th>\n",
       "      <td>65-69</td>\n",
       "      <td>286.807</td>\n",
       "      <td>2.663.542</td>\n",
       "      <td>348.074</td>\n",
       "      <td>172.591</td>\n",
       "      <td>1.652.74047,6%</td>\n",
       "      <td>1.818.27452,4%</td>\n",
       "      <td>3.471.014</td>\n",
       "      <td>5,8%</td>\n",
       "    </tr>\n",
       "    <tr>\n",
       "      <th>14</th>\n",
       "      <td>70-74</td>\n",
       "      <td>225.584</td>\n",
       "      <td>2.429.874</td>\n",
       "      <td>544.701</td>\n",
       "      <td>124.201</td>\n",
       "      <td>1.555.30646,8%</td>\n",
       "      <td>1.769.05453,2%</td>\n",
       "      <td>3.324.360</td>\n",
       "      <td>5,6%</td>\n",
       "    </tr>\n",
       "    <tr>\n",
       "      <th>15</th>\n",
       "      <td>75-79</td>\n",
       "      <td>170.300</td>\n",
       "      <td>1.701.425</td>\n",
       "      <td>701.606</td>\n",
       "      <td>70.682</td>\n",
       "      <td>1.181.23344,7%</td>\n",
       "      <td>1.462.78055,3%</td>\n",
       "      <td>2.644.013</td>\n",
       "      <td>4,4%</td>\n",
       "    </tr>\n",
       "    <tr>\n",
       "      <th>16</th>\n",
       "      <td>80-84</td>\n",
       "      <td>140.403</td>\n",
       "      <td>1.162.123</td>\n",
       "      <td>888.727</td>\n",
       "      <td>40.283</td>\n",
       "      <td>930.78741,7%</td>\n",
       "      <td>1.300.74958,3%</td>\n",
       "      <td>2.231.536</td>\n",
       "      <td>3,7%</td>\n",
       "    </tr>\n",
       "    <tr>\n",
       "      <th>17</th>\n",
       "      <td>85-89</td>\n",
       "      <td>93.445</td>\n",
       "      <td>500.696</td>\n",
       "      <td>785.500</td>\n",
       "      <td>16.983</td>\n",
       "      <td>507.80936,4%</td>\n",
       "      <td>888.81563,6%</td>\n",
       "      <td>1.396.624</td>\n",
       "      <td>2,3%</td>\n",
       "    </tr>\n",
       "    <tr>\n",
       "      <th>18</th>\n",
       "      <td>90-94</td>\n",
       "      <td>46.534</td>\n",
       "      <td>129.439</td>\n",
       "      <td>434.772</td>\n",
       "      <td>5.615</td>\n",
       "      <td>179.13029,1%</td>\n",
       "      <td>437.23070,9%</td>\n",
       "      <td>616.360</td>\n",
       "      <td>1,0%</td>\n",
       "    </tr>\n",
       "    <tr>\n",
       "      <th>19</th>\n",
       "      <td>95-99</td>\n",
       "      <td>13.552</td>\n",
       "      <td>16.437</td>\n",
       "      <td>129.152</td>\n",
       "      <td>1.238</td>\n",
       "      <td>35.14121,9%</td>\n",
       "      <td>125.23878,1%</td>\n",
       "      <td>160.379</td>\n",
       "      <td>0,3%</td>\n",
       "    </tr>\n",
       "    <tr>\n",
       "      <th>20</th>\n",
       "      <td>100+</td>\n",
       "      <td>1.556</td>\n",
       "      <td>836</td>\n",
       "      <td>12.307</td>\n",
       "      <td>105</td>\n",
       "      <td>2.33215,8%</td>\n",
       "      <td>12.47284,2%</td>\n",
       "      <td>14.804</td>\n",
       "      <td>0,0%</td>\n",
       "    </tr>\n",
       "    <tr>\n",
       "      <th>21</th>\n",
       "      <td>Totale</td>\n",
       "      <td>25.399.192</td>\n",
       "      <td>28.012.183</td>\n",
       "      <td>4.379.896</td>\n",
       "      <td>1.850.217</td>\n",
       "      <td>29.050.09648,7%</td>\n",
       "      <td>30.591.39251,3%</td>\n",
       "      <td>59.641.488</td>\n",
       "      <td>100,0%</td>\n",
       "    </tr>\n",
       "  </tbody>\n",
       "</table>\n",
       "</div>"
      ],
      "text/plain": [
       "       Età Celibi/Nubili Coniugati/e   Vedovi/e Divorziati/e           Maschi  \\\n",
       "       Età Celibi/Nubili Coniugati/e   Vedovi/e Divorziati/e           Maschi   \n",
       "0      0-4     2.264.538           0          0            0   1.163.19851,4%   \n",
       "1      5-9     2.627.956           0          0            0   1.352.24051,5%   \n",
       "2    10-14     2.835.060           0          0            0   1.460.44951,5%   \n",
       "3    15-19     2.868.948       2.004         21           83   1.485.46551,7%   \n",
       "4    20-24     2.890.840      64.253        127          668   1.549.02052,4%   \n",
       "5    25-29     2.714.681     407.555        630        5.628   1.605.44451,3%   \n",
       "6    30-34     2.084.313   1.169.221      2.418       26.489   1.658.74950,5%   \n",
       "7    35-39     1.577.289   1.915.487      7.282       72.133   1.792.98150,2%   \n",
       "8    40-44     1.393.337   2.620.552     18.957      154.618   2.089.19849,9%   \n",
       "9    45-49     1.211.484   3.236.400     42.592      259.289   2.356.80049,6%   \n",
       "10   50-54       914.381   3.545.692     84.717      331.914   2.404.14449,3%   \n",
       "11   55-59       626.453   3.439.662    147.926      323.450   2.213.00848,8%   \n",
       "12   60-64       411.731   3.006.985    230.387      244.247   1.874.92248,2%   \n",
       "13   65-69       286.807   2.663.542    348.074      172.591   1.652.74047,6%   \n",
       "14   70-74       225.584   2.429.874    544.701      124.201   1.555.30646,8%   \n",
       "15   75-79       170.300   1.701.425    701.606       70.682   1.181.23344,7%   \n",
       "16   80-84       140.403   1.162.123    888.727       40.283     930.78741,7%   \n",
       "17   85-89        93.445     500.696    785.500       16.983     507.80936,4%   \n",
       "18   90-94        46.534     129.439    434.772        5.615     179.13029,1%   \n",
       "19   95-99        13.552      16.437    129.152        1.238      35.14121,9%   \n",
       "20    100+         1.556         836     12.307          105       2.33215,8%   \n",
       "21  Totale    25.399.192  28.012.183  4.379.896    1.850.217  29.050.09648,7%   \n",
       "\n",
       "            Femmine             Totale          \n",
       "            Femmine Unnamed: 7_level_1       %  \n",
       "0    1.101.34048,6%          2.264.538    3,8%  \n",
       "1    1.275.71648,5%          2.627.956    4,4%  \n",
       "2    1.374.61148,5%          2.835.060    4,8%  \n",
       "3    1.385.59148,3%          2.871.056    4,8%  \n",
       "4    1.406.86847,6%          2.955.888    5,0%  \n",
       "5    1.523.05048,7%          3.128.494    5,2%  \n",
       "6    1.623.69249,5%          3.282.441    5,5%  \n",
       "7    1.779.21049,8%          3.572.191    6,0%  \n",
       "8    2.098.26650,1%          4.187.464    7,0%  \n",
       "9    2.392.96550,4%          4.749.765    8,0%  \n",
       "10   2.472.56050,7%          4.876.704    8,2%  \n",
       "11   2.324.48351,2%          4.537.491    7,6%  \n",
       "12   2.018.42851,8%          3.893.350    6,5%  \n",
       "13   1.818.27452,4%          3.471.014    5,8%  \n",
       "14   1.769.05453,2%          3.324.360    5,6%  \n",
       "15   1.462.78055,3%          2.644.013    4,4%  \n",
       "16   1.300.74958,3%          2.231.536    3,7%  \n",
       "17     888.81563,6%          1.396.624    2,3%  \n",
       "18     437.23070,9%            616.360    1,0%  \n",
       "19     125.23878,1%            160.379    0,3%  \n",
       "20      12.47284,2%             14.804    0,0%  \n",
       "21  30.591.39251,3%         59.641.488  100,0%  "
      ]
     },
     "execution_count": 269,
     "metadata": {},
     "output_type": "execute_result"
    }
   ],
   "source": [
    "pd.read_html('https://www.tuttitalia.it/statistiche/popolazione-eta-sesso-stato-civile-2020/')[0]\n"
   ]
  },
  {
   "cell_type": "code",
   "execution_count": 270,
   "metadata": {},
   "outputs": [
    {
     "data": {
      "text/html": [
       "<div>\n",
       "<style scoped>\n",
       "    .dataframe tbody tr th:only-of-type {\n",
       "        vertical-align: middle;\n",
       "    }\n",
       "\n",
       "    .dataframe tbody tr th {\n",
       "        vertical-align: top;\n",
       "    }\n",
       "\n",
       "    .dataframe thead th {\n",
       "        text-align: right;\n",
       "    }\n",
       "</style>\n",
       "<table border=\"1\" class=\"dataframe\">\n",
       "  <thead>\n",
       "    <tr style=\"text-align: right;\">\n",
       "      <th></th>\n",
       "      <th>Età</th>\n",
       "      <th>Totale</th>\n",
       "    </tr>\n",
       "  </thead>\n",
       "  <tbody>\n",
       "    <tr>\n",
       "      <th>96</th>\n",
       "      <td>96 anni</td>\n",
       "      <td>30447</td>\n",
       "    </tr>\n",
       "    <tr>\n",
       "      <th>97</th>\n",
       "      <td>97 anni</td>\n",
       "      <td>22450</td>\n",
       "    </tr>\n",
       "    <tr>\n",
       "      <th>98</th>\n",
       "      <td>98 anni</td>\n",
       "      <td>15624</td>\n",
       "    </tr>\n",
       "    <tr>\n",
       "      <th>99</th>\n",
       "      <td>99 anni</td>\n",
       "      <td>10192</td>\n",
       "    </tr>\n",
       "    <tr>\n",
       "      <th>100</th>\n",
       "      <td>100 anni e più</td>\n",
       "      <td>15080</td>\n",
       "    </tr>\n",
       "  </tbody>\n",
       "</table>\n",
       "</div>"
      ],
      "text/plain": [
       "                Età  Totale\n",
       "96          96 anni   30447\n",
       "97          97 anni   22450\n",
       "98          98 anni   15624\n",
       "99          99 anni   10192\n",
       "100  100 anni e più   15080"
      ]
     },
     "execution_count": 270,
     "metadata": {},
     "output_type": "execute_result"
    }
   ],
   "source": [
    "pop = pd.read_html('https://it.wikipedia.org/wiki/Demografia_d%27Italia', thousands='.')[11]\n",
    "pop = pop[['Età', 'Totale']]\n",
    "pop.drop(index=101, axis=0, inplace=True)\n",
    "pop.Totale = pd.to_numeric(pop.Totale)\n",
    "pop.tail()"
   ]
  },
  {
   "cell_type": "code",
   "execution_count": 271,
   "metadata": {},
   "outputs": [],
   "source": [
    "pop['Età'] = pd.to_numeric(pop['Età'].str.split(' ', expand=True)[0])"
   ]
  },
  {
   "cell_type": "code",
   "execution_count": 272,
   "metadata": {},
   "outputs": [],
   "source": [
    "def ages(s):\n",
    "    if (s['Età'] >= 0 and s['Età'] < 16):\n",
    "        return '0-16'\n",
    "    elif (s['Età'] >= 16 and s['Età'] <= 19):\n",
    "        return '16-19'\n",
    "    elif (s['Età'] >= 20 and s['Età'] <= 29):\n",
    "        return '20-29'\n",
    "    elif (s['Età'] >= 30 and s['Età'] <= 39):\n",
    "        return '30-39'\n",
    "    elif (s['Età'] >= 40 and s['Età'] <= 49):\n",
    "        return '40-49'\n",
    "    elif (s['Età'] >= 50 and s['Età'] <= 59):\n",
    "        return '50-59'\n",
    "    elif (s['Età'] >= 60 and s['Età'] <= 69):\n",
    "        return '60-69'\n",
    "    elif (s['Età'] >= 70 and s['Età'] <= 79):\n",
    "        return '70-79'\n",
    "    elif (s['Età'] >= 80 and s['Età'] <= 89):\n",
    "        return '80-89'\n",
    "    elif s['Età'] >= 90:\n",
    "        return '90+'"
   ]
  },
  {
   "cell_type": "markdown",
   "metadata": {},
   "source": [
    "def regrouping(s):\n",
    "    if s['Età'] >= 0 | s['Età'] < 16:\n",
    "        return '0-16'\n",
    "    elif s['Età'] >= 16 | s['Età'] <= 19:\n",
    "        return '16-19'\n",
    "    elif s['Età'] >= 20 | s['Età'] <= 29:\n",
    "        return '20-29'\n",
    "    elif s['Età'] >= 30 | s['Età'] <= 39:\n",
    "        return '30-39'\n",
    "    elif s['Età'] >= 40 | s['Età'] <= 49:\n",
    "        return '40-49'\n",
    "    elif s['Età'] >= 50 | s['Età'] <= 59:\n",
    "        return '50-59'\n",
    "    elif s['Età'] >= 60 | s['Età'] <= 69:\n",
    "        return '60-69'\n",
    "    elif s['Età'] >= 70 | s['Età'] <= 79:\n",
    "        return '70-79'\n",
    "    elif s['Età'] >= 80 | s['Età'] <= 89:\n",
    "        return '80-89'\n",
    "    elif s['Età'] >= 90:\n",
    "        return '90+'"
   ]
  },
  {
   "cell_type": "code",
   "execution_count": 273,
   "metadata": {},
   "outputs": [],
   "source": [
    "\n",
    "pop['gruppo'] = pop.apply(ages, axis=1)"
   ]
  },
  {
   "cell_type": "code",
   "execution_count": 274,
   "metadata": {},
   "outputs": [
    {
     "data": {
      "text/html": [
       "<div>\n",
       "<style scoped>\n",
       "    .dataframe tbody tr th:only-of-type {\n",
       "        vertical-align: middle;\n",
       "    }\n",
       "\n",
       "    .dataframe tbody tr th {\n",
       "        vertical-align: top;\n",
       "    }\n",
       "\n",
       "    .dataframe thead th {\n",
       "        text-align: right;\n",
       "    }\n",
       "</style>\n",
       "<table border=\"1\" class=\"dataframe\">\n",
       "  <thead>\n",
       "    <tr style=\"text-align: right;\">\n",
       "      <th></th>\n",
       "      <th>Età</th>\n",
       "      <th>Totale</th>\n",
       "      <th>gruppo</th>\n",
       "    </tr>\n",
       "  </thead>\n",
       "  <tbody>\n",
       "    <tr>\n",
       "      <th>0</th>\n",
       "      <td>0</td>\n",
       "      <td>532991</td>\n",
       "      <td>0-16</td>\n",
       "    </tr>\n",
       "    <tr>\n",
       "      <th>1</th>\n",
       "      <td>1</td>\n",
       "      <td>542019</td>\n",
       "      <td>0-16</td>\n",
       "    </tr>\n",
       "    <tr>\n",
       "      <th>2</th>\n",
       "      <td>2</td>\n",
       "      <td>553729</td>\n",
       "      <td>0-16</td>\n",
       "    </tr>\n",
       "    <tr>\n",
       "      <th>3</th>\n",
       "      <td>3</td>\n",
       "      <td>561994</td>\n",
       "      <td>0-16</td>\n",
       "    </tr>\n",
       "    <tr>\n",
       "      <th>4</th>\n",
       "      <td>4</td>\n",
       "      <td>559203</td>\n",
       "      <td>0-16</td>\n",
       "    </tr>\n",
       "    <tr>\n",
       "      <th>...</th>\n",
       "      <td>...</td>\n",
       "      <td>...</td>\n",
       "      <td>...</td>\n",
       "    </tr>\n",
       "    <tr>\n",
       "      <th>96</th>\n",
       "      <td>96</td>\n",
       "      <td>30447</td>\n",
       "      <td>90+</td>\n",
       "    </tr>\n",
       "    <tr>\n",
       "      <th>97</th>\n",
       "      <td>97</td>\n",
       "      <td>22450</td>\n",
       "      <td>90+</td>\n",
       "    </tr>\n",
       "    <tr>\n",
       "      <th>98</th>\n",
       "      <td>98</td>\n",
       "      <td>15624</td>\n",
       "      <td>90+</td>\n",
       "    </tr>\n",
       "    <tr>\n",
       "      <th>99</th>\n",
       "      <td>99</td>\n",
       "      <td>10192</td>\n",
       "      <td>90+</td>\n",
       "    </tr>\n",
       "    <tr>\n",
       "      <th>100</th>\n",
       "      <td>100</td>\n",
       "      <td>15080</td>\n",
       "      <td>90+</td>\n",
       "    </tr>\n",
       "  </tbody>\n",
       "</table>\n",
       "<p>101 rows × 3 columns</p>\n",
       "</div>"
      ],
      "text/plain": [
       "     Età  Totale gruppo\n",
       "0      0  532991   0-16\n",
       "1      1  542019   0-16\n",
       "2      2  553729   0-16\n",
       "3      3  561994   0-16\n",
       "4      4  559203   0-16\n",
       "..   ...     ...    ...\n",
       "96    96   30447    90+\n",
       "97    97   22450    90+\n",
       "98    98   15624    90+\n",
       "99    99   10192    90+\n",
       "100  100   15080    90+\n",
       "\n",
       "[101 rows x 3 columns]"
      ]
     },
     "execution_count": 274,
     "metadata": {},
     "output_type": "execute_result"
    }
   ],
   "source": [
    "pop"
   ]
  },
  {
   "cell_type": "code",
   "execution_count": 275,
   "metadata": {},
   "outputs": [],
   "source": [
    "pop = pop.groupby('gruppo')['Totale'].sum().reset_index()\n",
    "pop.gruppo = pop.gruppo.astype(str)"
   ]
  },
  {
   "cell_type": "code",
   "execution_count": 276,
   "metadata": {},
   "outputs": [
    {
     "data": {
      "text/html": [
       "<div>\n",
       "<style scoped>\n",
       "    .dataframe tbody tr th:only-of-type {\n",
       "        vertical-align: middle;\n",
       "    }\n",
       "\n",
       "    .dataframe tbody tr th {\n",
       "        vertical-align: top;\n",
       "    }\n",
       "\n",
       "    .dataframe thead th {\n",
       "        text-align: right;\n",
       "    }\n",
       "</style>\n",
       "<table border=\"1\" class=\"dataframe\">\n",
       "  <thead>\n",
       "    <tr style=\"text-align: right;\">\n",
       "      <th></th>\n",
       "      <th>gruppo</th>\n",
       "      <th>Totale</th>\n",
       "    </tr>\n",
       "  </thead>\n",
       "  <tbody>\n",
       "    <tr>\n",
       "      <th>0</th>\n",
       "      <td>0-16</td>\n",
       "      <td>8885150</td>\n",
       "    </tr>\n",
       "    <tr>\n",
       "      <th>1</th>\n",
       "      <td>16-19</td>\n",
       "      <td>2310358</td>\n",
       "    </tr>\n",
       "    <tr>\n",
       "      <th>2</th>\n",
       "      <td>20-29</td>\n",
       "      <td>6327883</td>\n",
       "    </tr>\n",
       "    <tr>\n",
       "      <th>3</th>\n",
       "      <td>30-39</td>\n",
       "      <td>8345554</td>\n",
       "    </tr>\n",
       "    <tr>\n",
       "      <th>4</th>\n",
       "      <td>40-49</td>\n",
       "      <td>9567872</td>\n",
       "    </tr>\n",
       "    <tr>\n",
       "      <th>5</th>\n",
       "      <td>50-59</td>\n",
       "      <td>7871829</td>\n",
       "    </tr>\n",
       "    <tr>\n",
       "      <th>6</th>\n",
       "      <td>60-69</td>\n",
       "      <td>6860158</td>\n",
       "    </tr>\n",
       "    <tr>\n",
       "      <th>7</th>\n",
       "      <td>70-79</td>\n",
       "      <td>5628974</td>\n",
       "    </tr>\n",
       "    <tr>\n",
       "      <th>8</th>\n",
       "      <td>80-89</td>\n",
       "      <td>3117811</td>\n",
       "    </tr>\n",
       "    <tr>\n",
       "      <th>9</th>\n",
       "      <td>90+</td>\n",
       "      <td>518155</td>\n",
       "    </tr>\n",
       "  </tbody>\n",
       "</table>\n",
       "</div>"
      ],
      "text/plain": [
       "  gruppo   Totale\n",
       "0   0-16  8885150\n",
       "1  16-19  2310358\n",
       "2  20-29  6327883\n",
       "3  30-39  8345554\n",
       "4  40-49  9567872\n",
       "5  50-59  7871829\n",
       "6  60-69  6860158\n",
       "7  70-79  5628974\n",
       "8  80-89  3117811\n",
       "9    90+   518155"
      ]
     },
     "execution_count": 276,
     "metadata": {},
     "output_type": "execute_result"
    }
   ],
   "source": [
    "pop"
   ]
  },
  {
   "cell_type": "code",
   "execution_count": 277,
   "metadata": {},
   "outputs": [
    {
     "data": {
      "text/html": [
       "<div>\n",
       "<style scoped>\n",
       "    .dataframe tbody tr th:only-of-type {\n",
       "        vertical-align: middle;\n",
       "    }\n",
       "\n",
       "    .dataframe tbody tr th {\n",
       "        vertical-align: top;\n",
       "    }\n",
       "\n",
       "    .dataframe thead th {\n",
       "        text-align: right;\n",
       "    }\n",
       "</style>\n",
       "<table border=\"1\" class=\"dataframe\">\n",
       "  <thead>\n",
       "    <tr style=\"text-align: right;\">\n",
       "      <th></th>\n",
       "      <th>data_somministrazione</th>\n",
       "      <th>fascia_anagrafica</th>\n",
       "      <th>prima_dose</th>\n",
       "      <th>prima_dose_totale_giorno</th>\n",
       "      <th>perc_tot_somministrati</th>\n",
       "      <th>totale_fascia</th>\n",
       "    </tr>\n",
       "  </thead>\n",
       "  <tbody>\n",
       "    <tr>\n",
       "      <th>0</th>\n",
       "      <td>2021-01-01</td>\n",
       "      <td>16-19</td>\n",
       "      <td>2</td>\n",
       "      <td>11038</td>\n",
       "      <td>0.0</td>\n",
       "      <td>2310358</td>\n",
       "    </tr>\n",
       "    <tr>\n",
       "      <th>1</th>\n",
       "      <td>2021-01-02</td>\n",
       "      <td>16-19</td>\n",
       "      <td>19</td>\n",
       "      <td>38490</td>\n",
       "      <td>0.0</td>\n",
       "      <td>2310358</td>\n",
       "    </tr>\n",
       "    <tr>\n",
       "      <th>2</th>\n",
       "      <td>2021-01-04</td>\n",
       "      <td>16-19</td>\n",
       "      <td>12</td>\n",
       "      <td>68417</td>\n",
       "      <td>0.0</td>\n",
       "      <td>2310358</td>\n",
       "    </tr>\n",
       "    <tr>\n",
       "      <th>3</th>\n",
       "      <td>2021-01-05</td>\n",
       "      <td>16-19</td>\n",
       "      <td>22</td>\n",
       "      <td>79470</td>\n",
       "      <td>0.0</td>\n",
       "      <td>2310358</td>\n",
       "    </tr>\n",
       "    <tr>\n",
       "      <th>4</th>\n",
       "      <td>2021-01-06</td>\n",
       "      <td>16-19</td>\n",
       "      <td>38</td>\n",
       "      <td>65117</td>\n",
       "      <td>0.0</td>\n",
       "      <td>2310358</td>\n",
       "    </tr>\n",
       "  </tbody>\n",
       "</table>\n",
       "</div>"
      ],
      "text/plain": [
       "  data_somministrazione fascia_anagrafica  prima_dose  \\\n",
       "0            2021-01-01             16-19           2   \n",
       "1            2021-01-02             16-19          19   \n",
       "2            2021-01-04             16-19          12   \n",
       "3            2021-01-05             16-19          22   \n",
       "4            2021-01-06             16-19          38   \n",
       "\n",
       "   prima_dose_totale_giorno  perc_tot_somministrati  totale_fascia  \n",
       "0                     11038                     0.0        2310358  \n",
       "1                     38490                     0.0        2310358  \n",
       "2                     68417                     0.0        2310358  \n",
       "3                     79470                     0.0        2310358  \n",
       "4                     65117                     0.0        2310358  "
      ]
     },
     "execution_count": 277,
     "metadata": {},
     "output_type": "execute_result"
    }
   ],
   "source": [
    "df1 = df1.merge(pop, left_on='fascia_anagrafica', right_on='gruppo', how='inner')\n",
    "df1.drop('gruppo', axis=1, inplace=True)\n",
    "df1.rename(columns={'Totale':'totale_fascia'}, inplace=True)\n",
    "df1.head()"
   ]
  },
  {
   "cell_type": "code",
   "execution_count": 278,
   "metadata": {},
   "outputs": [
    {
     "data": {
      "text/html": [
       "<div>\n",
       "<style scoped>\n",
       "    .dataframe tbody tr th:only-of-type {\n",
       "        vertical-align: middle;\n",
       "    }\n",
       "\n",
       "    .dataframe tbody tr th {\n",
       "        vertical-align: top;\n",
       "    }\n",
       "\n",
       "    .dataframe thead th {\n",
       "        text-align: right;\n",
       "    }\n",
       "</style>\n",
       "<table border=\"1\" class=\"dataframe\">\n",
       "  <thead>\n",
       "    <tr style=\"text-align: right;\">\n",
       "      <th></th>\n",
       "      <th>data_somministrazione</th>\n",
       "      <th>fascia_anagrafica</th>\n",
       "      <th>prima_dose</th>\n",
       "      <th>Totale</th>\n",
       "    </tr>\n",
       "  </thead>\n",
       "  <tbody>\n",
       "    <tr>\n",
       "      <th>561</th>\n",
       "      <td>2021-02-28</td>\n",
       "      <td>90+</td>\n",
       "      <td>68673</td>\n",
       "      <td>518155</td>\n",
       "    </tr>\n",
       "    <tr>\n",
       "      <th>562</th>\n",
       "      <td>2021-03-01</td>\n",
       "      <td>90+</td>\n",
       "      <td>105430</td>\n",
       "      <td>518155</td>\n",
       "    </tr>\n",
       "    <tr>\n",
       "      <th>563</th>\n",
       "      <td>2021-03-02</td>\n",
       "      <td>90+</td>\n",
       "      <td>122364</td>\n",
       "      <td>518155</td>\n",
       "    </tr>\n",
       "    <tr>\n",
       "      <th>564</th>\n",
       "      <td>2021-03-03</td>\n",
       "      <td>90+</td>\n",
       "      <td>131980</td>\n",
       "      <td>518155</td>\n",
       "    </tr>\n",
       "    <tr>\n",
       "      <th>565</th>\n",
       "      <td>2021-03-04</td>\n",
       "      <td>90+</td>\n",
       "      <td>90664</td>\n",
       "      <td>518155</td>\n",
       "    </tr>\n",
       "  </tbody>\n",
       "</table>\n",
       "</div>"
      ],
      "text/plain": [
       "    data_somministrazione fascia_anagrafica  prima_dose  Totale\n",
       "561            2021-02-28               90+       68673  518155\n",
       "562            2021-03-01               90+      105430  518155\n",
       "563            2021-03-02               90+      122364  518155\n",
       "564            2021-03-03               90+      131980  518155\n",
       "565            2021-03-04               90+       90664  518155"
      ]
     },
     "execution_count": 278,
     "metadata": {},
     "output_type": "execute_result"
    }
   ],
   "source": [
    "df2 = (df1.groupby(['data_somministrazione','fascia_anagrafica'])['prima_dose']\n",
    " .sum().groupby(level=0).cumsum().reset_index()\n",
    ".merge(pop, left_on='fascia_anagrafica', right_on='gruppo')).drop(['gruppo'], axis=1)\n",
    "df2.tail()"
   ]
  },
  {
   "cell_type": "code",
   "execution_count": 279,
   "metadata": {},
   "outputs": [],
   "source": [
    "df_last = df1.groupby('fascia_anagrafica')[['prima_dose','totale_fascia']].agg({'prima_dose':'sum','totale_fascia':'last'}).reset_index()"
   ]
  },
  {
   "cell_type": "code",
   "execution_count": 280,
   "metadata": {},
   "outputs": [],
   "source": [
    "df_last['perc_vaccinata'] = (df_last.prima_dose/df_last.totale_fascia).mul(100).round(2)"
   ]
  },
  {
   "cell_type": "code",
   "execution_count": 281,
   "metadata": {},
   "outputs": [
    {
     "data": {
      "text/html": [
       "<div>\n",
       "<style scoped>\n",
       "    .dataframe tbody tr th:only-of-type {\n",
       "        vertical-align: middle;\n",
       "    }\n",
       "\n",
       "    .dataframe tbody tr th {\n",
       "        vertical-align: top;\n",
       "    }\n",
       "\n",
       "    .dataframe thead th {\n",
       "        text-align: right;\n",
       "    }\n",
       "</style>\n",
       "<table border=\"1\" class=\"dataframe\">\n",
       "  <thead>\n",
       "    <tr style=\"text-align: right;\">\n",
       "      <th></th>\n",
       "      <th>fascia_anagrafica</th>\n",
       "      <th>prima_dose</th>\n",
       "      <th>totale_fascia</th>\n",
       "      <th>perc_vaccinata</th>\n",
       "    </tr>\n",
       "  </thead>\n",
       "  <tbody>\n",
       "    <tr>\n",
       "      <th>0</th>\n",
       "      <td>16-19</td>\n",
       "      <td>3230</td>\n",
       "      <td>2310358</td>\n",
       "      <td>0.14</td>\n",
       "    </tr>\n",
       "    <tr>\n",
       "      <th>1</th>\n",
       "      <td>20-29</td>\n",
       "      <td>266951</td>\n",
       "      <td>6327883</td>\n",
       "      <td>4.22</td>\n",
       "    </tr>\n",
       "    <tr>\n",
       "      <th>2</th>\n",
       "      <td>30-39</td>\n",
       "      <td>387082</td>\n",
       "      <td>8345554</td>\n",
       "      <td>4.64</td>\n",
       "    </tr>\n",
       "    <tr>\n",
       "      <th>3</th>\n",
       "      <td>40-49</td>\n",
       "      <td>521575</td>\n",
       "      <td>9567872</td>\n",
       "      <td>5.45</td>\n",
       "    </tr>\n",
       "    <tr>\n",
       "      <th>4</th>\n",
       "      <td>50-59</td>\n",
       "      <td>655248</td>\n",
       "      <td>7871829</td>\n",
       "      <td>8.32</td>\n",
       "    </tr>\n",
       "    <tr>\n",
       "      <th>5</th>\n",
       "      <td>60-69</td>\n",
       "      <td>370401</td>\n",
       "      <td>6860158</td>\n",
       "      <td>5.40</td>\n",
       "    </tr>\n",
       "    <tr>\n",
       "      <th>6</th>\n",
       "      <td>70-79</td>\n",
       "      <td>101919</td>\n",
       "      <td>5628974</td>\n",
       "      <td>1.81</td>\n",
       "    </tr>\n",
       "    <tr>\n",
       "      <th>7</th>\n",
       "      <td>80-89</td>\n",
       "      <td>793049</td>\n",
       "      <td>3117811</td>\n",
       "      <td>25.44</td>\n",
       "    </tr>\n",
       "    <tr>\n",
       "      <th>8</th>\n",
       "      <td>90+</td>\n",
       "      <td>235862</td>\n",
       "      <td>518155</td>\n",
       "      <td>45.52</td>\n",
       "    </tr>\n",
       "  </tbody>\n",
       "</table>\n",
       "</div>"
      ],
      "text/plain": [
       "  fascia_anagrafica  prima_dose  totale_fascia  perc_vaccinata\n",
       "0             16-19        3230        2310358            0.14\n",
       "1             20-29      266951        6327883            4.22\n",
       "2             30-39      387082        8345554            4.64\n",
       "3             40-49      521575        9567872            5.45\n",
       "4             50-59      655248        7871829            8.32\n",
       "5             60-69      370401        6860158            5.40\n",
       "6             70-79      101919        5628974            1.81\n",
       "7             80-89      793049        3117811           25.44\n",
       "8               90+      235862         518155           45.52"
      ]
     },
     "execution_count": 281,
     "metadata": {},
     "output_type": "execute_result"
    }
   ],
   "source": [
    "df_last"
   ]
  },
  {
   "cell_type": "code",
   "execution_count": 282,
   "metadata": {},
   "outputs": [
    {
     "data": {
      "image/png": "[encoded data removed]",
      "text/plain": [
       "<Figure size 1008x504 with 1 Axes>"
      ]
     },
     "metadata": {},
     "output_type": "display_data"
    }
   ],
   "source": [
    "sns.set_style('darkgrid')\n",
    "plt.figure(figsize=(14,7))\n",
    "sns.barplot(data=df_last, x='fascia_anagrafica',y='perc_vaccinata', color='#176AA5').set_title('Elaborazione: @TomZ_UK - Dati: ISS/ISTAT', fontsize=12)\n",
    "plt.ylabel('Percentuale', fontsize=16)\n",
    "plt.xlabel('Fascia Anagrafica', fontsize=16)\n",
    "plt.suptitle('Percentuale di Popolazione Vaccinata con Prima Dose', fontsize=20)\n",
    "\n",
    "plt.savefig('Percentuale_Pop.png')"
   ]
  },
  {
   "cell_type": "code",
   "execution_count": 283,
   "metadata": {},
   "outputs": [
    {
     "data": {
      "text/plain": [
       "4870398"
      ]
     },
     "execution_count": 283,
     "metadata": {},
     "output_type": "execute_result"
    }
   ],
   "source": [
    "(df.prima_dose.sum() + df.seconda_dose.sum())"
   ]
  },
  {
   "cell_type": "code",
   "execution_count": 284,
   "metadata": {},
   "outputs": [],
   "source": [
    "pop.drop(index=0, inplace=True)"
   ]
  },
  {
   "cell_type": "code",
   "execution_count": 285,
   "metadata": {},
   "outputs": [
    {
     "data": {
      "text/plain": [
       "6.6"
      ]
     },
     "execution_count": 285,
     "metadata": {},
     "output_type": "execute_result"
    }
   ],
   "source": [
    "((df.prima_dose.sum()/pop.Totale.sum())*100).round(2)"
   ]
  },
  {
   "cell_type": "markdown",
   "metadata": {},
   "source": [
    "# Gauge Chart"
   ]
  },
  {
   "cell_type": "code",
   "execution_count": 286,
   "metadata": {},
   "outputs": [
    {
     "data": {
      "text/plain": [
       "0         NaN\n",
       "1         0.0\n",
       "2         0.0\n",
       "3         0.0\n",
       "4         0.0\n",
       "       ...   \n",
       "58     8125.0\n",
       "59    24165.0\n",
       "60    29749.0\n",
       "61    40213.0\n",
       "62    36179.0\n",
       "Name: seconda_dose, Length: 63, dtype: float64"
      ]
     },
     "execution_count": 286,
     "metadata": {},
     "output_type": "execute_result"
    }
   ],
   "source": [
    "df_seconda = df.groupby(df.data_somministrazione)[['seconda_dose']].sum().cumsum().reset_index()\n",
    "df_seconda.seconda_dose.diff()"
   ]
  },
  {
   "cell_type": "markdown",
   "metadata": {},
   "source": [
    "df.groupby(['data_somministrazione'])['prima_dose'].sum() \\\n",
    "  .groupby(level=1).cumsum().reset_index()"
   ]
  },
  {
   "cell_type": "code",
   "execution_count": 287,
   "metadata": {},
   "outputs": [],
   "source": [
    "df_prima = df.groupby('data_somministrazione')[['prima_dose']].sum().cumsum().reset_index()"
   ]
  },
  {
   "cell_type": "code",
   "execution_count": 288,
   "metadata": {},
   "outputs": [
    {
     "data": {
      "text/plain": [
       "50548594"
      ]
     },
     "execution_count": 288,
     "metadata": {},
     "output_type": "execute_result"
    }
   ],
   "source": [
    "pop.Totale.sum()"
   ]
  },
  {
   "cell_type": "code",
   "execution_count": 289,
   "metadata": {},
   "outputs": [],
   "source": [
    "df_prima['pct_pop_prima_dose'] = (df_prima.prima_dose/pop.Totale.sum()).mul(100)"
   ]
  },
  {
   "cell_type": "code",
   "execution_count": 290,
   "metadata": {},
   "outputs": [],
   "source": [
    "df_prima['daily_change'] = df_prima.pct_pop_prima_dose.diff()"
   ]
  },
  {
   "cell_type": "code",
   "execution_count": 291,
   "metadata": {},
   "outputs": [
    {
     "data": {
      "text/html": [
       "<div>\n",
       "<style scoped>\n",
       "    .dataframe tbody tr th:only-of-type {\n",
       "        vertical-align: middle;\n",
       "    }\n",
       "\n",
       "    .dataframe tbody tr th {\n",
       "        vertical-align: top;\n",
       "    }\n",
       "\n",
       "    .dataframe thead th {\n",
       "        text-align: right;\n",
       "    }\n",
       "</style>\n",
       "<table border=\"1\" class=\"dataframe\">\n",
       "  <thead>\n",
       "    <tr style=\"text-align: right;\">\n",
       "      <th></th>\n",
       "      <th>data_somministrazione</th>\n",
       "      <th>prima_dose</th>\n",
       "      <th>pct_pop_prima_dose</th>\n",
       "      <th>daily_change</th>\n",
       "      <th>prima_dose_giorno</th>\n",
       "    </tr>\n",
       "  </thead>\n",
       "  <tbody>\n",
       "    <tr>\n",
       "      <th>0</th>\n",
       "      <td>2021-01-01</td>\n",
       "      <td>11038</td>\n",
       "      <td>0.021836</td>\n",
       "      <td>NaN</td>\n",
       "      <td>0.0</td>\n",
       "    </tr>\n",
       "    <tr>\n",
       "      <th>1</th>\n",
       "      <td>2021-01-02</td>\n",
       "      <td>49528</td>\n",
       "      <td>0.097981</td>\n",
       "      <td>0.076145</td>\n",
       "      <td>38490.0</td>\n",
       "    </tr>\n",
       "    <tr>\n",
       "      <th>2</th>\n",
       "      <td>2021-01-03</td>\n",
       "      <td>84643</td>\n",
       "      <td>0.167449</td>\n",
       "      <td>0.069468</td>\n",
       "      <td>35115.0</td>\n",
       "    </tr>\n",
       "    <tr>\n",
       "      <th>3</th>\n",
       "      <td>2021-01-04</td>\n",
       "      <td>153060</td>\n",
       "      <td>0.302798</td>\n",
       "      <td>0.135349</td>\n",
       "      <td>68417.0</td>\n",
       "    </tr>\n",
       "    <tr>\n",
       "      <th>4</th>\n",
       "      <td>2021-01-05</td>\n",
       "      <td>232530</td>\n",
       "      <td>0.460013</td>\n",
       "      <td>0.157215</td>\n",
       "      <td>79470.0</td>\n",
       "    </tr>\n",
       "    <tr>\n",
       "      <th>...</th>\n",
       "      <td>...</td>\n",
       "      <td>...</td>\n",
       "      <td>...</td>\n",
       "      <td>...</td>\n",
       "      <td>...</td>\n",
       "    </tr>\n",
       "    <tr>\n",
       "      <th>58</th>\n",
       "      <td>2021-02-28</td>\n",
       "      <td>2884879</td>\n",
       "      <td>5.707140</td>\n",
       "      <td>0.135855</td>\n",
       "      <td>68673.0</td>\n",
       "    </tr>\n",
       "    <tr>\n",
       "      <th>59</th>\n",
       "      <td>2021-03-01</td>\n",
       "      <td>2990309</td>\n",
       "      <td>5.915712</td>\n",
       "      <td>0.208572</td>\n",
       "      <td>105430.0</td>\n",
       "    </tr>\n",
       "    <tr>\n",
       "      <th>60</th>\n",
       "      <td>2021-03-02</td>\n",
       "      <td>3112673</td>\n",
       "      <td>6.157784</td>\n",
       "      <td>0.242072</td>\n",
       "      <td>122364.0</td>\n",
       "    </tr>\n",
       "    <tr>\n",
       "      <th>61</th>\n",
       "      <td>2021-03-03</td>\n",
       "      <td>3244653</td>\n",
       "      <td>6.418879</td>\n",
       "      <td>0.261095</td>\n",
       "      <td>131980.0</td>\n",
       "    </tr>\n",
       "    <tr>\n",
       "      <th>62</th>\n",
       "      <td>2021-03-04</td>\n",
       "      <td>3335317</td>\n",
       "      <td>6.598239</td>\n",
       "      <td>0.179360</td>\n",
       "      <td>90664.0</td>\n",
       "    </tr>\n",
       "  </tbody>\n",
       "</table>\n",
       "<p>63 rows × 5 columns</p>\n",
       "</div>"
      ],
      "text/plain": [
       "   data_somministrazione  prima_dose  pct_pop_prima_dose  daily_change  \\\n",
       "0             2021-01-01       11038            0.021836           NaN   \n",
       "1             2021-01-02       49528            0.097981      0.076145   \n",
       "2             2021-01-03       84643            0.167449      0.069468   \n",
       "3             2021-01-04      153060            0.302798      0.135349   \n",
       "4             2021-01-05      232530            0.460013      0.157215   \n",
       "..                   ...         ...                 ...           ...   \n",
       "58            2021-02-28     2884879            5.707140      0.135855   \n",
       "59            2021-03-01     2990309            5.915712      0.208572   \n",
       "60            2021-03-02     3112673            6.157784      0.242072   \n",
       "61            2021-03-03     3244653            6.418879      0.261095   \n",
       "62            2021-03-04     3335317            6.598239      0.179360   \n",
       "\n",
       "    prima_dose_giorno  \n",
       "0                 0.0  \n",
       "1             38490.0  \n",
       "2             35115.0  \n",
       "3             68417.0  \n",
       "4             79470.0  \n",
       "..                ...  \n",
       "58            68673.0  \n",
       "59           105430.0  \n",
       "60           122364.0  \n",
       "61           131980.0  \n",
       "62            90664.0  \n",
       "\n",
       "[63 rows x 5 columns]"
      ]
     },
     "execution_count": 291,
     "metadata": {},
     "output_type": "execute_result"
    }
   ],
   "source": [
    "df_prima['prima_dose_giorno'] = df_prima.prima_dose.diff().fillna(0)\n",
    "df_prima"
   ]
  },
  {
   "cell_type": "code",
   "execution_count": 292,
   "metadata": {},
   "outputs": [
    {
     "data": {
      "application/vnd.plotly.v1+json": {
       "config": {
        "plotlyServerURL": "https://plot.ly"
       },
       "data": [
        {
         "delta": {
          "increasing": {
           "color": "Green"
          },
          "reference": 5.349579060497707,
          "valueformat": ".02f"
         },
         "domain": {
          "x": [
           0,
           1
          ],
          "y": [
           0,
           1
          ]
         },
         "gauge": {
          "axis": {
           "range": [
            null,
            100
           ],
           "tickcolor": "darkblue",
           "tickwidth": 1
          },
          "bar": {
           "color": "#FFBF00"
          },
          "bgcolor": "white",
          "bordercolor": "gray",
          "borderwidth": 2,
          "steps": [
           {
            "color": "#85C1E9",
            "range": [
             0,
             80
            ]
           },
           {
            "color": "#85C1E9",
            "range": [
             40,
             60
            ]
           },
           {
            "color": "#85C1E9",
            "range": [
             60,
             80
            ]
           }
          ],
          "threshold": {
           "line": {
            "color": "red",
            "width": 4
           },
           "thickness": 0.75,
           "value": 80
          }
         },
         "mode": "gauge+number+delta",
         "title": {
          "font": {
           "size": 24
          },
          "text": "Percentuale Popolazione 16+ Vaccinata con Prima Dose"
         },
         "type": "indicator",
         "value": 6.6
        }
       ],
       "layout": {
        "font": {
         "color": "darkblue",
         "family": "Arial"
        },
        "paper_bgcolor": "lavender",
        "template": {
         "data": {
          "bar": [
           {
            "error_x": {
             "color": "#2a3f5f"
            },
            "error_y": {
             "color": "#2a3f5f"
            },
            "marker": {
             "line": {
              "color": "#E5ECF6",
              "width": 0.5
             }
            },
            "type": "bar"
           }
          ],
          "barpolar": [
           {
            "marker": {
             "line": {
              "color": "#E5ECF6",
              "width": 0.5
             }
            },
            "type": "barpolar"
           }
          ],
          "carpet": [
           {
            "aaxis": {
             "endlinecolor": "#2a3f5f",
             "gridcolor": "white",
             "linecolor": "white",
             "minorgridcolor": "white",
             "startlinecolor": "#2a3f5f"
            },
            "baxis": {
             "endlinecolor": "#2a3f5f",
             "gridcolor": "white",
             "linecolor": "white",
             "minorgridcolor": "white",
             "startlinecolor": "#2a3f5f"
            },
            "type": "carpet"
           }
          ],
          "choropleth": [
           {
            "colorbar": {
             "outlinewidth": 0,
             "ticks": ""
            },
            "type": "choropleth"
           }
          ],
          "contour": [
           {
            "colorbar": {
             "outlinewidth": 0,
             "ticks": ""
            },
            "colorscale": [
             [
              0,
              "#0d0887"
             ],
             [
              0.1111111111111111,
              "#46039f"
             ],
             [
              0.2222222222222222,
              "#7201a8"
             ],
             [
              0.3333333333333333,
              "#9c179e"
             ],
             [
              0.4444444444444444,
              "#bd3786"
             ],
             [
              0.5555555555555556,
              "#d8576b"
             ],
             [
              0.6666666666666666,
              "#ed7953"
             ],
             [
              0.7777777777777778,
              "#fb9f3a"
             ],
             [
              0.8888888888888888,
              "#fdca26"
             ],
             [
              1,
              "#f0f921"
             ]
            ],
            "type": "contour"
           }
          ],
          "contourcarpet": [
           {
            "colorbar": {
             "outlinewidth": 0,
             "ticks": ""
            },
            "type": "contourcarpet"
           }
          ],
          "heatmap": [
           {
            "colorbar": {
             "outlinewidth": 0,
             "ticks": ""
            },
            "colorscale": [
             [
              0,
              "#0d0887"
             ],
             [
              0.1111111111111111,
              "#46039f"
             ],
             [
              0.2222222222222222,
              "#7201a8"
             ],
             [
              0.3333333333333333,
              "#9c179e"
             ],
             [
              0.4444444444444444,
              "#bd3786"
             ],
             [
              0.5555555555555556,
              "#d8576b"
             ],
             [
              0.6666666666666666,
              "#ed7953"
             ],
             [
              0.7777777777777778,
              "#fb9f3a"
             ],
             [
              0.8888888888888888,
              "#fdca26"
             ],
             [
              1,
              "#f0f921"
             ]
            ],
            "type": "heatmap"
           }
          ],
          "heatmapgl": [
           {
            "colorbar": {
             "outlinewidth": 0,
             "ticks": ""
            },
            "colorscale": [
             [
              0,
              "#0d0887"
             ],
             [
              0.1111111111111111,
              "#46039f"
             ],
             [
              0.2222222222222222,
              "#7201a8"
             ],
             [
              0.3333333333333333,
              "#9c179e"
             ],
             [
              0.4444444444444444,
              "#bd3786"
             ],
             [
              0.5555555555555556,
              "#d8576b"
             ],
             [
              0.6666666666666666,
              "#ed7953"
             ],
             [
              0.7777777777777778,
              "#fb9f3a"
             ],
             [
              0.8888888888888888,
              "#fdca26"
             ],
             [
              1,
              "#f0f921"
             ]
            ],
            "type": "heatmapgl"
           }
          ],
          "histogram": [
           {
            "marker": {
             "colorbar": {
              "outlinewidth": 0,
              "ticks": ""
             }
            },
            "type": "histogram"
           }
          ],
          "histogram2d": [
           {
            "colorbar": {
             "outlinewidth": 0,
             "ticks": ""
            },
            "colorscale": [
             [
              0,
              "#0d0887"
             ],
             [
              0.1111111111111111,
              "#46039f"
             ],
             [
              0.2222222222222222,
              "#7201a8"
             ],
             [
              0.3333333333333333,
              "#9c179e"
             ],
             [
              0.4444444444444444,
              "#bd3786"
             ],
             [
              0.5555555555555556,
              "#d8576b"
             ],
             [
              0.6666666666666666,
              "#ed7953"
             ],
             [
              0.7777777777777778,
              "#fb9f3a"
             ],
             [
              0.8888888888888888,
              "#fdca26"
             ],
             [
              1,
              "#f0f921"
             ]
            ],
            "type": "histogram2d"
           }
          ],
          "histogram2dcontour": [
           {
            "colorbar": {
             "outlinewidth": 0,
             "ticks": ""
            },
            "colorscale": [
             [
              0,
              "#0d0887"
             ],
             [
              0.1111111111111111,
              "#46039f"
             ],
             [
              0.2222222222222222,
              "#7201a8"
             ],
             [
              0.3333333333333333,
              "#9c179e"
             ],
             [
              0.4444444444444444,
              "#bd3786"
             ],
             [
              0.5555555555555556,
              "#d8576b"
             ],
             [
              0.6666666666666666,
              "#ed7953"
             ],
             [
              0.7777777777777778,
              "#fb9f3a"
             ],
             [
              0.8888888888888888,
              "#fdca26"
             ],
             [
              1,
              "#f0f921"
             ]
            ],
            "type": "histogram2dcontour"
           }
          ],
          "mesh3d": [
           {
            "colorbar": {
             "outlinewidth": 0,
             "ticks": ""
            },
            "type": "mesh3d"
           }
          ],
          "parcoords": [
           {
            "line": {
             "colorbar": {
              "outlinewidth": 0,
              "ticks": ""
             }
            },
            "type": "parcoords"
           }
          ],
          "pie": [
           {
            "automargin": true,
            "type": "pie"
           }
          ],
          "scatter": [
           {
            "marker": {
             "colorbar": {
              "outlinewidth": 0,
              "ticks": ""
             }
            },
            "type": "scatter"
           }
          ],
          "scatter3d": [
           {
            "line": {
             "colorbar": {
              "outlinewidth": 0,
              "ticks": ""
             }
            },
            "marker": {
             "colorbar": {
              "outlinewidth": 0,
              "ticks": ""
             }
            },
            "type": "scatter3d"
           }
          ],
          "scattercarpet": [
           {
            "marker": {
             "colorbar": {
              "outlinewidth": 0,
              "ticks": ""
             }
            },
            "type": "scattercarpet"
           }
          ],
          "scattergeo": [
           {
            "marker": {
             "colorbar": {
              "outlinewidth": 0,
              "ticks": ""
             }
            },
            "type": "scattergeo"
           }
          ],
          "scattergl": [
           {
            "marker": {
             "colorbar": {
              "outlinewidth": 0,
              "ticks": ""
             }
            },
            "type": "scattergl"
           }
          ],
          "scattermapbox": [
           {
            "marker": {
             "colorbar": {
              "outlinewidth": 0,
              "ticks": ""
             }
            },
            "type": "scattermapbox"
           }
          ],
          "scatterpolar": [
           {
            "marker": {
             "colorbar": {
              "outlinewidth": 0,
              "ticks": ""
             }
            },
            "type": "scatterpolar"
           }
          ],
          "scatterpolargl": [
           {
            "marker": {
             "colorbar": {
              "outlinewidth": 0,
              "ticks": ""
             }
            },
            "type": "scatterpolargl"
           }
          ],
          "scatterternary": [
           {
            "marker": {
             "colorbar": {
              "outlinewidth": 0,
              "ticks": ""
             }
            },
            "type": "scatterternary"
           }
          ],
          "surface": [
           {
            "colorbar": {
             "outlinewidth": 0,
             "ticks": ""
            },
            "colorscale": [
             [
              0,
              "#0d0887"
             ],
             [
              0.1111111111111111,
              "#46039f"
             ],
             [
              0.2222222222222222,
              "#7201a8"
             ],
             [
              0.3333333333333333,
              "#9c179e"
             ],
             [
              0.4444444444444444,
              "#bd3786"
             ],
             [
              0.5555555555555556,
              "#d8576b"
             ],
             [
              0.6666666666666666,
              "#ed7953"
             ],
             [
              0.7777777777777778,
              "#fb9f3a"
             ],
             [
              0.8888888888888888,
              "#fdca26"
             ],
             [
              1,
              "#f0f921"
             ]
            ],
            "type": "surface"
           }
          ],
          "table": [
           {
            "cells": {
             "fill": {
              "color": "#EBF0F8"
             },
             "line": {
              "color": "white"
             }
            },
            "header": {
             "fill": {
              "color": "#C8D4E3"
             },
             "line": {
              "color": "white"
             }
            },
            "type": "table"
           }
          ]
         },
         "layout": {
          "annotationdefaults": {
           "arrowcolor": "#2a3f5f",
           "arrowhead": 0,
           "arrowwidth": 1
          },
          "coloraxis": {
           "colorbar": {
            "outlinewidth": 0,
            "ticks": ""
           }
          },
          "colorscale": {
           "diverging": [
            [
             0,
             "#8e0152"
            ],
            [
             0.1,
             "#c51b7d"
            ],
            [
             0.2,
             "#de77ae"
            ],
            [
             0.3,
             "#f1b6da"
            ],
            [
             0.4,
             "#fde0ef"
            ],
            [
             0.5,
             "#f7f7f7"
            ],
            [
             0.6,
             "#e6f5d0"
            ],
            [
             0.7,
             "#b8e186"
            ],
            [
             0.8,
             "#7fbc41"
            ],
            [
             0.9,
             "#4d9221"
            ],
            [
             1,
             "#276419"
            ]
           ],
           "sequential": [
            [
             0,
             "#0d0887"
            ],
            [
             0.1111111111111111,
             "#46039f"
            ],
            [
             0.2222222222222222,
             "#7201a8"
            ],
            [
             0.3333333333333333,
             "#9c179e"
            ],
            [
             0.4444444444444444,
             "#bd3786"
            ],
            [
             0.5555555555555556,
             "#d8576b"
            ],
            [
             0.6666666666666666,
             "#ed7953"
            ],
            [
             0.7777777777777778,
             "#fb9f3a"
            ],
            [
             0.8888888888888888,
             "#fdca26"
            ],
            [
             1,
             "#f0f921"
            ]
           ],
           "sequentialminus": [
            [
             0,
             "#0d0887"
            ],
            [
             0.1111111111111111,
             "#46039f"
            ],
            [
             0.2222222222222222,
             "#7201a8"
            ],
            [
             0.3333333333333333,
             "#9c179e"
            ],
            [
             0.4444444444444444,
             "#bd3786"
            ],
            [
             0.5555555555555556,
             "#d8576b"
            ],
            [
             0.6666666666666666,
             "#ed7953"
            ],
            [
             0.7777777777777778,
             "#fb9f3a"
            ],
            [
             0.8888888888888888,
             "#fdca26"
            ],
            [
             1,
             "#f0f921"
            ]
           ]
          },
          "colorway": [
           "#636efa",
           "#EF553B",
           "#00cc96",
           "#ab63fa",
           "#FFA15A",
           "#19d3f3",
           "#FF6692",
           "#B6E880",
           "#FF97FF",
           "#FECB52"
          ],
          "font": {
           "color": "#2a3f5f"
          },
          "geo": {
           "bgcolor": "white",
           "lakecolor": "white",
           "landcolor": "#E5ECF6",
           "showlakes": true,
           "showland": true,
           "subunitcolor": "white"
          },
          "hoverlabel": {
           "align": "left"
          },
          "hovermode": "closest",
          "mapbox": {
           "style": "light"
          },
          "paper_bgcolor": "white",
          "plot_bgcolor": "#E5ECF6",
          "polar": {
           "angularaxis": {
            "gridcolor": "white",
            "linecolor": "white",
            "ticks": ""
           },
           "bgcolor": "#E5ECF6",
           "radialaxis": {
            "gridcolor": "white",
            "linecolor": "white",
            "ticks": ""
           }
          },
          "scene": {
           "xaxis": {
            "backgroundcolor": "#E5ECF6",
            "gridcolor": "white",
            "gridwidth": 2,
            "linecolor": "white",
            "showbackground": true,
            "ticks": "",
            "zerolinecolor": "white"
           },
           "yaxis": {
            "backgroundcolor": "#E5ECF6",
            "gridcolor": "white",
            "gridwidth": 2,
            "linecolor": "white",
            "showbackground": true,
            "ticks": "",
            "zerolinecolor": "white"
           },
           "zaxis": {
            "backgroundcolor": "#E5ECF6",
            "gridcolor": "white",
            "gridwidth": 2,
            "linecolor": "white",
            "showbackground": true,
            "ticks": "",
            "zerolinecolor": "white"
           }
          },
          "shapedefaults": {
           "line": {
            "color": "#2a3f5f"
           }
          },
          "ternary": {
           "aaxis": {
            "gridcolor": "white",
            "linecolor": "white",
            "ticks": ""
           },
           "baxis": {
            "gridcolor": "white",
            "linecolor": "white",
            "ticks": ""
           },
           "bgcolor": "#E5ECF6",
           "caxis": {
            "gridcolor": "white",
            "linecolor": "white",
            "ticks": ""
           }
          },
          "title": {
           "x": 0.05
          },
          "xaxis": {
           "automargin": true,
           "gridcolor": "white",
           "linecolor": "white",
           "ticks": "",
           "title": {
            "standoff": 15
           },
           "zerolinecolor": "white",
           "zerolinewidth": 2
          },
          "yaxis": {
           "automargin": true,
           "gridcolor": "white",
           "linecolor": "white",
           "ticks": "",
           "title": {
            "standoff": 15
           },
           "zerolinecolor": "white",
           "zerolinewidth": 2
          }
         }
        }
       }
      },
      "text/html": [
       "<div>\n",
       "        \n",
       "        \n",
       "            <div id=\"dd2c0beb-2f51-4136-98d7-b5825d69269b\" class=\"plotly-graph-div\" style=\"height:525px; width:100%;\"></div>\n",
       "            <script type=\"text/javascript\">\n",
       "                require([\"plotly\"], function(Plotly) {\n",
       "                    window.PLOTLYENV=window.PLOTLYENV || {};\n",
       "                    \n",
       "                if (document.getElementById(\"dd2c0beb-2f51-4136-98d7-b5825d69269b\")) {\n",
       "                    Plotly.newPlot(\n",
       "                        'dd2c0beb-2f51-4136-98d7-b5825d69269b',\n",
       "                        [{\"delta\": {\"increasing\": {\"color\": \"Green\"}, \"reference\": 5.349579060497707, \"valueformat\": \".02f\"}, \"domain\": {\"x\": [0, 1], \"y\": [0, 1]}, \"gauge\": {\"axis\": {\"range\": [null, 100], \"tickcolor\": \"darkblue\", \"tickwidth\": 1}, \"bar\": {\"color\": \"#FFBF00\"}, \"bgcolor\": \"white\", \"bordercolor\": \"gray\", \"borderwidth\": 2, \"steps\": [{\"color\": \"#85C1E9\", \"range\": [0, 80]}, {\"color\": \"#85C1E9\", \"range\": [40, 60]}, {\"color\": \"#85C1E9\", \"range\": [60, 80]}], \"threshold\": {\"line\": {\"color\": \"red\", \"width\": 4}, \"thickness\": 0.75, \"value\": 80}}, \"mode\": \"gauge+number+delta\", \"title\": {\"font\": {\"size\": 24}, \"text\": \"Percentuale Popolazione 16+ Vaccinata con Prima Dose\"}, \"type\": \"indicator\", \"value\": 6.6}],\n",
       "                        {\"font\": {\"color\": \"darkblue\", \"family\": \"Arial\"}, \"paper_bgcolor\": \"lavender\", \"template\": {\"data\": {\"bar\": [{\"error_x\": {\"color\": \"#2a3f5f\"}, \"error_y\": {\"color\": \"#2a3f5f\"}, \"marker\": {\"line\": {\"color\": \"#E5ECF6\", \"width\": 0.5}}, \"type\": \"bar\"}], \"barpolar\": [{\"marker\": {\"line\": {\"color\": \"#E5ECF6\", \"width\": 0.5}}, \"type\": \"barpolar\"}], \"carpet\": [{\"aaxis\": {\"endlinecolor\": \"#2a3f5f\", \"gridcolor\": \"white\", \"linecolor\": \"white\", \"minorgridcolor\": \"white\", \"startlinecolor\": \"#2a3f5f\"}, \"baxis\": {\"endlinecolor\": \"#2a3f5f\", \"gridcolor\": \"white\", \"linecolor\": \"white\", \"minorgridcolor\": \"white\", \"startlinecolor\": \"#2a3f5f\"}, \"type\": \"carpet\"}], \"choropleth\": [{\"colorbar\": {\"outlinewidth\": 0, \"ticks\": \"\"}, \"type\": \"choropleth\"}], \"contour\": [{\"colorbar\": {\"outlinewidth\": 0, \"ticks\": \"\"}, \"colorscale\": [[0.0, \"#0d0887\"], [0.1111111111111111, \"#46039f\"], [0.2222222222222222, \"#7201a8\"], [0.3333333333333333, \"#9c179e\"], [0.4444444444444444, \"#bd3786\"], [0.5555555555555556, \"#d8576b\"], [0.6666666666666666, \"#ed7953\"], [0.7777777777777778, \"#fb9f3a\"], [0.8888888888888888, \"#fdca26\"], [1.0, \"#f0f921\"]], \"type\": \"contour\"}], \"contourcarpet\": [{\"colorbar\": {\"outlinewidth\": 0, \"ticks\": \"\"}, \"type\": \"contourcarpet\"}], \"heatmap\": [{\"colorbar\": {\"outlinewidth\": 0, \"ticks\": \"\"}, \"colorscale\": [[0.0, \"#0d0887\"], [0.1111111111111111, \"#46039f\"], [0.2222222222222222, \"#7201a8\"], [0.3333333333333333, \"#9c179e\"], [0.4444444444444444, \"#bd3786\"], [0.5555555555555556, \"#d8576b\"], [0.6666666666666666, \"#ed7953\"], [0.7777777777777778, \"#fb9f3a\"], [0.8888888888888888, \"#fdca26\"], [1.0, \"#f0f921\"]], \"type\": \"heatmap\"}], \"heatmapgl\": [{\"colorbar\": {\"outlinewidth\": 0, \"ticks\": \"\"}, \"colorscale\": [[0.0, \"#0d0887\"], [0.1111111111111111, \"#46039f\"], [0.2222222222222222, \"#7201a8\"], [0.3333333333333333, \"#9c179e\"], [0.4444444444444444, \"#bd3786\"], [0.5555555555555556, \"#d8576b\"], [0.6666666666666666, \"#ed7953\"], [0.7777777777777778, \"#fb9f3a\"], [0.8888888888888888, \"#fdca26\"], [1.0, \"#f0f921\"]], \"type\": \"heatmapgl\"}], \"histogram\": [{\"marker\": {\"colorbar\": {\"outlinewidth\": 0, \"ticks\": \"\"}}, \"type\": \"histogram\"}], \"histogram2d\": [{\"colorbar\": {\"outlinewidth\": 0, \"ticks\": \"\"}, \"colorscale\": [[0.0, \"#0d0887\"], [0.1111111111111111, \"#46039f\"], [0.2222222222222222, \"#7201a8\"], [0.3333333333333333, \"#9c179e\"], [0.4444444444444444, \"#bd3786\"], [0.5555555555555556, \"#d8576b\"], [0.6666666666666666, \"#ed7953\"], [0.7777777777777778, \"#fb9f3a\"], [0.8888888888888888, \"#fdca26\"], [1.0, \"#f0f921\"]], \"type\": \"histogram2d\"}], \"histogram2dcontour\": [{\"colorbar\": {\"outlinewidth\": 0, \"ticks\": \"\"}, \"colorscale\": [[0.0, \"#0d0887\"], [0.1111111111111111, \"#46039f\"], [0.2222222222222222, \"#7201a8\"], [0.3333333333333333, \"#9c179e\"], [0.4444444444444444, \"#bd3786\"], [0.5555555555555556, \"#d8576b\"], [0.6666666666666666, \"#ed7953\"], [0.7777777777777778, \"#fb9f3a\"], [0.8888888888888888, \"#fdca26\"], [1.0, \"#f0f921\"]], \"type\": \"histogram2dcontour\"}], \"mesh3d\": [{\"colorbar\": {\"outlinewidth\": 0, \"ticks\": \"\"}, \"type\": \"mesh3d\"}], \"parcoords\": [{\"line\": {\"colorbar\": {\"outlinewidth\": 0, \"ticks\": \"\"}}, \"type\": \"parcoords\"}], \"pie\": [{\"automargin\": true, \"type\": \"pie\"}], \"scatter\": [{\"marker\": {\"colorbar\": {\"outlinewidth\": 0, \"ticks\": \"\"}}, \"type\": \"scatter\"}], \"scatter3d\": [{\"line\": {\"colorbar\": {\"outlinewidth\": 0, \"ticks\": \"\"}}, \"marker\": {\"colorbar\": {\"outlinewidth\": 0, \"ticks\": \"\"}}, \"type\": \"scatter3d\"}], \"scattercarpet\": [{\"marker\": {\"colorbar\": {\"outlinewidth\": 0, \"ticks\": \"\"}}, \"type\": \"scattercarpet\"}], \"scattergeo\": [{\"marker\": {\"colorbar\": {\"outlinewidth\": 0, \"ticks\": \"\"}}, \"type\": \"scattergeo\"}], \"scattergl\": [{\"marker\": {\"colorbar\": {\"outlinewidth\": 0, \"ticks\": \"\"}}, \"type\": \"scattergl\"}], \"scattermapbox\": [{\"marker\": {\"colorbar\": {\"outlinewidth\": 0, \"ticks\": \"\"}}, \"type\": \"scattermapbox\"}], \"scatterpolar\": [{\"marker\": {\"colorbar\": {\"outlinewidth\": 0, \"ticks\": \"\"}}, \"type\": \"scatterpolar\"}], \"scatterpolargl\": [{\"marker\": {\"colorbar\": {\"outlinewidth\": 0, \"ticks\": \"\"}}, \"type\": \"scatterpolargl\"}], \"scatterternary\": [{\"marker\": {\"colorbar\": {\"outlinewidth\": 0, \"ticks\": \"\"}}, \"type\": \"scatterternary\"}], \"surface\": [{\"colorbar\": {\"outlinewidth\": 0, \"ticks\": \"\"}, \"colorscale\": [[0.0, \"#0d0887\"], [0.1111111111111111, \"#46039f\"], [0.2222222222222222, \"#7201a8\"], [0.3333333333333333, \"#9c179e\"], [0.4444444444444444, \"#bd3786\"], [0.5555555555555556, \"#d8576b\"], [0.6666666666666666, \"#ed7953\"], [0.7777777777777778, \"#fb9f3a\"], [0.8888888888888888, \"#fdca26\"], [1.0, \"#f0f921\"]], \"type\": \"surface\"}], \"table\": [{\"cells\": {\"fill\": {\"color\": \"#EBF0F8\"}, \"line\": {\"color\": \"white\"}}, \"header\": {\"fill\": {\"color\": \"#C8D4E3\"}, \"line\": {\"color\": \"white\"}}, \"type\": \"table\"}]}, \"layout\": {\"annotationdefaults\": {\"arrowcolor\": \"#2a3f5f\", \"arrowhead\": 0, \"arrowwidth\": 1}, \"coloraxis\": {\"colorbar\": {\"outlinewidth\": 0, \"ticks\": \"\"}}, \"colorscale\": {\"diverging\": [[0, \"#8e0152\"], [0.1, \"#c51b7d\"], [0.2, \"#de77ae\"], [0.3, \"#f1b6da\"], [0.4, \"#fde0ef\"], [0.5, \"#f7f7f7\"], [0.6, \"#e6f5d0\"], [0.7, \"#b8e186\"], [0.8, \"#7fbc41\"], [0.9, \"#4d9221\"], [1, \"#276419\"]], \"sequential\": [[0.0, \"#0d0887\"], [0.1111111111111111, \"#46039f\"], [0.2222222222222222, \"#7201a8\"], [0.3333333333333333, \"#9c179e\"], [0.4444444444444444, \"#bd3786\"], [0.5555555555555556, \"#d8576b\"], [0.6666666666666666, \"#ed7953\"], [0.7777777777777778, \"#fb9f3a\"], [0.8888888888888888, \"#fdca26\"], [1.0, \"#f0f921\"]], \"sequentialminus\": [[0.0, \"#0d0887\"], [0.1111111111111111, \"#46039f\"], [0.2222222222222222, \"#7201a8\"], [0.3333333333333333, \"#9c179e\"], [0.4444444444444444, \"#bd3786\"], [0.5555555555555556, \"#d8576b\"], [0.6666666666666666, \"#ed7953\"], [0.7777777777777778, \"#fb9f3a\"], [0.8888888888888888, \"#fdca26\"], [1.0, \"#f0f921\"]]}, \"colorway\": [\"#636efa\", \"#EF553B\", \"#00cc96\", \"#ab63fa\", \"#FFA15A\", \"#19d3f3\", \"#FF6692\", \"#B6E880\", \"#FF97FF\", \"#FECB52\"], \"font\": {\"color\": \"#2a3f5f\"}, \"geo\": {\"bgcolor\": \"white\", \"lakecolor\": \"white\", \"landcolor\": \"#E5ECF6\", \"showlakes\": true, \"showland\": true, \"subunitcolor\": \"white\"}, \"hoverlabel\": {\"align\": \"left\"}, \"hovermode\": \"closest\", \"mapbox\": {\"style\": \"light\"}, \"paper_bgcolor\": \"white\", \"plot_bgcolor\": \"#E5ECF6\", \"polar\": {\"angularaxis\": {\"gridcolor\": \"white\", \"linecolor\": \"white\", \"ticks\": \"\"}, \"bgcolor\": \"#E5ECF6\", \"radialaxis\": {\"gridcolor\": \"white\", \"linecolor\": \"white\", \"ticks\": \"\"}}, \"scene\": {\"xaxis\": {\"backgroundcolor\": \"#E5ECF6\", \"gridcolor\": \"white\", \"gridwidth\": 2, \"linecolor\": \"white\", \"showbackground\": true, \"ticks\": \"\", \"zerolinecolor\": \"white\"}, \"yaxis\": {\"backgroundcolor\": \"#E5ECF6\", \"gridcolor\": \"white\", \"gridwidth\": 2, \"linecolor\": \"white\", \"showbackground\": true, \"ticks\": \"\", \"zerolinecolor\": \"white\"}, \"zaxis\": {\"backgroundcolor\": \"#E5ECF6\", \"gridcolor\": \"white\", \"gridwidth\": 2, \"linecolor\": \"white\", \"showbackground\": true, \"ticks\": \"\", \"zerolinecolor\": \"white\"}}, \"shapedefaults\": {\"line\": {\"color\": \"#2a3f5f\"}}, \"ternary\": {\"aaxis\": {\"gridcolor\": \"white\", \"linecolor\": \"white\", \"ticks\": \"\"}, \"baxis\": {\"gridcolor\": \"white\", \"linecolor\": \"white\", \"ticks\": \"\"}, \"bgcolor\": \"#E5ECF6\", \"caxis\": {\"gridcolor\": \"white\", \"linecolor\": \"white\", \"ticks\": \"\"}}, \"title\": {\"x\": 0.05}, \"xaxis\": {\"automargin\": true, \"gridcolor\": \"white\", \"linecolor\": \"white\", \"ticks\": \"\", \"title\": {\"standoff\": 15}, \"zerolinecolor\": \"white\", \"zerolinewidth\": 2}, \"yaxis\": {\"automargin\": true, \"gridcolor\": \"white\", \"linecolor\": \"white\", \"ticks\": \"\", \"title\": {\"standoff\": 15}, \"zerolinecolor\": \"white\", \"zerolinewidth\": 2}}}},\n",
       "                        {\"responsive\": true}\n",
       "                    ).then(function(){\n",
       "                            \n",
       "var gd = document.getElementById('dd2c0beb-2f51-4136-98d7-b5825d69269b');\n",
       "var x = new MutationObserver(function (mutations, observer) {{\n",
       "        var display = window.getComputedStyle(gd).display;\n",
       "        if (!display || display === 'none') {{\n",
       "            console.log([gd, 'removed!']);\n",
       "            Plotly.purge(gd);\n",
       "            observer.disconnect();\n",
       "        }}\n",
       "}});\n",
       "\n",
       "// Listen for the removal of the full notebook cells\n",
       "var notebookContainer = gd.closest('#notebook-container');\n",
       "if (notebookContainer) {{\n",
       "    x.observe(notebookContainer, {childList: true});\n",
       "}}\n",
       "\n",
       "// Listen for the clearing of the current output cell\n",
       "var outputEl = gd.closest('.output');\n",
       "if (outputEl) {{\n",
       "    x.observe(outputEl, {childList: true});\n",
       "}}\n",
       "\n",
       "                        })\n",
       "                };\n",
       "                });\n",
       "            </script>\n",
       "        </div>"
      ]
     },
     "metadata": {},
     "output_type": "display_data"
    }
   ],
   "source": [
    "fig = go.Figure(go.Indicator(\n",
    "    mode = \"gauge+number+delta\",\n",
    "    value = float(df_prima.pct_pop_prima_dose.tail(1).round(1)),\n",
    "    domain = {'x': [0, 1], 'y': [0, 1]},\n",
    "    title = {'text': \"Percentuale Popolazione 16+ Vaccinata con Prima Dose\", 'font': {'size': 24}},\n",
    "    delta = {'reference': float(df_prima.pct_pop_prima_dose.iloc[-7]), 'increasing': {'color': \"Green\"},\n",
    "            'valueformat':'.02f'},\n",
    "    gauge = {\n",
    "        'axis': {'range': [None, 100], 'tickwidth': 1, 'tickcolor': \"darkblue\"},\n",
    "        'bar': {'color': \"#FFBF00\"},\n",
    "        'bgcolor': \"white\",\n",
    "        'borderwidth': 2,\n",
    "        'bordercolor': \"gray\",\n",
    "        'steps': [\n",
    "            {'range': [0, 80], 'color': '#85C1E9'},\n",
    "            {'range': [40, 60], 'color': '#85C1E9'},\n",
    "            {'range': [60, 80], 'color': '#85C1E9'}],\n",
    "        'threshold': {\n",
    "            'line': {'color': \"red\", 'width': 4},\n",
    "            'thickness': 0.75,\n",
    "            'value': 80}}))\n",
    "\n",
    "fig.update_layout(paper_bgcolor = \"lavender\", font = {'color': \"darkblue\", 'family': \"Arial\"})\n",
    "\n",
    "fig"
   ]
  },
  {
   "cell_type": "code",
   "execution_count": 293,
   "metadata": {},
   "outputs": [
    {
     "data": {
      "text/html": [
       "<div>\n",
       "<style scoped>\n",
       "    .dataframe tbody tr th:only-of-type {\n",
       "        vertical-align: middle;\n",
       "    }\n",
       "\n",
       "    .dataframe tbody tr th {\n",
       "        vertical-align: top;\n",
       "    }\n",
       "\n",
       "    .dataframe thead th {\n",
       "        text-align: right;\n",
       "    }\n",
       "</style>\n",
       "<table border=\"1\" class=\"dataframe\">\n",
       "  <thead>\n",
       "    <tr style=\"text-align: right;\">\n",
       "      <th></th>\n",
       "      <th>data_somministrazione</th>\n",
       "      <th>prima_dose</th>\n",
       "      <th>pct_pop_prima_dose</th>\n",
       "      <th>daily_change</th>\n",
       "      <th>prima_dose_giorno</th>\n",
       "      <th>seconda_dose_giorno</th>\n",
       "    </tr>\n",
       "  </thead>\n",
       "  <tbody>\n",
       "    <tr>\n",
       "      <th>0</th>\n",
       "      <td>2021-01-01</td>\n",
       "      <td>11038</td>\n",
       "      <td>0.021836</td>\n",
       "      <td>NaN</td>\n",
       "      <td>0.0</td>\n",
       "      <td>0.0</td>\n",
       "    </tr>\n",
       "    <tr>\n",
       "      <th>1</th>\n",
       "      <td>2021-01-02</td>\n",
       "      <td>49528</td>\n",
       "      <td>0.097981</td>\n",
       "      <td>0.076145</td>\n",
       "      <td>38490.0</td>\n",
       "      <td>0.0</td>\n",
       "    </tr>\n",
       "    <tr>\n",
       "      <th>2</th>\n",
       "      <td>2021-01-03</td>\n",
       "      <td>84643</td>\n",
       "      <td>0.167449</td>\n",
       "      <td>0.069468</td>\n",
       "      <td>35115.0</td>\n",
       "      <td>0.0</td>\n",
       "    </tr>\n",
       "    <tr>\n",
       "      <th>3</th>\n",
       "      <td>2021-01-04</td>\n",
       "      <td>153060</td>\n",
       "      <td>0.302798</td>\n",
       "      <td>0.135349</td>\n",
       "      <td>68417.0</td>\n",
       "      <td>0.0</td>\n",
       "    </tr>\n",
       "    <tr>\n",
       "      <th>4</th>\n",
       "      <td>2021-01-05</td>\n",
       "      <td>232530</td>\n",
       "      <td>0.460013</td>\n",
       "      <td>0.157215</td>\n",
       "      <td>79470.0</td>\n",
       "      <td>0.0</td>\n",
       "    </tr>\n",
       "    <tr>\n",
       "      <th>...</th>\n",
       "      <td>...</td>\n",
       "      <td>...</td>\n",
       "      <td>...</td>\n",
       "      <td>...</td>\n",
       "      <td>...</td>\n",
       "      <td>...</td>\n",
       "    </tr>\n",
       "    <tr>\n",
       "      <th>58</th>\n",
       "      <td>2021-02-28</td>\n",
       "      <td>2884879</td>\n",
       "      <td>5.707140</td>\n",
       "      <td>0.135855</td>\n",
       "      <td>68673.0</td>\n",
       "      <td>8125.0</td>\n",
       "    </tr>\n",
       "    <tr>\n",
       "      <th>59</th>\n",
       "      <td>2021-03-01</td>\n",
       "      <td>2990309</td>\n",
       "      <td>5.915712</td>\n",
       "      <td>0.208572</td>\n",
       "      <td>105430.0</td>\n",
       "      <td>24165.0</td>\n",
       "    </tr>\n",
       "    <tr>\n",
       "      <th>60</th>\n",
       "      <td>2021-03-02</td>\n",
       "      <td>3112673</td>\n",
       "      <td>6.157784</td>\n",
       "      <td>0.242072</td>\n",
       "      <td>122364.0</td>\n",
       "      <td>29749.0</td>\n",
       "    </tr>\n",
       "    <tr>\n",
       "      <th>61</th>\n",
       "      <td>2021-03-03</td>\n",
       "      <td>3244653</td>\n",
       "      <td>6.418879</td>\n",
       "      <td>0.261095</td>\n",
       "      <td>131980.0</td>\n",
       "      <td>40213.0</td>\n",
       "    </tr>\n",
       "    <tr>\n",
       "      <th>62</th>\n",
       "      <td>2021-03-04</td>\n",
       "      <td>3335317</td>\n",
       "      <td>6.598239</td>\n",
       "      <td>0.179360</td>\n",
       "      <td>90664.0</td>\n",
       "      <td>36179.0</td>\n",
       "    </tr>\n",
       "  </tbody>\n",
       "</table>\n",
       "<p>63 rows × 6 columns</p>\n",
       "</div>"
      ],
      "text/plain": [
       "   data_somministrazione  prima_dose  pct_pop_prima_dose  daily_change  \\\n",
       "0             2021-01-01       11038            0.021836           NaN   \n",
       "1             2021-01-02       49528            0.097981      0.076145   \n",
       "2             2021-01-03       84643            0.167449      0.069468   \n",
       "3             2021-01-04      153060            0.302798      0.135349   \n",
       "4             2021-01-05      232530            0.460013      0.157215   \n",
       "..                   ...         ...                 ...           ...   \n",
       "58            2021-02-28     2884879            5.707140      0.135855   \n",
       "59            2021-03-01     2990309            5.915712      0.208572   \n",
       "60            2021-03-02     3112673            6.157784      0.242072   \n",
       "61            2021-03-03     3244653            6.418879      0.261095   \n",
       "62            2021-03-04     3335317            6.598239      0.179360   \n",
       "\n",
       "    prima_dose_giorno  seconda_dose_giorno  \n",
       "0                 0.0                  0.0  \n",
       "1             38490.0                  0.0  \n",
       "2             35115.0                  0.0  \n",
       "3             68417.0                  0.0  \n",
       "4             79470.0                  0.0  \n",
       "..                ...                  ...  \n",
       "58            68673.0               8125.0  \n",
       "59           105430.0              24165.0  \n",
       "60           122364.0              29749.0  \n",
       "61           131980.0              40213.0  \n",
       "62            90664.0              36179.0  \n",
       "\n",
       "[63 rows x 6 columns]"
      ]
     },
     "execution_count": 293,
     "metadata": {},
     "output_type": "execute_result"
    }
   ],
   "source": [
    "df_prima['seconda_dose_giorno'] = df_seconda.seconda_dose.diff().fillna(0)\n",
    "df_prima"
   ]
  },
  {
   "cell_type": "code",
   "execution_count": 294,
   "metadata": {},
   "outputs": [
    {
     "data": {
      "image/png": "[encoded data removed]",
      "text/plain": [
       "<Figure size 1008x504 with 1 Axes>"
      ]
     },
     "metadata": {},
     "output_type": "display_data"
    }
   ],
   "source": [
    "plt.figure(figsize=(14,7))\n",
    "sns.lineplot(data=df_prima, x='data_somministrazione', y='prima_dose_giorno', \n",
    "             linewidth=4).set_title('Elaborazione: @TomZ_UK - Dati: ISS')\n",
    "plt.suptitle('Somministrazioni Quotidiane - Prima Dose', fontsize=20)\n",
    "plt.xlabel('')\n",
    "plt.xticks(fontsize=14)\n",
    "plt.ylabel('')\n",
    "plt.yticks(fontsize=14)\n",
    "\n",
    "plt.savefig('daily_first_doses.png')"
   ]
  },
  {
   "cell_type": "code",
   "execution_count": 295,
   "metadata": {},
   "outputs": [
    {
     "name": "stderr",
     "output_type": "stream",
     "text": [
      "/Users/admin/opt/anaconda3/lib/python3.7/site-packages/pandas/core/frame.py:4446: SettingWithCopyWarning:\n",
      "\n",
      "\n",
      "A value is trying to be set on a copy of a slice from a DataFrame\n",
      "\n",
      "See the caveats in the documentation: https://pandas.pydata.org/pandas-docs/stable/user_guide/indexing.html#returning-a-view-versus-a-copy\n",
      "\n"
     ]
    },
    {
     "data": {
      "text/html": [
       "<div>\n",
       "<style scoped>\n",
       "    .dataframe tbody tr th:only-of-type {\n",
       "        vertical-align: middle;\n",
       "    }\n",
       "\n",
       "    .dataframe tbody tr th {\n",
       "        vertical-align: top;\n",
       "    }\n",
       "\n",
       "    .dataframe thead th {\n",
       "        text-align: right;\n",
       "    }\n",
       "</style>\n",
       "<table border=\"1\" class=\"dataframe\">\n",
       "  <thead>\n",
       "    <tr style=\"text-align: right;\">\n",
       "      <th></th>\n",
       "      <th>data_somministrazione</th>\n",
       "      <th>Prima Dose</th>\n",
       "      <th>Seconda Dose</th>\n",
       "    </tr>\n",
       "  </thead>\n",
       "  <tbody>\n",
       "    <tr>\n",
       "      <th>0</th>\n",
       "      <td>2021-01-01</td>\n",
       "      <td>0.0</td>\n",
       "      <td>0.0</td>\n",
       "    </tr>\n",
       "    <tr>\n",
       "      <th>1</th>\n",
       "      <td>2021-01-02</td>\n",
       "      <td>38490.0</td>\n",
       "      <td>0.0</td>\n",
       "    </tr>\n",
       "    <tr>\n",
       "      <th>2</th>\n",
       "      <td>2021-01-03</td>\n",
       "      <td>35115.0</td>\n",
       "      <td>0.0</td>\n",
       "    </tr>\n",
       "    <tr>\n",
       "      <th>3</th>\n",
       "      <td>2021-01-04</td>\n",
       "      <td>68417.0</td>\n",
       "      <td>0.0</td>\n",
       "    </tr>\n",
       "    <tr>\n",
       "      <th>4</th>\n",
       "      <td>2021-01-05</td>\n",
       "      <td>79470.0</td>\n",
       "      <td>0.0</td>\n",
       "    </tr>\n",
       "    <tr>\n",
       "      <th>...</th>\n",
       "      <td>...</td>\n",
       "      <td>...</td>\n",
       "      <td>...</td>\n",
       "    </tr>\n",
       "    <tr>\n",
       "      <th>58</th>\n",
       "      <td>2021-02-28</td>\n",
       "      <td>68673.0</td>\n",
       "      <td>8125.0</td>\n",
       "    </tr>\n",
       "    <tr>\n",
       "      <th>59</th>\n",
       "      <td>2021-03-01</td>\n",
       "      <td>105430.0</td>\n",
       "      <td>24165.0</td>\n",
       "    </tr>\n",
       "    <tr>\n",
       "      <th>60</th>\n",
       "      <td>2021-03-02</td>\n",
       "      <td>122364.0</td>\n",
       "      <td>29749.0</td>\n",
       "    </tr>\n",
       "    <tr>\n",
       "      <th>61</th>\n",
       "      <td>2021-03-03</td>\n",
       "      <td>131980.0</td>\n",
       "      <td>40213.0</td>\n",
       "    </tr>\n",
       "    <tr>\n",
       "      <th>62</th>\n",
       "      <td>2021-03-04</td>\n",
       "      <td>90664.0</td>\n",
       "      <td>36179.0</td>\n",
       "    </tr>\n",
       "  </tbody>\n",
       "</table>\n",
       "<p>63 rows × 3 columns</p>\n",
       "</div>"
      ],
      "text/plain": [
       "   data_somministrazione  Prima Dose  Seconda Dose\n",
       "0             2021-01-01         0.0           0.0\n",
       "1             2021-01-02     38490.0           0.0\n",
       "2             2021-01-03     35115.0           0.0\n",
       "3             2021-01-04     68417.0           0.0\n",
       "4             2021-01-05     79470.0           0.0\n",
       "..                   ...         ...           ...\n",
       "58            2021-02-28     68673.0        8125.0\n",
       "59            2021-03-01    105430.0       24165.0\n",
       "60            2021-03-02    122364.0       29749.0\n",
       "61            2021-03-03    131980.0       40213.0\n",
       "62            2021-03-04     90664.0       36179.0\n",
       "\n",
       "[63 rows x 3 columns]"
      ]
     },
     "execution_count": 295,
     "metadata": {},
     "output_type": "execute_result"
    }
   ],
   "source": [
    "df_pl = df_prima[['data_somministrazione','prima_dose_giorno','seconda_dose_giorno']]\n",
    "df_pl.rename(columns={'prima_dose_giorno':'Prima Dose', 'seconda_dose_giorno':'Seconda Dose'}, inplace=True)\n",
    "df_pl"
   ]
  },
  {
   "cell_type": "code",
   "execution_count": 296,
   "metadata": {},
   "outputs": [],
   "source": [
    "df_pl = df_pl.melt(id_vars=['data_somministrazione'])\n"
   ]
  },
  {
   "cell_type": "code",
   "execution_count": 297,
   "metadata": {},
   "outputs": [
    {
     "data": {
      "image/png": "[encoded data removed]",
      "text/plain": [
       "<Figure size 1008x504 with 1 Axes>"
      ]
     },
     "metadata": {},
     "output_type": "display_data"
    }
   ],
   "source": [
    "\n",
    "plt.figure(figsize=(14,7))\n",
    "sns.lineplot(data=df_pl, x='data_somministrazione',y='value',hue='variable',\n",
    "            linewidth=3, palette='tab10', marker='o').set_title('Elaborazione: @TomZ_UK - Dati: ISS')\n",
    "plt.suptitle('Somministrazioni Giornaliere', fontsize=20)\n",
    "plt.legend(fontsize=14)\n",
    "\n",
    "plt.xlabel('')\n",
    "plt.xticks(fontsize=14, rotation=45)\n",
    "plt.ylabel('')\n",
    "plt.yticks(fontsize=14)\n",
    "\n",
    "plt.savefig('daily_doses.png')"
   ]
  },
  {
   "cell_type": "markdown",
   "metadata": {},
   "source": [
    "# Regionale"
   ]
  },
  {
   "cell_type": "code",
   "execution_count": 298,
   "metadata": {},
   "outputs": [
    {
     "name": "stderr",
     "output_type": "stream",
     "text": [
      "/Users/admin/opt/anaconda3/lib/python3.7/site-packages/ipykernel_launcher.py:1: FutureWarning:\n",
      "\n",
      "Indexing with multiple keys (implicitly converted to a tuple of keys) will be deprecated, use a list instead.\n",
      "\n"
     ]
    },
    {
     "data": {
      "text/html": [
       "<div>\n",
       "<style scoped>\n",
       "    .dataframe tbody tr th:only-of-type {\n",
       "        vertical-align: middle;\n",
       "    }\n",
       "\n",
       "    .dataframe tbody tr th {\n",
       "        vertical-align: top;\n",
       "    }\n",
       "\n",
       "    .dataframe thead th {\n",
       "        text-align: right;\n",
       "    }\n",
       "</style>\n",
       "<table border=\"1\" class=\"dataframe\">\n",
       "  <thead>\n",
       "    <tr style=\"text-align: right;\">\n",
       "      <th></th>\n",
       "      <th>prima_dose</th>\n",
       "      <th>seconda_dose</th>\n",
       "    </tr>\n",
       "    <tr>\n",
       "      <th>area</th>\n",
       "      <th></th>\n",
       "      <th></th>\n",
       "    </tr>\n",
       "  </thead>\n",
       "  <tbody>\n",
       "    <tr>\n",
       "      <th>ABR</th>\n",
       "      <td>71557</td>\n",
       "      <td>25488</td>\n",
       "    </tr>\n",
       "    <tr>\n",
       "      <th>BAS</th>\n",
       "      <td>33455</td>\n",
       "      <td>12910</td>\n",
       "    </tr>\n",
       "    <tr>\n",
       "      <th>CAL</th>\n",
       "      <td>75348</td>\n",
       "      <td>39804</td>\n",
       "    </tr>\n",
       "    <tr>\n",
       "      <th>CAM</th>\n",
       "      <td>305918</td>\n",
       "      <td>134361</td>\n",
       "    </tr>\n",
       "    <tr>\n",
       "      <th>EMR</th>\n",
       "      <td>282489</td>\n",
       "      <td>146577</td>\n",
       "    </tr>\n",
       "    <tr>\n",
       "      <th>FVG</th>\n",
       "      <td>83474</td>\n",
       "      <td>38891</td>\n",
       "    </tr>\n",
       "    <tr>\n",
       "      <th>LAZ</th>\n",
       "      <td>333789</td>\n",
       "      <td>139231</td>\n",
       "    </tr>\n",
       "    <tr>\n",
       "      <th>LIG</th>\n",
       "      <td>89365</td>\n",
       "      <td>40742</td>\n",
       "    </tr>\n",
       "    <tr>\n",
       "      <th>LOM</th>\n",
       "      <td>498963</td>\n",
       "      <td>261269</td>\n",
       "    </tr>\n",
       "    <tr>\n",
       "      <th>MAR</th>\n",
       "      <td>87333</td>\n",
       "      <td>32593</td>\n",
       "    </tr>\n",
       "    <tr>\n",
       "      <th>MOL</th>\n",
       "      <td>16824</td>\n",
       "      <td>8075</td>\n",
       "    </tr>\n",
       "    <tr>\n",
       "      <th>PAB</th>\n",
       "      <td>38156</td>\n",
       "      <td>22535</td>\n",
       "    </tr>\n",
       "    <tr>\n",
       "      <th>PAT</th>\n",
       "      <td>29852</td>\n",
       "      <td>17058</td>\n",
       "    </tr>\n",
       "    <tr>\n",
       "      <th>PIE</th>\n",
       "      <td>282029</td>\n",
       "      <td>142612</td>\n",
       "    </tr>\n",
       "    <tr>\n",
       "      <th>PUG</th>\n",
       "      <td>226229</td>\n",
       "      <td>81567</td>\n",
       "    </tr>\n",
       "    <tr>\n",
       "      <th>SAR</th>\n",
       "      <td>66759</td>\n",
       "      <td>32360</td>\n",
       "    </tr>\n",
       "    <tr>\n",
       "      <th>SIC</th>\n",
       "      <td>266286</td>\n",
       "      <td>120410</td>\n",
       "    </tr>\n",
       "    <tr>\n",
       "      <th>TOS</th>\n",
       "      <td>246730</td>\n",
       "      <td>92882</td>\n",
       "    </tr>\n",
       "    <tr>\n",
       "      <th>UMB</th>\n",
       "      <td>42218</td>\n",
       "      <td>16505</td>\n",
       "    </tr>\n",
       "    <tr>\n",
       "      <th>VDA</th>\n",
       "      <td>8869</td>\n",
       "      <td>4860</td>\n",
       "    </tr>\n",
       "    <tr>\n",
       "      <th>VEN</th>\n",
       "      <td>249674</td>\n",
       "      <td>124351</td>\n",
       "    </tr>\n",
       "  </tbody>\n",
       "</table>\n",
       "</div>"
      ],
      "text/plain": [
       "      prima_dose  seconda_dose\n",
       "area                          \n",
       "ABR        71557         25488\n",
       "BAS        33455         12910\n",
       "CAL        75348         39804\n",
       "CAM       305918        134361\n",
       "EMR       282489        146577\n",
       "FVG        83474         38891\n",
       "LAZ       333789        139231\n",
       "LIG        89365         40742\n",
       "LOM       498963        261269\n",
       "MAR        87333         32593\n",
       "MOL        16824          8075\n",
       "PAB        38156         22535\n",
       "PAT        29852         17058\n",
       "PIE       282029        142612\n",
       "PUG       226229         81567\n",
       "SAR        66759         32360\n",
       "SIC       266286        120410\n",
       "TOS       246730         92882\n",
       "UMB        42218         16505\n",
       "VDA         8869          4860\n",
       "VEN       249674        124351"
      ]
     },
     "execution_count": 298,
     "metadata": {},
     "output_type": "execute_result"
    }
   ],
   "source": [
    "df_reg = df.groupby('area')['prima_dose','seconda_dose'].sum()\n",
    "df_reg"
   ]
  },
  {
   "cell_type": "code",
   "execution_count": 299,
   "metadata": {},
   "outputs": [],
   "source": [
    "df_reg.rename(index={'ABR':'Abruzzo','BAS':'Basilicata','CAL':'Calabria',\n",
    "                    'CAM':'Campania','EMR':'Emilia-Romagna','FVG':'Friuli Venezia Giulia',\n",
    "                    'LAZ':'Lazio','LIG':'Liguria','LOM':'Lombardia','MAR':'Marche','MOL':'Molise',\n",
    "                    'PIE':'Piemonte','PUG':'Puglia','SAR':'Sardegna','SIC':'Sicilia','TOS':'Toscana',\n",
    "                    'UMB':'Umbria','VDA':\"Valle d'Aosta\",'VEN':'Veneto'}, inplace=True)"
   ]
  },
  {
   "cell_type": "code",
   "execution_count": 300,
   "metadata": {},
   "outputs": [],
   "source": [
    "reg = pd.read_html('https://www.tuttitalia.it/regioni/popolazione/', thousands='.')[0]\n",
    "reg = reg[['Regione', 'Popolazioneresidenti']]"
   ]
  },
  {
   "cell_type": "code",
   "execution_count": 301,
   "metadata": {},
   "outputs": [],
   "source": [
    "df_reg.reset_index(inplace=True)\n",
    "df_reg_m = df_reg.merge(reg, left_on='area',right_on='Regione', how='inner')\n",
    "df_reg_m = df_reg_m[['area','prima_dose','seconda_dose','Popolazioneresidenti']]"
   ]
  },
  {
   "cell_type": "code",
   "execution_count": 302,
   "metadata": {},
   "outputs": [],
   "source": [
    "df_reg_m['pct_prima_dose'] = (df_reg_m.prima_dose / df_reg_m.Popolazioneresidenti).mul(100).round(2)\n",
    "df_reg_m['pct_seconda_dose'] = (df_reg_m.seconda_dose / df_reg_m.Popolazioneresidenti).mul(100).round(2)"
   ]
  },
  {
   "cell_type": "code",
   "execution_count": 303,
   "metadata": {},
   "outputs": [],
   "source": [
    "df_reg_m.rename(columns={'pct_prima_dose':'Prima Dose pct', 'pct_seconda_dose':'Seconda Dose pct'}, inplace=True)"
   ]
  },
  {
   "cell_type": "code",
   "execution_count": 304,
   "metadata": {},
   "outputs": [],
   "source": [
    "reg_melt = df_reg_m.melt(id_vars='area', value_vars=['Prima Dose pct','Seconda Dose pct'])"
   ]
  },
  {
   "cell_type": "code",
   "execution_count": 305,
   "metadata": {},
   "outputs": [
    {
     "data": {
      "text/plain": [
       "(array([ 0,  1,  2,  3,  4,  5,  6,  7,  8,  9, 10, 11, 12, 13, 14, 15, 16,\n",
       "        17, 18]),\n",
       " <a list of 19 Text major ticklabel objects>)"
      ]
     },
     "execution_count": 305,
     "metadata": {},
     "output_type": "execute_result"
    },
    {
     "data": {
      "image/png": "[encoded data removed]",
      "text/plain": [
       "<Figure size 1008x504 with 1 Axes>"
      ]
     },
     "metadata": {},
     "output_type": "display_data"
    }
   ],
   "source": [
    "plt.figure(figsize=(14,7))\n",
    "\n",
    "sns.barplot(data=reg_melt, x='area', y='value', hue='variable').set_title('Elaborazione: @TomZ_UK - Dati: ISS')\n",
    "plt.suptitle('Percentuale Popolazione Vaccinata', fontsize=20)\n",
    "plt.xticks(rotation=80, fontsize=14)"
   ]
  },
  {
   "cell_type": "markdown",
   "metadata": {},
   "source": [
    "# Deliveries"
   ]
  },
  {
   "cell_type": "code",
   "execution_count": 306,
   "metadata": {},
   "outputs": [
    {
     "data": {
      "text/html": [
       "<div>\n",
       "<style scoped>\n",
       "    .dataframe tbody tr th:only-of-type {\n",
       "        vertical-align: middle;\n",
       "    }\n",
       "\n",
       "    .dataframe tbody tr th {\n",
       "        vertical-align: top;\n",
       "    }\n",
       "\n",
       "    .dataframe thead th {\n",
       "        text-align: right;\n",
       "    }\n",
       "</style>\n",
       "<table border=\"1\" class=\"dataframe\">\n",
       "  <thead>\n",
       "    <tr style=\"text-align: right;\">\n",
       "      <th></th>\n",
       "      <th>area</th>\n",
       "      <th>fornitore</th>\n",
       "      <th>numero_dosi</th>\n",
       "      <th>data_consegna</th>\n",
       "      <th>codice_NUTS1</th>\n",
       "      <th>codice_NUTS2</th>\n",
       "      <th>codice_regione_ISTAT</th>\n",
       "      <th>nome_area</th>\n",
       "    </tr>\n",
       "  </thead>\n",
       "  <tbody>\n",
       "    <tr>\n",
       "      <th>0</th>\n",
       "      <td>ABR</td>\n",
       "      <td>Pfizer/BioNTech</td>\n",
       "      <td>135</td>\n",
       "      <td>2020-12-27</td>\n",
       "      <td>ITF</td>\n",
       "      <td>ITF1</td>\n",
       "      <td>13</td>\n",
       "      <td>Abruzzo</td>\n",
       "    </tr>\n",
       "    <tr>\n",
       "      <th>1</th>\n",
       "      <td>ABR</td>\n",
       "      <td>Pfizer/BioNTech</td>\n",
       "      <td>7800</td>\n",
       "      <td>2020-12-30</td>\n",
       "      <td>ITF</td>\n",
       "      <td>ITF1</td>\n",
       "      <td>13</td>\n",
       "      <td>Abruzzo</td>\n",
       "    </tr>\n",
       "    <tr>\n",
       "      <th>2</th>\n",
       "      <td>ABR</td>\n",
       "      <td>Pfizer/BioNTech</td>\n",
       "      <td>3900</td>\n",
       "      <td>2021-01-05</td>\n",
       "      <td>ITF</td>\n",
       "      <td>ITF1</td>\n",
       "      <td>13</td>\n",
       "      <td>Abruzzo</td>\n",
       "    </tr>\n",
       "    <tr>\n",
       "      <th>3</th>\n",
       "      <td>ABR</td>\n",
       "      <td>Pfizer/BioNTech</td>\n",
       "      <td>3900</td>\n",
       "      <td>2021-01-07</td>\n",
       "      <td>ITF</td>\n",
       "      <td>ITF1</td>\n",
       "      <td>13</td>\n",
       "      <td>Abruzzo</td>\n",
       "    </tr>\n",
       "    <tr>\n",
       "      <th>4</th>\n",
       "      <td>ABR</td>\n",
       "      <td>Pfizer/BioNTech</td>\n",
       "      <td>3900</td>\n",
       "      <td>2021-01-11</td>\n",
       "      <td>ITF</td>\n",
       "      <td>ITF1</td>\n",
       "      <td>13</td>\n",
       "      <td>Abruzzo</td>\n",
       "    </tr>\n",
       "  </tbody>\n",
       "</table>\n",
       "</div>"
      ],
      "text/plain": [
       "  area        fornitore  numero_dosi data_consegna codice_NUTS1 codice_NUTS2  \\\n",
       "0  ABR  Pfizer/BioNTech          135    2020-12-27          ITF         ITF1   \n",
       "1  ABR  Pfizer/BioNTech         7800    2020-12-30          ITF         ITF1   \n",
       "2  ABR  Pfizer/BioNTech         3900    2021-01-05          ITF         ITF1   \n",
       "3  ABR  Pfizer/BioNTech         3900    2021-01-07          ITF         ITF1   \n",
       "4  ABR  Pfizer/BioNTech         3900    2021-01-11          ITF         ITF1   \n",
       "\n",
       "   codice_regione_ISTAT nome_area  \n",
       "0                    13   Abruzzo  \n",
       "1                    13   Abruzzo  \n",
       "2                    13   Abruzzo  \n",
       "3                    13   Abruzzo  \n",
       "4                    13   Abruzzo  "
      ]
     },
     "execution_count": 306,
     "metadata": {},
     "output_type": "execute_result"
    }
   ],
   "source": [
    "deliveries = pd.read_csv('https://raw.githubusercontent.com/italia/covid19-opendata-vaccini/master/dati/consegne-vaccini-latest.csv')\n",
    "deliveries.head()"
   ]
  },
  {
   "cell_type": "code",
   "execution_count": 307,
   "metadata": {},
   "outputs": [
    {
     "data": {
      "text/html": [
       "<div>\n",
       "<style scoped>\n",
       "    .dataframe tbody tr th:only-of-type {\n",
       "        vertical-align: middle;\n",
       "    }\n",
       "\n",
       "    .dataframe tbody tr th {\n",
       "        vertical-align: top;\n",
       "    }\n",
       "\n",
       "    .dataframe thead th {\n",
       "        text-align: right;\n",
       "    }\n",
       "</style>\n",
       "<table border=\"1\" class=\"dataframe\">\n",
       "  <thead>\n",
       "    <tr style=\"text-align: right;\">\n",
       "      <th></th>\n",
       "      <th>data_consegna</th>\n",
       "      <th>nome_area</th>\n",
       "      <th>fornitore</th>\n",
       "      <th>numero_dosi</th>\n",
       "    </tr>\n",
       "  </thead>\n",
       "  <tbody>\n",
       "    <tr>\n",
       "      <th>0</th>\n",
       "      <td>2020-12-27</td>\n",
       "      <td>Abruzzo</td>\n",
       "      <td>Pfizer/BioNTech</td>\n",
       "      <td>135</td>\n",
       "    </tr>\n",
       "    <tr>\n",
       "      <th>1</th>\n",
       "      <td>2020-12-27</td>\n",
       "      <td>Basilicata</td>\n",
       "      <td>Pfizer/BioNTech</td>\n",
       "      <td>105</td>\n",
       "    </tr>\n",
       "    <tr>\n",
       "      <th>2</th>\n",
       "      <td>2020-12-27</td>\n",
       "      <td>Calabria</td>\n",
       "      <td>Pfizer/BioNTech</td>\n",
       "      <td>280</td>\n",
       "    </tr>\n",
       "    <tr>\n",
       "      <th>3</th>\n",
       "      <td>2020-12-27</td>\n",
       "      <td>Campania</td>\n",
       "      <td>Pfizer/BioNTech</td>\n",
       "      <td>720</td>\n",
       "    </tr>\n",
       "    <tr>\n",
       "      <th>4</th>\n",
       "      <td>2020-12-27</td>\n",
       "      <td>Emilia-Romagna</td>\n",
       "      <td>Pfizer/BioNTech</td>\n",
       "      <td>975</td>\n",
       "    </tr>\n",
       "  </tbody>\n",
       "</table>\n",
       "</div>"
      ],
      "text/plain": [
       "  data_consegna       nome_area        fornitore  numero_dosi\n",
       "0    2020-12-27         Abruzzo  Pfizer/BioNTech          135\n",
       "1    2020-12-27      Basilicata  Pfizer/BioNTech          105\n",
       "2    2020-12-27        Calabria  Pfizer/BioNTech          280\n",
       "3    2020-12-27        Campania  Pfizer/BioNTech          720\n",
       "4    2020-12-27  Emilia-Romagna  Pfizer/BioNTech          975"
      ]
     },
     "execution_count": 307,
     "metadata": {},
     "output_type": "execute_result"
    }
   ],
   "source": [
    "deliveries = deliveries.groupby(['data_consegna','nome_area','fornitore'])[['numero_dosi']].sum().reset_index()\n",
    "deliveries.head()"
   ]
  },
  {
   "cell_type": "code",
   "execution_count": 308,
   "metadata": {},
   "outputs": [
    {
     "data": {
      "text/plain": [
       "array(['Abruzzo', 'Basilicata', 'Calabria', 'Campania', 'Emilia-Romagna',\n",
       "       'Friuli-Venezia Giulia', 'Lazio', 'Liguria', 'Lombardia', 'Marche',\n",
       "       'Molise', 'Piemonte', 'Provincia Autonoma Bolzano / Bozen',\n",
       "       'Provincia Autonoma Trento', 'Puglia', 'Sardegna', 'Sicilia',\n",
       "       'Toscana', 'Umbria', \"Valle d'Aosta / Vallée d'Aoste\", 'Veneto'],\n",
       "      dtype=object)"
      ]
     },
     "execution_count": 308,
     "metadata": {},
     "output_type": "execute_result"
    }
   ],
   "source": [
    "deliveries.nome_area.unique()"
   ]
  },
  {
   "cell_type": "code",
   "execution_count": 309,
   "metadata": {},
   "outputs": [],
   "source": [
    "deliveries.replace({'Provincia Autonoma Trento':'PAT','Provincia Autonoma Bolzano / Bozen':'PAB',\"Valle d'Aosta / Vallée d'Aoste\":\"Valle d'Aosta\"},\n",
    "                  \n",
    "                 inplace=True)"
   ]
  },
  {
   "cell_type": "code",
   "execution_count": 310,
   "metadata": {},
   "outputs": [],
   "source": [
    "df_reg['totale_somministrato'] = df_reg.prima_dose + df_reg.seconda_dose"
   ]
  },
  {
   "cell_type": "code",
   "execution_count": 311,
   "metadata": {},
   "outputs": [
    {
     "data": {
      "text/plain": [
       "array(['Abruzzo', 'Basilicata', 'Calabria', 'Campania', 'Emilia-Romagna',\n",
       "       'Friuli-Venezia Giulia', 'Lazio', 'Liguria', 'Lombardia', 'Marche',\n",
       "       'Molise', 'Piemonte', 'PAB', 'PAT', 'Puglia', 'Sardegna',\n",
       "       'Sicilia', 'Toscana', 'Umbria', \"Valle d'Aosta\", 'Veneto'],\n",
       "      dtype=object)"
      ]
     },
     "execution_count": 311,
     "metadata": {},
     "output_type": "execute_result"
    }
   ],
   "source": [
    "deliveries.nome_area.unique()"
   ]
  },
  {
   "cell_type": "code",
   "execution_count": 312,
   "metadata": {},
   "outputs": [
    {
     "data": {
      "text/html": [
       "<div>\n",
       "<style scoped>\n",
       "    .dataframe tbody tr th:only-of-type {\n",
       "        vertical-align: middle;\n",
       "    }\n",
       "\n",
       "    .dataframe tbody tr th {\n",
       "        vertical-align: top;\n",
       "    }\n",
       "\n",
       "    .dataframe thead th {\n",
       "        text-align: right;\n",
       "    }\n",
       "</style>\n",
       "<table border=\"1\" class=\"dataframe\">\n",
       "  <thead>\n",
       "    <tr style=\"text-align: right;\">\n",
       "      <th></th>\n",
       "      <th>area</th>\n",
       "      <th>prima_dose</th>\n",
       "      <th>seconda_dose</th>\n",
       "      <th>totale_somministrato</th>\n",
       "      <th>data_consegna</th>\n",
       "      <th>nome_area</th>\n",
       "      <th>fornitore</th>\n",
       "      <th>numero_dosi</th>\n",
       "    </tr>\n",
       "  </thead>\n",
       "  <tbody>\n",
       "    <tr>\n",
       "      <th>0</th>\n",
       "      <td>Abruzzo</td>\n",
       "      <td>71557</td>\n",
       "      <td>25488</td>\n",
       "      <td>97045</td>\n",
       "      <td>2020-12-27</td>\n",
       "      <td>Abruzzo</td>\n",
       "      <td>Pfizer/BioNTech</td>\n",
       "      <td>135</td>\n",
       "    </tr>\n",
       "    <tr>\n",
       "      <th>1</th>\n",
       "      <td>Abruzzo</td>\n",
       "      <td>71557</td>\n",
       "      <td>25488</td>\n",
       "      <td>97045</td>\n",
       "      <td>2020-12-30</td>\n",
       "      <td>Abruzzo</td>\n",
       "      <td>Pfizer/BioNTech</td>\n",
       "      <td>7800</td>\n",
       "    </tr>\n",
       "    <tr>\n",
       "      <th>2</th>\n",
       "      <td>Abruzzo</td>\n",
       "      <td>71557</td>\n",
       "      <td>25488</td>\n",
       "      <td>97045</td>\n",
       "      <td>2021-01-05</td>\n",
       "      <td>Abruzzo</td>\n",
       "      <td>Pfizer/BioNTech</td>\n",
       "      <td>3900</td>\n",
       "    </tr>\n",
       "    <tr>\n",
       "      <th>3</th>\n",
       "      <td>Abruzzo</td>\n",
       "      <td>71557</td>\n",
       "      <td>25488</td>\n",
       "      <td>97045</td>\n",
       "      <td>2021-01-07</td>\n",
       "      <td>Abruzzo</td>\n",
       "      <td>Pfizer/BioNTech</td>\n",
       "      <td>3900</td>\n",
       "    </tr>\n",
       "    <tr>\n",
       "      <th>4</th>\n",
       "      <td>Abruzzo</td>\n",
       "      <td>71557</td>\n",
       "      <td>25488</td>\n",
       "      <td>97045</td>\n",
       "      <td>2021-01-11</td>\n",
       "      <td>Abruzzo</td>\n",
       "      <td>Pfizer/BioNTech</td>\n",
       "      <td>3900</td>\n",
       "    </tr>\n",
       "    <tr>\n",
       "      <th>...</th>\n",
       "      <td>...</td>\n",
       "      <td>...</td>\n",
       "      <td>...</td>\n",
       "      <td>...</td>\n",
       "      <td>...</td>\n",
       "      <td>...</td>\n",
       "      <td>...</td>\n",
       "      <td>...</td>\n",
       "    </tr>\n",
       "    <tr>\n",
       "      <th>452</th>\n",
       "      <td>Veneto</td>\n",
       "      <td>249674</td>\n",
       "      <td>124351</td>\n",
       "      <td>374025</td>\n",
       "      <td>2021-02-18</td>\n",
       "      <td>Veneto</td>\n",
       "      <td>Pfizer/BioNTech</td>\n",
       "      <td>49140</td>\n",
       "    </tr>\n",
       "    <tr>\n",
       "      <th>453</th>\n",
       "      <td>Veneto</td>\n",
       "      <td>249674</td>\n",
       "      <td>124351</td>\n",
       "      <td>374025</td>\n",
       "      <td>2021-02-20</td>\n",
       "      <td>Veneto</td>\n",
       "      <td>AstraZeneca</td>\n",
       "      <td>41300</td>\n",
       "    </tr>\n",
       "    <tr>\n",
       "      <th>454</th>\n",
       "      <td>Veneto</td>\n",
       "      <td>249674</td>\n",
       "      <td>124351</td>\n",
       "      <td>374025</td>\n",
       "      <td>2021-02-23</td>\n",
       "      <td>Veneto</td>\n",
       "      <td>Pfizer/BioNTech</td>\n",
       "      <td>50310</td>\n",
       "    </tr>\n",
       "    <tr>\n",
       "      <th>455</th>\n",
       "      <td>Veneto</td>\n",
       "      <td>249674</td>\n",
       "      <td>124351</td>\n",
       "      <td>374025</td>\n",
       "      <td>2021-02-27</td>\n",
       "      <td>Veneto</td>\n",
       "      <td>AstraZeneca</td>\n",
       "      <td>37300</td>\n",
       "    </tr>\n",
       "    <tr>\n",
       "      <th>456</th>\n",
       "      <td>Veneto</td>\n",
       "      <td>249674</td>\n",
       "      <td>124351</td>\n",
       "      <td>374025</td>\n",
       "      <td>2021-02-28</td>\n",
       "      <td>Veneto</td>\n",
       "      <td>Moderna</td>\n",
       "      <td>19700</td>\n",
       "    </tr>\n",
       "  </tbody>\n",
       "</table>\n",
       "<p>457 rows × 8 columns</p>\n",
       "</div>"
      ],
      "text/plain": [
       "        area  prima_dose  seconda_dose  totale_somministrato data_consegna  \\\n",
       "0    Abruzzo       71557         25488                 97045    2020-12-27   \n",
       "1    Abruzzo       71557         25488                 97045    2020-12-30   \n",
       "2    Abruzzo       71557         25488                 97045    2021-01-05   \n",
       "3    Abruzzo       71557         25488                 97045    2021-01-07   \n",
       "4    Abruzzo       71557         25488                 97045    2021-01-11   \n",
       "..       ...         ...           ...                   ...           ...   \n",
       "452   Veneto      249674        124351                374025    2021-02-18   \n",
       "453   Veneto      249674        124351                374025    2021-02-20   \n",
       "454   Veneto      249674        124351                374025    2021-02-23   \n",
       "455   Veneto      249674        124351                374025    2021-02-27   \n",
       "456   Veneto      249674        124351                374025    2021-02-28   \n",
       "\n",
       "    nome_area        fornitore  numero_dosi  \n",
       "0     Abruzzo  Pfizer/BioNTech          135  \n",
       "1     Abruzzo  Pfizer/BioNTech         7800  \n",
       "2     Abruzzo  Pfizer/BioNTech         3900  \n",
       "3     Abruzzo  Pfizer/BioNTech         3900  \n",
       "4     Abruzzo  Pfizer/BioNTech         3900  \n",
       "..        ...              ...          ...  \n",
       "452    Veneto  Pfizer/BioNTech        49140  \n",
       "453    Veneto      AstraZeneca        41300  \n",
       "454    Veneto  Pfizer/BioNTech        50310  \n",
       "455    Veneto      AstraZeneca        37300  \n",
       "456    Veneto          Moderna        19700  \n",
       "\n",
       "[457 rows x 8 columns]"
      ]
     },
     "execution_count": 312,
     "metadata": {},
     "output_type": "execute_result"
    }
   ],
   "source": [
    "df_reg.merge(deliveries, left_on='area', right_on='nome_area')"
   ]
  },
  {
   "cell_type": "code",
   "execution_count": 313,
   "metadata": {},
   "outputs": [],
   "source": [
    "deliveries1 = deliveries.groupby('nome_area')[['numero_dosi']].sum().reset_index()"
   ]
  },
  {
   "cell_type": "code",
   "execution_count": 314,
   "metadata": {},
   "outputs": [],
   "source": [
    "del_merged = df_reg.merge(deliveries1, left_on='area', right_on='nome_area')\n",
    "del_merged.drop('nome_area', axis=1, inplace=True)\n",
    "del_merged['pct_somministrato'] = (del_merged.totale_somministrato/del_merged.numero_dosi).mul(100).round(2)"
   ]
  },
  {
   "cell_type": "code",
   "execution_count": 328,
   "metadata": {},
   "outputs": [
    {
     "data": {
      "text/html": [
       "<div>\n",
       "<style scoped>\n",
       "    .dataframe tbody tr th:only-of-type {\n",
       "        vertical-align: middle;\n",
       "    }\n",
       "\n",
       "    .dataframe tbody tr th {\n",
       "        vertical-align: top;\n",
       "    }\n",
       "\n",
       "    .dataframe thead th {\n",
       "        text-align: right;\n",
       "    }\n",
       "</style>\n",
       "<table border=\"1\" class=\"dataframe\">\n",
       "  <thead>\n",
       "    <tr style=\"text-align: right;\">\n",
       "      <th></th>\n",
       "      <th>area</th>\n",
       "      <th>prima_dose</th>\n",
       "      <th>seconda_dose</th>\n",
       "      <th>totale_somministrato</th>\n",
       "      <th>numero_dosi</th>\n",
       "      <th>pct_somministrato</th>\n",
       "    </tr>\n",
       "  </thead>\n",
       "  <tbody>\n",
       "    <tr>\n",
       "      <th>0</th>\n",
       "      <td>Abruzzo</td>\n",
       "      <td>71557</td>\n",
       "      <td>25488</td>\n",
       "      <td>97045</td>\n",
       "      <td>129950</td>\n",
       "      <td>74.68</td>\n",
       "    </tr>\n",
       "    <tr>\n",
       "      <th>1</th>\n",
       "      <td>Basilicata</td>\n",
       "      <td>33455</td>\n",
       "      <td>12910</td>\n",
       "      <td>46365</td>\n",
       "      <td>62275</td>\n",
       "      <td>74.45</td>\n",
       "    </tr>\n",
       "    <tr>\n",
       "      <th>2</th>\n",
       "      <td>Calabria</td>\n",
       "      <td>75348</td>\n",
       "      <td>39804</td>\n",
       "      <td>115152</td>\n",
       "      <td>193580</td>\n",
       "      <td>59.49</td>\n",
       "    </tr>\n",
       "    <tr>\n",
       "      <th>3</th>\n",
       "      <td>Campania</td>\n",
       "      <td>305918</td>\n",
       "      <td>134361</td>\n",
       "      <td>440279</td>\n",
       "      <td>534515</td>\n",
       "      <td>82.37</td>\n",
       "    </tr>\n",
       "    <tr>\n",
       "      <th>4</th>\n",
       "      <td>Emilia-Romagna</td>\n",
       "      <td>282489</td>\n",
       "      <td>146577</td>\n",
       "      <td>429066</td>\n",
       "      <td>559350</td>\n",
       "      <td>76.71</td>\n",
       "    </tr>\n",
       "  </tbody>\n",
       "</table>\n",
       "</div>"
      ],
      "text/plain": [
       "             area  prima_dose  seconda_dose  totale_somministrato  \\\n",
       "0         Abruzzo       71557         25488                 97045   \n",
       "1      Basilicata       33455         12910                 46365   \n",
       "2        Calabria       75348         39804                115152   \n",
       "3        Campania      305918        134361                440279   \n",
       "4  Emilia-Romagna      282489        146577                429066   \n",
       "\n",
       "   numero_dosi  pct_somministrato  \n",
       "0       129950              74.68  \n",
       "1        62275              74.45  \n",
       "2       193580              59.49  \n",
       "3       534515              82.37  \n",
       "4       559350              76.71  "
      ]
     },
     "execution_count": 328,
     "metadata": {},
     "output_type": "execute_result"
    }
   ],
   "source": [
    "del_merged.head()"
   ]
  },
  {
   "cell_type": "code",
   "execution_count": 315,
   "metadata": {},
   "outputs": [],
   "source": [
    "media = np.mean(del_merged.pct_somministrato)"
   ]
  },
  {
   "cell_type": "code",
   "execution_count": 316,
   "metadata": {},
   "outputs": [
    {
     "data": {
      "image/png": "[encoded data removed]",
      "text/plain": [
       "<Figure size 1080x576 with 1 Axes>"
      ]
     },
     "metadata": {},
     "output_type": "display_data"
    }
   ],
   "source": [
    "plt.figure(figsize=(15,8))\n",
    "fig = sns.barplot(data=del_merged.sort_values('pct_somministrato'), x='area', y='pct_somministrato',\n",
    "           color='#1573B2')\n",
    "fig.axhline(media, ls='--', color='#E89429',\n",
    "           lw=2.5)\n",
    "fig.text(0.2,media+1,f'Media Nazionale: {media:.2f}',\n",
    "        fontsize=13)\n",
    "plt.suptitle('Percentuale Somministrata sul Consegnato', fontsize=20)\n",
    "plt.title('Elaborazione: @TomZ_UK - Dati: ISS')\n",
    "plt.xticks(rotation=35, fontsize=12)\n",
    "plt.ylim(40,100)\n",
    "\n",
    "plt.savefig('pct_somministrato_consegnato.png')"
   ]
  },
  {
   "cell_type": "code",
   "execution_count": 317,
   "metadata": {},
   "outputs": [
    {
     "data": {
      "application/vnd.plotly.v1+json": {
       "config": {
        "plotlyServerURL": "https://plot.ly"
       },
       "data": [
        {
         "alignmentgroup": "True",
         "hovertemplate": "area=%{x}<br>pct_somministrato=%{y}<br>prima_dose=%{marker.color}<extra></extra>",
         "legendgroup": "",
         "marker": {
          "color": [
           71557,
           33455,
           75348,
           305918,
           282489,
           333789,
           89365,
           498963,
           87333,
           16824,
           38156,
           29852,
           282029,
           226229,
           66759,
           266286,
           246730,
           42218,
           8869,
           249674
          ],
          "coloraxis": "coloraxis"
         },
         "name": "",
         "offsetgroup": "",
         "orientation": "v",
         "showlegend": false,
         "textposition": "auto",
         "type": "bar",
         "x": [
          "Abruzzo",
          "Basilicata",
          "Calabria",
          "Campania",
          "Emilia-Romagna",
          "Lazio",
          "Liguria",
          "Lombardia",
          "Marche",
          "Molise",
          "PAB",
          "PAT",
          "Piemonte",
          "Puglia",
          "Sardegna",
          "Sicilia",
          "Toscana",
          "Umbria",
          "Valle d'Aosta",
          "Veneto"
         ],
         "xaxis": "x",
         "y": [
          74.68,
          74.45,
          59.49,
          82.37,
          76.71,
          75.01,
          64.16,
          70.55,
          76.42,
          70.33,
          84.39,
          75.84,
          79.66,
          79.28,
          59.93,
          73.48,
          82.42,
          67.47,
          90.68,
          68.86
         ],
         "yaxis": "y"
        }
       ],
       "layout": {
        "barmode": "relative",
        "coloraxis": {
         "colorbar": {
          "title": {
           "text": "prima_dose"
          }
         },
         "colorscale": [
          [
           0,
           "#0d0887"
          ],
          [
           0.1111111111111111,
           "#46039f"
          ],
          [
           0.2222222222222222,
           "#7201a8"
          ],
          [
           0.3333333333333333,
           "#9c179e"
          ],
          [
           0.4444444444444444,
           "#bd3786"
          ],
          [
           0.5555555555555556,
           "#d8576b"
          ],
          [
           0.6666666666666666,
           "#ed7953"
          ],
          [
           0.7777777777777778,
           "#fb9f3a"
          ],
          [
           0.8888888888888888,
           "#fdca26"
          ],
          [
           1,
           "#f0f921"
          ]
         ]
        },
        "legend": {
         "tracegroupgap": 0
        },
        "margin": {
         "t": 60
        },
        "template": {
         "data": {
          "bar": [
           {
            "error_x": {
             "color": "#2a3f5f"
            },
            "error_y": {
             "color": "#2a3f5f"
            },
            "marker": {
             "line": {
              "color": "#E5ECF6",
              "width": 0.5
             }
            },
            "type": "bar"
           }
          ],
          "barpolar": [
           {
            "marker": {
             "line": {
              "color": "#E5ECF6",
              "width": 0.5
             }
            },
            "type": "barpolar"
           }
          ],
          "carpet": [
           {
            "aaxis": {
             "endlinecolor": "#2a3f5f",
             "gridcolor": "white",
             "linecolor": "white",
             "minorgridcolor": "white",
             "startlinecolor": "#2a3f5f"
            },
            "baxis": {
             "endlinecolor": "#2a3f5f",
             "gridcolor": "white",
             "linecolor": "white",
             "minorgridcolor": "white",
             "startlinecolor": "#2a3f5f"
            },
            "type": "carpet"
           }
          ],
          "choropleth": [
           {
            "colorbar": {
             "outlinewidth": 0,
             "ticks": ""
            },
            "type": "choropleth"
           }
          ],
          "contour": [
           {
            "colorbar": {
             "outlinewidth": 0,
             "ticks": ""
            },
            "colorscale": [
             [
              0,
              "#0d0887"
             ],
             [
              0.1111111111111111,
              "#46039f"
             ],
             [
              0.2222222222222222,
              "#7201a8"
             ],
             [
              0.3333333333333333,
              "#9c179e"
             ],
             [
              0.4444444444444444,
              "#bd3786"
             ],
             [
              0.5555555555555556,
              "#d8576b"
             ],
             [
              0.6666666666666666,
              "#ed7953"
             ],
             [
              0.7777777777777778,
              "#fb9f3a"
             ],
             [
              0.8888888888888888,
              "#fdca26"
             ],
             [
              1,
              "#f0f921"
             ]
            ],
            "type": "contour"
           }
          ],
          "contourcarpet": [
           {
            "colorbar": {
             "outlinewidth": 0,
             "ticks": ""
            },
            "type": "contourcarpet"
           }
          ],
          "heatmap": [
           {
            "colorbar": {
             "outlinewidth": 0,
             "ticks": ""
            },
            "colorscale": [
             [
              0,
              "#0d0887"
             ],
             [
              0.1111111111111111,
              "#46039f"
             ],
             [
              0.2222222222222222,
              "#7201a8"
             ],
             [
              0.3333333333333333,
              "#9c179e"
             ],
             [
              0.4444444444444444,
              "#bd3786"
             ],
             [
              0.5555555555555556,
              "#d8576b"
             ],
             [
              0.6666666666666666,
              "#ed7953"
             ],
             [
              0.7777777777777778,
              "#fb9f3a"
             ],
             [
              0.8888888888888888,
              "#fdca26"
             ],
             [
              1,
              "#f0f921"
             ]
            ],
            "type": "heatmap"
           }
          ],
          "heatmapgl": [
           {
            "colorbar": {
             "outlinewidth": 0,
             "ticks": ""
            },
            "colorscale": [
             [
              0,
              "#0d0887"
             ],
             [
              0.1111111111111111,
              "#46039f"
             ],
             [
              0.2222222222222222,
              "#7201a8"
             ],
             [
              0.3333333333333333,
              "#9c179e"
             ],
             [
              0.4444444444444444,
              "#bd3786"
             ],
             [
              0.5555555555555556,
              "#d8576b"
             ],
             [
              0.6666666666666666,
              "#ed7953"
             ],
             [
              0.7777777777777778,
              "#fb9f3a"
             ],
             [
              0.8888888888888888,
              "#fdca26"
             ],
             [
              1,
              "#f0f921"
             ]
            ],
            "type": "heatmapgl"
           }
          ],
          "histogram": [
           {
            "marker": {
             "colorbar": {
              "outlinewidth": 0,
              "ticks": ""
             }
            },
            "type": "histogram"
           }
          ],
          "histogram2d": [
           {
            "colorbar": {
             "outlinewidth": 0,
             "ticks": ""
            },
            "colorscale": [
             [
              0,
              "#0d0887"
             ],
             [
              0.1111111111111111,
              "#46039f"
             ],
             [
              0.2222222222222222,
              "#7201a8"
             ],
             [
              0.3333333333333333,
              "#9c179e"
             ],
             [
              0.4444444444444444,
              "#bd3786"
             ],
             [
              0.5555555555555556,
              "#d8576b"
             ],
             [
              0.6666666666666666,
              "#ed7953"
             ],
             [
              0.7777777777777778,
              "#fb9f3a"
             ],
             [
              0.8888888888888888,
              "#fdca26"
             ],
             [
              1,
              "#f0f921"
             ]
            ],
            "type": "histogram2d"
           }
          ],
          "histogram2dcontour": [
           {
            "colorbar": {
             "outlinewidth": 0,
             "ticks": ""
            },
            "colorscale": [
             [
              0,
              "#0d0887"
             ],
             [
              0.1111111111111111,
              "#46039f"
             ],
             [
              0.2222222222222222,
              "#7201a8"
             ],
             [
              0.3333333333333333,
              "#9c179e"
             ],
             [
              0.4444444444444444,
              "#bd3786"
             ],
             [
              0.5555555555555556,
              "#d8576b"
             ],
             [
              0.6666666666666666,
              "#ed7953"
             ],
             [
              0.7777777777777778,
              "#fb9f3a"
             ],
             [
              0.8888888888888888,
              "#fdca26"
             ],
             [
              1,
              "#f0f921"
             ]
            ],
            "type": "histogram2dcontour"
           }
          ],
          "mesh3d": [
           {
            "colorbar": {
             "outlinewidth": 0,
             "ticks": ""
            },
            "type": "mesh3d"
           }
          ],
          "parcoords": [
           {
            "line": {
             "colorbar": {
              "outlinewidth": 0,
              "ticks": ""
             }
            },
            "type": "parcoords"
           }
          ],
          "pie": [
           {
            "automargin": true,
            "type": "pie"
           }
          ],
          "scatter": [
           {
            "marker": {
             "colorbar": {
              "outlinewidth": 0,
              "ticks": ""
             }
            },
            "type": "scatter"
           }
          ],
          "scatter3d": [
           {
            "line": {
             "colorbar": {
              "outlinewidth": 0,
              "ticks": ""
             }
            },
            "marker": {
             "colorbar": {
              "outlinewidth": 0,
              "ticks": ""
             }
            },
            "type": "scatter3d"
           }
          ],
          "scattercarpet": [
           {
            "marker": {
             "colorbar": {
              "outlinewidth": 0,
              "ticks": ""
             }
            },
            "type": "scattercarpet"
           }
          ],
          "scattergeo": [
           {
            "marker": {
             "colorbar": {
              "outlinewidth": 0,
              "ticks": ""
             }
            },
            "type": "scattergeo"
           }
          ],
          "scattergl": [
           {
            "marker": {
             "colorbar": {
              "outlinewidth": 0,
              "ticks": ""
             }
            },
            "type": "scattergl"
           }
          ],
          "scattermapbox": [
           {
            "marker": {
             "colorbar": {
              "outlinewidth": 0,
              "ticks": ""
             }
            },
            "type": "scattermapbox"
           }
          ],
          "scatterpolar": [
           {
            "marker": {
             "colorbar": {
              "outlinewidth": 0,
              "ticks": ""
             }
            },
            "type": "scatterpolar"
           }
          ],
          "scatterpolargl": [
           {
            "marker": {
             "colorbar": {
              "outlinewidth": 0,
              "ticks": ""
             }
            },
            "type": "scatterpolargl"
           }
          ],
          "scatterternary": [
           {
            "marker": {
             "colorbar": {
              "outlinewidth": 0,
              "ticks": ""
             }
            },
            "type": "scatterternary"
           }
          ],
          "surface": [
           {
            "colorbar": {
             "outlinewidth": 0,
             "ticks": ""
            },
            "colorscale": [
             [
              0,
              "#0d0887"
             ],
             [
              0.1111111111111111,
              "#46039f"
             ],
             [
              0.2222222222222222,
              "#7201a8"
             ],
             [
              0.3333333333333333,
              "#9c179e"
             ],
             [
              0.4444444444444444,
              "#bd3786"
             ],
             [
              0.5555555555555556,
              "#d8576b"
             ],
             [
              0.6666666666666666,
              "#ed7953"
             ],
             [
              0.7777777777777778,
              "#fb9f3a"
             ],
             [
              0.8888888888888888,
              "#fdca26"
             ],
             [
              1,
              "#f0f921"
             ]
            ],
            "type": "surface"
           }
          ],
          "table": [
           {
            "cells": {
             "fill": {
              "color": "#EBF0F8"
             },
             "line": {
              "color": "white"
             }
            },
            "header": {
             "fill": {
              "color": "#C8D4E3"
             },
             "line": {
              "color": "white"
             }
            },
            "type": "table"
           }
          ]
         },
         "layout": {
          "annotationdefaults": {
           "arrowcolor": "#2a3f5f",
           "arrowhead": 0,
           "arrowwidth": 1
          },
          "coloraxis": {
           "colorbar": {
            "outlinewidth": 0,
            "ticks": ""
           }
          },
          "colorscale": {
           "diverging": [
            [
             0,
             "#8e0152"
            ],
            [
             0.1,
             "#c51b7d"
            ],
            [
             0.2,
             "#de77ae"
            ],
            [
             0.3,
             "#f1b6da"
            ],
            [
             0.4,
             "#fde0ef"
            ],
            [
             0.5,
             "#f7f7f7"
            ],
            [
             0.6,
             "#e6f5d0"
            ],
            [
             0.7,
             "#b8e186"
            ],
            [
             0.8,
             "#7fbc41"
            ],
            [
             0.9,
             "#4d9221"
            ],
            [
             1,
             "#276419"
            ]
           ],
           "sequential": [
            [
             0,
             "#0d0887"
            ],
            [
             0.1111111111111111,
             "#46039f"
            ],
            [
             0.2222222222222222,
             "#7201a8"
            ],
            [
             0.3333333333333333,
             "#9c179e"
            ],
            [
             0.4444444444444444,
             "#bd3786"
            ],
            [
             0.5555555555555556,
             "#d8576b"
            ],
            [
             0.6666666666666666,
             "#ed7953"
            ],
            [
             0.7777777777777778,
             "#fb9f3a"
            ],
            [
             0.8888888888888888,
             "#fdca26"
            ],
            [
             1,
             "#f0f921"
            ]
           ],
           "sequentialminus": [
            [
             0,
             "#0d0887"
            ],
            [
             0.1111111111111111,
             "#46039f"
            ],
            [
             0.2222222222222222,
             "#7201a8"
            ],
            [
             0.3333333333333333,
             "#9c179e"
            ],
            [
             0.4444444444444444,
             "#bd3786"
            ],
            [
             0.5555555555555556,
             "#d8576b"
            ],
            [
             0.6666666666666666,
             "#ed7953"
            ],
            [
             0.7777777777777778,
             "#fb9f3a"
            ],
            [
             0.8888888888888888,
             "#fdca26"
            ],
            [
             1,
             "#f0f921"
            ]
           ]
          },
          "colorway": [
           "#636efa",
           "#EF553B",
           "#00cc96",
           "#ab63fa",
           "#FFA15A",
           "#19d3f3",
           "#FF6692",
           "#B6E880",
           "#FF97FF",
           "#FECB52"
          ],
          "font": {
           "color": "#2a3f5f"
          },
          "geo": {
           "bgcolor": "white",
           "lakecolor": "white",
           "landcolor": "#E5ECF6",
           "showlakes": true,
           "showland": true,
           "subunitcolor": "white"
          },
          "hoverlabel": {
           "align": "left"
          },
          "hovermode": "closest",
          "mapbox": {
           "style": "light"
          },
          "paper_bgcolor": "white",
          "plot_bgcolor": "#E5ECF6",
          "polar": {
           "angularaxis": {
            "gridcolor": "white",
            "linecolor": "white",
            "ticks": ""
           },
           "bgcolor": "#E5ECF6",
           "radialaxis": {
            "gridcolor": "white",
            "linecolor": "white",
            "ticks": ""
           }
          },
          "scene": {
           "xaxis": {
            "backgroundcolor": "#E5ECF6",
            "gridcolor": "white",
            "gridwidth": 2,
            "linecolor": "white",
            "showbackground": true,
            "ticks": "",
            "zerolinecolor": "white"
           },
           "yaxis": {
            "backgroundcolor": "#E5ECF6",
            "gridcolor": "white",
            "gridwidth": 2,
            "linecolor": "white",
            "showbackground": true,
            "ticks": "",
            "zerolinecolor": "white"
           },
           "zaxis": {
            "backgroundcolor": "#E5ECF6",
            "gridcolor": "white",
            "gridwidth": 2,
            "linecolor": "white",
            "showbackground": true,
            "ticks": "",
            "zerolinecolor": "white"
           }
          },
          "shapedefaults": {
           "line": {
            "color": "#2a3f5f"
           }
          },
          "ternary": {
           "aaxis": {
            "gridcolor": "white",
            "linecolor": "white",
            "ticks": ""
           },
           "baxis": {
            "gridcolor": "white",
            "linecolor": "white",
            "ticks": ""
           },
           "bgcolor": "#E5ECF6",
           "caxis": {
            "gridcolor": "white",
            "linecolor": "white",
            "ticks": ""
           }
          },
          "title": {
           "x": 0.05
          },
          "xaxis": {
           "automargin": true,
           "gridcolor": "white",
           "linecolor": "white",
           "ticks": "",
           "title": {
            "standoff": 15
           },
           "zerolinecolor": "white",
           "zerolinewidth": 2
          },
          "yaxis": {
           "automargin": true,
           "gridcolor": "white",
           "linecolor": "white",
           "ticks": "",
           "title": {
            "standoff": 15
           },
           "zerolinecolor": "white",
           "zerolinewidth": 2
          }
         }
        },
        "xaxis": {
         "anchor": "y",
         "domain": [
          0,
          1
         ],
         "title": {
          "text": "area"
         }
        },
        "yaxis": {
         "anchor": "x",
         "domain": [
          0,
          1
         ],
         "title": {
          "text": "pct_somministrato"
         }
        }
       }
      },
      "text/html": [
       "<div>\n",
       "        \n",
       "        \n",
       "            <div id=\"846ef4ac-6fdd-40b1-9d68-8a4dff4692fc\" class=\"plotly-graph-div\" style=\"height:525px; width:100%;\"></div>\n",
       "            <script type=\"text/javascript\">\n",
       "                require([\"plotly\"], function(Plotly) {\n",
       "                    window.PLOTLYENV=window.PLOTLYENV || {};\n",
       "                    \n",
       "                if (document.getElementById(\"846ef4ac-6fdd-40b1-9d68-8a4dff4692fc\")) {\n",
       "                    Plotly.newPlot(\n",
       "                        '846ef4ac-6fdd-40b1-9d68-8a4dff4692fc',\n",
       "                        [{\"alignmentgroup\": \"True\", \"hovertemplate\": \"area=%{x}<br>pct_somministrato=%{y}<br>prima_dose=%{marker.color}<extra></extra>\", \"legendgroup\": \"\", \"marker\": {\"color\": [71557, 33455, 75348, 305918, 282489, 333789, 89365, 498963, 87333, 16824, 38156, 29852, 282029, 226229, 66759, 266286, 246730, 42218, 8869, 249674], \"coloraxis\": \"coloraxis\"}, \"name\": \"\", \"offsetgroup\": \"\", \"orientation\": \"v\", \"showlegend\": false, \"textposition\": \"auto\", \"type\": \"bar\", \"x\": [\"Abruzzo\", \"Basilicata\", \"Calabria\", \"Campania\", \"Emilia-Romagna\", \"Lazio\", \"Liguria\", \"Lombardia\", \"Marche\", \"Molise\", \"PAB\", \"PAT\", \"Piemonte\", \"Puglia\", \"Sardegna\", \"Sicilia\", \"Toscana\", \"Umbria\", \"Valle d'Aosta\", \"Veneto\"], \"xaxis\": \"x\", \"y\": [74.68, 74.45, 59.49, 82.37, 76.71, 75.01, 64.16, 70.55, 76.42, 70.33, 84.39, 75.84, 79.66, 79.28, 59.93, 73.48, 82.42, 67.47, 90.68, 68.86], \"yaxis\": \"y\"}],\n",
       "                        {\"barmode\": \"relative\", \"coloraxis\": {\"colorbar\": {\"title\": {\"text\": \"prima_dose\"}}, \"colorscale\": [[0.0, \"#0d0887\"], [0.1111111111111111, \"#46039f\"], [0.2222222222222222, \"#7201a8\"], [0.3333333333333333, \"#9c179e\"], [0.4444444444444444, \"#bd3786\"], [0.5555555555555556, \"#d8576b\"], [0.6666666666666666, \"#ed7953\"], [0.7777777777777778, \"#fb9f3a\"], [0.8888888888888888, \"#fdca26\"], [1.0, \"#f0f921\"]]}, \"legend\": {\"tracegroupgap\": 0}, \"margin\": {\"t\": 60}, \"template\": {\"data\": {\"bar\": [{\"error_x\": {\"color\": \"#2a3f5f\"}, \"error_y\": {\"color\": \"#2a3f5f\"}, \"marker\": {\"line\": {\"color\": \"#E5ECF6\", \"width\": 0.5}}, \"type\": \"bar\"}], \"barpolar\": [{\"marker\": {\"line\": {\"color\": \"#E5ECF6\", \"width\": 0.5}}, \"type\": \"barpolar\"}], \"carpet\": [{\"aaxis\": {\"endlinecolor\": \"#2a3f5f\", \"gridcolor\": \"white\", \"linecolor\": \"white\", \"minorgridcolor\": \"white\", \"startlinecolor\": \"#2a3f5f\"}, \"baxis\": {\"endlinecolor\": \"#2a3f5f\", \"gridcolor\": \"white\", \"linecolor\": \"white\", \"minorgridcolor\": \"white\", \"startlinecolor\": \"#2a3f5f\"}, \"type\": \"carpet\"}], \"choropleth\": [{\"colorbar\": {\"outlinewidth\": 0, \"ticks\": \"\"}, \"type\": \"choropleth\"}], \"contour\": [{\"colorbar\": {\"outlinewidth\": 0, \"ticks\": \"\"}, \"colorscale\": [[0.0, \"#0d0887\"], [0.1111111111111111, \"#46039f\"], [0.2222222222222222, \"#7201a8\"], [0.3333333333333333, \"#9c179e\"], [0.4444444444444444, \"#bd3786\"], [0.5555555555555556, \"#d8576b\"], [0.6666666666666666, \"#ed7953\"], [0.7777777777777778, \"#fb9f3a\"], [0.8888888888888888, \"#fdca26\"], [1.0, \"#f0f921\"]], \"type\": \"contour\"}], \"contourcarpet\": [{\"colorbar\": {\"outlinewidth\": 0, \"ticks\": \"\"}, \"type\": \"contourcarpet\"}], \"heatmap\": [{\"colorbar\": {\"outlinewidth\": 0, \"ticks\": \"\"}, \"colorscale\": [[0.0, \"#0d0887\"], [0.1111111111111111, \"#46039f\"], [0.2222222222222222, \"#7201a8\"], [0.3333333333333333, \"#9c179e\"], [0.4444444444444444, \"#bd3786\"], [0.5555555555555556, \"#d8576b\"], [0.6666666666666666, \"#ed7953\"], [0.7777777777777778, \"#fb9f3a\"], [0.8888888888888888, \"#fdca26\"], [1.0, \"#f0f921\"]], \"type\": \"heatmap\"}], \"heatmapgl\": [{\"colorbar\": {\"outlinewidth\": 0, \"ticks\": \"\"}, \"colorscale\": [[0.0, \"#0d0887\"], [0.1111111111111111, \"#46039f\"], [0.2222222222222222, \"#7201a8\"], [0.3333333333333333, \"#9c179e\"], [0.4444444444444444, \"#bd3786\"], [0.5555555555555556, \"#d8576b\"], [0.6666666666666666, \"#ed7953\"], [0.7777777777777778, \"#fb9f3a\"], [0.8888888888888888, \"#fdca26\"], [1.0, \"#f0f921\"]], \"type\": \"heatmapgl\"}], \"histogram\": [{\"marker\": {\"colorbar\": {\"outlinewidth\": 0, \"ticks\": \"\"}}, \"type\": \"histogram\"}], \"histogram2d\": [{\"colorbar\": {\"outlinewidth\": 0, \"ticks\": \"\"}, \"colorscale\": [[0.0, \"#0d0887\"], [0.1111111111111111, \"#46039f\"], [0.2222222222222222, \"#7201a8\"], [0.3333333333333333, \"#9c179e\"], [0.4444444444444444, \"#bd3786\"], [0.5555555555555556, \"#d8576b\"], [0.6666666666666666, \"#ed7953\"], [0.7777777777777778, \"#fb9f3a\"], [0.8888888888888888, \"#fdca26\"], [1.0, \"#f0f921\"]], \"type\": \"histogram2d\"}], \"histogram2dcontour\": [{\"colorbar\": {\"outlinewidth\": 0, \"ticks\": \"\"}, \"colorscale\": [[0.0, \"#0d0887\"], [0.1111111111111111, \"#46039f\"], [0.2222222222222222, \"#7201a8\"], [0.3333333333333333, \"#9c179e\"], [0.4444444444444444, \"#bd3786\"], [0.5555555555555556, \"#d8576b\"], [0.6666666666666666, \"#ed7953\"], [0.7777777777777778, \"#fb9f3a\"], [0.8888888888888888, \"#fdca26\"], [1.0, \"#f0f921\"]], \"type\": \"histogram2dcontour\"}], \"mesh3d\": [{\"colorbar\": {\"outlinewidth\": 0, \"ticks\": \"\"}, \"type\": \"mesh3d\"}], \"parcoords\": [{\"line\": {\"colorbar\": {\"outlinewidth\": 0, \"ticks\": \"\"}}, \"type\": \"parcoords\"}], \"pie\": [{\"automargin\": true, \"type\": \"pie\"}], \"scatter\": [{\"marker\": {\"colorbar\": {\"outlinewidth\": 0, \"ticks\": \"\"}}, \"type\": \"scatter\"}], \"scatter3d\": [{\"line\": {\"colorbar\": {\"outlinewidth\": 0, \"ticks\": \"\"}}, \"marker\": {\"colorbar\": {\"outlinewidth\": 0, \"ticks\": \"\"}}, \"type\": \"scatter3d\"}], \"scattercarpet\": [{\"marker\": {\"colorbar\": {\"outlinewidth\": 0, \"ticks\": \"\"}}, \"type\": \"scattercarpet\"}], \"scattergeo\": [{\"marker\": {\"colorbar\": {\"outlinewidth\": 0, \"ticks\": \"\"}}, \"type\": \"scattergeo\"}], \"scattergl\": [{\"marker\": {\"colorbar\": {\"outlinewidth\": 0, \"ticks\": \"\"}}, \"type\": \"scattergl\"}], \"scattermapbox\": [{\"marker\": {\"colorbar\": {\"outlinewidth\": 0, \"ticks\": \"\"}}, \"type\": \"scattermapbox\"}], \"scatterpolar\": [{\"marker\": {\"colorbar\": {\"outlinewidth\": 0, \"ticks\": \"\"}}, \"type\": \"scatterpolar\"}], \"scatterpolargl\": [{\"marker\": {\"colorbar\": {\"outlinewidth\": 0, \"ticks\": \"\"}}, \"type\": \"scatterpolargl\"}], \"scatterternary\": [{\"marker\": {\"colorbar\": {\"outlinewidth\": 0, \"ticks\": \"\"}}, \"type\": \"scatterternary\"}], \"surface\": [{\"colorbar\": {\"outlinewidth\": 0, \"ticks\": \"\"}, \"colorscale\": [[0.0, \"#0d0887\"], [0.1111111111111111, \"#46039f\"], [0.2222222222222222, \"#7201a8\"], [0.3333333333333333, \"#9c179e\"], [0.4444444444444444, \"#bd3786\"], [0.5555555555555556, \"#d8576b\"], [0.6666666666666666, \"#ed7953\"], [0.7777777777777778, \"#fb9f3a\"], [0.8888888888888888, \"#fdca26\"], [1.0, \"#f0f921\"]], \"type\": \"surface\"}], \"table\": [{\"cells\": {\"fill\": {\"color\": \"#EBF0F8\"}, \"line\": {\"color\": \"white\"}}, \"header\": {\"fill\": {\"color\": \"#C8D4E3\"}, \"line\": {\"color\": \"white\"}}, \"type\": \"table\"}]}, \"layout\": {\"annotationdefaults\": {\"arrowcolor\": \"#2a3f5f\", \"arrowhead\": 0, \"arrowwidth\": 1}, \"coloraxis\": {\"colorbar\": {\"outlinewidth\": 0, \"ticks\": \"\"}}, \"colorscale\": {\"diverging\": [[0, \"#8e0152\"], [0.1, \"#c51b7d\"], [0.2, \"#de77ae\"], [0.3, \"#f1b6da\"], [0.4, \"#fde0ef\"], [0.5, \"#f7f7f7\"], [0.6, \"#e6f5d0\"], [0.7, \"#b8e186\"], [0.8, \"#7fbc41\"], [0.9, \"#4d9221\"], [1, \"#276419\"]], \"sequential\": [[0.0, \"#0d0887\"], [0.1111111111111111, \"#46039f\"], [0.2222222222222222, \"#7201a8\"], [0.3333333333333333, \"#9c179e\"], [0.4444444444444444, \"#bd3786\"], [0.5555555555555556, \"#d8576b\"], [0.6666666666666666, \"#ed7953\"], [0.7777777777777778, \"#fb9f3a\"], [0.8888888888888888, \"#fdca26\"], [1.0, \"#f0f921\"]], \"sequentialminus\": [[0.0, \"#0d0887\"], [0.1111111111111111, \"#46039f\"], [0.2222222222222222, \"#7201a8\"], [0.3333333333333333, \"#9c179e\"], [0.4444444444444444, \"#bd3786\"], [0.5555555555555556, \"#d8576b\"], [0.6666666666666666, \"#ed7953\"], [0.7777777777777778, \"#fb9f3a\"], [0.8888888888888888, \"#fdca26\"], [1.0, \"#f0f921\"]]}, \"colorway\": [\"#636efa\", \"#EF553B\", \"#00cc96\", \"#ab63fa\", \"#FFA15A\", \"#19d3f3\", \"#FF6692\", \"#B6E880\", \"#FF97FF\", \"#FECB52\"], \"font\": {\"color\": \"#2a3f5f\"}, \"geo\": {\"bgcolor\": \"white\", \"lakecolor\": \"white\", \"landcolor\": \"#E5ECF6\", \"showlakes\": true, \"showland\": true, \"subunitcolor\": \"white\"}, \"hoverlabel\": {\"align\": \"left\"}, \"hovermode\": \"closest\", \"mapbox\": {\"style\": \"light\"}, \"paper_bgcolor\": \"white\", \"plot_bgcolor\": \"#E5ECF6\", \"polar\": {\"angularaxis\": {\"gridcolor\": \"white\", \"linecolor\": \"white\", \"ticks\": \"\"}, \"bgcolor\": \"#E5ECF6\", \"radialaxis\": {\"gridcolor\": \"white\", \"linecolor\": \"white\", \"ticks\": \"\"}}, \"scene\": {\"xaxis\": {\"backgroundcolor\": \"#E5ECF6\", \"gridcolor\": \"white\", \"gridwidth\": 2, \"linecolor\": \"white\", \"showbackground\": true, \"ticks\": \"\", \"zerolinecolor\": \"white\"}, \"yaxis\": {\"backgroundcolor\": \"#E5ECF6\", \"gridcolor\": \"white\", \"gridwidth\": 2, \"linecolor\": \"white\", \"showbackground\": true, \"ticks\": \"\", \"zerolinecolor\": \"white\"}, \"zaxis\": {\"backgroundcolor\": \"#E5ECF6\", \"gridcolor\": \"white\", \"gridwidth\": 2, \"linecolor\": \"white\", \"showbackground\": true, \"ticks\": \"\", \"zerolinecolor\": \"white\"}}, \"shapedefaults\": {\"line\": {\"color\": \"#2a3f5f\"}}, \"ternary\": {\"aaxis\": {\"gridcolor\": \"white\", \"linecolor\": \"white\", \"ticks\": \"\"}, \"baxis\": {\"gridcolor\": \"white\", \"linecolor\": \"white\", \"ticks\": \"\"}, \"bgcolor\": \"#E5ECF6\", \"caxis\": {\"gridcolor\": \"white\", \"linecolor\": \"white\", \"ticks\": \"\"}}, \"title\": {\"x\": 0.05}, \"xaxis\": {\"automargin\": true, \"gridcolor\": \"white\", \"linecolor\": \"white\", \"ticks\": \"\", \"title\": {\"standoff\": 15}, \"zerolinecolor\": \"white\", \"zerolinewidth\": 2}, \"yaxis\": {\"automargin\": true, \"gridcolor\": \"white\", \"linecolor\": \"white\", \"ticks\": \"\", \"title\": {\"standoff\": 15}, \"zerolinecolor\": \"white\", \"zerolinewidth\": 2}}}, \"xaxis\": {\"anchor\": \"y\", \"domain\": [0.0, 1.0], \"title\": {\"text\": \"area\"}}, \"yaxis\": {\"anchor\": \"x\", \"domain\": [0.0, 1.0], \"title\": {\"text\": \"pct_somministrato\"}}},\n",
       "                        {\"responsive\": true}\n",
       "                    ).then(function(){\n",
       "                            \n",
       "var gd = document.getElementById('846ef4ac-6fdd-40b1-9d68-8a4dff4692fc');\n",
       "var x = new MutationObserver(function (mutations, observer) {{\n",
       "        var display = window.getComputedStyle(gd).display;\n",
       "        if (!display || display === 'none') {{\n",
       "            console.log([gd, 'removed!']);\n",
       "            Plotly.purge(gd);\n",
       "            observer.disconnect();\n",
       "        }}\n",
       "}});\n",
       "\n",
       "// Listen for the removal of the full notebook cells\n",
       "var notebookContainer = gd.closest('#notebook-container');\n",
       "if (notebookContainer) {{\n",
       "    x.observe(notebookContainer, {childList: true});\n",
       "}}\n",
       "\n",
       "// Listen for the clearing of the current output cell\n",
       "var outputEl = gd.closest('.output');\n",
       "if (outputEl) {{\n",
       "    x.observe(outputEl, {childList: true});\n",
       "}}\n",
       "\n",
       "                        })\n",
       "                };\n",
       "                });\n",
       "            </script>\n",
       "        </div>"
      ]
     },
     "metadata": {},
     "output_type": "display_data"
    }
   ],
   "source": [
    "px.bar(del_merged,\n",
    "      x='area',\n",
    "      y='pct_somministrato',\n",
    "      color='prima_dose')"
   ]
  },
  {
   "cell_type": "markdown",
   "metadata": {},
   "source": [
    "# Suppliers"
   ]
  },
  {
   "cell_type": "code",
   "execution_count": 318,
   "metadata": {},
   "outputs": [
    {
     "data": {
      "text/html": [
       "<div>\n",
       "<style scoped>\n",
       "    .dataframe tbody tr th:only-of-type {\n",
       "        vertical-align: middle;\n",
       "    }\n",
       "\n",
       "    .dataframe tbody tr th {\n",
       "        vertical-align: top;\n",
       "    }\n",
       "\n",
       "    .dataframe thead th {\n",
       "        text-align: right;\n",
       "    }\n",
       "</style>\n",
       "<table border=\"1\" class=\"dataframe\">\n",
       "  <thead>\n",
       "    <tr style=\"text-align: right;\">\n",
       "      <th></th>\n",
       "      <th>data_somministrazione</th>\n",
       "      <th>fornitore</th>\n",
       "      <th>area</th>\n",
       "      <th>fascia_anagrafica</th>\n",
       "      <th>sesso_maschile</th>\n",
       "      <th>sesso_femminile</th>\n",
       "      <th>categoria_operatori_sanitari_sociosanitari</th>\n",
       "      <th>categoria_personale_non_sanitario</th>\n",
       "      <th>categoria_ospiti_rsa</th>\n",
       "      <th>categoria_over80</th>\n",
       "      <th>categoria_forze_armate</th>\n",
       "      <th>categoria_personale_scolastico</th>\n",
       "      <th>prima_dose</th>\n",
       "      <th>seconda_dose</th>\n",
       "      <th>codice_NUTS1</th>\n",
       "      <th>codice_NUTS2</th>\n",
       "      <th>codice_regione_ISTAT</th>\n",
       "      <th>nome_area</th>\n",
       "      <th>giorno_campagna</th>\n",
       "      <th>prima_dose_totale_giorno</th>\n",
       "    </tr>\n",
       "  </thead>\n",
       "  <tbody>\n",
       "    <tr>\n",
       "      <th>0</th>\n",
       "      <td>2021-01-01</td>\n",
       "      <td>Pfizer/BioNTech</td>\n",
       "      <td>SIC</td>\n",
       "      <td>60-69</td>\n",
       "      <td>90</td>\n",
       "      <td>42</td>\n",
       "      <td>115</td>\n",
       "      <td>17</td>\n",
       "      <td>0</td>\n",
       "      <td>0</td>\n",
       "      <td>0</td>\n",
       "      <td>0</td>\n",
       "      <td>132</td>\n",
       "      <td>0</td>\n",
       "      <td>ITG</td>\n",
       "      <td>ITG1</td>\n",
       "      <td>19</td>\n",
       "      <td>Sicilia</td>\n",
       "      <td>1</td>\n",
       "      <td>11038</td>\n",
       "    </tr>\n",
       "    <tr>\n",
       "      <th>1</th>\n",
       "      <td>2021-01-01</td>\n",
       "      <td>Pfizer/BioNTech</td>\n",
       "      <td>SAR</td>\n",
       "      <td>60-69</td>\n",
       "      <td>8</td>\n",
       "      <td>0</td>\n",
       "      <td>8</td>\n",
       "      <td>0</td>\n",
       "      <td>0</td>\n",
       "      <td>0</td>\n",
       "      <td>0</td>\n",
       "      <td>0</td>\n",
       "      <td>8</td>\n",
       "      <td>0</td>\n",
       "      <td>ITG</td>\n",
       "      <td>ITG2</td>\n",
       "      <td>20</td>\n",
       "      <td>Sardegna</td>\n",
       "      <td>1</td>\n",
       "      <td>11038</td>\n",
       "    </tr>\n",
       "    <tr>\n",
       "      <th>2</th>\n",
       "      <td>2021-01-01</td>\n",
       "      <td>Pfizer/BioNTech</td>\n",
       "      <td>SIC</td>\n",
       "      <td>50-59</td>\n",
       "      <td>100</td>\n",
       "      <td>91</td>\n",
       "      <td>168</td>\n",
       "      <td>23</td>\n",
       "      <td>0</td>\n",
       "      <td>0</td>\n",
       "      <td>0</td>\n",
       "      <td>0</td>\n",
       "      <td>191</td>\n",
       "      <td>0</td>\n",
       "      <td>ITG</td>\n",
       "      <td>ITG1</td>\n",
       "      <td>19</td>\n",
       "      <td>Sicilia</td>\n",
       "      <td>1</td>\n",
       "      <td>11038</td>\n",
       "    </tr>\n",
       "    <tr>\n",
       "      <th>3</th>\n",
       "      <td>2021-01-01</td>\n",
       "      <td>Pfizer/BioNTech</td>\n",
       "      <td>SIC</td>\n",
       "      <td>40-49</td>\n",
       "      <td>95</td>\n",
       "      <td>84</td>\n",
       "      <td>163</td>\n",
       "      <td>16</td>\n",
       "      <td>0</td>\n",
       "      <td>0</td>\n",
       "      <td>0</td>\n",
       "      <td>0</td>\n",
       "      <td>179</td>\n",
       "      <td>0</td>\n",
       "      <td>ITG</td>\n",
       "      <td>ITG1</td>\n",
       "      <td>19</td>\n",
       "      <td>Sicilia</td>\n",
       "      <td>1</td>\n",
       "      <td>11038</td>\n",
       "    </tr>\n",
       "    <tr>\n",
       "      <th>4</th>\n",
       "      <td>2021-01-01</td>\n",
       "      <td>Pfizer/BioNTech</td>\n",
       "      <td>SIC</td>\n",
       "      <td>30-39</td>\n",
       "      <td>81</td>\n",
       "      <td>85</td>\n",
       "      <td>153</td>\n",
       "      <td>13</td>\n",
       "      <td>0</td>\n",
       "      <td>0</td>\n",
       "      <td>0</td>\n",
       "      <td>0</td>\n",
       "      <td>166</td>\n",
       "      <td>0</td>\n",
       "      <td>ITG</td>\n",
       "      <td>ITG1</td>\n",
       "      <td>19</td>\n",
       "      <td>Sicilia</td>\n",
       "      <td>1</td>\n",
       "      <td>11038</td>\n",
       "    </tr>\n",
       "  </tbody>\n",
       "</table>\n",
       "</div>"
      ],
      "text/plain": [
       "  data_somministrazione        fornitore area fascia_anagrafica  \\\n",
       "0            2021-01-01  Pfizer/BioNTech  SIC             60-69   \n",
       "1            2021-01-01  Pfizer/BioNTech  SAR             60-69   \n",
       "2            2021-01-01  Pfizer/BioNTech  SIC             50-59   \n",
       "3            2021-01-01  Pfizer/BioNTech  SIC             40-49   \n",
       "4            2021-01-01  Pfizer/BioNTech  SIC             30-39   \n",
       "\n",
       "   sesso_maschile  sesso_femminile  \\\n",
       "0              90               42   \n",
       "1               8                0   \n",
       "2             100               91   \n",
       "3              95               84   \n",
       "4              81               85   \n",
       "\n",
       "   categoria_operatori_sanitari_sociosanitari  \\\n",
       "0                                         115   \n",
       "1                                           8   \n",
       "2                                         168   \n",
       "3                                         163   \n",
       "4                                         153   \n",
       "\n",
       "   categoria_personale_non_sanitario  categoria_ospiti_rsa  categoria_over80  \\\n",
       "0                                 17                     0                 0   \n",
       "1                                  0                     0                 0   \n",
       "2                                 23                     0                 0   \n",
       "3                                 16                     0                 0   \n",
       "4                                 13                     0                 0   \n",
       "\n",
       "   categoria_forze_armate  categoria_personale_scolastico  prima_dose  \\\n",
       "0                       0                               0         132   \n",
       "1                       0                               0           8   \n",
       "2                       0                               0         191   \n",
       "3                       0                               0         179   \n",
       "4                       0                               0         166   \n",
       "\n",
       "   seconda_dose codice_NUTS1 codice_NUTS2  codice_regione_ISTAT nome_area  \\\n",
       "0             0          ITG         ITG1                    19   Sicilia   \n",
       "1             0          ITG         ITG2                    20  Sardegna   \n",
       "2             0          ITG         ITG1                    19   Sicilia   \n",
       "3             0          ITG         ITG1                    19   Sicilia   \n",
       "4             0          ITG         ITG1                    19   Sicilia   \n",
       "\n",
       "   giorno_campagna  prima_dose_totale_giorno  \n",
       "0                1                     11038  \n",
       "1                1                     11038  \n",
       "2                1                     11038  \n",
       "3                1                     11038  \n",
       "4                1                     11038  "
      ]
     },
     "execution_count": 318,
     "metadata": {},
     "output_type": "execute_result"
    }
   ],
   "source": [
    "df.head()"
   ]
  },
  {
   "cell_type": "code",
   "execution_count": 329,
   "metadata": {},
   "outputs": [
    {
     "data": {
      "text/html": [
       "<div>\n",
       "<style scoped>\n",
       "    .dataframe tbody tr th:only-of-type {\n",
       "        vertical-align: middle;\n",
       "    }\n",
       "\n",
       "    .dataframe tbody tr th {\n",
       "        vertical-align: top;\n",
       "    }\n",
       "\n",
       "    .dataframe thead th {\n",
       "        text-align: right;\n",
       "    }\n",
       "</style>\n",
       "<table border=\"1\" class=\"dataframe\">\n",
       "  <thead>\n",
       "    <tr style=\"text-align: right;\">\n",
       "      <th></th>\n",
       "      <th>fornitore</th>\n",
       "      <th>nome_area</th>\n",
       "      <th>prima_dose</th>\n",
       "      <th>seconda_dose</th>\n",
       "    </tr>\n",
       "  </thead>\n",
       "  <tbody>\n",
       "    <tr>\n",
       "      <th>0</th>\n",
       "      <td>AstraZeneca</td>\n",
       "      <td>Abruzzo</td>\n",
       "      <td>13750</td>\n",
       "      <td>4</td>\n",
       "    </tr>\n",
       "    <tr>\n",
       "      <th>1</th>\n",
       "      <td>AstraZeneca</td>\n",
       "      <td>Calabria</td>\n",
       "      <td>4595</td>\n",
       "      <td>4</td>\n",
       "    </tr>\n",
       "    <tr>\n",
       "      <th>2</th>\n",
       "      <td>AstraZeneca</td>\n",
       "      <td>Campania</td>\n",
       "      <td>69840</td>\n",
       "      <td>0</td>\n",
       "    </tr>\n",
       "    <tr>\n",
       "      <th>3</th>\n",
       "      <td>AstraZeneca</td>\n",
       "      <td>Emilia-Romagna</td>\n",
       "      <td>14738</td>\n",
       "      <td>46</td>\n",
       "    </tr>\n",
       "    <tr>\n",
       "      <th>4</th>\n",
       "      <td>AstraZeneca</td>\n",
       "      <td>Friuli-Venezia Giulia</td>\n",
       "      <td>11345</td>\n",
       "      <td>0</td>\n",
       "    </tr>\n",
       "    <tr>\n",
       "      <th>...</th>\n",
       "      <td>...</td>\n",
       "      <td>...</td>\n",
       "      <td>...</td>\n",
       "      <td>...</td>\n",
       "    </tr>\n",
       "    <tr>\n",
       "      <th>57</th>\n",
       "      <td>Pfizer/BioNTech</td>\n",
       "      <td>Sicilia</td>\n",
       "      <td>203487</td>\n",
       "      <td>116955</td>\n",
       "    </tr>\n",
       "    <tr>\n",
       "      <th>58</th>\n",
       "      <td>Pfizer/BioNTech</td>\n",
       "      <td>Toscana</td>\n",
       "      <td>164798</td>\n",
       "      <td>89460</td>\n",
       "    </tr>\n",
       "    <tr>\n",
       "      <th>59</th>\n",
       "      <td>Pfizer/BioNTech</td>\n",
       "      <td>Umbria</td>\n",
       "      <td>34039</td>\n",
       "      <td>15539</td>\n",
       "    </tr>\n",
       "    <tr>\n",
       "      <th>60</th>\n",
       "      <td>Pfizer/BioNTech</td>\n",
       "      <td>Valle d'Aosta / Vallée d'Aoste</td>\n",
       "      <td>7065</td>\n",
       "      <td>4665</td>\n",
       "    </tr>\n",
       "    <tr>\n",
       "      <th>61</th>\n",
       "      <td>Pfizer/BioNTech</td>\n",
       "      <td>Veneto</td>\n",
       "      <td>215094</td>\n",
       "      <td>122300</td>\n",
       "    </tr>\n",
       "  </tbody>\n",
       "</table>\n",
       "<p>62 rows × 4 columns</p>\n",
       "</div>"
      ],
      "text/plain": [
       "          fornitore                       nome_area  prima_dose  seconda_dose\n",
       "0       AstraZeneca                         Abruzzo       13750             4\n",
       "1       AstraZeneca                        Calabria        4595             4\n",
       "2       AstraZeneca                        Campania       69840             0\n",
       "3       AstraZeneca                  Emilia-Romagna       14738            46\n",
       "4       AstraZeneca           Friuli-Venezia Giulia       11345             0\n",
       "..              ...                             ...         ...           ...\n",
       "57  Pfizer/BioNTech                         Sicilia      203487        116955\n",
       "58  Pfizer/BioNTech                         Toscana      164798         89460\n",
       "59  Pfizer/BioNTech                          Umbria       34039         15539\n",
       "60  Pfizer/BioNTech  Valle d'Aosta / Vallée d'Aoste        7065          4665\n",
       "61  Pfizer/BioNTech                          Veneto      215094        122300\n",
       "\n",
       "[62 rows x 4 columns]"
      ]
     },
     "execution_count": 329,
     "metadata": {},
     "output_type": "execute_result"
    }
   ],
   "source": [
    "df_fornitore = df.groupby(['fornitore', 'nome_area'])[['prima_dose','seconda_dose']].sum().reset_index()\n",
    "df_fornitore['totale'] = (df_fornitore.prima_dose + df_fornitore.seconda_dose)\n"
   ]
  },
  {
   "cell_type": "code",
   "execution_count": 325,
   "metadata": {},
   "outputs": [
    {
     "data": {
      "text/html": [
       "<div>\n",
       "<style scoped>\n",
       "    .dataframe tbody tr th:only-of-type {\n",
       "        vertical-align: middle;\n",
       "    }\n",
       "\n",
       "    .dataframe tbody tr th {\n",
       "        vertical-align: top;\n",
       "    }\n",
       "\n",
       "    .dataframe thead th {\n",
       "        text-align: right;\n",
       "    }\n",
       "</style>\n",
       "<table border=\"1\" class=\"dataframe\">\n",
       "  <thead>\n",
       "    <tr style=\"text-align: right;\">\n",
       "      <th></th>\n",
       "      <th>fornitore</th>\n",
       "      <th>nome_area</th>\n",
       "      <th>numero_dosi</th>\n",
       "    </tr>\n",
       "  </thead>\n",
       "  <tbody>\n",
       "    <tr>\n",
       "      <th>0</th>\n",
       "      <td>AstraZeneca</td>\n",
       "      <td>Abruzzo</td>\n",
       "      <td>32400</td>\n",
       "    </tr>\n",
       "    <tr>\n",
       "      <th>1</th>\n",
       "      <td>AstraZeneca</td>\n",
       "      <td>Basilicata</td>\n",
       "      <td>13700</td>\n",
       "    </tr>\n",
       "    <tr>\n",
       "      <th>2</th>\n",
       "      <td>AstraZeneca</td>\n",
       "      <td>Calabria</td>\n",
       "      <td>47000</td>\n",
       "    </tr>\n",
       "    <tr>\n",
       "      <th>3</th>\n",
       "      <td>AstraZeneca</td>\n",
       "      <td>Campania</td>\n",
       "      <td>145500</td>\n",
       "    </tr>\n",
       "    <tr>\n",
       "      <th>4</th>\n",
       "      <td>AstraZeneca</td>\n",
       "      <td>Emilia-Romagna</td>\n",
       "      <td>108000</td>\n",
       "    </tr>\n",
       "    <tr>\n",
       "      <th>...</th>\n",
       "      <td>...</td>\n",
       "      <td>...</td>\n",
       "      <td>...</td>\n",
       "    </tr>\n",
       "    <tr>\n",
       "      <th>58</th>\n",
       "      <td>Pfizer/BioNTech</td>\n",
       "      <td>Sicilia</td>\n",
       "      <td>361825</td>\n",
       "    </tr>\n",
       "    <tr>\n",
       "      <th>59</th>\n",
       "      <td>Pfizer/BioNTech</td>\n",
       "      <td>Toscana</td>\n",
       "      <td>280640</td>\n",
       "    </tr>\n",
       "    <tr>\n",
       "      <th>60</th>\n",
       "      <td>Pfizer/BioNTech</td>\n",
       "      <td>Umbria</td>\n",
       "      <td>56635</td>\n",
       "    </tr>\n",
       "    <tr>\n",
       "      <th>61</th>\n",
       "      <td>Pfizer/BioNTech</td>\n",
       "      <td>Valle d'Aosta</td>\n",
       "      <td>10940</td>\n",
       "    </tr>\n",
       "    <tr>\n",
       "      <th>62</th>\n",
       "      <td>Pfizer/BioNTech</td>\n",
       "      <td>Veneto</td>\n",
       "      <td>376640</td>\n",
       "    </tr>\n",
       "  </tbody>\n",
       "</table>\n",
       "<p>63 rows × 3 columns</p>\n",
       "</div>"
      ],
      "text/plain": [
       "          fornitore       nome_area  numero_dosi\n",
       "0       AstraZeneca         Abruzzo        32400\n",
       "1       AstraZeneca      Basilicata        13700\n",
       "2       AstraZeneca        Calabria        47000\n",
       "3       AstraZeneca        Campania       145500\n",
       "4       AstraZeneca  Emilia-Romagna       108000\n",
       "..              ...             ...          ...\n",
       "58  Pfizer/BioNTech         Sicilia       361825\n",
       "59  Pfizer/BioNTech         Toscana       280640\n",
       "60  Pfizer/BioNTech          Umbria        56635\n",
       "61  Pfizer/BioNTech   Valle d'Aosta        10940\n",
       "62  Pfizer/BioNTech          Veneto       376640\n",
       "\n",
       "[63 rows x 3 columns]"
      ]
     },
     "execution_count": 325,
     "metadata": {},
     "output_type": "execute_result"
    }
   ],
   "source": [
    "deliveries_fornitore = deliveries.groupby(['fornitore', 'nome_area'])['numero_dosi'].sum().reset_index()"
   ]
  },
  {
   "cell_type": "code",
   "execution_count": null,
   "metadata": {},
   "outputs": [],
   "source": [
    "df_fornitore.merge(deliveries_fornitore, left_on='nome_area',\n",
    "                   right_on)"
   ]
  }
 ],
 "metadata": {
  "kernelspec": {
   "display_name": "Python 3",
   "language": "python",
   "name": "python3"
  },
  "language_info": {
   "codemirror_mode": {
    "name": "ipython",
    "version": 3
   },
   "file_extension": ".py",
   "mimetype": "text/x-python",
   "name": "python",
   "nbconvert_exporter": "python",
   "pygments_lexer": "ipython3",
   "version": "3.7.6"
  }
 },
 "nbformat": 4,
 "nbformat_minor": 4
}
