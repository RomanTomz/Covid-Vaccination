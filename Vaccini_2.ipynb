{
 "cells": [
  {
   "cell_type": "code",
   "execution_count": 564,
   "metadata": {},
   "outputs": [
    {
     "data": {
      "text/html": [
       "<style>.container { width:100% !important; }</style>"
      ],
      "text/plain": [
       "<IPython.core.display.HTML object>"
      ]
     },
     "metadata": {},
     "output_type": "display_data"
    }
   ],
   "source": [
    "from IPython.core.display import display, HTML\n",
    "display(HTML(\"<style>.container { width:100% !important; }</style>\"))"
   ]
  },
  {
   "cell_type": "code",
   "execution_count": 565,
   "metadata": {},
   "outputs": [],
   "source": [
    "import pandas as pd\n",
    "import numpy as np\n",
    "\n",
    "import seaborn as sns\n",
    "import matplotlib.pyplot as plt\n",
    "import plotly.express as px\n",
    "import plotly.graph_objects as go"
   ]
  },
  {
   "cell_type": "code",
   "execution_count": 566,
   "metadata": {},
   "outputs": [],
   "source": [
    "df = pd.read_csv('https://raw.githubusercontent.com/italia/covid19-opendata-vaccini/master/dati/somministrazioni-vaccini-latest.csv')\n",
    "df.data_somministrazione = pd.to_datetime(df.data_somministrazione)"
   ]
  },
  {
   "cell_type": "code",
   "execution_count": 567,
   "metadata": {},
   "outputs": [],
   "source": [
    "df.sort_values('data_somministrazione', inplace=True)"
   ]
  },
  {
   "cell_type": "code",
   "execution_count": 568,
   "metadata": {},
   "outputs": [
    {
     "data": {
      "text/html": [
       "<div>\n",
       "<style scoped>\n",
       "    .dataframe tbody tr th:only-of-type {\n",
       "        vertical-align: middle;\n",
       "    }\n",
       "\n",
       "    .dataframe tbody tr th {\n",
       "        vertical-align: top;\n",
       "    }\n",
       "\n",
       "    .dataframe thead th {\n",
       "        text-align: right;\n",
       "    }\n",
       "</style>\n",
       "<table border=\"1\" class=\"dataframe\">\n",
       "  <thead>\n",
       "    <tr style=\"text-align: right;\">\n",
       "      <th></th>\n",
       "      <th>data_somministrazione</th>\n",
       "      <th>fornitore</th>\n",
       "      <th>area</th>\n",
       "      <th>fascia_anagrafica</th>\n",
       "      <th>sesso_maschile</th>\n",
       "      <th>sesso_femminile</th>\n",
       "      <th>categoria_operatori_sanitari_sociosanitari</th>\n",
       "      <th>categoria_personale_non_sanitario</th>\n",
       "      <th>categoria_ospiti_rsa</th>\n",
       "      <th>categoria_over80</th>\n",
       "      <th>categoria_forze_armate</th>\n",
       "      <th>categoria_personale_scolastico</th>\n",
       "      <th>prima_dose</th>\n",
       "      <th>seconda_dose</th>\n",
       "      <th>codice_NUTS1</th>\n",
       "      <th>codice_NUTS2</th>\n",
       "      <th>codice_regione_ISTAT</th>\n",
       "      <th>nome_area</th>\n",
       "    </tr>\n",
       "  </thead>\n",
       "  <tbody>\n",
       "    <tr>\n",
       "      <th>0</th>\n",
       "      <td>2020-12-27</td>\n",
       "      <td>Pfizer/BioNTech</td>\n",
       "      <td>ABR</td>\n",
       "      <td>20-29</td>\n",
       "      <td>1</td>\n",
       "      <td>0</td>\n",
       "      <td>1</td>\n",
       "      <td>0</td>\n",
       "      <td>0</td>\n",
       "      <td>0</td>\n",
       "      <td>0</td>\n",
       "      <td>0</td>\n",
       "      <td>1</td>\n",
       "      <td>0</td>\n",
       "      <td>ITF</td>\n",
       "      <td>ITF1</td>\n",
       "      <td>13</td>\n",
       "      <td>Abruzzo</td>\n",
       "    </tr>\n",
       "    <tr>\n",
       "      <th>94</th>\n",
       "      <td>2020-12-27</td>\n",
       "      <td>Pfizer/BioNTech</td>\n",
       "      <td>PIE</td>\n",
       "      <td>70-79</td>\n",
       "      <td>9</td>\n",
       "      <td>10</td>\n",
       "      <td>1</td>\n",
       "      <td>0</td>\n",
       "      <td>18</td>\n",
       "      <td>0</td>\n",
       "      <td>0</td>\n",
       "      <td>0</td>\n",
       "      <td>19</td>\n",
       "      <td>0</td>\n",
       "      <td>ITC</td>\n",
       "      <td>ITC1</td>\n",
       "      <td>1</td>\n",
       "      <td>Piemonte</td>\n",
       "    </tr>\n",
       "    <tr>\n",
       "      <th>95</th>\n",
       "      <td>2020-12-27</td>\n",
       "      <td>Pfizer/BioNTech</td>\n",
       "      <td>PIE</td>\n",
       "      <td>80-89</td>\n",
       "      <td>5</td>\n",
       "      <td>19</td>\n",
       "      <td>0</td>\n",
       "      <td>0</td>\n",
       "      <td>24</td>\n",
       "      <td>0</td>\n",
       "      <td>0</td>\n",
       "      <td>0</td>\n",
       "      <td>24</td>\n",
       "      <td>0</td>\n",
       "      <td>ITC</td>\n",
       "      <td>ITC1</td>\n",
       "      <td>1</td>\n",
       "      <td>Piemonte</td>\n",
       "    </tr>\n",
       "    <tr>\n",
       "      <th>96</th>\n",
       "      <td>2020-12-27</td>\n",
       "      <td>Pfizer/BioNTech</td>\n",
       "      <td>PIE</td>\n",
       "      <td>90+</td>\n",
       "      <td>5</td>\n",
       "      <td>15</td>\n",
       "      <td>0</td>\n",
       "      <td>0</td>\n",
       "      <td>20</td>\n",
       "      <td>0</td>\n",
       "      <td>0</td>\n",
       "      <td>0</td>\n",
       "      <td>20</td>\n",
       "      <td>0</td>\n",
       "      <td>ITC</td>\n",
       "      <td>ITC1</td>\n",
       "      <td>1</td>\n",
       "      <td>Piemonte</td>\n",
       "    </tr>\n",
       "    <tr>\n",
       "      <th>97</th>\n",
       "      <td>2020-12-27</td>\n",
       "      <td>Pfizer/BioNTech</td>\n",
       "      <td>PUG</td>\n",
       "      <td>20-29</td>\n",
       "      <td>18</td>\n",
       "      <td>33</td>\n",
       "      <td>47</td>\n",
       "      <td>4</td>\n",
       "      <td>0</td>\n",
       "      <td>0</td>\n",
       "      <td>0</td>\n",
       "      <td>0</td>\n",
       "      <td>51</td>\n",
       "      <td>0</td>\n",
       "      <td>ITF</td>\n",
       "      <td>ITF4</td>\n",
       "      <td>16</td>\n",
       "      <td>Puglia</td>\n",
       "    </tr>\n",
       "  </tbody>\n",
       "</table>\n",
       "</div>"
      ],
      "text/plain": [
       "   data_somministrazione        fornitore area fascia_anagrafica  \\\n",
       "0             2020-12-27  Pfizer/BioNTech  ABR             20-29   \n",
       "94            2020-12-27  Pfizer/BioNTech  PIE             70-79   \n",
       "95            2020-12-27  Pfizer/BioNTech  PIE             80-89   \n",
       "96            2020-12-27  Pfizer/BioNTech  PIE               90+   \n",
       "97            2020-12-27  Pfizer/BioNTech  PUG             20-29   \n",
       "\n",
       "    sesso_maschile  sesso_femminile  \\\n",
       "0                1                0   \n",
       "94               9               10   \n",
       "95               5               19   \n",
       "96               5               15   \n",
       "97              18               33   \n",
       "\n",
       "    categoria_operatori_sanitari_sociosanitari  \\\n",
       "0                                            1   \n",
       "94                                           1   \n",
       "95                                           0   \n",
       "96                                           0   \n",
       "97                                          47   \n",
       "\n",
       "    categoria_personale_non_sanitario  categoria_ospiti_rsa  categoria_over80  \\\n",
       "0                                   0                     0                 0   \n",
       "94                                  0                    18                 0   \n",
       "95                                  0                    24                 0   \n",
       "96                                  0                    20                 0   \n",
       "97                                  4                     0                 0   \n",
       "\n",
       "    categoria_forze_armate  categoria_personale_scolastico  prima_dose  \\\n",
       "0                        0                               0           1   \n",
       "94                       0                               0          19   \n",
       "95                       0                               0          24   \n",
       "96                       0                               0          20   \n",
       "97                       0                               0          51   \n",
       "\n",
       "    seconda_dose codice_NUTS1 codice_NUTS2  codice_regione_ISTAT nome_area  \n",
       "0              0          ITF         ITF1                    13   Abruzzo  \n",
       "94             0          ITC         ITC1                     1  Piemonte  \n",
       "95             0          ITC         ITC1                     1  Piemonte  \n",
       "96             0          ITC         ITC1                     1  Piemonte  \n",
       "97             0          ITF         ITF4                    16    Puglia  "
      ]
     },
     "execution_count": 568,
     "metadata": {},
     "output_type": "execute_result"
    }
   ],
   "source": [
    "df.head()"
   ]
  },
  {
   "cell_type": "code",
   "execution_count": 569,
   "metadata": {},
   "outputs": [],
   "source": [
    "df = df[df['data_somministrazione']>='2021-01-01']"
   ]
  },
  {
   "cell_type": "code",
   "execution_count": 570,
   "metadata": {},
   "outputs": [],
   "source": [
    "#df.data_somministrazione = df.data_somministrazione.dt.strftime(\"%d-%m-%Y\")"
   ]
  },
  {
   "cell_type": "code",
   "execution_count": 571,
   "metadata": {},
   "outputs": [],
   "source": [
    "df['giorno_campagna'] = df.data_somministrazione.dt.dayofyear"
   ]
  },
  {
   "cell_type": "code",
   "execution_count": 572,
   "metadata": {},
   "outputs": [
    {
     "name": "stderr",
     "output_type": "stream",
     "text": [
      "/Users/admin/opt/anaconda3/lib/python3.7/site-packages/ipykernel_launcher.py:1: FutureWarning:\n",
      "\n",
      "Indexing with multiple keys (implicitly converted to a tuple of keys) will be deprecated, use a list instead.\n",
      "\n"
     ]
    },
    {
     "data": {
      "text/html": [
       "<div>\n",
       "<style scoped>\n",
       "    .dataframe tbody tr th:only-of-type {\n",
       "        vertical-align: middle;\n",
       "    }\n",
       "\n",
       "    .dataframe tbody tr th {\n",
       "        vertical-align: top;\n",
       "    }\n",
       "\n",
       "    .dataframe thead th {\n",
       "        text-align: right;\n",
       "    }\n",
       "</style>\n",
       "<table border=\"1\" class=\"dataframe\">\n",
       "  <thead>\n",
       "    <tr style=\"text-align: right;\">\n",
       "      <th>data_somministrazione</th>\n",
       "      <th>2021-01-01</th>\n",
       "      <th>2021-01-02</th>\n",
       "      <th>2021-01-03</th>\n",
       "      <th>2021-01-04</th>\n",
       "      <th>2021-01-05</th>\n",
       "      <th>2021-01-06</th>\n",
       "      <th>2021-01-07</th>\n",
       "      <th>2021-01-08</th>\n",
       "      <th>2021-01-09</th>\n",
       "      <th>2021-01-10</th>\n",
       "      <th>...</th>\n",
       "      <th>2021-02-25</th>\n",
       "      <th>2021-02-26</th>\n",
       "      <th>2021-02-27</th>\n",
       "      <th>2021-02-28</th>\n",
       "      <th>2021-03-01</th>\n",
       "      <th>2021-03-02</th>\n",
       "      <th>2021-03-03</th>\n",
       "      <th>2021-03-04</th>\n",
       "      <th>2021-03-05</th>\n",
       "      <th>2021-03-06</th>\n",
       "    </tr>\n",
       "    <tr>\n",
       "      <th>fascia_anagrafica</th>\n",
       "      <th></th>\n",
       "      <th></th>\n",
       "      <th></th>\n",
       "      <th></th>\n",
       "      <th></th>\n",
       "      <th></th>\n",
       "      <th></th>\n",
       "      <th></th>\n",
       "      <th></th>\n",
       "      <th></th>\n",
       "      <th></th>\n",
       "      <th></th>\n",
       "      <th></th>\n",
       "      <th></th>\n",
       "      <th></th>\n",
       "      <th></th>\n",
       "      <th></th>\n",
       "      <th></th>\n",
       "      <th></th>\n",
       "      <th></th>\n",
       "      <th></th>\n",
       "    </tr>\n",
       "  </thead>\n",
       "  <tbody>\n",
       "    <tr>\n",
       "      <th>16-19</th>\n",
       "      <td>2.0</td>\n",
       "      <td>19.0</td>\n",
       "      <td>0.0</td>\n",
       "      <td>12.0</td>\n",
       "      <td>22.0</td>\n",
       "      <td>38.0</td>\n",
       "      <td>31.0</td>\n",
       "      <td>43.0</td>\n",
       "      <td>77.0</td>\n",
       "      <td>144.0</td>\n",
       "      <td>...</td>\n",
       "      <td>85.0</td>\n",
       "      <td>106.0</td>\n",
       "      <td>84.0</td>\n",
       "      <td>35.0</td>\n",
       "      <td>67.0</td>\n",
       "      <td>69.0</td>\n",
       "      <td>89.0</td>\n",
       "      <td>75.0</td>\n",
       "      <td>102.0</td>\n",
       "      <td>21.0</td>\n",
       "    </tr>\n",
       "    <tr>\n",
       "      <th>20-29</th>\n",
       "      <td>924.0</td>\n",
       "      <td>3513.0</td>\n",
       "      <td>3466.0</td>\n",
       "      <td>5930.0</td>\n",
       "      <td>6801.0</td>\n",
       "      <td>6570.0</td>\n",
       "      <td>7693.0</td>\n",
       "      <td>9015.0</td>\n",
       "      <td>8884.0</td>\n",
       "      <td>7460.0</td>\n",
       "      <td>...</td>\n",
       "      <td>4679.0</td>\n",
       "      <td>4958.0</td>\n",
       "      <td>4148.0</td>\n",
       "      <td>2615.0</td>\n",
       "      <td>4138.0</td>\n",
       "      <td>4925.0</td>\n",
       "      <td>4748.0</td>\n",
       "      <td>5365.0</td>\n",
       "      <td>5225.0</td>\n",
       "      <td>2183.0</td>\n",
       "    </tr>\n",
       "    <tr>\n",
       "      <th>30-39</th>\n",
       "      <td>1967.0</td>\n",
       "      <td>6935.0</td>\n",
       "      <td>6131.0</td>\n",
       "      <td>12099.0</td>\n",
       "      <td>13668.0</td>\n",
       "      <td>11261.0</td>\n",
       "      <td>15090.0</td>\n",
       "      <td>15401.0</td>\n",
       "      <td>13543.0</td>\n",
       "      <td>9938.0</td>\n",
       "      <td>...</td>\n",
       "      <td>7587.0</td>\n",
       "      <td>8750.0</td>\n",
       "      <td>8099.0</td>\n",
       "      <td>4522.0</td>\n",
       "      <td>6925.0</td>\n",
       "      <td>8858.0</td>\n",
       "      <td>8782.0</td>\n",
       "      <td>9543.0</td>\n",
       "      <td>10213.0</td>\n",
       "      <td>3913.0</td>\n",
       "    </tr>\n",
       "    <tr>\n",
       "      <th>40-49</th>\n",
       "      <td>2441.0</td>\n",
       "      <td>8464.0</td>\n",
       "      <td>7781.0</td>\n",
       "      <td>14575.0</td>\n",
       "      <td>16659.0</td>\n",
       "      <td>12834.0</td>\n",
       "      <td>19017.0</td>\n",
       "      <td>19571.0</td>\n",
       "      <td>16446.0</td>\n",
       "      <td>11470.0</td>\n",
       "      <td>...</td>\n",
       "      <td>12442.0</td>\n",
       "      <td>14019.0</td>\n",
       "      <td>14212.0</td>\n",
       "      <td>7684.0</td>\n",
       "      <td>12598.0</td>\n",
       "      <td>15002.0</td>\n",
       "      <td>14932.0</td>\n",
       "      <td>15954.0</td>\n",
       "      <td>17225.0</td>\n",
       "      <td>6707.0</td>\n",
       "    </tr>\n",
       "    <tr>\n",
       "      <th>50-59</th>\n",
       "      <td>3216.0</td>\n",
       "      <td>10835.0</td>\n",
       "      <td>10101.0</td>\n",
       "      <td>19950.0</td>\n",
       "      <td>22956.0</td>\n",
       "      <td>17799.0</td>\n",
       "      <td>26406.0</td>\n",
       "      <td>26857.0</td>\n",
       "      <td>22496.0</td>\n",
       "      <td>15278.0</td>\n",
       "      <td>...</td>\n",
       "      <td>14888.0</td>\n",
       "      <td>18729.0</td>\n",
       "      <td>19406.0</td>\n",
       "      <td>11070.0</td>\n",
       "      <td>17383.0</td>\n",
       "      <td>22638.0</td>\n",
       "      <td>22411.0</td>\n",
       "      <td>23386.0</td>\n",
       "      <td>24740.0</td>\n",
       "      <td>8836.0</td>\n",
       "    </tr>\n",
       "    <tr>\n",
       "      <th>60-69</th>\n",
       "      <td>1698.0</td>\n",
       "      <td>6577.0</td>\n",
       "      <td>5976.0</td>\n",
       "      <td>11971.0</td>\n",
       "      <td>14135.0</td>\n",
       "      <td>11854.0</td>\n",
       "      <td>15512.0</td>\n",
       "      <td>16060.0</td>\n",
       "      <td>16962.0</td>\n",
       "      <td>10685.0</td>\n",
       "      <td>...</td>\n",
       "      <td>6556.0</td>\n",
       "      <td>8500.0</td>\n",
       "      <td>9419.0</td>\n",
       "      <td>7060.0</td>\n",
       "      <td>8541.0</td>\n",
       "      <td>12977.0</td>\n",
       "      <td>13523.0</td>\n",
       "      <td>13607.0</td>\n",
       "      <td>13371.0</td>\n",
       "      <td>5892.0</td>\n",
       "    </tr>\n",
       "    <tr>\n",
       "      <th>70-79</th>\n",
       "      <td>184.0</td>\n",
       "      <td>597.0</td>\n",
       "      <td>533.0</td>\n",
       "      <td>1113.0</td>\n",
       "      <td>1568.0</td>\n",
       "      <td>1687.0</td>\n",
       "      <td>2307.0</td>\n",
       "      <td>2665.0</td>\n",
       "      <td>3045.0</td>\n",
       "      <td>2223.0</td>\n",
       "      <td>...</td>\n",
       "      <td>1529.0</td>\n",
       "      <td>1519.0</td>\n",
       "      <td>1509.0</td>\n",
       "      <td>835.0</td>\n",
       "      <td>1512.0</td>\n",
       "      <td>1682.0</td>\n",
       "      <td>2929.0</td>\n",
       "      <td>3357.0</td>\n",
       "      <td>4105.0</td>\n",
       "      <td>1642.0</td>\n",
       "    </tr>\n",
       "    <tr>\n",
       "      <th>80-89</th>\n",
       "      <td>281.0</td>\n",
       "      <td>802.0</td>\n",
       "      <td>597.0</td>\n",
       "      <td>1440.0</td>\n",
       "      <td>1858.0</td>\n",
       "      <td>1504.0</td>\n",
       "      <td>3063.0</td>\n",
       "      <td>3064.0</td>\n",
       "      <td>2929.0</td>\n",
       "      <td>1740.0</td>\n",
       "      <td>...</td>\n",
       "      <td>52832.0</td>\n",
       "      <td>50301.0</td>\n",
       "      <td>45612.0</td>\n",
       "      <td>28544.0</td>\n",
       "      <td>46523.0</td>\n",
       "      <td>47613.0</td>\n",
       "      <td>50939.0</td>\n",
       "      <td>51201.0</td>\n",
       "      <td>49871.0</td>\n",
       "      <td>18312.0</td>\n",
       "    </tr>\n",
       "    <tr>\n",
       "      <th>90+</th>\n",
       "      <td>325.0</td>\n",
       "      <td>750.0</td>\n",
       "      <td>532.0</td>\n",
       "      <td>1328.0</td>\n",
       "      <td>1802.0</td>\n",
       "      <td>1398.0</td>\n",
       "      <td>2780.0</td>\n",
       "      <td>2696.0</td>\n",
       "      <td>2433.0</td>\n",
       "      <td>1373.0</td>\n",
       "      <td>...</td>\n",
       "      <td>12533.0</td>\n",
       "      <td>10863.0</td>\n",
       "      <td>9975.0</td>\n",
       "      <td>6350.0</td>\n",
       "      <td>9061.0</td>\n",
       "      <td>10267.0</td>\n",
       "      <td>15922.0</td>\n",
       "      <td>16084.0</td>\n",
       "      <td>12808.0</td>\n",
       "      <td>3272.0</td>\n",
       "    </tr>\n",
       "  </tbody>\n",
       "</table>\n",
       "<p>9 rows × 65 columns</p>\n",
       "</div>"
      ],
      "text/plain": [
       "data_somministrazione  2021-01-01  2021-01-02  2021-01-03  2021-01-04  \\\n",
       "fascia_anagrafica                                                       \n",
       "16-19                         2.0        19.0         0.0        12.0   \n",
       "20-29                       924.0      3513.0      3466.0      5930.0   \n",
       "30-39                      1967.0      6935.0      6131.0     12099.0   \n",
       "40-49                      2441.0      8464.0      7781.0     14575.0   \n",
       "50-59                      3216.0     10835.0     10101.0     19950.0   \n",
       "60-69                      1698.0      6577.0      5976.0     11971.0   \n",
       "70-79                       184.0       597.0       533.0      1113.0   \n",
       "80-89                       281.0       802.0       597.0      1440.0   \n",
       "90+                         325.0       750.0       532.0      1328.0   \n",
       "\n",
       "data_somministrazione  2021-01-05  2021-01-06  2021-01-07  2021-01-08  \\\n",
       "fascia_anagrafica                                                       \n",
       "16-19                        22.0        38.0        31.0        43.0   \n",
       "20-29                      6801.0      6570.0      7693.0      9015.0   \n",
       "30-39                     13668.0     11261.0     15090.0     15401.0   \n",
       "40-49                     16659.0     12834.0     19017.0     19571.0   \n",
       "50-59                     22956.0     17799.0     26406.0     26857.0   \n",
       "60-69                     14135.0     11854.0     15512.0     16060.0   \n",
       "70-79                      1568.0      1687.0      2307.0      2665.0   \n",
       "80-89                      1858.0      1504.0      3063.0      3064.0   \n",
       "90+                        1802.0      1398.0      2780.0      2696.0   \n",
       "\n",
       "data_somministrazione  2021-01-09  2021-01-10  ...  2021-02-25  2021-02-26  \\\n",
       "fascia_anagrafica                              ...                           \n",
       "16-19                        77.0       144.0  ...        85.0       106.0   \n",
       "20-29                      8884.0      7460.0  ...      4679.0      4958.0   \n",
       "30-39                     13543.0      9938.0  ...      7587.0      8750.0   \n",
       "40-49                     16446.0     11470.0  ...     12442.0     14019.0   \n",
       "50-59                     22496.0     15278.0  ...     14888.0     18729.0   \n",
       "60-69                     16962.0     10685.0  ...      6556.0      8500.0   \n",
       "70-79                      3045.0      2223.0  ...      1529.0      1519.0   \n",
       "80-89                      2929.0      1740.0  ...     52832.0     50301.0   \n",
       "90+                        2433.0      1373.0  ...     12533.0     10863.0   \n",
       "\n",
       "data_somministrazione  2021-02-27  2021-02-28  2021-03-01  2021-03-02  \\\n",
       "fascia_anagrafica                                                       \n",
       "16-19                        84.0        35.0        67.0        69.0   \n",
       "20-29                      4148.0      2615.0      4138.0      4925.0   \n",
       "30-39                      8099.0      4522.0      6925.0      8858.0   \n",
       "40-49                     14212.0      7684.0     12598.0     15002.0   \n",
       "50-59                     19406.0     11070.0     17383.0     22638.0   \n",
       "60-69                      9419.0      7060.0      8541.0     12977.0   \n",
       "70-79                      1509.0       835.0      1512.0      1682.0   \n",
       "80-89                     45612.0     28544.0     46523.0     47613.0   \n",
       "90+                        9975.0      6350.0      9061.0     10267.0   \n",
       "\n",
       "data_somministrazione  2021-03-03  2021-03-04  2021-03-05  2021-03-06  \n",
       "fascia_anagrafica                                                      \n",
       "16-19                        89.0        75.0       102.0        21.0  \n",
       "20-29                      4748.0      5365.0      5225.0      2183.0  \n",
       "30-39                      8782.0      9543.0     10213.0      3913.0  \n",
       "40-49                     14932.0     15954.0     17225.0      6707.0  \n",
       "50-59                     22411.0     23386.0     24740.0      8836.0  \n",
       "60-69                     13523.0     13607.0     13371.0      5892.0  \n",
       "70-79                      2929.0      3357.0      4105.0      1642.0  \n",
       "80-89                     50939.0     51201.0     49871.0     18312.0  \n",
       "90+                       15922.0     16084.0     12808.0      3272.0  \n",
       "\n",
       "[9 rows x 65 columns]"
      ]
     },
     "execution_count": 572,
     "metadata": {},
     "output_type": "execute_result"
    }
   ],
   "source": [
    "df_pivot = (df.groupby(['data_somministrazione','fascia_anagrafica'])['prima_dose','seconda_dose'].sum().reset_index(level=0).\n",
    " pivot(columns='data_somministrazione', values='prima_dose').fillna(0))\n",
    "df_pivot"
   ]
  },
  {
   "cell_type": "code",
   "execution_count": 573,
   "metadata": {},
   "outputs": [
    {
     "data": {
      "text/plain": [
       "<matplotlib.axes._subplots.AxesSubplot at 0x7fb444202e50>"
      ]
     },
     "execution_count": 573,
     "metadata": {},
     "output_type": "execute_result"
    },
    {
     "data": {
      "image/png": "[encoded data removed]",
      "text/plain": [
       "<Figure size 1080x576 with 2 Axes>"
      ]
     },
     "metadata": {},
     "output_type": "display_data"
    }
   ],
   "source": [
    "\n",
    "plt.figure(figsize=(15,8))\n",
    "sns.heatmap(df_pivot, cmap='coolwarm', linecolor='white', linewidths=0.1)"
   ]
  },
  {
   "cell_type": "code",
   "execution_count": 574,
   "metadata": {},
   "outputs": [],
   "source": [
    "daily = df.groupby('data_somministrazione')['prima_dose'].sum().reset_index()\n",
    "df = df.merge(daily, left_on='data_somministrazione', right_on='data_somministrazione', how='inner', \n",
    "        suffixes=['','_totale_giorno'])"
   ]
  },
  {
   "cell_type": "markdown",
   "metadata": {},
   "source": [
    "I need to groupby before calculating percentage as they are labelled by region as well"
   ]
  },
  {
   "cell_type": "code",
   "execution_count": 575,
   "metadata": {},
   "outputs": [],
   "source": [
    "df1 = df.groupby(['data_somministrazione', 'fascia_anagrafica'])['prima_dose'].sum().reset_index(level=1).fillna(0)"
   ]
  },
  {
   "cell_type": "code",
   "execution_count": 576,
   "metadata": {},
   "outputs": [],
   "source": [
    "df1 = df1.merge(daily, left_on='data_somministrazione', right_on='data_somministrazione', how='inner', \n",
    "        suffixes=['','_totale_giorno']).fillna(0)"
   ]
  },
  {
   "cell_type": "code",
   "execution_count": 577,
   "metadata": {},
   "outputs": [],
   "source": [
    "df1['perc_tot_somministrati'] = (df1.prima_dose/df1.prima_dose_totale_giorno).mul(100).round(0)"
   ]
  },
  {
   "cell_type": "code",
   "execution_count": 578,
   "metadata": {},
   "outputs": [],
   "source": [
    "#df1.data_somministrazione = df1.data_somministrazione.dt.strftime(\"%d-%m-%Y\")\n",
    "df1_pivot = df1.pivot(columns='data_somministrazione',index='fascia_anagrafica',values='perc_tot_somministrati').sort_index(ascending=False)"
   ]
  },
  {
   "cell_type": "code",
   "execution_count": 579,
   "metadata": {},
   "outputs": [
    {
     "data": {
      "text/html": [
       "<div>\n",
       "<style scoped>\n",
       "    .dataframe tbody tr th:only-of-type {\n",
       "        vertical-align: middle;\n",
       "    }\n",
       "\n",
       "    .dataframe tbody tr th {\n",
       "        vertical-align: top;\n",
       "    }\n",
       "\n",
       "    .dataframe thead th {\n",
       "        text-align: right;\n",
       "    }\n",
       "</style>\n",
       "<table border=\"1\" class=\"dataframe\">\n",
       "  <thead>\n",
       "    <tr style=\"text-align: right;\">\n",
       "      <th>data_somministrazione</th>\n",
       "      <th>2021-01-01</th>\n",
       "      <th>2021-01-02</th>\n",
       "      <th>2021-01-03</th>\n",
       "      <th>2021-01-04</th>\n",
       "      <th>2021-01-05</th>\n",
       "      <th>2021-01-06</th>\n",
       "      <th>2021-01-07</th>\n",
       "      <th>2021-01-08</th>\n",
       "      <th>2021-01-09</th>\n",
       "      <th>2021-01-10</th>\n",
       "      <th>...</th>\n",
       "      <th>2021-02-25</th>\n",
       "      <th>2021-02-26</th>\n",
       "      <th>2021-02-27</th>\n",
       "      <th>2021-02-28</th>\n",
       "      <th>2021-03-01</th>\n",
       "      <th>2021-03-02</th>\n",
       "      <th>2021-03-03</th>\n",
       "      <th>2021-03-04</th>\n",
       "      <th>2021-03-05</th>\n",
       "      <th>2021-03-06</th>\n",
       "    </tr>\n",
       "    <tr>\n",
       "      <th>fascia_anagrafica</th>\n",
       "      <th></th>\n",
       "      <th></th>\n",
       "      <th></th>\n",
       "      <th></th>\n",
       "      <th></th>\n",
       "      <th></th>\n",
       "      <th></th>\n",
       "      <th></th>\n",
       "      <th></th>\n",
       "      <th></th>\n",
       "      <th></th>\n",
       "      <th></th>\n",
       "      <th></th>\n",
       "      <th></th>\n",
       "      <th></th>\n",
       "      <th></th>\n",
       "      <th></th>\n",
       "      <th></th>\n",
       "      <th></th>\n",
       "      <th></th>\n",
       "      <th></th>\n",
       "    </tr>\n",
       "  </thead>\n",
       "  <tbody>\n",
       "    <tr>\n",
       "      <th>16-19</th>\n",
       "      <td>2.0</td>\n",
       "      <td>19.0</td>\n",
       "      <td>0.0</td>\n",
       "      <td>12.0</td>\n",
       "      <td>22.0</td>\n",
       "      <td>38.0</td>\n",
       "      <td>31.0</td>\n",
       "      <td>43.0</td>\n",
       "      <td>77.0</td>\n",
       "      <td>144.0</td>\n",
       "      <td>...</td>\n",
       "      <td>85.0</td>\n",
       "      <td>106.0</td>\n",
       "      <td>84.0</td>\n",
       "      <td>35.0</td>\n",
       "      <td>67.0</td>\n",
       "      <td>69.0</td>\n",
       "      <td>89.0</td>\n",
       "      <td>75.0</td>\n",
       "      <td>102.0</td>\n",
       "      <td>21.0</td>\n",
       "    </tr>\n",
       "    <tr>\n",
       "      <th>20-29</th>\n",
       "      <td>924.0</td>\n",
       "      <td>3513.0</td>\n",
       "      <td>3466.0</td>\n",
       "      <td>5930.0</td>\n",
       "      <td>6801.0</td>\n",
       "      <td>6570.0</td>\n",
       "      <td>7693.0</td>\n",
       "      <td>9015.0</td>\n",
       "      <td>8884.0</td>\n",
       "      <td>7460.0</td>\n",
       "      <td>...</td>\n",
       "      <td>4679.0</td>\n",
       "      <td>4958.0</td>\n",
       "      <td>4148.0</td>\n",
       "      <td>2615.0</td>\n",
       "      <td>4138.0</td>\n",
       "      <td>4925.0</td>\n",
       "      <td>4748.0</td>\n",
       "      <td>5365.0</td>\n",
       "      <td>5225.0</td>\n",
       "      <td>2183.0</td>\n",
       "    </tr>\n",
       "    <tr>\n",
       "      <th>30-39</th>\n",
       "      <td>1967.0</td>\n",
       "      <td>6935.0</td>\n",
       "      <td>6131.0</td>\n",
       "      <td>12099.0</td>\n",
       "      <td>13668.0</td>\n",
       "      <td>11261.0</td>\n",
       "      <td>15090.0</td>\n",
       "      <td>15401.0</td>\n",
       "      <td>13543.0</td>\n",
       "      <td>9938.0</td>\n",
       "      <td>...</td>\n",
       "      <td>7587.0</td>\n",
       "      <td>8750.0</td>\n",
       "      <td>8099.0</td>\n",
       "      <td>4522.0</td>\n",
       "      <td>6925.0</td>\n",
       "      <td>8858.0</td>\n",
       "      <td>8782.0</td>\n",
       "      <td>9543.0</td>\n",
       "      <td>10213.0</td>\n",
       "      <td>3913.0</td>\n",
       "    </tr>\n",
       "    <tr>\n",
       "      <th>40-49</th>\n",
       "      <td>2441.0</td>\n",
       "      <td>8464.0</td>\n",
       "      <td>7781.0</td>\n",
       "      <td>14575.0</td>\n",
       "      <td>16659.0</td>\n",
       "      <td>12834.0</td>\n",
       "      <td>19017.0</td>\n",
       "      <td>19571.0</td>\n",
       "      <td>16446.0</td>\n",
       "      <td>11470.0</td>\n",
       "      <td>...</td>\n",
       "      <td>12442.0</td>\n",
       "      <td>14019.0</td>\n",
       "      <td>14212.0</td>\n",
       "      <td>7684.0</td>\n",
       "      <td>12598.0</td>\n",
       "      <td>15002.0</td>\n",
       "      <td>14932.0</td>\n",
       "      <td>15954.0</td>\n",
       "      <td>17225.0</td>\n",
       "      <td>6707.0</td>\n",
       "    </tr>\n",
       "    <tr>\n",
       "      <th>50-59</th>\n",
       "      <td>3216.0</td>\n",
       "      <td>10835.0</td>\n",
       "      <td>10101.0</td>\n",
       "      <td>19950.0</td>\n",
       "      <td>22956.0</td>\n",
       "      <td>17799.0</td>\n",
       "      <td>26406.0</td>\n",
       "      <td>26857.0</td>\n",
       "      <td>22496.0</td>\n",
       "      <td>15278.0</td>\n",
       "      <td>...</td>\n",
       "      <td>14888.0</td>\n",
       "      <td>18729.0</td>\n",
       "      <td>19406.0</td>\n",
       "      <td>11070.0</td>\n",
       "      <td>17383.0</td>\n",
       "      <td>22638.0</td>\n",
       "      <td>22411.0</td>\n",
       "      <td>23386.0</td>\n",
       "      <td>24740.0</td>\n",
       "      <td>8836.0</td>\n",
       "    </tr>\n",
       "    <tr>\n",
       "      <th>60-69</th>\n",
       "      <td>1698.0</td>\n",
       "      <td>6577.0</td>\n",
       "      <td>5976.0</td>\n",
       "      <td>11971.0</td>\n",
       "      <td>14135.0</td>\n",
       "      <td>11854.0</td>\n",
       "      <td>15512.0</td>\n",
       "      <td>16060.0</td>\n",
       "      <td>16962.0</td>\n",
       "      <td>10685.0</td>\n",
       "      <td>...</td>\n",
       "      <td>6556.0</td>\n",
       "      <td>8500.0</td>\n",
       "      <td>9419.0</td>\n",
       "      <td>7060.0</td>\n",
       "      <td>8541.0</td>\n",
       "      <td>12977.0</td>\n",
       "      <td>13523.0</td>\n",
       "      <td>13607.0</td>\n",
       "      <td>13371.0</td>\n",
       "      <td>5892.0</td>\n",
       "    </tr>\n",
       "    <tr>\n",
       "      <th>70-79</th>\n",
       "      <td>184.0</td>\n",
       "      <td>597.0</td>\n",
       "      <td>533.0</td>\n",
       "      <td>1113.0</td>\n",
       "      <td>1568.0</td>\n",
       "      <td>1687.0</td>\n",
       "      <td>2307.0</td>\n",
       "      <td>2665.0</td>\n",
       "      <td>3045.0</td>\n",
       "      <td>2223.0</td>\n",
       "      <td>...</td>\n",
       "      <td>1529.0</td>\n",
       "      <td>1519.0</td>\n",
       "      <td>1509.0</td>\n",
       "      <td>835.0</td>\n",
       "      <td>1512.0</td>\n",
       "      <td>1682.0</td>\n",
       "      <td>2929.0</td>\n",
       "      <td>3357.0</td>\n",
       "      <td>4105.0</td>\n",
       "      <td>1642.0</td>\n",
       "    </tr>\n",
       "    <tr>\n",
       "      <th>80-89</th>\n",
       "      <td>281.0</td>\n",
       "      <td>802.0</td>\n",
       "      <td>597.0</td>\n",
       "      <td>1440.0</td>\n",
       "      <td>1858.0</td>\n",
       "      <td>1504.0</td>\n",
       "      <td>3063.0</td>\n",
       "      <td>3064.0</td>\n",
       "      <td>2929.0</td>\n",
       "      <td>1740.0</td>\n",
       "      <td>...</td>\n",
       "      <td>52832.0</td>\n",
       "      <td>50301.0</td>\n",
       "      <td>45612.0</td>\n",
       "      <td>28544.0</td>\n",
       "      <td>46523.0</td>\n",
       "      <td>47613.0</td>\n",
       "      <td>50939.0</td>\n",
       "      <td>51201.0</td>\n",
       "      <td>49871.0</td>\n",
       "      <td>18312.0</td>\n",
       "    </tr>\n",
       "    <tr>\n",
       "      <th>90+</th>\n",
       "      <td>325.0</td>\n",
       "      <td>750.0</td>\n",
       "      <td>532.0</td>\n",
       "      <td>1328.0</td>\n",
       "      <td>1802.0</td>\n",
       "      <td>1398.0</td>\n",
       "      <td>2780.0</td>\n",
       "      <td>2696.0</td>\n",
       "      <td>2433.0</td>\n",
       "      <td>1373.0</td>\n",
       "      <td>...</td>\n",
       "      <td>12533.0</td>\n",
       "      <td>10863.0</td>\n",
       "      <td>9975.0</td>\n",
       "      <td>6350.0</td>\n",
       "      <td>9061.0</td>\n",
       "      <td>10267.0</td>\n",
       "      <td>15922.0</td>\n",
       "      <td>16084.0</td>\n",
       "      <td>12808.0</td>\n",
       "      <td>3272.0</td>\n",
       "    </tr>\n",
       "  </tbody>\n",
       "</table>\n",
       "<p>9 rows × 65 columns</p>\n",
       "</div>"
      ],
      "text/plain": [
       "data_somministrazione  2021-01-01  2021-01-02  2021-01-03  2021-01-04  \\\n",
       "fascia_anagrafica                                                       \n",
       "16-19                         2.0        19.0         0.0        12.0   \n",
       "20-29                       924.0      3513.0      3466.0      5930.0   \n",
       "30-39                      1967.0      6935.0      6131.0     12099.0   \n",
       "40-49                      2441.0      8464.0      7781.0     14575.0   \n",
       "50-59                      3216.0     10835.0     10101.0     19950.0   \n",
       "60-69                      1698.0      6577.0      5976.0     11971.0   \n",
       "70-79                       184.0       597.0       533.0      1113.0   \n",
       "80-89                       281.0       802.0       597.0      1440.0   \n",
       "90+                         325.0       750.0       532.0      1328.0   \n",
       "\n",
       "data_somministrazione  2021-01-05  2021-01-06  2021-01-07  2021-01-08  \\\n",
       "fascia_anagrafica                                                       \n",
       "16-19                        22.0        38.0        31.0        43.0   \n",
       "20-29                      6801.0      6570.0      7693.0      9015.0   \n",
       "30-39                     13668.0     11261.0     15090.0     15401.0   \n",
       "40-49                     16659.0     12834.0     19017.0     19571.0   \n",
       "50-59                     22956.0     17799.0     26406.0     26857.0   \n",
       "60-69                     14135.0     11854.0     15512.0     16060.0   \n",
       "70-79                      1568.0      1687.0      2307.0      2665.0   \n",
       "80-89                      1858.0      1504.0      3063.0      3064.0   \n",
       "90+                        1802.0      1398.0      2780.0      2696.0   \n",
       "\n",
       "data_somministrazione  2021-01-09  2021-01-10  ...  2021-02-25  2021-02-26  \\\n",
       "fascia_anagrafica                              ...                           \n",
       "16-19                        77.0       144.0  ...        85.0       106.0   \n",
       "20-29                      8884.0      7460.0  ...      4679.0      4958.0   \n",
       "30-39                     13543.0      9938.0  ...      7587.0      8750.0   \n",
       "40-49                     16446.0     11470.0  ...     12442.0     14019.0   \n",
       "50-59                     22496.0     15278.0  ...     14888.0     18729.0   \n",
       "60-69                     16962.0     10685.0  ...      6556.0      8500.0   \n",
       "70-79                      3045.0      2223.0  ...      1529.0      1519.0   \n",
       "80-89                      2929.0      1740.0  ...     52832.0     50301.0   \n",
       "90+                        2433.0      1373.0  ...     12533.0     10863.0   \n",
       "\n",
       "data_somministrazione  2021-02-27  2021-02-28  2021-03-01  2021-03-02  \\\n",
       "fascia_anagrafica                                                       \n",
       "16-19                        84.0        35.0        67.0        69.0   \n",
       "20-29                      4148.0      2615.0      4138.0      4925.0   \n",
       "30-39                      8099.0      4522.0      6925.0      8858.0   \n",
       "40-49                     14212.0      7684.0     12598.0     15002.0   \n",
       "50-59                     19406.0     11070.0     17383.0     22638.0   \n",
       "60-69                      9419.0      7060.0      8541.0     12977.0   \n",
       "70-79                      1509.0       835.0      1512.0      1682.0   \n",
       "80-89                     45612.0     28544.0     46523.0     47613.0   \n",
       "90+                        9975.0      6350.0      9061.0     10267.0   \n",
       "\n",
       "data_somministrazione  2021-03-03  2021-03-04  2021-03-05  2021-03-06  \n",
       "fascia_anagrafica                                                      \n",
       "16-19                        89.0        75.0       102.0        21.0  \n",
       "20-29                      4748.0      5365.0      5225.0      2183.0  \n",
       "30-39                      8782.0      9543.0     10213.0      3913.0  \n",
       "40-49                     14932.0     15954.0     17225.0      6707.0  \n",
       "50-59                     22411.0     23386.0     24740.0      8836.0  \n",
       "60-69                     13523.0     13607.0     13371.0      5892.0  \n",
       "70-79                      2929.0      3357.0      4105.0      1642.0  \n",
       "80-89                     50939.0     51201.0     49871.0     18312.0  \n",
       "90+                       15922.0     16084.0     12808.0      3272.0  \n",
       "\n",
       "[9 rows x 65 columns]"
      ]
     },
     "execution_count": 579,
     "metadata": {},
     "output_type": "execute_result"
    }
   ],
   "source": [
    "df_pivot"
   ]
  },
  {
   "cell_type": "code",
   "execution_count": 580,
   "metadata": {},
   "outputs": [
    {
     "data": {
      "image/png": "[encoded data removed]",
      "text/plain": [
       "<Figure size 1080x576 with 1 Axes>"
      ]
     },
     "metadata": {},
     "output_type": "display_data"
    }
   ],
   "source": [
    "plt.figure(figsize=(15,8))\n",
    "ax = sns.heatmap(df1_pivot, cmap='Blues'\n",
    ",annot=True, linecolor='black', linewidths=0.01, cbar=False, fmt='g')\n",
    "ax.set_xticklabels(df1.data_somministrazione.dt.date)\n",
    "plt.ylabel('')\n",
    "plt.yticks(rotation=0, )\n",
    "plt.suptitle('Percentuale Somministrata sul Totale Giornaliero', fontsize=20)\n",
    "plt.title('Elaborazione: @TomZ_UK - Dati: ISS')\n",
    "\n",
    "plt.savefig('percentuale_totale_HM.png')"
   ]
  },
  {
   "cell_type": "markdown",
   "metadata": {},
   "source": [
    "# Analisi Popolazione\n",
    "Percentuale somministrazioni sul totale popolazione divisa per gruppi anagrafici"
   ]
  },
  {
   "cell_type": "code",
   "execution_count": 581,
   "metadata": {},
   "outputs": [
    {
     "data": {
      "text/html": [
       "<div>\n",
       "<style scoped>\n",
       "    .dataframe tbody tr th:only-of-type {\n",
       "        vertical-align: middle;\n",
       "    }\n",
       "\n",
       "    .dataframe tbody tr th {\n",
       "        vertical-align: top;\n",
       "    }\n",
       "\n",
       "    .dataframe thead tr th {\n",
       "        text-align: left;\n",
       "    }\n",
       "</style>\n",
       "<table border=\"1\" class=\"dataframe\">\n",
       "  <thead>\n",
       "    <tr>\n",
       "      <th></th>\n",
       "      <th>Età</th>\n",
       "      <th>Celibi/Nubili</th>\n",
       "      <th>Coniugati/e</th>\n",
       "      <th>Vedovi/e</th>\n",
       "      <th>Divorziati/e</th>\n",
       "      <th>Maschi</th>\n",
       "      <th>Femmine</th>\n",
       "      <th colspan=\"2\" halign=\"left\">Totale</th>\n",
       "    </tr>\n",
       "    <tr>\n",
       "      <th></th>\n",
       "      <th>Età</th>\n",
       "      <th>Celibi/Nubili</th>\n",
       "      <th>Coniugati/e</th>\n",
       "      <th>Vedovi/e</th>\n",
       "      <th>Divorziati/e</th>\n",
       "      <th>Maschi</th>\n",
       "      <th>Femmine</th>\n",
       "      <th>Unnamed: 7_level_1</th>\n",
       "      <th>%</th>\n",
       "    </tr>\n",
       "  </thead>\n",
       "  <tbody>\n",
       "    <tr>\n",
       "      <th>0</th>\n",
       "      <td>0-4</td>\n",
       "      <td>2.264.538</td>\n",
       "      <td>0</td>\n",
       "      <td>0</td>\n",
       "      <td>0</td>\n",
       "      <td>1.163.19851,4%</td>\n",
       "      <td>1.101.34048,6%</td>\n",
       "      <td>2.264.538</td>\n",
       "      <td>3,8%</td>\n",
       "    </tr>\n",
       "    <tr>\n",
       "      <th>1</th>\n",
       "      <td>5-9</td>\n",
       "      <td>2.627.956</td>\n",
       "      <td>0</td>\n",
       "      <td>0</td>\n",
       "      <td>0</td>\n",
       "      <td>1.352.24051,5%</td>\n",
       "      <td>1.275.71648,5%</td>\n",
       "      <td>2.627.956</td>\n",
       "      <td>4,4%</td>\n",
       "    </tr>\n",
       "    <tr>\n",
       "      <th>2</th>\n",
       "      <td>10-14</td>\n",
       "      <td>2.835.060</td>\n",
       "      <td>0</td>\n",
       "      <td>0</td>\n",
       "      <td>0</td>\n",
       "      <td>1.460.44951,5%</td>\n",
       "      <td>1.374.61148,5%</td>\n",
       "      <td>2.835.060</td>\n",
       "      <td>4,8%</td>\n",
       "    </tr>\n",
       "    <tr>\n",
       "      <th>3</th>\n",
       "      <td>15-19</td>\n",
       "      <td>2.868.948</td>\n",
       "      <td>2.004</td>\n",
       "      <td>21</td>\n",
       "      <td>83</td>\n",
       "      <td>1.485.46551,7%</td>\n",
       "      <td>1.385.59148,3%</td>\n",
       "      <td>2.871.056</td>\n",
       "      <td>4,8%</td>\n",
       "    </tr>\n",
       "    <tr>\n",
       "      <th>4</th>\n",
       "      <td>20-24</td>\n",
       "      <td>2.890.840</td>\n",
       "      <td>64.253</td>\n",
       "      <td>127</td>\n",
       "      <td>668</td>\n",
       "      <td>1.549.02052,4%</td>\n",
       "      <td>1.406.86847,6%</td>\n",
       "      <td>2.955.888</td>\n",
       "      <td>5,0%</td>\n",
       "    </tr>\n",
       "    <tr>\n",
       "      <th>5</th>\n",
       "      <td>25-29</td>\n",
       "      <td>2.714.681</td>\n",
       "      <td>407.555</td>\n",
       "      <td>630</td>\n",
       "      <td>5.628</td>\n",
       "      <td>1.605.44451,3%</td>\n",
       "      <td>1.523.05048,7%</td>\n",
       "      <td>3.128.494</td>\n",
       "      <td>5,2%</td>\n",
       "    </tr>\n",
       "    <tr>\n",
       "      <th>6</th>\n",
       "      <td>30-34</td>\n",
       "      <td>2.084.313</td>\n",
       "      <td>1.169.221</td>\n",
       "      <td>2.418</td>\n",
       "      <td>26.489</td>\n",
       "      <td>1.658.74950,5%</td>\n",
       "      <td>1.623.69249,5%</td>\n",
       "      <td>3.282.441</td>\n",
       "      <td>5,5%</td>\n",
       "    </tr>\n",
       "    <tr>\n",
       "      <th>7</th>\n",
       "      <td>35-39</td>\n",
       "      <td>1.577.289</td>\n",
       "      <td>1.915.487</td>\n",
       "      <td>7.282</td>\n",
       "      <td>72.133</td>\n",
       "      <td>1.792.98150,2%</td>\n",
       "      <td>1.779.21049,8%</td>\n",
       "      <td>3.572.191</td>\n",
       "      <td>6,0%</td>\n",
       "    </tr>\n",
       "    <tr>\n",
       "      <th>8</th>\n",
       "      <td>40-44</td>\n",
       "      <td>1.393.337</td>\n",
       "      <td>2.620.552</td>\n",
       "      <td>18.957</td>\n",
       "      <td>154.618</td>\n",
       "      <td>2.089.19849,9%</td>\n",
       "      <td>2.098.26650,1%</td>\n",
       "      <td>4.187.464</td>\n",
       "      <td>7,0%</td>\n",
       "    </tr>\n",
       "    <tr>\n",
       "      <th>9</th>\n",
       "      <td>45-49</td>\n",
       "      <td>1.211.484</td>\n",
       "      <td>3.236.400</td>\n",
       "      <td>42.592</td>\n",
       "      <td>259.289</td>\n",
       "      <td>2.356.80049,6%</td>\n",
       "      <td>2.392.96550,4%</td>\n",
       "      <td>4.749.765</td>\n",
       "      <td>8,0%</td>\n",
       "    </tr>\n",
       "    <tr>\n",
       "      <th>10</th>\n",
       "      <td>50-54</td>\n",
       "      <td>914.381</td>\n",
       "      <td>3.545.692</td>\n",
       "      <td>84.717</td>\n",
       "      <td>331.914</td>\n",
       "      <td>2.404.14449,3%</td>\n",
       "      <td>2.472.56050,7%</td>\n",
       "      <td>4.876.704</td>\n",
       "      <td>8,2%</td>\n",
       "    </tr>\n",
       "    <tr>\n",
       "      <th>11</th>\n",
       "      <td>55-59</td>\n",
       "      <td>626.453</td>\n",
       "      <td>3.439.662</td>\n",
       "      <td>147.926</td>\n",
       "      <td>323.450</td>\n",
       "      <td>2.213.00848,8%</td>\n",
       "      <td>2.324.48351,2%</td>\n",
       "      <td>4.537.491</td>\n",
       "      <td>7,6%</td>\n",
       "    </tr>\n",
       "    <tr>\n",
       "      <th>12</th>\n",
       "      <td>60-64</td>\n",
       "      <td>411.731</td>\n",
       "      <td>3.006.985</td>\n",
       "      <td>230.387</td>\n",
       "      <td>244.247</td>\n",
       "      <td>1.874.92248,2%</td>\n",
       "      <td>2.018.42851,8%</td>\n",
       "      <td>3.893.350</td>\n",
       "      <td>6,5%</td>\n",
       "    </tr>\n",
       "    <tr>\n",
       "      <th>13</th>\n",
       "      <td>65-69</td>\n",
       "      <td>286.807</td>\n",
       "      <td>2.663.542</td>\n",
       "      <td>348.074</td>\n",
       "      <td>172.591</td>\n",
       "      <td>1.652.74047,6%</td>\n",
       "      <td>1.818.27452,4%</td>\n",
       "      <td>3.471.014</td>\n",
       "      <td>5,8%</td>\n",
       "    </tr>\n",
       "    <tr>\n",
       "      <th>14</th>\n",
       "      <td>70-74</td>\n",
       "      <td>225.584</td>\n",
       "      <td>2.429.874</td>\n",
       "      <td>544.701</td>\n",
       "      <td>124.201</td>\n",
       "      <td>1.555.30646,8%</td>\n",
       "      <td>1.769.05453,2%</td>\n",
       "      <td>3.324.360</td>\n",
       "      <td>5,6%</td>\n",
       "    </tr>\n",
       "    <tr>\n",
       "      <th>15</th>\n",
       "      <td>75-79</td>\n",
       "      <td>170.300</td>\n",
       "      <td>1.701.425</td>\n",
       "      <td>701.606</td>\n",
       "      <td>70.682</td>\n",
       "      <td>1.181.23344,7%</td>\n",
       "      <td>1.462.78055,3%</td>\n",
       "      <td>2.644.013</td>\n",
       "      <td>4,4%</td>\n",
       "    </tr>\n",
       "    <tr>\n",
       "      <th>16</th>\n",
       "      <td>80-84</td>\n",
       "      <td>140.403</td>\n",
       "      <td>1.162.123</td>\n",
       "      <td>888.727</td>\n",
       "      <td>40.283</td>\n",
       "      <td>930.78741,7%</td>\n",
       "      <td>1.300.74958,3%</td>\n",
       "      <td>2.231.536</td>\n",
       "      <td>3,7%</td>\n",
       "    </tr>\n",
       "    <tr>\n",
       "      <th>17</th>\n",
       "      <td>85-89</td>\n",
       "      <td>93.445</td>\n",
       "      <td>500.696</td>\n",
       "      <td>785.500</td>\n",
       "      <td>16.983</td>\n",
       "      <td>507.80936,4%</td>\n",
       "      <td>888.81563,6%</td>\n",
       "      <td>1.396.624</td>\n",
       "      <td>2,3%</td>\n",
       "    </tr>\n",
       "    <tr>\n",
       "      <th>18</th>\n",
       "      <td>90-94</td>\n",
       "      <td>46.534</td>\n",
       "      <td>129.439</td>\n",
       "      <td>434.772</td>\n",
       "      <td>5.615</td>\n",
       "      <td>179.13029,1%</td>\n",
       "      <td>437.23070,9%</td>\n",
       "      <td>616.360</td>\n",
       "      <td>1,0%</td>\n",
       "    </tr>\n",
       "    <tr>\n",
       "      <th>19</th>\n",
       "      <td>95-99</td>\n",
       "      <td>13.552</td>\n",
       "      <td>16.437</td>\n",
       "      <td>129.152</td>\n",
       "      <td>1.238</td>\n",
       "      <td>35.14121,9%</td>\n",
       "      <td>125.23878,1%</td>\n",
       "      <td>160.379</td>\n",
       "      <td>0,3%</td>\n",
       "    </tr>\n",
       "    <tr>\n",
       "      <th>20</th>\n",
       "      <td>100+</td>\n",
       "      <td>1.556</td>\n",
       "      <td>836</td>\n",
       "      <td>12.307</td>\n",
       "      <td>105</td>\n",
       "      <td>2.33215,8%</td>\n",
       "      <td>12.47284,2%</td>\n",
       "      <td>14.804</td>\n",
       "      <td>0,0%</td>\n",
       "    </tr>\n",
       "    <tr>\n",
       "      <th>21</th>\n",
       "      <td>Totale</td>\n",
       "      <td>25.399.192</td>\n",
       "      <td>28.012.183</td>\n",
       "      <td>4.379.896</td>\n",
       "      <td>1.850.217</td>\n",
       "      <td>29.050.09648,7%</td>\n",
       "      <td>30.591.39251,3%</td>\n",
       "      <td>59.641.488</td>\n",
       "      <td>100,0%</td>\n",
       "    </tr>\n",
       "  </tbody>\n",
       "</table>\n",
       "</div>"
      ],
      "text/plain": [
       "       Età Celibi/Nubili Coniugati/e   Vedovi/e Divorziati/e           Maschi  \\\n",
       "       Età Celibi/Nubili Coniugati/e   Vedovi/e Divorziati/e           Maschi   \n",
       "0      0-4     2.264.538           0          0            0   1.163.19851,4%   \n",
       "1      5-9     2.627.956           0          0            0   1.352.24051,5%   \n",
       "2    10-14     2.835.060           0          0            0   1.460.44951,5%   \n",
       "3    15-19     2.868.948       2.004         21           83   1.485.46551,7%   \n",
       "4    20-24     2.890.840      64.253        127          668   1.549.02052,4%   \n",
       "5    25-29     2.714.681     407.555        630        5.628   1.605.44451,3%   \n",
       "6    30-34     2.084.313   1.169.221      2.418       26.489   1.658.74950,5%   \n",
       "7    35-39     1.577.289   1.915.487      7.282       72.133   1.792.98150,2%   \n",
       "8    40-44     1.393.337   2.620.552     18.957      154.618   2.089.19849,9%   \n",
       "9    45-49     1.211.484   3.236.400     42.592      259.289   2.356.80049,6%   \n",
       "10   50-54       914.381   3.545.692     84.717      331.914   2.404.14449,3%   \n",
       "11   55-59       626.453   3.439.662    147.926      323.450   2.213.00848,8%   \n",
       "12   60-64       411.731   3.006.985    230.387      244.247   1.874.92248,2%   \n",
       "13   65-69       286.807   2.663.542    348.074      172.591   1.652.74047,6%   \n",
       "14   70-74       225.584   2.429.874    544.701      124.201   1.555.30646,8%   \n",
       "15   75-79       170.300   1.701.425    701.606       70.682   1.181.23344,7%   \n",
       "16   80-84       140.403   1.162.123    888.727       40.283     930.78741,7%   \n",
       "17   85-89        93.445     500.696    785.500       16.983     507.80936,4%   \n",
       "18   90-94        46.534     129.439    434.772        5.615     179.13029,1%   \n",
       "19   95-99        13.552      16.437    129.152        1.238      35.14121,9%   \n",
       "20    100+         1.556         836     12.307          105       2.33215,8%   \n",
       "21  Totale    25.399.192  28.012.183  4.379.896    1.850.217  29.050.09648,7%   \n",
       "\n",
       "            Femmine             Totale          \n",
       "            Femmine Unnamed: 7_level_1       %  \n",
       "0    1.101.34048,6%          2.264.538    3,8%  \n",
       "1    1.275.71648,5%          2.627.956    4,4%  \n",
       "2    1.374.61148,5%          2.835.060    4,8%  \n",
       "3    1.385.59148,3%          2.871.056    4,8%  \n",
       "4    1.406.86847,6%          2.955.888    5,0%  \n",
       "5    1.523.05048,7%          3.128.494    5,2%  \n",
       "6    1.623.69249,5%          3.282.441    5,5%  \n",
       "7    1.779.21049,8%          3.572.191    6,0%  \n",
       "8    2.098.26650,1%          4.187.464    7,0%  \n",
       "9    2.392.96550,4%          4.749.765    8,0%  \n",
       "10   2.472.56050,7%          4.876.704    8,2%  \n",
       "11   2.324.48351,2%          4.537.491    7,6%  \n",
       "12   2.018.42851,8%          3.893.350    6,5%  \n",
       "13   1.818.27452,4%          3.471.014    5,8%  \n",
       "14   1.769.05453,2%          3.324.360    5,6%  \n",
       "15   1.462.78055,3%          2.644.013    4,4%  \n",
       "16   1.300.74958,3%          2.231.536    3,7%  \n",
       "17     888.81563,6%          1.396.624    2,3%  \n",
       "18     437.23070,9%            616.360    1,0%  \n",
       "19     125.23878,1%            160.379    0,3%  \n",
       "20      12.47284,2%             14.804    0,0%  \n",
       "21  30.591.39251,3%         59.641.488  100,0%  "
      ]
     },
     "execution_count": 581,
     "metadata": {},
     "output_type": "execute_result"
    }
   ],
   "source": [
    "pd.read_html('https://www.tuttitalia.it/statistiche/popolazione-eta-sesso-stato-civile-2020/')[0]\n"
   ]
  },
  {
   "cell_type": "code",
   "execution_count": 582,
   "metadata": {},
   "outputs": [
    {
     "data": {
      "text/html": [
       "<div>\n",
       "<style scoped>\n",
       "    .dataframe tbody tr th:only-of-type {\n",
       "        vertical-align: middle;\n",
       "    }\n",
       "\n",
       "    .dataframe tbody tr th {\n",
       "        vertical-align: top;\n",
       "    }\n",
       "\n",
       "    .dataframe thead th {\n",
       "        text-align: right;\n",
       "    }\n",
       "</style>\n",
       "<table border=\"1\" class=\"dataframe\">\n",
       "  <thead>\n",
       "    <tr style=\"text-align: right;\">\n",
       "      <th></th>\n",
       "      <th>Età</th>\n",
       "      <th>Totale</th>\n",
       "    </tr>\n",
       "  </thead>\n",
       "  <tbody>\n",
       "    <tr>\n",
       "      <th>96</th>\n",
       "      <td>96 anni</td>\n",
       "      <td>30447</td>\n",
       "    </tr>\n",
       "    <tr>\n",
       "      <th>97</th>\n",
       "      <td>97 anni</td>\n",
       "      <td>22450</td>\n",
       "    </tr>\n",
       "    <tr>\n",
       "      <th>98</th>\n",
       "      <td>98 anni</td>\n",
       "      <td>15624</td>\n",
       "    </tr>\n",
       "    <tr>\n",
       "      <th>99</th>\n",
       "      <td>99 anni</td>\n",
       "      <td>10192</td>\n",
       "    </tr>\n",
       "    <tr>\n",
       "      <th>100</th>\n",
       "      <td>100 anni e più</td>\n",
       "      <td>15080</td>\n",
       "    </tr>\n",
       "  </tbody>\n",
       "</table>\n",
       "</div>"
      ],
      "text/plain": [
       "                Età  Totale\n",
       "96          96 anni   30447\n",
       "97          97 anni   22450\n",
       "98          98 anni   15624\n",
       "99          99 anni   10192\n",
       "100  100 anni e più   15080"
      ]
     },
     "execution_count": 582,
     "metadata": {},
     "output_type": "execute_result"
    }
   ],
   "source": [
    "pop = pd.read_html('https://it.wikipedia.org/wiki/Demografia_d%27Italia', thousands='.')[11]\n",
    "pop = pop[['Età', 'Totale']]\n",
    "pop.drop(index=101, axis=0, inplace=True)\n",
    "pop.Totale = pd.to_numeric(pop.Totale)\n",
    "pop.tail()"
   ]
  },
  {
   "cell_type": "code",
   "execution_count": 583,
   "metadata": {},
   "outputs": [],
   "source": [
    "pop['Età'] = pd.to_numeric(pop['Età'].str.split(' ', expand=True)[0])"
   ]
  },
  {
   "cell_type": "code",
   "execution_count": 584,
   "metadata": {},
   "outputs": [],
   "source": [
    "def ages(s):\n",
    "    if (s['Età'] >= 0 and s['Età'] < 16):\n",
    "        return '0-16'\n",
    "    elif (s['Età'] >= 16 and s['Età'] <= 19):\n",
    "        return '16-19'\n",
    "    elif (s['Età'] >= 20 and s['Età'] <= 29):\n",
    "        return '20-29'\n",
    "    elif (s['Età'] >= 30 and s['Età'] <= 39):\n",
    "        return '30-39'\n",
    "    elif (s['Età'] >= 40 and s['Età'] <= 49):\n",
    "        return '40-49'\n",
    "    elif (s['Età'] >= 50 and s['Età'] <= 59):\n",
    "        return '50-59'\n",
    "    elif (s['Età'] >= 60 and s['Età'] <= 69):\n",
    "        return '60-69'\n",
    "    elif (s['Età'] >= 70 and s['Età'] <= 79):\n",
    "        return '70-79'\n",
    "    elif (s['Età'] >= 80 and s['Età'] <= 89):\n",
    "        return '80-89'\n",
    "    elif s['Età'] >= 90:\n",
    "        return '90+'"
   ]
  },
  {
   "cell_type": "markdown",
   "metadata": {},
   "source": [
    "def regrouping(s):\n",
    "    if s['Età'] >= 0 | s['Età'] < 16:\n",
    "        return '0-16'\n",
    "    elif s['Età'] >= 16 | s['Età'] <= 19:\n",
    "        return '16-19'\n",
    "    elif s['Età'] >= 20 | s['Età'] <= 29:\n",
    "        return '20-29'\n",
    "    elif s['Età'] >= 30 | s['Età'] <= 39:\n",
    "        return '30-39'\n",
    "    elif s['Età'] >= 40 | s['Età'] <= 49:\n",
    "        return '40-49'\n",
    "    elif s['Età'] >= 50 | s['Età'] <= 59:\n",
    "        return '50-59'\n",
    "    elif s['Età'] >= 60 | s['Età'] <= 69:\n",
    "        return '60-69'\n",
    "    elif s['Età'] >= 70 | s['Età'] <= 79:\n",
    "        return '70-79'\n",
    "    elif s['Età'] >= 80 | s['Età'] <= 89:\n",
    "        return '80-89'\n",
    "    elif s['Età'] >= 90:\n",
    "        return '90+'"
   ]
  },
  {
   "cell_type": "code",
   "execution_count": 585,
   "metadata": {},
   "outputs": [],
   "source": [
    "\n",
    "pop['gruppo'] = pop.apply(ages, axis=1)"
   ]
  },
  {
   "cell_type": "code",
   "execution_count": 586,
   "metadata": {},
   "outputs": [
    {
     "data": {
      "text/html": [
       "<div>\n",
       "<style scoped>\n",
       "    .dataframe tbody tr th:only-of-type {\n",
       "        vertical-align: middle;\n",
       "    }\n",
       "\n",
       "    .dataframe tbody tr th {\n",
       "        vertical-align: top;\n",
       "    }\n",
       "\n",
       "    .dataframe thead th {\n",
       "        text-align: right;\n",
       "    }\n",
       "</style>\n",
       "<table border=\"1\" class=\"dataframe\">\n",
       "  <thead>\n",
       "    <tr style=\"text-align: right;\">\n",
       "      <th></th>\n",
       "      <th>Età</th>\n",
       "      <th>Totale</th>\n",
       "      <th>gruppo</th>\n",
       "    </tr>\n",
       "  </thead>\n",
       "  <tbody>\n",
       "    <tr>\n",
       "      <th>0</th>\n",
       "      <td>0</td>\n",
       "      <td>532991</td>\n",
       "      <td>0-16</td>\n",
       "    </tr>\n",
       "    <tr>\n",
       "      <th>1</th>\n",
       "      <td>1</td>\n",
       "      <td>542019</td>\n",
       "      <td>0-16</td>\n",
       "    </tr>\n",
       "    <tr>\n",
       "      <th>2</th>\n",
       "      <td>2</td>\n",
       "      <td>553729</td>\n",
       "      <td>0-16</td>\n",
       "    </tr>\n",
       "    <tr>\n",
       "      <th>3</th>\n",
       "      <td>3</td>\n",
       "      <td>561994</td>\n",
       "      <td>0-16</td>\n",
       "    </tr>\n",
       "    <tr>\n",
       "      <th>4</th>\n",
       "      <td>4</td>\n",
       "      <td>559203</td>\n",
       "      <td>0-16</td>\n",
       "    </tr>\n",
       "    <tr>\n",
       "      <th>...</th>\n",
       "      <td>...</td>\n",
       "      <td>...</td>\n",
       "      <td>...</td>\n",
       "    </tr>\n",
       "    <tr>\n",
       "      <th>96</th>\n",
       "      <td>96</td>\n",
       "      <td>30447</td>\n",
       "      <td>90+</td>\n",
       "    </tr>\n",
       "    <tr>\n",
       "      <th>97</th>\n",
       "      <td>97</td>\n",
       "      <td>22450</td>\n",
       "      <td>90+</td>\n",
       "    </tr>\n",
       "    <tr>\n",
       "      <th>98</th>\n",
       "      <td>98</td>\n",
       "      <td>15624</td>\n",
       "      <td>90+</td>\n",
       "    </tr>\n",
       "    <tr>\n",
       "      <th>99</th>\n",
       "      <td>99</td>\n",
       "      <td>10192</td>\n",
       "      <td>90+</td>\n",
       "    </tr>\n",
       "    <tr>\n",
       "      <th>100</th>\n",
       "      <td>100</td>\n",
       "      <td>15080</td>\n",
       "      <td>90+</td>\n",
       "    </tr>\n",
       "  </tbody>\n",
       "</table>\n",
       "<p>101 rows × 3 columns</p>\n",
       "</div>"
      ],
      "text/plain": [
       "     Età  Totale gruppo\n",
       "0      0  532991   0-16\n",
       "1      1  542019   0-16\n",
       "2      2  553729   0-16\n",
       "3      3  561994   0-16\n",
       "4      4  559203   0-16\n",
       "..   ...     ...    ...\n",
       "96    96   30447    90+\n",
       "97    97   22450    90+\n",
       "98    98   15624    90+\n",
       "99    99   10192    90+\n",
       "100  100   15080    90+\n",
       "\n",
       "[101 rows x 3 columns]"
      ]
     },
     "execution_count": 586,
     "metadata": {},
     "output_type": "execute_result"
    }
   ],
   "source": [
    "pop"
   ]
  },
  {
   "cell_type": "code",
   "execution_count": 587,
   "metadata": {},
   "outputs": [],
   "source": [
    "pop = pop.groupby('gruppo')['Totale'].sum().reset_index()\n",
    "pop.gruppo = pop.gruppo.astype(str)"
   ]
  },
  {
   "cell_type": "code",
   "execution_count": 588,
   "metadata": {},
   "outputs": [
    {
     "data": {
      "text/html": [
       "<div>\n",
       "<style scoped>\n",
       "    .dataframe tbody tr th:only-of-type {\n",
       "        vertical-align: middle;\n",
       "    }\n",
       "\n",
       "    .dataframe tbody tr th {\n",
       "        vertical-align: top;\n",
       "    }\n",
       "\n",
       "    .dataframe thead th {\n",
       "        text-align: right;\n",
       "    }\n",
       "</style>\n",
       "<table border=\"1\" class=\"dataframe\">\n",
       "  <thead>\n",
       "    <tr style=\"text-align: right;\">\n",
       "      <th></th>\n",
       "      <th>gruppo</th>\n",
       "      <th>Totale</th>\n",
       "    </tr>\n",
       "  </thead>\n",
       "  <tbody>\n",
       "    <tr>\n",
       "      <th>0</th>\n",
       "      <td>0-16</td>\n",
       "      <td>8885150</td>\n",
       "    </tr>\n",
       "    <tr>\n",
       "      <th>1</th>\n",
       "      <td>16-19</td>\n",
       "      <td>2310358</td>\n",
       "    </tr>\n",
       "    <tr>\n",
       "      <th>2</th>\n",
       "      <td>20-29</td>\n",
       "      <td>6327883</td>\n",
       "    </tr>\n",
       "    <tr>\n",
       "      <th>3</th>\n",
       "      <td>30-39</td>\n",
       "      <td>8345554</td>\n",
       "    </tr>\n",
       "    <tr>\n",
       "      <th>4</th>\n",
       "      <td>40-49</td>\n",
       "      <td>9567872</td>\n",
       "    </tr>\n",
       "    <tr>\n",
       "      <th>5</th>\n",
       "      <td>50-59</td>\n",
       "      <td>7871829</td>\n",
       "    </tr>\n",
       "    <tr>\n",
       "      <th>6</th>\n",
       "      <td>60-69</td>\n",
       "      <td>6860158</td>\n",
       "    </tr>\n",
       "    <tr>\n",
       "      <th>7</th>\n",
       "      <td>70-79</td>\n",
       "      <td>5628974</td>\n",
       "    </tr>\n",
       "    <tr>\n",
       "      <th>8</th>\n",
       "      <td>80-89</td>\n",
       "      <td>3117811</td>\n",
       "    </tr>\n",
       "    <tr>\n",
       "      <th>9</th>\n",
       "      <td>90+</td>\n",
       "      <td>518155</td>\n",
       "    </tr>\n",
       "  </tbody>\n",
       "</table>\n",
       "</div>"
      ],
      "text/plain": [
       "  gruppo   Totale\n",
       "0   0-16  8885150\n",
       "1  16-19  2310358\n",
       "2  20-29  6327883\n",
       "3  30-39  8345554\n",
       "4  40-49  9567872\n",
       "5  50-59  7871829\n",
       "6  60-69  6860158\n",
       "7  70-79  5628974\n",
       "8  80-89  3117811\n",
       "9    90+   518155"
      ]
     },
     "execution_count": 588,
     "metadata": {},
     "output_type": "execute_result"
    }
   ],
   "source": [
    "pop"
   ]
  },
  {
   "cell_type": "code",
   "execution_count": 589,
   "metadata": {},
   "outputs": [
    {
     "data": {
      "text/html": [
       "<div>\n",
       "<style scoped>\n",
       "    .dataframe tbody tr th:only-of-type {\n",
       "        vertical-align: middle;\n",
       "    }\n",
       "\n",
       "    .dataframe tbody tr th {\n",
       "        vertical-align: top;\n",
       "    }\n",
       "\n",
       "    .dataframe thead th {\n",
       "        text-align: right;\n",
       "    }\n",
       "</style>\n",
       "<table border=\"1\" class=\"dataframe\">\n",
       "  <thead>\n",
       "    <tr style=\"text-align: right;\">\n",
       "      <th></th>\n",
       "      <th>data_somministrazione</th>\n",
       "      <th>fascia_anagrafica</th>\n",
       "      <th>prima_dose</th>\n",
       "      <th>prima_dose_totale_giorno</th>\n",
       "      <th>perc_tot_somministrati</th>\n",
       "      <th>totale_fascia</th>\n",
       "    </tr>\n",
       "  </thead>\n",
       "  <tbody>\n",
       "    <tr>\n",
       "      <th>0</th>\n",
       "      <td>2021-01-01</td>\n",
       "      <td>16-19</td>\n",
       "      <td>2</td>\n",
       "      <td>11038</td>\n",
       "      <td>0.0</td>\n",
       "      <td>2310358</td>\n",
       "    </tr>\n",
       "    <tr>\n",
       "      <th>1</th>\n",
       "      <td>2021-01-02</td>\n",
       "      <td>16-19</td>\n",
       "      <td>19</td>\n",
       "      <td>38492</td>\n",
       "      <td>0.0</td>\n",
       "      <td>2310358</td>\n",
       "    </tr>\n",
       "    <tr>\n",
       "      <th>2</th>\n",
       "      <td>2021-01-04</td>\n",
       "      <td>16-19</td>\n",
       "      <td>12</td>\n",
       "      <td>68418</td>\n",
       "      <td>0.0</td>\n",
       "      <td>2310358</td>\n",
       "    </tr>\n",
       "    <tr>\n",
       "      <th>3</th>\n",
       "      <td>2021-01-05</td>\n",
       "      <td>16-19</td>\n",
       "      <td>22</td>\n",
       "      <td>79469</td>\n",
       "      <td>0.0</td>\n",
       "      <td>2310358</td>\n",
       "    </tr>\n",
       "    <tr>\n",
       "      <th>4</th>\n",
       "      <td>2021-01-06</td>\n",
       "      <td>16-19</td>\n",
       "      <td>38</td>\n",
       "      <td>64945</td>\n",
       "      <td>0.0</td>\n",
       "      <td>2310358</td>\n",
       "    </tr>\n",
       "  </tbody>\n",
       "</table>\n",
       "</div>"
      ],
      "text/plain": [
       "  data_somministrazione fascia_anagrafica  prima_dose  \\\n",
       "0            2021-01-01             16-19           2   \n",
       "1            2021-01-02             16-19          19   \n",
       "2            2021-01-04             16-19          12   \n",
       "3            2021-01-05             16-19          22   \n",
       "4            2021-01-06             16-19          38   \n",
       "\n",
       "   prima_dose_totale_giorno  perc_tot_somministrati  totale_fascia  \n",
       "0                     11038                     0.0        2310358  \n",
       "1                     38492                     0.0        2310358  \n",
       "2                     68418                     0.0        2310358  \n",
       "3                     79469                     0.0        2310358  \n",
       "4                     64945                     0.0        2310358  "
      ]
     },
     "execution_count": 589,
     "metadata": {},
     "output_type": "execute_result"
    }
   ],
   "source": [
    "df1 = df1.merge(pop, left_on='fascia_anagrafica', right_on='gruppo', how='inner')\n",
    "df1.drop('gruppo', axis=1, inplace=True)\n",
    "df1.rename(columns={'Totale':'totale_fascia'}, inplace=True)\n",
    "df1.head()"
   ]
  },
  {
   "cell_type": "code",
   "execution_count": 590,
   "metadata": {},
   "outputs": [
    {
     "data": {
      "text/html": [
       "<div>\n",
       "<style scoped>\n",
       "    .dataframe tbody tr th:only-of-type {\n",
       "        vertical-align: middle;\n",
       "    }\n",
       "\n",
       "    .dataframe tbody tr th {\n",
       "        vertical-align: top;\n",
       "    }\n",
       "\n",
       "    .dataframe thead th {\n",
       "        text-align: right;\n",
       "    }\n",
       "</style>\n",
       "<table border=\"1\" class=\"dataframe\">\n",
       "  <thead>\n",
       "    <tr style=\"text-align: right;\">\n",
       "      <th></th>\n",
       "      <th>data_somministrazione</th>\n",
       "      <th>fascia_anagrafica</th>\n",
       "      <th>prima_dose</th>\n",
       "      <th>Totale</th>\n",
       "    </tr>\n",
       "  </thead>\n",
       "  <tbody>\n",
       "    <tr>\n",
       "      <th>579</th>\n",
       "      <td>2021-03-02</td>\n",
       "      <td>90+</td>\n",
       "      <td>124031</td>\n",
       "      <td>518155</td>\n",
       "    </tr>\n",
       "    <tr>\n",
       "      <th>580</th>\n",
       "      <td>2021-03-03</td>\n",
       "      <td>90+</td>\n",
       "      <td>134275</td>\n",
       "      <td>518155</td>\n",
       "    </tr>\n",
       "    <tr>\n",
       "      <th>581</th>\n",
       "      <td>2021-03-04</td>\n",
       "      <td>90+</td>\n",
       "      <td>138572</td>\n",
       "      <td>518155</td>\n",
       "    </tr>\n",
       "    <tr>\n",
       "      <th>582</th>\n",
       "      <td>2021-03-05</td>\n",
       "      <td>90+</td>\n",
       "      <td>137660</td>\n",
       "      <td>518155</td>\n",
       "    </tr>\n",
       "    <tr>\n",
       "      <th>583</th>\n",
       "      <td>2021-03-06</td>\n",
       "      <td>90+</td>\n",
       "      <td>50778</td>\n",
       "      <td>518155</td>\n",
       "    </tr>\n",
       "  </tbody>\n",
       "</table>\n",
       "</div>"
      ],
      "text/plain": [
       "    data_somministrazione fascia_anagrafica  prima_dose  Totale\n",
       "579            2021-03-02               90+      124031  518155\n",
       "580            2021-03-03               90+      134275  518155\n",
       "581            2021-03-04               90+      138572  518155\n",
       "582            2021-03-05               90+      137660  518155\n",
       "583            2021-03-06               90+       50778  518155"
      ]
     },
     "execution_count": 590,
     "metadata": {},
     "output_type": "execute_result"
    }
   ],
   "source": [
    "df2 = (df1.groupby(['data_somministrazione','fascia_anagrafica'])['prima_dose']\n",
    " .sum().groupby(level=0).cumsum().reset_index()\n",
    ".merge(pop, left_on='fascia_anagrafica', right_on='gruppo')).drop(['gruppo'], axis=1)\n",
    "df2.tail()"
   ]
  },
  {
   "cell_type": "code",
   "execution_count": 591,
   "metadata": {},
   "outputs": [],
   "source": [
    "df_last = df1.groupby('fascia_anagrafica')[['prima_dose','totale_fascia']].agg({'prima_dose':'sum','totale_fascia':'last'}).reset_index()"
   ]
  },
  {
   "cell_type": "code",
   "execution_count": 592,
   "metadata": {},
   "outputs": [],
   "source": [
    "df_last['perc_vaccinata'] = (df_last.prima_dose/df_last.totale_fascia).mul(100).round(2)"
   ]
  },
  {
   "cell_type": "code",
   "execution_count": 593,
   "metadata": {},
   "outputs": [
    {
     "data": {
      "text/html": [
       "<div>\n",
       "<style scoped>\n",
       "    .dataframe tbody tr th:only-of-type {\n",
       "        vertical-align: middle;\n",
       "    }\n",
       "\n",
       "    .dataframe tbody tr th {\n",
       "        vertical-align: top;\n",
       "    }\n",
       "\n",
       "    .dataframe thead th {\n",
       "        text-align: right;\n",
       "    }\n",
       "</style>\n",
       "<table border=\"1\" class=\"dataframe\">\n",
       "  <thead>\n",
       "    <tr style=\"text-align: right;\">\n",
       "      <th></th>\n",
       "      <th>fascia_anagrafica</th>\n",
       "      <th>prima_dose</th>\n",
       "      <th>totale_fascia</th>\n",
       "      <th>perc_vaccinata</th>\n",
       "    </tr>\n",
       "  </thead>\n",
       "  <tbody>\n",
       "    <tr>\n",
       "      <th>0</th>\n",
       "      <td>16-19</td>\n",
       "      <td>3402</td>\n",
       "      <td>2310358</td>\n",
       "      <td>0.15</td>\n",
       "    </tr>\n",
       "    <tr>\n",
       "      <th>1</th>\n",
       "      <td>20-29</td>\n",
       "      <td>276757</td>\n",
       "      <td>6327883</td>\n",
       "      <td>4.37</td>\n",
       "    </tr>\n",
       "    <tr>\n",
       "      <th>2</th>\n",
       "      <td>30-39</td>\n",
       "      <td>405693</td>\n",
       "      <td>8345554</td>\n",
       "      <td>4.86</td>\n",
       "    </tr>\n",
       "    <tr>\n",
       "      <th>3</th>\n",
       "      <td>40-49</td>\n",
       "      <td>552973</td>\n",
       "      <td>9567872</td>\n",
       "      <td>5.78</td>\n",
       "    </tr>\n",
       "    <tr>\n",
       "      <th>4</th>\n",
       "      <td>50-59</td>\n",
       "      <td>699116</td>\n",
       "      <td>7871829</td>\n",
       "      <td>8.88</td>\n",
       "    </tr>\n",
       "    <tr>\n",
       "      <th>5</th>\n",
       "      <td>60-69</td>\n",
       "      <td>395686</td>\n",
       "      <td>6860158</td>\n",
       "      <td>5.77</td>\n",
       "    </tr>\n",
       "    <tr>\n",
       "      <th>6</th>\n",
       "      <td>70-79</td>\n",
       "      <td>108742</td>\n",
       "      <td>5628974</td>\n",
       "      <td>1.93</td>\n",
       "    </tr>\n",
       "    <tr>\n",
       "      <th>7</th>\n",
       "      <td>80-89</td>\n",
       "      <td>878721</td>\n",
       "      <td>3117811</td>\n",
       "      <td>28.18</td>\n",
       "    </tr>\n",
       "    <tr>\n",
       "      <th>8</th>\n",
       "      <td>90+</td>\n",
       "      <td>257479</td>\n",
       "      <td>518155</td>\n",
       "      <td>49.69</td>\n",
       "    </tr>\n",
       "  </tbody>\n",
       "</table>\n",
       "</div>"
      ],
      "text/plain": [
       "  fascia_anagrafica  prima_dose  totale_fascia  perc_vaccinata\n",
       "0             16-19        3402        2310358            0.15\n",
       "1             20-29      276757        6327883            4.37\n",
       "2             30-39      405693        8345554            4.86\n",
       "3             40-49      552973        9567872            5.78\n",
       "4             50-59      699116        7871829            8.88\n",
       "5             60-69      395686        6860158            5.77\n",
       "6             70-79      108742        5628974            1.93\n",
       "7             80-89      878721        3117811           28.18\n",
       "8               90+      257479         518155           49.69"
      ]
     },
     "execution_count": 593,
     "metadata": {},
     "output_type": "execute_result"
    }
   ],
   "source": [
    "df_last"
   ]
  },
  {
   "cell_type": "code",
   "execution_count": 594,
   "metadata": {},
   "outputs": [
    {
     "data": {
      "image/png": "[encoded data removed]",
      "text/plain": [
       "<Figure size 1008x504 with 1 Axes>"
      ]
     },
     "metadata": {},
     "output_type": "display_data"
    }
   ],
   "source": [
    "sns.set_style('darkgrid')\n",
    "plt.figure(figsize=(14,7))\n",
    "sns.barplot(data=df_last, x='fascia_anagrafica',y='perc_vaccinata', color='#176AA5').set_title('Elaborazione: @TomZ_UK - Dati: ISS/ISTAT', fontsize=12)\n",
    "plt.ylabel('Percentuale', fontsize=16)\n",
    "plt.xlabel('Fascia Anagrafica', fontsize=16)\n",
    "plt.suptitle('Percentuale di Popolazione Vaccinata con Prima Dose', fontsize=20)\n",
    "\n",
    "plt.savefig('Percentuale_Pop.png')"
   ]
  },
  {
   "cell_type": "code",
   "execution_count": 595,
   "metadata": {},
   "outputs": [
    {
     "data": {
      "text/plain": [
       "5192182"
      ]
     },
     "execution_count": 595,
     "metadata": {},
     "output_type": "execute_result"
    }
   ],
   "source": [
    "(df.prima_dose.sum() + df.seconda_dose.sum())"
   ]
  },
  {
   "cell_type": "code",
   "execution_count": 596,
   "metadata": {},
   "outputs": [],
   "source": [
    "pop.drop(index=0, inplace=True)"
   ]
  },
  {
   "cell_type": "code",
   "execution_count": 597,
   "metadata": {},
   "outputs": [
    {
     "data": {
      "text/plain": [
       "7.08"
      ]
     },
     "execution_count": 597,
     "metadata": {},
     "output_type": "execute_result"
    }
   ],
   "source": [
    "((df.prima_dose.sum()/pop.Totale.sum())*100).round(2)"
   ]
  },
  {
   "cell_type": "markdown",
   "metadata": {},
   "source": [
    "# Gauge Chart"
   ]
  },
  {
   "cell_type": "code",
   "execution_count": 598,
   "metadata": {},
   "outputs": [
    {
     "data": {
      "text/plain": [
       "0         NaN\n",
       "1         0.0\n",
       "2         0.0\n",
       "3         0.0\n",
       "4         0.0\n",
       "       ...   \n",
       "60    29904.0\n",
       "61    40809.0\n",
       "62    45682.0\n",
       "63    49134.0\n",
       "64    19057.0\n",
       "Name: seconda_dose, Length: 65, dtype: float64"
      ]
     },
     "execution_count": 598,
     "metadata": {},
     "output_type": "execute_result"
    }
   ],
   "source": [
    "df_seconda = df.groupby(df.data_somministrazione)[['seconda_dose']].sum().cumsum().reset_index()\n",
    "df_seconda.seconda_dose.diff()"
   ]
  },
  {
   "cell_type": "markdown",
   "metadata": {},
   "source": [
    "df.groupby(['data_somministrazione'])['prima_dose'].sum() \\\n",
    "  .groupby(level=1).cumsum().reset_index()"
   ]
  },
  {
   "cell_type": "code",
   "execution_count": 599,
   "metadata": {},
   "outputs": [],
   "source": [
    "df_prima = df.groupby('data_somministrazione')[['prima_dose']].sum().cumsum().reset_index()"
   ]
  },
  {
   "cell_type": "code",
   "execution_count": 600,
   "metadata": {},
   "outputs": [
    {
     "data": {
      "text/plain": [
       "50548594"
      ]
     },
     "execution_count": 600,
     "metadata": {},
     "output_type": "execute_result"
    }
   ],
   "source": [
    "pop.Totale.sum()"
   ]
  },
  {
   "cell_type": "code",
   "execution_count": 601,
   "metadata": {},
   "outputs": [],
   "source": [
    "df_prima['pct_pop_prima_dose'] = (df_prima.prima_dose/pop.Totale.sum()).mul(100)"
   ]
  },
  {
   "cell_type": "code",
   "execution_count": 602,
   "metadata": {},
   "outputs": [],
   "source": [
    "df_prima['daily_change'] = df_prima.pct_pop_prima_dose.diff()"
   ]
  },
  {
   "cell_type": "code",
   "execution_count": 603,
   "metadata": {},
   "outputs": [
    {
     "data": {
      "text/html": [
       "<div>\n",
       "<style scoped>\n",
       "    .dataframe tbody tr th:only-of-type {\n",
       "        vertical-align: middle;\n",
       "    }\n",
       "\n",
       "    .dataframe tbody tr th {\n",
       "        vertical-align: top;\n",
       "    }\n",
       "\n",
       "    .dataframe thead th {\n",
       "        text-align: right;\n",
       "    }\n",
       "</style>\n",
       "<table border=\"1\" class=\"dataframe\">\n",
       "  <thead>\n",
       "    <tr style=\"text-align: right;\">\n",
       "      <th></th>\n",
       "      <th>data_somministrazione</th>\n",
       "      <th>prima_dose</th>\n",
       "      <th>pct_pop_prima_dose</th>\n",
       "      <th>daily_change</th>\n",
       "      <th>prima_dose_giorno</th>\n",
       "    </tr>\n",
       "  </thead>\n",
       "  <tbody>\n",
       "    <tr>\n",
       "      <th>0</th>\n",
       "      <td>2021-01-01</td>\n",
       "      <td>11038</td>\n",
       "      <td>0.021836</td>\n",
       "      <td>NaN</td>\n",
       "      <td>0.0</td>\n",
       "    </tr>\n",
       "    <tr>\n",
       "      <th>1</th>\n",
       "      <td>2021-01-02</td>\n",
       "      <td>49530</td>\n",
       "      <td>0.097985</td>\n",
       "      <td>0.076149</td>\n",
       "      <td>38492.0</td>\n",
       "    </tr>\n",
       "    <tr>\n",
       "      <th>2</th>\n",
       "      <td>2021-01-03</td>\n",
       "      <td>84647</td>\n",
       "      <td>0.167457</td>\n",
       "      <td>0.069472</td>\n",
       "      <td>35117.0</td>\n",
       "    </tr>\n",
       "    <tr>\n",
       "      <th>3</th>\n",
       "      <td>2021-01-04</td>\n",
       "      <td>153065</td>\n",
       "      <td>0.302808</td>\n",
       "      <td>0.135351</td>\n",
       "      <td>68418.0</td>\n",
       "    </tr>\n",
       "    <tr>\n",
       "      <th>4</th>\n",
       "      <td>2021-01-05</td>\n",
       "      <td>232534</td>\n",
       "      <td>0.460021</td>\n",
       "      <td>0.157213</td>\n",
       "      <td>79469.0</td>\n",
       "    </tr>\n",
       "    <tr>\n",
       "      <th>...</th>\n",
       "      <td>...</td>\n",
       "      <td>...</td>\n",
       "      <td>...</td>\n",
       "      <td>...</td>\n",
       "      <td>...</td>\n",
       "    </tr>\n",
       "    <tr>\n",
       "      <th>60</th>\n",
       "      <td>2021-03-02</td>\n",
       "      <td>3117284</td>\n",
       "      <td>6.166905</td>\n",
       "      <td>0.245370</td>\n",
       "      <td>124031.0</td>\n",
       "    </tr>\n",
       "    <tr>\n",
       "      <th>61</th>\n",
       "      <td>2021-03-03</td>\n",
       "      <td>3251559</td>\n",
       "      <td>6.432541</td>\n",
       "      <td>0.265635</td>\n",
       "      <td>134275.0</td>\n",
       "    </tr>\n",
       "    <tr>\n",
       "      <th>62</th>\n",
       "      <td>2021-03-04</td>\n",
       "      <td>3390131</td>\n",
       "      <td>6.706677</td>\n",
       "      <td>0.274136</td>\n",
       "      <td>138572.0</td>\n",
       "    </tr>\n",
       "    <tr>\n",
       "      <th>63</th>\n",
       "      <td>2021-03-05</td>\n",
       "      <td>3527791</td>\n",
       "      <td>6.979009</td>\n",
       "      <td>0.272332</td>\n",
       "      <td>137660.0</td>\n",
       "    </tr>\n",
       "    <tr>\n",
       "      <th>64</th>\n",
       "      <td>2021-03-06</td>\n",
       "      <td>3578569</td>\n",
       "      <td>7.079463</td>\n",
       "      <td>0.100454</td>\n",
       "      <td>50778.0</td>\n",
       "    </tr>\n",
       "  </tbody>\n",
       "</table>\n",
       "<p>65 rows × 5 columns</p>\n",
       "</div>"
      ],
      "text/plain": [
       "   data_somministrazione  prima_dose  pct_pop_prima_dose  daily_change  \\\n",
       "0             2021-01-01       11038            0.021836           NaN   \n",
       "1             2021-01-02       49530            0.097985      0.076149   \n",
       "2             2021-01-03       84647            0.167457      0.069472   \n",
       "3             2021-01-04      153065            0.302808      0.135351   \n",
       "4             2021-01-05      232534            0.460021      0.157213   \n",
       "..                   ...         ...                 ...           ...   \n",
       "60            2021-03-02     3117284            6.166905      0.245370   \n",
       "61            2021-03-03     3251559            6.432541      0.265635   \n",
       "62            2021-03-04     3390131            6.706677      0.274136   \n",
       "63            2021-03-05     3527791            6.979009      0.272332   \n",
       "64            2021-03-06     3578569            7.079463      0.100454   \n",
       "\n",
       "    prima_dose_giorno  \n",
       "0                 0.0  \n",
       "1             38492.0  \n",
       "2             35117.0  \n",
       "3             68418.0  \n",
       "4             79469.0  \n",
       "..                ...  \n",
       "60           124031.0  \n",
       "61           134275.0  \n",
       "62           138572.0  \n",
       "63           137660.0  \n",
       "64            50778.0  \n",
       "\n",
       "[65 rows x 5 columns]"
      ]
     },
     "execution_count": 603,
     "metadata": {},
     "output_type": "execute_result"
    }
   ],
   "source": [
    "df_prima['prima_dose_giorno'] = df_prima.prima_dose.diff().fillna(0)\n",
    "df_prima"
   ]
  },
  {
   "cell_type": "code",
   "execution_count": 604,
   "metadata": {},
   "outputs": [
    {
     "data": {
      "application/vnd.plotly.v1+json": {
       "config": {
        "plotlyServerURL": "https://plot.ly"
       },
       "data": [
        {
         "delta": {
          "increasing": {
           "color": "Green"
          },
          "reference": 5.710356652056435,
          "valueformat": ".02f"
         },
         "domain": {
          "x": [
           0,
           1
          ],
          "y": [
           0,
           1
          ]
         },
         "gauge": {
          "axis": {
           "range": [
            null,
            100
           ],
           "tickcolor": "darkblue",
           "tickwidth": 1
          },
          "bar": {
           "color": "#FFBF00"
          },
          "bgcolor": "white",
          "bordercolor": "gray",
          "borderwidth": 2,
          "steps": [
           {
            "color": "#85C1E9",
            "range": [
             0,
             80
            ]
           },
           {
            "color": "#85C1E9",
            "range": [
             40,
             60
            ]
           },
           {
            "color": "#85C1E9",
            "range": [
             60,
             80
            ]
           }
          ],
          "threshold": {
           "line": {
            "color": "red",
            "width": 4
           },
           "thickness": 0.75,
           "value": 80
          }
         },
         "mode": "gauge+number+delta",
         "title": {
          "font": {
           "size": 24
          },
          "text": "Percentuale Popolazione 16+ Vaccinata con Prima Dose"
         },
         "type": "indicator",
         "value": 7.1
        }
       ],
       "layout": {
        "font": {
         "color": "darkblue",
         "family": "Arial"
        },
        "paper_bgcolor": "lavender",
        "template": {
         "data": {
          "bar": [
           {
            "error_x": {
             "color": "#2a3f5f"
            },
            "error_y": {
             "color": "#2a3f5f"
            },
            "marker": {
             "line": {
              "color": "#E5ECF6",
              "width": 0.5
             }
            },
            "type": "bar"
           }
          ],
          "barpolar": [
           {
            "marker": {
             "line": {
              "color": "#E5ECF6",
              "width": 0.5
             }
            },
            "type": "barpolar"
           }
          ],
          "carpet": [
           {
            "aaxis": {
             "endlinecolor": "#2a3f5f",
             "gridcolor": "white",
             "linecolor": "white",
             "minorgridcolor": "white",
             "startlinecolor": "#2a3f5f"
            },
            "baxis": {
             "endlinecolor": "#2a3f5f",
             "gridcolor": "white",
             "linecolor": "white",
             "minorgridcolor": "white",
             "startlinecolor": "#2a3f5f"
            },
            "type": "carpet"
           }
          ],
          "choropleth": [
           {
            "colorbar": {
             "outlinewidth": 0,
             "ticks": ""
            },
            "type": "choropleth"
           }
          ],
          "contour": [
           {
            "colorbar": {
             "outlinewidth": 0,
             "ticks": ""
            },
            "colorscale": [
             [
              0,
              "#0d0887"
             ],
             [
              0.1111111111111111,
              "#46039f"
             ],
             [
              0.2222222222222222,
              "#7201a8"
             ],
             [
              0.3333333333333333,
              "#9c179e"
             ],
             [
              0.4444444444444444,
              "#bd3786"
             ],
             [
              0.5555555555555556,
              "#d8576b"
             ],
             [
              0.6666666666666666,
              "#ed7953"
             ],
             [
              0.7777777777777778,
              "#fb9f3a"
             ],
             [
              0.8888888888888888,
              "#fdca26"
             ],
             [
              1,
              "#f0f921"
             ]
            ],
            "type": "contour"
           }
          ],
          "contourcarpet": [
           {
            "colorbar": {
             "outlinewidth": 0,
             "ticks": ""
            },
            "type": "contourcarpet"
           }
          ],
          "heatmap": [
           {
            "colorbar": {
             "outlinewidth": 0,
             "ticks": ""
            },
            "colorscale": [
             [
              0,
              "#0d0887"
             ],
             [
              0.1111111111111111,
              "#46039f"
             ],
             [
              0.2222222222222222,
              "#7201a8"
             ],
             [
              0.3333333333333333,
              "#9c179e"
             ],
             [
              0.4444444444444444,
              "#bd3786"
             ],
             [
              0.5555555555555556,
              "#d8576b"
             ],
             [
              0.6666666666666666,
              "#ed7953"
             ],
             [
              0.7777777777777778,
              "#fb9f3a"
             ],
             [
              0.8888888888888888,
              "#fdca26"
             ],
             [
              1,
              "#f0f921"
             ]
            ],
            "type": "heatmap"
           }
          ],
          "heatmapgl": [
           {
            "colorbar": {
             "outlinewidth": 0,
             "ticks": ""
            },
            "colorscale": [
             [
              0,
              "#0d0887"
             ],
             [
              0.1111111111111111,
              "#46039f"
             ],
             [
              0.2222222222222222,
              "#7201a8"
             ],
             [
              0.3333333333333333,
              "#9c179e"
             ],
             [
              0.4444444444444444,
              "#bd3786"
             ],
             [
              0.5555555555555556,
              "#d8576b"
             ],
             [
              0.6666666666666666,
              "#ed7953"
             ],
             [
              0.7777777777777778,
              "#fb9f3a"
             ],
             [
              0.8888888888888888,
              "#fdca26"
             ],
             [
              1,
              "#f0f921"
             ]
            ],
            "type": "heatmapgl"
           }
          ],
          "histogram": [
           {
            "marker": {
             "colorbar": {
              "outlinewidth": 0,
              "ticks": ""
             }
            },
            "type": "histogram"
           }
          ],
          "histogram2d": [
           {
            "colorbar": {
             "outlinewidth": 0,
             "ticks": ""
            },
            "colorscale": [
             [
              0,
              "#0d0887"
             ],
             [
              0.1111111111111111,
              "#46039f"
             ],
             [
              0.2222222222222222,
              "#7201a8"
             ],
             [
              0.3333333333333333,
              "#9c179e"
             ],
             [
              0.4444444444444444,
              "#bd3786"
             ],
             [
              0.5555555555555556,
              "#d8576b"
             ],
             [
              0.6666666666666666,
              "#ed7953"
             ],
             [
              0.7777777777777778,
              "#fb9f3a"
             ],
             [
              0.8888888888888888,
              "#fdca26"
             ],
             [
              1,
              "#f0f921"
             ]
            ],
            "type": "histogram2d"
           }
          ],
          "histogram2dcontour": [
           {
            "colorbar": {
             "outlinewidth": 0,
             "ticks": ""
            },
            "colorscale": [
             [
              0,
              "#0d0887"
             ],
             [
              0.1111111111111111,
              "#46039f"
             ],
             [
              0.2222222222222222,
              "#7201a8"
             ],
             [
              0.3333333333333333,
              "#9c179e"
             ],
             [
              0.4444444444444444,
              "#bd3786"
             ],
             [
              0.5555555555555556,
              "#d8576b"
             ],
             [
              0.6666666666666666,
              "#ed7953"
             ],
             [
              0.7777777777777778,
              "#fb9f3a"
             ],
             [
              0.8888888888888888,
              "#fdca26"
             ],
             [
              1,
              "#f0f921"
             ]
            ],
            "type": "histogram2dcontour"
           }
          ],
          "mesh3d": [
           {
            "colorbar": {
             "outlinewidth": 0,
             "ticks": ""
            },
            "type": "mesh3d"
           }
          ],
          "parcoords": [
           {
            "line": {
             "colorbar": {
              "outlinewidth": 0,
              "ticks": ""
             }
            },
            "type": "parcoords"
           }
          ],
          "pie": [
           {
            "automargin": true,
            "type": "pie"
           }
          ],
          "scatter": [
           {
            "marker": {
             "colorbar": {
              "outlinewidth": 0,
              "ticks": ""
             }
            },
            "type": "scatter"
           }
          ],
          "scatter3d": [
           {
            "line": {
             "colorbar": {
              "outlinewidth": 0,
              "ticks": ""
             }
            },
            "marker": {
             "colorbar": {
              "outlinewidth": 0,
              "ticks": ""
             }
            },
            "type": "scatter3d"
           }
          ],
          "scattercarpet": [
           {
            "marker": {
             "colorbar": {
              "outlinewidth": 0,
              "ticks": ""
             }
            },
            "type": "scattercarpet"
           }
          ],
          "scattergeo": [
           {
            "marker": {
             "colorbar": {
              "outlinewidth": 0,
              "ticks": ""
             }
            },
            "type": "scattergeo"
           }
          ],
          "scattergl": [
           {
            "marker": {
             "colorbar": {
              "outlinewidth": 0,
              "ticks": ""
             }
            },
            "type": "scattergl"
           }
          ],
          "scattermapbox": [
           {
            "marker": {
             "colorbar": {
              "outlinewidth": 0,
              "ticks": ""
             }
            },
            "type": "scattermapbox"
           }
          ],
          "scatterpolar": [
           {
            "marker": {
             "colorbar": {
              "outlinewidth": 0,
              "ticks": ""
             }
            },
            "type": "scatterpolar"
           }
          ],
          "scatterpolargl": [
           {
            "marker": {
             "colorbar": {
              "outlinewidth": 0,
              "ticks": ""
             }
            },
            "type": "scatterpolargl"
           }
          ],
          "scatterternary": [
           {
            "marker": {
             "colorbar": {
              "outlinewidth": 0,
              "ticks": ""
             }
            },
            "type": "scatterternary"
           }
          ],
          "surface": [
           {
            "colorbar": {
             "outlinewidth": 0,
             "ticks": ""
            },
            "colorscale": [
             [
              0,
              "#0d0887"
             ],
             [
              0.1111111111111111,
              "#46039f"
             ],
             [
              0.2222222222222222,
              "#7201a8"
             ],
             [
              0.3333333333333333,
              "#9c179e"
             ],
             [
              0.4444444444444444,
              "#bd3786"
             ],
             [
              0.5555555555555556,
              "#d8576b"
             ],
             [
              0.6666666666666666,
              "#ed7953"
             ],
             [
              0.7777777777777778,
              "#fb9f3a"
             ],
             [
              0.8888888888888888,
              "#fdca26"
             ],
             [
              1,
              "#f0f921"
             ]
            ],
            "type": "surface"
           }
          ],
          "table": [
           {
            "cells": {
             "fill": {
              "color": "#EBF0F8"
             },
             "line": {
              "color": "white"
             }
            },
            "header": {
             "fill": {
              "color": "#C8D4E3"
             },
             "line": {
              "color": "white"
             }
            },
            "type": "table"
           }
          ]
         },
         "layout": {
          "annotationdefaults": {
           "arrowcolor": "#2a3f5f",
           "arrowhead": 0,
           "arrowwidth": 1
          },
          "coloraxis": {
           "colorbar": {
            "outlinewidth": 0,
            "ticks": ""
           }
          },
          "colorscale": {
           "diverging": [
            [
             0,
             "#8e0152"
            ],
            [
             0.1,
             "#c51b7d"
            ],
            [
             0.2,
             "#de77ae"
            ],
            [
             0.3,
             "#f1b6da"
            ],
            [
             0.4,
             "#fde0ef"
            ],
            [
             0.5,
             "#f7f7f7"
            ],
            [
             0.6,
             "#e6f5d0"
            ],
            [
             0.7,
             "#b8e186"
            ],
            [
             0.8,
             "#7fbc41"
            ],
            [
             0.9,
             "#4d9221"
            ],
            [
             1,
             "#276419"
            ]
           ],
           "sequential": [
            [
             0,
             "#0d0887"
            ],
            [
             0.1111111111111111,
             "#46039f"
            ],
            [
             0.2222222222222222,
             "#7201a8"
            ],
            [
             0.3333333333333333,
             "#9c179e"
            ],
            [
             0.4444444444444444,
             "#bd3786"
            ],
            [
             0.5555555555555556,
             "#d8576b"
            ],
            [
             0.6666666666666666,
             "#ed7953"
            ],
            [
             0.7777777777777778,
             "#fb9f3a"
            ],
            [
             0.8888888888888888,
             "#fdca26"
            ],
            [
             1,
             "#f0f921"
            ]
           ],
           "sequentialminus": [
            [
             0,
             "#0d0887"
            ],
            [
             0.1111111111111111,
             "#46039f"
            ],
            [
             0.2222222222222222,
             "#7201a8"
            ],
            [
             0.3333333333333333,
             "#9c179e"
            ],
            [
             0.4444444444444444,
             "#bd3786"
            ],
            [
             0.5555555555555556,
             "#d8576b"
            ],
            [
             0.6666666666666666,
             "#ed7953"
            ],
            [
             0.7777777777777778,
             "#fb9f3a"
            ],
            [
             0.8888888888888888,
             "#fdca26"
            ],
            [
             1,
             "#f0f921"
            ]
           ]
          },
          "colorway": [
           "#636efa",
           "#EF553B",
           "#00cc96",
           "#ab63fa",
           "#FFA15A",
           "#19d3f3",
           "#FF6692",
           "#B6E880",
           "#FF97FF",
           "#FECB52"
          ],
          "font": {
           "color": "#2a3f5f"
          },
          "geo": {
           "bgcolor": "white",
           "lakecolor": "white",
           "landcolor": "#E5ECF6",
           "showlakes": true,
           "showland": true,
           "subunitcolor": "white"
          },
          "hoverlabel": {
           "align": "left"
          },
          "hovermode": "closest",
          "mapbox": {
           "style": "light"
          },
          "paper_bgcolor": "white",
          "plot_bgcolor": "#E5ECF6",
          "polar": {
           "angularaxis": {
            "gridcolor": "white",
            "linecolor": "white",
            "ticks": ""
           },
           "bgcolor": "#E5ECF6",
           "radialaxis": {
            "gridcolor": "white",
            "linecolor": "white",
            "ticks": ""
           }
          },
          "scene": {
           "xaxis": {
            "backgroundcolor": "#E5ECF6",
            "gridcolor": "white",
            "gridwidth": 2,
            "linecolor": "white",
            "showbackground": true,
            "ticks": "",
            "zerolinecolor": "white"
           },
           "yaxis": {
            "backgroundcolor": "#E5ECF6",
            "gridcolor": "white",
            "gridwidth": 2,
            "linecolor": "white",
            "showbackground": true,
            "ticks": "",
            "zerolinecolor": "white"
           },
           "zaxis": {
            "backgroundcolor": "#E5ECF6",
            "gridcolor": "white",
            "gridwidth": 2,
            "linecolor": "white",
            "showbackground": true,
            "ticks": "",
            "zerolinecolor": "white"
           }
          },
          "shapedefaults": {
           "line": {
            "color": "#2a3f5f"
           }
          },
          "ternary": {
           "aaxis": {
            "gridcolor": "white",
            "linecolor": "white",
            "ticks": ""
           },
           "baxis": {
            "gridcolor": "white",
            "linecolor": "white",
            "ticks": ""
           },
           "bgcolor": "#E5ECF6",
           "caxis": {
            "gridcolor": "white",
            "linecolor": "white",
            "ticks": ""
           }
          },
          "title": {
           "x": 0.05
          },
          "xaxis": {
           "automargin": true,
           "gridcolor": "white",
           "linecolor": "white",
           "ticks": "",
           "title": {
            "standoff": 15
           },
           "zerolinecolor": "white",
           "zerolinewidth": 2
          },
          "yaxis": {
           "automargin": true,
           "gridcolor": "white",
           "linecolor": "white",
           "ticks": "",
           "title": {
            "standoff": 15
           },
           "zerolinecolor": "white",
           "zerolinewidth": 2
          }
         }
        }
       }
      },
      "text/html": [
       "<div>\n",
       "        \n",
       "        \n",
       "            <div id=\"a9459979-ec2b-4fcb-8e39-823cb5811af0\" class=\"plotly-graph-div\" style=\"height:525px; width:100%;\"></div>\n",
       "            <script type=\"text/javascript\">\n",
       "                require([\"plotly\"], function(Plotly) {\n",
       "                    window.PLOTLYENV=window.PLOTLYENV || {};\n",
       "                    \n",
       "                if (document.getElementById(\"a9459979-ec2b-4fcb-8e39-823cb5811af0\")) {\n",
       "                    Plotly.newPlot(\n",
       "                        'a9459979-ec2b-4fcb-8e39-823cb5811af0',\n",
       "                        [{\"delta\": {\"increasing\": {\"color\": \"Green\"}, \"reference\": 5.710356652056435, \"valueformat\": \".02f\"}, \"domain\": {\"x\": [0, 1], \"y\": [0, 1]}, \"gauge\": {\"axis\": {\"range\": [null, 100], \"tickcolor\": \"darkblue\", \"tickwidth\": 1}, \"bar\": {\"color\": \"#FFBF00\"}, \"bgcolor\": \"white\", \"bordercolor\": \"gray\", \"borderwidth\": 2, \"steps\": [{\"color\": \"#85C1E9\", \"range\": [0, 80]}, {\"color\": \"#85C1E9\", \"range\": [40, 60]}, {\"color\": \"#85C1E9\", \"range\": [60, 80]}], \"threshold\": {\"line\": {\"color\": \"red\", \"width\": 4}, \"thickness\": 0.75, \"value\": 80}}, \"mode\": \"gauge+number+delta\", \"title\": {\"font\": {\"size\": 24}, \"text\": \"Percentuale Popolazione 16+ Vaccinata con Prima Dose\"}, \"type\": \"indicator\", \"value\": 7.1}],\n",
       "                        {\"font\": {\"color\": \"darkblue\", \"family\": \"Arial\"}, \"paper_bgcolor\": \"lavender\", \"template\": {\"data\": {\"bar\": [{\"error_x\": {\"color\": \"#2a3f5f\"}, \"error_y\": {\"color\": \"#2a3f5f\"}, \"marker\": {\"line\": {\"color\": \"#E5ECF6\", \"width\": 0.5}}, \"type\": \"bar\"}], \"barpolar\": [{\"marker\": {\"line\": {\"color\": \"#E5ECF6\", \"width\": 0.5}}, \"type\": \"barpolar\"}], \"carpet\": [{\"aaxis\": {\"endlinecolor\": \"#2a3f5f\", \"gridcolor\": \"white\", \"linecolor\": \"white\", \"minorgridcolor\": \"white\", \"startlinecolor\": \"#2a3f5f\"}, \"baxis\": {\"endlinecolor\": \"#2a3f5f\", \"gridcolor\": \"white\", \"linecolor\": \"white\", \"minorgridcolor\": \"white\", \"startlinecolor\": \"#2a3f5f\"}, \"type\": \"carpet\"}], \"choropleth\": [{\"colorbar\": {\"outlinewidth\": 0, \"ticks\": \"\"}, \"type\": \"choropleth\"}], \"contour\": [{\"colorbar\": {\"outlinewidth\": 0, \"ticks\": \"\"}, \"colorscale\": [[0.0, \"#0d0887\"], [0.1111111111111111, \"#46039f\"], [0.2222222222222222, \"#7201a8\"], [0.3333333333333333, \"#9c179e\"], [0.4444444444444444, \"#bd3786\"], [0.5555555555555556, \"#d8576b\"], [0.6666666666666666, \"#ed7953\"], [0.7777777777777778, \"#fb9f3a\"], [0.8888888888888888, \"#fdca26\"], [1.0, \"#f0f921\"]], \"type\": \"contour\"}], \"contourcarpet\": [{\"colorbar\": {\"outlinewidth\": 0, \"ticks\": \"\"}, \"type\": \"contourcarpet\"}], \"heatmap\": [{\"colorbar\": {\"outlinewidth\": 0, \"ticks\": \"\"}, \"colorscale\": [[0.0, \"#0d0887\"], [0.1111111111111111, \"#46039f\"], [0.2222222222222222, \"#7201a8\"], [0.3333333333333333, \"#9c179e\"], [0.4444444444444444, \"#bd3786\"], [0.5555555555555556, \"#d8576b\"], [0.6666666666666666, \"#ed7953\"], [0.7777777777777778, \"#fb9f3a\"], [0.8888888888888888, \"#fdca26\"], [1.0, \"#f0f921\"]], \"type\": \"heatmap\"}], \"heatmapgl\": [{\"colorbar\": {\"outlinewidth\": 0, \"ticks\": \"\"}, \"colorscale\": [[0.0, \"#0d0887\"], [0.1111111111111111, \"#46039f\"], [0.2222222222222222, \"#7201a8\"], [0.3333333333333333, \"#9c179e\"], [0.4444444444444444, \"#bd3786\"], [0.5555555555555556, \"#d8576b\"], [0.6666666666666666, \"#ed7953\"], [0.7777777777777778, \"#fb9f3a\"], [0.8888888888888888, \"#fdca26\"], [1.0, \"#f0f921\"]], \"type\": \"heatmapgl\"}], \"histogram\": [{\"marker\": {\"colorbar\": {\"outlinewidth\": 0, \"ticks\": \"\"}}, \"type\": \"histogram\"}], \"histogram2d\": [{\"colorbar\": {\"outlinewidth\": 0, \"ticks\": \"\"}, \"colorscale\": [[0.0, \"#0d0887\"], [0.1111111111111111, \"#46039f\"], [0.2222222222222222, \"#7201a8\"], [0.3333333333333333, \"#9c179e\"], [0.4444444444444444, \"#bd3786\"], [0.5555555555555556, \"#d8576b\"], [0.6666666666666666, \"#ed7953\"], [0.7777777777777778, \"#fb9f3a\"], [0.8888888888888888, \"#fdca26\"], [1.0, \"#f0f921\"]], \"type\": \"histogram2d\"}], \"histogram2dcontour\": [{\"colorbar\": {\"outlinewidth\": 0, \"ticks\": \"\"}, \"colorscale\": [[0.0, \"#0d0887\"], [0.1111111111111111, \"#46039f\"], [0.2222222222222222, \"#7201a8\"], [0.3333333333333333, \"#9c179e\"], [0.4444444444444444, \"#bd3786\"], [0.5555555555555556, \"#d8576b\"], [0.6666666666666666, \"#ed7953\"], [0.7777777777777778, \"#fb9f3a\"], [0.8888888888888888, \"#fdca26\"], [1.0, \"#f0f921\"]], \"type\": \"histogram2dcontour\"}], \"mesh3d\": [{\"colorbar\": {\"outlinewidth\": 0, \"ticks\": \"\"}, \"type\": \"mesh3d\"}], \"parcoords\": [{\"line\": {\"colorbar\": {\"outlinewidth\": 0, \"ticks\": \"\"}}, \"type\": \"parcoords\"}], \"pie\": [{\"automargin\": true, \"type\": \"pie\"}], \"scatter\": [{\"marker\": {\"colorbar\": {\"outlinewidth\": 0, \"ticks\": \"\"}}, \"type\": \"scatter\"}], \"scatter3d\": [{\"line\": {\"colorbar\": {\"outlinewidth\": 0, \"ticks\": \"\"}}, \"marker\": {\"colorbar\": {\"outlinewidth\": 0, \"ticks\": \"\"}}, \"type\": \"scatter3d\"}], \"scattercarpet\": [{\"marker\": {\"colorbar\": {\"outlinewidth\": 0, \"ticks\": \"\"}}, \"type\": \"scattercarpet\"}], \"scattergeo\": [{\"marker\": {\"colorbar\": {\"outlinewidth\": 0, \"ticks\": \"\"}}, \"type\": \"scattergeo\"}], \"scattergl\": [{\"marker\": {\"colorbar\": {\"outlinewidth\": 0, \"ticks\": \"\"}}, \"type\": \"scattergl\"}], \"scattermapbox\": [{\"marker\": {\"colorbar\": {\"outlinewidth\": 0, \"ticks\": \"\"}}, \"type\": \"scattermapbox\"}], \"scatterpolar\": [{\"marker\": {\"colorbar\": {\"outlinewidth\": 0, \"ticks\": \"\"}}, \"type\": \"scatterpolar\"}], \"scatterpolargl\": [{\"marker\": {\"colorbar\": {\"outlinewidth\": 0, \"ticks\": \"\"}}, \"type\": \"scatterpolargl\"}], \"scatterternary\": [{\"marker\": {\"colorbar\": {\"outlinewidth\": 0, \"ticks\": \"\"}}, \"type\": \"scatterternary\"}], \"surface\": [{\"colorbar\": {\"outlinewidth\": 0, \"ticks\": \"\"}, \"colorscale\": [[0.0, \"#0d0887\"], [0.1111111111111111, \"#46039f\"], [0.2222222222222222, \"#7201a8\"], [0.3333333333333333, \"#9c179e\"], [0.4444444444444444, \"#bd3786\"], [0.5555555555555556, \"#d8576b\"], [0.6666666666666666, \"#ed7953\"], [0.7777777777777778, \"#fb9f3a\"], [0.8888888888888888, \"#fdca26\"], [1.0, \"#f0f921\"]], \"type\": \"surface\"}], \"table\": [{\"cells\": {\"fill\": {\"color\": \"#EBF0F8\"}, \"line\": {\"color\": \"white\"}}, \"header\": {\"fill\": {\"color\": \"#C8D4E3\"}, \"line\": {\"color\": \"white\"}}, \"type\": \"table\"}]}, \"layout\": {\"annotationdefaults\": {\"arrowcolor\": \"#2a3f5f\", \"arrowhead\": 0, \"arrowwidth\": 1}, \"coloraxis\": {\"colorbar\": {\"outlinewidth\": 0, \"ticks\": \"\"}}, \"colorscale\": {\"diverging\": [[0, \"#8e0152\"], [0.1, \"#c51b7d\"], [0.2, \"#de77ae\"], [0.3, \"#f1b6da\"], [0.4, \"#fde0ef\"], [0.5, \"#f7f7f7\"], [0.6, \"#e6f5d0\"], [0.7, \"#b8e186\"], [0.8, \"#7fbc41\"], [0.9, \"#4d9221\"], [1, \"#276419\"]], \"sequential\": [[0.0, \"#0d0887\"], [0.1111111111111111, \"#46039f\"], [0.2222222222222222, \"#7201a8\"], [0.3333333333333333, \"#9c179e\"], [0.4444444444444444, \"#bd3786\"], [0.5555555555555556, \"#d8576b\"], [0.6666666666666666, \"#ed7953\"], [0.7777777777777778, \"#fb9f3a\"], [0.8888888888888888, \"#fdca26\"], [1.0, \"#f0f921\"]], \"sequentialminus\": [[0.0, \"#0d0887\"], [0.1111111111111111, \"#46039f\"], [0.2222222222222222, \"#7201a8\"], [0.3333333333333333, \"#9c179e\"], [0.4444444444444444, \"#bd3786\"], [0.5555555555555556, \"#d8576b\"], [0.6666666666666666, \"#ed7953\"], [0.7777777777777778, \"#fb9f3a\"], [0.8888888888888888, \"#fdca26\"], [1.0, \"#f0f921\"]]}, \"colorway\": [\"#636efa\", \"#EF553B\", \"#00cc96\", \"#ab63fa\", \"#FFA15A\", \"#19d3f3\", \"#FF6692\", \"#B6E880\", \"#FF97FF\", \"#FECB52\"], \"font\": {\"color\": \"#2a3f5f\"}, \"geo\": {\"bgcolor\": \"white\", \"lakecolor\": \"white\", \"landcolor\": \"#E5ECF6\", \"showlakes\": true, \"showland\": true, \"subunitcolor\": \"white\"}, \"hoverlabel\": {\"align\": \"left\"}, \"hovermode\": \"closest\", \"mapbox\": {\"style\": \"light\"}, \"paper_bgcolor\": \"white\", \"plot_bgcolor\": \"#E5ECF6\", \"polar\": {\"angularaxis\": {\"gridcolor\": \"white\", \"linecolor\": \"white\", \"ticks\": \"\"}, \"bgcolor\": \"#E5ECF6\", \"radialaxis\": {\"gridcolor\": \"white\", \"linecolor\": \"white\", \"ticks\": \"\"}}, \"scene\": {\"xaxis\": {\"backgroundcolor\": \"#E5ECF6\", \"gridcolor\": \"white\", \"gridwidth\": 2, \"linecolor\": \"white\", \"showbackground\": true, \"ticks\": \"\", \"zerolinecolor\": \"white\"}, \"yaxis\": {\"backgroundcolor\": \"#E5ECF6\", \"gridcolor\": \"white\", \"gridwidth\": 2, \"linecolor\": \"white\", \"showbackground\": true, \"ticks\": \"\", \"zerolinecolor\": \"white\"}, \"zaxis\": {\"backgroundcolor\": \"#E5ECF6\", \"gridcolor\": \"white\", \"gridwidth\": 2, \"linecolor\": \"white\", \"showbackground\": true, \"ticks\": \"\", \"zerolinecolor\": \"white\"}}, \"shapedefaults\": {\"line\": {\"color\": \"#2a3f5f\"}}, \"ternary\": {\"aaxis\": {\"gridcolor\": \"white\", \"linecolor\": \"white\", \"ticks\": \"\"}, \"baxis\": {\"gridcolor\": \"white\", \"linecolor\": \"white\", \"ticks\": \"\"}, \"bgcolor\": \"#E5ECF6\", \"caxis\": {\"gridcolor\": \"white\", \"linecolor\": \"white\", \"ticks\": \"\"}}, \"title\": {\"x\": 0.05}, \"xaxis\": {\"automargin\": true, \"gridcolor\": \"white\", \"linecolor\": \"white\", \"ticks\": \"\", \"title\": {\"standoff\": 15}, \"zerolinecolor\": \"white\", \"zerolinewidth\": 2}, \"yaxis\": {\"automargin\": true, \"gridcolor\": \"white\", \"linecolor\": \"white\", \"ticks\": \"\", \"title\": {\"standoff\": 15}, \"zerolinecolor\": \"white\", \"zerolinewidth\": 2}}}},\n",
       "                        {\"responsive\": true}\n",
       "                    ).then(function(){\n",
       "                            \n",
       "var gd = document.getElementById('a9459979-ec2b-4fcb-8e39-823cb5811af0');\n",
       "var x = new MutationObserver(function (mutations, observer) {{\n",
       "        var display = window.getComputedStyle(gd).display;\n",
       "        if (!display || display === 'none') {{\n",
       "            console.log([gd, 'removed!']);\n",
       "            Plotly.purge(gd);\n",
       "            observer.disconnect();\n",
       "        }}\n",
       "}});\n",
       "\n",
       "// Listen for the removal of the full notebook cells\n",
       "var notebookContainer = gd.closest('#notebook-container');\n",
       "if (notebookContainer) {{\n",
       "    x.observe(notebookContainer, {childList: true});\n",
       "}}\n",
       "\n",
       "// Listen for the clearing of the current output cell\n",
       "var outputEl = gd.closest('.output');\n",
       "if (outputEl) {{\n",
       "    x.observe(outputEl, {childList: true});\n",
       "}}\n",
       "\n",
       "                        })\n",
       "                };\n",
       "                });\n",
       "            </script>\n",
       "        </div>"
      ]
     },
     "metadata": {},
     "output_type": "display_data"
    }
   ],
   "source": [
    "fig = go.Figure(go.Indicator(\n",
    "    mode = \"gauge+number+delta\",\n",
    "    value = float(df_prima.pct_pop_prima_dose.tail(1).round(1)),\n",
    "    domain = {'x': [0, 1], 'y': [0, 1]},\n",
    "    title = {'text': \"Percentuale Popolazione 16+ Vaccinata con Prima Dose\", 'font': {'size': 24}},\n",
    "    delta = {'reference': float(df_prima.pct_pop_prima_dose.iloc[-7]), 'increasing': {'color': \"Green\"},\n",
    "            'valueformat':'.02f'},\n",
    "    gauge = {\n",
    "        'axis': {'range': [None, 100], 'tickwidth': 1, 'tickcolor': \"darkblue\"},\n",
    "        'bar': {'color': \"#FFBF00\"},\n",
    "        'bgcolor': \"white\",\n",
    "        'borderwidth': 2,\n",
    "        'bordercolor': \"gray\",\n",
    "        'steps': [\n",
    "            {'range': [0, 80], 'color': '#85C1E9'},\n",
    "            {'range': [40, 60], 'color': '#85C1E9'},\n",
    "            {'range': [60, 80], 'color': '#85C1E9'}],\n",
    "        'threshold': {\n",
    "            'line': {'color': \"red\", 'width': 4},\n",
    "            'thickness': 0.75,\n",
    "            'value': 80}}))\n",
    "\n",
    "fig.update_layout(paper_bgcolor = \"lavender\", font = {'color': \"darkblue\", 'family': \"Arial\"})\n",
    "\n",
    "fig"
   ]
  },
  {
   "cell_type": "code",
   "execution_count": 605,
   "metadata": {},
   "outputs": [
    {
     "data": {
      "text/html": [
       "<div>\n",
       "<style scoped>\n",
       "    .dataframe tbody tr th:only-of-type {\n",
       "        vertical-align: middle;\n",
       "    }\n",
       "\n",
       "    .dataframe tbody tr th {\n",
       "        vertical-align: top;\n",
       "    }\n",
       "\n",
       "    .dataframe thead th {\n",
       "        text-align: right;\n",
       "    }\n",
       "</style>\n",
       "<table border=\"1\" class=\"dataframe\">\n",
       "  <thead>\n",
       "    <tr style=\"text-align: right;\">\n",
       "      <th></th>\n",
       "      <th>data_somministrazione</th>\n",
       "      <th>prima_dose</th>\n",
       "      <th>pct_pop_prima_dose</th>\n",
       "      <th>daily_change</th>\n",
       "      <th>prima_dose_giorno</th>\n",
       "      <th>seconda_dose_giorno</th>\n",
       "    </tr>\n",
       "  </thead>\n",
       "  <tbody>\n",
       "    <tr>\n",
       "      <th>0</th>\n",
       "      <td>2021-01-01</td>\n",
       "      <td>11038</td>\n",
       "      <td>0.021836</td>\n",
       "      <td>NaN</td>\n",
       "      <td>0.0</td>\n",
       "      <td>0.0</td>\n",
       "    </tr>\n",
       "    <tr>\n",
       "      <th>1</th>\n",
       "      <td>2021-01-02</td>\n",
       "      <td>49530</td>\n",
       "      <td>0.097985</td>\n",
       "      <td>0.076149</td>\n",
       "      <td>38492.0</td>\n",
       "      <td>0.0</td>\n",
       "    </tr>\n",
       "    <tr>\n",
       "      <th>2</th>\n",
       "      <td>2021-01-03</td>\n",
       "      <td>84647</td>\n",
       "      <td>0.167457</td>\n",
       "      <td>0.069472</td>\n",
       "      <td>35117.0</td>\n",
       "      <td>0.0</td>\n",
       "    </tr>\n",
       "    <tr>\n",
       "      <th>3</th>\n",
       "      <td>2021-01-04</td>\n",
       "      <td>153065</td>\n",
       "      <td>0.302808</td>\n",
       "      <td>0.135351</td>\n",
       "      <td>68418.0</td>\n",
       "      <td>0.0</td>\n",
       "    </tr>\n",
       "    <tr>\n",
       "      <th>4</th>\n",
       "      <td>2021-01-05</td>\n",
       "      <td>232534</td>\n",
       "      <td>0.460021</td>\n",
       "      <td>0.157213</td>\n",
       "      <td>79469.0</td>\n",
       "      <td>0.0</td>\n",
       "    </tr>\n",
       "    <tr>\n",
       "      <th>...</th>\n",
       "      <td>...</td>\n",
       "      <td>...</td>\n",
       "      <td>...</td>\n",
       "      <td>...</td>\n",
       "      <td>...</td>\n",
       "      <td>...</td>\n",
       "    </tr>\n",
       "    <tr>\n",
       "      <th>60</th>\n",
       "      <td>2021-03-02</td>\n",
       "      <td>3117284</td>\n",
       "      <td>6.166905</td>\n",
       "      <td>0.245370</td>\n",
       "      <td>124031.0</td>\n",
       "      <td>29904.0</td>\n",
       "    </tr>\n",
       "    <tr>\n",
       "      <th>61</th>\n",
       "      <td>2021-03-03</td>\n",
       "      <td>3251559</td>\n",
       "      <td>6.432541</td>\n",
       "      <td>0.265635</td>\n",
       "      <td>134275.0</td>\n",
       "      <td>40809.0</td>\n",
       "    </tr>\n",
       "    <tr>\n",
       "      <th>62</th>\n",
       "      <td>2021-03-04</td>\n",
       "      <td>3390131</td>\n",
       "      <td>6.706677</td>\n",
       "      <td>0.274136</td>\n",
       "      <td>138572.0</td>\n",
       "      <td>45682.0</td>\n",
       "    </tr>\n",
       "    <tr>\n",
       "      <th>63</th>\n",
       "      <td>2021-03-05</td>\n",
       "      <td>3527791</td>\n",
       "      <td>6.979009</td>\n",
       "      <td>0.272332</td>\n",
       "      <td>137660.0</td>\n",
       "      <td>49134.0</td>\n",
       "    </tr>\n",
       "    <tr>\n",
       "      <th>64</th>\n",
       "      <td>2021-03-06</td>\n",
       "      <td>3578569</td>\n",
       "      <td>7.079463</td>\n",
       "      <td>0.100454</td>\n",
       "      <td>50778.0</td>\n",
       "      <td>19057.0</td>\n",
       "    </tr>\n",
       "  </tbody>\n",
       "</table>\n",
       "<p>65 rows × 6 columns</p>\n",
       "</div>"
      ],
      "text/plain": [
       "   data_somministrazione  prima_dose  pct_pop_prima_dose  daily_change  \\\n",
       "0             2021-01-01       11038            0.021836           NaN   \n",
       "1             2021-01-02       49530            0.097985      0.076149   \n",
       "2             2021-01-03       84647            0.167457      0.069472   \n",
       "3             2021-01-04      153065            0.302808      0.135351   \n",
       "4             2021-01-05      232534            0.460021      0.157213   \n",
       "..                   ...         ...                 ...           ...   \n",
       "60            2021-03-02     3117284            6.166905      0.245370   \n",
       "61            2021-03-03     3251559            6.432541      0.265635   \n",
       "62            2021-03-04     3390131            6.706677      0.274136   \n",
       "63            2021-03-05     3527791            6.979009      0.272332   \n",
       "64            2021-03-06     3578569            7.079463      0.100454   \n",
       "\n",
       "    prima_dose_giorno  seconda_dose_giorno  \n",
       "0                 0.0                  0.0  \n",
       "1             38492.0                  0.0  \n",
       "2             35117.0                  0.0  \n",
       "3             68418.0                  0.0  \n",
       "4             79469.0                  0.0  \n",
       "..                ...                  ...  \n",
       "60           124031.0              29904.0  \n",
       "61           134275.0              40809.0  \n",
       "62           138572.0              45682.0  \n",
       "63           137660.0              49134.0  \n",
       "64            50778.0              19057.0  \n",
       "\n",
       "[65 rows x 6 columns]"
      ]
     },
     "execution_count": 605,
     "metadata": {},
     "output_type": "execute_result"
    }
   ],
   "source": [
    "df_prima['seconda_dose_giorno'] = df_seconda.seconda_dose.diff().fillna(0)\n",
    "df_prima"
   ]
  },
  {
   "cell_type": "code",
   "execution_count": 606,
   "metadata": {},
   "outputs": [
    {
     "data": {
      "image/png": "[encoded data removed]",
      "text/plain": [
       "<Figure size 1008x504 with 1 Axes>"
      ]
     },
     "metadata": {},
     "output_type": "display_data"
    }
   ],
   "source": [
    "plt.figure(figsize=(14,7))\n",
    "sns.lineplot(data=df_prima, x='data_somministrazione', y='prima_dose_giorno', \n",
    "             linewidth=4).set_title('Elaborazione: @TomZ_UK - Dati: ISS')\n",
    "plt.suptitle('Somministrazioni Quotidiane - Prima Dose', fontsize=20)\n",
    "plt.xlabel('')\n",
    "plt.xticks(fontsize=14)\n",
    "plt.ylabel('')\n",
    "plt.yticks(fontsize=14)\n",
    "\n",
    "plt.savefig('daily_first_doses.png')"
   ]
  },
  {
   "cell_type": "code",
   "execution_count": 607,
   "metadata": {},
   "outputs": [
    {
     "name": "stderr",
     "output_type": "stream",
     "text": [
      "/Users/admin/opt/anaconda3/lib/python3.7/site-packages/pandas/core/frame.py:4446: SettingWithCopyWarning:\n",
      "\n",
      "\n",
      "A value is trying to be set on a copy of a slice from a DataFrame\n",
      "\n",
      "See the caveats in the documentation: https://pandas.pydata.org/pandas-docs/stable/user_guide/indexing.html#returning-a-view-versus-a-copy\n",
      "\n"
     ]
    },
    {
     "data": {
      "text/html": [
       "<div>\n",
       "<style scoped>\n",
       "    .dataframe tbody tr th:only-of-type {\n",
       "        vertical-align: middle;\n",
       "    }\n",
       "\n",
       "    .dataframe tbody tr th {\n",
       "        vertical-align: top;\n",
       "    }\n",
       "\n",
       "    .dataframe thead th {\n",
       "        text-align: right;\n",
       "    }\n",
       "</style>\n",
       "<table border=\"1\" class=\"dataframe\">\n",
       "  <thead>\n",
       "    <tr style=\"text-align: right;\">\n",
       "      <th></th>\n",
       "      <th>data_somministrazione</th>\n",
       "      <th>Prima Dose</th>\n",
       "      <th>Seconda Dose</th>\n",
       "    </tr>\n",
       "  </thead>\n",
       "  <tbody>\n",
       "    <tr>\n",
       "      <th>0</th>\n",
       "      <td>2021-01-01</td>\n",
       "      <td>0.0</td>\n",
       "      <td>0.0</td>\n",
       "    </tr>\n",
       "    <tr>\n",
       "      <th>1</th>\n",
       "      <td>2021-01-02</td>\n",
       "      <td>38492.0</td>\n",
       "      <td>0.0</td>\n",
       "    </tr>\n",
       "    <tr>\n",
       "      <th>2</th>\n",
       "      <td>2021-01-03</td>\n",
       "      <td>35117.0</td>\n",
       "      <td>0.0</td>\n",
       "    </tr>\n",
       "    <tr>\n",
       "      <th>3</th>\n",
       "      <td>2021-01-04</td>\n",
       "      <td>68418.0</td>\n",
       "      <td>0.0</td>\n",
       "    </tr>\n",
       "    <tr>\n",
       "      <th>4</th>\n",
       "      <td>2021-01-05</td>\n",
       "      <td>79469.0</td>\n",
       "      <td>0.0</td>\n",
       "    </tr>\n",
       "    <tr>\n",
       "      <th>...</th>\n",
       "      <td>...</td>\n",
       "      <td>...</td>\n",
       "      <td>...</td>\n",
       "    </tr>\n",
       "    <tr>\n",
       "      <th>60</th>\n",
       "      <td>2021-03-02</td>\n",
       "      <td>124031.0</td>\n",
       "      <td>29904.0</td>\n",
       "    </tr>\n",
       "    <tr>\n",
       "      <th>61</th>\n",
       "      <td>2021-03-03</td>\n",
       "      <td>134275.0</td>\n",
       "      <td>40809.0</td>\n",
       "    </tr>\n",
       "    <tr>\n",
       "      <th>62</th>\n",
       "      <td>2021-03-04</td>\n",
       "      <td>138572.0</td>\n",
       "      <td>45682.0</td>\n",
       "    </tr>\n",
       "    <tr>\n",
       "      <th>63</th>\n",
       "      <td>2021-03-05</td>\n",
       "      <td>137660.0</td>\n",
       "      <td>49134.0</td>\n",
       "    </tr>\n",
       "    <tr>\n",
       "      <th>64</th>\n",
       "      <td>2021-03-06</td>\n",
       "      <td>50778.0</td>\n",
       "      <td>19057.0</td>\n",
       "    </tr>\n",
       "  </tbody>\n",
       "</table>\n",
       "<p>65 rows × 3 columns</p>\n",
       "</div>"
      ],
      "text/plain": [
       "   data_somministrazione  Prima Dose  Seconda Dose\n",
       "0             2021-01-01         0.0           0.0\n",
       "1             2021-01-02     38492.0           0.0\n",
       "2             2021-01-03     35117.0           0.0\n",
       "3             2021-01-04     68418.0           0.0\n",
       "4             2021-01-05     79469.0           0.0\n",
       "..                   ...         ...           ...\n",
       "60            2021-03-02    124031.0       29904.0\n",
       "61            2021-03-03    134275.0       40809.0\n",
       "62            2021-03-04    138572.0       45682.0\n",
       "63            2021-03-05    137660.0       49134.0\n",
       "64            2021-03-06     50778.0       19057.0\n",
       "\n",
       "[65 rows x 3 columns]"
      ]
     },
     "execution_count": 607,
     "metadata": {},
     "output_type": "execute_result"
    }
   ],
   "source": [
    "df_pl = df_prima[['data_somministrazione','prima_dose_giorno','seconda_dose_giorno']]\n",
    "df_pl.rename(columns={'prima_dose_giorno':'Prima Dose', 'seconda_dose_giorno':'Seconda Dose'}, inplace=True)\n",
    "df_pl"
   ]
  },
  {
   "cell_type": "code",
   "execution_count": 608,
   "metadata": {},
   "outputs": [],
   "source": [
    "df_pl = df_pl.melt(id_vars=['data_somministrazione'])\n"
   ]
  },
  {
   "cell_type": "code",
   "execution_count": 609,
   "metadata": {},
   "outputs": [
    {
     "data": {
      "image/png": "[encoded data removed]",
      "text/plain": [
       "<Figure size 1008x504 with 1 Axes>"
      ]
     },
     "metadata": {},
     "output_type": "display_data"
    }
   ],
   "source": [
    "\n",
    "plt.figure(figsize=(14,7))\n",
    "sns.lineplot(data=df_pl, x='data_somministrazione',y='value',hue='variable',\n",
    "            linewidth=3, palette='tab10', marker='o').set_title('Elaborazione: @TomZ_UK - Dati: ISS')\n",
    "plt.suptitle('Somministrazioni Giornaliere', fontsize=20)\n",
    "plt.legend(fontsize=14)\n",
    "\n",
    "plt.xlabel('')\n",
    "plt.xticks(fontsize=14, rotation=45)\n",
    "plt.ylabel('')\n",
    "plt.yticks(fontsize=14)\n",
    "\n",
    "plt.savefig('daily_doses.png')"
   ]
  },
  {
   "cell_type": "markdown",
   "metadata": {},
   "source": [
    "# Regionale"
   ]
  },
  {
   "cell_type": "code",
   "execution_count": 610,
   "metadata": {},
   "outputs": [
    {
     "name": "stderr",
     "output_type": "stream",
     "text": [
      "/Users/admin/opt/anaconda3/lib/python3.7/site-packages/ipykernel_launcher.py:1: FutureWarning:\n",
      "\n",
      "Indexing with multiple keys (implicitly converted to a tuple of keys) will be deprecated, use a list instead.\n",
      "\n"
     ]
    },
    {
     "data": {
      "text/html": [
       "<div>\n",
       "<style scoped>\n",
       "    .dataframe tbody tr th:only-of-type {\n",
       "        vertical-align: middle;\n",
       "    }\n",
       "\n",
       "    .dataframe tbody tr th {\n",
       "        vertical-align: top;\n",
       "    }\n",
       "\n",
       "    .dataframe thead th {\n",
       "        text-align: right;\n",
       "    }\n",
       "</style>\n",
       "<table border=\"1\" class=\"dataframe\">\n",
       "  <thead>\n",
       "    <tr style=\"text-align: right;\">\n",
       "      <th></th>\n",
       "      <th>prima_dose</th>\n",
       "      <th>seconda_dose</th>\n",
       "    </tr>\n",
       "    <tr>\n",
       "      <th>area</th>\n",
       "      <th></th>\n",
       "      <th></th>\n",
       "    </tr>\n",
       "  </thead>\n",
       "  <tbody>\n",
       "    <tr>\n",
       "      <th>ABR</th>\n",
       "      <td>79581</td>\n",
       "      <td>26479</td>\n",
       "    </tr>\n",
       "    <tr>\n",
       "      <th>BAS</th>\n",
       "      <td>36034</td>\n",
       "      <td>13587</td>\n",
       "    </tr>\n",
       "    <tr>\n",
       "      <th>CAL</th>\n",
       "      <td>85649</td>\n",
       "      <td>40978</td>\n",
       "    </tr>\n",
       "    <tr>\n",
       "      <th>CAM</th>\n",
       "      <td>321889</td>\n",
       "      <td>145427</td>\n",
       "    </tr>\n",
       "    <tr>\n",
       "      <th>EMR</th>\n",
       "      <td>306631</td>\n",
       "      <td>151243</td>\n",
       "    </tr>\n",
       "    <tr>\n",
       "      <th>FVG</th>\n",
       "      <td>87892</td>\n",
       "      <td>39919</td>\n",
       "    </tr>\n",
       "    <tr>\n",
       "      <th>LAZ</th>\n",
       "      <td>361193</td>\n",
       "      <td>148298</td>\n",
       "    </tr>\n",
       "    <tr>\n",
       "      <th>LIG</th>\n",
       "      <td>95150</td>\n",
       "      <td>42577</td>\n",
       "    </tr>\n",
       "    <tr>\n",
       "      <th>LOM</th>\n",
       "      <td>527562</td>\n",
       "      <td>273130</td>\n",
       "    </tr>\n",
       "    <tr>\n",
       "      <th>MAR</th>\n",
       "      <td>93547</td>\n",
       "      <td>34493</td>\n",
       "    </tr>\n",
       "    <tr>\n",
       "      <th>MOL</th>\n",
       "      <td>18539</td>\n",
       "      <td>8454</td>\n",
       "    </tr>\n",
       "    <tr>\n",
       "      <th>PAB</th>\n",
       "      <td>38683</td>\n",
       "      <td>22992</td>\n",
       "    </tr>\n",
       "    <tr>\n",
       "      <th>PAT</th>\n",
       "      <td>31674</td>\n",
       "      <td>17800</td>\n",
       "    </tr>\n",
       "    <tr>\n",
       "      <th>PIE</th>\n",
       "      <td>298686</td>\n",
       "      <td>147640</td>\n",
       "    </tr>\n",
       "    <tr>\n",
       "      <th>PUG</th>\n",
       "      <td>252278</td>\n",
       "      <td>84280</td>\n",
       "    </tr>\n",
       "    <tr>\n",
       "      <th>SAR</th>\n",
       "      <td>70656</td>\n",
       "      <td>35844</td>\n",
       "    </tr>\n",
       "    <tr>\n",
       "      <th>SIC</th>\n",
       "      <td>285208</td>\n",
       "      <td>127074</td>\n",
       "    </tr>\n",
       "    <tr>\n",
       "      <th>TOS</th>\n",
       "      <td>265007</td>\n",
       "      <td>99893</td>\n",
       "    </tr>\n",
       "    <tr>\n",
       "      <th>UMB</th>\n",
       "      <td>47747</td>\n",
       "      <td>17286</td>\n",
       "    </tr>\n",
       "    <tr>\n",
       "      <th>VDA</th>\n",
       "      <td>8951</td>\n",
       "      <td>5244</td>\n",
       "    </tr>\n",
       "    <tr>\n",
       "      <th>VEN</th>\n",
       "      <td>266012</td>\n",
       "      <td>130975</td>\n",
       "    </tr>\n",
       "  </tbody>\n",
       "</table>\n",
       "</div>"
      ],
      "text/plain": [
       "      prima_dose  seconda_dose\n",
       "area                          \n",
       "ABR        79581         26479\n",
       "BAS        36034         13587\n",
       "CAL        85649         40978\n",
       "CAM       321889        145427\n",
       "EMR       306631        151243\n",
       "FVG        87892         39919\n",
       "LAZ       361193        148298\n",
       "LIG        95150         42577\n",
       "LOM       527562        273130\n",
       "MAR        93547         34493\n",
       "MOL        18539          8454\n",
       "PAB        38683         22992\n",
       "PAT        31674         17800\n",
       "PIE       298686        147640\n",
       "PUG       252278         84280\n",
       "SAR        70656         35844\n",
       "SIC       285208        127074\n",
       "TOS       265007         99893\n",
       "UMB        47747         17286\n",
       "VDA         8951          5244\n",
       "VEN       266012        130975"
      ]
     },
     "execution_count": 610,
     "metadata": {},
     "output_type": "execute_result"
    }
   ],
   "source": [
    "df_reg = df.groupby('area')['prima_dose','seconda_dose'].sum()\n",
    "df_reg"
   ]
  },
  {
   "cell_type": "code",
   "execution_count": 611,
   "metadata": {},
   "outputs": [],
   "source": [
    "df_reg.rename(index={'ABR':'Abruzzo','BAS':'Basilicata','CAL':'Calabria',\n",
    "                    'CAM':'Campania','EMR':'Emilia-Romagna','FVG':'Friuli Venezia Giulia',\n",
    "                    'LAZ':'Lazio','LIG':'Liguria','LOM':'Lombardia','MAR':'Marche','MOL':'Molise',\n",
    "                    'PIE':'Piemonte','PUG':'Puglia','SAR':'Sardegna','SIC':'Sicilia','TOS':'Toscana',\n",
    "                    'UMB':'Umbria','VDA':\"Valle d'Aosta\",'VEN':'Veneto'}, inplace=True)"
   ]
  },
  {
   "cell_type": "code",
   "execution_count": 612,
   "metadata": {},
   "outputs": [],
   "source": [
    "reg = pd.read_html('https://www.tuttitalia.it/regioni/popolazione/', thousands='.')[0]\n",
    "reg = reg[['Regione', 'Popolazioneresidenti']]"
   ]
  },
  {
   "cell_type": "code",
   "execution_count": 613,
   "metadata": {},
   "outputs": [],
   "source": [
    "df_reg.reset_index(inplace=True)\n",
    "df_reg_m = df_reg.merge(reg, left_on='area',right_on='Regione', how='inner')\n",
    "df_reg_m = df_reg_m[['area','prima_dose','seconda_dose','Popolazioneresidenti']]"
   ]
  },
  {
   "cell_type": "code",
   "execution_count": 614,
   "metadata": {},
   "outputs": [],
   "source": [
    "df_reg_m['pct_prima_dose'] = (df_reg_m.prima_dose / df_reg_m.Popolazioneresidenti).mul(100).round(2)\n",
    "df_reg_m['pct_seconda_dose'] = (df_reg_m.seconda_dose / df_reg_m.Popolazioneresidenti).mul(100).round(2)"
   ]
  },
  {
   "cell_type": "code",
   "execution_count": 615,
   "metadata": {},
   "outputs": [],
   "source": [
    "df_reg_m.rename(columns={'pct_prima_dose':'Prima Dose pct', 'pct_seconda_dose':'Seconda Dose pct'}, inplace=True)"
   ]
  },
  {
   "cell_type": "code",
   "execution_count": 616,
   "metadata": {},
   "outputs": [],
   "source": [
    "reg_melt = df_reg_m.melt(id_vars='area', value_vars=['Prima Dose pct','Seconda Dose pct'])"
   ]
  },
  {
   "cell_type": "code",
   "execution_count": 617,
   "metadata": {},
   "outputs": [
    {
     "data": {
      "text/plain": [
       "(array([ 0,  1,  2,  3,  4,  5,  6,  7,  8,  9, 10, 11, 12, 13, 14, 15, 16,\n",
       "        17, 18]),\n",
       " <a list of 19 Text major ticklabel objects>)"
      ]
     },
     "execution_count": 617,
     "metadata": {},
     "output_type": "execute_result"
    },
    {
     "data": {
      "image/png": "[encoded data removed]",
      "text/plain": [
       "<Figure size 1008x504 with 1 Axes>"
      ]
     },
     "metadata": {},
     "output_type": "display_data"
    }
   ],
   "source": [
    "plt.figure(figsize=(14,7))\n",
    "\n",
    "sns.barplot(data=reg_melt, x='area', y='value', hue='variable').set_title('Elaborazione: @TomZ_UK - Dati: ISS')\n",
    "plt.suptitle('Percentuale Popolazione Vaccinata', fontsize=20)\n",
    "plt.xticks(rotation=80, fontsize=14)"
   ]
  },
  {
   "cell_type": "markdown",
   "metadata": {},
   "source": [
    "# Deliveries"
   ]
  },
  {
   "cell_type": "code",
   "execution_count": 618,
   "metadata": {},
   "outputs": [
    {
     "data": {
      "text/html": [
       "<div>\n",
       "<style scoped>\n",
       "    .dataframe tbody tr th:only-of-type {\n",
       "        vertical-align: middle;\n",
       "    }\n",
       "\n",
       "    .dataframe tbody tr th {\n",
       "        vertical-align: top;\n",
       "    }\n",
       "\n",
       "    .dataframe thead th {\n",
       "        text-align: right;\n",
       "    }\n",
       "</style>\n",
       "<table border=\"1\" class=\"dataframe\">\n",
       "  <thead>\n",
       "    <tr style=\"text-align: right;\">\n",
       "      <th></th>\n",
       "      <th>area</th>\n",
       "      <th>fornitore</th>\n",
       "      <th>numero_dosi</th>\n",
       "      <th>data_consegna</th>\n",
       "      <th>codice_NUTS1</th>\n",
       "      <th>codice_NUTS2</th>\n",
       "      <th>codice_regione_ISTAT</th>\n",
       "      <th>nome_area</th>\n",
       "    </tr>\n",
       "  </thead>\n",
       "  <tbody>\n",
       "    <tr>\n",
       "      <th>0</th>\n",
       "      <td>ABR</td>\n",
       "      <td>Pfizer/BioNTech</td>\n",
       "      <td>135</td>\n",
       "      <td>2020-12-27</td>\n",
       "      <td>ITF</td>\n",
       "      <td>ITF1</td>\n",
       "      <td>13</td>\n",
       "      <td>Abruzzo</td>\n",
       "    </tr>\n",
       "    <tr>\n",
       "      <th>1</th>\n",
       "      <td>ABR</td>\n",
       "      <td>Pfizer/BioNTech</td>\n",
       "      <td>7800</td>\n",
       "      <td>2020-12-30</td>\n",
       "      <td>ITF</td>\n",
       "      <td>ITF1</td>\n",
       "      <td>13</td>\n",
       "      <td>Abruzzo</td>\n",
       "    </tr>\n",
       "    <tr>\n",
       "      <th>2</th>\n",
       "      <td>ABR</td>\n",
       "      <td>Pfizer/BioNTech</td>\n",
       "      <td>3900</td>\n",
       "      <td>2021-01-05</td>\n",
       "      <td>ITF</td>\n",
       "      <td>ITF1</td>\n",
       "      <td>13</td>\n",
       "      <td>Abruzzo</td>\n",
       "    </tr>\n",
       "    <tr>\n",
       "      <th>3</th>\n",
       "      <td>ABR</td>\n",
       "      <td>Pfizer/BioNTech</td>\n",
       "      <td>3900</td>\n",
       "      <td>2021-01-07</td>\n",
       "      <td>ITF</td>\n",
       "      <td>ITF1</td>\n",
       "      <td>13</td>\n",
       "      <td>Abruzzo</td>\n",
       "    </tr>\n",
       "    <tr>\n",
       "      <th>4</th>\n",
       "      <td>ABR</td>\n",
       "      <td>Pfizer/BioNTech</td>\n",
       "      <td>3900</td>\n",
       "      <td>2021-01-11</td>\n",
       "      <td>ITF</td>\n",
       "      <td>ITF1</td>\n",
       "      <td>13</td>\n",
       "      <td>Abruzzo</td>\n",
       "    </tr>\n",
       "  </tbody>\n",
       "</table>\n",
       "</div>"
      ],
      "text/plain": [
       "  area        fornitore  numero_dosi data_consegna codice_NUTS1 codice_NUTS2  \\\n",
       "0  ABR  Pfizer/BioNTech          135    2020-12-27          ITF         ITF1   \n",
       "1  ABR  Pfizer/BioNTech         7800    2020-12-30          ITF         ITF1   \n",
       "2  ABR  Pfizer/BioNTech         3900    2021-01-05          ITF         ITF1   \n",
       "3  ABR  Pfizer/BioNTech         3900    2021-01-07          ITF         ITF1   \n",
       "4  ABR  Pfizer/BioNTech         3900    2021-01-11          ITF         ITF1   \n",
       "\n",
       "   codice_regione_ISTAT nome_area  \n",
       "0                    13   Abruzzo  \n",
       "1                    13   Abruzzo  \n",
       "2                    13   Abruzzo  \n",
       "3                    13   Abruzzo  \n",
       "4                    13   Abruzzo  "
      ]
     },
     "execution_count": 618,
     "metadata": {},
     "output_type": "execute_result"
    }
   ],
   "source": [
    "deliveries = pd.read_csv('https://raw.githubusercontent.com/italia/covid19-opendata-vaccini/master/dati/consegne-vaccini-latest.csv')\n",
    "deliveries.head()"
   ]
  },
  {
   "cell_type": "code",
   "execution_count": 619,
   "metadata": {},
   "outputs": [
    {
     "data": {
      "text/html": [
       "<div>\n",
       "<style scoped>\n",
       "    .dataframe tbody tr th:only-of-type {\n",
       "        vertical-align: middle;\n",
       "    }\n",
       "\n",
       "    .dataframe tbody tr th {\n",
       "        vertical-align: top;\n",
       "    }\n",
       "\n",
       "    .dataframe thead th {\n",
       "        text-align: right;\n",
       "    }\n",
       "</style>\n",
       "<table border=\"1\" class=\"dataframe\">\n",
       "  <thead>\n",
       "    <tr style=\"text-align: right;\">\n",
       "      <th></th>\n",
       "      <th>data_consegna</th>\n",
       "      <th>nome_area</th>\n",
       "      <th>fornitore</th>\n",
       "      <th>numero_dosi</th>\n",
       "    </tr>\n",
       "  </thead>\n",
       "  <tbody>\n",
       "    <tr>\n",
       "      <th>0</th>\n",
       "      <td>2020-12-27</td>\n",
       "      <td>Abruzzo</td>\n",
       "      <td>Pfizer/BioNTech</td>\n",
       "      <td>135</td>\n",
       "    </tr>\n",
       "    <tr>\n",
       "      <th>1</th>\n",
       "      <td>2020-12-27</td>\n",
       "      <td>Basilicata</td>\n",
       "      <td>Pfizer/BioNTech</td>\n",
       "      <td>105</td>\n",
       "    </tr>\n",
       "    <tr>\n",
       "      <th>2</th>\n",
       "      <td>2020-12-27</td>\n",
       "      <td>Calabria</td>\n",
       "      <td>Pfizer/BioNTech</td>\n",
       "      <td>280</td>\n",
       "    </tr>\n",
       "    <tr>\n",
       "      <th>3</th>\n",
       "      <td>2020-12-27</td>\n",
       "      <td>Campania</td>\n",
       "      <td>Pfizer/BioNTech</td>\n",
       "      <td>720</td>\n",
       "    </tr>\n",
       "    <tr>\n",
       "      <th>4</th>\n",
       "      <td>2020-12-27</td>\n",
       "      <td>Emilia-Romagna</td>\n",
       "      <td>Pfizer/BioNTech</td>\n",
       "      <td>975</td>\n",
       "    </tr>\n",
       "  </tbody>\n",
       "</table>\n",
       "</div>"
      ],
      "text/plain": [
       "  data_consegna       nome_area        fornitore  numero_dosi\n",
       "0    2020-12-27         Abruzzo  Pfizer/BioNTech          135\n",
       "1    2020-12-27      Basilicata  Pfizer/BioNTech          105\n",
       "2    2020-12-27        Calabria  Pfizer/BioNTech          280\n",
       "3    2020-12-27        Campania  Pfizer/BioNTech          720\n",
       "4    2020-12-27  Emilia-Romagna  Pfizer/BioNTech          975"
      ]
     },
     "execution_count": 619,
     "metadata": {},
     "output_type": "execute_result"
    }
   ],
   "source": [
    "deliveries = deliveries.groupby(['data_consegna','nome_area','fornitore'])[['numero_dosi']].sum().reset_index()\n",
    "deliveries.head()"
   ]
  },
  {
   "cell_type": "code",
   "execution_count": 620,
   "metadata": {},
   "outputs": [
    {
     "data": {
      "text/plain": [
       "array(['Abruzzo', 'Basilicata', 'Calabria', 'Campania', 'Emilia-Romagna',\n",
       "       'Friuli-Venezia Giulia', 'Lazio', 'Liguria', 'Lombardia', 'Marche',\n",
       "       'Molise', 'Piemonte', 'Provincia Autonoma Bolzano / Bozen',\n",
       "       'Provincia Autonoma Trento', 'Puglia', 'Sardegna', 'Sicilia',\n",
       "       'Toscana', 'Umbria', \"Valle d'Aosta / Vallée d'Aoste\", 'Veneto'],\n",
       "      dtype=object)"
      ]
     },
     "execution_count": 620,
     "metadata": {},
     "output_type": "execute_result"
    }
   ],
   "source": [
    "deliveries.nome_area.unique()"
   ]
  },
  {
   "cell_type": "code",
   "execution_count": 621,
   "metadata": {},
   "outputs": [],
   "source": [
    "deliveries.replace({'Provincia Autonoma Trento':'PAT','Provincia Autonoma Bolzano / Bozen':'PAB',\"Valle d'Aosta / Vallée d'Aoste\":\"Valle d'Aosta\"},\n",
    "                  \n",
    "                 inplace=True)"
   ]
  },
  {
   "cell_type": "code",
   "execution_count": 622,
   "metadata": {},
   "outputs": [],
   "source": [
    "df_reg['totale_somministrato'] = df_reg.prima_dose + df_reg.seconda_dose"
   ]
  },
  {
   "cell_type": "code",
   "execution_count": 623,
   "metadata": {},
   "outputs": [
    {
     "data": {
      "text/plain": [
       "array(['Abruzzo', 'Basilicata', 'Calabria', 'Campania', 'Emilia-Romagna',\n",
       "       'Friuli-Venezia Giulia', 'Lazio', 'Liguria', 'Lombardia', 'Marche',\n",
       "       'Molise', 'Piemonte', 'PAB', 'PAT', 'Puglia', 'Sardegna',\n",
       "       'Sicilia', 'Toscana', 'Umbria', \"Valle d'Aosta\", 'Veneto'],\n",
       "      dtype=object)"
      ]
     },
     "execution_count": 623,
     "metadata": {},
     "output_type": "execute_result"
    }
   ],
   "source": [
    "deliveries.nome_area.unique()"
   ]
  },
  {
   "cell_type": "code",
   "execution_count": 624,
   "metadata": {},
   "outputs": [
    {
     "data": {
      "text/html": [
       "<div>\n",
       "<style scoped>\n",
       "    .dataframe tbody tr th:only-of-type {\n",
       "        vertical-align: middle;\n",
       "    }\n",
       "\n",
       "    .dataframe tbody tr th {\n",
       "        vertical-align: top;\n",
       "    }\n",
       "\n",
       "    .dataframe thead th {\n",
       "        text-align: right;\n",
       "    }\n",
       "</style>\n",
       "<table border=\"1\" class=\"dataframe\">\n",
       "  <thead>\n",
       "    <tr style=\"text-align: right;\">\n",
       "      <th></th>\n",
       "      <th>area</th>\n",
       "      <th>prima_dose</th>\n",
       "      <th>seconda_dose</th>\n",
       "      <th>totale_somministrato</th>\n",
       "      <th>data_consegna</th>\n",
       "      <th>nome_area</th>\n",
       "      <th>fornitore</th>\n",
       "      <th>numero_dosi</th>\n",
       "    </tr>\n",
       "  </thead>\n",
       "  <tbody>\n",
       "    <tr>\n",
       "      <th>0</th>\n",
       "      <td>Abruzzo</td>\n",
       "      <td>79581</td>\n",
       "      <td>26479</td>\n",
       "      <td>106060</td>\n",
       "      <td>2020-12-27</td>\n",
       "      <td>Abruzzo</td>\n",
       "      <td>Pfizer/BioNTech</td>\n",
       "      <td>135</td>\n",
       "    </tr>\n",
       "    <tr>\n",
       "      <th>1</th>\n",
       "      <td>Abruzzo</td>\n",
       "      <td>79581</td>\n",
       "      <td>26479</td>\n",
       "      <td>106060</td>\n",
       "      <td>2020-12-30</td>\n",
       "      <td>Abruzzo</td>\n",
       "      <td>Pfizer/BioNTech</td>\n",
       "      <td>7800</td>\n",
       "    </tr>\n",
       "    <tr>\n",
       "      <th>2</th>\n",
       "      <td>Abruzzo</td>\n",
       "      <td>79581</td>\n",
       "      <td>26479</td>\n",
       "      <td>106060</td>\n",
       "      <td>2021-01-05</td>\n",
       "      <td>Abruzzo</td>\n",
       "      <td>Pfizer/BioNTech</td>\n",
       "      <td>3900</td>\n",
       "    </tr>\n",
       "    <tr>\n",
       "      <th>3</th>\n",
       "      <td>Abruzzo</td>\n",
       "      <td>79581</td>\n",
       "      <td>26479</td>\n",
       "      <td>106060</td>\n",
       "      <td>2021-01-07</td>\n",
       "      <td>Abruzzo</td>\n",
       "      <td>Pfizer/BioNTech</td>\n",
       "      <td>3900</td>\n",
       "    </tr>\n",
       "    <tr>\n",
       "      <th>4</th>\n",
       "      <td>Abruzzo</td>\n",
       "      <td>79581</td>\n",
       "      <td>26479</td>\n",
       "      <td>106060</td>\n",
       "      <td>2021-01-11</td>\n",
       "      <td>Abruzzo</td>\n",
       "      <td>Pfizer/BioNTech</td>\n",
       "      <td>3900</td>\n",
       "    </tr>\n",
       "    <tr>\n",
       "      <th>...</th>\n",
       "      <td>...</td>\n",
       "      <td>...</td>\n",
       "      <td>...</td>\n",
       "      <td>...</td>\n",
       "      <td>...</td>\n",
       "      <td>...</td>\n",
       "      <td>...</td>\n",
       "      <td>...</td>\n",
       "    </tr>\n",
       "    <tr>\n",
       "      <th>452</th>\n",
       "      <td>Veneto</td>\n",
       "      <td>266012</td>\n",
       "      <td>130975</td>\n",
       "      <td>396987</td>\n",
       "      <td>2021-02-18</td>\n",
       "      <td>Veneto</td>\n",
       "      <td>Pfizer/BioNTech</td>\n",
       "      <td>49140</td>\n",
       "    </tr>\n",
       "    <tr>\n",
       "      <th>453</th>\n",
       "      <td>Veneto</td>\n",
       "      <td>266012</td>\n",
       "      <td>130975</td>\n",
       "      <td>396987</td>\n",
       "      <td>2021-02-20</td>\n",
       "      <td>Veneto</td>\n",
       "      <td>AstraZeneca</td>\n",
       "      <td>41300</td>\n",
       "    </tr>\n",
       "    <tr>\n",
       "      <th>454</th>\n",
       "      <td>Veneto</td>\n",
       "      <td>266012</td>\n",
       "      <td>130975</td>\n",
       "      <td>396987</td>\n",
       "      <td>2021-02-23</td>\n",
       "      <td>Veneto</td>\n",
       "      <td>Pfizer/BioNTech</td>\n",
       "      <td>50310</td>\n",
       "    </tr>\n",
       "    <tr>\n",
       "      <th>455</th>\n",
       "      <td>Veneto</td>\n",
       "      <td>266012</td>\n",
       "      <td>130975</td>\n",
       "      <td>396987</td>\n",
       "      <td>2021-02-27</td>\n",
       "      <td>Veneto</td>\n",
       "      <td>AstraZeneca</td>\n",
       "      <td>37300</td>\n",
       "    </tr>\n",
       "    <tr>\n",
       "      <th>456</th>\n",
       "      <td>Veneto</td>\n",
       "      <td>266012</td>\n",
       "      <td>130975</td>\n",
       "      <td>396987</td>\n",
       "      <td>2021-02-28</td>\n",
       "      <td>Veneto</td>\n",
       "      <td>Moderna</td>\n",
       "      <td>19700</td>\n",
       "    </tr>\n",
       "  </tbody>\n",
       "</table>\n",
       "<p>457 rows × 8 columns</p>\n",
       "</div>"
      ],
      "text/plain": [
       "        area  prima_dose  seconda_dose  totale_somministrato data_consegna  \\\n",
       "0    Abruzzo       79581         26479                106060    2020-12-27   \n",
       "1    Abruzzo       79581         26479                106060    2020-12-30   \n",
       "2    Abruzzo       79581         26479                106060    2021-01-05   \n",
       "3    Abruzzo       79581         26479                106060    2021-01-07   \n",
       "4    Abruzzo       79581         26479                106060    2021-01-11   \n",
       "..       ...         ...           ...                   ...           ...   \n",
       "452   Veneto      266012        130975                396987    2021-02-18   \n",
       "453   Veneto      266012        130975                396987    2021-02-20   \n",
       "454   Veneto      266012        130975                396987    2021-02-23   \n",
       "455   Veneto      266012        130975                396987    2021-02-27   \n",
       "456   Veneto      266012        130975                396987    2021-02-28   \n",
       "\n",
       "    nome_area        fornitore  numero_dosi  \n",
       "0     Abruzzo  Pfizer/BioNTech          135  \n",
       "1     Abruzzo  Pfizer/BioNTech         7800  \n",
       "2     Abruzzo  Pfizer/BioNTech         3900  \n",
       "3     Abruzzo  Pfizer/BioNTech         3900  \n",
       "4     Abruzzo  Pfizer/BioNTech         3900  \n",
       "..        ...              ...          ...  \n",
       "452    Veneto  Pfizer/BioNTech        49140  \n",
       "453    Veneto      AstraZeneca        41300  \n",
       "454    Veneto  Pfizer/BioNTech        50310  \n",
       "455    Veneto      AstraZeneca        37300  \n",
       "456    Veneto          Moderna        19700  \n",
       "\n",
       "[457 rows x 8 columns]"
      ]
     },
     "execution_count": 624,
     "metadata": {},
     "output_type": "execute_result"
    }
   ],
   "source": [
    "df_reg.merge(deliveries, left_on='area', right_on='nome_area')"
   ]
  },
  {
   "cell_type": "code",
   "execution_count": 625,
   "metadata": {},
   "outputs": [],
   "source": [
    "deliveries1 = deliveries.groupby('nome_area')[['numero_dosi']].sum().reset_index()"
   ]
  },
  {
   "cell_type": "code",
   "execution_count": 626,
   "metadata": {},
   "outputs": [],
   "source": [
    "del_merged = df_reg.merge(deliveries1, left_on='area', right_on='nome_area')\n",
    "del_merged.drop('nome_area', axis=1, inplace=True)\n",
    "del_merged['pct_somministrato'] = (del_merged.totale_somministrato/del_merged.numero_dosi).mul(100).round(2)"
   ]
  },
  {
   "cell_type": "code",
   "execution_count": 627,
   "metadata": {},
   "outputs": [
    {
     "data": {
      "text/html": [
       "<div>\n",
       "<style scoped>\n",
       "    .dataframe tbody tr th:only-of-type {\n",
       "        vertical-align: middle;\n",
       "    }\n",
       "\n",
       "    .dataframe tbody tr th {\n",
       "        vertical-align: top;\n",
       "    }\n",
       "\n",
       "    .dataframe thead th {\n",
       "        text-align: right;\n",
       "    }\n",
       "</style>\n",
       "<table border=\"1\" class=\"dataframe\">\n",
       "  <thead>\n",
       "    <tr style=\"text-align: right;\">\n",
       "      <th></th>\n",
       "      <th>area</th>\n",
       "      <th>prima_dose</th>\n",
       "      <th>seconda_dose</th>\n",
       "      <th>totale_somministrato</th>\n",
       "      <th>numero_dosi</th>\n",
       "      <th>pct_somministrato</th>\n",
       "    </tr>\n",
       "  </thead>\n",
       "  <tbody>\n",
       "    <tr>\n",
       "      <th>0</th>\n",
       "      <td>Abruzzo</td>\n",
       "      <td>79581</td>\n",
       "      <td>26479</td>\n",
       "      <td>106060</td>\n",
       "      <td>129950</td>\n",
       "      <td>81.62</td>\n",
       "    </tr>\n",
       "    <tr>\n",
       "      <th>1</th>\n",
       "      <td>Basilicata</td>\n",
       "      <td>36034</td>\n",
       "      <td>13587</td>\n",
       "      <td>49621</td>\n",
       "      <td>62275</td>\n",
       "      <td>79.68</td>\n",
       "    </tr>\n",
       "    <tr>\n",
       "      <th>2</th>\n",
       "      <td>Calabria</td>\n",
       "      <td>85649</td>\n",
       "      <td>40978</td>\n",
       "      <td>126627</td>\n",
       "      <td>193580</td>\n",
       "      <td>65.41</td>\n",
       "    </tr>\n",
       "    <tr>\n",
       "      <th>3</th>\n",
       "      <td>Campania</td>\n",
       "      <td>321889</td>\n",
       "      <td>145427</td>\n",
       "      <td>467316</td>\n",
       "      <td>534515</td>\n",
       "      <td>87.43</td>\n",
       "    </tr>\n",
       "    <tr>\n",
       "      <th>4</th>\n",
       "      <td>Emilia-Romagna</td>\n",
       "      <td>306631</td>\n",
       "      <td>151243</td>\n",
       "      <td>457874</td>\n",
       "      <td>559350</td>\n",
       "      <td>81.86</td>\n",
       "    </tr>\n",
       "  </tbody>\n",
       "</table>\n",
       "</div>"
      ],
      "text/plain": [
       "             area  prima_dose  seconda_dose  totale_somministrato  \\\n",
       "0         Abruzzo       79581         26479                106060   \n",
       "1      Basilicata       36034         13587                 49621   \n",
       "2        Calabria       85649         40978                126627   \n",
       "3        Campania      321889        145427                467316   \n",
       "4  Emilia-Romagna      306631        151243                457874   \n",
       "\n",
       "   numero_dosi  pct_somministrato  \n",
       "0       129950              81.62  \n",
       "1        62275              79.68  \n",
       "2       193580              65.41  \n",
       "3       534515              87.43  \n",
       "4       559350              81.86  "
      ]
     },
     "execution_count": 627,
     "metadata": {},
     "output_type": "execute_result"
    }
   ],
   "source": [
    "del_merged.head()"
   ]
  },
  {
   "cell_type": "code",
   "execution_count": 628,
   "metadata": {},
   "outputs": [],
   "source": [
    "media = np.mean(del_merged.pct_somministrato)"
   ]
  },
  {
   "cell_type": "code",
   "execution_count": 629,
   "metadata": {},
   "outputs": [
    {
     "data": {
      "image/png": "[encoded data removed]",
      "text/plain": [
       "<Figure size 1080x576 with 1 Axes>"
      ]
     },
     "metadata": {},
     "output_type": "display_data"
    }
   ],
   "source": [
    "plt.figure(figsize=(15,8))\n",
    "fig = sns.barplot(data=del_merged.sort_values('pct_somministrato'), x='area', y='pct_somministrato',\n",
    "           color='#1573B2')\n",
    "fig.axhline(media, ls='--', color='#E89429',\n",
    "           lw=2.5)\n",
    "fig.text(0.2,media+1,f'Media Nazionale: {media:.2f}',\n",
    "        fontsize=13)\n",
    "plt.suptitle('Percentuale Somministrata sul Consegnato', fontsize=20)\n",
    "plt.title('Elaborazione: @TomZ_UK - Dati: ISS')\n",
    "plt.xticks(rotation=35, fontsize=12)\n",
    "plt.ylim(40,100)\n",
    "\n",
    "plt.savefig('pct_somministrato_consegnato.png')"
   ]
  },
  {
   "cell_type": "code",
   "execution_count": 630,
   "metadata": {},
   "outputs": [
    {
     "data": {
      "application/vnd.plotly.v1+json": {
       "config": {
        "plotlyServerURL": "https://plot.ly"
       },
       "data": [
        {
         "alignmentgroup": "True",
         "hovertemplate": "area=%{x}<br>pct_somministrato=%{y}<br>prima_dose=%{marker.color}<extra></extra>",
         "legendgroup": "",
         "marker": {
          "color": [
           79581,
           36034,
           85649,
           321889,
           306631,
           361193,
           95150,
           527562,
           93547,
           18539,
           38683,
           31674,
           298686,
           252278,
           70656,
           285208,
           265007,
           47747,
           8951,
           266012
          ],
          "coloraxis": "coloraxis"
         },
         "name": "",
         "offsetgroup": "",
         "orientation": "v",
         "showlegend": false,
         "textposition": "auto",
         "type": "bar",
         "x": [
          "Abruzzo",
          "Basilicata",
          "Calabria",
          "Campania",
          "Emilia-Romagna",
          "Lazio",
          "Liguria",
          "Lombardia",
          "Marche",
          "Molise",
          "PAB",
          "PAT",
          "Piemonte",
          "Puglia",
          "Sardegna",
          "Sicilia",
          "Toscana",
          "Umbria",
          "Valle d'Aosta",
          "Veneto"
         ],
         "xaxis": "x",
         "y": [
          81.62,
          79.68,
          65.41,
          87.43,
          81.86,
          80.79,
          67.92,
          74.3,
          81.6,
          76.24,
          85.76,
          79.99,
          83.73,
          86.69,
          64.4,
          78.35,
          88.56,
          74.72,
          93.76,
          73.09
         ],
         "yaxis": "y"
        }
       ],
       "layout": {
        "barmode": "relative",
        "coloraxis": {
         "colorbar": {
          "title": {
           "text": "prima_dose"
          }
         },
         "colorscale": [
          [
           0,
           "#0d0887"
          ],
          [
           0.1111111111111111,
           "#46039f"
          ],
          [
           0.2222222222222222,
           "#7201a8"
          ],
          [
           0.3333333333333333,
           "#9c179e"
          ],
          [
           0.4444444444444444,
           "#bd3786"
          ],
          [
           0.5555555555555556,
           "#d8576b"
          ],
          [
           0.6666666666666666,
           "#ed7953"
          ],
          [
           0.7777777777777778,
           "#fb9f3a"
          ],
          [
           0.8888888888888888,
           "#fdca26"
          ],
          [
           1,
           "#f0f921"
          ]
         ]
        },
        "legend": {
         "tracegroupgap": 0
        },
        "margin": {
         "t": 60
        },
        "template": {
         "data": {
          "bar": [
           {
            "error_x": {
             "color": "#2a3f5f"
            },
            "error_y": {
             "color": "#2a3f5f"
            },
            "marker": {
             "line": {
              "color": "#E5ECF6",
              "width": 0.5
             }
            },
            "type": "bar"
           }
          ],
          "barpolar": [
           {
            "marker": {
             "line": {
              "color": "#E5ECF6",
              "width": 0.5
             }
            },
            "type": "barpolar"
           }
          ],
          "carpet": [
           {
            "aaxis": {
             "endlinecolor": "#2a3f5f",
             "gridcolor": "white",
             "linecolor": "white",
             "minorgridcolor": "white",
             "startlinecolor": "#2a3f5f"
            },
            "baxis": {
             "endlinecolor": "#2a3f5f",
             "gridcolor": "white",
             "linecolor": "white",
             "minorgridcolor": "white",
             "startlinecolor": "#2a3f5f"
            },
            "type": "carpet"
           }
          ],
          "choropleth": [
           {
            "colorbar": {
             "outlinewidth": 0,
             "ticks": ""
            },
            "type": "choropleth"
           }
          ],
          "contour": [
           {
            "colorbar": {
             "outlinewidth": 0,
             "ticks": ""
            },
            "colorscale": [
             [
              0,
              "#0d0887"
             ],
             [
              0.1111111111111111,
              "#46039f"
             ],
             [
              0.2222222222222222,
              "#7201a8"
             ],
             [
              0.3333333333333333,
              "#9c179e"
             ],
             [
              0.4444444444444444,
              "#bd3786"
             ],
             [
              0.5555555555555556,
              "#d8576b"
             ],
             [
              0.6666666666666666,
              "#ed7953"
             ],
             [
              0.7777777777777778,
              "#fb9f3a"
             ],
             [
              0.8888888888888888,
              "#fdca26"
             ],
             [
              1,
              "#f0f921"
             ]
            ],
            "type": "contour"
           }
          ],
          "contourcarpet": [
           {
            "colorbar": {
             "outlinewidth": 0,
             "ticks": ""
            },
            "type": "contourcarpet"
           }
          ],
          "heatmap": [
           {
            "colorbar": {
             "outlinewidth": 0,
             "ticks": ""
            },
            "colorscale": [
             [
              0,
              "#0d0887"
             ],
             [
              0.1111111111111111,
              "#46039f"
             ],
             [
              0.2222222222222222,
              "#7201a8"
             ],
             [
              0.3333333333333333,
              "#9c179e"
             ],
             [
              0.4444444444444444,
              "#bd3786"
             ],
             [
              0.5555555555555556,
              "#d8576b"
             ],
             [
              0.6666666666666666,
              "#ed7953"
             ],
             [
              0.7777777777777778,
              "#fb9f3a"
             ],
             [
              0.8888888888888888,
              "#fdca26"
             ],
             [
              1,
              "#f0f921"
             ]
            ],
            "type": "heatmap"
           }
          ],
          "heatmapgl": [
           {
            "colorbar": {
             "outlinewidth": 0,
             "ticks": ""
            },
            "colorscale": [
             [
              0,
              "#0d0887"
             ],
             [
              0.1111111111111111,
              "#46039f"
             ],
             [
              0.2222222222222222,
              "#7201a8"
             ],
             [
              0.3333333333333333,
              "#9c179e"
             ],
             [
              0.4444444444444444,
              "#bd3786"
             ],
             [
              0.5555555555555556,
              "#d8576b"
             ],
             [
              0.6666666666666666,
              "#ed7953"
             ],
             [
              0.7777777777777778,
              "#fb9f3a"
             ],
             [
              0.8888888888888888,
              "#fdca26"
             ],
             [
              1,
              "#f0f921"
             ]
            ],
            "type": "heatmapgl"
           }
          ],
          "histogram": [
           {
            "marker": {
             "colorbar": {
              "outlinewidth": 0,
              "ticks": ""
             }
            },
            "type": "histogram"
           }
          ],
          "histogram2d": [
           {
            "colorbar": {
             "outlinewidth": 0,
             "ticks": ""
            },
            "colorscale": [
             [
              0,
              "#0d0887"
             ],
             [
              0.1111111111111111,
              "#46039f"
             ],
             [
              0.2222222222222222,
              "#7201a8"
             ],
             [
              0.3333333333333333,
              "#9c179e"
             ],
             [
              0.4444444444444444,
              "#bd3786"
             ],
             [
              0.5555555555555556,
              "#d8576b"
             ],
             [
              0.6666666666666666,
              "#ed7953"
             ],
             [
              0.7777777777777778,
              "#fb9f3a"
             ],
             [
              0.8888888888888888,
              "#fdca26"
             ],
             [
              1,
              "#f0f921"
             ]
            ],
            "type": "histogram2d"
           }
          ],
          "histogram2dcontour": [
           {
            "colorbar": {
             "outlinewidth": 0,
             "ticks": ""
            },
            "colorscale": [
             [
              0,
              "#0d0887"
             ],
             [
              0.1111111111111111,
              "#46039f"
             ],
             [
              0.2222222222222222,
              "#7201a8"
             ],
             [
              0.3333333333333333,
              "#9c179e"
             ],
             [
              0.4444444444444444,
              "#bd3786"
             ],
             [
              0.5555555555555556,
              "#d8576b"
             ],
             [
              0.6666666666666666,
              "#ed7953"
             ],
             [
              0.7777777777777778,
              "#fb9f3a"
             ],
             [
              0.8888888888888888,
              "#fdca26"
             ],
             [
              1,
              "#f0f921"
             ]
            ],
            "type": "histogram2dcontour"
           }
          ],
          "mesh3d": [
           {
            "colorbar": {
             "outlinewidth": 0,
             "ticks": ""
            },
            "type": "mesh3d"
           }
          ],
          "parcoords": [
           {
            "line": {
             "colorbar": {
              "outlinewidth": 0,
              "ticks": ""
             }
            },
            "type": "parcoords"
           }
          ],
          "pie": [
           {
            "automargin": true,
            "type": "pie"
           }
          ],
          "scatter": [
           {
            "marker": {
             "colorbar": {
              "outlinewidth": 0,
              "ticks": ""
             }
            },
            "type": "scatter"
           }
          ],
          "scatter3d": [
           {
            "line": {
             "colorbar": {
              "outlinewidth": 0,
              "ticks": ""
             }
            },
            "marker": {
             "colorbar": {
              "outlinewidth": 0,
              "ticks": ""
             }
            },
            "type": "scatter3d"
           }
          ],
          "scattercarpet": [
           {
            "marker": {
             "colorbar": {
              "outlinewidth": 0,
              "ticks": ""
             }
            },
            "type": "scattercarpet"
           }
          ],
          "scattergeo": [
           {
            "marker": {
             "colorbar": {
              "outlinewidth": 0,
              "ticks": ""
             }
            },
            "type": "scattergeo"
           }
          ],
          "scattergl": [
           {
            "marker": {
             "colorbar": {
              "outlinewidth": 0,
              "ticks": ""
             }
            },
            "type": "scattergl"
           }
          ],
          "scattermapbox": [
           {
            "marker": {
             "colorbar": {
              "outlinewidth": 0,
              "ticks": ""
             }
            },
            "type": "scattermapbox"
           }
          ],
          "scatterpolar": [
           {
            "marker": {
             "colorbar": {
              "outlinewidth": 0,
              "ticks": ""
             }
            },
            "type": "scatterpolar"
           }
          ],
          "scatterpolargl": [
           {
            "marker": {
             "colorbar": {
              "outlinewidth": 0,
              "ticks": ""
             }
            },
            "type": "scatterpolargl"
           }
          ],
          "scatterternary": [
           {
            "marker": {
             "colorbar": {
              "outlinewidth": 0,
              "ticks": ""
             }
            },
            "type": "scatterternary"
           }
          ],
          "surface": [
           {
            "colorbar": {
             "outlinewidth": 0,
             "ticks": ""
            },
            "colorscale": [
             [
              0,
              "#0d0887"
             ],
             [
              0.1111111111111111,
              "#46039f"
             ],
             [
              0.2222222222222222,
              "#7201a8"
             ],
             [
              0.3333333333333333,
              "#9c179e"
             ],
             [
              0.4444444444444444,
              "#bd3786"
             ],
             [
              0.5555555555555556,
              "#d8576b"
             ],
             [
              0.6666666666666666,
              "#ed7953"
             ],
             [
              0.7777777777777778,
              "#fb9f3a"
             ],
             [
              0.8888888888888888,
              "#fdca26"
             ],
             [
              1,
              "#f0f921"
             ]
            ],
            "type": "surface"
           }
          ],
          "table": [
           {
            "cells": {
             "fill": {
              "color": "#EBF0F8"
             },
             "line": {
              "color": "white"
             }
            },
            "header": {
             "fill": {
              "color": "#C8D4E3"
             },
             "line": {
              "color": "white"
             }
            },
            "type": "table"
           }
          ]
         },
         "layout": {
          "annotationdefaults": {
           "arrowcolor": "#2a3f5f",
           "arrowhead": 0,
           "arrowwidth": 1
          },
          "coloraxis": {
           "colorbar": {
            "outlinewidth": 0,
            "ticks": ""
           }
          },
          "colorscale": {
           "diverging": [
            [
             0,
             "#8e0152"
            ],
            [
             0.1,
             "#c51b7d"
            ],
            [
             0.2,
             "#de77ae"
            ],
            [
             0.3,
             "#f1b6da"
            ],
            [
             0.4,
             "#fde0ef"
            ],
            [
             0.5,
             "#f7f7f7"
            ],
            [
             0.6,
             "#e6f5d0"
            ],
            [
             0.7,
             "#b8e186"
            ],
            [
             0.8,
             "#7fbc41"
            ],
            [
             0.9,
             "#4d9221"
            ],
            [
             1,
             "#276419"
            ]
           ],
           "sequential": [
            [
             0,
             "#0d0887"
            ],
            [
             0.1111111111111111,
             "#46039f"
            ],
            [
             0.2222222222222222,
             "#7201a8"
            ],
            [
             0.3333333333333333,
             "#9c179e"
            ],
            [
             0.4444444444444444,
             "#bd3786"
            ],
            [
             0.5555555555555556,
             "#d8576b"
            ],
            [
             0.6666666666666666,
             "#ed7953"
            ],
            [
             0.7777777777777778,
             "#fb9f3a"
            ],
            [
             0.8888888888888888,
             "#fdca26"
            ],
            [
             1,
             "#f0f921"
            ]
           ],
           "sequentialminus": [
            [
             0,
             "#0d0887"
            ],
            [
             0.1111111111111111,
             "#46039f"
            ],
            [
             0.2222222222222222,
             "#7201a8"
            ],
            [
             0.3333333333333333,
             "#9c179e"
            ],
            [
             0.4444444444444444,
             "#bd3786"
            ],
            [
             0.5555555555555556,
             "#d8576b"
            ],
            [
             0.6666666666666666,
             "#ed7953"
            ],
            [
             0.7777777777777778,
             "#fb9f3a"
            ],
            [
             0.8888888888888888,
             "#fdca26"
            ],
            [
             1,
             "#f0f921"
            ]
           ]
          },
          "colorway": [
           "#636efa",
           "#EF553B",
           "#00cc96",
           "#ab63fa",
           "#FFA15A",
           "#19d3f3",
           "#FF6692",
           "#B6E880",
           "#FF97FF",
           "#FECB52"
          ],
          "font": {
           "color": "#2a3f5f"
          },
          "geo": {
           "bgcolor": "white",
           "lakecolor": "white",
           "landcolor": "#E5ECF6",
           "showlakes": true,
           "showland": true,
           "subunitcolor": "white"
          },
          "hoverlabel": {
           "align": "left"
          },
          "hovermode": "closest",
          "mapbox": {
           "style": "light"
          },
          "paper_bgcolor": "white",
          "plot_bgcolor": "#E5ECF6",
          "polar": {
           "angularaxis": {
            "gridcolor": "white",
            "linecolor": "white",
            "ticks": ""
           },
           "bgcolor": "#E5ECF6",
           "radialaxis": {
            "gridcolor": "white",
            "linecolor": "white",
            "ticks": ""
           }
          },
          "scene": {
           "xaxis": {
            "backgroundcolor": "#E5ECF6",
            "gridcolor": "white",
            "gridwidth": 2,
            "linecolor": "white",
            "showbackground": true,
            "ticks": "",
            "zerolinecolor": "white"
           },
           "yaxis": {
            "backgroundcolor": "#E5ECF6",
            "gridcolor": "white",
            "gridwidth": 2,
            "linecolor": "white",
            "showbackground": true,
            "ticks": "",
            "zerolinecolor": "white"
           },
           "zaxis": {
            "backgroundcolor": "#E5ECF6",
            "gridcolor": "white",
            "gridwidth": 2,
            "linecolor": "white",
            "showbackground": true,
            "ticks": "",
            "zerolinecolor": "white"
           }
          },
          "shapedefaults": {
           "line": {
            "color": "#2a3f5f"
           }
          },
          "ternary": {
           "aaxis": {
            "gridcolor": "white",
            "linecolor": "white",
            "ticks": ""
           },
           "baxis": {
            "gridcolor": "white",
            "linecolor": "white",
            "ticks": ""
           },
           "bgcolor": "#E5ECF6",
           "caxis": {
            "gridcolor": "white",
            "linecolor": "white",
            "ticks": ""
           }
          },
          "title": {
           "x": 0.05
          },
          "xaxis": {
           "automargin": true,
           "gridcolor": "white",
           "linecolor": "white",
           "ticks": "",
           "title": {
            "standoff": 15
           },
           "zerolinecolor": "white",
           "zerolinewidth": 2
          },
          "yaxis": {
           "automargin": true,
           "gridcolor": "white",
           "linecolor": "white",
           "ticks": "",
           "title": {
            "standoff": 15
           },
           "zerolinecolor": "white",
           "zerolinewidth": 2
          }
         }
        },
        "xaxis": {
         "anchor": "y",
         "domain": [
          0,
          1
         ],
         "title": {
          "text": "area"
         }
        },
        "yaxis": {
         "anchor": "x",
         "domain": [
          0,
          1
         ],
         "title": {
          "text": "pct_somministrato"
         }
        }
       }
      },
      "text/html": [
       "<div>\n",
       "        \n",
       "        \n",
       "            <div id=\"c1206a67-5f16-4f21-ba6b-4dc13b4c8870\" class=\"plotly-graph-div\" style=\"height:525px; width:100%;\"></div>\n",
       "            <script type=\"text/javascript\">\n",
       "                require([\"plotly\"], function(Plotly) {\n",
       "                    window.PLOTLYENV=window.PLOTLYENV || {};\n",
       "                    \n",
       "                if (document.getElementById(\"c1206a67-5f16-4f21-ba6b-4dc13b4c8870\")) {\n",
       "                    Plotly.newPlot(\n",
       "                        'c1206a67-5f16-4f21-ba6b-4dc13b4c8870',\n",
       "                        [{\"alignmentgroup\": \"True\", \"hovertemplate\": \"area=%{x}<br>pct_somministrato=%{y}<br>prima_dose=%{marker.color}<extra></extra>\", \"legendgroup\": \"\", \"marker\": {\"color\": [79581, 36034, 85649, 321889, 306631, 361193, 95150, 527562, 93547, 18539, 38683, 31674, 298686, 252278, 70656, 285208, 265007, 47747, 8951, 266012], \"coloraxis\": \"coloraxis\"}, \"name\": \"\", \"offsetgroup\": \"\", \"orientation\": \"v\", \"showlegend\": false, \"textposition\": \"auto\", \"type\": \"bar\", \"x\": [\"Abruzzo\", \"Basilicata\", \"Calabria\", \"Campania\", \"Emilia-Romagna\", \"Lazio\", \"Liguria\", \"Lombardia\", \"Marche\", \"Molise\", \"PAB\", \"PAT\", \"Piemonte\", \"Puglia\", \"Sardegna\", \"Sicilia\", \"Toscana\", \"Umbria\", \"Valle d'Aosta\", \"Veneto\"], \"xaxis\": \"x\", \"y\": [81.62, 79.68, 65.41, 87.43, 81.86, 80.79, 67.92, 74.3, 81.6, 76.24, 85.76, 79.99, 83.73, 86.69, 64.4, 78.35, 88.56, 74.72, 93.76, 73.09], \"yaxis\": \"y\"}],\n",
       "                        {\"barmode\": \"relative\", \"coloraxis\": {\"colorbar\": {\"title\": {\"text\": \"prima_dose\"}}, \"colorscale\": [[0.0, \"#0d0887\"], [0.1111111111111111, \"#46039f\"], [0.2222222222222222, \"#7201a8\"], [0.3333333333333333, \"#9c179e\"], [0.4444444444444444, \"#bd3786\"], [0.5555555555555556, \"#d8576b\"], [0.6666666666666666, \"#ed7953\"], [0.7777777777777778, \"#fb9f3a\"], [0.8888888888888888, \"#fdca26\"], [1.0, \"#f0f921\"]]}, \"legend\": {\"tracegroupgap\": 0}, \"margin\": {\"t\": 60}, \"template\": {\"data\": {\"bar\": [{\"error_x\": {\"color\": \"#2a3f5f\"}, \"error_y\": {\"color\": \"#2a3f5f\"}, \"marker\": {\"line\": {\"color\": \"#E5ECF6\", \"width\": 0.5}}, \"type\": \"bar\"}], \"barpolar\": [{\"marker\": {\"line\": {\"color\": \"#E5ECF6\", \"width\": 0.5}}, \"type\": \"barpolar\"}], \"carpet\": [{\"aaxis\": {\"endlinecolor\": \"#2a3f5f\", \"gridcolor\": \"white\", \"linecolor\": \"white\", \"minorgridcolor\": \"white\", \"startlinecolor\": \"#2a3f5f\"}, \"baxis\": {\"endlinecolor\": \"#2a3f5f\", \"gridcolor\": \"white\", \"linecolor\": \"white\", \"minorgridcolor\": \"white\", \"startlinecolor\": \"#2a3f5f\"}, \"type\": \"carpet\"}], \"choropleth\": [{\"colorbar\": {\"outlinewidth\": 0, \"ticks\": \"\"}, \"type\": \"choropleth\"}], \"contour\": [{\"colorbar\": {\"outlinewidth\": 0, \"ticks\": \"\"}, \"colorscale\": [[0.0, \"#0d0887\"], [0.1111111111111111, \"#46039f\"], [0.2222222222222222, \"#7201a8\"], [0.3333333333333333, \"#9c179e\"], [0.4444444444444444, \"#bd3786\"], [0.5555555555555556, \"#d8576b\"], [0.6666666666666666, \"#ed7953\"], [0.7777777777777778, \"#fb9f3a\"], [0.8888888888888888, \"#fdca26\"], [1.0, \"#f0f921\"]], \"type\": \"contour\"}], \"contourcarpet\": [{\"colorbar\": {\"outlinewidth\": 0, \"ticks\": \"\"}, \"type\": \"contourcarpet\"}], \"heatmap\": [{\"colorbar\": {\"outlinewidth\": 0, \"ticks\": \"\"}, \"colorscale\": [[0.0, \"#0d0887\"], [0.1111111111111111, \"#46039f\"], [0.2222222222222222, \"#7201a8\"], [0.3333333333333333, \"#9c179e\"], [0.4444444444444444, \"#bd3786\"], [0.5555555555555556, \"#d8576b\"], [0.6666666666666666, \"#ed7953\"], [0.7777777777777778, \"#fb9f3a\"], [0.8888888888888888, \"#fdca26\"], [1.0, \"#f0f921\"]], \"type\": \"heatmap\"}], \"heatmapgl\": [{\"colorbar\": {\"outlinewidth\": 0, \"ticks\": \"\"}, \"colorscale\": [[0.0, \"#0d0887\"], [0.1111111111111111, \"#46039f\"], [0.2222222222222222, \"#7201a8\"], [0.3333333333333333, \"#9c179e\"], [0.4444444444444444, \"#bd3786\"], [0.5555555555555556, \"#d8576b\"], [0.6666666666666666, \"#ed7953\"], [0.7777777777777778, \"#fb9f3a\"], [0.8888888888888888, \"#fdca26\"], [1.0, \"#f0f921\"]], \"type\": \"heatmapgl\"}], \"histogram\": [{\"marker\": {\"colorbar\": {\"outlinewidth\": 0, \"ticks\": \"\"}}, \"type\": \"histogram\"}], \"histogram2d\": [{\"colorbar\": {\"outlinewidth\": 0, \"ticks\": \"\"}, \"colorscale\": [[0.0, \"#0d0887\"], [0.1111111111111111, \"#46039f\"], [0.2222222222222222, \"#7201a8\"], [0.3333333333333333, \"#9c179e\"], [0.4444444444444444, \"#bd3786\"], [0.5555555555555556, \"#d8576b\"], [0.6666666666666666, \"#ed7953\"], [0.7777777777777778, \"#fb9f3a\"], [0.8888888888888888, \"#fdca26\"], [1.0, \"#f0f921\"]], \"type\": \"histogram2d\"}], \"histogram2dcontour\": [{\"colorbar\": {\"outlinewidth\": 0, \"ticks\": \"\"}, \"colorscale\": [[0.0, \"#0d0887\"], [0.1111111111111111, \"#46039f\"], [0.2222222222222222, \"#7201a8\"], [0.3333333333333333, \"#9c179e\"], [0.4444444444444444, \"#bd3786\"], [0.5555555555555556, \"#d8576b\"], [0.6666666666666666, \"#ed7953\"], [0.7777777777777778, \"#fb9f3a\"], [0.8888888888888888, \"#fdca26\"], [1.0, \"#f0f921\"]], \"type\": \"histogram2dcontour\"}], \"mesh3d\": [{\"colorbar\": {\"outlinewidth\": 0, \"ticks\": \"\"}, \"type\": \"mesh3d\"}], \"parcoords\": [{\"line\": {\"colorbar\": {\"outlinewidth\": 0, \"ticks\": \"\"}}, \"type\": \"parcoords\"}], \"pie\": [{\"automargin\": true, \"type\": \"pie\"}], \"scatter\": [{\"marker\": {\"colorbar\": {\"outlinewidth\": 0, \"ticks\": \"\"}}, \"type\": \"scatter\"}], \"scatter3d\": [{\"line\": {\"colorbar\": {\"outlinewidth\": 0, \"ticks\": \"\"}}, \"marker\": {\"colorbar\": {\"outlinewidth\": 0, \"ticks\": \"\"}}, \"type\": \"scatter3d\"}], \"scattercarpet\": [{\"marker\": {\"colorbar\": {\"outlinewidth\": 0, \"ticks\": \"\"}}, \"type\": \"scattercarpet\"}], \"scattergeo\": [{\"marker\": {\"colorbar\": {\"outlinewidth\": 0, \"ticks\": \"\"}}, \"type\": \"scattergeo\"}], \"scattergl\": [{\"marker\": {\"colorbar\": {\"outlinewidth\": 0, \"ticks\": \"\"}}, \"type\": \"scattergl\"}], \"scattermapbox\": [{\"marker\": {\"colorbar\": {\"outlinewidth\": 0, \"ticks\": \"\"}}, \"type\": \"scattermapbox\"}], \"scatterpolar\": [{\"marker\": {\"colorbar\": {\"outlinewidth\": 0, \"ticks\": \"\"}}, \"type\": \"scatterpolar\"}], \"scatterpolargl\": [{\"marker\": {\"colorbar\": {\"outlinewidth\": 0, \"ticks\": \"\"}}, \"type\": \"scatterpolargl\"}], \"scatterternary\": [{\"marker\": {\"colorbar\": {\"outlinewidth\": 0, \"ticks\": \"\"}}, \"type\": \"scatterternary\"}], \"surface\": [{\"colorbar\": {\"outlinewidth\": 0, \"ticks\": \"\"}, \"colorscale\": [[0.0, \"#0d0887\"], [0.1111111111111111, \"#46039f\"], [0.2222222222222222, \"#7201a8\"], [0.3333333333333333, \"#9c179e\"], [0.4444444444444444, \"#bd3786\"], [0.5555555555555556, \"#d8576b\"], [0.6666666666666666, \"#ed7953\"], [0.7777777777777778, \"#fb9f3a\"], [0.8888888888888888, \"#fdca26\"], [1.0, \"#f0f921\"]], \"type\": \"surface\"}], \"table\": [{\"cells\": {\"fill\": {\"color\": \"#EBF0F8\"}, \"line\": {\"color\": \"white\"}}, \"header\": {\"fill\": {\"color\": \"#C8D4E3\"}, \"line\": {\"color\": \"white\"}}, \"type\": \"table\"}]}, \"layout\": {\"annotationdefaults\": {\"arrowcolor\": \"#2a3f5f\", \"arrowhead\": 0, \"arrowwidth\": 1}, \"coloraxis\": {\"colorbar\": {\"outlinewidth\": 0, \"ticks\": \"\"}}, \"colorscale\": {\"diverging\": [[0, \"#8e0152\"], [0.1, \"#c51b7d\"], [0.2, \"#de77ae\"], [0.3, \"#f1b6da\"], [0.4, \"#fde0ef\"], [0.5, \"#f7f7f7\"], [0.6, \"#e6f5d0\"], [0.7, \"#b8e186\"], [0.8, \"#7fbc41\"], [0.9, \"#4d9221\"], [1, \"#276419\"]], \"sequential\": [[0.0, \"#0d0887\"], [0.1111111111111111, \"#46039f\"], [0.2222222222222222, \"#7201a8\"], [0.3333333333333333, \"#9c179e\"], [0.4444444444444444, \"#bd3786\"], [0.5555555555555556, \"#d8576b\"], [0.6666666666666666, \"#ed7953\"], [0.7777777777777778, \"#fb9f3a\"], [0.8888888888888888, \"#fdca26\"], [1.0, \"#f0f921\"]], \"sequentialminus\": [[0.0, \"#0d0887\"], [0.1111111111111111, \"#46039f\"], [0.2222222222222222, \"#7201a8\"], [0.3333333333333333, \"#9c179e\"], [0.4444444444444444, \"#bd3786\"], [0.5555555555555556, \"#d8576b\"], [0.6666666666666666, \"#ed7953\"], [0.7777777777777778, \"#fb9f3a\"], [0.8888888888888888, \"#fdca26\"], [1.0, \"#f0f921\"]]}, \"colorway\": [\"#636efa\", \"#EF553B\", \"#00cc96\", \"#ab63fa\", \"#FFA15A\", \"#19d3f3\", \"#FF6692\", \"#B6E880\", \"#FF97FF\", \"#FECB52\"], \"font\": {\"color\": \"#2a3f5f\"}, \"geo\": {\"bgcolor\": \"white\", \"lakecolor\": \"white\", \"landcolor\": \"#E5ECF6\", \"showlakes\": true, \"showland\": true, \"subunitcolor\": \"white\"}, \"hoverlabel\": {\"align\": \"left\"}, \"hovermode\": \"closest\", \"mapbox\": {\"style\": \"light\"}, \"paper_bgcolor\": \"white\", \"plot_bgcolor\": \"#E5ECF6\", \"polar\": {\"angularaxis\": {\"gridcolor\": \"white\", \"linecolor\": \"white\", \"ticks\": \"\"}, \"bgcolor\": \"#E5ECF6\", \"radialaxis\": {\"gridcolor\": \"white\", \"linecolor\": \"white\", \"ticks\": \"\"}}, \"scene\": {\"xaxis\": {\"backgroundcolor\": \"#E5ECF6\", \"gridcolor\": \"white\", \"gridwidth\": 2, \"linecolor\": \"white\", \"showbackground\": true, \"ticks\": \"\", \"zerolinecolor\": \"white\"}, \"yaxis\": {\"backgroundcolor\": \"#E5ECF6\", \"gridcolor\": \"white\", \"gridwidth\": 2, \"linecolor\": \"white\", \"showbackground\": true, \"ticks\": \"\", \"zerolinecolor\": \"white\"}, \"zaxis\": {\"backgroundcolor\": \"#E5ECF6\", \"gridcolor\": \"white\", \"gridwidth\": 2, \"linecolor\": \"white\", \"showbackground\": true, \"ticks\": \"\", \"zerolinecolor\": \"white\"}}, \"shapedefaults\": {\"line\": {\"color\": \"#2a3f5f\"}}, \"ternary\": {\"aaxis\": {\"gridcolor\": \"white\", \"linecolor\": \"white\", \"ticks\": \"\"}, \"baxis\": {\"gridcolor\": \"white\", \"linecolor\": \"white\", \"ticks\": \"\"}, \"bgcolor\": \"#E5ECF6\", \"caxis\": {\"gridcolor\": \"white\", \"linecolor\": \"white\", \"ticks\": \"\"}}, \"title\": {\"x\": 0.05}, \"xaxis\": {\"automargin\": true, \"gridcolor\": \"white\", \"linecolor\": \"white\", \"ticks\": \"\", \"title\": {\"standoff\": 15}, \"zerolinecolor\": \"white\", \"zerolinewidth\": 2}, \"yaxis\": {\"automargin\": true, \"gridcolor\": \"white\", \"linecolor\": \"white\", \"ticks\": \"\", \"title\": {\"standoff\": 15}, \"zerolinecolor\": \"white\", \"zerolinewidth\": 2}}}, \"xaxis\": {\"anchor\": \"y\", \"domain\": [0.0, 1.0], \"title\": {\"text\": \"area\"}}, \"yaxis\": {\"anchor\": \"x\", \"domain\": [0.0, 1.0], \"title\": {\"text\": \"pct_somministrato\"}}},\n",
       "                        {\"responsive\": true}\n",
       "                    ).then(function(){\n",
       "                            \n",
       "var gd = document.getElementById('c1206a67-5f16-4f21-ba6b-4dc13b4c8870');\n",
       "var x = new MutationObserver(function (mutations, observer) {{\n",
       "        var display = window.getComputedStyle(gd).display;\n",
       "        if (!display || display === 'none') {{\n",
       "            console.log([gd, 'removed!']);\n",
       "            Plotly.purge(gd);\n",
       "            observer.disconnect();\n",
       "        }}\n",
       "}});\n",
       "\n",
       "// Listen for the removal of the full notebook cells\n",
       "var notebookContainer = gd.closest('#notebook-container');\n",
       "if (notebookContainer) {{\n",
       "    x.observe(notebookContainer, {childList: true});\n",
       "}}\n",
       "\n",
       "// Listen for the clearing of the current output cell\n",
       "var outputEl = gd.closest('.output');\n",
       "if (outputEl) {{\n",
       "    x.observe(outputEl, {childList: true});\n",
       "}}\n",
       "\n",
       "                        })\n",
       "                };\n",
       "                });\n",
       "            </script>\n",
       "        </div>"
      ]
     },
     "metadata": {},
     "output_type": "display_data"
    }
   ],
   "source": [
    "px.bar(del_merged,\n",
    "      x='area',\n",
    "      y='pct_somministrato',\n",
    "      color='prima_dose')"
   ]
  },
  {
   "cell_type": "markdown",
   "metadata": {},
   "source": [
    "# Suppliers"
   ]
  },
  {
   "cell_type": "code",
   "execution_count": 631,
   "metadata": {},
   "outputs": [
    {
     "data": {
      "text/html": [
       "<div>\n",
       "<style scoped>\n",
       "    .dataframe tbody tr th:only-of-type {\n",
       "        vertical-align: middle;\n",
       "    }\n",
       "\n",
       "    .dataframe tbody tr th {\n",
       "        vertical-align: top;\n",
       "    }\n",
       "\n",
       "    .dataframe thead th {\n",
       "        text-align: right;\n",
       "    }\n",
       "</style>\n",
       "<table border=\"1\" class=\"dataframe\">\n",
       "  <thead>\n",
       "    <tr style=\"text-align: right;\">\n",
       "      <th></th>\n",
       "      <th>data_somministrazione</th>\n",
       "      <th>fornitore</th>\n",
       "      <th>area</th>\n",
       "      <th>fascia_anagrafica</th>\n",
       "      <th>sesso_maschile</th>\n",
       "      <th>sesso_femminile</th>\n",
       "      <th>categoria_operatori_sanitari_sociosanitari</th>\n",
       "      <th>categoria_personale_non_sanitario</th>\n",
       "      <th>categoria_ospiti_rsa</th>\n",
       "      <th>categoria_over80</th>\n",
       "      <th>categoria_forze_armate</th>\n",
       "      <th>categoria_personale_scolastico</th>\n",
       "      <th>prima_dose</th>\n",
       "      <th>seconda_dose</th>\n",
       "      <th>codice_NUTS1</th>\n",
       "      <th>codice_NUTS2</th>\n",
       "      <th>codice_regione_ISTAT</th>\n",
       "      <th>nome_area</th>\n",
       "      <th>giorno_campagna</th>\n",
       "      <th>prima_dose_totale_giorno</th>\n",
       "    </tr>\n",
       "  </thead>\n",
       "  <tbody>\n",
       "    <tr>\n",
       "      <th>0</th>\n",
       "      <td>2021-01-01</td>\n",
       "      <td>Pfizer/BioNTech</td>\n",
       "      <td>SIC</td>\n",
       "      <td>60-69</td>\n",
       "      <td>90</td>\n",
       "      <td>42</td>\n",
       "      <td>115</td>\n",
       "      <td>17</td>\n",
       "      <td>0</td>\n",
       "      <td>0</td>\n",
       "      <td>0</td>\n",
       "      <td>0</td>\n",
       "      <td>132</td>\n",
       "      <td>0</td>\n",
       "      <td>ITG</td>\n",
       "      <td>ITG1</td>\n",
       "      <td>19</td>\n",
       "      <td>Sicilia</td>\n",
       "      <td>1</td>\n",
       "      <td>11038</td>\n",
       "    </tr>\n",
       "    <tr>\n",
       "      <th>1</th>\n",
       "      <td>2021-01-01</td>\n",
       "      <td>Pfizer/BioNTech</td>\n",
       "      <td>SAR</td>\n",
       "      <td>60-69</td>\n",
       "      <td>8</td>\n",
       "      <td>0</td>\n",
       "      <td>8</td>\n",
       "      <td>0</td>\n",
       "      <td>0</td>\n",
       "      <td>0</td>\n",
       "      <td>0</td>\n",
       "      <td>0</td>\n",
       "      <td>8</td>\n",
       "      <td>0</td>\n",
       "      <td>ITG</td>\n",
       "      <td>ITG2</td>\n",
       "      <td>20</td>\n",
       "      <td>Sardegna</td>\n",
       "      <td>1</td>\n",
       "      <td>11038</td>\n",
       "    </tr>\n",
       "    <tr>\n",
       "      <th>2</th>\n",
       "      <td>2021-01-01</td>\n",
       "      <td>Pfizer/BioNTech</td>\n",
       "      <td>SIC</td>\n",
       "      <td>50-59</td>\n",
       "      <td>100</td>\n",
       "      <td>91</td>\n",
       "      <td>168</td>\n",
       "      <td>23</td>\n",
       "      <td>0</td>\n",
       "      <td>0</td>\n",
       "      <td>0</td>\n",
       "      <td>0</td>\n",
       "      <td>191</td>\n",
       "      <td>0</td>\n",
       "      <td>ITG</td>\n",
       "      <td>ITG1</td>\n",
       "      <td>19</td>\n",
       "      <td>Sicilia</td>\n",
       "      <td>1</td>\n",
       "      <td>11038</td>\n",
       "    </tr>\n",
       "    <tr>\n",
       "      <th>3</th>\n",
       "      <td>2021-01-01</td>\n",
       "      <td>Pfizer/BioNTech</td>\n",
       "      <td>SIC</td>\n",
       "      <td>40-49</td>\n",
       "      <td>95</td>\n",
       "      <td>84</td>\n",
       "      <td>163</td>\n",
       "      <td>16</td>\n",
       "      <td>0</td>\n",
       "      <td>0</td>\n",
       "      <td>0</td>\n",
       "      <td>0</td>\n",
       "      <td>179</td>\n",
       "      <td>0</td>\n",
       "      <td>ITG</td>\n",
       "      <td>ITG1</td>\n",
       "      <td>19</td>\n",
       "      <td>Sicilia</td>\n",
       "      <td>1</td>\n",
       "      <td>11038</td>\n",
       "    </tr>\n",
       "    <tr>\n",
       "      <th>4</th>\n",
       "      <td>2021-01-01</td>\n",
       "      <td>Pfizer/BioNTech</td>\n",
       "      <td>SIC</td>\n",
       "      <td>30-39</td>\n",
       "      <td>81</td>\n",
       "      <td>85</td>\n",
       "      <td>153</td>\n",
       "      <td>13</td>\n",
       "      <td>0</td>\n",
       "      <td>0</td>\n",
       "      <td>0</td>\n",
       "      <td>0</td>\n",
       "      <td>166</td>\n",
       "      <td>0</td>\n",
       "      <td>ITG</td>\n",
       "      <td>ITG1</td>\n",
       "      <td>19</td>\n",
       "      <td>Sicilia</td>\n",
       "      <td>1</td>\n",
       "      <td>11038</td>\n",
       "    </tr>\n",
       "  </tbody>\n",
       "</table>\n",
       "</div>"
      ],
      "text/plain": [
       "  data_somministrazione        fornitore area fascia_anagrafica  \\\n",
       "0            2021-01-01  Pfizer/BioNTech  SIC             60-69   \n",
       "1            2021-01-01  Pfizer/BioNTech  SAR             60-69   \n",
       "2            2021-01-01  Pfizer/BioNTech  SIC             50-59   \n",
       "3            2021-01-01  Pfizer/BioNTech  SIC             40-49   \n",
       "4            2021-01-01  Pfizer/BioNTech  SIC             30-39   \n",
       "\n",
       "   sesso_maschile  sesso_femminile  \\\n",
       "0              90               42   \n",
       "1               8                0   \n",
       "2             100               91   \n",
       "3              95               84   \n",
       "4              81               85   \n",
       "\n",
       "   categoria_operatori_sanitari_sociosanitari  \\\n",
       "0                                         115   \n",
       "1                                           8   \n",
       "2                                         168   \n",
       "3                                         163   \n",
       "4                                         153   \n",
       "\n",
       "   categoria_personale_non_sanitario  categoria_ospiti_rsa  categoria_over80  \\\n",
       "0                                 17                     0                 0   \n",
       "1                                  0                     0                 0   \n",
       "2                                 23                     0                 0   \n",
       "3                                 16                     0                 0   \n",
       "4                                 13                     0                 0   \n",
       "\n",
       "   categoria_forze_armate  categoria_personale_scolastico  prima_dose  \\\n",
       "0                       0                               0         132   \n",
       "1                       0                               0           8   \n",
       "2                       0                               0         191   \n",
       "3                       0                               0         179   \n",
       "4                       0                               0         166   \n",
       "\n",
       "   seconda_dose codice_NUTS1 codice_NUTS2  codice_regione_ISTAT nome_area  \\\n",
       "0             0          ITG         ITG1                    19   Sicilia   \n",
       "1             0          ITG         ITG2                    20  Sardegna   \n",
       "2             0          ITG         ITG1                    19   Sicilia   \n",
       "3             0          ITG         ITG1                    19   Sicilia   \n",
       "4             0          ITG         ITG1                    19   Sicilia   \n",
       "\n",
       "   giorno_campagna  prima_dose_totale_giorno  \n",
       "0                1                     11038  \n",
       "1                1                     11038  \n",
       "2                1                     11038  \n",
       "3                1                     11038  \n",
       "4                1                     11038  "
      ]
     },
     "execution_count": 631,
     "metadata": {},
     "output_type": "execute_result"
    }
   ],
   "source": [
    "df.head()"
   ]
  },
  {
   "cell_type": "code",
   "execution_count": 632,
   "metadata": {},
   "outputs": [],
   "source": [
    "df_fornitore = df.groupby(['fornitore', 'nome_area'])[['prima_dose','seconda_dose']].sum().reset_index()\n",
    "df_fornitore['totale'] = (df_fornitore.prima_dose + df_fornitore.seconda_dose)\n"
   ]
  },
  {
   "cell_type": "code",
   "execution_count": 633,
   "metadata": {},
   "outputs": [],
   "source": [
    "deliveries_fornitore = deliveries.groupby(['fornitore', 'nome_area'])['numero_dosi'].sum().reset_index()"
   ]
  },
  {
   "cell_type": "code",
   "execution_count": 634,
   "metadata": {},
   "outputs": [],
   "source": [
    "df_fornitore.replace({'Provincia Autonoma Trento':'PAT','Provincia Autonoma Bolzano / Bozen':'PAB',\"Valle d'Aosta / Vallée d'Aoste\":\"Valle d'Aosta\"},\n",
    "                  \n",
    "                 inplace=True)"
   ]
  },
  {
   "cell_type": "code",
   "execution_count": 635,
   "metadata": {},
   "outputs": [
    {
     "data": {
      "text/plain": [
       "array(['Abruzzo', 'Basilicata', 'Calabria', 'Campania', 'Emilia-Romagna',\n",
       "       'Friuli-Venezia Giulia', 'Lazio', 'Liguria', 'Lombardia', 'Marche',\n",
       "       'Molise', 'PAB', 'PAT', 'Piemonte', 'Puglia', 'Sardegna',\n",
       "       'Sicilia', 'Toscana', 'Umbria', \"Valle d'Aosta\", 'Veneto'],\n",
       "      dtype=object)"
      ]
     },
     "execution_count": 635,
     "metadata": {},
     "output_type": "execute_result"
    }
   ],
   "source": [
    "deliveries_fornitore.nome_area.unique()"
   ]
  },
  {
   "cell_type": "code",
   "execution_count": 636,
   "metadata": {},
   "outputs": [
    {
     "data": {
      "text/html": [
       "<div>\n",
       "<style scoped>\n",
       "    .dataframe tbody tr th:only-of-type {\n",
       "        vertical-align: middle;\n",
       "    }\n",
       "\n",
       "    .dataframe tbody tr th {\n",
       "        vertical-align: top;\n",
       "    }\n",
       "\n",
       "    .dataframe thead th {\n",
       "        text-align: right;\n",
       "    }\n",
       "</style>\n",
       "<table border=\"1\" class=\"dataframe\">\n",
       "  <thead>\n",
       "    <tr style=\"text-align: right;\">\n",
       "      <th></th>\n",
       "      <th>fornitore</th>\n",
       "      <th>nome_area</th>\n",
       "      <th>totale</th>\n",
       "      <th>numero_dosi</th>\n",
       "    </tr>\n",
       "  </thead>\n",
       "  <tbody>\n",
       "    <tr>\n",
       "      <th>0</th>\n",
       "      <td>AstraZeneca</td>\n",
       "      <td>Abruzzo</td>\n",
       "      <td>16957</td>\n",
       "      <td>32400</td>\n",
       "    </tr>\n",
       "    <tr>\n",
       "      <th>1</th>\n",
       "      <td>AstraZeneca</td>\n",
       "      <td>Basilicata</td>\n",
       "      <td>1990</td>\n",
       "      <td>13700</td>\n",
       "    </tr>\n",
       "    <tr>\n",
       "      <th>2</th>\n",
       "      <td>AstraZeneca</td>\n",
       "      <td>Calabria</td>\n",
       "      <td>6739</td>\n",
       "      <td>47000</td>\n",
       "    </tr>\n",
       "    <tr>\n",
       "      <th>3</th>\n",
       "      <td>AstraZeneca</td>\n",
       "      <td>Campania</td>\n",
       "      <td>79324</td>\n",
       "      <td>145500</td>\n",
       "    </tr>\n",
       "    <tr>\n",
       "      <th>4</th>\n",
       "      <td>AstraZeneca</td>\n",
       "      <td>Emilia-Romagna</td>\n",
       "      <td>28753</td>\n",
       "      <td>108000</td>\n",
       "    </tr>\n",
       "  </tbody>\n",
       "</table>\n",
       "</div>"
      ],
      "text/plain": [
       "     fornitore       nome_area  totale  numero_dosi\n",
       "0  AstraZeneca         Abruzzo   16957        32400\n",
       "1  AstraZeneca      Basilicata    1990        13700\n",
       "2  AstraZeneca        Calabria    6739        47000\n",
       "3  AstraZeneca        Campania   79324       145500\n",
       "4  AstraZeneca  Emilia-Romagna   28753       108000"
      ]
     },
     "execution_count": 636,
     "metadata": {},
     "output_type": "execute_result"
    }
   ],
   "source": [
    "df3 = df_fornitore.merge(deliveries_fornitore, on=['nome_area','fornitore'],\n",
    "            how='inner')[['fornitore','nome_area','totale','numero_dosi']]\n",
    "df3.head()"
   ]
  },
  {
   "cell_type": "code",
   "execution_count": 637,
   "metadata": {},
   "outputs": [],
   "source": [
    "df3['pct_injected'] = (df3.totale/df3.numero_dosi).mul(100).round(2)"
   ]
  },
  {
   "cell_type": "code",
   "execution_count": 639,
   "metadata": {},
   "outputs": [
    {
     "data": {
      "text/html": [
       "<div>\n",
       "<style scoped>\n",
       "    .dataframe tbody tr th:only-of-type {\n",
       "        vertical-align: middle;\n",
       "    }\n",
       "\n",
       "    .dataframe tbody tr th {\n",
       "        vertical-align: top;\n",
       "    }\n",
       "\n",
       "    .dataframe thead th {\n",
       "        text-align: right;\n",
       "    }\n",
       "</style>\n",
       "<table border=\"1\" class=\"dataframe\">\n",
       "  <thead>\n",
       "    <tr style=\"text-align: right;\">\n",
       "      <th></th>\n",
       "      <th>fornitore</th>\n",
       "      <th>nome_area</th>\n",
       "      <th>totale</th>\n",
       "      <th>numero_dosi</th>\n",
       "      <th>pct_injected</th>\n",
       "    </tr>\n",
       "  </thead>\n",
       "  <tbody>\n",
       "    <tr>\n",
       "      <th>0</th>\n",
       "      <td>AstraZeneca</td>\n",
       "      <td>Abruzzo</td>\n",
       "      <td>16957</td>\n",
       "      <td>32400</td>\n",
       "      <td>52.34</td>\n",
       "    </tr>\n",
       "    <tr>\n",
       "      <th>1</th>\n",
       "      <td>AstraZeneca</td>\n",
       "      <td>Basilicata</td>\n",
       "      <td>1990</td>\n",
       "      <td>13700</td>\n",
       "      <td>14.53</td>\n",
       "    </tr>\n",
       "    <tr>\n",
       "      <th>2</th>\n",
       "      <td>AstraZeneca</td>\n",
       "      <td>Calabria</td>\n",
       "      <td>6739</td>\n",
       "      <td>47000</td>\n",
       "      <td>14.34</td>\n",
       "    </tr>\n",
       "    <tr>\n",
       "      <th>3</th>\n",
       "      <td>AstraZeneca</td>\n",
       "      <td>Campania</td>\n",
       "      <td>79324</td>\n",
       "      <td>145500</td>\n",
       "      <td>54.52</td>\n",
       "    </tr>\n",
       "    <tr>\n",
       "      <th>4</th>\n",
       "      <td>AstraZeneca</td>\n",
       "      <td>Emilia-Romagna</td>\n",
       "      <td>28753</td>\n",
       "      <td>108000</td>\n",
       "      <td>26.62</td>\n",
       "    </tr>\n",
       "  </tbody>\n",
       "</table>\n",
       "</div>"
      ],
      "text/plain": [
       "     fornitore       nome_area  totale  numero_dosi  pct_injected\n",
       "0  AstraZeneca         Abruzzo   16957        32400         52.34\n",
       "1  AstraZeneca      Basilicata    1990        13700         14.53\n",
       "2  AstraZeneca        Calabria    6739        47000         14.34\n",
       "3  AstraZeneca        Campania   79324       145500         54.52\n",
       "4  AstraZeneca  Emilia-Romagna   28753       108000         26.62"
      ]
     },
     "execution_count": 639,
     "metadata": {},
     "output_type": "execute_result"
    }
   ],
   "source": [
    "df3.head()"
   ]
  },
  {
   "cell_type": "code",
   "execution_count": 644,
   "metadata": {},
   "outputs": [
    {
     "data": {
      "text/plain": [
       "<matplotlib.axes._subplots.AxesSubplot at 0x7fb43c93af10>"
      ]
     },
     "execution_count": 644,
     "metadata": {},
     "output_type": "execute_result"
    },
    {
     "data": {
      "image/png": "[encoded data removed]",
      "text/plain": [
       "<Figure size 1296x648 with 1 Axes>"
      ]
     },
     "metadata": {},
     "output_type": "display_data"
    }
   ],
   "source": [
    "plt.figure(figsize=(18,9))\n",
    "sns.barplot(data=df3[df3.fornitore!='Pfizer/BioNTech'], x='nome_area',\n",
    "            y='pct_injected',\n",
    "            hue='fornitore')"
   ]
  },
  {
   "cell_type": "code",
   "execution_count": null,
   "metadata": {},
   "outputs": [],
   "source": []
  }
 ],
 "metadata": {
  "kernelspec": {
   "display_name": "Python 3",
   "language": "python",
   "name": "python3"
  },
  "language_info": {
   "codemirror_mode": {
    "name": "ipython",
    "version": 3
   },
   "file_extension": ".py",
   "mimetype": "text/x-python",
   "name": "python",
   "nbconvert_exporter": "python",
   "pygments_lexer": "ipython3",
   "version": "3.7.6"
  }
 },
 "nbformat": 4,
 "nbformat_minor": 4
}
