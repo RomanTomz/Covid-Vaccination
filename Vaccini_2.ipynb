{
 "cells": [
  {
   "cell_type": "code",
   "execution_count": 747,
   "metadata": {},
   "outputs": [
    {
     "data": {
      "text/html": [
       "<style>.container { width:100% !important; }</style>"
      ],
      "text/plain": [
       "<IPython.core.display.HTML object>"
      ]
     },
     "metadata": {},
     "output_type": "display_data"
    }
   ],
   "source": [
    "from IPython.core.display import display, HTML\n",
    "display(HTML(\"<style>.container { width:100% !important; }</style>\"))"
   ]
  },
  {
   "cell_type": "code",
   "execution_count": 748,
   "metadata": {},
   "outputs": [],
   "source": [
    "import pandas as pd\n",
    "import numpy as np\n",
    "import seaborn as sns\n",
    "import matplotlib.pyplot as plt\n",
    "\n",
    "import plotly.graph_objects as go"
   ]
  },
  {
   "cell_type": "code",
   "execution_count": 749,
   "metadata": {},
   "outputs": [],
   "source": [
    "df = pd.read_csv('https://raw.githubusercontent.com/italia/covid19-opendata-vaccini/master/dati/somministrazioni-vaccini-latest.csv')\n",
    "df.data_somministrazione = pd.to_datetime(df.data_somministrazione)"
   ]
  },
  {
   "cell_type": "code",
   "execution_count": 750,
   "metadata": {},
   "outputs": [],
   "source": [
    "df.sort_values('data_somministrazione', inplace=True)"
   ]
  },
  {
   "cell_type": "code",
   "execution_count": 751,
   "metadata": {},
   "outputs": [
    {
     "data": {
      "text/html": [
       "<div>\n",
       "<style scoped>\n",
       "    .dataframe tbody tr th:only-of-type {\n",
       "        vertical-align: middle;\n",
       "    }\n",
       "\n",
       "    .dataframe tbody tr th {\n",
       "        vertical-align: top;\n",
       "    }\n",
       "\n",
       "    .dataframe thead th {\n",
       "        text-align: right;\n",
       "    }\n",
       "</style>\n",
       "<table border=\"1\" class=\"dataframe\">\n",
       "  <thead>\n",
       "    <tr style=\"text-align: right;\">\n",
       "      <th></th>\n",
       "      <th>data_somministrazione</th>\n",
       "      <th>fornitore</th>\n",
       "      <th>area</th>\n",
       "      <th>fascia_anagrafica</th>\n",
       "      <th>sesso_maschile</th>\n",
       "      <th>sesso_femminile</th>\n",
       "      <th>categoria_operatori_sanitari_sociosanitari</th>\n",
       "      <th>categoria_personale_non_sanitario</th>\n",
       "      <th>categoria_ospiti_rsa</th>\n",
       "      <th>categoria_over80</th>\n",
       "      <th>prima_dose</th>\n",
       "      <th>seconda_dose</th>\n",
       "      <th>codice_NUTS1</th>\n",
       "      <th>codice_NUTS2</th>\n",
       "      <th>codice_regione_ISTAT</th>\n",
       "      <th>nome_area</th>\n",
       "    </tr>\n",
       "  </thead>\n",
       "  <tbody>\n",
       "    <tr>\n",
       "      <th>0</th>\n",
       "      <td>2020-12-27</td>\n",
       "      <td>Pfizer/BioNTech</td>\n",
       "      <td>ABR</td>\n",
       "      <td>20-29</td>\n",
       "      <td>1</td>\n",
       "      <td>0</td>\n",
       "      <td>1</td>\n",
       "      <td>0</td>\n",
       "      <td>0</td>\n",
       "      <td>0</td>\n",
       "      <td>1</td>\n",
       "      <td>0</td>\n",
       "      <td>ITF</td>\n",
       "      <td>ITF1</td>\n",
       "      <td>13</td>\n",
       "      <td>Abruzzo</td>\n",
       "    </tr>\n",
       "    <tr>\n",
       "      <th>95</th>\n",
       "      <td>2020-12-27</td>\n",
       "      <td>Pfizer/BioNTech</td>\n",
       "      <td>PIE</td>\n",
       "      <td>80-89</td>\n",
       "      <td>5</td>\n",
       "      <td>19</td>\n",
       "      <td>0</td>\n",
       "      <td>0</td>\n",
       "      <td>24</td>\n",
       "      <td>0</td>\n",
       "      <td>24</td>\n",
       "      <td>0</td>\n",
       "      <td>ITC</td>\n",
       "      <td>ITC1</td>\n",
       "      <td>1</td>\n",
       "      <td>Piemonte</td>\n",
       "    </tr>\n",
       "    <tr>\n",
       "      <th>96</th>\n",
       "      <td>2020-12-27</td>\n",
       "      <td>Pfizer/BioNTech</td>\n",
       "      <td>PIE</td>\n",
       "      <td>90+</td>\n",
       "      <td>5</td>\n",
       "      <td>15</td>\n",
       "      <td>0</td>\n",
       "      <td>0</td>\n",
       "      <td>20</td>\n",
       "      <td>0</td>\n",
       "      <td>20</td>\n",
       "      <td>0</td>\n",
       "      <td>ITC</td>\n",
       "      <td>ITC1</td>\n",
       "      <td>1</td>\n",
       "      <td>Piemonte</td>\n",
       "    </tr>\n",
       "    <tr>\n",
       "      <th>97</th>\n",
       "      <td>2020-12-27</td>\n",
       "      <td>Pfizer/BioNTech</td>\n",
       "      <td>PUG</td>\n",
       "      <td>20-29</td>\n",
       "      <td>18</td>\n",
       "      <td>33</td>\n",
       "      <td>47</td>\n",
       "      <td>4</td>\n",
       "      <td>0</td>\n",
       "      <td>0</td>\n",
       "      <td>51</td>\n",
       "      <td>0</td>\n",
       "      <td>ITF</td>\n",
       "      <td>ITF4</td>\n",
       "      <td>16</td>\n",
       "      <td>Puglia</td>\n",
       "    </tr>\n",
       "    <tr>\n",
       "      <th>98</th>\n",
       "      <td>2020-12-27</td>\n",
       "      <td>Pfizer/BioNTech</td>\n",
       "      <td>PUG</td>\n",
       "      <td>30-39</td>\n",
       "      <td>32</td>\n",
       "      <td>54</td>\n",
       "      <td>75</td>\n",
       "      <td>11</td>\n",
       "      <td>0</td>\n",
       "      <td>0</td>\n",
       "      <td>86</td>\n",
       "      <td>0</td>\n",
       "      <td>ITF</td>\n",
       "      <td>ITF4</td>\n",
       "      <td>16</td>\n",
       "      <td>Puglia</td>\n",
       "    </tr>\n",
       "  </tbody>\n",
       "</table>\n",
       "</div>"
      ],
      "text/plain": [
       "   data_somministrazione        fornitore area fascia_anagrafica  \\\n",
       "0             2020-12-27  Pfizer/BioNTech  ABR             20-29   \n",
       "95            2020-12-27  Pfizer/BioNTech  PIE             80-89   \n",
       "96            2020-12-27  Pfizer/BioNTech  PIE               90+   \n",
       "97            2020-12-27  Pfizer/BioNTech  PUG             20-29   \n",
       "98            2020-12-27  Pfizer/BioNTech  PUG             30-39   \n",
       "\n",
       "    sesso_maschile  sesso_femminile  \\\n",
       "0                1                0   \n",
       "95               5               19   \n",
       "96               5               15   \n",
       "97              18               33   \n",
       "98              32               54   \n",
       "\n",
       "    categoria_operatori_sanitari_sociosanitari  \\\n",
       "0                                            1   \n",
       "95                                           0   \n",
       "96                                           0   \n",
       "97                                          47   \n",
       "98                                          75   \n",
       "\n",
       "    categoria_personale_non_sanitario  categoria_ospiti_rsa  categoria_over80  \\\n",
       "0                                   0                     0                 0   \n",
       "95                                  0                    24                 0   \n",
       "96                                  0                    20                 0   \n",
       "97                                  4                     0                 0   \n",
       "98                                 11                     0                 0   \n",
       "\n",
       "    prima_dose  seconda_dose codice_NUTS1 codice_NUTS2  codice_regione_ISTAT  \\\n",
       "0            1             0          ITF         ITF1                    13   \n",
       "95          24             0          ITC         ITC1                     1   \n",
       "96          20             0          ITC         ITC1                     1   \n",
       "97          51             0          ITF         ITF4                    16   \n",
       "98          86             0          ITF         ITF4                    16   \n",
       "\n",
       "   nome_area  \n",
       "0    Abruzzo  \n",
       "95  Piemonte  \n",
       "96  Piemonte  \n",
       "97    Puglia  \n",
       "98    Puglia  "
      ]
     },
     "execution_count": 751,
     "metadata": {},
     "output_type": "execute_result"
    }
   ],
   "source": [
    "df.head()"
   ]
  },
  {
   "cell_type": "code",
   "execution_count": 752,
   "metadata": {},
   "outputs": [],
   "source": [
    "df = df[df['data_somministrazione']>='2021-01-01']"
   ]
  },
  {
   "cell_type": "code",
   "execution_count": 753,
   "metadata": {},
   "outputs": [],
   "source": [
    "#df.data_somministrazione = df.data_somministrazione.dt.strftime(\"%d-%m-%Y\")"
   ]
  },
  {
   "cell_type": "code",
   "execution_count": 754,
   "metadata": {},
   "outputs": [],
   "source": [
    "df['giorno_campagna'] = df.data_somministrazione.dt.dayofyear"
   ]
  },
  {
   "cell_type": "code",
   "execution_count": 755,
   "metadata": {},
   "outputs": [
    {
     "name": "stderr",
     "output_type": "stream",
     "text": [
      "/Users/admin/opt/anaconda3/lib/python3.7/site-packages/ipykernel_launcher.py:1: FutureWarning:\n",
      "\n",
      "Indexing with multiple keys (implicitly converted to a tuple of keys) will be deprecated, use a list instead.\n",
      "\n"
     ]
    },
    {
     "data": {
      "text/html": [
       "<div>\n",
       "<style scoped>\n",
       "    .dataframe tbody tr th:only-of-type {\n",
       "        vertical-align: middle;\n",
       "    }\n",
       "\n",
       "    .dataframe tbody tr th {\n",
       "        vertical-align: top;\n",
       "    }\n",
       "\n",
       "    .dataframe thead th {\n",
       "        text-align: right;\n",
       "    }\n",
       "</style>\n",
       "<table border=\"1\" class=\"dataframe\">\n",
       "  <thead>\n",
       "    <tr style=\"text-align: right;\">\n",
       "      <th>data_somministrazione</th>\n",
       "      <th>2021-01-01</th>\n",
       "      <th>2021-01-02</th>\n",
       "      <th>2021-01-03</th>\n",
       "      <th>2021-01-04</th>\n",
       "      <th>2021-01-05</th>\n",
       "      <th>2021-01-06</th>\n",
       "      <th>2021-01-07</th>\n",
       "      <th>2021-01-08</th>\n",
       "      <th>2021-01-09</th>\n",
       "      <th>2021-01-10</th>\n",
       "      <th>...</th>\n",
       "      <th>2021-01-20</th>\n",
       "      <th>2021-01-21</th>\n",
       "      <th>2021-01-22</th>\n",
       "      <th>2021-01-23</th>\n",
       "      <th>2021-01-24</th>\n",
       "      <th>2021-01-25</th>\n",
       "      <th>2021-01-26</th>\n",
       "      <th>2021-01-27</th>\n",
       "      <th>2021-01-28</th>\n",
       "      <th>2021-01-29</th>\n",
       "    </tr>\n",
       "    <tr>\n",
       "      <th>fascia_anagrafica</th>\n",
       "      <th></th>\n",
       "      <th></th>\n",
       "      <th></th>\n",
       "      <th></th>\n",
       "      <th></th>\n",
       "      <th></th>\n",
       "      <th></th>\n",
       "      <th></th>\n",
       "      <th></th>\n",
       "      <th></th>\n",
       "      <th></th>\n",
       "      <th></th>\n",
       "      <th></th>\n",
       "      <th></th>\n",
       "      <th></th>\n",
       "      <th></th>\n",
       "      <th></th>\n",
       "      <th></th>\n",
       "      <th></th>\n",
       "      <th></th>\n",
       "      <th></th>\n",
       "    </tr>\n",
       "  </thead>\n",
       "  <tbody>\n",
       "    <tr>\n",
       "      <th>16-19</th>\n",
       "      <td>2.0</td>\n",
       "      <td>18.0</td>\n",
       "      <td>0.0</td>\n",
       "      <td>12.0</td>\n",
       "      <td>22.0</td>\n",
       "      <td>38.0</td>\n",
       "      <td>31.0</td>\n",
       "      <td>43.0</td>\n",
       "      <td>75.0</td>\n",
       "      <td>144.0</td>\n",
       "      <td>...</td>\n",
       "      <td>26.0</td>\n",
       "      <td>24.0</td>\n",
       "      <td>27.0</td>\n",
       "      <td>5.0</td>\n",
       "      <td>5.0</td>\n",
       "      <td>0.0</td>\n",
       "      <td>3.0</td>\n",
       "      <td>4.0</td>\n",
       "      <td>1.0</td>\n",
       "      <td>0.0</td>\n",
       "    </tr>\n",
       "    <tr>\n",
       "      <th>20-29</th>\n",
       "      <td>906.0</td>\n",
       "      <td>3471.0</td>\n",
       "      <td>3430.0</td>\n",
       "      <td>5877.0</td>\n",
       "      <td>6751.0</td>\n",
       "      <td>6541.0</td>\n",
       "      <td>7621.0</td>\n",
       "      <td>8957.0</td>\n",
       "      <td>8822.0</td>\n",
       "      <td>7427.0</td>\n",
       "      <td>...</td>\n",
       "      <td>2100.0</td>\n",
       "      <td>1215.0</td>\n",
       "      <td>991.0</td>\n",
       "      <td>416.0</td>\n",
       "      <td>319.0</td>\n",
       "      <td>358.0</td>\n",
       "      <td>284.0</td>\n",
       "      <td>671.0</td>\n",
       "      <td>369.0</td>\n",
       "      <td>305.0</td>\n",
       "    </tr>\n",
       "    <tr>\n",
       "      <th>30-39</th>\n",
       "      <td>1953.0</td>\n",
       "      <td>6834.0</td>\n",
       "      <td>6091.0</td>\n",
       "      <td>11962.0</td>\n",
       "      <td>13535.0</td>\n",
       "      <td>11192.0</td>\n",
       "      <td>14939.0</td>\n",
       "      <td>15240.0</td>\n",
       "      <td>13389.0</td>\n",
       "      <td>9874.0</td>\n",
       "      <td>...</td>\n",
       "      <td>3041.0</td>\n",
       "      <td>1845.0</td>\n",
       "      <td>1405.0</td>\n",
       "      <td>683.0</td>\n",
       "      <td>403.0</td>\n",
       "      <td>530.0</td>\n",
       "      <td>456.0</td>\n",
       "      <td>695.0</td>\n",
       "      <td>441.0</td>\n",
       "      <td>431.0</td>\n",
       "    </tr>\n",
       "    <tr>\n",
       "      <th>40-49</th>\n",
       "      <td>2412.0</td>\n",
       "      <td>8347.0</td>\n",
       "      <td>7708.0</td>\n",
       "      <td>14443.0</td>\n",
       "      <td>16476.0</td>\n",
       "      <td>12742.0</td>\n",
       "      <td>18815.0</td>\n",
       "      <td>19318.0</td>\n",
       "      <td>16272.0</td>\n",
       "      <td>11371.0</td>\n",
       "      <td>...</td>\n",
       "      <td>4062.0</td>\n",
       "      <td>2291.0</td>\n",
       "      <td>1915.0</td>\n",
       "      <td>804.0</td>\n",
       "      <td>443.0</td>\n",
       "      <td>653.0</td>\n",
       "      <td>599.0</td>\n",
       "      <td>796.0</td>\n",
       "      <td>650.0</td>\n",
       "      <td>604.0</td>\n",
       "    </tr>\n",
       "    <tr>\n",
       "      <th>50-59</th>\n",
       "      <td>3176.0</td>\n",
       "      <td>10637.0</td>\n",
       "      <td>10031.0</td>\n",
       "      <td>19725.0</td>\n",
       "      <td>22716.0</td>\n",
       "      <td>17663.0</td>\n",
       "      <td>26100.0</td>\n",
       "      <td>26461.0</td>\n",
       "      <td>22250.0</td>\n",
       "      <td>15122.0</td>\n",
       "      <td>...</td>\n",
       "      <td>5076.0</td>\n",
       "      <td>2878.0</td>\n",
       "      <td>2256.0</td>\n",
       "      <td>1142.0</td>\n",
       "      <td>640.0</td>\n",
       "      <td>812.0</td>\n",
       "      <td>680.0</td>\n",
       "      <td>1062.0</td>\n",
       "      <td>877.0</td>\n",
       "      <td>765.0</td>\n",
       "    </tr>\n",
       "    <tr>\n",
       "      <th>60-69</th>\n",
       "      <td>1673.0</td>\n",
       "      <td>6416.0</td>\n",
       "      <td>5904.0</td>\n",
       "      <td>11817.0</td>\n",
       "      <td>13959.0</td>\n",
       "      <td>11764.0</td>\n",
       "      <td>15241.0</td>\n",
       "      <td>15768.0</td>\n",
       "      <td>16770.0</td>\n",
       "      <td>10548.0</td>\n",
       "      <td>...</td>\n",
       "      <td>2959.0</td>\n",
       "      <td>1818.0</td>\n",
       "      <td>1394.0</td>\n",
       "      <td>898.0</td>\n",
       "      <td>382.0</td>\n",
       "      <td>514.0</td>\n",
       "      <td>503.0</td>\n",
       "      <td>670.0</td>\n",
       "      <td>515.0</td>\n",
       "      <td>466.0</td>\n",
       "    </tr>\n",
       "    <tr>\n",
       "      <th>70-79</th>\n",
       "      <td>183.0</td>\n",
       "      <td>598.0</td>\n",
       "      <td>527.0</td>\n",
       "      <td>1099.0</td>\n",
       "      <td>1550.0</td>\n",
       "      <td>1685.0</td>\n",
       "      <td>2271.0</td>\n",
       "      <td>2635.0</td>\n",
       "      <td>3008.0</td>\n",
       "      <td>2207.0</td>\n",
       "      <td>...</td>\n",
       "      <td>1619.0</td>\n",
       "      <td>1015.0</td>\n",
       "      <td>781.0</td>\n",
       "      <td>378.0</td>\n",
       "      <td>190.0</td>\n",
       "      <td>305.0</td>\n",
       "      <td>317.0</td>\n",
       "      <td>351.0</td>\n",
       "      <td>263.0</td>\n",
       "      <td>228.0</td>\n",
       "    </tr>\n",
       "    <tr>\n",
       "      <th>80-89</th>\n",
       "      <td>281.0</td>\n",
       "      <td>801.0</td>\n",
       "      <td>596.0</td>\n",
       "      <td>1374.0</td>\n",
       "      <td>1831.0</td>\n",
       "      <td>1532.0</td>\n",
       "      <td>3024.0</td>\n",
       "      <td>3000.0</td>\n",
       "      <td>2898.0</td>\n",
       "      <td>1707.0</td>\n",
       "      <td>...</td>\n",
       "      <td>3119.0</td>\n",
       "      <td>1980.0</td>\n",
       "      <td>1436.0</td>\n",
       "      <td>654.0</td>\n",
       "      <td>379.0</td>\n",
       "      <td>686.0</td>\n",
       "      <td>640.0</td>\n",
       "      <td>736.0</td>\n",
       "      <td>524.0</td>\n",
       "      <td>415.0</td>\n",
       "    </tr>\n",
       "    <tr>\n",
       "      <th>90+</th>\n",
       "      <td>325.0</td>\n",
       "      <td>750.0</td>\n",
       "      <td>531.0</td>\n",
       "      <td>1266.0</td>\n",
       "      <td>1760.0</td>\n",
       "      <td>1425.0</td>\n",
       "      <td>2752.0</td>\n",
       "      <td>2626.0</td>\n",
       "      <td>2387.0</td>\n",
       "      <td>1348.0</td>\n",
       "      <td>...</td>\n",
       "      <td>2310.0</td>\n",
       "      <td>1569.0</td>\n",
       "      <td>1154.0</td>\n",
       "      <td>519.0</td>\n",
       "      <td>225.0</td>\n",
       "      <td>566.0</td>\n",
       "      <td>466.0</td>\n",
       "      <td>573.0</td>\n",
       "      <td>418.0</td>\n",
       "      <td>292.0</td>\n",
       "    </tr>\n",
       "  </tbody>\n",
       "</table>\n",
       "<p>9 rows × 29 columns</p>\n",
       "</div>"
      ],
      "text/plain": [
       "data_somministrazione  2021-01-01  2021-01-02  2021-01-03  2021-01-04  \\\n",
       "fascia_anagrafica                                                       \n",
       "16-19                         2.0        18.0         0.0        12.0   \n",
       "20-29                       906.0      3471.0      3430.0      5877.0   \n",
       "30-39                      1953.0      6834.0      6091.0     11962.0   \n",
       "40-49                      2412.0      8347.0      7708.0     14443.0   \n",
       "50-59                      3176.0     10637.0     10031.0     19725.0   \n",
       "60-69                      1673.0      6416.0      5904.0     11817.0   \n",
       "70-79                       183.0       598.0       527.0      1099.0   \n",
       "80-89                       281.0       801.0       596.0      1374.0   \n",
       "90+                         325.0       750.0       531.0      1266.0   \n",
       "\n",
       "data_somministrazione  2021-01-05  2021-01-06  2021-01-07  2021-01-08  \\\n",
       "fascia_anagrafica                                                       \n",
       "16-19                        22.0        38.0        31.0        43.0   \n",
       "20-29                      6751.0      6541.0      7621.0      8957.0   \n",
       "30-39                     13535.0     11192.0     14939.0     15240.0   \n",
       "40-49                     16476.0     12742.0     18815.0     19318.0   \n",
       "50-59                     22716.0     17663.0     26100.0     26461.0   \n",
       "60-69                     13959.0     11764.0     15241.0     15768.0   \n",
       "70-79                      1550.0      1685.0      2271.0      2635.0   \n",
       "80-89                      1831.0      1532.0      3024.0      3000.0   \n",
       "90+                        1760.0      1425.0      2752.0      2626.0   \n",
       "\n",
       "data_somministrazione  2021-01-09  2021-01-10  ...  2021-01-20  2021-01-21  \\\n",
       "fascia_anagrafica                              ...                           \n",
       "16-19                        75.0       144.0  ...        26.0        24.0   \n",
       "20-29                      8822.0      7427.0  ...      2100.0      1215.0   \n",
       "30-39                     13389.0      9874.0  ...      3041.0      1845.0   \n",
       "40-49                     16272.0     11371.0  ...      4062.0      2291.0   \n",
       "50-59                     22250.0     15122.0  ...      5076.0      2878.0   \n",
       "60-69                     16770.0     10548.0  ...      2959.0      1818.0   \n",
       "70-79                      3008.0      2207.0  ...      1619.0      1015.0   \n",
       "80-89                      2898.0      1707.0  ...      3119.0      1980.0   \n",
       "90+                        2387.0      1348.0  ...      2310.0      1569.0   \n",
       "\n",
       "data_somministrazione  2021-01-22  2021-01-23  2021-01-24  2021-01-25  \\\n",
       "fascia_anagrafica                                                       \n",
       "16-19                        27.0         5.0         5.0         0.0   \n",
       "20-29                       991.0       416.0       319.0       358.0   \n",
       "30-39                      1405.0       683.0       403.0       530.0   \n",
       "40-49                      1915.0       804.0       443.0       653.0   \n",
       "50-59                      2256.0      1142.0       640.0       812.0   \n",
       "60-69                      1394.0       898.0       382.0       514.0   \n",
       "70-79                       781.0       378.0       190.0       305.0   \n",
       "80-89                      1436.0       654.0       379.0       686.0   \n",
       "90+                        1154.0       519.0       225.0       566.0   \n",
       "\n",
       "data_somministrazione  2021-01-26  2021-01-27  2021-01-28  2021-01-29  \n",
       "fascia_anagrafica                                                      \n",
       "16-19                         3.0         4.0         1.0         0.0  \n",
       "20-29                       284.0       671.0       369.0       305.0  \n",
       "30-39                       456.0       695.0       441.0       431.0  \n",
       "40-49                       599.0       796.0       650.0       604.0  \n",
       "50-59                       680.0      1062.0       877.0       765.0  \n",
       "60-69                       503.0       670.0       515.0       466.0  \n",
       "70-79                       317.0       351.0       263.0       228.0  \n",
       "80-89                       640.0       736.0       524.0       415.0  \n",
       "90+                         466.0       573.0       418.0       292.0  \n",
       "\n",
       "[9 rows x 29 columns]"
      ]
     },
     "execution_count": 755,
     "metadata": {},
     "output_type": "execute_result"
    }
   ],
   "source": [
    "df_pivot = (df.groupby(['data_somministrazione','fascia_anagrafica'])['prima_dose','seconda_dose'].sum().reset_index(level=0).\n",
    " pivot(columns='data_somministrazione', values='prima_dose').fillna(0))\n",
    "df_pivot"
   ]
  },
  {
   "cell_type": "code",
   "execution_count": 756,
   "metadata": {},
   "outputs": [
    {
     "data": {
      "text/plain": [
       "<matplotlib.axes._subplots.AxesSubplot at 0x7f9477486d90>"
      ]
     },
     "execution_count": 756,
     "metadata": {},
     "output_type": "execute_result"
    },
    {
     "data": {
      "image/png": "[encoded data removed]",
      "text/plain": [
       "<Figure size 1080x576 with 2 Axes>"
      ]
     },
     "metadata": {},
     "output_type": "display_data"
    }
   ],
   "source": [
    "\n",
    "plt.figure(figsize=(15,8))\n",
    "sns.heatmap(df_pivot, cmap='coolwarm', linecolor='white', linewidths=0.1)"
   ]
  },
  {
   "cell_type": "code",
   "execution_count": 757,
   "metadata": {},
   "outputs": [],
   "source": [
    "daily = df.groupby('data_somministrazione')['prima_dose'].sum().reset_index()\n",
    "df = df.merge(daily, left_on='data_somministrazione', right_on='data_somministrazione', how='inner', \n",
    "        suffixes=['','_totale_giorno'])"
   ]
  },
  {
   "cell_type": "markdown",
   "metadata": {},
   "source": [
    "I need to groupby before calculating percentage as they are labelled by region as well"
   ]
  },
  {
   "cell_type": "code",
   "execution_count": 758,
   "metadata": {},
   "outputs": [],
   "source": [
    "df1 = df.groupby(['data_somministrazione', 'fascia_anagrafica'])['prima_dose'].sum().reset_index(level=1).fillna(0)"
   ]
  },
  {
   "cell_type": "code",
   "execution_count": 759,
   "metadata": {},
   "outputs": [],
   "source": [
    "df1 = df1.merge(daily, left_on='data_somministrazione', right_on='data_somministrazione', how='inner', \n",
    "        suffixes=['','_totale_giorno']).fillna(0)"
   ]
  },
  {
   "cell_type": "code",
   "execution_count": 760,
   "metadata": {},
   "outputs": [],
   "source": [
    "df1['perc_tot_somministrati'] = (df1.prima_dose/df1.prima_dose_totale_giorno).mul(100).round(0)"
   ]
  },
  {
   "cell_type": "code",
   "execution_count": 761,
   "metadata": {},
   "outputs": [],
   "source": [
    "df1.data_somministrazione = df1.data_somministrazione.dt.strftime(\"%d-%m-%Y\")\n",
    "df1_pivot = df1.pivot(columns='data_somministrazione',index='fascia_anagrafica',values='perc_tot_somministrati').sort_index(ascending=False)"
   ]
  },
  {
   "cell_type": "code",
   "execution_count": null,
   "metadata": {},
   "outputs": [],
   "source": []
  },
  {
   "cell_type": "code",
   "execution_count": 762,
   "metadata": {},
   "outputs": [
    {
     "data": {
      "image/png": "[encoded data removed]",
      "text/plain": [
       "<Figure size 1080x576 with 1 Axes>"
      ]
     },
     "metadata": {},
     "output_type": "display_data"
    }
   ],
   "source": [
    "plt.figure(figsize=(15,8))\n",
    "sns.heatmap(df1_pivot, cmap='Blues'\n",
    ",annot=True, linecolor='black', linewidths=0.01, cbar=False, fmt='g')\n",
    "plt.ylabel('')\n",
    "plt.yticks(rotation=0, )\n",
    "plt.suptitle('Percentuale Somministrata sul Totale Giornaliero', fontsize=20)\n",
    "plt.title('Elaborazione: @TomZ_UK - Dati: ISS')\n",
    "\n",
    "plt.savefig('percentuale_totale_HM.png')"
   ]
  },
  {
   "cell_type": "markdown",
   "metadata": {},
   "source": [
    "# Analisi Popolazione\n",
    "Percentuale somministrazioni sul totale popolazione divisa per gruppi anagrafici"
   ]
  },
  {
   "cell_type": "code",
   "execution_count": 763,
   "metadata": {},
   "outputs": [
    {
     "data": {
      "text/html": [
       "<div>\n",
       "<style scoped>\n",
       "    .dataframe tbody tr th:only-of-type {\n",
       "        vertical-align: middle;\n",
       "    }\n",
       "\n",
       "    .dataframe tbody tr th {\n",
       "        vertical-align: top;\n",
       "    }\n",
       "\n",
       "    .dataframe thead tr th {\n",
       "        text-align: left;\n",
       "    }\n",
       "</style>\n",
       "<table border=\"1\" class=\"dataframe\">\n",
       "  <thead>\n",
       "    <tr>\n",
       "      <th></th>\n",
       "      <th>Età</th>\n",
       "      <th>Celibi/Nubili</th>\n",
       "      <th>Coniugati/e</th>\n",
       "      <th>Vedovi/e</th>\n",
       "      <th>Divorziati/e</th>\n",
       "      <th>Maschi</th>\n",
       "      <th>Femmine</th>\n",
       "      <th colspan=\"2\" halign=\"left\">Totale</th>\n",
       "    </tr>\n",
       "    <tr>\n",
       "      <th></th>\n",
       "      <th>Età</th>\n",
       "      <th>Celibi/Nubili</th>\n",
       "      <th>Coniugati/e</th>\n",
       "      <th>Vedovi/e</th>\n",
       "      <th>Divorziati/e</th>\n",
       "      <th>Maschi</th>\n",
       "      <th>Femmine</th>\n",
       "      <th>Unnamed: 7_level_1</th>\n",
       "      <th>%</th>\n",
       "    </tr>\n",
       "  </thead>\n",
       "  <tbody>\n",
       "    <tr>\n",
       "      <th>0</th>\n",
       "      <td>0-4</td>\n",
       "      <td>2.264.538</td>\n",
       "      <td>0</td>\n",
       "      <td>0</td>\n",
       "      <td>0</td>\n",
       "      <td>1.163.19851,4%</td>\n",
       "      <td>1.101.34048,6%</td>\n",
       "      <td>2.264.538</td>\n",
       "      <td>3,8%</td>\n",
       "    </tr>\n",
       "    <tr>\n",
       "      <th>1</th>\n",
       "      <td>5-9</td>\n",
       "      <td>2.627.956</td>\n",
       "      <td>0</td>\n",
       "      <td>0</td>\n",
       "      <td>0</td>\n",
       "      <td>1.352.24051,5%</td>\n",
       "      <td>1.275.71648,5%</td>\n",
       "      <td>2.627.956</td>\n",
       "      <td>4,4%</td>\n",
       "    </tr>\n",
       "    <tr>\n",
       "      <th>2</th>\n",
       "      <td>10-14</td>\n",
       "      <td>2.835.060</td>\n",
       "      <td>0</td>\n",
       "      <td>0</td>\n",
       "      <td>0</td>\n",
       "      <td>1.460.44951,5%</td>\n",
       "      <td>1.374.61148,5%</td>\n",
       "      <td>2.835.060</td>\n",
       "      <td>4,8%</td>\n",
       "    </tr>\n",
       "    <tr>\n",
       "      <th>3</th>\n",
       "      <td>15-19</td>\n",
       "      <td>2.868.948</td>\n",
       "      <td>2.004</td>\n",
       "      <td>21</td>\n",
       "      <td>83</td>\n",
       "      <td>1.485.46551,7%</td>\n",
       "      <td>1.385.59148,3%</td>\n",
       "      <td>2.871.056</td>\n",
       "      <td>4,8%</td>\n",
       "    </tr>\n",
       "    <tr>\n",
       "      <th>4</th>\n",
       "      <td>20-24</td>\n",
       "      <td>2.890.840</td>\n",
       "      <td>64.253</td>\n",
       "      <td>127</td>\n",
       "      <td>668</td>\n",
       "      <td>1.549.02052,4%</td>\n",
       "      <td>1.406.86847,6%</td>\n",
       "      <td>2.955.888</td>\n",
       "      <td>5,0%</td>\n",
       "    </tr>\n",
       "    <tr>\n",
       "      <th>5</th>\n",
       "      <td>25-29</td>\n",
       "      <td>2.714.681</td>\n",
       "      <td>407.555</td>\n",
       "      <td>630</td>\n",
       "      <td>5.628</td>\n",
       "      <td>1.605.44451,3%</td>\n",
       "      <td>1.523.05048,7%</td>\n",
       "      <td>3.128.494</td>\n",
       "      <td>5,2%</td>\n",
       "    </tr>\n",
       "    <tr>\n",
       "      <th>6</th>\n",
       "      <td>30-34</td>\n",
       "      <td>2.084.313</td>\n",
       "      <td>1.169.221</td>\n",
       "      <td>2.418</td>\n",
       "      <td>26.489</td>\n",
       "      <td>1.658.74950,5%</td>\n",
       "      <td>1.623.69249,5%</td>\n",
       "      <td>3.282.441</td>\n",
       "      <td>5,5%</td>\n",
       "    </tr>\n",
       "    <tr>\n",
       "      <th>7</th>\n",
       "      <td>35-39</td>\n",
       "      <td>1.577.289</td>\n",
       "      <td>1.915.487</td>\n",
       "      <td>7.282</td>\n",
       "      <td>72.133</td>\n",
       "      <td>1.792.98150,2%</td>\n",
       "      <td>1.779.21049,8%</td>\n",
       "      <td>3.572.191</td>\n",
       "      <td>6,0%</td>\n",
       "    </tr>\n",
       "    <tr>\n",
       "      <th>8</th>\n",
       "      <td>40-44</td>\n",
       "      <td>1.393.337</td>\n",
       "      <td>2.620.552</td>\n",
       "      <td>18.957</td>\n",
       "      <td>154.618</td>\n",
       "      <td>2.089.19849,9%</td>\n",
       "      <td>2.098.26650,1%</td>\n",
       "      <td>4.187.464</td>\n",
       "      <td>7,0%</td>\n",
       "    </tr>\n",
       "    <tr>\n",
       "      <th>9</th>\n",
       "      <td>45-49</td>\n",
       "      <td>1.211.484</td>\n",
       "      <td>3.236.400</td>\n",
       "      <td>42.592</td>\n",
       "      <td>259.289</td>\n",
       "      <td>2.356.80049,6%</td>\n",
       "      <td>2.392.96550,4%</td>\n",
       "      <td>4.749.765</td>\n",
       "      <td>8,0%</td>\n",
       "    </tr>\n",
       "    <tr>\n",
       "      <th>10</th>\n",
       "      <td>50-54</td>\n",
       "      <td>914.381</td>\n",
       "      <td>3.545.692</td>\n",
       "      <td>84.717</td>\n",
       "      <td>331.914</td>\n",
       "      <td>2.404.14449,3%</td>\n",
       "      <td>2.472.56050,7%</td>\n",
       "      <td>4.876.704</td>\n",
       "      <td>8,2%</td>\n",
       "    </tr>\n",
       "    <tr>\n",
       "      <th>11</th>\n",
       "      <td>55-59</td>\n",
       "      <td>626.453</td>\n",
       "      <td>3.439.662</td>\n",
       "      <td>147.926</td>\n",
       "      <td>323.450</td>\n",
       "      <td>2.213.00848,8%</td>\n",
       "      <td>2.324.48351,2%</td>\n",
       "      <td>4.537.491</td>\n",
       "      <td>7,6%</td>\n",
       "    </tr>\n",
       "    <tr>\n",
       "      <th>12</th>\n",
       "      <td>60-64</td>\n",
       "      <td>411.731</td>\n",
       "      <td>3.006.985</td>\n",
       "      <td>230.387</td>\n",
       "      <td>244.247</td>\n",
       "      <td>1.874.92248,2%</td>\n",
       "      <td>2.018.42851,8%</td>\n",
       "      <td>3.893.350</td>\n",
       "      <td>6,5%</td>\n",
       "    </tr>\n",
       "    <tr>\n",
       "      <th>13</th>\n",
       "      <td>65-69</td>\n",
       "      <td>286.807</td>\n",
       "      <td>2.663.542</td>\n",
       "      <td>348.074</td>\n",
       "      <td>172.591</td>\n",
       "      <td>1.652.74047,6%</td>\n",
       "      <td>1.818.27452,4%</td>\n",
       "      <td>3.471.014</td>\n",
       "      <td>5,8%</td>\n",
       "    </tr>\n",
       "    <tr>\n",
       "      <th>14</th>\n",
       "      <td>70-74</td>\n",
       "      <td>225.584</td>\n",
       "      <td>2.429.874</td>\n",
       "      <td>544.701</td>\n",
       "      <td>124.201</td>\n",
       "      <td>1.555.30646,8%</td>\n",
       "      <td>1.769.05453,2%</td>\n",
       "      <td>3.324.360</td>\n",
       "      <td>5,6%</td>\n",
       "    </tr>\n",
       "    <tr>\n",
       "      <th>15</th>\n",
       "      <td>75-79</td>\n",
       "      <td>170.300</td>\n",
       "      <td>1.701.425</td>\n",
       "      <td>701.606</td>\n",
       "      <td>70.682</td>\n",
       "      <td>1.181.23344,7%</td>\n",
       "      <td>1.462.78055,3%</td>\n",
       "      <td>2.644.013</td>\n",
       "      <td>4,4%</td>\n",
       "    </tr>\n",
       "    <tr>\n",
       "      <th>16</th>\n",
       "      <td>80-84</td>\n",
       "      <td>140.403</td>\n",
       "      <td>1.162.123</td>\n",
       "      <td>888.727</td>\n",
       "      <td>40.283</td>\n",
       "      <td>930.78741,7%</td>\n",
       "      <td>1.300.74958,3%</td>\n",
       "      <td>2.231.536</td>\n",
       "      <td>3,7%</td>\n",
       "    </tr>\n",
       "    <tr>\n",
       "      <th>17</th>\n",
       "      <td>85-89</td>\n",
       "      <td>93.445</td>\n",
       "      <td>500.696</td>\n",
       "      <td>785.500</td>\n",
       "      <td>16.983</td>\n",
       "      <td>507.80936,4%</td>\n",
       "      <td>888.81563,6%</td>\n",
       "      <td>1.396.624</td>\n",
       "      <td>2,3%</td>\n",
       "    </tr>\n",
       "    <tr>\n",
       "      <th>18</th>\n",
       "      <td>90-94</td>\n",
       "      <td>46.534</td>\n",
       "      <td>129.439</td>\n",
       "      <td>434.772</td>\n",
       "      <td>5.615</td>\n",
       "      <td>179.13029,1%</td>\n",
       "      <td>437.23070,9%</td>\n",
       "      <td>616.360</td>\n",
       "      <td>1,0%</td>\n",
       "    </tr>\n",
       "    <tr>\n",
       "      <th>19</th>\n",
       "      <td>95-99</td>\n",
       "      <td>13.552</td>\n",
       "      <td>16.437</td>\n",
       "      <td>129.152</td>\n",
       "      <td>1.238</td>\n",
       "      <td>35.14121,9%</td>\n",
       "      <td>125.23878,1%</td>\n",
       "      <td>160.379</td>\n",
       "      <td>0,3%</td>\n",
       "    </tr>\n",
       "    <tr>\n",
       "      <th>20</th>\n",
       "      <td>100+</td>\n",
       "      <td>1.556</td>\n",
       "      <td>836</td>\n",
       "      <td>12.307</td>\n",
       "      <td>105</td>\n",
       "      <td>2.33215,8%</td>\n",
       "      <td>12.47284,2%</td>\n",
       "      <td>14.804</td>\n",
       "      <td>0,0%</td>\n",
       "    </tr>\n",
       "    <tr>\n",
       "      <th>21</th>\n",
       "      <td>Totale</td>\n",
       "      <td>25.399.192</td>\n",
       "      <td>28.012.183</td>\n",
       "      <td>4.379.896</td>\n",
       "      <td>1.850.217</td>\n",
       "      <td>29.050.09648,7%</td>\n",
       "      <td>30.591.39251,3%</td>\n",
       "      <td>59.641.488</td>\n",
       "      <td>100,0%</td>\n",
       "    </tr>\n",
       "  </tbody>\n",
       "</table>\n",
       "</div>"
      ],
      "text/plain": [
       "       Età Celibi/Nubili Coniugati/e   Vedovi/e Divorziati/e           Maschi  \\\n",
       "       Età Celibi/Nubili Coniugati/e   Vedovi/e Divorziati/e           Maschi   \n",
       "0      0-4     2.264.538           0          0            0   1.163.19851,4%   \n",
       "1      5-9     2.627.956           0          0            0   1.352.24051,5%   \n",
       "2    10-14     2.835.060           0          0            0   1.460.44951,5%   \n",
       "3    15-19     2.868.948       2.004         21           83   1.485.46551,7%   \n",
       "4    20-24     2.890.840      64.253        127          668   1.549.02052,4%   \n",
       "5    25-29     2.714.681     407.555        630        5.628   1.605.44451,3%   \n",
       "6    30-34     2.084.313   1.169.221      2.418       26.489   1.658.74950,5%   \n",
       "7    35-39     1.577.289   1.915.487      7.282       72.133   1.792.98150,2%   \n",
       "8    40-44     1.393.337   2.620.552     18.957      154.618   2.089.19849,9%   \n",
       "9    45-49     1.211.484   3.236.400     42.592      259.289   2.356.80049,6%   \n",
       "10   50-54       914.381   3.545.692     84.717      331.914   2.404.14449,3%   \n",
       "11   55-59       626.453   3.439.662    147.926      323.450   2.213.00848,8%   \n",
       "12   60-64       411.731   3.006.985    230.387      244.247   1.874.92248,2%   \n",
       "13   65-69       286.807   2.663.542    348.074      172.591   1.652.74047,6%   \n",
       "14   70-74       225.584   2.429.874    544.701      124.201   1.555.30646,8%   \n",
       "15   75-79       170.300   1.701.425    701.606       70.682   1.181.23344,7%   \n",
       "16   80-84       140.403   1.162.123    888.727       40.283     930.78741,7%   \n",
       "17   85-89        93.445     500.696    785.500       16.983     507.80936,4%   \n",
       "18   90-94        46.534     129.439    434.772        5.615     179.13029,1%   \n",
       "19   95-99        13.552      16.437    129.152        1.238      35.14121,9%   \n",
       "20    100+         1.556         836     12.307          105       2.33215,8%   \n",
       "21  Totale    25.399.192  28.012.183  4.379.896    1.850.217  29.050.09648,7%   \n",
       "\n",
       "            Femmine             Totale          \n",
       "            Femmine Unnamed: 7_level_1       %  \n",
       "0    1.101.34048,6%          2.264.538    3,8%  \n",
       "1    1.275.71648,5%          2.627.956    4,4%  \n",
       "2    1.374.61148,5%          2.835.060    4,8%  \n",
       "3    1.385.59148,3%          2.871.056    4,8%  \n",
       "4    1.406.86847,6%          2.955.888    5,0%  \n",
       "5    1.523.05048,7%          3.128.494    5,2%  \n",
       "6    1.623.69249,5%          3.282.441    5,5%  \n",
       "7    1.779.21049,8%          3.572.191    6,0%  \n",
       "8    2.098.26650,1%          4.187.464    7,0%  \n",
       "9    2.392.96550,4%          4.749.765    8,0%  \n",
       "10   2.472.56050,7%          4.876.704    8,2%  \n",
       "11   2.324.48351,2%          4.537.491    7,6%  \n",
       "12   2.018.42851,8%          3.893.350    6,5%  \n",
       "13   1.818.27452,4%          3.471.014    5,8%  \n",
       "14   1.769.05453,2%          3.324.360    5,6%  \n",
       "15   1.462.78055,3%          2.644.013    4,4%  \n",
       "16   1.300.74958,3%          2.231.536    3,7%  \n",
       "17     888.81563,6%          1.396.624    2,3%  \n",
       "18     437.23070,9%            616.360    1,0%  \n",
       "19     125.23878,1%            160.379    0,3%  \n",
       "20      12.47284,2%             14.804    0,0%  \n",
       "21  30.591.39251,3%         59.641.488  100,0%  "
      ]
     },
     "execution_count": 763,
     "metadata": {},
     "output_type": "execute_result"
    }
   ],
   "source": [
    "pd.read_html('https://www.tuttitalia.it/statistiche/popolazione-eta-sesso-stato-civile-2020/')[0]\n"
   ]
  },
  {
   "cell_type": "code",
   "execution_count": 764,
   "metadata": {},
   "outputs": [
    {
     "data": {
      "text/html": [
       "<div>\n",
       "<style scoped>\n",
       "    .dataframe tbody tr th:only-of-type {\n",
       "        vertical-align: middle;\n",
       "    }\n",
       "\n",
       "    .dataframe tbody tr th {\n",
       "        vertical-align: top;\n",
       "    }\n",
       "\n",
       "    .dataframe thead th {\n",
       "        text-align: right;\n",
       "    }\n",
       "</style>\n",
       "<table border=\"1\" class=\"dataframe\">\n",
       "  <thead>\n",
       "    <tr style=\"text-align: right;\">\n",
       "      <th></th>\n",
       "      <th>Età</th>\n",
       "      <th>Totale</th>\n",
       "    </tr>\n",
       "  </thead>\n",
       "  <tbody>\n",
       "    <tr>\n",
       "      <th>96</th>\n",
       "      <td>96 anni</td>\n",
       "      <td>30447</td>\n",
       "    </tr>\n",
       "    <tr>\n",
       "      <th>97</th>\n",
       "      <td>97 anni</td>\n",
       "      <td>22450</td>\n",
       "    </tr>\n",
       "    <tr>\n",
       "      <th>98</th>\n",
       "      <td>98 anni</td>\n",
       "      <td>15624</td>\n",
       "    </tr>\n",
       "    <tr>\n",
       "      <th>99</th>\n",
       "      <td>99 anni</td>\n",
       "      <td>10192</td>\n",
       "    </tr>\n",
       "    <tr>\n",
       "      <th>100</th>\n",
       "      <td>100 anni e più</td>\n",
       "      <td>15080</td>\n",
       "    </tr>\n",
       "  </tbody>\n",
       "</table>\n",
       "</div>"
      ],
      "text/plain": [
       "                Età  Totale\n",
       "96          96 anni   30447\n",
       "97          97 anni   22450\n",
       "98          98 anni   15624\n",
       "99          99 anni   10192\n",
       "100  100 anni e più   15080"
      ]
     },
     "execution_count": 764,
     "metadata": {},
     "output_type": "execute_result"
    }
   ],
   "source": [
    "pop = pd.read_html('https://it.wikipedia.org/wiki/Demografia_d%27Italia', thousands='.')[11]\n",
    "pop = pop[['Età', 'Totale']]\n",
    "pop.drop(index=101, axis=0, inplace=True)\n",
    "pop.Totale = pd.to_numeric(pop.Totale)\n",
    "pop.tail()"
   ]
  },
  {
   "cell_type": "code",
   "execution_count": 765,
   "metadata": {},
   "outputs": [],
   "source": [
    "pop['Età'] = pd.to_numeric(pop['Età'].str.split(' ', expand=True)[0])"
   ]
  },
  {
   "cell_type": "code",
   "execution_count": 766,
   "metadata": {},
   "outputs": [],
   "source": [
    "def ages(s):\n",
    "    if (s['Età'] >= 0 and s['Età'] < 16):\n",
    "        return '0-16'\n",
    "    elif (s['Età'] >= 16 and s['Età'] <= 19):\n",
    "        return '16-19'\n",
    "    elif (s['Età'] >= 20 and s['Età'] <= 29):\n",
    "        return '20-29'\n",
    "    elif (s['Età'] >= 30 and s['Età'] <= 39):\n",
    "        return '30-39'\n",
    "    elif (s['Età'] >= 40 and s['Età'] <= 49):\n",
    "        return '40-49'\n",
    "    elif (s['Età'] >= 50 and s['Età'] <= 59):\n",
    "        return '50-59'\n",
    "    elif (s['Età'] >= 60 and s['Età'] <= 69):\n",
    "        return '60-69'\n",
    "    elif (s['Età'] >= 70 and s['Età'] <= 79):\n",
    "        return '70-79'\n",
    "    elif (s['Età'] >= 80 and s['Età'] <= 89):\n",
    "        return '80-89'\n",
    "    elif s['Età'] >= 90:\n",
    "        return '90+'"
   ]
  },
  {
   "cell_type": "markdown",
   "metadata": {},
   "source": [
    "def regrouping(s):\n",
    "    if s['Età'] >= 0 | s['Età'] < 16:\n",
    "        return '0-16'\n",
    "    elif s['Età'] >= 16 | s['Età'] <= 19:\n",
    "        return '16-19'\n",
    "    elif s['Età'] >= 20 | s['Età'] <= 29:\n",
    "        return '20-29'\n",
    "    elif s['Età'] >= 30 | s['Età'] <= 39:\n",
    "        return '30-39'\n",
    "    elif s['Età'] >= 40 | s['Età'] <= 49:\n",
    "        return '40-49'\n",
    "    elif s['Età'] >= 50 | s['Età'] <= 59:\n",
    "        return '50-59'\n",
    "    elif s['Età'] >= 60 | s['Età'] <= 69:\n",
    "        return '60-69'\n",
    "    elif s['Età'] >= 70 | s['Età'] <= 79:\n",
    "        return '70-79'\n",
    "    elif s['Età'] >= 80 | s['Età'] <= 89:\n",
    "        return '80-89'\n",
    "    elif s['Età'] >= 90:\n",
    "        return '90+'"
   ]
  },
  {
   "cell_type": "code",
   "execution_count": 767,
   "metadata": {},
   "outputs": [],
   "source": [
    "\n",
    "pop['gruppo'] = pop.apply(ages, axis=1)"
   ]
  },
  {
   "cell_type": "code",
   "execution_count": 768,
   "metadata": {},
   "outputs": [
    {
     "data": {
      "text/html": [
       "<div>\n",
       "<style scoped>\n",
       "    .dataframe tbody tr th:only-of-type {\n",
       "        vertical-align: middle;\n",
       "    }\n",
       "\n",
       "    .dataframe tbody tr th {\n",
       "        vertical-align: top;\n",
       "    }\n",
       "\n",
       "    .dataframe thead th {\n",
       "        text-align: right;\n",
       "    }\n",
       "</style>\n",
       "<table border=\"1\" class=\"dataframe\">\n",
       "  <thead>\n",
       "    <tr style=\"text-align: right;\">\n",
       "      <th></th>\n",
       "      <th>Età</th>\n",
       "      <th>Totale</th>\n",
       "      <th>gruppo</th>\n",
       "    </tr>\n",
       "  </thead>\n",
       "  <tbody>\n",
       "    <tr>\n",
       "      <th>0</th>\n",
       "      <td>0</td>\n",
       "      <td>532991</td>\n",
       "      <td>0-16</td>\n",
       "    </tr>\n",
       "    <tr>\n",
       "      <th>1</th>\n",
       "      <td>1</td>\n",
       "      <td>542019</td>\n",
       "      <td>0-16</td>\n",
       "    </tr>\n",
       "    <tr>\n",
       "      <th>2</th>\n",
       "      <td>2</td>\n",
       "      <td>553729</td>\n",
       "      <td>0-16</td>\n",
       "    </tr>\n",
       "    <tr>\n",
       "      <th>3</th>\n",
       "      <td>3</td>\n",
       "      <td>561994</td>\n",
       "      <td>0-16</td>\n",
       "    </tr>\n",
       "    <tr>\n",
       "      <th>4</th>\n",
       "      <td>4</td>\n",
       "      <td>559203</td>\n",
       "      <td>0-16</td>\n",
       "    </tr>\n",
       "    <tr>\n",
       "      <th>...</th>\n",
       "      <td>...</td>\n",
       "      <td>...</td>\n",
       "      <td>...</td>\n",
       "    </tr>\n",
       "    <tr>\n",
       "      <th>96</th>\n",
       "      <td>96</td>\n",
       "      <td>30447</td>\n",
       "      <td>90+</td>\n",
       "    </tr>\n",
       "    <tr>\n",
       "      <th>97</th>\n",
       "      <td>97</td>\n",
       "      <td>22450</td>\n",
       "      <td>90+</td>\n",
       "    </tr>\n",
       "    <tr>\n",
       "      <th>98</th>\n",
       "      <td>98</td>\n",
       "      <td>15624</td>\n",
       "      <td>90+</td>\n",
       "    </tr>\n",
       "    <tr>\n",
       "      <th>99</th>\n",
       "      <td>99</td>\n",
       "      <td>10192</td>\n",
       "      <td>90+</td>\n",
       "    </tr>\n",
       "    <tr>\n",
       "      <th>100</th>\n",
       "      <td>100</td>\n",
       "      <td>15080</td>\n",
       "      <td>90+</td>\n",
       "    </tr>\n",
       "  </tbody>\n",
       "</table>\n",
       "<p>101 rows × 3 columns</p>\n",
       "</div>"
      ],
      "text/plain": [
       "     Età  Totale gruppo\n",
       "0      0  532991   0-16\n",
       "1      1  542019   0-16\n",
       "2      2  553729   0-16\n",
       "3      3  561994   0-16\n",
       "4      4  559203   0-16\n",
       "..   ...     ...    ...\n",
       "96    96   30447    90+\n",
       "97    97   22450    90+\n",
       "98    98   15624    90+\n",
       "99    99   10192    90+\n",
       "100  100   15080    90+\n",
       "\n",
       "[101 rows x 3 columns]"
      ]
     },
     "execution_count": 768,
     "metadata": {},
     "output_type": "execute_result"
    }
   ],
   "source": [
    "pop"
   ]
  },
  {
   "cell_type": "code",
   "execution_count": 769,
   "metadata": {},
   "outputs": [],
   "source": [
    "pop = pop.groupby('gruppo')['Totale'].sum().reset_index()\n",
    "pop.gruppo = pop.gruppo.astype(str)"
   ]
  },
  {
   "cell_type": "code",
   "execution_count": 770,
   "metadata": {},
   "outputs": [
    {
     "data": {
      "text/html": [
       "<div>\n",
       "<style scoped>\n",
       "    .dataframe tbody tr th:only-of-type {\n",
       "        vertical-align: middle;\n",
       "    }\n",
       "\n",
       "    .dataframe tbody tr th {\n",
       "        vertical-align: top;\n",
       "    }\n",
       "\n",
       "    .dataframe thead th {\n",
       "        text-align: right;\n",
       "    }\n",
       "</style>\n",
       "<table border=\"1\" class=\"dataframe\">\n",
       "  <thead>\n",
       "    <tr style=\"text-align: right;\">\n",
       "      <th></th>\n",
       "      <th>gruppo</th>\n",
       "      <th>Totale</th>\n",
       "    </tr>\n",
       "  </thead>\n",
       "  <tbody>\n",
       "    <tr>\n",
       "      <th>0</th>\n",
       "      <td>0-16</td>\n",
       "      <td>8885150</td>\n",
       "    </tr>\n",
       "    <tr>\n",
       "      <th>1</th>\n",
       "      <td>16-19</td>\n",
       "      <td>2310358</td>\n",
       "    </tr>\n",
       "    <tr>\n",
       "      <th>2</th>\n",
       "      <td>20-29</td>\n",
       "      <td>6327883</td>\n",
       "    </tr>\n",
       "    <tr>\n",
       "      <th>3</th>\n",
       "      <td>30-39</td>\n",
       "      <td>8345554</td>\n",
       "    </tr>\n",
       "    <tr>\n",
       "      <th>4</th>\n",
       "      <td>40-49</td>\n",
       "      <td>9567872</td>\n",
       "    </tr>\n",
       "    <tr>\n",
       "      <th>5</th>\n",
       "      <td>50-59</td>\n",
       "      <td>7871829</td>\n",
       "    </tr>\n",
       "    <tr>\n",
       "      <th>6</th>\n",
       "      <td>60-69</td>\n",
       "      <td>6860158</td>\n",
       "    </tr>\n",
       "    <tr>\n",
       "      <th>7</th>\n",
       "      <td>70-79</td>\n",
       "      <td>5628974</td>\n",
       "    </tr>\n",
       "    <tr>\n",
       "      <th>8</th>\n",
       "      <td>80-89</td>\n",
       "      <td>3117811</td>\n",
       "    </tr>\n",
       "    <tr>\n",
       "      <th>9</th>\n",
       "      <td>90+</td>\n",
       "      <td>518155</td>\n",
       "    </tr>\n",
       "  </tbody>\n",
       "</table>\n",
       "</div>"
      ],
      "text/plain": [
       "  gruppo   Totale\n",
       "0   0-16  8885150\n",
       "1  16-19  2310358\n",
       "2  20-29  6327883\n",
       "3  30-39  8345554\n",
       "4  40-49  9567872\n",
       "5  50-59  7871829\n",
       "6  60-69  6860158\n",
       "7  70-79  5628974\n",
       "8  80-89  3117811\n",
       "9    90+   518155"
      ]
     },
     "execution_count": 770,
     "metadata": {},
     "output_type": "execute_result"
    }
   ],
   "source": [
    "pop"
   ]
  },
  {
   "cell_type": "code",
   "execution_count": 771,
   "metadata": {},
   "outputs": [
    {
     "data": {
      "text/html": [
       "<div>\n",
       "<style scoped>\n",
       "    .dataframe tbody tr th:only-of-type {\n",
       "        vertical-align: middle;\n",
       "    }\n",
       "\n",
       "    .dataframe tbody tr th {\n",
       "        vertical-align: top;\n",
       "    }\n",
       "\n",
       "    .dataframe thead th {\n",
       "        text-align: right;\n",
       "    }\n",
       "</style>\n",
       "<table border=\"1\" class=\"dataframe\">\n",
       "  <thead>\n",
       "    <tr style=\"text-align: right;\">\n",
       "      <th></th>\n",
       "      <th>data_somministrazione</th>\n",
       "      <th>fascia_anagrafica</th>\n",
       "      <th>prima_dose</th>\n",
       "      <th>prima_dose_totale_giorno</th>\n",
       "      <th>perc_tot_somministrati</th>\n",
       "      <th>totale_fascia</th>\n",
       "    </tr>\n",
       "  </thead>\n",
       "  <tbody>\n",
       "    <tr>\n",
       "      <th>0</th>\n",
       "      <td>01-01-2021</td>\n",
       "      <td>16-19</td>\n",
       "      <td>2</td>\n",
       "      <td>10911</td>\n",
       "      <td>0.0</td>\n",
       "      <td>2310358</td>\n",
       "    </tr>\n",
       "    <tr>\n",
       "      <th>1</th>\n",
       "      <td>02-01-2021</td>\n",
       "      <td>16-19</td>\n",
       "      <td>18</td>\n",
       "      <td>37872</td>\n",
       "      <td>0.0</td>\n",
       "      <td>2310358</td>\n",
       "    </tr>\n",
       "    <tr>\n",
       "      <th>2</th>\n",
       "      <td>04-01-2021</td>\n",
       "      <td>16-19</td>\n",
       "      <td>12</td>\n",
       "      <td>67575</td>\n",
       "      <td>0.0</td>\n",
       "      <td>2310358</td>\n",
       "    </tr>\n",
       "    <tr>\n",
       "      <th>3</th>\n",
       "      <td>05-01-2021</td>\n",
       "      <td>16-19</td>\n",
       "      <td>22</td>\n",
       "      <td>78600</td>\n",
       "      <td>0.0</td>\n",
       "      <td>2310358</td>\n",
       "    </tr>\n",
       "    <tr>\n",
       "      <th>4</th>\n",
       "      <td>06-01-2021</td>\n",
       "      <td>16-19</td>\n",
       "      <td>38</td>\n",
       "      <td>64582</td>\n",
       "      <td>0.0</td>\n",
       "      <td>2310358</td>\n",
       "    </tr>\n",
       "  </tbody>\n",
       "</table>\n",
       "</div>"
      ],
      "text/plain": [
       "  data_somministrazione fascia_anagrafica  prima_dose  \\\n",
       "0            01-01-2021             16-19           2   \n",
       "1            02-01-2021             16-19          18   \n",
       "2            04-01-2021             16-19          12   \n",
       "3            05-01-2021             16-19          22   \n",
       "4            06-01-2021             16-19          38   \n",
       "\n",
       "   prima_dose_totale_giorno  perc_tot_somministrati  totale_fascia  \n",
       "0                     10911                     0.0        2310358  \n",
       "1                     37872                     0.0        2310358  \n",
       "2                     67575                     0.0        2310358  \n",
       "3                     78600                     0.0        2310358  \n",
       "4                     64582                     0.0        2310358  "
      ]
     },
     "execution_count": 771,
     "metadata": {},
     "output_type": "execute_result"
    }
   ],
   "source": [
    "df1 = df1.merge(pop, left_on='fascia_anagrafica', right_on='gruppo', how='inner')\n",
    "df1.drop('gruppo', axis=1, inplace=True)\n",
    "df1.rename(columns={'Totale':'totale_fascia'}, inplace=True)\n",
    "df1.head()"
   ]
  },
  {
   "cell_type": "code",
   "execution_count": 772,
   "metadata": {},
   "outputs": [
    {
     "data": {
      "text/html": [
       "<div>\n",
       "<style scoped>\n",
       "    .dataframe tbody tr th:only-of-type {\n",
       "        vertical-align: middle;\n",
       "    }\n",
       "\n",
       "    .dataframe tbody tr th {\n",
       "        vertical-align: top;\n",
       "    }\n",
       "\n",
       "    .dataframe thead th {\n",
       "        text-align: right;\n",
       "    }\n",
       "</style>\n",
       "<table border=\"1\" class=\"dataframe\">\n",
       "  <thead>\n",
       "    <tr style=\"text-align: right;\">\n",
       "      <th></th>\n",
       "      <th>data_somministrazione</th>\n",
       "      <th>fascia_anagrafica</th>\n",
       "      <th>prima_dose</th>\n",
       "      <th>Totale</th>\n",
       "    </tr>\n",
       "  </thead>\n",
       "  <tbody>\n",
       "    <tr>\n",
       "      <th>255</th>\n",
       "      <td>25-01-2021</td>\n",
       "      <td>90+</td>\n",
       "      <td>4424</td>\n",
       "      <td>518155</td>\n",
       "    </tr>\n",
       "    <tr>\n",
       "      <th>256</th>\n",
       "      <td>26-01-2021</td>\n",
       "      <td>90+</td>\n",
       "      <td>3948</td>\n",
       "      <td>518155</td>\n",
       "    </tr>\n",
       "    <tr>\n",
       "      <th>257</th>\n",
       "      <td>27-01-2021</td>\n",
       "      <td>90+</td>\n",
       "      <td>5558</td>\n",
       "      <td>518155</td>\n",
       "    </tr>\n",
       "    <tr>\n",
       "      <th>258</th>\n",
       "      <td>28-01-2021</td>\n",
       "      <td>90+</td>\n",
       "      <td>4058</td>\n",
       "      <td>518155</td>\n",
       "    </tr>\n",
       "    <tr>\n",
       "      <th>259</th>\n",
       "      <td>29-01-2021</td>\n",
       "      <td>90+</td>\n",
       "      <td>3506</td>\n",
       "      <td>518155</td>\n",
       "    </tr>\n",
       "  </tbody>\n",
       "</table>\n",
       "</div>"
      ],
      "text/plain": [
       "    data_somministrazione fascia_anagrafica  prima_dose  Totale\n",
       "255            25-01-2021               90+        4424  518155\n",
       "256            26-01-2021               90+        3948  518155\n",
       "257            27-01-2021               90+        5558  518155\n",
       "258            28-01-2021               90+        4058  518155\n",
       "259            29-01-2021               90+        3506  518155"
      ]
     },
     "execution_count": 772,
     "metadata": {},
     "output_type": "execute_result"
    }
   ],
   "source": [
    "df2 = (df1.groupby(['data_somministrazione','fascia_anagrafica'])['prima_dose']\n",
    " .sum().groupby(level=0).cumsum().reset_index()\n",
    ".merge(pop, left_on='fascia_anagrafica', right_on='gruppo')).drop(['gruppo'], axis=1)\n",
    "df2.tail()"
   ]
  },
  {
   "cell_type": "code",
   "execution_count": 773,
   "metadata": {},
   "outputs": [],
   "source": [
    "df_last = df1.groupby('fascia_anagrafica')[['prima_dose','totale_fascia']].agg({'prima_dose':'sum','totale_fascia':'last'}).reset_index()"
   ]
  },
  {
   "cell_type": "code",
   "execution_count": 774,
   "metadata": {},
   "outputs": [],
   "source": [
    "df_last['perc_vaccinata'] = (df_last.prima_dose/df_last.totale_fascia).mul(100).round(2)"
   ]
  },
  {
   "cell_type": "code",
   "execution_count": 775,
   "metadata": {},
   "outputs": [
    {
     "data": {
      "text/html": [
       "<div>\n",
       "<style scoped>\n",
       "    .dataframe tbody tr th:only-of-type {\n",
       "        vertical-align: middle;\n",
       "    }\n",
       "\n",
       "    .dataframe tbody tr th {\n",
       "        vertical-align: top;\n",
       "    }\n",
       "\n",
       "    .dataframe thead th {\n",
       "        text-align: right;\n",
       "    }\n",
       "</style>\n",
       "<table border=\"1\" class=\"dataframe\">\n",
       "  <thead>\n",
       "    <tr style=\"text-align: right;\">\n",
       "      <th></th>\n",
       "      <th>fascia_anagrafica</th>\n",
       "      <th>prima_dose</th>\n",
       "      <th>totale_fascia</th>\n",
       "      <th>perc_vaccinata</th>\n",
       "    </tr>\n",
       "  </thead>\n",
       "  <tbody>\n",
       "    <tr>\n",
       "      <th>0</th>\n",
       "      <td>16-19</td>\n",
       "      <td>1318</td>\n",
       "      <td>2310358</td>\n",
       "      <td>0.06</td>\n",
       "    </tr>\n",
       "    <tr>\n",
       "      <th>1</th>\n",
       "      <td>20-29</td>\n",
       "      <td>132799</td>\n",
       "      <td>6327883</td>\n",
       "      <td>2.10</td>\n",
       "    </tr>\n",
       "    <tr>\n",
       "      <th>2</th>\n",
       "      <td>30-39</td>\n",
       "      <td>197831</td>\n",
       "      <td>8345554</td>\n",
       "      <td>2.37</td>\n",
       "    </tr>\n",
       "    <tr>\n",
       "      <th>3</th>\n",
       "      <td>40-49</td>\n",
       "      <td>246785</td>\n",
       "      <td>9567872</td>\n",
       "      <td>2.58</td>\n",
       "    </tr>\n",
       "    <tr>\n",
       "      <th>4</th>\n",
       "      <td>50-59</td>\n",
       "      <td>332007</td>\n",
       "      <td>7871829</td>\n",
       "      <td>4.22</td>\n",
       "    </tr>\n",
       "    <tr>\n",
       "      <th>5</th>\n",
       "      <td>60-69</td>\n",
       "      <td>205484</td>\n",
       "      <td>6860158</td>\n",
       "      <td>3.00</td>\n",
       "    </tr>\n",
       "    <tr>\n",
       "      <th>6</th>\n",
       "      <td>70-79</td>\n",
       "      <td>48906</td>\n",
       "      <td>5628974</td>\n",
       "      <td>0.87</td>\n",
       "    </tr>\n",
       "    <tr>\n",
       "      <th>7</th>\n",
       "      <td>80-89</td>\n",
       "      <td>71143</td>\n",
       "      <td>3117811</td>\n",
       "      <td>2.28</td>\n",
       "    </tr>\n",
       "    <tr>\n",
       "      <th>8</th>\n",
       "      <td>90+</td>\n",
       "      <td>55379</td>\n",
       "      <td>518155</td>\n",
       "      <td>10.69</td>\n",
       "    </tr>\n",
       "  </tbody>\n",
       "</table>\n",
       "</div>"
      ],
      "text/plain": [
       "  fascia_anagrafica  prima_dose  totale_fascia  perc_vaccinata\n",
       "0             16-19        1318        2310358            0.06\n",
       "1             20-29      132799        6327883            2.10\n",
       "2             30-39      197831        8345554            2.37\n",
       "3             40-49      246785        9567872            2.58\n",
       "4             50-59      332007        7871829            4.22\n",
       "5             60-69      205484        6860158            3.00\n",
       "6             70-79       48906        5628974            0.87\n",
       "7             80-89       71143        3117811            2.28\n",
       "8               90+       55379         518155           10.69"
      ]
     },
     "execution_count": 775,
     "metadata": {},
     "output_type": "execute_result"
    }
   ],
   "source": [
    "df_last"
   ]
  },
  {
   "cell_type": "code",
   "execution_count": 776,
   "metadata": {},
   "outputs": [
    {
     "data": {
      "image/png": "[encoded data removed]",
      "text/plain": [
       "<Figure size 1008x504 with 1 Axes>"
      ]
     },
     "metadata": {},
     "output_type": "display_data"
    }
   ],
   "source": [
    "sns.set_style('darkgrid')\n",
    "plt.figure(figsize=(14,7))\n",
    "sns.barplot(data=df_last, x='fascia_anagrafica',y='perc_vaccinata', color='#176AA5').set_title('Elaborazione: @TomZ_UK - Dati: ISS/ISTAT', fontsize=12)\n",
    "plt.ylabel('Percentuale', fontsize=16)\n",
    "plt.xlabel('Fascia Anagrafica', fontsize=16)\n",
    "plt.suptitle('Percentuale di Popolazione Vaccinata con Prima Dose', fontsize=20)\n",
    "\n",
    "plt.savefig('Percentuale_Pop.png')"
   ]
  },
  {
   "cell_type": "code",
   "execution_count": 777,
   "metadata": {},
   "outputs": [
    {
     "data": {
      "text/plain": [
       "1774490"
      ]
     },
     "execution_count": 777,
     "metadata": {},
     "output_type": "execute_result"
    }
   ],
   "source": [
    "(df.prima_dose.sum() + df.seconda_dose.sum())"
   ]
  },
  {
   "cell_type": "code",
   "execution_count": 778,
   "metadata": {},
   "outputs": [],
   "source": [
    "pop.drop(index=0, inplace=True)"
   ]
  },
  {
   "cell_type": "code",
   "execution_count": 779,
   "metadata": {},
   "outputs": [
    {
     "data": {
      "text/plain": [
       "2.56"
      ]
     },
     "execution_count": 779,
     "metadata": {},
     "output_type": "execute_result"
    }
   ],
   "source": [
    "((df.prima_dose.sum()/pop.Totale.sum())*100).round(2)"
   ]
  },
  {
   "cell_type": "markdown",
   "metadata": {},
   "source": [
    "# Gauge Chart"
   ]
  },
  {
   "cell_type": "code",
   "execution_count": 780,
   "metadata": {},
   "outputs": [
    {
     "data": {
      "text/plain": [
       "0         NaN\n",
       "1         0.0\n",
       "2         0.0\n",
       "3         0.0\n",
       "4         0.0\n",
       "5         0.0\n",
       "6         0.0\n",
       "7         0.0\n",
       "8         0.0\n",
       "9         0.0\n",
       "10        0.0\n",
       "11        0.0\n",
       "12        0.0\n",
       "13        0.0\n",
       "14        0.0\n",
       "15        7.0\n",
       "16     2798.0\n",
       "17     4392.0\n",
       "18     1772.0\n",
       "19     4472.0\n",
       "20    19328.0\n",
       "21    13829.0\n",
       "22    32513.0\n",
       "23    30502.0\n",
       "24    63147.0\n",
       "25    74285.0\n",
       "26    63298.0\n",
       "27    86694.0\n",
       "28    85801.0\n",
       "Name: seconda_dose, dtype: float64"
      ]
     },
     "execution_count": 780,
     "metadata": {},
     "output_type": "execute_result"
    }
   ],
   "source": [
    "df_seconda = df.groupby(df.data_somministrazione)[['seconda_dose']].sum().cumsum().reset_index()\n",
    "df_seconda.seconda_dose.diff()"
   ]
  },
  {
   "cell_type": "markdown",
   "metadata": {},
   "source": [
    "df.groupby(['data_somministrazione'])['prima_dose'].sum() \\\n",
    "  .groupby(level=1).cumsum().reset_index()"
   ]
  },
  {
   "cell_type": "code",
   "execution_count": 781,
   "metadata": {},
   "outputs": [],
   "source": [
    "df_prima = df.groupby('data_somministrazione')[['prima_dose']].sum().cumsum().reset_index()"
   ]
  },
  {
   "cell_type": "code",
   "execution_count": 782,
   "metadata": {},
   "outputs": [
    {
     "data": {
      "text/plain": [
       "50548594"
      ]
     },
     "execution_count": 782,
     "metadata": {},
     "output_type": "execute_result"
    }
   ],
   "source": [
    "pop.Totale.sum()"
   ]
  },
  {
   "cell_type": "code",
   "execution_count": 783,
   "metadata": {},
   "outputs": [],
   "source": [
    "df_prima['pct_pop_prima_dose'] = (df_prima.prima_dose/pop.Totale.sum()).mul(100)"
   ]
  },
  {
   "cell_type": "code",
   "execution_count": 784,
   "metadata": {},
   "outputs": [],
   "source": [
    "df_prima['daily_change'] = df_prima.pct_pop_prima_dose.diff()"
   ]
  },
  {
   "cell_type": "code",
   "execution_count": 785,
   "metadata": {},
   "outputs": [],
   "source": [
    "df_prima['prima_dose_giorno'] = df_prima.prima_dose.diff().fillna(0)"
   ]
  },
  {
   "cell_type": "code",
   "execution_count": 786,
   "metadata": {},
   "outputs": [
    {
     "data": {
      "application/vnd.plotly.v1+json": {
       "config": {
        "plotlyServerURL": "https://plot.ly"
       },
       "data": [
        {
         "delta": {
          "increasing": {
           "color": "Green"
          },
          "reference": 2.506839260454999,
          "valueformat": ".02f"
         },
         "domain": {
          "x": [
           0,
           1
          ],
          "y": [
           0,
           1
          ]
         },
         "gauge": {
          "axis": {
           "range": [
            null,
            100
           ],
           "tickcolor": "darkblue",
           "tickwidth": 1
          },
          "bar": {
           "color": "#FFBF00"
          },
          "bgcolor": "white",
          "bordercolor": "gray",
          "borderwidth": 2,
          "steps": [
           {
            "color": "#85C1E9",
            "range": [
             0,
             80
            ]
           },
           {
            "color": "#85C1E9",
            "range": [
             40,
             60
            ]
           },
           {
            "color": "#85C1E9",
            "range": [
             60,
             80
            ]
           }
          ],
          "threshold": {
           "line": {
            "color": "red",
            "width": 4
           },
           "thickness": 0.75,
           "value": 80
          }
         },
         "mode": "gauge+number+delta",
         "title": {
          "font": {
           "size": 24
          },
          "text": "Percentuale Popolazione 16+ Vaccinata con Prima Dose"
         },
         "type": "indicator",
         "value": 2.6
        }
       ],
       "layout": {
        "font": {
         "color": "darkblue",
         "family": "Arial"
        },
        "paper_bgcolor": "lavender",
        "template": {
         "data": {
          "bar": [
           {
            "error_x": {
             "color": "#2a3f5f"
            },
            "error_y": {
             "color": "#2a3f5f"
            },
            "marker": {
             "line": {
              "color": "#E5ECF6",
              "width": 0.5
             }
            },
            "type": "bar"
           }
          ],
          "barpolar": [
           {
            "marker": {
             "line": {
              "color": "#E5ECF6",
              "width": 0.5
             }
            },
            "type": "barpolar"
           }
          ],
          "carpet": [
           {
            "aaxis": {
             "endlinecolor": "#2a3f5f",
             "gridcolor": "white",
             "linecolor": "white",
             "minorgridcolor": "white",
             "startlinecolor": "#2a3f5f"
            },
            "baxis": {
             "endlinecolor": "#2a3f5f",
             "gridcolor": "white",
             "linecolor": "white",
             "minorgridcolor": "white",
             "startlinecolor": "#2a3f5f"
            },
            "type": "carpet"
           }
          ],
          "choropleth": [
           {
            "colorbar": {
             "outlinewidth": 0,
             "ticks": ""
            },
            "type": "choropleth"
           }
          ],
          "contour": [
           {
            "colorbar": {
             "outlinewidth": 0,
             "ticks": ""
            },
            "colorscale": [
             [
              0,
              "#0d0887"
             ],
             [
              0.1111111111111111,
              "#46039f"
             ],
             [
              0.2222222222222222,
              "#7201a8"
             ],
             [
              0.3333333333333333,
              "#9c179e"
             ],
             [
              0.4444444444444444,
              "#bd3786"
             ],
             [
              0.5555555555555556,
              "#d8576b"
             ],
             [
              0.6666666666666666,
              "#ed7953"
             ],
             [
              0.7777777777777778,
              "#fb9f3a"
             ],
             [
              0.8888888888888888,
              "#fdca26"
             ],
             [
              1,
              "#f0f921"
             ]
            ],
            "type": "contour"
           }
          ],
          "contourcarpet": [
           {
            "colorbar": {
             "outlinewidth": 0,
             "ticks": ""
            },
            "type": "contourcarpet"
           }
          ],
          "heatmap": [
           {
            "colorbar": {
             "outlinewidth": 0,
             "ticks": ""
            },
            "colorscale": [
             [
              0,
              "#0d0887"
             ],
             [
              0.1111111111111111,
              "#46039f"
             ],
             [
              0.2222222222222222,
              "#7201a8"
             ],
             [
              0.3333333333333333,
              "#9c179e"
             ],
             [
              0.4444444444444444,
              "#bd3786"
             ],
             [
              0.5555555555555556,
              "#d8576b"
             ],
             [
              0.6666666666666666,
              "#ed7953"
             ],
             [
              0.7777777777777778,
              "#fb9f3a"
             ],
             [
              0.8888888888888888,
              "#fdca26"
             ],
             [
              1,
              "#f0f921"
             ]
            ],
            "type": "heatmap"
           }
          ],
          "heatmapgl": [
           {
            "colorbar": {
             "outlinewidth": 0,
             "ticks": ""
            },
            "colorscale": [
             [
              0,
              "#0d0887"
             ],
             [
              0.1111111111111111,
              "#46039f"
             ],
             [
              0.2222222222222222,
              "#7201a8"
             ],
             [
              0.3333333333333333,
              "#9c179e"
             ],
             [
              0.4444444444444444,
              "#bd3786"
             ],
             [
              0.5555555555555556,
              "#d8576b"
             ],
             [
              0.6666666666666666,
              "#ed7953"
             ],
             [
              0.7777777777777778,
              "#fb9f3a"
             ],
             [
              0.8888888888888888,
              "#fdca26"
             ],
             [
              1,
              "#f0f921"
             ]
            ],
            "type": "heatmapgl"
           }
          ],
          "histogram": [
           {
            "marker": {
             "colorbar": {
              "outlinewidth": 0,
              "ticks": ""
             }
            },
            "type": "histogram"
           }
          ],
          "histogram2d": [
           {
            "colorbar": {
             "outlinewidth": 0,
             "ticks": ""
            },
            "colorscale": [
             [
              0,
              "#0d0887"
             ],
             [
              0.1111111111111111,
              "#46039f"
             ],
             [
              0.2222222222222222,
              "#7201a8"
             ],
             [
              0.3333333333333333,
              "#9c179e"
             ],
             [
              0.4444444444444444,
              "#bd3786"
             ],
             [
              0.5555555555555556,
              "#d8576b"
             ],
             [
              0.6666666666666666,
              "#ed7953"
             ],
             [
              0.7777777777777778,
              "#fb9f3a"
             ],
             [
              0.8888888888888888,
              "#fdca26"
             ],
             [
              1,
              "#f0f921"
             ]
            ],
            "type": "histogram2d"
           }
          ],
          "histogram2dcontour": [
           {
            "colorbar": {
             "outlinewidth": 0,
             "ticks": ""
            },
            "colorscale": [
             [
              0,
              "#0d0887"
             ],
             [
              0.1111111111111111,
              "#46039f"
             ],
             [
              0.2222222222222222,
              "#7201a8"
             ],
             [
              0.3333333333333333,
              "#9c179e"
             ],
             [
              0.4444444444444444,
              "#bd3786"
             ],
             [
              0.5555555555555556,
              "#d8576b"
             ],
             [
              0.6666666666666666,
              "#ed7953"
             ],
             [
              0.7777777777777778,
              "#fb9f3a"
             ],
             [
              0.8888888888888888,
              "#fdca26"
             ],
             [
              1,
              "#f0f921"
             ]
            ],
            "type": "histogram2dcontour"
           }
          ],
          "mesh3d": [
           {
            "colorbar": {
             "outlinewidth": 0,
             "ticks": ""
            },
            "type": "mesh3d"
           }
          ],
          "parcoords": [
           {
            "line": {
             "colorbar": {
              "outlinewidth": 0,
              "ticks": ""
             }
            },
            "type": "parcoords"
           }
          ],
          "pie": [
           {
            "automargin": true,
            "type": "pie"
           }
          ],
          "scatter": [
           {
            "marker": {
             "colorbar": {
              "outlinewidth": 0,
              "ticks": ""
             }
            },
            "type": "scatter"
           }
          ],
          "scatter3d": [
           {
            "line": {
             "colorbar": {
              "outlinewidth": 0,
              "ticks": ""
             }
            },
            "marker": {
             "colorbar": {
              "outlinewidth": 0,
              "ticks": ""
             }
            },
            "type": "scatter3d"
           }
          ],
          "scattercarpet": [
           {
            "marker": {
             "colorbar": {
              "outlinewidth": 0,
              "ticks": ""
             }
            },
            "type": "scattercarpet"
           }
          ],
          "scattergeo": [
           {
            "marker": {
             "colorbar": {
              "outlinewidth": 0,
              "ticks": ""
             }
            },
            "type": "scattergeo"
           }
          ],
          "scattergl": [
           {
            "marker": {
             "colorbar": {
              "outlinewidth": 0,
              "ticks": ""
             }
            },
            "type": "scattergl"
           }
          ],
          "scattermapbox": [
           {
            "marker": {
             "colorbar": {
              "outlinewidth": 0,
              "ticks": ""
             }
            },
            "type": "scattermapbox"
           }
          ],
          "scatterpolar": [
           {
            "marker": {
             "colorbar": {
              "outlinewidth": 0,
              "ticks": ""
             }
            },
            "type": "scatterpolar"
           }
          ],
          "scatterpolargl": [
           {
            "marker": {
             "colorbar": {
              "outlinewidth": 0,
              "ticks": ""
             }
            },
            "type": "scatterpolargl"
           }
          ],
          "scatterternary": [
           {
            "marker": {
             "colorbar": {
              "outlinewidth": 0,
              "ticks": ""
             }
            },
            "type": "scatterternary"
           }
          ],
          "surface": [
           {
            "colorbar": {
             "outlinewidth": 0,
             "ticks": ""
            },
            "colorscale": [
             [
              0,
              "#0d0887"
             ],
             [
              0.1111111111111111,
              "#46039f"
             ],
             [
              0.2222222222222222,
              "#7201a8"
             ],
             [
              0.3333333333333333,
              "#9c179e"
             ],
             [
              0.4444444444444444,
              "#bd3786"
             ],
             [
              0.5555555555555556,
              "#d8576b"
             ],
             [
              0.6666666666666666,
              "#ed7953"
             ],
             [
              0.7777777777777778,
              "#fb9f3a"
             ],
             [
              0.8888888888888888,
              "#fdca26"
             ],
             [
              1,
              "#f0f921"
             ]
            ],
            "type": "surface"
           }
          ],
          "table": [
           {
            "cells": {
             "fill": {
              "color": "#EBF0F8"
             },
             "line": {
              "color": "white"
             }
            },
            "header": {
             "fill": {
              "color": "#C8D4E3"
             },
             "line": {
              "color": "white"
             }
            },
            "type": "table"
           }
          ]
         },
         "layout": {
          "annotationdefaults": {
           "arrowcolor": "#2a3f5f",
           "arrowhead": 0,
           "arrowwidth": 1
          },
          "coloraxis": {
           "colorbar": {
            "outlinewidth": 0,
            "ticks": ""
           }
          },
          "colorscale": {
           "diverging": [
            [
             0,
             "#8e0152"
            ],
            [
             0.1,
             "#c51b7d"
            ],
            [
             0.2,
             "#de77ae"
            ],
            [
             0.3,
             "#f1b6da"
            ],
            [
             0.4,
             "#fde0ef"
            ],
            [
             0.5,
             "#f7f7f7"
            ],
            [
             0.6,
             "#e6f5d0"
            ],
            [
             0.7,
             "#b8e186"
            ],
            [
             0.8,
             "#7fbc41"
            ],
            [
             0.9,
             "#4d9221"
            ],
            [
             1,
             "#276419"
            ]
           ],
           "sequential": [
            [
             0,
             "#0d0887"
            ],
            [
             0.1111111111111111,
             "#46039f"
            ],
            [
             0.2222222222222222,
             "#7201a8"
            ],
            [
             0.3333333333333333,
             "#9c179e"
            ],
            [
             0.4444444444444444,
             "#bd3786"
            ],
            [
             0.5555555555555556,
             "#d8576b"
            ],
            [
             0.6666666666666666,
             "#ed7953"
            ],
            [
             0.7777777777777778,
             "#fb9f3a"
            ],
            [
             0.8888888888888888,
             "#fdca26"
            ],
            [
             1,
             "#f0f921"
            ]
           ],
           "sequentialminus": [
            [
             0,
             "#0d0887"
            ],
            [
             0.1111111111111111,
             "#46039f"
            ],
            [
             0.2222222222222222,
             "#7201a8"
            ],
            [
             0.3333333333333333,
             "#9c179e"
            ],
            [
             0.4444444444444444,
             "#bd3786"
            ],
            [
             0.5555555555555556,
             "#d8576b"
            ],
            [
             0.6666666666666666,
             "#ed7953"
            ],
            [
             0.7777777777777778,
             "#fb9f3a"
            ],
            [
             0.8888888888888888,
             "#fdca26"
            ],
            [
             1,
             "#f0f921"
            ]
           ]
          },
          "colorway": [
           "#636efa",
           "#EF553B",
           "#00cc96",
           "#ab63fa",
           "#FFA15A",
           "#19d3f3",
           "#FF6692",
           "#B6E880",
           "#FF97FF",
           "#FECB52"
          ],
          "font": {
           "color": "#2a3f5f"
          },
          "geo": {
           "bgcolor": "white",
           "lakecolor": "white",
           "landcolor": "#E5ECF6",
           "showlakes": true,
           "showland": true,
           "subunitcolor": "white"
          },
          "hoverlabel": {
           "align": "left"
          },
          "hovermode": "closest",
          "mapbox": {
           "style": "light"
          },
          "paper_bgcolor": "white",
          "plot_bgcolor": "#E5ECF6",
          "polar": {
           "angularaxis": {
            "gridcolor": "white",
            "linecolor": "white",
            "ticks": ""
           },
           "bgcolor": "#E5ECF6",
           "radialaxis": {
            "gridcolor": "white",
            "linecolor": "white",
            "ticks": ""
           }
          },
          "scene": {
           "xaxis": {
            "backgroundcolor": "#E5ECF6",
            "gridcolor": "white",
            "gridwidth": 2,
            "linecolor": "white",
            "showbackground": true,
            "ticks": "",
            "zerolinecolor": "white"
           },
           "yaxis": {
            "backgroundcolor": "#E5ECF6",
            "gridcolor": "white",
            "gridwidth": 2,
            "linecolor": "white",
            "showbackground": true,
            "ticks": "",
            "zerolinecolor": "white"
           },
           "zaxis": {
            "backgroundcolor": "#E5ECF6",
            "gridcolor": "white",
            "gridwidth": 2,
            "linecolor": "white",
            "showbackground": true,
            "ticks": "",
            "zerolinecolor": "white"
           }
          },
          "shapedefaults": {
           "line": {
            "color": "#2a3f5f"
           }
          },
          "ternary": {
           "aaxis": {
            "gridcolor": "white",
            "linecolor": "white",
            "ticks": ""
           },
           "baxis": {
            "gridcolor": "white",
            "linecolor": "white",
            "ticks": ""
           },
           "bgcolor": "#E5ECF6",
           "caxis": {
            "gridcolor": "white",
            "linecolor": "white",
            "ticks": ""
           }
          },
          "title": {
           "x": 0.05
          },
          "xaxis": {
           "automargin": true,
           "gridcolor": "white",
           "linecolor": "white",
           "ticks": "",
           "title": {
            "standoff": 15
           },
           "zerolinecolor": "white",
           "zerolinewidth": 2
          },
          "yaxis": {
           "automargin": true,
           "gridcolor": "white",
           "linecolor": "white",
           "ticks": "",
           "title": {
            "standoff": 15
           },
           "zerolinecolor": "white",
           "zerolinewidth": 2
          }
         }
        }
       }
      },
      "text/html": [
       "<div>\n",
       "        \n",
       "        \n",
       "            <div id=\"752f8808-845b-4a4c-bf36-9be61323a081\" class=\"plotly-graph-div\" style=\"height:525px; width:100%;\"></div>\n",
       "            <script type=\"text/javascript\">\n",
       "                require([\"plotly\"], function(Plotly) {\n",
       "                    window.PLOTLYENV=window.PLOTLYENV || {};\n",
       "                    \n",
       "                if (document.getElementById(\"752f8808-845b-4a4c-bf36-9be61323a081\")) {\n",
       "                    Plotly.newPlot(\n",
       "                        '752f8808-845b-4a4c-bf36-9be61323a081',\n",
       "                        [{\"delta\": {\"increasing\": {\"color\": \"Green\"}, \"reference\": 2.506839260454999, \"valueformat\": \".02f\"}, \"domain\": {\"x\": [0, 1], \"y\": [0, 1]}, \"gauge\": {\"axis\": {\"range\": [null, 100], \"tickcolor\": \"darkblue\", \"tickwidth\": 1}, \"bar\": {\"color\": \"#FFBF00\"}, \"bgcolor\": \"white\", \"bordercolor\": \"gray\", \"borderwidth\": 2, \"steps\": [{\"color\": \"#85C1E9\", \"range\": [0, 80]}, {\"color\": \"#85C1E9\", \"range\": [40, 60]}, {\"color\": \"#85C1E9\", \"range\": [60, 80]}], \"threshold\": {\"line\": {\"color\": \"red\", \"width\": 4}, \"thickness\": 0.75, \"value\": 80}}, \"mode\": \"gauge+number+delta\", \"title\": {\"font\": {\"size\": 24}, \"text\": \"Percentuale Popolazione 16+ Vaccinata con Prima Dose\"}, \"type\": \"indicator\", \"value\": 2.6}],\n",
       "                        {\"font\": {\"color\": \"darkblue\", \"family\": \"Arial\"}, \"paper_bgcolor\": \"lavender\", \"template\": {\"data\": {\"bar\": [{\"error_x\": {\"color\": \"#2a3f5f\"}, \"error_y\": {\"color\": \"#2a3f5f\"}, \"marker\": {\"line\": {\"color\": \"#E5ECF6\", \"width\": 0.5}}, \"type\": \"bar\"}], \"barpolar\": [{\"marker\": {\"line\": {\"color\": \"#E5ECF6\", \"width\": 0.5}}, \"type\": \"barpolar\"}], \"carpet\": [{\"aaxis\": {\"endlinecolor\": \"#2a3f5f\", \"gridcolor\": \"white\", \"linecolor\": \"white\", \"minorgridcolor\": \"white\", \"startlinecolor\": \"#2a3f5f\"}, \"baxis\": {\"endlinecolor\": \"#2a3f5f\", \"gridcolor\": \"white\", \"linecolor\": \"white\", \"minorgridcolor\": \"white\", \"startlinecolor\": \"#2a3f5f\"}, \"type\": \"carpet\"}], \"choropleth\": [{\"colorbar\": {\"outlinewidth\": 0, \"ticks\": \"\"}, \"type\": \"choropleth\"}], \"contour\": [{\"colorbar\": {\"outlinewidth\": 0, \"ticks\": \"\"}, \"colorscale\": [[0.0, \"#0d0887\"], [0.1111111111111111, \"#46039f\"], [0.2222222222222222, \"#7201a8\"], [0.3333333333333333, \"#9c179e\"], [0.4444444444444444, \"#bd3786\"], [0.5555555555555556, \"#d8576b\"], [0.6666666666666666, \"#ed7953\"], [0.7777777777777778, \"#fb9f3a\"], [0.8888888888888888, \"#fdca26\"], [1.0, \"#f0f921\"]], \"type\": \"contour\"}], \"contourcarpet\": [{\"colorbar\": {\"outlinewidth\": 0, \"ticks\": \"\"}, \"type\": \"contourcarpet\"}], \"heatmap\": [{\"colorbar\": {\"outlinewidth\": 0, \"ticks\": \"\"}, \"colorscale\": [[0.0, \"#0d0887\"], [0.1111111111111111, \"#46039f\"], [0.2222222222222222, \"#7201a8\"], [0.3333333333333333, \"#9c179e\"], [0.4444444444444444, \"#bd3786\"], [0.5555555555555556, \"#d8576b\"], [0.6666666666666666, \"#ed7953\"], [0.7777777777777778, \"#fb9f3a\"], [0.8888888888888888, \"#fdca26\"], [1.0, \"#f0f921\"]], \"type\": \"heatmap\"}], \"heatmapgl\": [{\"colorbar\": {\"outlinewidth\": 0, \"ticks\": \"\"}, \"colorscale\": [[0.0, \"#0d0887\"], [0.1111111111111111, \"#46039f\"], [0.2222222222222222, \"#7201a8\"], [0.3333333333333333, \"#9c179e\"], [0.4444444444444444, \"#bd3786\"], [0.5555555555555556, \"#d8576b\"], [0.6666666666666666, \"#ed7953\"], [0.7777777777777778, \"#fb9f3a\"], [0.8888888888888888, \"#fdca26\"], [1.0, \"#f0f921\"]], \"type\": \"heatmapgl\"}], \"histogram\": [{\"marker\": {\"colorbar\": {\"outlinewidth\": 0, \"ticks\": \"\"}}, \"type\": \"histogram\"}], \"histogram2d\": [{\"colorbar\": {\"outlinewidth\": 0, \"ticks\": \"\"}, \"colorscale\": [[0.0, \"#0d0887\"], [0.1111111111111111, \"#46039f\"], [0.2222222222222222, \"#7201a8\"], [0.3333333333333333, \"#9c179e\"], [0.4444444444444444, \"#bd3786\"], [0.5555555555555556, \"#d8576b\"], [0.6666666666666666, \"#ed7953\"], [0.7777777777777778, \"#fb9f3a\"], [0.8888888888888888, \"#fdca26\"], [1.0, \"#f0f921\"]], \"type\": \"histogram2d\"}], \"histogram2dcontour\": [{\"colorbar\": {\"outlinewidth\": 0, \"ticks\": \"\"}, \"colorscale\": [[0.0, \"#0d0887\"], [0.1111111111111111, \"#46039f\"], [0.2222222222222222, \"#7201a8\"], [0.3333333333333333, \"#9c179e\"], [0.4444444444444444, \"#bd3786\"], [0.5555555555555556, \"#d8576b\"], [0.6666666666666666, \"#ed7953\"], [0.7777777777777778, \"#fb9f3a\"], [0.8888888888888888, \"#fdca26\"], [1.0, \"#f0f921\"]], \"type\": \"histogram2dcontour\"}], \"mesh3d\": [{\"colorbar\": {\"outlinewidth\": 0, \"ticks\": \"\"}, \"type\": \"mesh3d\"}], \"parcoords\": [{\"line\": {\"colorbar\": {\"outlinewidth\": 0, \"ticks\": \"\"}}, \"type\": \"parcoords\"}], \"pie\": [{\"automargin\": true, \"type\": \"pie\"}], \"scatter\": [{\"marker\": {\"colorbar\": {\"outlinewidth\": 0, \"ticks\": \"\"}}, \"type\": \"scatter\"}], \"scatter3d\": [{\"line\": {\"colorbar\": {\"outlinewidth\": 0, \"ticks\": \"\"}}, \"marker\": {\"colorbar\": {\"outlinewidth\": 0, \"ticks\": \"\"}}, \"type\": \"scatter3d\"}], \"scattercarpet\": [{\"marker\": {\"colorbar\": {\"outlinewidth\": 0, \"ticks\": \"\"}}, \"type\": \"scattercarpet\"}], \"scattergeo\": [{\"marker\": {\"colorbar\": {\"outlinewidth\": 0, \"ticks\": \"\"}}, \"type\": \"scattergeo\"}], \"scattergl\": [{\"marker\": {\"colorbar\": {\"outlinewidth\": 0, \"ticks\": \"\"}}, \"type\": \"scattergl\"}], \"scattermapbox\": [{\"marker\": {\"colorbar\": {\"outlinewidth\": 0, \"ticks\": \"\"}}, \"type\": \"scattermapbox\"}], \"scatterpolar\": [{\"marker\": {\"colorbar\": {\"outlinewidth\": 0, \"ticks\": \"\"}}, \"type\": \"scatterpolar\"}], \"scatterpolargl\": [{\"marker\": {\"colorbar\": {\"outlinewidth\": 0, \"ticks\": \"\"}}, \"type\": \"scatterpolargl\"}], \"scatterternary\": [{\"marker\": {\"colorbar\": {\"outlinewidth\": 0, \"ticks\": \"\"}}, \"type\": \"scatterternary\"}], \"surface\": [{\"colorbar\": {\"outlinewidth\": 0, \"ticks\": \"\"}, \"colorscale\": [[0.0, \"#0d0887\"], [0.1111111111111111, \"#46039f\"], [0.2222222222222222, \"#7201a8\"], [0.3333333333333333, \"#9c179e\"], [0.4444444444444444, \"#bd3786\"], [0.5555555555555556, \"#d8576b\"], [0.6666666666666666, \"#ed7953\"], [0.7777777777777778, \"#fb9f3a\"], [0.8888888888888888, \"#fdca26\"], [1.0, \"#f0f921\"]], \"type\": \"surface\"}], \"table\": [{\"cells\": {\"fill\": {\"color\": \"#EBF0F8\"}, \"line\": {\"color\": \"white\"}}, \"header\": {\"fill\": {\"color\": \"#C8D4E3\"}, \"line\": {\"color\": \"white\"}}, \"type\": \"table\"}]}, \"layout\": {\"annotationdefaults\": {\"arrowcolor\": \"#2a3f5f\", \"arrowhead\": 0, \"arrowwidth\": 1}, \"coloraxis\": {\"colorbar\": {\"outlinewidth\": 0, \"ticks\": \"\"}}, \"colorscale\": {\"diverging\": [[0, \"#8e0152\"], [0.1, \"#c51b7d\"], [0.2, \"#de77ae\"], [0.3, \"#f1b6da\"], [0.4, \"#fde0ef\"], [0.5, \"#f7f7f7\"], [0.6, \"#e6f5d0\"], [0.7, \"#b8e186\"], [0.8, \"#7fbc41\"], [0.9, \"#4d9221\"], [1, \"#276419\"]], \"sequential\": [[0.0, \"#0d0887\"], [0.1111111111111111, \"#46039f\"], [0.2222222222222222, \"#7201a8\"], [0.3333333333333333, \"#9c179e\"], [0.4444444444444444, \"#bd3786\"], [0.5555555555555556, \"#d8576b\"], [0.6666666666666666, \"#ed7953\"], [0.7777777777777778, \"#fb9f3a\"], [0.8888888888888888, \"#fdca26\"], [1.0, \"#f0f921\"]], \"sequentialminus\": [[0.0, \"#0d0887\"], [0.1111111111111111, \"#46039f\"], [0.2222222222222222, \"#7201a8\"], [0.3333333333333333, \"#9c179e\"], [0.4444444444444444, \"#bd3786\"], [0.5555555555555556, \"#d8576b\"], [0.6666666666666666, \"#ed7953\"], [0.7777777777777778, \"#fb9f3a\"], [0.8888888888888888, \"#fdca26\"], [1.0, \"#f0f921\"]]}, \"colorway\": [\"#636efa\", \"#EF553B\", \"#00cc96\", \"#ab63fa\", \"#FFA15A\", \"#19d3f3\", \"#FF6692\", \"#B6E880\", \"#FF97FF\", \"#FECB52\"], \"font\": {\"color\": \"#2a3f5f\"}, \"geo\": {\"bgcolor\": \"white\", \"lakecolor\": \"white\", \"landcolor\": \"#E5ECF6\", \"showlakes\": true, \"showland\": true, \"subunitcolor\": \"white\"}, \"hoverlabel\": {\"align\": \"left\"}, \"hovermode\": \"closest\", \"mapbox\": {\"style\": \"light\"}, \"paper_bgcolor\": \"white\", \"plot_bgcolor\": \"#E5ECF6\", \"polar\": {\"angularaxis\": {\"gridcolor\": \"white\", \"linecolor\": \"white\", \"ticks\": \"\"}, \"bgcolor\": \"#E5ECF6\", \"radialaxis\": {\"gridcolor\": \"white\", \"linecolor\": \"white\", \"ticks\": \"\"}}, \"scene\": {\"xaxis\": {\"backgroundcolor\": \"#E5ECF6\", \"gridcolor\": \"white\", \"gridwidth\": 2, \"linecolor\": \"white\", \"showbackground\": true, \"ticks\": \"\", \"zerolinecolor\": \"white\"}, \"yaxis\": {\"backgroundcolor\": \"#E5ECF6\", \"gridcolor\": \"white\", \"gridwidth\": 2, \"linecolor\": \"white\", \"showbackground\": true, \"ticks\": \"\", \"zerolinecolor\": \"white\"}, \"zaxis\": {\"backgroundcolor\": \"#E5ECF6\", \"gridcolor\": \"white\", \"gridwidth\": 2, \"linecolor\": \"white\", \"showbackground\": true, \"ticks\": \"\", \"zerolinecolor\": \"white\"}}, \"shapedefaults\": {\"line\": {\"color\": \"#2a3f5f\"}}, \"ternary\": {\"aaxis\": {\"gridcolor\": \"white\", \"linecolor\": \"white\", \"ticks\": \"\"}, \"baxis\": {\"gridcolor\": \"white\", \"linecolor\": \"white\", \"ticks\": \"\"}, \"bgcolor\": \"#E5ECF6\", \"caxis\": {\"gridcolor\": \"white\", \"linecolor\": \"white\", \"ticks\": \"\"}}, \"title\": {\"x\": 0.05}, \"xaxis\": {\"automargin\": true, \"gridcolor\": \"white\", \"linecolor\": \"white\", \"ticks\": \"\", \"title\": {\"standoff\": 15}, \"zerolinecolor\": \"white\", \"zerolinewidth\": 2}, \"yaxis\": {\"automargin\": true, \"gridcolor\": \"white\", \"linecolor\": \"white\", \"ticks\": \"\", \"title\": {\"standoff\": 15}, \"zerolinecolor\": \"white\", \"zerolinewidth\": 2}}}},\n",
       "                        {\"responsive\": true}\n",
       "                    ).then(function(){\n",
       "                            \n",
       "var gd = document.getElementById('752f8808-845b-4a4c-bf36-9be61323a081');\n",
       "var x = new MutationObserver(function (mutations, observer) {{\n",
       "        var display = window.getComputedStyle(gd).display;\n",
       "        if (!display || display === 'none') {{\n",
       "            console.log([gd, 'removed!']);\n",
       "            Plotly.purge(gd);\n",
       "            observer.disconnect();\n",
       "        }}\n",
       "}});\n",
       "\n",
       "// Listen for the removal of the full notebook cells\n",
       "var notebookContainer = gd.closest('#notebook-container');\n",
       "if (notebookContainer) {{\n",
       "    x.observe(notebookContainer, {childList: true});\n",
       "}}\n",
       "\n",
       "// Listen for the clearing of the current output cell\n",
       "var outputEl = gd.closest('.output');\n",
       "if (outputEl) {{\n",
       "    x.observe(outputEl, {childList: true});\n",
       "}}\n",
       "\n",
       "                        })\n",
       "                };\n",
       "                });\n",
       "            </script>\n",
       "        </div>"
      ]
     },
     "metadata": {},
     "output_type": "display_data"
    }
   ],
   "source": [
    "fig = go.Figure(go.Indicator(\n",
    "    mode = \"gauge+number+delta\",\n",
    "    value = float(df_prima.pct_pop_prima_dose.tail(1).round(1)),\n",
    "    domain = {'x': [0, 1], 'y': [0, 1]},\n",
    "    title = {'text': \"Percentuale Popolazione 16+ Vaccinata con Prima Dose\", 'font': {'size': 24}},\n",
    "    delta = {'reference': float(df_prima.pct_pop_prima_dose.iloc[-7]), 'increasing': {'color': \"Green\"},\n",
    "            'valueformat':'.02f'},\n",
    "    gauge = {\n",
    "        'axis': {'range': [None, 100], 'tickwidth': 1, 'tickcolor': \"darkblue\"},\n",
    "        'bar': {'color': \"#FFBF00\"},\n",
    "        'bgcolor': \"white\",\n",
    "        'borderwidth': 2,\n",
    "        'bordercolor': \"gray\",\n",
    "        'steps': [\n",
    "            {'range': [0, 80], 'color': '#85C1E9'},\n",
    "            {'range': [40, 60], 'color': '#85C1E9'},\n",
    "            {'range': [60, 80], 'color': '#85C1E9'}],\n",
    "        'threshold': {\n",
    "            'line': {'color': \"red\", 'width': 4},\n",
    "            'thickness': 0.75,\n",
    "            'value': 80}}))\n",
    "\n",
    "fig.update_layout(paper_bgcolor = \"lavender\", font = {'color': \"darkblue\", 'family': \"Arial\"})\n",
    "\n",
    "fig"
   ]
  },
  {
   "cell_type": "code",
   "execution_count": 787,
   "metadata": {},
   "outputs": [
    {
     "data": {
      "text/html": [
       "<div>\n",
       "<style scoped>\n",
       "    .dataframe tbody tr th:only-of-type {\n",
       "        vertical-align: middle;\n",
       "    }\n",
       "\n",
       "    .dataframe tbody tr th {\n",
       "        vertical-align: top;\n",
       "    }\n",
       "\n",
       "    .dataframe thead th {\n",
       "        text-align: right;\n",
       "    }\n",
       "</style>\n",
       "<table border=\"1\" class=\"dataframe\">\n",
       "  <thead>\n",
       "    <tr style=\"text-align: right;\">\n",
       "      <th></th>\n",
       "      <th>data_somministrazione</th>\n",
       "      <th>prima_dose</th>\n",
       "      <th>pct_pop_prima_dose</th>\n",
       "      <th>daily_change</th>\n",
       "      <th>prima_dose_giorno</th>\n",
       "      <th>seconda_dose_giorno</th>\n",
       "    </tr>\n",
       "  </thead>\n",
       "  <tbody>\n",
       "    <tr>\n",
       "      <th>0</th>\n",
       "      <td>2021-01-01</td>\n",
       "      <td>10911</td>\n",
       "      <td>0.021585</td>\n",
       "      <td>NaN</td>\n",
       "      <td>0.0</td>\n",
       "      <td>0.0</td>\n",
       "    </tr>\n",
       "    <tr>\n",
       "      <th>1</th>\n",
       "      <td>2021-01-02</td>\n",
       "      <td>48783</td>\n",
       "      <td>0.096507</td>\n",
       "      <td>0.074922</td>\n",
       "      <td>37872.0</td>\n",
       "      <td>0.0</td>\n",
       "    </tr>\n",
       "    <tr>\n",
       "      <th>2</th>\n",
       "      <td>2021-01-03</td>\n",
       "      <td>83601</td>\n",
       "      <td>0.165387</td>\n",
       "      <td>0.068880</td>\n",
       "      <td>34818.0</td>\n",
       "      <td>0.0</td>\n",
       "    </tr>\n",
       "    <tr>\n",
       "      <th>3</th>\n",
       "      <td>2021-01-04</td>\n",
       "      <td>151176</td>\n",
       "      <td>0.299071</td>\n",
       "      <td>0.133683</td>\n",
       "      <td>67575.0</td>\n",
       "      <td>0.0</td>\n",
       "    </tr>\n",
       "    <tr>\n",
       "      <th>4</th>\n",
       "      <td>2021-01-05</td>\n",
       "      <td>229776</td>\n",
       "      <td>0.454565</td>\n",
       "      <td>0.155494</td>\n",
       "      <td>78600.0</td>\n",
       "      <td>0.0</td>\n",
       "    </tr>\n",
       "    <tr>\n",
       "      <th>5</th>\n",
       "      <td>2021-01-06</td>\n",
       "      <td>294358</td>\n",
       "      <td>0.582327</td>\n",
       "      <td>0.127762</td>\n",
       "      <td>64582.0</td>\n",
       "      <td>0.0</td>\n",
       "    </tr>\n",
       "    <tr>\n",
       "      <th>6</th>\n",
       "      <td>2021-01-07</td>\n",
       "      <td>385152</td>\n",
       "      <td>0.761944</td>\n",
       "      <td>0.179617</td>\n",
       "      <td>90794.0</td>\n",
       "      <td>0.0</td>\n",
       "    </tr>\n",
       "    <tr>\n",
       "      <th>7</th>\n",
       "      <td>2021-01-08</td>\n",
       "      <td>479200</td>\n",
       "      <td>0.947999</td>\n",
       "      <td>0.186055</td>\n",
       "      <td>94048.0</td>\n",
       "      <td>0.0</td>\n",
       "    </tr>\n",
       "    <tr>\n",
       "      <th>8</th>\n",
       "      <td>2021-01-09</td>\n",
       "      <td>565071</td>\n",
       "      <td>1.117877</td>\n",
       "      <td>0.169878</td>\n",
       "      <td>85871.0</td>\n",
       "      <td>0.0</td>\n",
       "    </tr>\n",
       "    <tr>\n",
       "      <th>9</th>\n",
       "      <td>2021-01-10</td>\n",
       "      <td>624819</td>\n",
       "      <td>1.236076</td>\n",
       "      <td>0.118199</td>\n",
       "      <td>59748.0</td>\n",
       "      <td>0.0</td>\n",
       "    </tr>\n",
       "    <tr>\n",
       "      <th>10</th>\n",
       "      <td>2021-01-11</td>\n",
       "      <td>704374</td>\n",
       "      <td>1.393459</td>\n",
       "      <td>0.157383</td>\n",
       "      <td>79555.0</td>\n",
       "      <td>0.0</td>\n",
       "    </tr>\n",
       "    <tr>\n",
       "      <th>11</th>\n",
       "      <td>2021-01-12</td>\n",
       "      <td>784088</td>\n",
       "      <td>1.551157</td>\n",
       "      <td>0.157698</td>\n",
       "      <td>79714.0</td>\n",
       "      <td>0.0</td>\n",
       "    </tr>\n",
       "    <tr>\n",
       "      <th>12</th>\n",
       "      <td>2021-01-13</td>\n",
       "      <td>875681</td>\n",
       "      <td>1.732355</td>\n",
       "      <td>0.181198</td>\n",
       "      <td>91593.0</td>\n",
       "      <td>0.0</td>\n",
       "    </tr>\n",
       "    <tr>\n",
       "      <th>13</th>\n",
       "      <td>2021-01-14</td>\n",
       "      <td>965880</td>\n",
       "      <td>1.910795</td>\n",
       "      <td>0.178440</td>\n",
       "      <td>90199.0</td>\n",
       "      <td>0.0</td>\n",
       "    </tr>\n",
       "    <tr>\n",
       "      <th>14</th>\n",
       "      <td>2021-01-15</td>\n",
       "      <td>1051137</td>\n",
       "      <td>2.079458</td>\n",
       "      <td>0.168663</td>\n",
       "      <td>85257.0</td>\n",
       "      <td>0.0</td>\n",
       "    </tr>\n",
       "    <tr>\n",
       "      <th>15</th>\n",
       "      <td>2021-01-16</td>\n",
       "      <td>1112704</td>\n",
       "      <td>2.201256</td>\n",
       "      <td>0.121798</td>\n",
       "      <td>61567.0</td>\n",
       "      <td>7.0</td>\n",
       "    </tr>\n",
       "    <tr>\n",
       "      <th>16</th>\n",
       "      <td>2021-01-17</td>\n",
       "      <td>1145473</td>\n",
       "      <td>2.266083</td>\n",
       "      <td>0.064827</td>\n",
       "      <td>32769.0</td>\n",
       "      <td>2798.0</td>\n",
       "    </tr>\n",
       "    <tr>\n",
       "      <th>17</th>\n",
       "      <td>2021-01-18</td>\n",
       "      <td>1181830</td>\n",
       "      <td>2.338008</td>\n",
       "      <td>0.071925</td>\n",
       "      <td>36357.0</td>\n",
       "      <td>4392.0</td>\n",
       "    </tr>\n",
       "    <tr>\n",
       "      <th>18</th>\n",
       "      <td>2021-01-19</td>\n",
       "      <td>1211367</td>\n",
       "      <td>2.396441</td>\n",
       "      <td>0.058433</td>\n",
       "      <td>29537.0</td>\n",
       "      <td>1772.0</td>\n",
       "    </tr>\n",
       "    <tr>\n",
       "      <th>19</th>\n",
       "      <td>2021-01-20</td>\n",
       "      <td>1235679</td>\n",
       "      <td>2.444537</td>\n",
       "      <td>0.048096</td>\n",
       "      <td>24312.0</td>\n",
       "      <td>4472.0</td>\n",
       "    </tr>\n",
       "    <tr>\n",
       "      <th>20</th>\n",
       "      <td>2021-01-21</td>\n",
       "      <td>1250314</td>\n",
       "      <td>2.473489</td>\n",
       "      <td>0.028952</td>\n",
       "      <td>14635.0</td>\n",
       "      <td>19328.0</td>\n",
       "    </tr>\n",
       "    <tr>\n",
       "      <th>21</th>\n",
       "      <td>2021-01-22</td>\n",
       "      <td>1261673</td>\n",
       "      <td>2.495961</td>\n",
       "      <td>0.022471</td>\n",
       "      <td>11359.0</td>\n",
       "      <td>13829.0</td>\n",
       "    </tr>\n",
       "    <tr>\n",
       "      <th>22</th>\n",
       "      <td>2021-01-23</td>\n",
       "      <td>1267172</td>\n",
       "      <td>2.506839</td>\n",
       "      <td>0.010879</td>\n",
       "      <td>5499.0</td>\n",
       "      <td>32513.0</td>\n",
       "    </tr>\n",
       "    <tr>\n",
       "      <th>23</th>\n",
       "      <td>2021-01-24</td>\n",
       "      <td>1270158</td>\n",
       "      <td>2.512746</td>\n",
       "      <td>0.005907</td>\n",
       "      <td>2986.0</td>\n",
       "      <td>30502.0</td>\n",
       "    </tr>\n",
       "    <tr>\n",
       "      <th>24</th>\n",
       "      <td>2021-01-25</td>\n",
       "      <td>1274582</td>\n",
       "      <td>2.521498</td>\n",
       "      <td>0.008752</td>\n",
       "      <td>4424.0</td>\n",
       "      <td>63147.0</td>\n",
       "    </tr>\n",
       "    <tr>\n",
       "      <th>25</th>\n",
       "      <td>2021-01-26</td>\n",
       "      <td>1278530</td>\n",
       "      <td>2.529309</td>\n",
       "      <td>0.007810</td>\n",
       "      <td>3948.0</td>\n",
       "      <td>74285.0</td>\n",
       "    </tr>\n",
       "    <tr>\n",
       "      <th>26</th>\n",
       "      <td>2021-01-27</td>\n",
       "      <td>1284088</td>\n",
       "      <td>2.540304</td>\n",
       "      <td>0.010995</td>\n",
       "      <td>5558.0</td>\n",
       "      <td>63298.0</td>\n",
       "    </tr>\n",
       "    <tr>\n",
       "      <th>27</th>\n",
       "      <td>2021-01-28</td>\n",
       "      <td>1288146</td>\n",
       "      <td>2.548332</td>\n",
       "      <td>0.008028</td>\n",
       "      <td>4058.0</td>\n",
       "      <td>86694.0</td>\n",
       "    </tr>\n",
       "    <tr>\n",
       "      <th>28</th>\n",
       "      <td>2021-01-29</td>\n",
       "      <td>1291652</td>\n",
       "      <td>2.555268</td>\n",
       "      <td>0.006936</td>\n",
       "      <td>3506.0</td>\n",
       "      <td>85801.0</td>\n",
       "    </tr>\n",
       "  </tbody>\n",
       "</table>\n",
       "</div>"
      ],
      "text/plain": [
       "   data_somministrazione  prima_dose  pct_pop_prima_dose  daily_change  \\\n",
       "0             2021-01-01       10911            0.021585           NaN   \n",
       "1             2021-01-02       48783            0.096507      0.074922   \n",
       "2             2021-01-03       83601            0.165387      0.068880   \n",
       "3             2021-01-04      151176            0.299071      0.133683   \n",
       "4             2021-01-05      229776            0.454565      0.155494   \n",
       "5             2021-01-06      294358            0.582327      0.127762   \n",
       "6             2021-01-07      385152            0.761944      0.179617   \n",
       "7             2021-01-08      479200            0.947999      0.186055   \n",
       "8             2021-01-09      565071            1.117877      0.169878   \n",
       "9             2021-01-10      624819            1.236076      0.118199   \n",
       "10            2021-01-11      704374            1.393459      0.157383   \n",
       "11            2021-01-12      784088            1.551157      0.157698   \n",
       "12            2021-01-13      875681            1.732355      0.181198   \n",
       "13            2021-01-14      965880            1.910795      0.178440   \n",
       "14            2021-01-15     1051137            2.079458      0.168663   \n",
       "15            2021-01-16     1112704            2.201256      0.121798   \n",
       "16            2021-01-17     1145473            2.266083      0.064827   \n",
       "17            2021-01-18     1181830            2.338008      0.071925   \n",
       "18            2021-01-19     1211367            2.396441      0.058433   \n",
       "19            2021-01-20     1235679            2.444537      0.048096   \n",
       "20            2021-01-21     1250314            2.473489      0.028952   \n",
       "21            2021-01-22     1261673            2.495961      0.022471   \n",
       "22            2021-01-23     1267172            2.506839      0.010879   \n",
       "23            2021-01-24     1270158            2.512746      0.005907   \n",
       "24            2021-01-25     1274582            2.521498      0.008752   \n",
       "25            2021-01-26     1278530            2.529309      0.007810   \n",
       "26            2021-01-27     1284088            2.540304      0.010995   \n",
       "27            2021-01-28     1288146            2.548332      0.008028   \n",
       "28            2021-01-29     1291652            2.555268      0.006936   \n",
       "\n",
       "    prima_dose_giorno  seconda_dose_giorno  \n",
       "0                 0.0                  0.0  \n",
       "1             37872.0                  0.0  \n",
       "2             34818.0                  0.0  \n",
       "3             67575.0                  0.0  \n",
       "4             78600.0                  0.0  \n",
       "5             64582.0                  0.0  \n",
       "6             90794.0                  0.0  \n",
       "7             94048.0                  0.0  \n",
       "8             85871.0                  0.0  \n",
       "9             59748.0                  0.0  \n",
       "10            79555.0                  0.0  \n",
       "11            79714.0                  0.0  \n",
       "12            91593.0                  0.0  \n",
       "13            90199.0                  0.0  \n",
       "14            85257.0                  0.0  \n",
       "15            61567.0                  7.0  \n",
       "16            32769.0               2798.0  \n",
       "17            36357.0               4392.0  \n",
       "18            29537.0               1772.0  \n",
       "19            24312.0               4472.0  \n",
       "20            14635.0              19328.0  \n",
       "21            11359.0              13829.0  \n",
       "22             5499.0              32513.0  \n",
       "23             2986.0              30502.0  \n",
       "24             4424.0              63147.0  \n",
       "25             3948.0              74285.0  \n",
       "26             5558.0              63298.0  \n",
       "27             4058.0              86694.0  \n",
       "28             3506.0              85801.0  "
      ]
     },
     "execution_count": 787,
     "metadata": {},
     "output_type": "execute_result"
    }
   ],
   "source": [
    "df_prima['seconda_dose_giorno'] = df_seconda.seconda_dose.diff().fillna(0)\n",
    "df_prima"
   ]
  },
  {
   "cell_type": "code",
   "execution_count": 788,
   "metadata": {},
   "outputs": [
    {
     "data": {
      "image/png": "[encoded data removed]",
      "text/plain": [
       "<Figure size 1008x504 with 1 Axes>"
      ]
     },
     "metadata": {},
     "output_type": "display_data"
    }
   ],
   "source": [
    "plt.figure(figsize=(14,7))\n",
    "sns.lineplot(data=df_prima, x='data_somministrazione', y='prima_dose_giorno', \n",
    "             linewidth=4).set_title('Elaborazione: @TomZ_UK - Dati: ISS')\n",
    "plt.suptitle('Somministrazioni Quotidiane - Prima Dose', fontsize=20)\n",
    "plt.xlabel('')\n",
    "plt.xticks(fontsize=14)\n",
    "plt.ylabel('')\n",
    "plt.yticks(fontsize=14)\n",
    "\n",
    "plt.savefig('daily_first_doses.png')"
   ]
  },
  {
   "cell_type": "code",
   "execution_count": 789,
   "metadata": {},
   "outputs": [
    {
     "name": "stderr",
     "output_type": "stream",
     "text": [
      "/Users/admin/opt/anaconda3/lib/python3.7/site-packages/pandas/core/frame.py:4446: SettingWithCopyWarning:\n",
      "\n",
      "\n",
      "A value is trying to be set on a copy of a slice from a DataFrame\n",
      "\n",
      "See the caveats in the documentation: https://pandas.pydata.org/pandas-docs/stable/user_guide/indexing.html#returning-a-view-versus-a-copy\n",
      "\n"
     ]
    },
    {
     "data": {
      "text/html": [
       "<div>\n",
       "<style scoped>\n",
       "    .dataframe tbody tr th:only-of-type {\n",
       "        vertical-align: middle;\n",
       "    }\n",
       "\n",
       "    .dataframe tbody tr th {\n",
       "        vertical-align: top;\n",
       "    }\n",
       "\n",
       "    .dataframe thead th {\n",
       "        text-align: right;\n",
       "    }\n",
       "</style>\n",
       "<table border=\"1\" class=\"dataframe\">\n",
       "  <thead>\n",
       "    <tr style=\"text-align: right;\">\n",
       "      <th></th>\n",
       "      <th>data_somministrazione</th>\n",
       "      <th>Prima Dose</th>\n",
       "      <th>Seconda Dose</th>\n",
       "    </tr>\n",
       "  </thead>\n",
       "  <tbody>\n",
       "    <tr>\n",
       "      <th>0</th>\n",
       "      <td>2021-01-01</td>\n",
       "      <td>0.0</td>\n",
       "      <td>0.0</td>\n",
       "    </tr>\n",
       "    <tr>\n",
       "      <th>1</th>\n",
       "      <td>2021-01-02</td>\n",
       "      <td>37872.0</td>\n",
       "      <td>0.0</td>\n",
       "    </tr>\n",
       "    <tr>\n",
       "      <th>2</th>\n",
       "      <td>2021-01-03</td>\n",
       "      <td>34818.0</td>\n",
       "      <td>0.0</td>\n",
       "    </tr>\n",
       "    <tr>\n",
       "      <th>3</th>\n",
       "      <td>2021-01-04</td>\n",
       "      <td>67575.0</td>\n",
       "      <td>0.0</td>\n",
       "    </tr>\n",
       "    <tr>\n",
       "      <th>4</th>\n",
       "      <td>2021-01-05</td>\n",
       "      <td>78600.0</td>\n",
       "      <td>0.0</td>\n",
       "    </tr>\n",
       "    <tr>\n",
       "      <th>5</th>\n",
       "      <td>2021-01-06</td>\n",
       "      <td>64582.0</td>\n",
       "      <td>0.0</td>\n",
       "    </tr>\n",
       "    <tr>\n",
       "      <th>6</th>\n",
       "      <td>2021-01-07</td>\n",
       "      <td>90794.0</td>\n",
       "      <td>0.0</td>\n",
       "    </tr>\n",
       "    <tr>\n",
       "      <th>7</th>\n",
       "      <td>2021-01-08</td>\n",
       "      <td>94048.0</td>\n",
       "      <td>0.0</td>\n",
       "    </tr>\n",
       "    <tr>\n",
       "      <th>8</th>\n",
       "      <td>2021-01-09</td>\n",
       "      <td>85871.0</td>\n",
       "      <td>0.0</td>\n",
       "    </tr>\n",
       "    <tr>\n",
       "      <th>9</th>\n",
       "      <td>2021-01-10</td>\n",
       "      <td>59748.0</td>\n",
       "      <td>0.0</td>\n",
       "    </tr>\n",
       "    <tr>\n",
       "      <th>10</th>\n",
       "      <td>2021-01-11</td>\n",
       "      <td>79555.0</td>\n",
       "      <td>0.0</td>\n",
       "    </tr>\n",
       "    <tr>\n",
       "      <th>11</th>\n",
       "      <td>2021-01-12</td>\n",
       "      <td>79714.0</td>\n",
       "      <td>0.0</td>\n",
       "    </tr>\n",
       "    <tr>\n",
       "      <th>12</th>\n",
       "      <td>2021-01-13</td>\n",
       "      <td>91593.0</td>\n",
       "      <td>0.0</td>\n",
       "    </tr>\n",
       "    <tr>\n",
       "      <th>13</th>\n",
       "      <td>2021-01-14</td>\n",
       "      <td>90199.0</td>\n",
       "      <td>0.0</td>\n",
       "    </tr>\n",
       "    <tr>\n",
       "      <th>14</th>\n",
       "      <td>2021-01-15</td>\n",
       "      <td>85257.0</td>\n",
       "      <td>0.0</td>\n",
       "    </tr>\n",
       "    <tr>\n",
       "      <th>15</th>\n",
       "      <td>2021-01-16</td>\n",
       "      <td>61567.0</td>\n",
       "      <td>7.0</td>\n",
       "    </tr>\n",
       "    <tr>\n",
       "      <th>16</th>\n",
       "      <td>2021-01-17</td>\n",
       "      <td>32769.0</td>\n",
       "      <td>2798.0</td>\n",
       "    </tr>\n",
       "    <tr>\n",
       "      <th>17</th>\n",
       "      <td>2021-01-18</td>\n",
       "      <td>36357.0</td>\n",
       "      <td>4392.0</td>\n",
       "    </tr>\n",
       "    <tr>\n",
       "      <th>18</th>\n",
       "      <td>2021-01-19</td>\n",
       "      <td>29537.0</td>\n",
       "      <td>1772.0</td>\n",
       "    </tr>\n",
       "    <tr>\n",
       "      <th>19</th>\n",
       "      <td>2021-01-20</td>\n",
       "      <td>24312.0</td>\n",
       "      <td>4472.0</td>\n",
       "    </tr>\n",
       "    <tr>\n",
       "      <th>20</th>\n",
       "      <td>2021-01-21</td>\n",
       "      <td>14635.0</td>\n",
       "      <td>19328.0</td>\n",
       "    </tr>\n",
       "    <tr>\n",
       "      <th>21</th>\n",
       "      <td>2021-01-22</td>\n",
       "      <td>11359.0</td>\n",
       "      <td>13829.0</td>\n",
       "    </tr>\n",
       "    <tr>\n",
       "      <th>22</th>\n",
       "      <td>2021-01-23</td>\n",
       "      <td>5499.0</td>\n",
       "      <td>32513.0</td>\n",
       "    </tr>\n",
       "    <tr>\n",
       "      <th>23</th>\n",
       "      <td>2021-01-24</td>\n",
       "      <td>2986.0</td>\n",
       "      <td>30502.0</td>\n",
       "    </tr>\n",
       "    <tr>\n",
       "      <th>24</th>\n",
       "      <td>2021-01-25</td>\n",
       "      <td>4424.0</td>\n",
       "      <td>63147.0</td>\n",
       "    </tr>\n",
       "    <tr>\n",
       "      <th>25</th>\n",
       "      <td>2021-01-26</td>\n",
       "      <td>3948.0</td>\n",
       "      <td>74285.0</td>\n",
       "    </tr>\n",
       "    <tr>\n",
       "      <th>26</th>\n",
       "      <td>2021-01-27</td>\n",
       "      <td>5558.0</td>\n",
       "      <td>63298.0</td>\n",
       "    </tr>\n",
       "    <tr>\n",
       "      <th>27</th>\n",
       "      <td>2021-01-28</td>\n",
       "      <td>4058.0</td>\n",
       "      <td>86694.0</td>\n",
       "    </tr>\n",
       "    <tr>\n",
       "      <th>28</th>\n",
       "      <td>2021-01-29</td>\n",
       "      <td>3506.0</td>\n",
       "      <td>85801.0</td>\n",
       "    </tr>\n",
       "  </tbody>\n",
       "</table>\n",
       "</div>"
      ],
      "text/plain": [
       "   data_somministrazione  Prima Dose  Seconda Dose\n",
       "0             2021-01-01         0.0           0.0\n",
       "1             2021-01-02     37872.0           0.0\n",
       "2             2021-01-03     34818.0           0.0\n",
       "3             2021-01-04     67575.0           0.0\n",
       "4             2021-01-05     78600.0           0.0\n",
       "5             2021-01-06     64582.0           0.0\n",
       "6             2021-01-07     90794.0           0.0\n",
       "7             2021-01-08     94048.0           0.0\n",
       "8             2021-01-09     85871.0           0.0\n",
       "9             2021-01-10     59748.0           0.0\n",
       "10            2021-01-11     79555.0           0.0\n",
       "11            2021-01-12     79714.0           0.0\n",
       "12            2021-01-13     91593.0           0.0\n",
       "13            2021-01-14     90199.0           0.0\n",
       "14            2021-01-15     85257.0           0.0\n",
       "15            2021-01-16     61567.0           7.0\n",
       "16            2021-01-17     32769.0        2798.0\n",
       "17            2021-01-18     36357.0        4392.0\n",
       "18            2021-01-19     29537.0        1772.0\n",
       "19            2021-01-20     24312.0        4472.0\n",
       "20            2021-01-21     14635.0       19328.0\n",
       "21            2021-01-22     11359.0       13829.0\n",
       "22            2021-01-23      5499.0       32513.0\n",
       "23            2021-01-24      2986.0       30502.0\n",
       "24            2021-01-25      4424.0       63147.0\n",
       "25            2021-01-26      3948.0       74285.0\n",
       "26            2021-01-27      5558.0       63298.0\n",
       "27            2021-01-28      4058.0       86694.0\n",
       "28            2021-01-29      3506.0       85801.0"
      ]
     },
     "execution_count": 789,
     "metadata": {},
     "output_type": "execute_result"
    }
   ],
   "source": [
    "df_pl = df_prima[['data_somministrazione','prima_dose_giorno','seconda_dose_giorno']]\n",
    "df_pl.rename(columns={'prima_dose_giorno':'Prima Dose', 'seconda_dose_giorno':'Seconda Dose'}, inplace=True)\n",
    "df_pl"
   ]
  },
  {
   "cell_type": "code",
   "execution_count": 790,
   "metadata": {},
   "outputs": [],
   "source": [
    "df_pl = df_pl.melt(id_vars=['data_somministrazione'])\n"
   ]
  },
  {
   "cell_type": "code",
   "execution_count": 794,
   "metadata": {},
   "outputs": [
    {
     "data": {
      "text/plain": [
       "<matplotlib.legend.Legend at 0x7f9478aa6950>"
      ]
     },
     "execution_count": 794,
     "metadata": {},
     "output_type": "execute_result"
    },
    {
     "data": {
      "image/png": "[encoded data removed]",
      "text/plain": [
       "<Figure size 1008x504 with 1 Axes>"
      ]
     },
     "metadata": {},
     "output_type": "display_data"
    }
   ],
   "source": [
    "plt.figure(figsize=(14,7))\n",
    "sns.lineplot(data=df_pl, x='data_somministrazione',y='value',hue='variable',\n",
    "            linewidth=3)\n",
    "plt.legend(fontsize=14)\n",
    "\n"
   ]
  },
  {
   "cell_type": "code",
   "execution_count": null,
   "metadata": {},
   "outputs": [],
   "source": []
  }
 ],
 "metadata": {
  "kernelspec": {
   "display_name": "Python 3",
   "language": "python",
   "name": "python3"
  },
  "language_info": {
   "codemirror_mode": {
    "name": "ipython",
    "version": 3
   },
   "file_extension": ".py",
   "mimetype": "text/x-python",
   "name": "python",
   "nbconvert_exporter": "python",
   "pygments_lexer": "ipython3",
   "version": "3.7.6"
  }
 },
 "nbformat": 4,
 "nbformat_minor": 4
}
