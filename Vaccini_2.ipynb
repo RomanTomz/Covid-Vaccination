{
 "cells": [
  {
   "cell_type": "code",
   "execution_count": 270,
   "metadata": {},
   "outputs": [
    {
     "data": {
      "text/html": [
       "<style>.container { width:100% !important; }</style>"
      ],
      "text/plain": [
       "<IPython.core.display.HTML object>"
      ]
     },
     "metadata": {},
     "output_type": "display_data"
    }
   ],
   "source": [
    "from IPython.core.display import display, HTML\n",
    "display(HTML(\"<style>.container { width:100% !important; }</style>\"))"
   ]
  },
  {
   "cell_type": "code",
   "execution_count": 271,
   "metadata": {},
   "outputs": [],
   "source": [
    "import pandas as pd\n",
    "import numpy as np\n",
    "\n",
    "import seaborn as sns\n",
    "import matplotlib.pyplot as plt\n",
    "import plotly.express as px\n",
    "import plotly.graph_objects as go\n",
    "\n",
    "pd.options.plotting.backend = \"plotly\"\n"
   ]
  },
  {
   "cell_type": "code",
   "execution_count": 272,
   "metadata": {},
   "outputs": [],
   "source": [
    "df = pd.read_csv('https://raw.githubusercontent.com/italia/covid19-opendata-vaccini/master/dati/somministrazioni-vaccini-latest.csv')\n",
    "df.data_somministrazione = pd.to_datetime(df.data_somministrazione)"
   ]
  },
  {
   "cell_type": "code",
   "execution_count": 273,
   "metadata": {},
   "outputs": [],
   "source": [
    "df.sort_values('data_somministrazione', inplace=True)"
   ]
  },
  {
   "cell_type": "code",
   "execution_count": 274,
   "metadata": {},
   "outputs": [
    {
     "data": {
      "text/html": [
       "<div>\n",
       "<style scoped>\n",
       "    .dataframe tbody tr th:only-of-type {\n",
       "        vertical-align: middle;\n",
       "    }\n",
       "\n",
       "    .dataframe tbody tr th {\n",
       "        vertical-align: top;\n",
       "    }\n",
       "\n",
       "    .dataframe thead th {\n",
       "        text-align: right;\n",
       "    }\n",
       "</style>\n",
       "<table border=\"1\" class=\"dataframe\">\n",
       "  <thead>\n",
       "    <tr style=\"text-align: right;\">\n",
       "      <th></th>\n",
       "      <th>data_somministrazione</th>\n",
       "      <th>fornitore</th>\n",
       "      <th>area</th>\n",
       "      <th>fascia_anagrafica</th>\n",
       "      <th>sesso_maschile</th>\n",
       "      <th>sesso_femminile</th>\n",
       "      <th>categoria_operatori_sanitari_sociosanitari</th>\n",
       "      <th>categoria_personale_non_sanitario</th>\n",
       "      <th>categoria_ospiti_rsa</th>\n",
       "      <th>categoria_over80</th>\n",
       "      <th>categoria_forze_armate</th>\n",
       "      <th>categoria_personale_scolastico</th>\n",
       "      <th>categoria_altro</th>\n",
       "      <th>prima_dose</th>\n",
       "      <th>seconda_dose</th>\n",
       "      <th>codice_NUTS1</th>\n",
       "      <th>codice_NUTS2</th>\n",
       "      <th>codice_regione_ISTAT</th>\n",
       "      <th>nome_area</th>\n",
       "    </tr>\n",
       "  </thead>\n",
       "  <tbody>\n",
       "    <tr>\n",
       "      <th>0</th>\n",
       "      <td>2020-12-27</td>\n",
       "      <td>Pfizer/BioNTech</td>\n",
       "      <td>ABR</td>\n",
       "      <td>20-29</td>\n",
       "      <td>1</td>\n",
       "      <td>0</td>\n",
       "      <td>1</td>\n",
       "      <td>0</td>\n",
       "      <td>0</td>\n",
       "      <td>0</td>\n",
       "      <td>0</td>\n",
       "      <td>0</td>\n",
       "      <td>0</td>\n",
       "      <td>1</td>\n",
       "      <td>0</td>\n",
       "      <td>ITF</td>\n",
       "      <td>ITF1</td>\n",
       "      <td>13</td>\n",
       "      <td>Abruzzo</td>\n",
       "    </tr>\n",
       "    <tr>\n",
       "      <th>94</th>\n",
       "      <td>2020-12-27</td>\n",
       "      <td>Pfizer/BioNTech</td>\n",
       "      <td>PIE</td>\n",
       "      <td>70-79</td>\n",
       "      <td>9</td>\n",
       "      <td>10</td>\n",
       "      <td>1</td>\n",
       "      <td>0</td>\n",
       "      <td>18</td>\n",
       "      <td>0</td>\n",
       "      <td>0</td>\n",
       "      <td>0</td>\n",
       "      <td>0</td>\n",
       "      <td>19</td>\n",
       "      <td>0</td>\n",
       "      <td>ITC</td>\n",
       "      <td>ITC1</td>\n",
       "      <td>1</td>\n",
       "      <td>Piemonte</td>\n",
       "    </tr>\n",
       "    <tr>\n",
       "      <th>95</th>\n",
       "      <td>2020-12-27</td>\n",
       "      <td>Pfizer/BioNTech</td>\n",
       "      <td>PIE</td>\n",
       "      <td>80-89</td>\n",
       "      <td>5</td>\n",
       "      <td>19</td>\n",
       "      <td>0</td>\n",
       "      <td>0</td>\n",
       "      <td>24</td>\n",
       "      <td>0</td>\n",
       "      <td>0</td>\n",
       "      <td>0</td>\n",
       "      <td>0</td>\n",
       "      <td>24</td>\n",
       "      <td>0</td>\n",
       "      <td>ITC</td>\n",
       "      <td>ITC1</td>\n",
       "      <td>1</td>\n",
       "      <td>Piemonte</td>\n",
       "    </tr>\n",
       "    <tr>\n",
       "      <th>96</th>\n",
       "      <td>2020-12-27</td>\n",
       "      <td>Pfizer/BioNTech</td>\n",
       "      <td>PIE</td>\n",
       "      <td>90+</td>\n",
       "      <td>5</td>\n",
       "      <td>15</td>\n",
       "      <td>0</td>\n",
       "      <td>0</td>\n",
       "      <td>20</td>\n",
       "      <td>0</td>\n",
       "      <td>0</td>\n",
       "      <td>0</td>\n",
       "      <td>0</td>\n",
       "      <td>20</td>\n",
       "      <td>0</td>\n",
       "      <td>ITC</td>\n",
       "      <td>ITC1</td>\n",
       "      <td>1</td>\n",
       "      <td>Piemonte</td>\n",
       "    </tr>\n",
       "    <tr>\n",
       "      <th>97</th>\n",
       "      <td>2020-12-27</td>\n",
       "      <td>Pfizer/BioNTech</td>\n",
       "      <td>PUG</td>\n",
       "      <td>20-29</td>\n",
       "      <td>18</td>\n",
       "      <td>33</td>\n",
       "      <td>47</td>\n",
       "      <td>0</td>\n",
       "      <td>0</td>\n",
       "      <td>0</td>\n",
       "      <td>0</td>\n",
       "      <td>0</td>\n",
       "      <td>4</td>\n",
       "      <td>51</td>\n",
       "      <td>0</td>\n",
       "      <td>ITF</td>\n",
       "      <td>ITF4</td>\n",
       "      <td>16</td>\n",
       "      <td>Puglia</td>\n",
       "    </tr>\n",
       "  </tbody>\n",
       "</table>\n",
       "</div>"
      ],
      "text/plain": [
       "   data_somministrazione        fornitore area fascia_anagrafica  \\\n",
       "0             2020-12-27  Pfizer/BioNTech  ABR             20-29   \n",
       "94            2020-12-27  Pfizer/BioNTech  PIE             70-79   \n",
       "95            2020-12-27  Pfizer/BioNTech  PIE             80-89   \n",
       "96            2020-12-27  Pfizer/BioNTech  PIE               90+   \n",
       "97            2020-12-27  Pfizer/BioNTech  PUG             20-29   \n",
       "\n",
       "    sesso_maschile  sesso_femminile  \\\n",
       "0                1                0   \n",
       "94               9               10   \n",
       "95               5               19   \n",
       "96               5               15   \n",
       "97              18               33   \n",
       "\n",
       "    categoria_operatori_sanitari_sociosanitari  \\\n",
       "0                                            1   \n",
       "94                                           1   \n",
       "95                                           0   \n",
       "96                                           0   \n",
       "97                                          47   \n",
       "\n",
       "    categoria_personale_non_sanitario  categoria_ospiti_rsa  categoria_over80  \\\n",
       "0                                   0                     0                 0   \n",
       "94                                  0                    18                 0   \n",
       "95                                  0                    24                 0   \n",
       "96                                  0                    20                 0   \n",
       "97                                  0                     0                 0   \n",
       "\n",
       "    categoria_forze_armate  categoria_personale_scolastico  categoria_altro  \\\n",
       "0                        0                               0                0   \n",
       "94                       0                               0                0   \n",
       "95                       0                               0                0   \n",
       "96                       0                               0                0   \n",
       "97                       0                               0                4   \n",
       "\n",
       "    prima_dose  seconda_dose codice_NUTS1 codice_NUTS2  codice_regione_ISTAT  \\\n",
       "0            1             0          ITF         ITF1                    13   \n",
       "94          19             0          ITC         ITC1                     1   \n",
       "95          24             0          ITC         ITC1                     1   \n",
       "96          20             0          ITC         ITC1                     1   \n",
       "97          51             0          ITF         ITF4                    16   \n",
       "\n",
       "   nome_area  \n",
       "0    Abruzzo  \n",
       "94  Piemonte  \n",
       "95  Piemonte  \n",
       "96  Piemonte  \n",
       "97    Puglia  "
      ]
     },
     "execution_count": 274,
     "metadata": {},
     "output_type": "execute_result"
    }
   ],
   "source": [
    "df.head()"
   ]
  },
  {
   "cell_type": "code",
   "execution_count": 275,
   "metadata": {},
   "outputs": [],
   "source": [
    "df = df[df['data_somministrazione']>='2021-01-01']"
   ]
  },
  {
   "cell_type": "code",
   "execution_count": 276,
   "metadata": {},
   "outputs": [],
   "source": [
    "#df.data_somministrazione = df.data_somministrazione.dt.strftime(\"%d-%m-%Y\")"
   ]
  },
  {
   "cell_type": "code",
   "execution_count": 277,
   "metadata": {},
   "outputs": [],
   "source": [
    "df['giorno_campagna'] = df.data_somministrazione.dt.dayofyear"
   ]
  },
  {
   "cell_type": "code",
   "execution_count": 278,
   "metadata": {},
   "outputs": [
    {
     "name": "stderr",
     "output_type": "stream",
     "text": [
      "/Users/admin/opt/anaconda3/lib/python3.7/site-packages/ipykernel_launcher.py:1: FutureWarning:\n",
      "\n",
      "Indexing with multiple keys (implicitly converted to a tuple of keys) will be deprecated, use a list instead.\n",
      "\n"
     ]
    },
    {
     "data": {
      "text/html": [
       "<div>\n",
       "<style scoped>\n",
       "    .dataframe tbody tr th:only-of-type {\n",
       "        vertical-align: middle;\n",
       "    }\n",
       "\n",
       "    .dataframe tbody tr th {\n",
       "        vertical-align: top;\n",
       "    }\n",
       "\n",
       "    .dataframe thead th {\n",
       "        text-align: right;\n",
       "    }\n",
       "</style>\n",
       "<table border=\"1\" class=\"dataframe\">\n",
       "  <thead>\n",
       "    <tr style=\"text-align: right;\">\n",
       "      <th>data_somministrazione</th>\n",
       "      <th>2021-01-01</th>\n",
       "      <th>2021-01-02</th>\n",
       "      <th>2021-01-03</th>\n",
       "      <th>2021-01-04</th>\n",
       "      <th>2021-01-05</th>\n",
       "      <th>2021-01-06</th>\n",
       "      <th>2021-01-07</th>\n",
       "      <th>2021-01-08</th>\n",
       "      <th>2021-01-09</th>\n",
       "      <th>2021-01-10</th>\n",
       "      <th>...</th>\n",
       "      <th>2021-03-29</th>\n",
       "      <th>2021-03-30</th>\n",
       "      <th>2021-03-31</th>\n",
       "      <th>2021-04-01</th>\n",
       "      <th>2021-04-02</th>\n",
       "      <th>2021-04-03</th>\n",
       "      <th>2021-04-04</th>\n",
       "      <th>2021-04-05</th>\n",
       "      <th>2021-04-06</th>\n",
       "      <th>2021-04-07</th>\n",
       "    </tr>\n",
       "    <tr>\n",
       "      <th>fascia_anagrafica</th>\n",
       "      <th></th>\n",
       "      <th></th>\n",
       "      <th></th>\n",
       "      <th></th>\n",
       "      <th></th>\n",
       "      <th></th>\n",
       "      <th></th>\n",
       "      <th></th>\n",
       "      <th></th>\n",
       "      <th></th>\n",
       "      <th></th>\n",
       "      <th></th>\n",
       "      <th></th>\n",
       "      <th></th>\n",
       "      <th></th>\n",
       "      <th></th>\n",
       "      <th></th>\n",
       "      <th></th>\n",
       "      <th></th>\n",
       "      <th></th>\n",
       "      <th></th>\n",
       "    </tr>\n",
       "  </thead>\n",
       "  <tbody>\n",
       "    <tr>\n",
       "      <th>16-19</th>\n",
       "      <td>2.0</td>\n",
       "      <td>19.0</td>\n",
       "      <td>0.0</td>\n",
       "      <td>12.0</td>\n",
       "      <td>22.0</td>\n",
       "      <td>38.0</td>\n",
       "      <td>31.0</td>\n",
       "      <td>43.0</td>\n",
       "      <td>77.0</td>\n",
       "      <td>144.0</td>\n",
       "      <td>...</td>\n",
       "      <td>298.0</td>\n",
       "      <td>323.0</td>\n",
       "      <td>388.0</td>\n",
       "      <td>439.0</td>\n",
       "      <td>436.0</td>\n",
       "      <td>338.0</td>\n",
       "      <td>203.0</td>\n",
       "      <td>349.0</td>\n",
       "      <td>337.0</td>\n",
       "      <td>87.0</td>\n",
       "    </tr>\n",
       "    <tr>\n",
       "      <th>20-29</th>\n",
       "      <td>926.0</td>\n",
       "      <td>3516.0</td>\n",
       "      <td>3468.0</td>\n",
       "      <td>5961.0</td>\n",
       "      <td>6810.0</td>\n",
       "      <td>6585.0</td>\n",
       "      <td>7713.0</td>\n",
       "      <td>9032.0</td>\n",
       "      <td>8891.0</td>\n",
       "      <td>7463.0</td>\n",
       "      <td>...</td>\n",
       "      <td>6272.0</td>\n",
       "      <td>5800.0</td>\n",
       "      <td>6578.0</td>\n",
       "      <td>5965.0</td>\n",
       "      <td>5484.0</td>\n",
       "      <td>3568.0</td>\n",
       "      <td>1648.0</td>\n",
       "      <td>3129.0</td>\n",
       "      <td>5094.0</td>\n",
       "      <td>1145.0</td>\n",
       "    </tr>\n",
       "    <tr>\n",
       "      <th>30-39</th>\n",
       "      <td>1970.0</td>\n",
       "      <td>6936.0</td>\n",
       "      <td>6135.0</td>\n",
       "      <td>12125.0</td>\n",
       "      <td>13680.0</td>\n",
       "      <td>11296.0</td>\n",
       "      <td>15118.0</td>\n",
       "      <td>15419.0</td>\n",
       "      <td>13549.0</td>\n",
       "      <td>9942.0</td>\n",
       "      <td>...</td>\n",
       "      <td>8202.0</td>\n",
       "      <td>8310.0</td>\n",
       "      <td>8595.0</td>\n",
       "      <td>7922.0</td>\n",
       "      <td>7219.0</td>\n",
       "      <td>4511.0</td>\n",
       "      <td>2291.0</td>\n",
       "      <td>4065.0</td>\n",
       "      <td>6558.0</td>\n",
       "      <td>1469.0</td>\n",
       "    </tr>\n",
       "    <tr>\n",
       "      <th>40-49</th>\n",
       "      <td>2441.0</td>\n",
       "      <td>8464.0</td>\n",
       "      <td>7784.0</td>\n",
       "      <td>14603.0</td>\n",
       "      <td>16678.0</td>\n",
       "      <td>12871.0</td>\n",
       "      <td>19036.0</td>\n",
       "      <td>19589.0</td>\n",
       "      <td>16458.0</td>\n",
       "      <td>11472.0</td>\n",
       "      <td>...</td>\n",
       "      <td>11887.0</td>\n",
       "      <td>11652.0</td>\n",
       "      <td>13066.0</td>\n",
       "      <td>11653.0</td>\n",
       "      <td>10695.0</td>\n",
       "      <td>7218.0</td>\n",
       "      <td>4104.0</td>\n",
       "      <td>6640.0</td>\n",
       "      <td>9990.0</td>\n",
       "      <td>2339.0</td>\n",
       "    </tr>\n",
       "    <tr>\n",
       "      <th>50-59</th>\n",
       "      <td>3220.0</td>\n",
       "      <td>10836.0</td>\n",
       "      <td>10103.0</td>\n",
       "      <td>19987.0</td>\n",
       "      <td>22966.0</td>\n",
       "      <td>17842.0</td>\n",
       "      <td>26428.0</td>\n",
       "      <td>26884.0</td>\n",
       "      <td>22505.0</td>\n",
       "      <td>15281.0</td>\n",
       "      <td>...</td>\n",
       "      <td>16684.0</td>\n",
       "      <td>16933.0</td>\n",
       "      <td>18643.0</td>\n",
       "      <td>16861.0</td>\n",
       "      <td>15376.0</td>\n",
       "      <td>11441.0</td>\n",
       "      <td>4824.0</td>\n",
       "      <td>9055.0</td>\n",
       "      <td>15056.0</td>\n",
       "      <td>3600.0</td>\n",
       "    </tr>\n",
       "    <tr>\n",
       "      <th>60-69</th>\n",
       "      <td>1698.0</td>\n",
       "      <td>6581.0</td>\n",
       "      <td>5981.0</td>\n",
       "      <td>11987.0</td>\n",
       "      <td>14154.0</td>\n",
       "      <td>11887.0</td>\n",
       "      <td>15530.0</td>\n",
       "      <td>16080.0</td>\n",
       "      <td>16973.0</td>\n",
       "      <td>10688.0</td>\n",
       "      <td>...</td>\n",
       "      <td>18194.0</td>\n",
       "      <td>20082.0</td>\n",
       "      <td>22294.0</td>\n",
       "      <td>21627.0</td>\n",
       "      <td>20226.0</td>\n",
       "      <td>17254.0</td>\n",
       "      <td>7966.0</td>\n",
       "      <td>12090.0</td>\n",
       "      <td>20220.0</td>\n",
       "      <td>5414.0</td>\n",
       "    </tr>\n",
       "    <tr>\n",
       "      <th>70-79</th>\n",
       "      <td>185.0</td>\n",
       "      <td>598.0</td>\n",
       "      <td>533.0</td>\n",
       "      <td>1124.0</td>\n",
       "      <td>1570.0</td>\n",
       "      <td>1698.0</td>\n",
       "      <td>2323.0</td>\n",
       "      <td>2674.0</td>\n",
       "      <td>3047.0</td>\n",
       "      <td>2223.0</td>\n",
       "      <td>...</td>\n",
       "      <td>49669.0</td>\n",
       "      <td>53197.0</td>\n",
       "      <td>55192.0</td>\n",
       "      <td>46671.0</td>\n",
       "      <td>56289.0</td>\n",
       "      <td>50826.0</td>\n",
       "      <td>37703.0</td>\n",
       "      <td>51894.0</td>\n",
       "      <td>81396.0</td>\n",
       "      <td>25772.0</td>\n",
       "    </tr>\n",
       "    <tr>\n",
       "      <th>80-89</th>\n",
       "      <td>283.0</td>\n",
       "      <td>803.0</td>\n",
       "      <td>597.0</td>\n",
       "      <td>1475.0</td>\n",
       "      <td>1857.0</td>\n",
       "      <td>1534.0</td>\n",
       "      <td>3139.0</td>\n",
       "      <td>3073.0</td>\n",
       "      <td>2930.0</td>\n",
       "      <td>1739.0</td>\n",
       "      <td>...</td>\n",
       "      <td>50931.0</td>\n",
       "      <td>54958.0</td>\n",
       "      <td>67947.0</td>\n",
       "      <td>65408.0</td>\n",
       "      <td>59928.0</td>\n",
       "      <td>57642.0</td>\n",
       "      <td>13585.0</td>\n",
       "      <td>37089.0</td>\n",
       "      <td>45391.0</td>\n",
       "      <td>15990.0</td>\n",
       "    </tr>\n",
       "    <tr>\n",
       "      <th>90+</th>\n",
       "      <td>326.0</td>\n",
       "      <td>750.0</td>\n",
       "      <td>532.0</td>\n",
       "      <td>1356.0</td>\n",
       "      <td>1802.0</td>\n",
       "      <td>1424.0</td>\n",
       "      <td>2841.0</td>\n",
       "      <td>2701.0</td>\n",
       "      <td>2434.0</td>\n",
       "      <td>1373.0</td>\n",
       "      <td>...</td>\n",
       "      <td>8582.0</td>\n",
       "      <td>9980.0</td>\n",
       "      <td>12903.0</td>\n",
       "      <td>9661.0</td>\n",
       "      <td>8953.0</td>\n",
       "      <td>7370.0</td>\n",
       "      <td>1599.0</td>\n",
       "      <td>4289.0</td>\n",
       "      <td>6500.0</td>\n",
       "      <td>1937.0</td>\n",
       "    </tr>\n",
       "  </tbody>\n",
       "</table>\n",
       "<p>9 rows × 97 columns</p>\n",
       "</div>"
      ],
      "text/plain": [
       "data_somministrazione  2021-01-01  2021-01-02  2021-01-03  2021-01-04  \\\n",
       "fascia_anagrafica                                                       \n",
       "16-19                         2.0        19.0         0.0        12.0   \n",
       "20-29                       926.0      3516.0      3468.0      5961.0   \n",
       "30-39                      1970.0      6936.0      6135.0     12125.0   \n",
       "40-49                      2441.0      8464.0      7784.0     14603.0   \n",
       "50-59                      3220.0     10836.0     10103.0     19987.0   \n",
       "60-69                      1698.0      6581.0      5981.0     11987.0   \n",
       "70-79                       185.0       598.0       533.0      1124.0   \n",
       "80-89                       283.0       803.0       597.0      1475.0   \n",
       "90+                         326.0       750.0       532.0      1356.0   \n",
       "\n",
       "data_somministrazione  2021-01-05  2021-01-06  2021-01-07  2021-01-08  \\\n",
       "fascia_anagrafica                                                       \n",
       "16-19                        22.0        38.0        31.0        43.0   \n",
       "20-29                      6810.0      6585.0      7713.0      9032.0   \n",
       "30-39                     13680.0     11296.0     15118.0     15419.0   \n",
       "40-49                     16678.0     12871.0     19036.0     19589.0   \n",
       "50-59                     22966.0     17842.0     26428.0     26884.0   \n",
       "60-69                     14154.0     11887.0     15530.0     16080.0   \n",
       "70-79                      1570.0      1698.0      2323.0      2674.0   \n",
       "80-89                      1857.0      1534.0      3139.0      3073.0   \n",
       "90+                        1802.0      1424.0      2841.0      2701.0   \n",
       "\n",
       "data_somministrazione  2021-01-09  2021-01-10  ...  2021-03-29  2021-03-30  \\\n",
       "fascia_anagrafica                              ...                           \n",
       "16-19                        77.0       144.0  ...       298.0       323.0   \n",
       "20-29                      8891.0      7463.0  ...      6272.0      5800.0   \n",
       "30-39                     13549.0      9942.0  ...      8202.0      8310.0   \n",
       "40-49                     16458.0     11472.0  ...     11887.0     11652.0   \n",
       "50-59                     22505.0     15281.0  ...     16684.0     16933.0   \n",
       "60-69                     16973.0     10688.0  ...     18194.0     20082.0   \n",
       "70-79                      3047.0      2223.0  ...     49669.0     53197.0   \n",
       "80-89                      2930.0      1739.0  ...     50931.0     54958.0   \n",
       "90+                        2434.0      1373.0  ...      8582.0      9980.0   \n",
       "\n",
       "data_somministrazione  2021-03-31  2021-04-01  2021-04-02  2021-04-03  \\\n",
       "fascia_anagrafica                                                       \n",
       "16-19                       388.0       439.0       436.0       338.0   \n",
       "20-29                      6578.0      5965.0      5484.0      3568.0   \n",
       "30-39                      8595.0      7922.0      7219.0      4511.0   \n",
       "40-49                     13066.0     11653.0     10695.0      7218.0   \n",
       "50-59                     18643.0     16861.0     15376.0     11441.0   \n",
       "60-69                     22294.0     21627.0     20226.0     17254.0   \n",
       "70-79                     55192.0     46671.0     56289.0     50826.0   \n",
       "80-89                     67947.0     65408.0     59928.0     57642.0   \n",
       "90+                       12903.0      9661.0      8953.0      7370.0   \n",
       "\n",
       "data_somministrazione  2021-04-04  2021-04-05  2021-04-06  2021-04-07  \n",
       "fascia_anagrafica                                                      \n",
       "16-19                       203.0       349.0       337.0        87.0  \n",
       "20-29                      1648.0      3129.0      5094.0      1145.0  \n",
       "30-39                      2291.0      4065.0      6558.0      1469.0  \n",
       "40-49                      4104.0      6640.0      9990.0      2339.0  \n",
       "50-59                      4824.0      9055.0     15056.0      3600.0  \n",
       "60-69                      7966.0     12090.0     20220.0      5414.0  \n",
       "70-79                     37703.0     51894.0     81396.0     25772.0  \n",
       "80-89                     13585.0     37089.0     45391.0     15990.0  \n",
       "90+                        1599.0      4289.0      6500.0      1937.0  \n",
       "\n",
       "[9 rows x 97 columns]"
      ]
     },
     "execution_count": 278,
     "metadata": {},
     "output_type": "execute_result"
    }
   ],
   "source": [
    "df_pivot = (df.groupby(['data_somministrazione','fascia_anagrafica'])['prima_dose','seconda_dose'].sum().reset_index(level=0).\n",
    " pivot(columns='data_somministrazione', values='prima_dose').fillna(0))\n",
    "df_pivot"
   ]
  },
  {
   "cell_type": "code",
   "execution_count": 279,
   "metadata": {},
   "outputs": [
    {
     "data": {
      "text/plain": [
       "<AxesSubplot:xlabel='data_somministrazione', ylabel='fascia_anagrafica'>"
      ]
     },
     "execution_count": 279,
     "metadata": {},
     "output_type": "execute_result"
    },
    {
     "data": {
      "image/png": "[encoded data removed]",
      "text/plain": [
       "<Figure size 1080x576 with 2 Axes>"
      ]
     },
     "metadata": {},
     "output_type": "display_data"
    }
   ],
   "source": [
    "\n",
    "plt.figure(figsize=(15,8))\n",
    "sns.heatmap(df_pivot, cmap='coolwarm', linecolor='white', linewidths=0.1)"
   ]
  },
  {
   "cell_type": "code",
   "execution_count": 280,
   "metadata": {},
   "outputs": [],
   "source": [
    "daily = df.groupby('data_somministrazione')['prima_dose'].sum().reset_index()\n",
    "df = df.merge(daily, left_on='data_somministrazione', right_on='data_somministrazione', how='inner', \n",
    "        suffixes=['','_totale_giorno'])"
   ]
  },
  {
   "cell_type": "markdown",
   "metadata": {},
   "source": [
    "I need to groupby before calculating percentage as they are labelled by region as well"
   ]
  },
  {
   "cell_type": "code",
   "execution_count": 281,
   "metadata": {},
   "outputs": [],
   "source": [
    "df1 = df.groupby(['data_somministrazione', 'fascia_anagrafica'])['prima_dose'].sum().reset_index(level=1).fillna(0)"
   ]
  },
  {
   "cell_type": "code",
   "execution_count": 282,
   "metadata": {},
   "outputs": [],
   "source": [
    "df1 = df1.merge(daily, left_on='data_somministrazione', right_on='data_somministrazione', how='inner', \n",
    "        suffixes=['','_totale_giorno']).fillna(0)"
   ]
  },
  {
   "cell_type": "code",
   "execution_count": 283,
   "metadata": {},
   "outputs": [],
   "source": [
    "df1['perc_tot_somministrati'] = (df1.prima_dose/df1.prima_dose_totale_giorno).mul(100).round(0)"
   ]
  },
  {
   "cell_type": "code",
   "execution_count": 284,
   "metadata": {},
   "outputs": [],
   "source": [
    "#df1.data_somministrazione = df1.data_somministrazione.dt.strftime(\"%d-%m-%Y\")\n",
    "df1_pivot = df1.pivot(columns='data_somministrazione',index='fascia_anagrafica',values='perc_tot_somministrati').sort_index(ascending=False)"
   ]
  },
  {
   "cell_type": "code",
   "execution_count": 285,
   "metadata": {},
   "outputs": [
    {
     "data": {
      "text/html": [
       "<div>\n",
       "<style scoped>\n",
       "    .dataframe tbody tr th:only-of-type {\n",
       "        vertical-align: middle;\n",
       "    }\n",
       "\n",
       "    .dataframe tbody tr th {\n",
       "        vertical-align: top;\n",
       "    }\n",
       "\n",
       "    .dataframe thead th {\n",
       "        text-align: right;\n",
       "    }\n",
       "</style>\n",
       "<table border=\"1\" class=\"dataframe\">\n",
       "  <thead>\n",
       "    <tr style=\"text-align: right;\">\n",
       "      <th>data_somministrazione</th>\n",
       "      <th>2021-01-01</th>\n",
       "      <th>2021-01-02</th>\n",
       "      <th>2021-01-03</th>\n",
       "      <th>2021-01-04</th>\n",
       "      <th>2021-01-05</th>\n",
       "      <th>2021-01-06</th>\n",
       "      <th>2021-01-07</th>\n",
       "      <th>2021-01-08</th>\n",
       "      <th>2021-01-09</th>\n",
       "      <th>2021-01-10</th>\n",
       "      <th>...</th>\n",
       "      <th>2021-03-29</th>\n",
       "      <th>2021-03-30</th>\n",
       "      <th>2021-03-31</th>\n",
       "      <th>2021-04-01</th>\n",
       "      <th>2021-04-02</th>\n",
       "      <th>2021-04-03</th>\n",
       "      <th>2021-04-04</th>\n",
       "      <th>2021-04-05</th>\n",
       "      <th>2021-04-06</th>\n",
       "      <th>2021-04-07</th>\n",
       "    </tr>\n",
       "    <tr>\n",
       "      <th>fascia_anagrafica</th>\n",
       "      <th></th>\n",
       "      <th></th>\n",
       "      <th></th>\n",
       "      <th></th>\n",
       "      <th></th>\n",
       "      <th></th>\n",
       "      <th></th>\n",
       "      <th></th>\n",
       "      <th></th>\n",
       "      <th></th>\n",
       "      <th></th>\n",
       "      <th></th>\n",
       "      <th></th>\n",
       "      <th></th>\n",
       "      <th></th>\n",
       "      <th></th>\n",
       "      <th></th>\n",
       "      <th></th>\n",
       "      <th></th>\n",
       "      <th></th>\n",
       "      <th></th>\n",
       "    </tr>\n",
       "  </thead>\n",
       "  <tbody>\n",
       "    <tr>\n",
       "      <th>16-19</th>\n",
       "      <td>2.0</td>\n",
       "      <td>19.0</td>\n",
       "      <td>0.0</td>\n",
       "      <td>12.0</td>\n",
       "      <td>22.0</td>\n",
       "      <td>38.0</td>\n",
       "      <td>31.0</td>\n",
       "      <td>43.0</td>\n",
       "      <td>77.0</td>\n",
       "      <td>144.0</td>\n",
       "      <td>...</td>\n",
       "      <td>298.0</td>\n",
       "      <td>323.0</td>\n",
       "      <td>388.0</td>\n",
       "      <td>439.0</td>\n",
       "      <td>436.0</td>\n",
       "      <td>338.0</td>\n",
       "      <td>203.0</td>\n",
       "      <td>349.0</td>\n",
       "      <td>337.0</td>\n",
       "      <td>87.0</td>\n",
       "    </tr>\n",
       "    <tr>\n",
       "      <th>20-29</th>\n",
       "      <td>926.0</td>\n",
       "      <td>3516.0</td>\n",
       "      <td>3468.0</td>\n",
       "      <td>5961.0</td>\n",
       "      <td>6810.0</td>\n",
       "      <td>6585.0</td>\n",
       "      <td>7713.0</td>\n",
       "      <td>9032.0</td>\n",
       "      <td>8891.0</td>\n",
       "      <td>7463.0</td>\n",
       "      <td>...</td>\n",
       "      <td>6272.0</td>\n",
       "      <td>5800.0</td>\n",
       "      <td>6578.0</td>\n",
       "      <td>5965.0</td>\n",
       "      <td>5484.0</td>\n",
       "      <td>3568.0</td>\n",
       "      <td>1648.0</td>\n",
       "      <td>3129.0</td>\n",
       "      <td>5094.0</td>\n",
       "      <td>1145.0</td>\n",
       "    </tr>\n",
       "    <tr>\n",
       "      <th>30-39</th>\n",
       "      <td>1970.0</td>\n",
       "      <td>6936.0</td>\n",
       "      <td>6135.0</td>\n",
       "      <td>12125.0</td>\n",
       "      <td>13680.0</td>\n",
       "      <td>11296.0</td>\n",
       "      <td>15118.0</td>\n",
       "      <td>15419.0</td>\n",
       "      <td>13549.0</td>\n",
       "      <td>9942.0</td>\n",
       "      <td>...</td>\n",
       "      <td>8202.0</td>\n",
       "      <td>8310.0</td>\n",
       "      <td>8595.0</td>\n",
       "      <td>7922.0</td>\n",
       "      <td>7219.0</td>\n",
       "      <td>4511.0</td>\n",
       "      <td>2291.0</td>\n",
       "      <td>4065.0</td>\n",
       "      <td>6558.0</td>\n",
       "      <td>1469.0</td>\n",
       "    </tr>\n",
       "    <tr>\n",
       "      <th>40-49</th>\n",
       "      <td>2441.0</td>\n",
       "      <td>8464.0</td>\n",
       "      <td>7784.0</td>\n",
       "      <td>14603.0</td>\n",
       "      <td>16678.0</td>\n",
       "      <td>12871.0</td>\n",
       "      <td>19036.0</td>\n",
       "      <td>19589.0</td>\n",
       "      <td>16458.0</td>\n",
       "      <td>11472.0</td>\n",
       "      <td>...</td>\n",
       "      <td>11887.0</td>\n",
       "      <td>11652.0</td>\n",
       "      <td>13066.0</td>\n",
       "      <td>11653.0</td>\n",
       "      <td>10695.0</td>\n",
       "      <td>7218.0</td>\n",
       "      <td>4104.0</td>\n",
       "      <td>6640.0</td>\n",
       "      <td>9990.0</td>\n",
       "      <td>2339.0</td>\n",
       "    </tr>\n",
       "    <tr>\n",
       "      <th>50-59</th>\n",
       "      <td>3220.0</td>\n",
       "      <td>10836.0</td>\n",
       "      <td>10103.0</td>\n",
       "      <td>19987.0</td>\n",
       "      <td>22966.0</td>\n",
       "      <td>17842.0</td>\n",
       "      <td>26428.0</td>\n",
       "      <td>26884.0</td>\n",
       "      <td>22505.0</td>\n",
       "      <td>15281.0</td>\n",
       "      <td>...</td>\n",
       "      <td>16684.0</td>\n",
       "      <td>16933.0</td>\n",
       "      <td>18643.0</td>\n",
       "      <td>16861.0</td>\n",
       "      <td>15376.0</td>\n",
       "      <td>11441.0</td>\n",
       "      <td>4824.0</td>\n",
       "      <td>9055.0</td>\n",
       "      <td>15056.0</td>\n",
       "      <td>3600.0</td>\n",
       "    </tr>\n",
       "    <tr>\n",
       "      <th>60-69</th>\n",
       "      <td>1698.0</td>\n",
       "      <td>6581.0</td>\n",
       "      <td>5981.0</td>\n",
       "      <td>11987.0</td>\n",
       "      <td>14154.0</td>\n",
       "      <td>11887.0</td>\n",
       "      <td>15530.0</td>\n",
       "      <td>16080.0</td>\n",
       "      <td>16973.0</td>\n",
       "      <td>10688.0</td>\n",
       "      <td>...</td>\n",
       "      <td>18194.0</td>\n",
       "      <td>20082.0</td>\n",
       "      <td>22294.0</td>\n",
       "      <td>21627.0</td>\n",
       "      <td>20226.0</td>\n",
       "      <td>17254.0</td>\n",
       "      <td>7966.0</td>\n",
       "      <td>12090.0</td>\n",
       "      <td>20220.0</td>\n",
       "      <td>5414.0</td>\n",
       "    </tr>\n",
       "    <tr>\n",
       "      <th>70-79</th>\n",
       "      <td>185.0</td>\n",
       "      <td>598.0</td>\n",
       "      <td>533.0</td>\n",
       "      <td>1124.0</td>\n",
       "      <td>1570.0</td>\n",
       "      <td>1698.0</td>\n",
       "      <td>2323.0</td>\n",
       "      <td>2674.0</td>\n",
       "      <td>3047.0</td>\n",
       "      <td>2223.0</td>\n",
       "      <td>...</td>\n",
       "      <td>49669.0</td>\n",
       "      <td>53197.0</td>\n",
       "      <td>55192.0</td>\n",
       "      <td>46671.0</td>\n",
       "      <td>56289.0</td>\n",
       "      <td>50826.0</td>\n",
       "      <td>37703.0</td>\n",
       "      <td>51894.0</td>\n",
       "      <td>81396.0</td>\n",
       "      <td>25772.0</td>\n",
       "    </tr>\n",
       "    <tr>\n",
       "      <th>80-89</th>\n",
       "      <td>283.0</td>\n",
       "      <td>803.0</td>\n",
       "      <td>597.0</td>\n",
       "      <td>1475.0</td>\n",
       "      <td>1857.0</td>\n",
       "      <td>1534.0</td>\n",
       "      <td>3139.0</td>\n",
       "      <td>3073.0</td>\n",
       "      <td>2930.0</td>\n",
       "      <td>1739.0</td>\n",
       "      <td>...</td>\n",
       "      <td>50931.0</td>\n",
       "      <td>54958.0</td>\n",
       "      <td>67947.0</td>\n",
       "      <td>65408.0</td>\n",
       "      <td>59928.0</td>\n",
       "      <td>57642.0</td>\n",
       "      <td>13585.0</td>\n",
       "      <td>37089.0</td>\n",
       "      <td>45391.0</td>\n",
       "      <td>15990.0</td>\n",
       "    </tr>\n",
       "    <tr>\n",
       "      <th>90+</th>\n",
       "      <td>326.0</td>\n",
       "      <td>750.0</td>\n",
       "      <td>532.0</td>\n",
       "      <td>1356.0</td>\n",
       "      <td>1802.0</td>\n",
       "      <td>1424.0</td>\n",
       "      <td>2841.0</td>\n",
       "      <td>2701.0</td>\n",
       "      <td>2434.0</td>\n",
       "      <td>1373.0</td>\n",
       "      <td>...</td>\n",
       "      <td>8582.0</td>\n",
       "      <td>9980.0</td>\n",
       "      <td>12903.0</td>\n",
       "      <td>9661.0</td>\n",
       "      <td>8953.0</td>\n",
       "      <td>7370.0</td>\n",
       "      <td>1599.0</td>\n",
       "      <td>4289.0</td>\n",
       "      <td>6500.0</td>\n",
       "      <td>1937.0</td>\n",
       "    </tr>\n",
       "  </tbody>\n",
       "</table>\n",
       "<p>9 rows × 97 columns</p>\n",
       "</div>"
      ],
      "text/plain": [
       "data_somministrazione  2021-01-01  2021-01-02  2021-01-03  2021-01-04  \\\n",
       "fascia_anagrafica                                                       \n",
       "16-19                         2.0        19.0         0.0        12.0   \n",
       "20-29                       926.0      3516.0      3468.0      5961.0   \n",
       "30-39                      1970.0      6936.0      6135.0     12125.0   \n",
       "40-49                      2441.0      8464.0      7784.0     14603.0   \n",
       "50-59                      3220.0     10836.0     10103.0     19987.0   \n",
       "60-69                      1698.0      6581.0      5981.0     11987.0   \n",
       "70-79                       185.0       598.0       533.0      1124.0   \n",
       "80-89                       283.0       803.0       597.0      1475.0   \n",
       "90+                         326.0       750.0       532.0      1356.0   \n",
       "\n",
       "data_somministrazione  2021-01-05  2021-01-06  2021-01-07  2021-01-08  \\\n",
       "fascia_anagrafica                                                       \n",
       "16-19                        22.0        38.0        31.0        43.0   \n",
       "20-29                      6810.0      6585.0      7713.0      9032.0   \n",
       "30-39                     13680.0     11296.0     15118.0     15419.0   \n",
       "40-49                     16678.0     12871.0     19036.0     19589.0   \n",
       "50-59                     22966.0     17842.0     26428.0     26884.0   \n",
       "60-69                     14154.0     11887.0     15530.0     16080.0   \n",
       "70-79                      1570.0      1698.0      2323.0      2674.0   \n",
       "80-89                      1857.0      1534.0      3139.0      3073.0   \n",
       "90+                        1802.0      1424.0      2841.0      2701.0   \n",
       "\n",
       "data_somministrazione  2021-01-09  2021-01-10  ...  2021-03-29  2021-03-30  \\\n",
       "fascia_anagrafica                              ...                           \n",
       "16-19                        77.0       144.0  ...       298.0       323.0   \n",
       "20-29                      8891.0      7463.0  ...      6272.0      5800.0   \n",
       "30-39                     13549.0      9942.0  ...      8202.0      8310.0   \n",
       "40-49                     16458.0     11472.0  ...     11887.0     11652.0   \n",
       "50-59                     22505.0     15281.0  ...     16684.0     16933.0   \n",
       "60-69                     16973.0     10688.0  ...     18194.0     20082.0   \n",
       "70-79                      3047.0      2223.0  ...     49669.0     53197.0   \n",
       "80-89                      2930.0      1739.0  ...     50931.0     54958.0   \n",
       "90+                        2434.0      1373.0  ...      8582.0      9980.0   \n",
       "\n",
       "data_somministrazione  2021-03-31  2021-04-01  2021-04-02  2021-04-03  \\\n",
       "fascia_anagrafica                                                       \n",
       "16-19                       388.0       439.0       436.0       338.0   \n",
       "20-29                      6578.0      5965.0      5484.0      3568.0   \n",
       "30-39                      8595.0      7922.0      7219.0      4511.0   \n",
       "40-49                     13066.0     11653.0     10695.0      7218.0   \n",
       "50-59                     18643.0     16861.0     15376.0     11441.0   \n",
       "60-69                     22294.0     21627.0     20226.0     17254.0   \n",
       "70-79                     55192.0     46671.0     56289.0     50826.0   \n",
       "80-89                     67947.0     65408.0     59928.0     57642.0   \n",
       "90+                       12903.0      9661.0      8953.0      7370.0   \n",
       "\n",
       "data_somministrazione  2021-04-04  2021-04-05  2021-04-06  2021-04-07  \n",
       "fascia_anagrafica                                                      \n",
       "16-19                       203.0       349.0       337.0        87.0  \n",
       "20-29                      1648.0      3129.0      5094.0      1145.0  \n",
       "30-39                      2291.0      4065.0      6558.0      1469.0  \n",
       "40-49                      4104.0      6640.0      9990.0      2339.0  \n",
       "50-59                      4824.0      9055.0     15056.0      3600.0  \n",
       "60-69                      7966.0     12090.0     20220.0      5414.0  \n",
       "70-79                     37703.0     51894.0     81396.0     25772.0  \n",
       "80-89                     13585.0     37089.0     45391.0     15990.0  \n",
       "90+                        1599.0      4289.0      6500.0      1937.0  \n",
       "\n",
       "[9 rows x 97 columns]"
      ]
     },
     "execution_count": 285,
     "metadata": {},
     "output_type": "execute_result"
    }
   ],
   "source": [
    "df_pivot"
   ]
  },
  {
   "cell_type": "code",
   "execution_count": 286,
   "metadata": {},
   "outputs": [
    {
     "data": {
      "image/png": "[encoded data removed]",
      "text/plain": [
       "<Figure size 1080x576 with 1 Axes>"
      ]
     },
     "metadata": {},
     "output_type": "display_data"
    }
   ],
   "source": [
    "plt.figure(figsize=(15,8))\n",
    "ax = sns.heatmap(df1_pivot, cmap='Blues'\n",
    ",annot=True, linecolor='black', linewidths=0.01, cbar=False, fmt='g')\n",
    "#ax.set_xticklabels(df1.data_somministrazione.dt.date)\n",
    "plt.ylabel('')\n",
    "#plt.xlabel(rotation=90)\n",
    "plt.suptitle('Percentuale Somministrata sul Totale Giornaliero', fontsize=20)\n",
    "plt.title('Elaborazione: @TomZ_UK - Dati: ISS')\n",
    "\n",
    "plt.savefig('percentuale_totale_HM.png')"
   ]
  },
  {
   "cell_type": "markdown",
   "metadata": {},
   "source": [
    "# Analisi Popolazione\n",
    "Percentuale somministrazioni sul totale popolazione divisa per gruppi anagrafici"
   ]
  },
  {
   "cell_type": "code",
   "execution_count": 287,
   "metadata": {},
   "outputs": [
    {
     "data": {
      "text/html": [
       "<div>\n",
       "<style scoped>\n",
       "    .dataframe tbody tr th:only-of-type {\n",
       "        vertical-align: middle;\n",
       "    }\n",
       "\n",
       "    .dataframe tbody tr th {\n",
       "        vertical-align: top;\n",
       "    }\n",
       "\n",
       "    .dataframe thead tr th {\n",
       "        text-align: left;\n",
       "    }\n",
       "</style>\n",
       "<table border=\"1\" class=\"dataframe\">\n",
       "  <thead>\n",
       "    <tr>\n",
       "      <th></th>\n",
       "      <th>Età</th>\n",
       "      <th>Celibi/Nubili</th>\n",
       "      <th>Coniugati/e</th>\n",
       "      <th>Vedovi/e</th>\n",
       "      <th>Divorziati/e</th>\n",
       "      <th>Maschi</th>\n",
       "      <th>Femmine</th>\n",
       "      <th colspan=\"2\" halign=\"left\">Totale</th>\n",
       "    </tr>\n",
       "    <tr>\n",
       "      <th></th>\n",
       "      <th>Età</th>\n",
       "      <th>Celibi/Nubili</th>\n",
       "      <th>Coniugati/e</th>\n",
       "      <th>Vedovi/e</th>\n",
       "      <th>Divorziati/e</th>\n",
       "      <th>Maschi</th>\n",
       "      <th>Femmine</th>\n",
       "      <th>Unnamed: 7_level_1</th>\n",
       "      <th>%</th>\n",
       "    </tr>\n",
       "  </thead>\n",
       "  <tbody>\n",
       "    <tr>\n",
       "      <th>0</th>\n",
       "      <td>0-4</td>\n",
       "      <td>2.264.538</td>\n",
       "      <td>0</td>\n",
       "      <td>0</td>\n",
       "      <td>0</td>\n",
       "      <td>1.163.19851,4%</td>\n",
       "      <td>1.101.34048,6%</td>\n",
       "      <td>2.264.538</td>\n",
       "      <td>3,8%</td>\n",
       "    </tr>\n",
       "    <tr>\n",
       "      <th>1</th>\n",
       "      <td>5-9</td>\n",
       "      <td>2.627.956</td>\n",
       "      <td>0</td>\n",
       "      <td>0</td>\n",
       "      <td>0</td>\n",
       "      <td>1.352.24051,5%</td>\n",
       "      <td>1.275.71648,5%</td>\n",
       "      <td>2.627.956</td>\n",
       "      <td>4,4%</td>\n",
       "    </tr>\n",
       "    <tr>\n",
       "      <th>2</th>\n",
       "      <td>10-14</td>\n",
       "      <td>2.835.060</td>\n",
       "      <td>0</td>\n",
       "      <td>0</td>\n",
       "      <td>0</td>\n",
       "      <td>1.460.44951,5%</td>\n",
       "      <td>1.374.61148,5%</td>\n",
       "      <td>2.835.060</td>\n",
       "      <td>4,8%</td>\n",
       "    </tr>\n",
       "    <tr>\n",
       "      <th>3</th>\n",
       "      <td>15-19</td>\n",
       "      <td>2.868.948</td>\n",
       "      <td>2.004</td>\n",
       "      <td>21</td>\n",
       "      <td>83</td>\n",
       "      <td>1.485.46551,7%</td>\n",
       "      <td>1.385.59148,3%</td>\n",
       "      <td>2.871.056</td>\n",
       "      <td>4,8%</td>\n",
       "    </tr>\n",
       "    <tr>\n",
       "      <th>4</th>\n",
       "      <td>20-24</td>\n",
       "      <td>2.890.840</td>\n",
       "      <td>64.253</td>\n",
       "      <td>127</td>\n",
       "      <td>668</td>\n",
       "      <td>1.549.02052,4%</td>\n",
       "      <td>1.406.86847,6%</td>\n",
       "      <td>2.955.888</td>\n",
       "      <td>5,0%</td>\n",
       "    </tr>\n",
       "    <tr>\n",
       "      <th>5</th>\n",
       "      <td>25-29</td>\n",
       "      <td>2.714.681</td>\n",
       "      <td>407.555</td>\n",
       "      <td>630</td>\n",
       "      <td>5.628</td>\n",
       "      <td>1.605.44451,3%</td>\n",
       "      <td>1.523.05048,7%</td>\n",
       "      <td>3.128.494</td>\n",
       "      <td>5,2%</td>\n",
       "    </tr>\n",
       "    <tr>\n",
       "      <th>6</th>\n",
       "      <td>30-34</td>\n",
       "      <td>2.084.313</td>\n",
       "      <td>1.169.221</td>\n",
       "      <td>2.418</td>\n",
       "      <td>26.489</td>\n",
       "      <td>1.658.74950,5%</td>\n",
       "      <td>1.623.69249,5%</td>\n",
       "      <td>3.282.441</td>\n",
       "      <td>5,5%</td>\n",
       "    </tr>\n",
       "    <tr>\n",
       "      <th>7</th>\n",
       "      <td>35-39</td>\n",
       "      <td>1.577.289</td>\n",
       "      <td>1.915.487</td>\n",
       "      <td>7.282</td>\n",
       "      <td>72.133</td>\n",
       "      <td>1.792.98150,2%</td>\n",
       "      <td>1.779.21049,8%</td>\n",
       "      <td>3.572.191</td>\n",
       "      <td>6,0%</td>\n",
       "    </tr>\n",
       "    <tr>\n",
       "      <th>8</th>\n",
       "      <td>40-44</td>\n",
       "      <td>1.393.337</td>\n",
       "      <td>2.620.552</td>\n",
       "      <td>18.957</td>\n",
       "      <td>154.618</td>\n",
       "      <td>2.089.19849,9%</td>\n",
       "      <td>2.098.26650,1%</td>\n",
       "      <td>4.187.464</td>\n",
       "      <td>7,0%</td>\n",
       "    </tr>\n",
       "    <tr>\n",
       "      <th>9</th>\n",
       "      <td>45-49</td>\n",
       "      <td>1.211.484</td>\n",
       "      <td>3.236.400</td>\n",
       "      <td>42.592</td>\n",
       "      <td>259.289</td>\n",
       "      <td>2.356.80049,6%</td>\n",
       "      <td>2.392.96550,4%</td>\n",
       "      <td>4.749.765</td>\n",
       "      <td>8,0%</td>\n",
       "    </tr>\n",
       "    <tr>\n",
       "      <th>10</th>\n",
       "      <td>50-54</td>\n",
       "      <td>914.381</td>\n",
       "      <td>3.545.692</td>\n",
       "      <td>84.717</td>\n",
       "      <td>331.914</td>\n",
       "      <td>2.404.14449,3%</td>\n",
       "      <td>2.472.56050,7%</td>\n",
       "      <td>4.876.704</td>\n",
       "      <td>8,2%</td>\n",
       "    </tr>\n",
       "    <tr>\n",
       "      <th>11</th>\n",
       "      <td>55-59</td>\n",
       "      <td>626.453</td>\n",
       "      <td>3.439.662</td>\n",
       "      <td>147.926</td>\n",
       "      <td>323.450</td>\n",
       "      <td>2.213.00848,8%</td>\n",
       "      <td>2.324.48351,2%</td>\n",
       "      <td>4.537.491</td>\n",
       "      <td>7,6%</td>\n",
       "    </tr>\n",
       "    <tr>\n",
       "      <th>12</th>\n",
       "      <td>60-64</td>\n",
       "      <td>411.731</td>\n",
       "      <td>3.006.985</td>\n",
       "      <td>230.387</td>\n",
       "      <td>244.247</td>\n",
       "      <td>1.874.92248,2%</td>\n",
       "      <td>2.018.42851,8%</td>\n",
       "      <td>3.893.350</td>\n",
       "      <td>6,5%</td>\n",
       "    </tr>\n",
       "    <tr>\n",
       "      <th>13</th>\n",
       "      <td>65-69</td>\n",
       "      <td>286.807</td>\n",
       "      <td>2.663.542</td>\n",
       "      <td>348.074</td>\n",
       "      <td>172.591</td>\n",
       "      <td>1.652.74047,6%</td>\n",
       "      <td>1.818.27452,4%</td>\n",
       "      <td>3.471.014</td>\n",
       "      <td>5,8%</td>\n",
       "    </tr>\n",
       "    <tr>\n",
       "      <th>14</th>\n",
       "      <td>70-74</td>\n",
       "      <td>225.584</td>\n",
       "      <td>2.429.874</td>\n",
       "      <td>544.701</td>\n",
       "      <td>124.201</td>\n",
       "      <td>1.555.30646,8%</td>\n",
       "      <td>1.769.05453,2%</td>\n",
       "      <td>3.324.360</td>\n",
       "      <td>5,6%</td>\n",
       "    </tr>\n",
       "    <tr>\n",
       "      <th>15</th>\n",
       "      <td>75-79</td>\n",
       "      <td>170.300</td>\n",
       "      <td>1.701.425</td>\n",
       "      <td>701.606</td>\n",
       "      <td>70.682</td>\n",
       "      <td>1.181.23344,7%</td>\n",
       "      <td>1.462.78055,3%</td>\n",
       "      <td>2.644.013</td>\n",
       "      <td>4,4%</td>\n",
       "    </tr>\n",
       "    <tr>\n",
       "      <th>16</th>\n",
       "      <td>80-84</td>\n",
       "      <td>140.403</td>\n",
       "      <td>1.162.123</td>\n",
       "      <td>888.727</td>\n",
       "      <td>40.283</td>\n",
       "      <td>930.78741,7%</td>\n",
       "      <td>1.300.74958,3%</td>\n",
       "      <td>2.231.536</td>\n",
       "      <td>3,7%</td>\n",
       "    </tr>\n",
       "    <tr>\n",
       "      <th>17</th>\n",
       "      <td>85-89</td>\n",
       "      <td>93.445</td>\n",
       "      <td>500.696</td>\n",
       "      <td>785.500</td>\n",
       "      <td>16.983</td>\n",
       "      <td>507.80936,4%</td>\n",
       "      <td>888.81563,6%</td>\n",
       "      <td>1.396.624</td>\n",
       "      <td>2,3%</td>\n",
       "    </tr>\n",
       "    <tr>\n",
       "      <th>18</th>\n",
       "      <td>90-94</td>\n",
       "      <td>46.534</td>\n",
       "      <td>129.439</td>\n",
       "      <td>434.772</td>\n",
       "      <td>5.615</td>\n",
       "      <td>179.13029,1%</td>\n",
       "      <td>437.23070,9%</td>\n",
       "      <td>616.360</td>\n",
       "      <td>1,0%</td>\n",
       "    </tr>\n",
       "    <tr>\n",
       "      <th>19</th>\n",
       "      <td>95-99</td>\n",
       "      <td>13.552</td>\n",
       "      <td>16.437</td>\n",
       "      <td>129.152</td>\n",
       "      <td>1.238</td>\n",
       "      <td>35.14121,9%</td>\n",
       "      <td>125.23878,1%</td>\n",
       "      <td>160.379</td>\n",
       "      <td>0,3%</td>\n",
       "    </tr>\n",
       "    <tr>\n",
       "      <th>20</th>\n",
       "      <td>100+</td>\n",
       "      <td>1.556</td>\n",
       "      <td>836</td>\n",
       "      <td>12.307</td>\n",
       "      <td>105</td>\n",
       "      <td>2.33215,8%</td>\n",
       "      <td>12.47284,2%</td>\n",
       "      <td>14.804</td>\n",
       "      <td>0,0%</td>\n",
       "    </tr>\n",
       "    <tr>\n",
       "      <th>21</th>\n",
       "      <td>Totale</td>\n",
       "      <td>25.399.192</td>\n",
       "      <td>28.012.183</td>\n",
       "      <td>4.379.896</td>\n",
       "      <td>1.850.217</td>\n",
       "      <td>29.050.09648,7%</td>\n",
       "      <td>30.591.39251,3%</td>\n",
       "      <td>59.641.488</td>\n",
       "      <td>100,0%</td>\n",
       "    </tr>\n",
       "  </tbody>\n",
       "</table>\n",
       "</div>"
      ],
      "text/plain": [
       "       Età Celibi/Nubili Coniugati/e   Vedovi/e Divorziati/e           Maschi  \\\n",
       "       Età Celibi/Nubili Coniugati/e   Vedovi/e Divorziati/e           Maschi   \n",
       "0      0-4     2.264.538           0          0            0   1.163.19851,4%   \n",
       "1      5-9     2.627.956           0          0            0   1.352.24051,5%   \n",
       "2    10-14     2.835.060           0          0            0   1.460.44951,5%   \n",
       "3    15-19     2.868.948       2.004         21           83   1.485.46551,7%   \n",
       "4    20-24     2.890.840      64.253        127          668   1.549.02052,4%   \n",
       "5    25-29     2.714.681     407.555        630        5.628   1.605.44451,3%   \n",
       "6    30-34     2.084.313   1.169.221      2.418       26.489   1.658.74950,5%   \n",
       "7    35-39     1.577.289   1.915.487      7.282       72.133   1.792.98150,2%   \n",
       "8    40-44     1.393.337   2.620.552     18.957      154.618   2.089.19849,9%   \n",
       "9    45-49     1.211.484   3.236.400     42.592      259.289   2.356.80049,6%   \n",
       "10   50-54       914.381   3.545.692     84.717      331.914   2.404.14449,3%   \n",
       "11   55-59       626.453   3.439.662    147.926      323.450   2.213.00848,8%   \n",
       "12   60-64       411.731   3.006.985    230.387      244.247   1.874.92248,2%   \n",
       "13   65-69       286.807   2.663.542    348.074      172.591   1.652.74047,6%   \n",
       "14   70-74       225.584   2.429.874    544.701      124.201   1.555.30646,8%   \n",
       "15   75-79       170.300   1.701.425    701.606       70.682   1.181.23344,7%   \n",
       "16   80-84       140.403   1.162.123    888.727       40.283     930.78741,7%   \n",
       "17   85-89        93.445     500.696    785.500       16.983     507.80936,4%   \n",
       "18   90-94        46.534     129.439    434.772        5.615     179.13029,1%   \n",
       "19   95-99        13.552      16.437    129.152        1.238      35.14121,9%   \n",
       "20    100+         1.556         836     12.307          105       2.33215,8%   \n",
       "21  Totale    25.399.192  28.012.183  4.379.896    1.850.217  29.050.09648,7%   \n",
       "\n",
       "            Femmine             Totale          \n",
       "            Femmine Unnamed: 7_level_1       %  \n",
       "0    1.101.34048,6%          2.264.538    3,8%  \n",
       "1    1.275.71648,5%          2.627.956    4,4%  \n",
       "2    1.374.61148,5%          2.835.060    4,8%  \n",
       "3    1.385.59148,3%          2.871.056    4,8%  \n",
       "4    1.406.86847,6%          2.955.888    5,0%  \n",
       "5    1.523.05048,7%          3.128.494    5,2%  \n",
       "6    1.623.69249,5%          3.282.441    5,5%  \n",
       "7    1.779.21049,8%          3.572.191    6,0%  \n",
       "8    2.098.26650,1%          4.187.464    7,0%  \n",
       "9    2.392.96550,4%          4.749.765    8,0%  \n",
       "10   2.472.56050,7%          4.876.704    8,2%  \n",
       "11   2.324.48351,2%          4.537.491    7,6%  \n",
       "12   2.018.42851,8%          3.893.350    6,5%  \n",
       "13   1.818.27452,4%          3.471.014    5,8%  \n",
       "14   1.769.05453,2%          3.324.360    5,6%  \n",
       "15   1.462.78055,3%          2.644.013    4,4%  \n",
       "16   1.300.74958,3%          2.231.536    3,7%  \n",
       "17     888.81563,6%          1.396.624    2,3%  \n",
       "18     437.23070,9%            616.360    1,0%  \n",
       "19     125.23878,1%            160.379    0,3%  \n",
       "20      12.47284,2%             14.804    0,0%  \n",
       "21  30.591.39251,3%         59.641.488  100,0%  "
      ]
     },
     "execution_count": 287,
     "metadata": {},
     "output_type": "execute_result"
    }
   ],
   "source": [
    "pd.read_html('https://www.tuttitalia.it/statistiche/popolazione-eta-sesso-stato-civile-2020/')[0]\n"
   ]
  },
  {
   "cell_type": "code",
   "execution_count": 288,
   "metadata": {},
   "outputs": [
    {
     "data": {
      "text/html": [
       "<div>\n",
       "<style scoped>\n",
       "    .dataframe tbody tr th:only-of-type {\n",
       "        vertical-align: middle;\n",
       "    }\n",
       "\n",
       "    .dataframe tbody tr th {\n",
       "        vertical-align: top;\n",
       "    }\n",
       "\n",
       "    .dataframe thead th {\n",
       "        text-align: right;\n",
       "    }\n",
       "</style>\n",
       "<table border=\"1\" class=\"dataframe\">\n",
       "  <thead>\n",
       "    <tr style=\"text-align: right;\">\n",
       "      <th></th>\n",
       "      <th>Età</th>\n",
       "      <th>Totale</th>\n",
       "    </tr>\n",
       "  </thead>\n",
       "  <tbody>\n",
       "    <tr>\n",
       "      <th>96</th>\n",
       "      <td>96 anni</td>\n",
       "      <td>30447</td>\n",
       "    </tr>\n",
       "    <tr>\n",
       "      <th>97</th>\n",
       "      <td>97 anni</td>\n",
       "      <td>22450</td>\n",
       "    </tr>\n",
       "    <tr>\n",
       "      <th>98</th>\n",
       "      <td>98 anni</td>\n",
       "      <td>15624</td>\n",
       "    </tr>\n",
       "    <tr>\n",
       "      <th>99</th>\n",
       "      <td>99 anni</td>\n",
       "      <td>10192</td>\n",
       "    </tr>\n",
       "    <tr>\n",
       "      <th>100</th>\n",
       "      <td>100 anni e più</td>\n",
       "      <td>15080</td>\n",
       "    </tr>\n",
       "  </tbody>\n",
       "</table>\n",
       "</div>"
      ],
      "text/plain": [
       "                Età  Totale\n",
       "96          96 anni   30447\n",
       "97          97 anni   22450\n",
       "98          98 anni   15624\n",
       "99          99 anni   10192\n",
       "100  100 anni e più   15080"
      ]
     },
     "execution_count": 288,
     "metadata": {},
     "output_type": "execute_result"
    }
   ],
   "source": [
    "pop = pd.read_html('https://it.wikipedia.org/wiki/Demografia_d%27Italia', thousands='.')[11]\n",
    "pop = pop[['Età', 'Totale']]\n",
    "pop.drop(index=101, axis=0, inplace=True)\n",
    "pop.Totale = pd.to_numeric(pop.Totale)\n",
    "pop.tail()"
   ]
  },
  {
   "cell_type": "code",
   "execution_count": 289,
   "metadata": {},
   "outputs": [],
   "source": [
    "pop['Età'] = pd.to_numeric(pop['Età'].str.split(' ', expand=True)[0])"
   ]
  },
  {
   "cell_type": "code",
   "execution_count": 290,
   "metadata": {},
   "outputs": [],
   "source": [
    "def ages(s):\n",
    "    if (s['Età'] >= 0 and s['Età'] < 16):\n",
    "        return '0-16'\n",
    "    elif (s['Età'] >= 16 and s['Età'] <= 19):\n",
    "        return '16-19'\n",
    "    elif (s['Età'] >= 20 and s['Età'] <= 29):\n",
    "        return '20-29'\n",
    "    elif (s['Età'] >= 30 and s['Età'] <= 39):\n",
    "        return '30-39'\n",
    "    elif (s['Età'] >= 40 and s['Età'] <= 49):\n",
    "        return '40-49'\n",
    "    elif (s['Età'] >= 50 and s['Età'] <= 59):\n",
    "        return '50-59'\n",
    "    elif (s['Età'] >= 60 and s['Età'] <= 69):\n",
    "        return '60-69'\n",
    "    elif (s['Età'] >= 70 and s['Età'] <= 79):\n",
    "        return '70-79'\n",
    "    elif (s['Età'] >= 80 and s['Età'] <= 89):\n",
    "        return '80-89'\n",
    "    elif s['Età'] >= 90:\n",
    "        return '90+'"
   ]
  },
  {
   "cell_type": "markdown",
   "metadata": {},
   "source": [
    "def regrouping(s):\n",
    "    if s['Età'] >= 0 | s['Età'] < 16:\n",
    "        return '0-16'\n",
    "    elif s['Età'] >= 16 | s['Età'] <= 19:\n",
    "        return '16-19'\n",
    "    elif s['Età'] >= 20 | s['Età'] <= 29:\n",
    "        return '20-29'\n",
    "    elif s['Età'] >= 30 | s['Età'] <= 39:\n",
    "        return '30-39'\n",
    "    elif s['Età'] >= 40 | s['Età'] <= 49:\n",
    "        return '40-49'\n",
    "    elif s['Età'] >= 50 | s['Età'] <= 59:\n",
    "        return '50-59'\n",
    "    elif s['Età'] >= 60 | s['Età'] <= 69:\n",
    "        return '60-69'\n",
    "    elif s['Età'] >= 70 | s['Età'] <= 79:\n",
    "        return '70-79'\n",
    "    elif s['Età'] >= 80 | s['Età'] <= 89:\n",
    "        return '80-89'\n",
    "    elif s['Età'] >= 90:\n",
    "        return '90+'"
   ]
  },
  {
   "cell_type": "code",
   "execution_count": 291,
   "metadata": {},
   "outputs": [],
   "source": [
    "\n",
    "pop['gruppo'] = pop.apply(ages, axis=1)"
   ]
  },
  {
   "cell_type": "code",
   "execution_count": 292,
   "metadata": {},
   "outputs": [
    {
     "data": {
      "text/html": [
       "<div>\n",
       "<style scoped>\n",
       "    .dataframe tbody tr th:only-of-type {\n",
       "        vertical-align: middle;\n",
       "    }\n",
       "\n",
       "    .dataframe tbody tr th {\n",
       "        vertical-align: top;\n",
       "    }\n",
       "\n",
       "    .dataframe thead th {\n",
       "        text-align: right;\n",
       "    }\n",
       "</style>\n",
       "<table border=\"1\" class=\"dataframe\">\n",
       "  <thead>\n",
       "    <tr style=\"text-align: right;\">\n",
       "      <th></th>\n",
       "      <th>Età</th>\n",
       "      <th>Totale</th>\n",
       "      <th>gruppo</th>\n",
       "    </tr>\n",
       "  </thead>\n",
       "  <tbody>\n",
       "    <tr>\n",
       "      <th>0</th>\n",
       "      <td>0</td>\n",
       "      <td>532991</td>\n",
       "      <td>0-16</td>\n",
       "    </tr>\n",
       "    <tr>\n",
       "      <th>1</th>\n",
       "      <td>1</td>\n",
       "      <td>542019</td>\n",
       "      <td>0-16</td>\n",
       "    </tr>\n",
       "    <tr>\n",
       "      <th>2</th>\n",
       "      <td>2</td>\n",
       "      <td>553729</td>\n",
       "      <td>0-16</td>\n",
       "    </tr>\n",
       "    <tr>\n",
       "      <th>3</th>\n",
       "      <td>3</td>\n",
       "      <td>561994</td>\n",
       "      <td>0-16</td>\n",
       "    </tr>\n",
       "    <tr>\n",
       "      <th>4</th>\n",
       "      <td>4</td>\n",
       "      <td>559203</td>\n",
       "      <td>0-16</td>\n",
       "    </tr>\n",
       "    <tr>\n",
       "      <th>...</th>\n",
       "      <td>...</td>\n",
       "      <td>...</td>\n",
       "      <td>...</td>\n",
       "    </tr>\n",
       "    <tr>\n",
       "      <th>96</th>\n",
       "      <td>96</td>\n",
       "      <td>30447</td>\n",
       "      <td>90+</td>\n",
       "    </tr>\n",
       "    <tr>\n",
       "      <th>97</th>\n",
       "      <td>97</td>\n",
       "      <td>22450</td>\n",
       "      <td>90+</td>\n",
       "    </tr>\n",
       "    <tr>\n",
       "      <th>98</th>\n",
       "      <td>98</td>\n",
       "      <td>15624</td>\n",
       "      <td>90+</td>\n",
       "    </tr>\n",
       "    <tr>\n",
       "      <th>99</th>\n",
       "      <td>99</td>\n",
       "      <td>10192</td>\n",
       "      <td>90+</td>\n",
       "    </tr>\n",
       "    <tr>\n",
       "      <th>100</th>\n",
       "      <td>100</td>\n",
       "      <td>15080</td>\n",
       "      <td>90+</td>\n",
       "    </tr>\n",
       "  </tbody>\n",
       "</table>\n",
       "<p>101 rows × 3 columns</p>\n",
       "</div>"
      ],
      "text/plain": [
       "     Età  Totale gruppo\n",
       "0      0  532991   0-16\n",
       "1      1  542019   0-16\n",
       "2      2  553729   0-16\n",
       "3      3  561994   0-16\n",
       "4      4  559203   0-16\n",
       "..   ...     ...    ...\n",
       "96    96   30447    90+\n",
       "97    97   22450    90+\n",
       "98    98   15624    90+\n",
       "99    99   10192    90+\n",
       "100  100   15080    90+\n",
       "\n",
       "[101 rows x 3 columns]"
      ]
     },
     "execution_count": 292,
     "metadata": {},
     "output_type": "execute_result"
    }
   ],
   "source": [
    "pop"
   ]
  },
  {
   "cell_type": "code",
   "execution_count": 293,
   "metadata": {},
   "outputs": [],
   "source": [
    "pop = pop.groupby('gruppo')['Totale'].sum().reset_index()\n",
    "pop.gruppo = pop.gruppo.astype(str)"
   ]
  },
  {
   "cell_type": "code",
   "execution_count": 294,
   "metadata": {},
   "outputs": [
    {
     "data": {
      "text/html": [
       "<div>\n",
       "<style scoped>\n",
       "    .dataframe tbody tr th:only-of-type {\n",
       "        vertical-align: middle;\n",
       "    }\n",
       "\n",
       "    .dataframe tbody tr th {\n",
       "        vertical-align: top;\n",
       "    }\n",
       "\n",
       "    .dataframe thead th {\n",
       "        text-align: right;\n",
       "    }\n",
       "</style>\n",
       "<table border=\"1\" class=\"dataframe\">\n",
       "  <thead>\n",
       "    <tr style=\"text-align: right;\">\n",
       "      <th></th>\n",
       "      <th>gruppo</th>\n",
       "      <th>Totale</th>\n",
       "    </tr>\n",
       "  </thead>\n",
       "  <tbody>\n",
       "    <tr>\n",
       "      <th>0</th>\n",
       "      <td>0-16</td>\n",
       "      <td>8885150</td>\n",
       "    </tr>\n",
       "    <tr>\n",
       "      <th>1</th>\n",
       "      <td>16-19</td>\n",
       "      <td>2310358</td>\n",
       "    </tr>\n",
       "    <tr>\n",
       "      <th>2</th>\n",
       "      <td>20-29</td>\n",
       "      <td>6327883</td>\n",
       "    </tr>\n",
       "    <tr>\n",
       "      <th>3</th>\n",
       "      <td>30-39</td>\n",
       "      <td>8345554</td>\n",
       "    </tr>\n",
       "    <tr>\n",
       "      <th>4</th>\n",
       "      <td>40-49</td>\n",
       "      <td>9567872</td>\n",
       "    </tr>\n",
       "    <tr>\n",
       "      <th>5</th>\n",
       "      <td>50-59</td>\n",
       "      <td>7871829</td>\n",
       "    </tr>\n",
       "    <tr>\n",
       "      <th>6</th>\n",
       "      <td>60-69</td>\n",
       "      <td>6860158</td>\n",
       "    </tr>\n",
       "    <tr>\n",
       "      <th>7</th>\n",
       "      <td>70-79</td>\n",
       "      <td>5628974</td>\n",
       "    </tr>\n",
       "    <tr>\n",
       "      <th>8</th>\n",
       "      <td>80-89</td>\n",
       "      <td>3117811</td>\n",
       "    </tr>\n",
       "    <tr>\n",
       "      <th>9</th>\n",
       "      <td>90+</td>\n",
       "      <td>518155</td>\n",
       "    </tr>\n",
       "  </tbody>\n",
       "</table>\n",
       "</div>"
      ],
      "text/plain": [
       "  gruppo   Totale\n",
       "0   0-16  8885150\n",
       "1  16-19  2310358\n",
       "2  20-29  6327883\n",
       "3  30-39  8345554\n",
       "4  40-49  9567872\n",
       "5  50-59  7871829\n",
       "6  60-69  6860158\n",
       "7  70-79  5628974\n",
       "8  80-89  3117811\n",
       "9    90+   518155"
      ]
     },
     "execution_count": 294,
     "metadata": {},
     "output_type": "execute_result"
    }
   ],
   "source": [
    "pop"
   ]
  },
  {
   "cell_type": "code",
   "execution_count": 295,
   "metadata": {},
   "outputs": [
    {
     "data": {
      "text/html": [
       "<div>\n",
       "<style scoped>\n",
       "    .dataframe tbody tr th:only-of-type {\n",
       "        vertical-align: middle;\n",
       "    }\n",
       "\n",
       "    .dataframe tbody tr th {\n",
       "        vertical-align: top;\n",
       "    }\n",
       "\n",
       "    .dataframe thead th {\n",
       "        text-align: right;\n",
       "    }\n",
       "</style>\n",
       "<table border=\"1\" class=\"dataframe\">\n",
       "  <thead>\n",
       "    <tr style=\"text-align: right;\">\n",
       "      <th></th>\n",
       "      <th>data_somministrazione</th>\n",
       "      <th>fascia_anagrafica</th>\n",
       "      <th>prima_dose</th>\n",
       "      <th>prima_dose_totale_giorno</th>\n",
       "      <th>perc_tot_somministrati</th>\n",
       "      <th>totale_fascia</th>\n",
       "    </tr>\n",
       "  </thead>\n",
       "  <tbody>\n",
       "    <tr>\n",
       "      <th>0</th>\n",
       "      <td>2021-01-01</td>\n",
       "      <td>16-19</td>\n",
       "      <td>2</td>\n",
       "      <td>11051</td>\n",
       "      <td>0.0</td>\n",
       "      <td>2310358</td>\n",
       "    </tr>\n",
       "    <tr>\n",
       "      <th>1</th>\n",
       "      <td>2021-01-02</td>\n",
       "      <td>16-19</td>\n",
       "      <td>19</td>\n",
       "      <td>38503</td>\n",
       "      <td>0.0</td>\n",
       "      <td>2310358</td>\n",
       "    </tr>\n",
       "    <tr>\n",
       "      <th>2</th>\n",
       "      <td>2021-01-04</td>\n",
       "      <td>16-19</td>\n",
       "      <td>12</td>\n",
       "      <td>68630</td>\n",
       "      <td>0.0</td>\n",
       "      <td>2310358</td>\n",
       "    </tr>\n",
       "    <tr>\n",
       "      <th>3</th>\n",
       "      <td>2021-01-05</td>\n",
       "      <td>16-19</td>\n",
       "      <td>22</td>\n",
       "      <td>79539</td>\n",
       "      <td>0.0</td>\n",
       "      <td>2310358</td>\n",
       "    </tr>\n",
       "    <tr>\n",
       "      <th>4</th>\n",
       "      <td>2021-01-06</td>\n",
       "      <td>16-19</td>\n",
       "      <td>38</td>\n",
       "      <td>65175</td>\n",
       "      <td>0.0</td>\n",
       "      <td>2310358</td>\n",
       "    </tr>\n",
       "  </tbody>\n",
       "</table>\n",
       "</div>"
      ],
      "text/plain": [
       "  data_somministrazione fascia_anagrafica  prima_dose  \\\n",
       "0            2021-01-01             16-19           2   \n",
       "1            2021-01-02             16-19          19   \n",
       "2            2021-01-04             16-19          12   \n",
       "3            2021-01-05             16-19          22   \n",
       "4            2021-01-06             16-19          38   \n",
       "\n",
       "   prima_dose_totale_giorno  perc_tot_somministrati  totale_fascia  \n",
       "0                     11051                     0.0        2310358  \n",
       "1                     38503                     0.0        2310358  \n",
       "2                     68630                     0.0        2310358  \n",
       "3                     79539                     0.0        2310358  \n",
       "4                     65175                     0.0        2310358  "
      ]
     },
     "execution_count": 295,
     "metadata": {},
     "output_type": "execute_result"
    }
   ],
   "source": [
    "df1 = df1.merge(pop, left_on='fascia_anagrafica', right_on='gruppo', how='inner')\n",
    "df1.drop('gruppo', axis=1, inplace=True)\n",
    "df1.rename(columns={'Totale':'totale_fascia'}, inplace=True)\n",
    "df1.head()"
   ]
  },
  {
   "cell_type": "code",
   "execution_count": 296,
   "metadata": {},
   "outputs": [
    {
     "data": {
      "text/html": [
       "<div>\n",
       "<style scoped>\n",
       "    .dataframe tbody tr th:only-of-type {\n",
       "        vertical-align: middle;\n",
       "    }\n",
       "\n",
       "    .dataframe tbody tr th {\n",
       "        vertical-align: top;\n",
       "    }\n",
       "\n",
       "    .dataframe thead th {\n",
       "        text-align: right;\n",
       "    }\n",
       "</style>\n",
       "<table border=\"1\" class=\"dataframe\">\n",
       "  <thead>\n",
       "    <tr style=\"text-align: right;\">\n",
       "      <th></th>\n",
       "      <th>data_somministrazione</th>\n",
       "      <th>fascia_anagrafica</th>\n",
       "      <th>prima_dose</th>\n",
       "      <th>Totale</th>\n",
       "    </tr>\n",
       "  </thead>\n",
       "  <tbody>\n",
       "    <tr>\n",
       "      <th>867</th>\n",
       "      <td>2021-04-03</td>\n",
       "      <td>90+</td>\n",
       "      <td>160168</td>\n",
       "      <td>518155</td>\n",
       "    </tr>\n",
       "    <tr>\n",
       "      <th>868</th>\n",
       "      <td>2021-04-04</td>\n",
       "      <td>90+</td>\n",
       "      <td>73923</td>\n",
       "      <td>518155</td>\n",
       "    </tr>\n",
       "    <tr>\n",
       "      <th>869</th>\n",
       "      <td>2021-04-05</td>\n",
       "      <td>90+</td>\n",
       "      <td>128600</td>\n",
       "      <td>518155</td>\n",
       "    </tr>\n",
       "    <tr>\n",
       "      <th>870</th>\n",
       "      <td>2021-04-06</td>\n",
       "      <td>90+</td>\n",
       "      <td>190542</td>\n",
       "      <td>518155</td>\n",
       "    </tr>\n",
       "    <tr>\n",
       "      <th>871</th>\n",
       "      <td>2021-04-07</td>\n",
       "      <td>90+</td>\n",
       "      <td>57753</td>\n",
       "      <td>518155</td>\n",
       "    </tr>\n",
       "  </tbody>\n",
       "</table>\n",
       "</div>"
      ],
      "text/plain": [
       "    data_somministrazione fascia_anagrafica  prima_dose  Totale\n",
       "867            2021-04-03               90+      160168  518155\n",
       "868            2021-04-04               90+       73923  518155\n",
       "869            2021-04-05               90+      128600  518155\n",
       "870            2021-04-06               90+      190542  518155\n",
       "871            2021-04-07               90+       57753  518155"
      ]
     },
     "execution_count": 296,
     "metadata": {},
     "output_type": "execute_result"
    }
   ],
   "source": [
    "df2 = (df1.groupby(['data_somministrazione','fascia_anagrafica'])['prima_dose']\n",
    " .sum().groupby(level=0).cumsum().reset_index()\n",
    ".merge(pop, left_on='fascia_anagrafica', right_on='gruppo')).drop(['gruppo'], axis=1)\n",
    "df2.tail()"
   ]
  },
  {
   "cell_type": "code",
   "execution_count": 297,
   "metadata": {},
   "outputs": [],
   "source": [
    "df_last = df1.groupby('fascia_anagrafica')[['prima_dose','totale_fascia']].agg({'prima_dose':'sum','totale_fascia':'last'}).reset_index()"
   ]
  },
  {
   "cell_type": "code",
   "execution_count": 298,
   "metadata": {},
   "outputs": [],
   "source": [
    "df_last['perc_vaccinata'] = (df_last.prima_dose/df_last.totale_fascia).mul(100).round(2)"
   ]
  },
  {
   "cell_type": "code",
   "execution_count": 299,
   "metadata": {},
   "outputs": [
    {
     "data": {
      "text/html": [
       "<div>\n",
       "<style scoped>\n",
       "    .dataframe tbody tr th:only-of-type {\n",
       "        vertical-align: middle;\n",
       "    }\n",
       "\n",
       "    .dataframe tbody tr th {\n",
       "        vertical-align: top;\n",
       "    }\n",
       "\n",
       "    .dataframe thead th {\n",
       "        text-align: right;\n",
       "    }\n",
       "</style>\n",
       "<table border=\"1\" class=\"dataframe\">\n",
       "  <thead>\n",
       "    <tr style=\"text-align: right;\">\n",
       "      <th></th>\n",
       "      <th>fascia_anagrafica</th>\n",
       "      <th>prima_dose</th>\n",
       "      <th>totale_fascia</th>\n",
       "      <th>perc_vaccinata</th>\n",
       "    </tr>\n",
       "  </thead>\n",
       "  <tbody>\n",
       "    <tr>\n",
       "      <th>0</th>\n",
       "      <td>16-19</td>\n",
       "      <td>10761</td>\n",
       "      <td>2310358</td>\n",
       "      <td>0.47</td>\n",
       "    </tr>\n",
       "    <tr>\n",
       "      <th>1</th>\n",
       "      <td>20-29</td>\n",
       "      <td>444848</td>\n",
       "      <td>6327883</td>\n",
       "      <td>7.03</td>\n",
       "    </tr>\n",
       "    <tr>\n",
       "      <th>2</th>\n",
       "      <td>30-39</td>\n",
       "      <td>661159</td>\n",
       "      <td>8345554</td>\n",
       "      <td>7.92</td>\n",
       "    </tr>\n",
       "    <tr>\n",
       "      <th>3</th>\n",
       "      <td>40-49</td>\n",
       "      <td>936119</td>\n",
       "      <td>9567872</td>\n",
       "      <td>9.78</td>\n",
       "    </tr>\n",
       "    <tr>\n",
       "      <th>4</th>\n",
       "      <td>50-59</td>\n",
       "      <td>1219886</td>\n",
       "      <td>7871829</td>\n",
       "      <td>15.50</td>\n",
       "    </tr>\n",
       "    <tr>\n",
       "      <th>5</th>\n",
       "      <td>60-69</td>\n",
       "      <td>854075</td>\n",
       "      <td>6860158</td>\n",
       "      <td>12.45</td>\n",
       "    </tr>\n",
       "    <tr>\n",
       "      <th>6</th>\n",
       "      <td>70-79</td>\n",
       "      <td>984586</td>\n",
       "      <td>5628974</td>\n",
       "      <td>17.49</td>\n",
       "    </tr>\n",
       "    <tr>\n",
       "      <th>7</th>\n",
       "      <td>80-89</td>\n",
       "      <td>2358508</td>\n",
       "      <td>3117811</td>\n",
       "      <td>75.65</td>\n",
       "    </tr>\n",
       "    <tr>\n",
       "      <th>8</th>\n",
       "      <td>90+</td>\n",
       "      <td>531312</td>\n",
       "      <td>518155</td>\n",
       "      <td>102.54</td>\n",
       "    </tr>\n",
       "  </tbody>\n",
       "</table>\n",
       "</div>"
      ],
      "text/plain": [
       "  fascia_anagrafica  prima_dose  totale_fascia  perc_vaccinata\n",
       "0             16-19       10761        2310358            0.47\n",
       "1             20-29      444848        6327883            7.03\n",
       "2             30-39      661159        8345554            7.92\n",
       "3             40-49      936119        9567872            9.78\n",
       "4             50-59     1219886        7871829           15.50\n",
       "5             60-69      854075        6860158           12.45\n",
       "6             70-79      984586        5628974           17.49\n",
       "7             80-89     2358508        3117811           75.65\n",
       "8               90+      531312         518155          102.54"
      ]
     },
     "execution_count": 299,
     "metadata": {},
     "output_type": "execute_result"
    }
   ],
   "source": [
    "df_last"
   ]
  },
  {
   "cell_type": "code",
   "execution_count": 300,
   "metadata": {},
   "outputs": [
    {
     "data": {
      "image/png": "[encoded data removed]",
      "text/plain": [
       "<Figure size 1008x504 with 1 Axes>"
      ]
     },
     "metadata": {},
     "output_type": "display_data"
    }
   ],
   "source": [
    "sns.set_style('darkgrid')\n",
    "plt.figure(figsize=(14,7))\n",
    "sns.barplot(data=df_last, x='fascia_anagrafica',y='perc_vaccinata', color='#176AA5').set_title('Elaborazione: @TomZ_UK - Dati: ISS/ISTAT', fontsize=12)\n",
    "plt.ylabel('Percentuale', fontsize=16)\n",
    "plt.xlabel('Fascia Anagrafica', fontsize=16)\n",
    "plt.suptitle('Percentuale di Popolazione Vaccinata con Prima Dose', fontsize=20)\n",
    "\n",
    "plt.savefig('Percentuale_Pop.png')"
   ]
  },
  {
   "cell_type": "code",
   "execution_count": 301,
   "metadata": {},
   "outputs": [
    {
     "data": {
      "text/plain": [
       "11594477"
      ]
     },
     "execution_count": 301,
     "metadata": {},
     "output_type": "execute_result"
    }
   ],
   "source": [
    "(df.prima_dose.sum() + df.seconda_dose.sum())"
   ]
  },
  {
   "cell_type": "code",
   "execution_count": 302,
   "metadata": {},
   "outputs": [],
   "source": [
    "pop.drop(index=0, inplace=True)"
   ]
  },
  {
   "cell_type": "code",
   "execution_count": 303,
   "metadata": {},
   "outputs": [
    {
     "data": {
      "text/plain": [
       "15.83"
      ]
     },
     "execution_count": 303,
     "metadata": {},
     "output_type": "execute_result"
    }
   ],
   "source": [
    "((df.prima_dose.sum()/pop.Totale.sum())*100).round(2)"
   ]
  },
  {
   "cell_type": "markdown",
   "metadata": {},
   "source": [
    "# Gauge Chart"
   ]
  },
  {
   "cell_type": "code",
   "execution_count": 304,
   "metadata": {},
   "outputs": [
    {
     "data": {
      "text/plain": [
       "0         NaN\n",
       "1         0.0\n",
       "2         0.0\n",
       "3         0.0\n",
       "4         0.0\n",
       "       ...   \n",
       "92    57075.0\n",
       "93    19806.0\n",
       "94    37035.0\n",
       "95    71687.0\n",
       "96    31924.0\n",
       "Name: seconda_dose, Length: 97, dtype: float64"
      ]
     },
     "execution_count": 304,
     "metadata": {},
     "output_type": "execute_result"
    }
   ],
   "source": [
    "df_seconda = df.groupby(df.data_somministrazione)[['seconda_dose']].sum().cumsum().reset_index()\n",
    "df_seconda.seconda_dose.diff()"
   ]
  },
  {
   "cell_type": "markdown",
   "metadata": {},
   "source": [
    "df.groupby(['data_somministrazione'])['prima_dose'].sum() \\\n",
    "  .groupby(level=1).cumsum().reset_index()"
   ]
  },
  {
   "cell_type": "code",
   "execution_count": 305,
   "metadata": {},
   "outputs": [],
   "source": [
    "df_prima = df.groupby('data_somministrazione')[['prima_dose']].sum().cumsum().reset_index()"
   ]
  },
  {
   "cell_type": "code",
   "execution_count": 306,
   "metadata": {},
   "outputs": [
    {
     "data": {
      "text/plain": [
       "50548594"
      ]
     },
     "execution_count": 306,
     "metadata": {},
     "output_type": "execute_result"
    }
   ],
   "source": [
    "pop.Totale.sum()"
   ]
  },
  {
   "cell_type": "code",
   "execution_count": 307,
   "metadata": {},
   "outputs": [],
   "source": [
    "df_prima['pct_pop_prima_dose'] = (df_prima.prima_dose/pop.Totale.sum()).mul(100)"
   ]
  },
  {
   "cell_type": "code",
   "execution_count": 308,
   "metadata": {},
   "outputs": [],
   "source": [
    "df_prima['daily_change'] = df_prima.pct_pop_prima_dose.diff()"
   ]
  },
  {
   "cell_type": "code",
   "execution_count": 309,
   "metadata": {},
   "outputs": [
    {
     "data": {
      "text/html": [
       "<div>\n",
       "<style scoped>\n",
       "    .dataframe tbody tr th:only-of-type {\n",
       "        vertical-align: middle;\n",
       "    }\n",
       "\n",
       "    .dataframe tbody tr th {\n",
       "        vertical-align: top;\n",
       "    }\n",
       "\n",
       "    .dataframe thead th {\n",
       "        text-align: right;\n",
       "    }\n",
       "</style>\n",
       "<table border=\"1\" class=\"dataframe\">\n",
       "  <thead>\n",
       "    <tr style=\"text-align: right;\">\n",
       "      <th></th>\n",
       "      <th>data_somministrazione</th>\n",
       "      <th>prima_dose</th>\n",
       "      <th>pct_pop_prima_dose</th>\n",
       "      <th>daily_change</th>\n",
       "      <th>prima_dose_giorno</th>\n",
       "    </tr>\n",
       "  </thead>\n",
       "  <tbody>\n",
       "    <tr>\n",
       "      <th>0</th>\n",
       "      <td>2021-01-01</td>\n",
       "      <td>11051</td>\n",
       "      <td>0.021862</td>\n",
       "      <td>NaN</td>\n",
       "      <td>0.0</td>\n",
       "    </tr>\n",
       "    <tr>\n",
       "      <th>1</th>\n",
       "      <td>2021-01-02</td>\n",
       "      <td>49554</td>\n",
       "      <td>0.098032</td>\n",
       "      <td>0.076170</td>\n",
       "      <td>38503.0</td>\n",
       "    </tr>\n",
       "    <tr>\n",
       "      <th>2</th>\n",
       "      <td>2021-01-03</td>\n",
       "      <td>84687</td>\n",
       "      <td>0.167536</td>\n",
       "      <td>0.069503</td>\n",
       "      <td>35133.0</td>\n",
       "    </tr>\n",
       "    <tr>\n",
       "      <th>3</th>\n",
       "      <td>2021-01-04</td>\n",
       "      <td>153317</td>\n",
       "      <td>0.303306</td>\n",
       "      <td>0.135770</td>\n",
       "      <td>68630.0</td>\n",
       "    </tr>\n",
       "    <tr>\n",
       "      <th>4</th>\n",
       "      <td>2021-01-05</td>\n",
       "      <td>232856</td>\n",
       "      <td>0.460658</td>\n",
       "      <td>0.157352</td>\n",
       "      <td>79539.0</td>\n",
       "    </tr>\n",
       "    <tr>\n",
       "      <th>...</th>\n",
       "      <td>...</td>\n",
       "      <td>...</td>\n",
       "      <td>...</td>\n",
       "      <td>...</td>\n",
       "      <td>...</td>\n",
       "    </tr>\n",
       "    <tr>\n",
       "      <th>92</th>\n",
       "      <td>2021-04-03</td>\n",
       "      <td>7550436</td>\n",
       "      <td>14.936985</td>\n",
       "      <td>0.316859</td>\n",
       "      <td>160168.0</td>\n",
       "    </tr>\n",
       "    <tr>\n",
       "      <th>93</th>\n",
       "      <td>2021-04-04</td>\n",
       "      <td>7624359</td>\n",
       "      <td>15.083227</td>\n",
       "      <td>0.146241</td>\n",
       "      <td>73923.0</td>\n",
       "    </tr>\n",
       "    <tr>\n",
       "      <th>94</th>\n",
       "      <td>2021-04-05</td>\n",
       "      <td>7752959</td>\n",
       "      <td>15.337635</td>\n",
       "      <td>0.254409</td>\n",
       "      <td>128600.0</td>\n",
       "    </tr>\n",
       "    <tr>\n",
       "      <th>95</th>\n",
       "      <td>2021-04-06</td>\n",
       "      <td>7943501</td>\n",
       "      <td>15.714583</td>\n",
       "      <td>0.376948</td>\n",
       "      <td>190542.0</td>\n",
       "    </tr>\n",
       "    <tr>\n",
       "      <th>96</th>\n",
       "      <td>2021-04-07</td>\n",
       "      <td>8001254</td>\n",
       "      <td>15.828836</td>\n",
       "      <td>0.114252</td>\n",
       "      <td>57753.0</td>\n",
       "    </tr>\n",
       "  </tbody>\n",
       "</table>\n",
       "<p>97 rows × 5 columns</p>\n",
       "</div>"
      ],
      "text/plain": [
       "   data_somministrazione  prima_dose  pct_pop_prima_dose  daily_change  \\\n",
       "0             2021-01-01       11051            0.021862           NaN   \n",
       "1             2021-01-02       49554            0.098032      0.076170   \n",
       "2             2021-01-03       84687            0.167536      0.069503   \n",
       "3             2021-01-04      153317            0.303306      0.135770   \n",
       "4             2021-01-05      232856            0.460658      0.157352   \n",
       "..                   ...         ...                 ...           ...   \n",
       "92            2021-04-03     7550436           14.936985      0.316859   \n",
       "93            2021-04-04     7624359           15.083227      0.146241   \n",
       "94            2021-04-05     7752959           15.337635      0.254409   \n",
       "95            2021-04-06     7943501           15.714583      0.376948   \n",
       "96            2021-04-07     8001254           15.828836      0.114252   \n",
       "\n",
       "    prima_dose_giorno  \n",
       "0                 0.0  \n",
       "1             38503.0  \n",
       "2             35133.0  \n",
       "3             68630.0  \n",
       "4             79539.0  \n",
       "..                ...  \n",
       "92           160168.0  \n",
       "93            73923.0  \n",
       "94           128600.0  \n",
       "95           190542.0  \n",
       "96            57753.0  \n",
       "\n",
       "[97 rows x 5 columns]"
      ]
     },
     "execution_count": 309,
     "metadata": {},
     "output_type": "execute_result"
    }
   ],
   "source": [
    "df_prima['prima_dose_giorno'] = df_prima.prima_dose.diff().fillna(0)\n",
    "df_prima"
   ]
  },
  {
   "cell_type": "code",
   "execution_count": 310,
   "metadata": {},
   "outputs": [
    {
     "data": {
      "application/vnd.plotly.v1+json": {
       "config": {
        "plotlyServerURL": "https://plot.ly"
       },
       "data": [
        {
         "delta": {
          "increasing": {
           "color": "Green"
          },
          "reference": 14.254920720445755,
          "valueformat": ".02f"
         },
         "domain": {
          "x": [
           0,
           1
          ],
          "y": [
           0,
           1
          ]
         },
         "gauge": {
          "axis": {
           "range": [
            null,
            100
           ],
           "tickcolor": "darkblue",
           "tickwidth": 1
          },
          "bar": {
           "color": "#FFBF00"
          },
          "bgcolor": "white",
          "bordercolor": "gray",
          "borderwidth": 2,
          "steps": [
           {
            "color": "#85C1E9",
            "range": [
             0,
             80
            ]
           },
           {
            "color": "#85C1E9",
            "range": [
             40,
             60
            ]
           },
           {
            "color": "#85C1E9",
            "range": [
             60,
             80
            ]
           }
          ],
          "threshold": {
           "line": {
            "color": "red",
            "width": 4
           },
           "thickness": 0.75,
           "value": 80
          }
         },
         "mode": "gauge+number+delta",
         "title": {
          "font": {
           "size": 24
          },
          "text": "Percentuale Popolazione 16+ Vaccinata con Prima Dose"
         },
         "type": "indicator",
         "value": 15.8
        }
       ],
       "layout": {
        "font": {
         "color": "darkblue",
         "family": "Arial"
        },
        "paper_bgcolor": "lavender",
        "template": {
         "data": {
          "bar": [
           {
            "error_x": {
             "color": "#2a3f5f"
            },
            "error_y": {
             "color": "#2a3f5f"
            },
            "marker": {
             "line": {
              "color": "#E5ECF6",
              "width": 0.5
             }
            },
            "type": "bar"
           }
          ],
          "barpolar": [
           {
            "marker": {
             "line": {
              "color": "#E5ECF6",
              "width": 0.5
             }
            },
            "type": "barpolar"
           }
          ],
          "carpet": [
           {
            "aaxis": {
             "endlinecolor": "#2a3f5f",
             "gridcolor": "white",
             "linecolor": "white",
             "minorgridcolor": "white",
             "startlinecolor": "#2a3f5f"
            },
            "baxis": {
             "endlinecolor": "#2a3f5f",
             "gridcolor": "white",
             "linecolor": "white",
             "minorgridcolor": "white",
             "startlinecolor": "#2a3f5f"
            },
            "type": "carpet"
           }
          ],
          "choropleth": [
           {
            "colorbar": {
             "outlinewidth": 0,
             "ticks": ""
            },
            "type": "choropleth"
           }
          ],
          "contour": [
           {
            "colorbar": {
             "outlinewidth": 0,
             "ticks": ""
            },
            "colorscale": [
             [
              0,
              "#0d0887"
             ],
             [
              0.1111111111111111,
              "#46039f"
             ],
             [
              0.2222222222222222,
              "#7201a8"
             ],
             [
              0.3333333333333333,
              "#9c179e"
             ],
             [
              0.4444444444444444,
              "#bd3786"
             ],
             [
              0.5555555555555556,
              "#d8576b"
             ],
             [
              0.6666666666666666,
              "#ed7953"
             ],
             [
              0.7777777777777778,
              "#fb9f3a"
             ],
             [
              0.8888888888888888,
              "#fdca26"
             ],
             [
              1,
              "#f0f921"
             ]
            ],
            "type": "contour"
           }
          ],
          "contourcarpet": [
           {
            "colorbar": {
             "outlinewidth": 0,
             "ticks": ""
            },
            "type": "contourcarpet"
           }
          ],
          "heatmap": [
           {
            "colorbar": {
             "outlinewidth": 0,
             "ticks": ""
            },
            "colorscale": [
             [
              0,
              "#0d0887"
             ],
             [
              0.1111111111111111,
              "#46039f"
             ],
             [
              0.2222222222222222,
              "#7201a8"
             ],
             [
              0.3333333333333333,
              "#9c179e"
             ],
             [
              0.4444444444444444,
              "#bd3786"
             ],
             [
              0.5555555555555556,
              "#d8576b"
             ],
             [
              0.6666666666666666,
              "#ed7953"
             ],
             [
              0.7777777777777778,
              "#fb9f3a"
             ],
             [
              0.8888888888888888,
              "#fdca26"
             ],
             [
              1,
              "#f0f921"
             ]
            ],
            "type": "heatmap"
           }
          ],
          "heatmapgl": [
           {
            "colorbar": {
             "outlinewidth": 0,
             "ticks": ""
            },
            "colorscale": [
             [
              0,
              "#0d0887"
             ],
             [
              0.1111111111111111,
              "#46039f"
             ],
             [
              0.2222222222222222,
              "#7201a8"
             ],
             [
              0.3333333333333333,
              "#9c179e"
             ],
             [
              0.4444444444444444,
              "#bd3786"
             ],
             [
              0.5555555555555556,
              "#d8576b"
             ],
             [
              0.6666666666666666,
              "#ed7953"
             ],
             [
              0.7777777777777778,
              "#fb9f3a"
             ],
             [
              0.8888888888888888,
              "#fdca26"
             ],
             [
              1,
              "#f0f921"
             ]
            ],
            "type": "heatmapgl"
           }
          ],
          "histogram": [
           {
            "marker": {
             "colorbar": {
              "outlinewidth": 0,
              "ticks": ""
             }
            },
            "type": "histogram"
           }
          ],
          "histogram2d": [
           {
            "colorbar": {
             "outlinewidth": 0,
             "ticks": ""
            },
            "colorscale": [
             [
              0,
              "#0d0887"
             ],
             [
              0.1111111111111111,
              "#46039f"
             ],
             [
              0.2222222222222222,
              "#7201a8"
             ],
             [
              0.3333333333333333,
              "#9c179e"
             ],
             [
              0.4444444444444444,
              "#bd3786"
             ],
             [
              0.5555555555555556,
              "#d8576b"
             ],
             [
              0.6666666666666666,
              "#ed7953"
             ],
             [
              0.7777777777777778,
              "#fb9f3a"
             ],
             [
              0.8888888888888888,
              "#fdca26"
             ],
             [
              1,
              "#f0f921"
             ]
            ],
            "type": "histogram2d"
           }
          ],
          "histogram2dcontour": [
           {
            "colorbar": {
             "outlinewidth": 0,
             "ticks": ""
            },
            "colorscale": [
             [
              0,
              "#0d0887"
             ],
             [
              0.1111111111111111,
              "#46039f"
             ],
             [
              0.2222222222222222,
              "#7201a8"
             ],
             [
              0.3333333333333333,
              "#9c179e"
             ],
             [
              0.4444444444444444,
              "#bd3786"
             ],
             [
              0.5555555555555556,
              "#d8576b"
             ],
             [
              0.6666666666666666,
              "#ed7953"
             ],
             [
              0.7777777777777778,
              "#fb9f3a"
             ],
             [
              0.8888888888888888,
              "#fdca26"
             ],
             [
              1,
              "#f0f921"
             ]
            ],
            "type": "histogram2dcontour"
           }
          ],
          "mesh3d": [
           {
            "colorbar": {
             "outlinewidth": 0,
             "ticks": ""
            },
            "type": "mesh3d"
           }
          ],
          "parcoords": [
           {
            "line": {
             "colorbar": {
              "outlinewidth": 0,
              "ticks": ""
             }
            },
            "type": "parcoords"
           }
          ],
          "pie": [
           {
            "automargin": true,
            "type": "pie"
           }
          ],
          "scatter": [
           {
            "marker": {
             "colorbar": {
              "outlinewidth": 0,
              "ticks": ""
             }
            },
            "type": "scatter"
           }
          ],
          "scatter3d": [
           {
            "line": {
             "colorbar": {
              "outlinewidth": 0,
              "ticks": ""
             }
            },
            "marker": {
             "colorbar": {
              "outlinewidth": 0,
              "ticks": ""
             }
            },
            "type": "scatter3d"
           }
          ],
          "scattercarpet": [
           {
            "marker": {
             "colorbar": {
              "outlinewidth": 0,
              "ticks": ""
             }
            },
            "type": "scattercarpet"
           }
          ],
          "scattergeo": [
           {
            "marker": {
             "colorbar": {
              "outlinewidth": 0,
              "ticks": ""
             }
            },
            "type": "scattergeo"
           }
          ],
          "scattergl": [
           {
            "marker": {
             "colorbar": {
              "outlinewidth": 0,
              "ticks": ""
             }
            },
            "type": "scattergl"
           }
          ],
          "scattermapbox": [
           {
            "marker": {
             "colorbar": {
              "outlinewidth": 0,
              "ticks": ""
             }
            },
            "type": "scattermapbox"
           }
          ],
          "scatterpolar": [
           {
            "marker": {
             "colorbar": {
              "outlinewidth": 0,
              "ticks": ""
             }
            },
            "type": "scatterpolar"
           }
          ],
          "scatterpolargl": [
           {
            "marker": {
             "colorbar": {
              "outlinewidth": 0,
              "ticks": ""
             }
            },
            "type": "scatterpolargl"
           }
          ],
          "scatterternary": [
           {
            "marker": {
             "colorbar": {
              "outlinewidth": 0,
              "ticks": ""
             }
            },
            "type": "scatterternary"
           }
          ],
          "surface": [
           {
            "colorbar": {
             "outlinewidth": 0,
             "ticks": ""
            },
            "colorscale": [
             [
              0,
              "#0d0887"
             ],
             [
              0.1111111111111111,
              "#46039f"
             ],
             [
              0.2222222222222222,
              "#7201a8"
             ],
             [
              0.3333333333333333,
              "#9c179e"
             ],
             [
              0.4444444444444444,
              "#bd3786"
             ],
             [
              0.5555555555555556,
              "#d8576b"
             ],
             [
              0.6666666666666666,
              "#ed7953"
             ],
             [
              0.7777777777777778,
              "#fb9f3a"
             ],
             [
              0.8888888888888888,
              "#fdca26"
             ],
             [
              1,
              "#f0f921"
             ]
            ],
            "type": "surface"
           }
          ],
          "table": [
           {
            "cells": {
             "fill": {
              "color": "#EBF0F8"
             },
             "line": {
              "color": "white"
             }
            },
            "header": {
             "fill": {
              "color": "#C8D4E3"
             },
             "line": {
              "color": "white"
             }
            },
            "type": "table"
           }
          ]
         },
         "layout": {
          "annotationdefaults": {
           "arrowcolor": "#2a3f5f",
           "arrowhead": 0,
           "arrowwidth": 1
          },
          "coloraxis": {
           "colorbar": {
            "outlinewidth": 0,
            "ticks": ""
           }
          },
          "colorscale": {
           "diverging": [
            [
             0,
             "#8e0152"
            ],
            [
             0.1,
             "#c51b7d"
            ],
            [
             0.2,
             "#de77ae"
            ],
            [
             0.3,
             "#f1b6da"
            ],
            [
             0.4,
             "#fde0ef"
            ],
            [
             0.5,
             "#f7f7f7"
            ],
            [
             0.6,
             "#e6f5d0"
            ],
            [
             0.7,
             "#b8e186"
            ],
            [
             0.8,
             "#7fbc41"
            ],
            [
             0.9,
             "#4d9221"
            ],
            [
             1,
             "#276419"
            ]
           ],
           "sequential": [
            [
             0,
             "#0d0887"
            ],
            [
             0.1111111111111111,
             "#46039f"
            ],
            [
             0.2222222222222222,
             "#7201a8"
            ],
            [
             0.3333333333333333,
             "#9c179e"
            ],
            [
             0.4444444444444444,
             "#bd3786"
            ],
            [
             0.5555555555555556,
             "#d8576b"
            ],
            [
             0.6666666666666666,
             "#ed7953"
            ],
            [
             0.7777777777777778,
             "#fb9f3a"
            ],
            [
             0.8888888888888888,
             "#fdca26"
            ],
            [
             1,
             "#f0f921"
            ]
           ],
           "sequentialminus": [
            [
             0,
             "#0d0887"
            ],
            [
             0.1111111111111111,
             "#46039f"
            ],
            [
             0.2222222222222222,
             "#7201a8"
            ],
            [
             0.3333333333333333,
             "#9c179e"
            ],
            [
             0.4444444444444444,
             "#bd3786"
            ],
            [
             0.5555555555555556,
             "#d8576b"
            ],
            [
             0.6666666666666666,
             "#ed7953"
            ],
            [
             0.7777777777777778,
             "#fb9f3a"
            ],
            [
             0.8888888888888888,
             "#fdca26"
            ],
            [
             1,
             "#f0f921"
            ]
           ]
          },
          "colorway": [
           "#636efa",
           "#EF553B",
           "#00cc96",
           "#ab63fa",
           "#FFA15A",
           "#19d3f3",
           "#FF6692",
           "#B6E880",
           "#FF97FF",
           "#FECB52"
          ],
          "font": {
           "color": "#2a3f5f"
          },
          "geo": {
           "bgcolor": "white",
           "lakecolor": "white",
           "landcolor": "#E5ECF6",
           "showlakes": true,
           "showland": true,
           "subunitcolor": "white"
          },
          "hoverlabel": {
           "align": "left"
          },
          "hovermode": "closest",
          "mapbox": {
           "style": "light"
          },
          "paper_bgcolor": "white",
          "plot_bgcolor": "#E5ECF6",
          "polar": {
           "angularaxis": {
            "gridcolor": "white",
            "linecolor": "white",
            "ticks": ""
           },
           "bgcolor": "#E5ECF6",
           "radialaxis": {
            "gridcolor": "white",
            "linecolor": "white",
            "ticks": ""
           }
          },
          "scene": {
           "xaxis": {
            "backgroundcolor": "#E5ECF6",
            "gridcolor": "white",
            "gridwidth": 2,
            "linecolor": "white",
            "showbackground": true,
            "ticks": "",
            "zerolinecolor": "white"
           },
           "yaxis": {
            "backgroundcolor": "#E5ECF6",
            "gridcolor": "white",
            "gridwidth": 2,
            "linecolor": "white",
            "showbackground": true,
            "ticks": "",
            "zerolinecolor": "white"
           },
           "zaxis": {
            "backgroundcolor": "#E5ECF6",
            "gridcolor": "white",
            "gridwidth": 2,
            "linecolor": "white",
            "showbackground": true,
            "ticks": "",
            "zerolinecolor": "white"
           }
          },
          "shapedefaults": {
           "line": {
            "color": "#2a3f5f"
           }
          },
          "ternary": {
           "aaxis": {
            "gridcolor": "white",
            "linecolor": "white",
            "ticks": ""
           },
           "baxis": {
            "gridcolor": "white",
            "linecolor": "white",
            "ticks": ""
           },
           "bgcolor": "#E5ECF6",
           "caxis": {
            "gridcolor": "white",
            "linecolor": "white",
            "ticks": ""
           }
          },
          "title": {
           "x": 0.05
          },
          "xaxis": {
           "automargin": true,
           "gridcolor": "white",
           "linecolor": "white",
           "ticks": "",
           "title": {
            "standoff": 15
           },
           "zerolinecolor": "white",
           "zerolinewidth": 2
          },
          "yaxis": {
           "automargin": true,
           "gridcolor": "white",
           "linecolor": "white",
           "ticks": "",
           "title": {
            "standoff": 15
           },
           "zerolinecolor": "white",
           "zerolinewidth": 2
          }
         }
        }
       }
      },
      "text/html": [
       "<div>\n",
       "        \n",
       "        \n",
       "            <div id=\"54e92b5e-0abc-4dad-b0c8-68b444b4a376\" class=\"plotly-graph-div\" style=\"height:525px; width:100%;\"></div>\n",
       "            <script type=\"text/javascript\">\n",
       "                require([\"plotly\"], function(Plotly) {\n",
       "                    window.PLOTLYENV=window.PLOTLYENV || {};\n",
       "                    \n",
       "                if (document.getElementById(\"54e92b5e-0abc-4dad-b0c8-68b444b4a376\")) {\n",
       "                    Plotly.newPlot(\n",
       "                        '54e92b5e-0abc-4dad-b0c8-68b444b4a376',\n",
       "                        [{\"delta\": {\"increasing\": {\"color\": \"Green\"}, \"reference\": 14.254920720445755, \"valueformat\": \".02f\"}, \"domain\": {\"x\": [0, 1], \"y\": [0, 1]}, \"gauge\": {\"axis\": {\"range\": [null, 100], \"tickcolor\": \"darkblue\", \"tickwidth\": 1}, \"bar\": {\"color\": \"#FFBF00\"}, \"bgcolor\": \"white\", \"bordercolor\": \"gray\", \"borderwidth\": 2, \"steps\": [{\"color\": \"#85C1E9\", \"range\": [0, 80]}, {\"color\": \"#85C1E9\", \"range\": [40, 60]}, {\"color\": \"#85C1E9\", \"range\": [60, 80]}], \"threshold\": {\"line\": {\"color\": \"red\", \"width\": 4}, \"thickness\": 0.75, \"value\": 80}}, \"mode\": \"gauge+number+delta\", \"title\": {\"font\": {\"size\": 24}, \"text\": \"Percentuale Popolazione 16+ Vaccinata con Prima Dose\"}, \"type\": \"indicator\", \"value\": 15.8}],\n",
       "                        {\"font\": {\"color\": \"darkblue\", \"family\": \"Arial\"}, \"paper_bgcolor\": \"lavender\", \"template\": {\"data\": {\"bar\": [{\"error_x\": {\"color\": \"#2a3f5f\"}, \"error_y\": {\"color\": \"#2a3f5f\"}, \"marker\": {\"line\": {\"color\": \"#E5ECF6\", \"width\": 0.5}}, \"type\": \"bar\"}], \"barpolar\": [{\"marker\": {\"line\": {\"color\": \"#E5ECF6\", \"width\": 0.5}}, \"type\": \"barpolar\"}], \"carpet\": [{\"aaxis\": {\"endlinecolor\": \"#2a3f5f\", \"gridcolor\": \"white\", \"linecolor\": \"white\", \"minorgridcolor\": \"white\", \"startlinecolor\": \"#2a3f5f\"}, \"baxis\": {\"endlinecolor\": \"#2a3f5f\", \"gridcolor\": \"white\", \"linecolor\": \"white\", \"minorgridcolor\": \"white\", \"startlinecolor\": \"#2a3f5f\"}, \"type\": \"carpet\"}], \"choropleth\": [{\"colorbar\": {\"outlinewidth\": 0, \"ticks\": \"\"}, \"type\": \"choropleth\"}], \"contour\": [{\"colorbar\": {\"outlinewidth\": 0, \"ticks\": \"\"}, \"colorscale\": [[0.0, \"#0d0887\"], [0.1111111111111111, \"#46039f\"], [0.2222222222222222, \"#7201a8\"], [0.3333333333333333, \"#9c179e\"], [0.4444444444444444, \"#bd3786\"], [0.5555555555555556, \"#d8576b\"], [0.6666666666666666, \"#ed7953\"], [0.7777777777777778, \"#fb9f3a\"], [0.8888888888888888, \"#fdca26\"], [1.0, \"#f0f921\"]], \"type\": \"contour\"}], \"contourcarpet\": [{\"colorbar\": {\"outlinewidth\": 0, \"ticks\": \"\"}, \"type\": \"contourcarpet\"}], \"heatmap\": [{\"colorbar\": {\"outlinewidth\": 0, \"ticks\": \"\"}, \"colorscale\": [[0.0, \"#0d0887\"], [0.1111111111111111, \"#46039f\"], [0.2222222222222222, \"#7201a8\"], [0.3333333333333333, \"#9c179e\"], [0.4444444444444444, \"#bd3786\"], [0.5555555555555556, \"#d8576b\"], [0.6666666666666666, \"#ed7953\"], [0.7777777777777778, \"#fb9f3a\"], [0.8888888888888888, \"#fdca26\"], [1.0, \"#f0f921\"]], \"type\": \"heatmap\"}], \"heatmapgl\": [{\"colorbar\": {\"outlinewidth\": 0, \"ticks\": \"\"}, \"colorscale\": [[0.0, \"#0d0887\"], [0.1111111111111111, \"#46039f\"], [0.2222222222222222, \"#7201a8\"], [0.3333333333333333, \"#9c179e\"], [0.4444444444444444, \"#bd3786\"], [0.5555555555555556, \"#d8576b\"], [0.6666666666666666, \"#ed7953\"], [0.7777777777777778, \"#fb9f3a\"], [0.8888888888888888, \"#fdca26\"], [1.0, \"#f0f921\"]], \"type\": \"heatmapgl\"}], \"histogram\": [{\"marker\": {\"colorbar\": {\"outlinewidth\": 0, \"ticks\": \"\"}}, \"type\": \"histogram\"}], \"histogram2d\": [{\"colorbar\": {\"outlinewidth\": 0, \"ticks\": \"\"}, \"colorscale\": [[0.0, \"#0d0887\"], [0.1111111111111111, \"#46039f\"], [0.2222222222222222, \"#7201a8\"], [0.3333333333333333, \"#9c179e\"], [0.4444444444444444, \"#bd3786\"], [0.5555555555555556, \"#d8576b\"], [0.6666666666666666, \"#ed7953\"], [0.7777777777777778, \"#fb9f3a\"], [0.8888888888888888, \"#fdca26\"], [1.0, \"#f0f921\"]], \"type\": \"histogram2d\"}], \"histogram2dcontour\": [{\"colorbar\": {\"outlinewidth\": 0, \"ticks\": \"\"}, \"colorscale\": [[0.0, \"#0d0887\"], [0.1111111111111111, \"#46039f\"], [0.2222222222222222, \"#7201a8\"], [0.3333333333333333, \"#9c179e\"], [0.4444444444444444, \"#bd3786\"], [0.5555555555555556, \"#d8576b\"], [0.6666666666666666, \"#ed7953\"], [0.7777777777777778, \"#fb9f3a\"], [0.8888888888888888, \"#fdca26\"], [1.0, \"#f0f921\"]], \"type\": \"histogram2dcontour\"}], \"mesh3d\": [{\"colorbar\": {\"outlinewidth\": 0, \"ticks\": \"\"}, \"type\": \"mesh3d\"}], \"parcoords\": [{\"line\": {\"colorbar\": {\"outlinewidth\": 0, \"ticks\": \"\"}}, \"type\": \"parcoords\"}], \"pie\": [{\"automargin\": true, \"type\": \"pie\"}], \"scatter\": [{\"marker\": {\"colorbar\": {\"outlinewidth\": 0, \"ticks\": \"\"}}, \"type\": \"scatter\"}], \"scatter3d\": [{\"line\": {\"colorbar\": {\"outlinewidth\": 0, \"ticks\": \"\"}}, \"marker\": {\"colorbar\": {\"outlinewidth\": 0, \"ticks\": \"\"}}, \"type\": \"scatter3d\"}], \"scattercarpet\": [{\"marker\": {\"colorbar\": {\"outlinewidth\": 0, \"ticks\": \"\"}}, \"type\": \"scattercarpet\"}], \"scattergeo\": [{\"marker\": {\"colorbar\": {\"outlinewidth\": 0, \"ticks\": \"\"}}, \"type\": \"scattergeo\"}], \"scattergl\": [{\"marker\": {\"colorbar\": {\"outlinewidth\": 0, \"ticks\": \"\"}}, \"type\": \"scattergl\"}], \"scattermapbox\": [{\"marker\": {\"colorbar\": {\"outlinewidth\": 0, \"ticks\": \"\"}}, \"type\": \"scattermapbox\"}], \"scatterpolar\": [{\"marker\": {\"colorbar\": {\"outlinewidth\": 0, \"ticks\": \"\"}}, \"type\": \"scatterpolar\"}], \"scatterpolargl\": [{\"marker\": {\"colorbar\": {\"outlinewidth\": 0, \"ticks\": \"\"}}, \"type\": \"scatterpolargl\"}], \"scatterternary\": [{\"marker\": {\"colorbar\": {\"outlinewidth\": 0, \"ticks\": \"\"}}, \"type\": \"scatterternary\"}], \"surface\": [{\"colorbar\": {\"outlinewidth\": 0, \"ticks\": \"\"}, \"colorscale\": [[0.0, \"#0d0887\"], [0.1111111111111111, \"#46039f\"], [0.2222222222222222, \"#7201a8\"], [0.3333333333333333, \"#9c179e\"], [0.4444444444444444, \"#bd3786\"], [0.5555555555555556, \"#d8576b\"], [0.6666666666666666, \"#ed7953\"], [0.7777777777777778, \"#fb9f3a\"], [0.8888888888888888, \"#fdca26\"], [1.0, \"#f0f921\"]], \"type\": \"surface\"}], \"table\": [{\"cells\": {\"fill\": {\"color\": \"#EBF0F8\"}, \"line\": {\"color\": \"white\"}}, \"header\": {\"fill\": {\"color\": \"#C8D4E3\"}, \"line\": {\"color\": \"white\"}}, \"type\": \"table\"}]}, \"layout\": {\"annotationdefaults\": {\"arrowcolor\": \"#2a3f5f\", \"arrowhead\": 0, \"arrowwidth\": 1}, \"coloraxis\": {\"colorbar\": {\"outlinewidth\": 0, \"ticks\": \"\"}}, \"colorscale\": {\"diverging\": [[0, \"#8e0152\"], [0.1, \"#c51b7d\"], [0.2, \"#de77ae\"], [0.3, \"#f1b6da\"], [0.4, \"#fde0ef\"], [0.5, \"#f7f7f7\"], [0.6, \"#e6f5d0\"], [0.7, \"#b8e186\"], [0.8, \"#7fbc41\"], [0.9, \"#4d9221\"], [1, \"#276419\"]], \"sequential\": [[0.0, \"#0d0887\"], [0.1111111111111111, \"#46039f\"], [0.2222222222222222, \"#7201a8\"], [0.3333333333333333, \"#9c179e\"], [0.4444444444444444, \"#bd3786\"], [0.5555555555555556, \"#d8576b\"], [0.6666666666666666, \"#ed7953\"], [0.7777777777777778, \"#fb9f3a\"], [0.8888888888888888, \"#fdca26\"], [1.0, \"#f0f921\"]], \"sequentialminus\": [[0.0, \"#0d0887\"], [0.1111111111111111, \"#46039f\"], [0.2222222222222222, \"#7201a8\"], [0.3333333333333333, \"#9c179e\"], [0.4444444444444444, \"#bd3786\"], [0.5555555555555556, \"#d8576b\"], [0.6666666666666666, \"#ed7953\"], [0.7777777777777778, \"#fb9f3a\"], [0.8888888888888888, \"#fdca26\"], [1.0, \"#f0f921\"]]}, \"colorway\": [\"#636efa\", \"#EF553B\", \"#00cc96\", \"#ab63fa\", \"#FFA15A\", \"#19d3f3\", \"#FF6692\", \"#B6E880\", \"#FF97FF\", \"#FECB52\"], \"font\": {\"color\": \"#2a3f5f\"}, \"geo\": {\"bgcolor\": \"white\", \"lakecolor\": \"white\", \"landcolor\": \"#E5ECF6\", \"showlakes\": true, \"showland\": true, \"subunitcolor\": \"white\"}, \"hoverlabel\": {\"align\": \"left\"}, \"hovermode\": \"closest\", \"mapbox\": {\"style\": \"light\"}, \"paper_bgcolor\": \"white\", \"plot_bgcolor\": \"#E5ECF6\", \"polar\": {\"angularaxis\": {\"gridcolor\": \"white\", \"linecolor\": \"white\", \"ticks\": \"\"}, \"bgcolor\": \"#E5ECF6\", \"radialaxis\": {\"gridcolor\": \"white\", \"linecolor\": \"white\", \"ticks\": \"\"}}, \"scene\": {\"xaxis\": {\"backgroundcolor\": \"#E5ECF6\", \"gridcolor\": \"white\", \"gridwidth\": 2, \"linecolor\": \"white\", \"showbackground\": true, \"ticks\": \"\", \"zerolinecolor\": \"white\"}, \"yaxis\": {\"backgroundcolor\": \"#E5ECF6\", \"gridcolor\": \"white\", \"gridwidth\": 2, \"linecolor\": \"white\", \"showbackground\": true, \"ticks\": \"\", \"zerolinecolor\": \"white\"}, \"zaxis\": {\"backgroundcolor\": \"#E5ECF6\", \"gridcolor\": \"white\", \"gridwidth\": 2, \"linecolor\": \"white\", \"showbackground\": true, \"ticks\": \"\", \"zerolinecolor\": \"white\"}}, \"shapedefaults\": {\"line\": {\"color\": \"#2a3f5f\"}}, \"ternary\": {\"aaxis\": {\"gridcolor\": \"white\", \"linecolor\": \"white\", \"ticks\": \"\"}, \"baxis\": {\"gridcolor\": \"white\", \"linecolor\": \"white\", \"ticks\": \"\"}, \"bgcolor\": \"#E5ECF6\", \"caxis\": {\"gridcolor\": \"white\", \"linecolor\": \"white\", \"ticks\": \"\"}}, \"title\": {\"x\": 0.05}, \"xaxis\": {\"automargin\": true, \"gridcolor\": \"white\", \"linecolor\": \"white\", \"ticks\": \"\", \"title\": {\"standoff\": 15}, \"zerolinecolor\": \"white\", \"zerolinewidth\": 2}, \"yaxis\": {\"automargin\": true, \"gridcolor\": \"white\", \"linecolor\": \"white\", \"ticks\": \"\", \"title\": {\"standoff\": 15}, \"zerolinecolor\": \"white\", \"zerolinewidth\": 2}}}},\n",
       "                        {\"responsive\": true}\n",
       "                    ).then(function(){\n",
       "                            \n",
       "var gd = document.getElementById('54e92b5e-0abc-4dad-b0c8-68b444b4a376');\n",
       "var x = new MutationObserver(function (mutations, observer) {{\n",
       "        var display = window.getComputedStyle(gd).display;\n",
       "        if (!display || display === 'none') {{\n",
       "            console.log([gd, 'removed!']);\n",
       "            Plotly.purge(gd);\n",
       "            observer.disconnect();\n",
       "        }}\n",
       "}});\n",
       "\n",
       "// Listen for the removal of the full notebook cells\n",
       "var notebookContainer = gd.closest('#notebook-container');\n",
       "if (notebookContainer) {{\n",
       "    x.observe(notebookContainer, {childList: true});\n",
       "}}\n",
       "\n",
       "// Listen for the clearing of the current output cell\n",
       "var outputEl = gd.closest('.output');\n",
       "if (outputEl) {{\n",
       "    x.observe(outputEl, {childList: true});\n",
       "}}\n",
       "\n",
       "                        })\n",
       "                };\n",
       "                });\n",
       "            </script>\n",
       "        </div>"
      ]
     },
     "metadata": {},
     "output_type": "display_data"
    }
   ],
   "source": [
    "fig = go.Figure(go.Indicator(\n",
    "    mode = \"gauge+number+delta\",\n",
    "    value = float(df_prima.pct_pop_prima_dose.tail(1).round(1)),\n",
    "    domain = {'x': [0, 1], 'y': [0, 1]},\n",
    "    title = {'text': \"Percentuale Popolazione 16+ Vaccinata con Prima Dose\", 'font': {'size': 24}},\n",
    "    delta = {'reference': float(df_prima.pct_pop_prima_dose.iloc[-7]), 'increasing': {'color': \"Green\"},\n",
    "            'valueformat':'.02f'},\n",
    "    gauge = {\n",
    "        'axis': {'range': [None, 100], 'tickwidth': 1, 'tickcolor': \"darkblue\"},\n",
    "        'bar': {'color': \"#FFBF00\"},\n",
    "        'bgcolor': \"white\",\n",
    "        'borderwidth': 2,\n",
    "        'bordercolor': \"gray\",\n",
    "        'steps': [\n",
    "            {'range': [0, 80], 'color': '#85C1E9'},\n",
    "            {'range': [40, 60], 'color': '#85C1E9'},\n",
    "            {'range': [60, 80], 'color': '#85C1E9'}],\n",
    "        'threshold': {\n",
    "            'line': {'color': \"red\", 'width': 4},\n",
    "            'thickness': 0.75,\n",
    "            'value': 80}}))\n",
    "\n",
    "fig.update_layout(paper_bgcolor = \"lavender\", font = {'color': \"darkblue\", 'family': \"Arial\"})\n",
    "\n",
    "fig"
   ]
  },
  {
   "cell_type": "code",
   "execution_count": 311,
   "metadata": {},
   "outputs": [
    {
     "data": {
      "text/html": [
       "<div>\n",
       "<style scoped>\n",
       "    .dataframe tbody tr th:only-of-type {\n",
       "        vertical-align: middle;\n",
       "    }\n",
       "\n",
       "    .dataframe tbody tr th {\n",
       "        vertical-align: top;\n",
       "    }\n",
       "\n",
       "    .dataframe thead th {\n",
       "        text-align: right;\n",
       "    }\n",
       "</style>\n",
       "<table border=\"1\" class=\"dataframe\">\n",
       "  <thead>\n",
       "    <tr style=\"text-align: right;\">\n",
       "      <th></th>\n",
       "      <th>data_somministrazione</th>\n",
       "      <th>prima_dose</th>\n",
       "      <th>pct_pop_prima_dose</th>\n",
       "      <th>daily_change</th>\n",
       "      <th>prima_dose_giorno</th>\n",
       "      <th>seconda_dose_giorno</th>\n",
       "    </tr>\n",
       "  </thead>\n",
       "  <tbody>\n",
       "    <tr>\n",
       "      <th>0</th>\n",
       "      <td>2021-01-01</td>\n",
       "      <td>11051</td>\n",
       "      <td>0.021862</td>\n",
       "      <td>NaN</td>\n",
       "      <td>0.0</td>\n",
       "      <td>0.0</td>\n",
       "    </tr>\n",
       "    <tr>\n",
       "      <th>1</th>\n",
       "      <td>2021-01-02</td>\n",
       "      <td>49554</td>\n",
       "      <td>0.098032</td>\n",
       "      <td>0.076170</td>\n",
       "      <td>38503.0</td>\n",
       "      <td>0.0</td>\n",
       "    </tr>\n",
       "    <tr>\n",
       "      <th>2</th>\n",
       "      <td>2021-01-03</td>\n",
       "      <td>84687</td>\n",
       "      <td>0.167536</td>\n",
       "      <td>0.069503</td>\n",
       "      <td>35133.0</td>\n",
       "      <td>0.0</td>\n",
       "    </tr>\n",
       "    <tr>\n",
       "      <th>3</th>\n",
       "      <td>2021-01-04</td>\n",
       "      <td>153317</td>\n",
       "      <td>0.303306</td>\n",
       "      <td>0.135770</td>\n",
       "      <td>68630.0</td>\n",
       "      <td>0.0</td>\n",
       "    </tr>\n",
       "    <tr>\n",
       "      <th>4</th>\n",
       "      <td>2021-01-05</td>\n",
       "      <td>232856</td>\n",
       "      <td>0.460658</td>\n",
       "      <td>0.157352</td>\n",
       "      <td>79539.0</td>\n",
       "      <td>0.0</td>\n",
       "    </tr>\n",
       "    <tr>\n",
       "      <th>...</th>\n",
       "      <td>...</td>\n",
       "      <td>...</td>\n",
       "      <td>...</td>\n",
       "      <td>...</td>\n",
       "      <td>...</td>\n",
       "      <td>...</td>\n",
       "    </tr>\n",
       "    <tr>\n",
       "      <th>92</th>\n",
       "      <td>2021-04-03</td>\n",
       "      <td>7550436</td>\n",
       "      <td>14.936985</td>\n",
       "      <td>0.316859</td>\n",
       "      <td>160168.0</td>\n",
       "      <td>57075.0</td>\n",
       "    </tr>\n",
       "    <tr>\n",
       "      <th>93</th>\n",
       "      <td>2021-04-04</td>\n",
       "      <td>7624359</td>\n",
       "      <td>15.083227</td>\n",
       "      <td>0.146241</td>\n",
       "      <td>73923.0</td>\n",
       "      <td>19806.0</td>\n",
       "    </tr>\n",
       "    <tr>\n",
       "      <th>94</th>\n",
       "      <td>2021-04-05</td>\n",
       "      <td>7752959</td>\n",
       "      <td>15.337635</td>\n",
       "      <td>0.254409</td>\n",
       "      <td>128600.0</td>\n",
       "      <td>37035.0</td>\n",
       "    </tr>\n",
       "    <tr>\n",
       "      <th>95</th>\n",
       "      <td>2021-04-06</td>\n",
       "      <td>7943501</td>\n",
       "      <td>15.714583</td>\n",
       "      <td>0.376948</td>\n",
       "      <td>190542.0</td>\n",
       "      <td>71687.0</td>\n",
       "    </tr>\n",
       "    <tr>\n",
       "      <th>96</th>\n",
       "      <td>2021-04-07</td>\n",
       "      <td>8001254</td>\n",
       "      <td>15.828836</td>\n",
       "      <td>0.114252</td>\n",
       "      <td>57753.0</td>\n",
       "      <td>31924.0</td>\n",
       "    </tr>\n",
       "  </tbody>\n",
       "</table>\n",
       "<p>97 rows × 6 columns</p>\n",
       "</div>"
      ],
      "text/plain": [
       "   data_somministrazione  prima_dose  pct_pop_prima_dose  daily_change  \\\n",
       "0             2021-01-01       11051            0.021862           NaN   \n",
       "1             2021-01-02       49554            0.098032      0.076170   \n",
       "2             2021-01-03       84687            0.167536      0.069503   \n",
       "3             2021-01-04      153317            0.303306      0.135770   \n",
       "4             2021-01-05      232856            0.460658      0.157352   \n",
       "..                   ...         ...                 ...           ...   \n",
       "92            2021-04-03     7550436           14.936985      0.316859   \n",
       "93            2021-04-04     7624359           15.083227      0.146241   \n",
       "94            2021-04-05     7752959           15.337635      0.254409   \n",
       "95            2021-04-06     7943501           15.714583      0.376948   \n",
       "96            2021-04-07     8001254           15.828836      0.114252   \n",
       "\n",
       "    prima_dose_giorno  seconda_dose_giorno  \n",
       "0                 0.0                  0.0  \n",
       "1             38503.0                  0.0  \n",
       "2             35133.0                  0.0  \n",
       "3             68630.0                  0.0  \n",
       "4             79539.0                  0.0  \n",
       "..                ...                  ...  \n",
       "92           160168.0              57075.0  \n",
       "93            73923.0              19806.0  \n",
       "94           128600.0              37035.0  \n",
       "95           190542.0              71687.0  \n",
       "96            57753.0              31924.0  \n",
       "\n",
       "[97 rows x 6 columns]"
      ]
     },
     "execution_count": 311,
     "metadata": {},
     "output_type": "execute_result"
    }
   ],
   "source": [
    "df_prima['seconda_dose_giorno'] = df_seconda.seconda_dose.diff().fillna(0)\n",
    "df_prima"
   ]
  },
  {
   "cell_type": "code",
   "execution_count": 312,
   "metadata": {},
   "outputs": [
    {
     "data": {
      "image/png": "[encoded data removed]",
      "text/plain": [
       "<Figure size 1008x504 with 1 Axes>"
      ]
     },
     "metadata": {},
     "output_type": "display_data"
    }
   ],
   "source": [
    "plt.figure(figsize=(14,7))\n",
    "sns.lineplot(data=df_prima, x='data_somministrazione', y='prima_dose_giorno', \n",
    "             linewidth=4).set_title('Elaborazione: @TomZ_UK - Dati: ISS')\n",
    "plt.suptitle('Somministrazioni Quotidiane - Prima Dose', fontsize=20)\n",
    "plt.xlabel('')\n",
    "plt.xticks(fontsize=14)\n",
    "plt.ylabel('')\n",
    "plt.yticks(fontsize=14)\n",
    "\n",
    "plt.savefig('daily_first_doses.png')"
   ]
  },
  {
   "cell_type": "code",
   "execution_count": 313,
   "metadata": {},
   "outputs": [
    {
     "name": "stderr",
     "output_type": "stream",
     "text": [
      "/Users/admin/opt/anaconda3/lib/python3.7/site-packages/pandas/core/frame.py:4449: SettingWithCopyWarning:\n",
      "\n",
      "\n",
      "A value is trying to be set on a copy of a slice from a DataFrame\n",
      "\n",
      "See the caveats in the documentation: https://pandas.pydata.org/pandas-docs/stable/user_guide/indexing.html#returning-a-view-versus-a-copy\n",
      "\n"
     ]
    },
    {
     "data": {
      "text/html": [
       "<div>\n",
       "<style scoped>\n",
       "    .dataframe tbody tr th:only-of-type {\n",
       "        vertical-align: middle;\n",
       "    }\n",
       "\n",
       "    .dataframe tbody tr th {\n",
       "        vertical-align: top;\n",
       "    }\n",
       "\n",
       "    .dataframe thead th {\n",
       "        text-align: right;\n",
       "    }\n",
       "</style>\n",
       "<table border=\"1\" class=\"dataframe\">\n",
       "  <thead>\n",
       "    <tr style=\"text-align: right;\">\n",
       "      <th></th>\n",
       "      <th>data_somministrazione</th>\n",
       "      <th>Prima Dose</th>\n",
       "      <th>Seconda Dose</th>\n",
       "    </tr>\n",
       "  </thead>\n",
       "  <tbody>\n",
       "    <tr>\n",
       "      <th>0</th>\n",
       "      <td>2021-01-01</td>\n",
       "      <td>0.0</td>\n",
       "      <td>0.0</td>\n",
       "    </tr>\n",
       "    <tr>\n",
       "      <th>1</th>\n",
       "      <td>2021-01-02</td>\n",
       "      <td>38503.0</td>\n",
       "      <td>0.0</td>\n",
       "    </tr>\n",
       "    <tr>\n",
       "      <th>2</th>\n",
       "      <td>2021-01-03</td>\n",
       "      <td>35133.0</td>\n",
       "      <td>0.0</td>\n",
       "    </tr>\n",
       "    <tr>\n",
       "      <th>3</th>\n",
       "      <td>2021-01-04</td>\n",
       "      <td>68630.0</td>\n",
       "      <td>0.0</td>\n",
       "    </tr>\n",
       "    <tr>\n",
       "      <th>4</th>\n",
       "      <td>2021-01-05</td>\n",
       "      <td>79539.0</td>\n",
       "      <td>0.0</td>\n",
       "    </tr>\n",
       "    <tr>\n",
       "      <th>...</th>\n",
       "      <td>...</td>\n",
       "      <td>...</td>\n",
       "      <td>...</td>\n",
       "    </tr>\n",
       "    <tr>\n",
       "      <th>92</th>\n",
       "      <td>2021-04-03</td>\n",
       "      <td>160168.0</td>\n",
       "      <td>57075.0</td>\n",
       "    </tr>\n",
       "    <tr>\n",
       "      <th>93</th>\n",
       "      <td>2021-04-04</td>\n",
       "      <td>73923.0</td>\n",
       "      <td>19806.0</td>\n",
       "    </tr>\n",
       "    <tr>\n",
       "      <th>94</th>\n",
       "      <td>2021-04-05</td>\n",
       "      <td>128600.0</td>\n",
       "      <td>37035.0</td>\n",
       "    </tr>\n",
       "    <tr>\n",
       "      <th>95</th>\n",
       "      <td>2021-04-06</td>\n",
       "      <td>190542.0</td>\n",
       "      <td>71687.0</td>\n",
       "    </tr>\n",
       "    <tr>\n",
       "      <th>96</th>\n",
       "      <td>2021-04-07</td>\n",
       "      <td>57753.0</td>\n",
       "      <td>31924.0</td>\n",
       "    </tr>\n",
       "  </tbody>\n",
       "</table>\n",
       "<p>97 rows × 3 columns</p>\n",
       "</div>"
      ],
      "text/plain": [
       "   data_somministrazione  Prima Dose  Seconda Dose\n",
       "0             2021-01-01         0.0           0.0\n",
       "1             2021-01-02     38503.0           0.0\n",
       "2             2021-01-03     35133.0           0.0\n",
       "3             2021-01-04     68630.0           0.0\n",
       "4             2021-01-05     79539.0           0.0\n",
       "..                   ...         ...           ...\n",
       "92            2021-04-03    160168.0       57075.0\n",
       "93            2021-04-04     73923.0       19806.0\n",
       "94            2021-04-05    128600.0       37035.0\n",
       "95            2021-04-06    190542.0       71687.0\n",
       "96            2021-04-07     57753.0       31924.0\n",
       "\n",
       "[97 rows x 3 columns]"
      ]
     },
     "execution_count": 313,
     "metadata": {},
     "output_type": "execute_result"
    }
   ],
   "source": [
    "df_pl = df_prima[['data_somministrazione','prima_dose_giorno','seconda_dose_giorno']]\n",
    "df_pl.rename(columns={'prima_dose_giorno':'Prima Dose', 'seconda_dose_giorno':'Seconda Dose'}, inplace=True)\n",
    "df_pl"
   ]
  },
  {
   "cell_type": "code",
   "execution_count": 314,
   "metadata": {},
   "outputs": [],
   "source": [
    "df_pl = df_pl.melt(id_vars=['data_somministrazione'])\n"
   ]
  },
  {
   "cell_type": "code",
   "execution_count": 315,
   "metadata": {},
   "outputs": [
    {
     "data": {
      "image/png": "[encoded data removed]",
      "text/plain": [
       "<Figure size 1008x504 with 1 Axes>"
      ]
     },
     "metadata": {},
     "output_type": "display_data"
    }
   ],
   "source": [
    "\n",
    "plt.figure(figsize=(14,7))\n",
    "sns.lineplot(data=df_pl, x='data_somministrazione',y='value',hue='variable',\n",
    "            linewidth=3, palette='tab10', marker='o').set_title('Elaborazione: @TomZ_UK - Dati: ISS')\n",
    "plt.suptitle('Somministrazioni Giornaliere', fontsize=20)\n",
    "plt.legend(fontsize=14)\n",
    "\n",
    "plt.xlabel('')\n",
    "plt.xticks(fontsize=14, rotation=45)\n",
    "plt.ylabel('')\n",
    "plt.yticks(fontsize=14)\n",
    "\n",
    "plt.savefig('daily_doses.png')"
   ]
  },
  {
   "cell_type": "markdown",
   "metadata": {},
   "source": [
    "# Regionale"
   ]
  },
  {
   "cell_type": "code",
   "execution_count": 316,
   "metadata": {},
   "outputs": [
    {
     "name": "stderr",
     "output_type": "stream",
     "text": [
      "/Users/admin/opt/anaconda3/lib/python3.7/site-packages/ipykernel_launcher.py:1: FutureWarning:\n",
      "\n",
      "Indexing with multiple keys (implicitly converted to a tuple of keys) will be deprecated, use a list instead.\n",
      "\n"
     ]
    },
    {
     "data": {
      "text/html": [
       "<div>\n",
       "<style scoped>\n",
       "    .dataframe tbody tr th:only-of-type {\n",
       "        vertical-align: middle;\n",
       "    }\n",
       "\n",
       "    .dataframe tbody tr th {\n",
       "        vertical-align: top;\n",
       "    }\n",
       "\n",
       "    .dataframe thead th {\n",
       "        text-align: right;\n",
       "    }\n",
       "</style>\n",
       "<table border=\"1\" class=\"dataframe\">\n",
       "  <thead>\n",
       "    <tr style=\"text-align: right;\">\n",
       "      <th></th>\n",
       "      <th>prima_dose</th>\n",
       "      <th>seconda_dose</th>\n",
       "    </tr>\n",
       "    <tr>\n",
       "      <th>area</th>\n",
       "      <th></th>\n",
       "      <th></th>\n",
       "    </tr>\n",
       "  </thead>\n",
       "  <tbody>\n",
       "    <tr>\n",
       "      <th>ABR</th>\n",
       "      <td>180916</td>\n",
       "      <td>78342</td>\n",
       "    </tr>\n",
       "    <tr>\n",
       "      <th>BAS</th>\n",
       "      <td>70290</td>\n",
       "      <td>36100</td>\n",
       "    </tr>\n",
       "    <tr>\n",
       "      <th>CAL</th>\n",
       "      <td>200814</td>\n",
       "      <td>105147</td>\n",
       "    </tr>\n",
       "    <tr>\n",
       "      <th>CAM</th>\n",
       "      <td>694900</td>\n",
       "      <td>267891</td>\n",
       "    </tr>\n",
       "    <tr>\n",
       "      <th>EMR</th>\n",
       "      <td>665425</td>\n",
       "      <td>316593</td>\n",
       "    </tr>\n",
       "    <tr>\n",
       "      <th>FVG</th>\n",
       "      <td>172908</td>\n",
       "      <td>83665</td>\n",
       "    </tr>\n",
       "    <tr>\n",
       "      <th>LAZ</th>\n",
       "      <td>843618</td>\n",
       "      <td>342497</td>\n",
       "    </tr>\n",
       "    <tr>\n",
       "      <th>LIG</th>\n",
       "      <td>230391</td>\n",
       "      <td>110527</td>\n",
       "    </tr>\n",
       "    <tr>\n",
       "      <th>LOM</th>\n",
       "      <td>1226737</td>\n",
       "      <td>592116</td>\n",
       "    </tr>\n",
       "    <tr>\n",
       "      <th>MAR</th>\n",
       "      <td>205659</td>\n",
       "      <td>106292</td>\n",
       "    </tr>\n",
       "    <tr>\n",
       "      <th>MOL</th>\n",
       "      <td>49412</td>\n",
       "      <td>22754</td>\n",
       "    </tr>\n",
       "    <tr>\n",
       "      <th>PAB</th>\n",
       "      <td>74051</td>\n",
       "      <td>40650</td>\n",
       "    </tr>\n",
       "    <tr>\n",
       "      <th>PAT</th>\n",
       "      <td>68861</td>\n",
       "      <td>34948</td>\n",
       "    </tr>\n",
       "    <tr>\n",
       "      <th>PIE</th>\n",
       "      <td>584807</td>\n",
       "      <td>331575</td>\n",
       "    </tr>\n",
       "    <tr>\n",
       "      <th>PUG</th>\n",
       "      <td>457791</td>\n",
       "      <td>217857</td>\n",
       "    </tr>\n",
       "    <tr>\n",
       "      <th>SAR</th>\n",
       "      <td>199972</td>\n",
       "      <td>75876</td>\n",
       "    </tr>\n",
       "    <tr>\n",
       "      <th>SIC</th>\n",
       "      <td>614663</td>\n",
       "      <td>262786</td>\n",
       "    </tr>\n",
       "    <tr>\n",
       "      <th>TOS</th>\n",
       "      <td>570927</td>\n",
       "      <td>223237</td>\n",
       "    </tr>\n",
       "    <tr>\n",
       "      <th>UMB</th>\n",
       "      <td>118245</td>\n",
       "      <td>48436</td>\n",
       "    </tr>\n",
       "    <tr>\n",
       "      <th>VDA</th>\n",
       "      <td>19541</td>\n",
       "      <td>7952</td>\n",
       "    </tr>\n",
       "    <tr>\n",
       "      <th>VEN</th>\n",
       "      <td>751326</td>\n",
       "      <td>287982</td>\n",
       "    </tr>\n",
       "  </tbody>\n",
       "</table>\n",
       "</div>"
      ],
      "text/plain": [
       "      prima_dose  seconda_dose\n",
       "area                          \n",
       "ABR       180916         78342\n",
       "BAS        70290         36100\n",
       "CAL       200814        105147\n",
       "CAM       694900        267891\n",
       "EMR       665425        316593\n",
       "FVG       172908         83665\n",
       "LAZ       843618        342497\n",
       "LIG       230391        110527\n",
       "LOM      1226737        592116\n",
       "MAR       205659        106292\n",
       "MOL        49412         22754\n",
       "PAB        74051         40650\n",
       "PAT        68861         34948\n",
       "PIE       584807        331575\n",
       "PUG       457791        217857\n",
       "SAR       199972         75876\n",
       "SIC       614663        262786\n",
       "TOS       570927        223237\n",
       "UMB       118245         48436\n",
       "VDA        19541          7952\n",
       "VEN       751326        287982"
      ]
     },
     "execution_count": 316,
     "metadata": {},
     "output_type": "execute_result"
    }
   ],
   "source": [
    "df_reg = df.groupby('area')['prima_dose','seconda_dose'].sum()\n",
    "df_reg"
   ]
  },
  {
   "cell_type": "code",
   "execution_count": 317,
   "metadata": {},
   "outputs": [],
   "source": [
    "df_reg.rename(index={'ABR':'Abruzzo','BAS':'Basilicata','CAL':'Calabria',\n",
    "                    'CAM':'Campania','EMR':'Emilia-Romagna','FVG':'Friuli Venezia Giulia',\n",
    "                    'LAZ':'Lazio','LIG':'Liguria','LOM':'Lombardia','MAR':'Marche','MOL':'Molise',\n",
    "                    'PIE':'Piemonte','PUG':'Puglia','SAR':'Sardegna','SIC':'Sicilia','TOS':'Toscana',\n",
    "                    'UMB':'Umbria','VDA':\"Valle d'Aosta\",'VEN':'Veneto'}, inplace=True)"
   ]
  },
  {
   "cell_type": "code",
   "execution_count": 318,
   "metadata": {},
   "outputs": [],
   "source": [
    "reg = pd.read_html('https://www.tuttitalia.it/regioni/popolazione/', thousands='.')[0]\n",
    "reg = reg[['Regione', 'Popolazioneresidenti']]"
   ]
  },
  {
   "cell_type": "code",
   "execution_count": 319,
   "metadata": {},
   "outputs": [],
   "source": [
    "df_reg.reset_index(inplace=True)\n",
    "df_reg_m = df_reg.merge(reg, left_on='area',right_on='Regione', how='inner')\n",
    "df_reg_m = df_reg_m[['area','prima_dose','seconda_dose','Popolazioneresidenti']]"
   ]
  },
  {
   "cell_type": "code",
   "execution_count": 320,
   "metadata": {},
   "outputs": [],
   "source": [
    "df_reg_m['pct_prima_dose'] = (df_reg_m.prima_dose / df_reg_m.Popolazioneresidenti).mul(100).round(2)\n",
    "df_reg_m['pct_seconda_dose'] = (df_reg_m.seconda_dose / df_reg_m.Popolazioneresidenti).mul(100).round(2)"
   ]
  },
  {
   "cell_type": "code",
   "execution_count": 321,
   "metadata": {},
   "outputs": [],
   "source": [
    "df_reg_m.rename(columns={'pct_prima_dose':'Prima Dose pct', 'pct_seconda_dose':'Seconda Dose pct'}, inplace=True)"
   ]
  },
  {
   "cell_type": "code",
   "execution_count": 322,
   "metadata": {},
   "outputs": [],
   "source": [
    "reg_melt = df_reg_m.melt(id_vars='area', value_vars=['Prima Dose pct','Seconda Dose pct'])"
   ]
  },
  {
   "cell_type": "code",
   "execution_count": 323,
   "metadata": {},
   "outputs": [
    {
     "data": {
      "text/plain": [
       "(array([ 0,  1,  2,  3,  4,  5,  6,  7,  8,  9, 10, 11, 12, 13, 14, 15, 16,\n",
       "        17, 18]),\n",
       " [Text(0, 0, 'Abruzzo'),\n",
       "  Text(1, 0, 'Basilicata'),\n",
       "  Text(2, 0, 'Calabria'),\n",
       "  Text(3, 0, 'Campania'),\n",
       "  Text(4, 0, 'Emilia-Romagna'),\n",
       "  Text(5, 0, 'Friuli Venezia Giulia'),\n",
       "  Text(6, 0, 'Lazio'),\n",
       "  Text(7, 0, 'Liguria'),\n",
       "  Text(8, 0, 'Lombardia'),\n",
       "  Text(9, 0, 'Marche'),\n",
       "  Text(10, 0, 'Molise'),\n",
       "  Text(11, 0, 'Piemonte'),\n",
       "  Text(12, 0, 'Puglia'),\n",
       "  Text(13, 0, 'Sardegna'),\n",
       "  Text(14, 0, 'Sicilia'),\n",
       "  Text(15, 0, 'Toscana'),\n",
       "  Text(16, 0, 'Umbria'),\n",
       "  Text(17, 0, \"Valle d'Aosta\"),\n",
       "  Text(18, 0, 'Veneto')])"
      ]
     },
     "execution_count": 323,
     "metadata": {},
     "output_type": "execute_result"
    },
    {
     "data": {
      "image/png": "[encoded data removed]",
      "text/plain": [
       "<Figure size 1008x504 with 1 Axes>"
      ]
     },
     "metadata": {},
     "output_type": "display_data"
    }
   ],
   "source": [
    "plt.figure(figsize=(14,7))\n",
    "\n",
    "sns.barplot(data=reg_melt, x='area', y='value', hue='variable').set_title('Elaborazione: @TomZ_UK - Dati: ISS')\n",
    "plt.suptitle('Percentuale Popolazione Vaccinata', fontsize=20)\n",
    "plt.xticks(rotation=80, fontsize=14)"
   ]
  },
  {
   "cell_type": "markdown",
   "metadata": {},
   "source": [
    "# Deliveries"
   ]
  },
  {
   "cell_type": "code",
   "execution_count": 324,
   "metadata": {},
   "outputs": [
    {
     "data": {
      "text/html": [
       "<div>\n",
       "<style scoped>\n",
       "    .dataframe tbody tr th:only-of-type {\n",
       "        vertical-align: middle;\n",
       "    }\n",
       "\n",
       "    .dataframe tbody tr th {\n",
       "        vertical-align: top;\n",
       "    }\n",
       "\n",
       "    .dataframe thead th {\n",
       "        text-align: right;\n",
       "    }\n",
       "</style>\n",
       "<table border=\"1\" class=\"dataframe\">\n",
       "  <thead>\n",
       "    <tr style=\"text-align: right;\">\n",
       "      <th></th>\n",
       "      <th>area</th>\n",
       "      <th>fornitore</th>\n",
       "      <th>numero_dosi</th>\n",
       "      <th>data_consegna</th>\n",
       "      <th>codice_NUTS1</th>\n",
       "      <th>codice_NUTS2</th>\n",
       "      <th>codice_regione_ISTAT</th>\n",
       "      <th>nome_area</th>\n",
       "    </tr>\n",
       "  </thead>\n",
       "  <tbody>\n",
       "    <tr>\n",
       "      <th>0</th>\n",
       "      <td>ABR</td>\n",
       "      <td>Pfizer/BioNTech</td>\n",
       "      <td>135</td>\n",
       "      <td>2020-12-27</td>\n",
       "      <td>ITF</td>\n",
       "      <td>ITF1</td>\n",
       "      <td>13</td>\n",
       "      <td>Abruzzo</td>\n",
       "    </tr>\n",
       "    <tr>\n",
       "      <th>1</th>\n",
       "      <td>ABR</td>\n",
       "      <td>Pfizer/BioNTech</td>\n",
       "      <td>7800</td>\n",
       "      <td>2020-12-30</td>\n",
       "      <td>ITF</td>\n",
       "      <td>ITF1</td>\n",
       "      <td>13</td>\n",
       "      <td>Abruzzo</td>\n",
       "    </tr>\n",
       "    <tr>\n",
       "      <th>2</th>\n",
       "      <td>ABR</td>\n",
       "      <td>Pfizer/BioNTech</td>\n",
       "      <td>3900</td>\n",
       "      <td>2021-01-05</td>\n",
       "      <td>ITF</td>\n",
       "      <td>ITF1</td>\n",
       "      <td>13</td>\n",
       "      <td>Abruzzo</td>\n",
       "    </tr>\n",
       "    <tr>\n",
       "      <th>3</th>\n",
       "      <td>ABR</td>\n",
       "      <td>Pfizer/BioNTech</td>\n",
       "      <td>3900</td>\n",
       "      <td>2021-01-07</td>\n",
       "      <td>ITF</td>\n",
       "      <td>ITF1</td>\n",
       "      <td>13</td>\n",
       "      <td>Abruzzo</td>\n",
       "    </tr>\n",
       "    <tr>\n",
       "      <th>4</th>\n",
       "      <td>ABR</td>\n",
       "      <td>Pfizer/BioNTech</td>\n",
       "      <td>3900</td>\n",
       "      <td>2021-01-11</td>\n",
       "      <td>ITF</td>\n",
       "      <td>ITF1</td>\n",
       "      <td>13</td>\n",
       "      <td>Abruzzo</td>\n",
       "    </tr>\n",
       "  </tbody>\n",
       "</table>\n",
       "</div>"
      ],
      "text/plain": [
       "  area        fornitore  numero_dosi data_consegna codice_NUTS1 codice_NUTS2  \\\n",
       "0  ABR  Pfizer/BioNTech          135    2020-12-27          ITF         ITF1   \n",
       "1  ABR  Pfizer/BioNTech         7800    2020-12-30          ITF         ITF1   \n",
       "2  ABR  Pfizer/BioNTech         3900    2021-01-05          ITF         ITF1   \n",
       "3  ABR  Pfizer/BioNTech         3900    2021-01-07          ITF         ITF1   \n",
       "4  ABR  Pfizer/BioNTech         3900    2021-01-11          ITF         ITF1   \n",
       "\n",
       "   codice_regione_ISTAT nome_area  \n",
       "0                    13   Abruzzo  \n",
       "1                    13   Abruzzo  \n",
       "2                    13   Abruzzo  \n",
       "3                    13   Abruzzo  \n",
       "4                    13   Abruzzo  "
      ]
     },
     "execution_count": 324,
     "metadata": {},
     "output_type": "execute_result"
    }
   ],
   "source": [
    "deliveries = pd.read_csv('https://raw.githubusercontent.com/italia/covid19-opendata-vaccini/master/dati/consegne-vaccini-latest.csv')\n",
    "deliveries.head()"
   ]
  },
  {
   "cell_type": "code",
   "execution_count": 325,
   "metadata": {},
   "outputs": [
    {
     "data": {
      "text/html": [
       "<div>\n",
       "<style scoped>\n",
       "    .dataframe tbody tr th:only-of-type {\n",
       "        vertical-align: middle;\n",
       "    }\n",
       "\n",
       "    .dataframe tbody tr th {\n",
       "        vertical-align: top;\n",
       "    }\n",
       "\n",
       "    .dataframe thead th {\n",
       "        text-align: right;\n",
       "    }\n",
       "</style>\n",
       "<table border=\"1\" class=\"dataframe\">\n",
       "  <thead>\n",
       "    <tr style=\"text-align: right;\">\n",
       "      <th></th>\n",
       "      <th>data_consegna</th>\n",
       "      <th>nome_area</th>\n",
       "      <th>fornitore</th>\n",
       "      <th>numero_dosi</th>\n",
       "    </tr>\n",
       "  </thead>\n",
       "  <tbody>\n",
       "    <tr>\n",
       "      <th>0</th>\n",
       "      <td>2020-12-27</td>\n",
       "      <td>Abruzzo</td>\n",
       "      <td>Pfizer/BioNTech</td>\n",
       "      <td>135</td>\n",
       "    </tr>\n",
       "    <tr>\n",
       "      <th>1</th>\n",
       "      <td>2020-12-27</td>\n",
       "      <td>Basilicata</td>\n",
       "      <td>Pfizer/BioNTech</td>\n",
       "      <td>105</td>\n",
       "    </tr>\n",
       "    <tr>\n",
       "      <th>2</th>\n",
       "      <td>2020-12-27</td>\n",
       "      <td>Calabria</td>\n",
       "      <td>Pfizer/BioNTech</td>\n",
       "      <td>280</td>\n",
       "    </tr>\n",
       "    <tr>\n",
       "      <th>3</th>\n",
       "      <td>2020-12-27</td>\n",
       "      <td>Campania</td>\n",
       "      <td>Pfizer/BioNTech</td>\n",
       "      <td>720</td>\n",
       "    </tr>\n",
       "    <tr>\n",
       "      <th>4</th>\n",
       "      <td>2020-12-27</td>\n",
       "      <td>Emilia-Romagna</td>\n",
       "      <td>Pfizer/BioNTech</td>\n",
       "      <td>975</td>\n",
       "    </tr>\n",
       "  </tbody>\n",
       "</table>\n",
       "</div>"
      ],
      "text/plain": [
       "  data_consegna       nome_area        fornitore  numero_dosi\n",
       "0    2020-12-27         Abruzzo  Pfizer/BioNTech          135\n",
       "1    2020-12-27      Basilicata  Pfizer/BioNTech          105\n",
       "2    2020-12-27        Calabria  Pfizer/BioNTech          280\n",
       "3    2020-12-27        Campania  Pfizer/BioNTech          720\n",
       "4    2020-12-27  Emilia-Romagna  Pfizer/BioNTech          975"
      ]
     },
     "execution_count": 325,
     "metadata": {},
     "output_type": "execute_result"
    }
   ],
   "source": [
    "deliveries = deliveries.groupby(['data_consegna','nome_area','fornitore'])[['numero_dosi']].sum().reset_index()\n",
    "deliveries.head()"
   ]
  },
  {
   "cell_type": "code",
   "execution_count": 326,
   "metadata": {},
   "outputs": [
    {
     "data": {
      "text/plain": [
       "array(['Abruzzo', 'Basilicata', 'Calabria', 'Campania', 'Emilia-Romagna',\n",
       "       'Friuli-Venezia Giulia', 'Lazio', 'Liguria', 'Lombardia', 'Marche',\n",
       "       'Molise', 'Piemonte', 'Provincia Autonoma Bolzano / Bozen',\n",
       "       'Provincia Autonoma Trento', 'Puglia', 'Sardegna', 'Sicilia',\n",
       "       'Toscana', 'Umbria', \"Valle d'Aosta / Vallée d'Aoste\", 'Veneto'],\n",
       "      dtype=object)"
      ]
     },
     "execution_count": 326,
     "metadata": {},
     "output_type": "execute_result"
    }
   ],
   "source": [
    "deliveries.nome_area.unique()"
   ]
  },
  {
   "cell_type": "code",
   "execution_count": 327,
   "metadata": {},
   "outputs": [],
   "source": [
    "deliveries.replace({'Provincia Autonoma Trento':'PAT','Provincia Autonoma Bolzano / Bozen':'PAB',\"Valle d'Aosta / Vallée d'Aoste\":\"Valle d'Aosta\"},\n",
    "                  \n",
    "                 inplace=True)"
   ]
  },
  {
   "cell_type": "code",
   "execution_count": 328,
   "metadata": {},
   "outputs": [],
   "source": [
    "df_reg['totale_somministrato'] = df_reg.prima_dose + df_reg.seconda_dose"
   ]
  },
  {
   "cell_type": "code",
   "execution_count": 329,
   "metadata": {},
   "outputs": [
    {
     "data": {
      "text/plain": [
       "array(['Abruzzo', 'Basilicata', 'Calabria', 'Campania', 'Emilia-Romagna',\n",
       "       'Friuli-Venezia Giulia', 'Lazio', 'Liguria', 'Lombardia', 'Marche',\n",
       "       'Molise', 'Piemonte', 'PAB', 'PAT', 'Puglia', 'Sardegna',\n",
       "       'Sicilia', 'Toscana', 'Umbria', \"Valle d'Aosta\", 'Veneto'],\n",
       "      dtype=object)"
      ]
     },
     "execution_count": 329,
     "metadata": {},
     "output_type": "execute_result"
    }
   ],
   "source": [
    "deliveries.nome_area.unique()"
   ]
  },
  {
   "cell_type": "code",
   "execution_count": 330,
   "metadata": {},
   "outputs": [
    {
     "data": {
      "text/html": [
       "<div>\n",
       "<style scoped>\n",
       "    .dataframe tbody tr th:only-of-type {\n",
       "        vertical-align: middle;\n",
       "    }\n",
       "\n",
       "    .dataframe tbody tr th {\n",
       "        vertical-align: top;\n",
       "    }\n",
       "\n",
       "    .dataframe thead th {\n",
       "        text-align: right;\n",
       "    }\n",
       "</style>\n",
       "<table border=\"1\" class=\"dataframe\">\n",
       "  <thead>\n",
       "    <tr style=\"text-align: right;\">\n",
       "      <th></th>\n",
       "      <th>area</th>\n",
       "      <th>prima_dose</th>\n",
       "      <th>seconda_dose</th>\n",
       "      <th>totale_somministrato</th>\n",
       "      <th>data_consegna</th>\n",
       "      <th>nome_area</th>\n",
       "      <th>fornitore</th>\n",
       "      <th>numero_dosi</th>\n",
       "    </tr>\n",
       "  </thead>\n",
       "  <tbody>\n",
       "    <tr>\n",
       "      <th>0</th>\n",
       "      <td>Abruzzo</td>\n",
       "      <td>180916</td>\n",
       "      <td>78342</td>\n",
       "      <td>259258</td>\n",
       "      <td>2020-12-27</td>\n",
       "      <td>Abruzzo</td>\n",
       "      <td>Pfizer/BioNTech</td>\n",
       "      <td>135</td>\n",
       "    </tr>\n",
       "    <tr>\n",
       "      <th>1</th>\n",
       "      <td>Abruzzo</td>\n",
       "      <td>180916</td>\n",
       "      <td>78342</td>\n",
       "      <td>259258</td>\n",
       "      <td>2020-12-30</td>\n",
       "      <td>Abruzzo</td>\n",
       "      <td>Pfizer/BioNTech</td>\n",
       "      <td>7800</td>\n",
       "    </tr>\n",
       "    <tr>\n",
       "      <th>2</th>\n",
       "      <td>Abruzzo</td>\n",
       "      <td>180916</td>\n",
       "      <td>78342</td>\n",
       "      <td>259258</td>\n",
       "      <td>2021-01-05</td>\n",
       "      <td>Abruzzo</td>\n",
       "      <td>Pfizer/BioNTech</td>\n",
       "      <td>3900</td>\n",
       "    </tr>\n",
       "    <tr>\n",
       "      <th>3</th>\n",
       "      <td>Abruzzo</td>\n",
       "      <td>180916</td>\n",
       "      <td>78342</td>\n",
       "      <td>259258</td>\n",
       "      <td>2021-01-07</td>\n",
       "      <td>Abruzzo</td>\n",
       "      <td>Pfizer/BioNTech</td>\n",
       "      <td>3900</td>\n",
       "    </tr>\n",
       "    <tr>\n",
       "      <th>4</th>\n",
       "      <td>Abruzzo</td>\n",
       "      <td>180916</td>\n",
       "      <td>78342</td>\n",
       "      <td>259258</td>\n",
       "      <td>2021-01-11</td>\n",
       "      <td>Abruzzo</td>\n",
       "      <td>Pfizer/BioNTech</td>\n",
       "      <td>3900</td>\n",
       "    </tr>\n",
       "    <tr>\n",
       "      <th>...</th>\n",
       "      <td>...</td>\n",
       "      <td>...</td>\n",
       "      <td>...</td>\n",
       "      <td>...</td>\n",
       "      <td>...</td>\n",
       "      <td>...</td>\n",
       "      <td>...</td>\n",
       "      <td>...</td>\n",
       "    </tr>\n",
       "    <tr>\n",
       "      <th>706</th>\n",
       "      <td>Veneto</td>\n",
       "      <td>751326</td>\n",
       "      <td>287982</td>\n",
       "      <td>1039308</td>\n",
       "      <td>2021-03-25</td>\n",
       "      <td>Veneto</td>\n",
       "      <td>AstraZeneca</td>\n",
       "      <td>21800</td>\n",
       "    </tr>\n",
       "    <tr>\n",
       "      <th>707</th>\n",
       "      <td>Veneto</td>\n",
       "      <td>751326</td>\n",
       "      <td>287982</td>\n",
       "      <td>1039308</td>\n",
       "      <td>2021-03-29</td>\n",
       "      <td>Veneto</td>\n",
       "      <td>Pfizer/BioNTech</td>\n",
       "      <td>83070</td>\n",
       "    </tr>\n",
       "    <tr>\n",
       "      <th>708</th>\n",
       "      <td>Veneto</td>\n",
       "      <td>751326</td>\n",
       "      <td>287982</td>\n",
       "      <td>1039308</td>\n",
       "      <td>2021-04-02</td>\n",
       "      <td>Veneto</td>\n",
       "      <td>Moderna</td>\n",
       "      <td>39100</td>\n",
       "    </tr>\n",
       "    <tr>\n",
       "      <th>709</th>\n",
       "      <td>Veneto</td>\n",
       "      <td>751326</td>\n",
       "      <td>287982</td>\n",
       "      <td>1039308</td>\n",
       "      <td>2021-04-03</td>\n",
       "      <td>Veneto</td>\n",
       "      <td>AstraZeneca</td>\n",
       "      <td>103300</td>\n",
       "    </tr>\n",
       "    <tr>\n",
       "      <th>710</th>\n",
       "      <td>Veneto</td>\n",
       "      <td>751326</td>\n",
       "      <td>287982</td>\n",
       "      <td>1039308</td>\n",
       "      <td>2021-04-06</td>\n",
       "      <td>Veneto</td>\n",
       "      <td>Pfizer/BioNTech</td>\n",
       "      <td>124020</td>\n",
       "    </tr>\n",
       "  </tbody>\n",
       "</table>\n",
       "<p>711 rows × 8 columns</p>\n",
       "</div>"
      ],
      "text/plain": [
       "        area  prima_dose  seconda_dose  totale_somministrato data_consegna  \\\n",
       "0    Abruzzo      180916         78342                259258    2020-12-27   \n",
       "1    Abruzzo      180916         78342                259258    2020-12-30   \n",
       "2    Abruzzo      180916         78342                259258    2021-01-05   \n",
       "3    Abruzzo      180916         78342                259258    2021-01-07   \n",
       "4    Abruzzo      180916         78342                259258    2021-01-11   \n",
       "..       ...         ...           ...                   ...           ...   \n",
       "706   Veneto      751326        287982               1039308    2021-03-25   \n",
       "707   Veneto      751326        287982               1039308    2021-03-29   \n",
       "708   Veneto      751326        287982               1039308    2021-04-02   \n",
       "709   Veneto      751326        287982               1039308    2021-04-03   \n",
       "710   Veneto      751326        287982               1039308    2021-04-06   \n",
       "\n",
       "    nome_area        fornitore  numero_dosi  \n",
       "0     Abruzzo  Pfizer/BioNTech          135  \n",
       "1     Abruzzo  Pfizer/BioNTech         7800  \n",
       "2     Abruzzo  Pfizer/BioNTech         3900  \n",
       "3     Abruzzo  Pfizer/BioNTech         3900  \n",
       "4     Abruzzo  Pfizer/BioNTech         3900  \n",
       "..        ...              ...          ...  \n",
       "706    Veneto      AstraZeneca        21800  \n",
       "707    Veneto  Pfizer/BioNTech        83070  \n",
       "708    Veneto          Moderna        39100  \n",
       "709    Veneto      AstraZeneca       103300  \n",
       "710    Veneto  Pfizer/BioNTech       124020  \n",
       "\n",
       "[711 rows x 8 columns]"
      ]
     },
     "execution_count": 330,
     "metadata": {},
     "output_type": "execute_result"
    }
   ],
   "source": [
    "df_reg.merge(deliveries, left_on='area', right_on='nome_area')"
   ]
  },
  {
   "cell_type": "code",
   "execution_count": 331,
   "metadata": {},
   "outputs": [],
   "source": [
    "deliveries1 = deliveries.groupby('nome_area')[['numero_dosi']].sum().reset_index()"
   ]
  },
  {
   "cell_type": "code",
   "execution_count": 332,
   "metadata": {},
   "outputs": [],
   "source": [
    "del_merged = df_reg.merge(deliveries1, left_on='area', right_on='nome_area')\n",
    "del_merged.drop('nome_area', axis=1, inplace=True)\n",
    "del_merged['pct_somministrato'] = (del_merged.totale_somministrato/del_merged.numero_dosi).mul(100).round(2)"
   ]
  },
  {
   "cell_type": "code",
   "execution_count": 333,
   "metadata": {},
   "outputs": [
    {
     "data": {
      "text/html": [
       "<div>\n",
       "<style scoped>\n",
       "    .dataframe tbody tr th:only-of-type {\n",
       "        vertical-align: middle;\n",
       "    }\n",
       "\n",
       "    .dataframe tbody tr th {\n",
       "        vertical-align: top;\n",
       "    }\n",
       "\n",
       "    .dataframe thead th {\n",
       "        text-align: right;\n",
       "    }\n",
       "</style>\n",
       "<table border=\"1\" class=\"dataframe\">\n",
       "  <thead>\n",
       "    <tr style=\"text-align: right;\">\n",
       "      <th></th>\n",
       "      <th>area</th>\n",
       "      <th>prima_dose</th>\n",
       "      <th>seconda_dose</th>\n",
       "      <th>totale_somministrato</th>\n",
       "      <th>numero_dosi</th>\n",
       "      <th>pct_somministrato</th>\n",
       "    </tr>\n",
       "  </thead>\n",
       "  <tbody>\n",
       "    <tr>\n",
       "      <th>0</th>\n",
       "      <td>Abruzzo</td>\n",
       "      <td>180916</td>\n",
       "      <td>78342</td>\n",
       "      <td>259258</td>\n",
       "      <td>355340</td>\n",
       "      <td>72.96</td>\n",
       "    </tr>\n",
       "    <tr>\n",
       "      <th>1</th>\n",
       "      <td>Basilicata</td>\n",
       "      <td>70290</td>\n",
       "      <td>36100</td>\n",
       "      <td>106390</td>\n",
       "      <td>146995</td>\n",
       "      <td>72.38</td>\n",
       "    </tr>\n",
       "    <tr>\n",
       "      <th>2</th>\n",
       "      <td>Calabria</td>\n",
       "      <td>200814</td>\n",
       "      <td>105147</td>\n",
       "      <td>305961</td>\n",
       "      <td>461590</td>\n",
       "      <td>66.28</td>\n",
       "    </tr>\n",
       "    <tr>\n",
       "      <th>3</th>\n",
       "      <td>Campania</td>\n",
       "      <td>694900</td>\n",
       "      <td>267891</td>\n",
       "      <td>962791</td>\n",
       "      <td>1280755</td>\n",
       "      <td>75.17</td>\n",
       "    </tr>\n",
       "    <tr>\n",
       "      <th>4</th>\n",
       "      <td>Emilia-Romagna</td>\n",
       "      <td>665425</td>\n",
       "      <td>316593</td>\n",
       "      <td>982018</td>\n",
       "      <td>1289060</td>\n",
       "      <td>76.18</td>\n",
       "    </tr>\n",
       "  </tbody>\n",
       "</table>\n",
       "</div>"
      ],
      "text/plain": [
       "             area  prima_dose  seconda_dose  totale_somministrato  \\\n",
       "0         Abruzzo      180916         78342                259258   \n",
       "1      Basilicata       70290         36100                106390   \n",
       "2        Calabria      200814        105147                305961   \n",
       "3        Campania      694900        267891                962791   \n",
       "4  Emilia-Romagna      665425        316593                982018   \n",
       "\n",
       "   numero_dosi  pct_somministrato  \n",
       "0       355340              72.96  \n",
       "1       146995              72.38  \n",
       "2       461590              66.28  \n",
       "3      1280755              75.17  \n",
       "4      1289060              76.18  "
      ]
     },
     "execution_count": 333,
     "metadata": {},
     "output_type": "execute_result"
    }
   ],
   "source": [
    "del_merged.head()"
   ]
  },
  {
   "cell_type": "code",
   "execution_count": 334,
   "metadata": {},
   "outputs": [],
   "source": [
    "media = np.mean(del_merged.pct_somministrato)"
   ]
  },
  {
   "cell_type": "code",
   "execution_count": 335,
   "metadata": {},
   "outputs": [
    {
     "data": {
      "image/png": "[encoded data removed]",
      "text/plain": [
       "<Figure size 1080x576 with 1 Axes>"
      ]
     },
     "metadata": {},
     "output_type": "display_data"
    }
   ],
   "source": [
    "plt.figure(figsize=(15,8))\n",
    "fig = sns.barplot(data=del_merged.sort_values('pct_somministrato'), x='area', y='pct_somministrato',\n",
    "           color='#1573B2')\n",
    "fig.axhline(media, ls='--', color='#E89429',\n",
    "           lw=2.5)\n",
    "fig.text(0.2,media+1,f'Media Nazionale: {media:.2f}',\n",
    "        fontsize=13)\n",
    "plt.suptitle('Percentuale Somministrata sul Consegnato', fontsize=20)\n",
    "plt.title('Elaborazione: @TomZ_UK - Dati: ISS')\n",
    "plt.xticks(rotation=35, fontsize=12)\n",
    "plt.ylim(40,100)\n",
    "\n",
    "plt.savefig('pct_somministrato_consegnato.png')"
   ]
  },
  {
   "cell_type": "markdown",
   "metadata": {},
   "source": [
    "# Suppliers"
   ]
  },
  {
   "cell_type": "code",
   "execution_count": 336,
   "metadata": {},
   "outputs": [
    {
     "data": {
      "text/html": [
       "<div>\n",
       "<style scoped>\n",
       "    .dataframe tbody tr th:only-of-type {\n",
       "        vertical-align: middle;\n",
       "    }\n",
       "\n",
       "    .dataframe tbody tr th {\n",
       "        vertical-align: top;\n",
       "    }\n",
       "\n",
       "    .dataframe thead th {\n",
       "        text-align: right;\n",
       "    }\n",
       "</style>\n",
       "<table border=\"1\" class=\"dataframe\">\n",
       "  <thead>\n",
       "    <tr style=\"text-align: right;\">\n",
       "      <th></th>\n",
       "      <th>data_somministrazione</th>\n",
       "      <th>fornitore</th>\n",
       "      <th>area</th>\n",
       "      <th>fascia_anagrafica</th>\n",
       "      <th>sesso_maschile</th>\n",
       "      <th>sesso_femminile</th>\n",
       "      <th>categoria_operatori_sanitari_sociosanitari</th>\n",
       "      <th>categoria_personale_non_sanitario</th>\n",
       "      <th>categoria_ospiti_rsa</th>\n",
       "      <th>categoria_over80</th>\n",
       "      <th>...</th>\n",
       "      <th>categoria_personale_scolastico</th>\n",
       "      <th>categoria_altro</th>\n",
       "      <th>prima_dose</th>\n",
       "      <th>seconda_dose</th>\n",
       "      <th>codice_NUTS1</th>\n",
       "      <th>codice_NUTS2</th>\n",
       "      <th>codice_regione_ISTAT</th>\n",
       "      <th>nome_area</th>\n",
       "      <th>giorno_campagna</th>\n",
       "      <th>prima_dose_totale_giorno</th>\n",
       "    </tr>\n",
       "  </thead>\n",
       "  <tbody>\n",
       "    <tr>\n",
       "      <th>0</th>\n",
       "      <td>2021-01-01</td>\n",
       "      <td>Pfizer/BioNTech</td>\n",
       "      <td>SAR</td>\n",
       "      <td>60-69</td>\n",
       "      <td>8</td>\n",
       "      <td>0</td>\n",
       "      <td>8</td>\n",
       "      <td>0</td>\n",
       "      <td>0</td>\n",
       "      <td>0</td>\n",
       "      <td>...</td>\n",
       "      <td>0</td>\n",
       "      <td>0</td>\n",
       "      <td>8</td>\n",
       "      <td>0</td>\n",
       "      <td>ITG</td>\n",
       "      <td>ITG2</td>\n",
       "      <td>20</td>\n",
       "      <td>Sardegna</td>\n",
       "      <td>1</td>\n",
       "      <td>11051</td>\n",
       "    </tr>\n",
       "    <tr>\n",
       "      <th>1</th>\n",
       "      <td>2021-01-01</td>\n",
       "      <td>Pfizer/BioNTech</td>\n",
       "      <td>SIC</td>\n",
       "      <td>40-49</td>\n",
       "      <td>95</td>\n",
       "      <td>84</td>\n",
       "      <td>163</td>\n",
       "      <td>0</td>\n",
       "      <td>0</td>\n",
       "      <td>0</td>\n",
       "      <td>...</td>\n",
       "      <td>0</td>\n",
       "      <td>16</td>\n",
       "      <td>179</td>\n",
       "      <td>0</td>\n",
       "      <td>ITG</td>\n",
       "      <td>ITG1</td>\n",
       "      <td>19</td>\n",
       "      <td>Sicilia</td>\n",
       "      <td>1</td>\n",
       "      <td>11051</td>\n",
       "    </tr>\n",
       "    <tr>\n",
       "      <th>2</th>\n",
       "      <td>2021-01-01</td>\n",
       "      <td>Pfizer/BioNTech</td>\n",
       "      <td>SIC</td>\n",
       "      <td>30-39</td>\n",
       "      <td>81</td>\n",
       "      <td>85</td>\n",
       "      <td>153</td>\n",
       "      <td>0</td>\n",
       "      <td>0</td>\n",
       "      <td>0</td>\n",
       "      <td>...</td>\n",
       "      <td>0</td>\n",
       "      <td>13</td>\n",
       "      <td>166</td>\n",
       "      <td>0</td>\n",
       "      <td>ITG</td>\n",
       "      <td>ITG1</td>\n",
       "      <td>19</td>\n",
       "      <td>Sicilia</td>\n",
       "      <td>1</td>\n",
       "      <td>11051</td>\n",
       "    </tr>\n",
       "    <tr>\n",
       "      <th>3</th>\n",
       "      <td>2021-01-01</td>\n",
       "      <td>Pfizer/BioNTech</td>\n",
       "      <td>SIC</td>\n",
       "      <td>60-69</td>\n",
       "      <td>90</td>\n",
       "      <td>42</td>\n",
       "      <td>115</td>\n",
       "      <td>0</td>\n",
       "      <td>0</td>\n",
       "      <td>0</td>\n",
       "      <td>...</td>\n",
       "      <td>0</td>\n",
       "      <td>17</td>\n",
       "      <td>132</td>\n",
       "      <td>0</td>\n",
       "      <td>ITG</td>\n",
       "      <td>ITG1</td>\n",
       "      <td>19</td>\n",
       "      <td>Sicilia</td>\n",
       "      <td>1</td>\n",
       "      <td>11051</td>\n",
       "    </tr>\n",
       "    <tr>\n",
       "      <th>4</th>\n",
       "      <td>2021-01-01</td>\n",
       "      <td>Pfizer/BioNTech</td>\n",
       "      <td>SIC</td>\n",
       "      <td>20-29</td>\n",
       "      <td>63</td>\n",
       "      <td>75</td>\n",
       "      <td>132</td>\n",
       "      <td>0</td>\n",
       "      <td>0</td>\n",
       "      <td>0</td>\n",
       "      <td>...</td>\n",
       "      <td>0</td>\n",
       "      <td>6</td>\n",
       "      <td>138</td>\n",
       "      <td>0</td>\n",
       "      <td>ITG</td>\n",
       "      <td>ITG1</td>\n",
       "      <td>19</td>\n",
       "      <td>Sicilia</td>\n",
       "      <td>1</td>\n",
       "      <td>11051</td>\n",
       "    </tr>\n",
       "  </tbody>\n",
       "</table>\n",
       "<p>5 rows × 21 columns</p>\n",
       "</div>"
      ],
      "text/plain": [
       "  data_somministrazione        fornitore area fascia_anagrafica  \\\n",
       "0            2021-01-01  Pfizer/BioNTech  SAR             60-69   \n",
       "1            2021-01-01  Pfizer/BioNTech  SIC             40-49   \n",
       "2            2021-01-01  Pfizer/BioNTech  SIC             30-39   \n",
       "3            2021-01-01  Pfizer/BioNTech  SIC             60-69   \n",
       "4            2021-01-01  Pfizer/BioNTech  SIC             20-29   \n",
       "\n",
       "   sesso_maschile  sesso_femminile  \\\n",
       "0               8                0   \n",
       "1              95               84   \n",
       "2              81               85   \n",
       "3              90               42   \n",
       "4              63               75   \n",
       "\n",
       "   categoria_operatori_sanitari_sociosanitari  \\\n",
       "0                                           8   \n",
       "1                                         163   \n",
       "2                                         153   \n",
       "3                                         115   \n",
       "4                                         132   \n",
       "\n",
       "   categoria_personale_non_sanitario  categoria_ospiti_rsa  categoria_over80  \\\n",
       "0                                  0                     0                 0   \n",
       "1                                  0                     0                 0   \n",
       "2                                  0                     0                 0   \n",
       "3                                  0                     0                 0   \n",
       "4                                  0                     0                 0   \n",
       "\n",
       "   ...  categoria_personale_scolastico  categoria_altro  prima_dose  \\\n",
       "0  ...                               0                0           8   \n",
       "1  ...                               0               16         179   \n",
       "2  ...                               0               13         166   \n",
       "3  ...                               0               17         132   \n",
       "4  ...                               0                6         138   \n",
       "\n",
       "   seconda_dose  codice_NUTS1 codice_NUTS2 codice_regione_ISTAT  nome_area  \\\n",
       "0             0           ITG         ITG2                   20   Sardegna   \n",
       "1             0           ITG         ITG1                   19    Sicilia   \n",
       "2             0           ITG         ITG1                   19    Sicilia   \n",
       "3             0           ITG         ITG1                   19    Sicilia   \n",
       "4             0           ITG         ITG1                   19    Sicilia   \n",
       "\n",
       "  giorno_campagna  prima_dose_totale_giorno  \n",
       "0               1                     11051  \n",
       "1               1                     11051  \n",
       "2               1                     11051  \n",
       "3               1                     11051  \n",
       "4               1                     11051  \n",
       "\n",
       "[5 rows x 21 columns]"
      ]
     },
     "execution_count": 336,
     "metadata": {},
     "output_type": "execute_result"
    }
   ],
   "source": [
    "df.head()"
   ]
  },
  {
   "cell_type": "code",
   "execution_count": 337,
   "metadata": {},
   "outputs": [],
   "source": [
    "df_fornitore = df.groupby(['fornitore', 'nome_area'])[['prima_dose','seconda_dose']].sum().reset_index()\n",
    "df_fornitore['totale'] = (df_fornitore.prima_dose + df_fornitore.seconda_dose)\n"
   ]
  },
  {
   "cell_type": "code",
   "execution_count": 338,
   "metadata": {},
   "outputs": [],
   "source": [
    "deliveries_fornitore = deliveries.groupby(['fornitore', 'nome_area'])['numero_dosi'].sum().reset_index()"
   ]
  },
  {
   "cell_type": "code",
   "execution_count": 339,
   "metadata": {},
   "outputs": [],
   "source": [
    "df_fornitore.replace({'Provincia Autonoma Trento':'PAT','Provincia Autonoma Bolzano / Bozen':'PAB',\"Valle d'Aosta / Vallée d'Aoste\":\"Valle d'Aosta\"},\n",
    "                  \n",
    "                 inplace=True)"
   ]
  },
  {
   "cell_type": "code",
   "execution_count": 340,
   "metadata": {},
   "outputs": [
    {
     "data": {
      "text/plain": [
       "array(['Abruzzo', 'Basilicata', 'Calabria', 'Campania', 'Emilia-Romagna',\n",
       "       'Friuli-Venezia Giulia', 'Lazio', 'Liguria', 'Lombardia', 'Marche',\n",
       "       'Molise', 'PAB', 'PAT', 'Piemonte', 'Puglia', 'Sardegna',\n",
       "       'Sicilia', 'Toscana', 'Umbria', \"Valle d'Aosta\", 'Veneto'],\n",
       "      dtype=object)"
      ]
     },
     "execution_count": 340,
     "metadata": {},
     "output_type": "execute_result"
    }
   ],
   "source": [
    "deliveries_fornitore.nome_area.unique()"
   ]
  },
  {
   "cell_type": "code",
   "execution_count": 341,
   "metadata": {},
   "outputs": [
    {
     "data": {
      "text/html": [
       "<div>\n",
       "<style scoped>\n",
       "    .dataframe tbody tr th:only-of-type {\n",
       "        vertical-align: middle;\n",
       "    }\n",
       "\n",
       "    .dataframe tbody tr th {\n",
       "        vertical-align: top;\n",
       "    }\n",
       "\n",
       "    .dataframe thead th {\n",
       "        text-align: right;\n",
       "    }\n",
       "</style>\n",
       "<table border=\"1\" class=\"dataframe\">\n",
       "  <thead>\n",
       "    <tr style=\"text-align: right;\">\n",
       "      <th></th>\n",
       "      <th>fornitore</th>\n",
       "      <th>nome_area</th>\n",
       "      <th>totale</th>\n",
       "      <th>numero_dosi</th>\n",
       "    </tr>\n",
       "  </thead>\n",
       "  <tbody>\n",
       "    <tr>\n",
       "      <th>0</th>\n",
       "      <td>AstraZeneca</td>\n",
       "      <td>Abruzzo</td>\n",
       "      <td>48920</td>\n",
       "      <td>87900</td>\n",
       "    </tr>\n",
       "    <tr>\n",
       "      <th>1</th>\n",
       "      <td>AstraZeneca</td>\n",
       "      <td>Basilicata</td>\n",
       "      <td>15025</td>\n",
       "      <td>36200</td>\n",
       "    </tr>\n",
       "    <tr>\n",
       "      <th>2</th>\n",
       "      <td>AstraZeneca</td>\n",
       "      <td>Calabria</td>\n",
       "      <td>42091</td>\n",
       "      <td>124700</td>\n",
       "    </tr>\n",
       "    <tr>\n",
       "      <th>3</th>\n",
       "      <td>AstraZeneca</td>\n",
       "      <td>Campania</td>\n",
       "      <td>239948</td>\n",
       "      <td>387000</td>\n",
       "    </tr>\n",
       "    <tr>\n",
       "      <th>4</th>\n",
       "      <td>AstraZeneca</td>\n",
       "      <td>Emilia-Romagna</td>\n",
       "      <td>165922</td>\n",
       "      <td>286300</td>\n",
       "    </tr>\n",
       "  </tbody>\n",
       "</table>\n",
       "</div>"
      ],
      "text/plain": [
       "     fornitore       nome_area  totale  numero_dosi\n",
       "0  AstraZeneca         Abruzzo   48920        87900\n",
       "1  AstraZeneca      Basilicata   15025        36200\n",
       "2  AstraZeneca        Calabria   42091       124700\n",
       "3  AstraZeneca        Campania  239948       387000\n",
       "4  AstraZeneca  Emilia-Romagna  165922       286300"
      ]
     },
     "execution_count": 341,
     "metadata": {},
     "output_type": "execute_result"
    }
   ],
   "source": [
    "df3 = df_fornitore.merge(deliveries_fornitore, on=['nome_area','fornitore'],\n",
    "            how='inner')[['fornitore','nome_area','totale','numero_dosi']]\n",
    "df3.head()"
   ]
  },
  {
   "cell_type": "code",
   "execution_count": 342,
   "metadata": {},
   "outputs": [],
   "source": [
    "df3['pct_injected'] = (df3.totale/df3.numero_dosi).mul(100).round(2)"
   ]
  },
  {
   "cell_type": "code",
   "execution_count": 343,
   "metadata": {},
   "outputs": [
    {
     "data": {
      "text/html": [
       "<div>\n",
       "<style scoped>\n",
       "    .dataframe tbody tr th:only-of-type {\n",
       "        vertical-align: middle;\n",
       "    }\n",
       "\n",
       "    .dataframe tbody tr th {\n",
       "        vertical-align: top;\n",
       "    }\n",
       "\n",
       "    .dataframe thead th {\n",
       "        text-align: right;\n",
       "    }\n",
       "</style>\n",
       "<table border=\"1\" class=\"dataframe\">\n",
       "  <thead>\n",
       "    <tr style=\"text-align: right;\">\n",
       "      <th></th>\n",
       "      <th>fornitore</th>\n",
       "      <th>nome_area</th>\n",
       "      <th>totale</th>\n",
       "      <th>numero_dosi</th>\n",
       "      <th>pct_injected</th>\n",
       "    </tr>\n",
       "  </thead>\n",
       "  <tbody>\n",
       "    <tr>\n",
       "      <th>0</th>\n",
       "      <td>AstraZeneca</td>\n",
       "      <td>Abruzzo</td>\n",
       "      <td>48920</td>\n",
       "      <td>87900</td>\n",
       "      <td>55.65</td>\n",
       "    </tr>\n",
       "    <tr>\n",
       "      <th>1</th>\n",
       "      <td>AstraZeneca</td>\n",
       "      <td>Basilicata</td>\n",
       "      <td>15025</td>\n",
       "      <td>36200</td>\n",
       "      <td>41.51</td>\n",
       "    </tr>\n",
       "    <tr>\n",
       "      <th>2</th>\n",
       "      <td>AstraZeneca</td>\n",
       "      <td>Calabria</td>\n",
       "      <td>42091</td>\n",
       "      <td>124700</td>\n",
       "      <td>33.75</td>\n",
       "    </tr>\n",
       "    <tr>\n",
       "      <th>3</th>\n",
       "      <td>AstraZeneca</td>\n",
       "      <td>Campania</td>\n",
       "      <td>239948</td>\n",
       "      <td>387000</td>\n",
       "      <td>62.00</td>\n",
       "    </tr>\n",
       "    <tr>\n",
       "      <th>4</th>\n",
       "      <td>AstraZeneca</td>\n",
       "      <td>Emilia-Romagna</td>\n",
       "      <td>165922</td>\n",
       "      <td>286300</td>\n",
       "      <td>57.95</td>\n",
       "    </tr>\n",
       "  </tbody>\n",
       "</table>\n",
       "</div>"
      ],
      "text/plain": [
       "     fornitore       nome_area  totale  numero_dosi  pct_injected\n",
       "0  AstraZeneca         Abruzzo   48920        87900         55.65\n",
       "1  AstraZeneca      Basilicata   15025        36200         41.51\n",
       "2  AstraZeneca        Calabria   42091       124700         33.75\n",
       "3  AstraZeneca        Campania  239948       387000         62.00\n",
       "4  AstraZeneca  Emilia-Romagna  165922       286300         57.95"
      ]
     },
     "execution_count": 343,
     "metadata": {},
     "output_type": "execute_result"
    }
   ],
   "source": [
    "df3.head()"
   ]
  },
  {
   "cell_type": "code",
   "execution_count": 344,
   "metadata": {},
   "outputs": [
    {
     "data": {
      "text/plain": [
       "(array([ 0,  1,  2,  3,  4,  5,  6,  7,  8,  9, 10, 11, 12, 13, 14, 15, 16,\n",
       "        17, 18, 19, 20]),\n",
       " [Text(0, 0, 'Abruzzo'),\n",
       "  Text(1, 0, 'Basilicata'),\n",
       "  Text(2, 0, 'Calabria'),\n",
       "  Text(3, 0, 'Campania'),\n",
       "  Text(4, 0, 'Emilia-Romagna'),\n",
       "  Text(5, 0, 'Friuli-Venezia Giulia'),\n",
       "  Text(6, 0, 'Lazio'),\n",
       "  Text(7, 0, 'Liguria'),\n",
       "  Text(8, 0, 'Lombardia'),\n",
       "  Text(9, 0, 'Marche'),\n",
       "  Text(10, 0, 'Molise'),\n",
       "  Text(11, 0, 'Piemonte'),\n",
       "  Text(12, 0, 'PAB'),\n",
       "  Text(13, 0, 'PAT'),\n",
       "  Text(14, 0, 'Puglia'),\n",
       "  Text(15, 0, 'Sardegna'),\n",
       "  Text(16, 0, 'Sicilia'),\n",
       "  Text(17, 0, 'Toscana'),\n",
       "  Text(18, 0, 'Umbria'),\n",
       "  Text(19, 0, \"Valle d'Aosta\"),\n",
       "  Text(20, 0, 'Veneto')])"
      ]
     },
     "execution_count": 344,
     "metadata": {},
     "output_type": "execute_result"
    },
    {
     "data": {
      "image/png": "[encoded data removed]",
      "text/plain": [
       "<Figure size 1296x648 with 1 Axes>"
      ]
     },
     "metadata": {},
     "output_type": "display_data"
    }
   ],
   "source": [
    "plt.figure(figsize=(18,9))\n",
    "sns.barplot(data=df3[df3.fornitore != 'Pfizer/BioNTech'], x='nome_area',\n",
    "            y='pct_injected',\n",
    "            hue='fornitore')\n",
    "plt.xticks(rotation=35, fontsize=12)"
   ]
  },
  {
   "cell_type": "code",
   "execution_count": 345,
   "metadata": {},
   "outputs": [
    {
     "data": {
      "image/png": "[encoded data removed]",
      "text/plain": [
       "<Figure size 2160x576 with 3 Axes>"
      ]
     },
     "metadata": {},
     "output_type": "display_data"
    }
   ],
   "source": [
    "fig, axes = plt.subplots(1, 3, figsize=(30, 8), sharey=True)\n"
   ]
  },
  {
   "cell_type": "code",
   "execution_count": 346,
   "metadata": {},
   "outputs": [
    {
     "data": {
      "text/html": [
       "<div>\n",
       "<style scoped>\n",
       "    .dataframe tbody tr th:only-of-type {\n",
       "        vertical-align: middle;\n",
       "    }\n",
       "\n",
       "    .dataframe tbody tr th {\n",
       "        vertical-align: top;\n",
       "    }\n",
       "\n",
       "    .dataframe thead th {\n",
       "        text-align: right;\n",
       "    }\n",
       "</style>\n",
       "<table border=\"1\" class=\"dataframe\">\n",
       "  <thead>\n",
       "    <tr style=\"text-align: right;\">\n",
       "      <th></th>\n",
       "      <th>data_somministrazione</th>\n",
       "      <th>prima_dose</th>\n",
       "      <th>pct_pop_prima_dose</th>\n",
       "      <th>daily_change</th>\n",
       "      <th>prima_dose_giorno</th>\n",
       "      <th>seconda_dose_giorno</th>\n",
       "    </tr>\n",
       "  </thead>\n",
       "  <tbody>\n",
       "    <tr>\n",
       "      <th>0</th>\n",
       "      <td>2021-01-01</td>\n",
       "      <td>11051</td>\n",
       "      <td>0.021862</td>\n",
       "      <td>NaN</td>\n",
       "      <td>0.0</td>\n",
       "      <td>0.0</td>\n",
       "    </tr>\n",
       "    <tr>\n",
       "      <th>1</th>\n",
       "      <td>2021-01-02</td>\n",
       "      <td>49554</td>\n",
       "      <td>0.098032</td>\n",
       "      <td>0.076170</td>\n",
       "      <td>38503.0</td>\n",
       "      <td>0.0</td>\n",
       "    </tr>\n",
       "    <tr>\n",
       "      <th>2</th>\n",
       "      <td>2021-01-03</td>\n",
       "      <td>84687</td>\n",
       "      <td>0.167536</td>\n",
       "      <td>0.069503</td>\n",
       "      <td>35133.0</td>\n",
       "      <td>0.0</td>\n",
       "    </tr>\n",
       "    <tr>\n",
       "      <th>3</th>\n",
       "      <td>2021-01-04</td>\n",
       "      <td>153317</td>\n",
       "      <td>0.303306</td>\n",
       "      <td>0.135770</td>\n",
       "      <td>68630.0</td>\n",
       "      <td>0.0</td>\n",
       "    </tr>\n",
       "    <tr>\n",
       "      <th>4</th>\n",
       "      <td>2021-01-05</td>\n",
       "      <td>232856</td>\n",
       "      <td>0.460658</td>\n",
       "      <td>0.157352</td>\n",
       "      <td>79539.0</td>\n",
       "      <td>0.0</td>\n",
       "    </tr>\n",
       "    <tr>\n",
       "      <th>...</th>\n",
       "      <td>...</td>\n",
       "      <td>...</td>\n",
       "      <td>...</td>\n",
       "      <td>...</td>\n",
       "      <td>...</td>\n",
       "      <td>...</td>\n",
       "    </tr>\n",
       "    <tr>\n",
       "      <th>92</th>\n",
       "      <td>2021-04-03</td>\n",
       "      <td>7550436</td>\n",
       "      <td>14.936985</td>\n",
       "      <td>0.316859</td>\n",
       "      <td>160168.0</td>\n",
       "      <td>57075.0</td>\n",
       "    </tr>\n",
       "    <tr>\n",
       "      <th>93</th>\n",
       "      <td>2021-04-04</td>\n",
       "      <td>7624359</td>\n",
       "      <td>15.083227</td>\n",
       "      <td>0.146241</td>\n",
       "      <td>73923.0</td>\n",
       "      <td>19806.0</td>\n",
       "    </tr>\n",
       "    <tr>\n",
       "      <th>94</th>\n",
       "      <td>2021-04-05</td>\n",
       "      <td>7752959</td>\n",
       "      <td>15.337635</td>\n",
       "      <td>0.254409</td>\n",
       "      <td>128600.0</td>\n",
       "      <td>37035.0</td>\n",
       "    </tr>\n",
       "    <tr>\n",
       "      <th>95</th>\n",
       "      <td>2021-04-06</td>\n",
       "      <td>7943501</td>\n",
       "      <td>15.714583</td>\n",
       "      <td>0.376948</td>\n",
       "      <td>190542.0</td>\n",
       "      <td>71687.0</td>\n",
       "    </tr>\n",
       "    <tr>\n",
       "      <th>96</th>\n",
       "      <td>2021-04-07</td>\n",
       "      <td>8001254</td>\n",
       "      <td>15.828836</td>\n",
       "      <td>0.114252</td>\n",
       "      <td>57753.0</td>\n",
       "      <td>31924.0</td>\n",
       "    </tr>\n",
       "  </tbody>\n",
       "</table>\n",
       "<p>97 rows × 6 columns</p>\n",
       "</div>"
      ],
      "text/plain": [
       "   data_somministrazione  prima_dose  pct_pop_prima_dose  daily_change  \\\n",
       "0             2021-01-01       11051            0.021862           NaN   \n",
       "1             2021-01-02       49554            0.098032      0.076170   \n",
       "2             2021-01-03       84687            0.167536      0.069503   \n",
       "3             2021-01-04      153317            0.303306      0.135770   \n",
       "4             2021-01-05      232856            0.460658      0.157352   \n",
       "..                   ...         ...                 ...           ...   \n",
       "92            2021-04-03     7550436           14.936985      0.316859   \n",
       "93            2021-04-04     7624359           15.083227      0.146241   \n",
       "94            2021-04-05     7752959           15.337635      0.254409   \n",
       "95            2021-04-06     7943501           15.714583      0.376948   \n",
       "96            2021-04-07     8001254           15.828836      0.114252   \n",
       "\n",
       "    prima_dose_giorno  seconda_dose_giorno  \n",
       "0                 0.0                  0.0  \n",
       "1             38503.0                  0.0  \n",
       "2             35133.0                  0.0  \n",
       "3             68630.0                  0.0  \n",
       "4             79539.0                  0.0  \n",
       "..                ...                  ...  \n",
       "92           160168.0              57075.0  \n",
       "93            73923.0              19806.0  \n",
       "94           128600.0              37035.0  \n",
       "95           190542.0              71687.0  \n",
       "96            57753.0              31924.0  \n",
       "\n",
       "[97 rows x 6 columns]"
      ]
     },
     "execution_count": 346,
     "metadata": {},
     "output_type": "execute_result"
    }
   ],
   "source": [
    "df_prima"
   ]
  },
  {
   "cell_type": "code",
   "execution_count": 347,
   "metadata": {},
   "outputs": [],
   "source": [
    "df_pl = df_pl.pivot(index='data_somministrazione',\n",
    "            columns='variable', values='value').reset_index()\n",
    "df_pl['totale'] = df_pl['Prima Dose'] + df_pl['Seconda Dose']\n",
    "df_pl['mm_7'] = df_pl.totale.rolling(window=7).mean().round(0).fillna(0).astype(int)"
   ]
  },
  {
   "cell_type": "code",
   "execution_count": 351,
   "metadata": {},
   "outputs": [],
   "source": [
    "df_pl['tot_cumulativo'] = df_pl.totale.cumsum()\n"
   ]
  },
  {
   "cell_type": "code",
   "execution_count": 354,
   "metadata": {},
   "outputs": [
    {
     "data": {
      "text/html": [
       "<div>\n",
       "<style scoped>\n",
       "    .dataframe tbody tr th:only-of-type {\n",
       "        vertical-align: middle;\n",
       "    }\n",
       "\n",
       "    .dataframe tbody tr th {\n",
       "        vertical-align: top;\n",
       "    }\n",
       "\n",
       "    .dataframe thead th {\n",
       "        text-align: right;\n",
       "    }\n",
       "</style>\n",
       "<table border=\"1\" class=\"dataframe\">\n",
       "  <thead>\n",
       "    <tr style=\"text-align: right;\">\n",
       "      <th>variable</th>\n",
       "      <th>data_somministrazione</th>\n",
       "      <th>Prima Dose</th>\n",
       "      <th>Seconda Dose</th>\n",
       "      <th>totale</th>\n",
       "      <th>mm_7</th>\n",
       "      <th>tot_cumulativo</th>\n",
       "    </tr>\n",
       "  </thead>\n",
       "  <tbody>\n",
       "    <tr>\n",
       "      <th>0</th>\n",
       "      <td>2021-01-01</td>\n",
       "      <td>0.0</td>\n",
       "      <td>0.0</td>\n",
       "      <td>0.0</td>\n",
       "      <td>0</td>\n",
       "      <td>0.0</td>\n",
       "    </tr>\n",
       "    <tr>\n",
       "      <th>1</th>\n",
       "      <td>2021-01-02</td>\n",
       "      <td>38503.0</td>\n",
       "      <td>0.0</td>\n",
       "      <td>38503.0</td>\n",
       "      <td>0</td>\n",
       "      <td>38503.0</td>\n",
       "    </tr>\n",
       "    <tr>\n",
       "      <th>2</th>\n",
       "      <td>2021-01-03</td>\n",
       "      <td>35133.0</td>\n",
       "      <td>0.0</td>\n",
       "      <td>35133.0</td>\n",
       "      <td>0</td>\n",
       "      <td>73636.0</td>\n",
       "    </tr>\n",
       "    <tr>\n",
       "      <th>3</th>\n",
       "      <td>2021-01-04</td>\n",
       "      <td>68630.0</td>\n",
       "      <td>0.0</td>\n",
       "      <td>68630.0</td>\n",
       "      <td>0</td>\n",
       "      <td>142266.0</td>\n",
       "    </tr>\n",
       "    <tr>\n",
       "      <th>4</th>\n",
       "      <td>2021-01-05</td>\n",
       "      <td>79539.0</td>\n",
       "      <td>0.0</td>\n",
       "      <td>79539.0</td>\n",
       "      <td>0</td>\n",
       "      <td>221805.0</td>\n",
       "    </tr>\n",
       "  </tbody>\n",
       "</table>\n",
       "</div>"
      ],
      "text/plain": [
       "variable data_somministrazione  Prima Dose  Seconda Dose   totale  mm_7  \\\n",
       "0                   2021-01-01         0.0           0.0      0.0     0   \n",
       "1                   2021-01-02     38503.0           0.0  38503.0     0   \n",
       "2                   2021-01-03     35133.0           0.0  35133.0     0   \n",
       "3                   2021-01-04     68630.0           0.0  68630.0     0   \n",
       "4                   2021-01-05     79539.0           0.0  79539.0     0   \n",
       "\n",
       "variable  tot_cumulativo  \n",
       "0                    0.0  \n",
       "1                38503.0  \n",
       "2                73636.0  \n",
       "3               142266.0  \n",
       "4               221805.0  "
      ]
     },
     "execution_count": 354,
     "metadata": {},
     "output_type": "execute_result"
    }
   ],
   "source": [
    "df_pl.head()"
   ]
  },
  {
   "cell_type": "code",
   "execution_count": 361,
   "metadata": {},
   "outputs": [
    {
     "data": {
      "text/plain": [
       "<AxesSubplot:xlabel='data_somministrazione', ylabel='tot_cumulativo'>"
      ]
     },
     "execution_count": 361,
     "metadata": {},
     "output_type": "execute_result"
    },
    {
     "data": {
      "image/png": "[encoded data removed]",
      "text/plain": [
       "<Figure size 1008x504 with 1 Axes>"
      ]
     },
     "metadata": {},
     "output_type": "display_data"
    }
   ],
   "source": [
    "plt.figure(figsize=(14,7))\n",
    "plt.ticklabel_format(style='plain', axis='y')\n",
    "\n",
    "sns.barplot(data=df_pl, x='data_somministrazione', y='tot_cumulativo',\n",
    "           color='#2B99D1')"
   ]
  },
  {
   "cell_type": "code",
   "execution_count": 375,
   "metadata": {},
   "outputs": [
    {
     "data": {
      "text/plain": [
       "<AxesSubplot:xlabel='data_somministrazione', ylabel='mm_7'>"
      ]
     },
     "execution_count": 375,
     "metadata": {},
     "output_type": "execute_result"
    },
    {
     "data": {
      "image/png": "[encoded data removed]",
      "text/plain": [
       "<Figure size 1440x720 with 1 Axes>"
      ]
     },
     "metadata": {},
     "output_type": "display_data"
    }
   ],
   "source": [
    "plt.figure(figsize=(20,10))\n",
    "plt.ticklabel_format(style='plain', axis='y')\n",
    "plt.xticks(rotation=0)\n",
    "plt.ylim(0, 500000)\n",
    "plt.plot([-1, len(df_pl)], [300000, 300000], linewidth=4, color='#E0C51D')\n",
    "\n",
    "sns.barplot(data=df_pl, x=df_pl['data_somministrazione'].dt.dayofyear, y='mm_7',\n",
    "           color='#2B99D1')"
   ]
  },
  {
   "cell_type": "code",
   "execution_count": 382,
   "metadata": {},
   "outputs": [
    {
     "data": {
      "text/plain": [
       "Text(0.5, 0, 'Giorni da Inizio Campagna')"
      ]
     },
     "execution_count": 382,
     "metadata": {},
     "output_type": "execute_result"
    },
    {
     "data": {
      "image/png": "[encoded data removed]",
      "text/plain": [
       "<Figure size 1440x720 with 1 Axes>"
      ]
     },
     "metadata": {},
     "output_type": "display_data"
    }
   ],
   "source": [
    "plt.figure(figsize=(20,10))\n",
    "plt.ticklabel_format(style='plain', axis='y')\n",
    "plt.xticks(rotation=90)\n",
    "plt.ylim(0, 500000)\n",
    "plt.plot([-1, len(df_pl)], [300000, 300000], linewidth=4, color='#E0C51D')\n",
    "sns.barplot(data=df_pl, x=df_pl['data_somministrazione'].dt.dayofyear, y='totale',\n",
    "           color='#2B99D1')\n",
    "plt.xlabel('Giorni da Inizio Campagna', fontdict={'size':14})\n"
   ]
  },
  {
   "cell_type": "code",
   "execution_count": null,
   "metadata": {},
   "outputs": [],
   "source": []
  }
 ],
 "metadata": {
  "kernelspec": {
   "display_name": "Python 3",
   "language": "python",
   "name": "python3"
  },
  "language_info": {
   "codemirror_mode": {
    "name": "ipython",
    "version": 3
   },
   "file_extension": ".py",
   "mimetype": "text/x-python",
   "name": "python",
   "nbconvert_exporter": "python",
   "pygments_lexer": "ipython3",
   "version": "3.7.6"
  }
 },
 "nbformat": 4,
 "nbformat_minor": 4
}
