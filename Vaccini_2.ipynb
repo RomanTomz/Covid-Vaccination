{
 "cells": [
  {
   "cell_type": "code",
   "execution_count": 1165,
   "metadata": {},
   "outputs": [
    {
     "data": {
      "text/html": [
       "<style>.container { width:100% !important; }</style>"
      ],
      "text/plain": [
       "<IPython.core.display.HTML object>"
      ]
     },
     "metadata": {},
     "output_type": "display_data"
    }
   ],
   "source": [
    "from IPython.core.display import display, HTML\n",
    "display(HTML(\"<style>.container { width:100% !important; }</style>\"))"
   ]
  },
  {
   "cell_type": "code",
   "execution_count": 1166,
   "metadata": {},
   "outputs": [],
   "source": [
    "import pandas as pd\n",
    "import numpy as np\n",
    "import seaborn as sns\n",
    "import matplotlib.pyplot as plt\n",
    "\n",
    "import plotly.graph_objects as go"
   ]
  },
  {
   "cell_type": "code",
   "execution_count": 1167,
   "metadata": {},
   "outputs": [],
   "source": [
    "df = pd.read_csv('https://raw.githubusercontent.com/italia/covid19-opendata-vaccini/master/dati/somministrazioni-vaccini-latest.csv')\n",
    "df.data_somministrazione = pd.to_datetime(df.data_somministrazione)"
   ]
  },
  {
   "cell_type": "code",
   "execution_count": 1168,
   "metadata": {},
   "outputs": [],
   "source": [
    "df.sort_values('data_somministrazione', inplace=True)"
   ]
  },
  {
   "cell_type": "code",
   "execution_count": 1169,
   "metadata": {},
   "outputs": [
    {
     "data": {
      "text/html": [
       "<div>\n",
       "<style scoped>\n",
       "    .dataframe tbody tr th:only-of-type {\n",
       "        vertical-align: middle;\n",
       "    }\n",
       "\n",
       "    .dataframe tbody tr th {\n",
       "        vertical-align: top;\n",
       "    }\n",
       "\n",
       "    .dataframe thead th {\n",
       "        text-align: right;\n",
       "    }\n",
       "</style>\n",
       "<table border=\"1\" class=\"dataframe\">\n",
       "  <thead>\n",
       "    <tr style=\"text-align: right;\">\n",
       "      <th></th>\n",
       "      <th>data_somministrazione</th>\n",
       "      <th>fornitore</th>\n",
       "      <th>area</th>\n",
       "      <th>fascia_anagrafica</th>\n",
       "      <th>sesso_maschile</th>\n",
       "      <th>sesso_femminile</th>\n",
       "      <th>categoria_operatori_sanitari_sociosanitari</th>\n",
       "      <th>categoria_personale_non_sanitario</th>\n",
       "      <th>categoria_ospiti_rsa</th>\n",
       "      <th>categoria_over80</th>\n",
       "      <th>prima_dose</th>\n",
       "      <th>seconda_dose</th>\n",
       "      <th>codice_NUTS1</th>\n",
       "      <th>codice_NUTS2</th>\n",
       "      <th>codice_regione_ISTAT</th>\n",
       "      <th>nome_area</th>\n",
       "    </tr>\n",
       "  </thead>\n",
       "  <tbody>\n",
       "    <tr>\n",
       "      <th>0</th>\n",
       "      <td>2020-12-27</td>\n",
       "      <td>Pfizer/BioNTech</td>\n",
       "      <td>ABR</td>\n",
       "      <td>20-29</td>\n",
       "      <td>1</td>\n",
       "      <td>0</td>\n",
       "      <td>1</td>\n",
       "      <td>0</td>\n",
       "      <td>0</td>\n",
       "      <td>0</td>\n",
       "      <td>1</td>\n",
       "      <td>0</td>\n",
       "      <td>ITF</td>\n",
       "      <td>ITF1</td>\n",
       "      <td>13</td>\n",
       "      <td>Abruzzo</td>\n",
       "    </tr>\n",
       "    <tr>\n",
       "      <th>94</th>\n",
       "      <td>2020-12-27</td>\n",
       "      <td>Pfizer/BioNTech</td>\n",
       "      <td>PIE</td>\n",
       "      <td>70-79</td>\n",
       "      <td>9</td>\n",
       "      <td>10</td>\n",
       "      <td>1</td>\n",
       "      <td>0</td>\n",
       "      <td>18</td>\n",
       "      <td>0</td>\n",
       "      <td>19</td>\n",
       "      <td>0</td>\n",
       "      <td>ITC</td>\n",
       "      <td>ITC1</td>\n",
       "      <td>1</td>\n",
       "      <td>Piemonte</td>\n",
       "    </tr>\n",
       "    <tr>\n",
       "      <th>95</th>\n",
       "      <td>2020-12-27</td>\n",
       "      <td>Pfizer/BioNTech</td>\n",
       "      <td>PIE</td>\n",
       "      <td>80-89</td>\n",
       "      <td>5</td>\n",
       "      <td>19</td>\n",
       "      <td>0</td>\n",
       "      <td>0</td>\n",
       "      <td>24</td>\n",
       "      <td>0</td>\n",
       "      <td>24</td>\n",
       "      <td>0</td>\n",
       "      <td>ITC</td>\n",
       "      <td>ITC1</td>\n",
       "      <td>1</td>\n",
       "      <td>Piemonte</td>\n",
       "    </tr>\n",
       "    <tr>\n",
       "      <th>96</th>\n",
       "      <td>2020-12-27</td>\n",
       "      <td>Pfizer/BioNTech</td>\n",
       "      <td>PIE</td>\n",
       "      <td>90+</td>\n",
       "      <td>5</td>\n",
       "      <td>15</td>\n",
       "      <td>0</td>\n",
       "      <td>0</td>\n",
       "      <td>20</td>\n",
       "      <td>0</td>\n",
       "      <td>20</td>\n",
       "      <td>0</td>\n",
       "      <td>ITC</td>\n",
       "      <td>ITC1</td>\n",
       "      <td>1</td>\n",
       "      <td>Piemonte</td>\n",
       "    </tr>\n",
       "    <tr>\n",
       "      <th>97</th>\n",
       "      <td>2020-12-27</td>\n",
       "      <td>Pfizer/BioNTech</td>\n",
       "      <td>PUG</td>\n",
       "      <td>20-29</td>\n",
       "      <td>18</td>\n",
       "      <td>33</td>\n",
       "      <td>47</td>\n",
       "      <td>4</td>\n",
       "      <td>0</td>\n",
       "      <td>0</td>\n",
       "      <td>51</td>\n",
       "      <td>0</td>\n",
       "      <td>ITF</td>\n",
       "      <td>ITF4</td>\n",
       "      <td>16</td>\n",
       "      <td>Puglia</td>\n",
       "    </tr>\n",
       "  </tbody>\n",
       "</table>\n",
       "</div>"
      ],
      "text/plain": [
       "   data_somministrazione        fornitore area fascia_anagrafica  \\\n",
       "0             2020-12-27  Pfizer/BioNTech  ABR             20-29   \n",
       "94            2020-12-27  Pfizer/BioNTech  PIE             70-79   \n",
       "95            2020-12-27  Pfizer/BioNTech  PIE             80-89   \n",
       "96            2020-12-27  Pfizer/BioNTech  PIE               90+   \n",
       "97            2020-12-27  Pfizer/BioNTech  PUG             20-29   \n",
       "\n",
       "    sesso_maschile  sesso_femminile  \\\n",
       "0                1                0   \n",
       "94               9               10   \n",
       "95               5               19   \n",
       "96               5               15   \n",
       "97              18               33   \n",
       "\n",
       "    categoria_operatori_sanitari_sociosanitari  \\\n",
       "0                                            1   \n",
       "94                                           1   \n",
       "95                                           0   \n",
       "96                                           0   \n",
       "97                                          47   \n",
       "\n",
       "    categoria_personale_non_sanitario  categoria_ospiti_rsa  categoria_over80  \\\n",
       "0                                   0                     0                 0   \n",
       "94                                  0                    18                 0   \n",
       "95                                  0                    24                 0   \n",
       "96                                  0                    20                 0   \n",
       "97                                  4                     0                 0   \n",
       "\n",
       "    prima_dose  seconda_dose codice_NUTS1 codice_NUTS2  codice_regione_ISTAT  \\\n",
       "0            1             0          ITF         ITF1                    13   \n",
       "94          19             0          ITC         ITC1                     1   \n",
       "95          24             0          ITC         ITC1                     1   \n",
       "96          20             0          ITC         ITC1                     1   \n",
       "97          51             0          ITF         ITF4                    16   \n",
       "\n",
       "   nome_area  \n",
       "0    Abruzzo  \n",
       "94  Piemonte  \n",
       "95  Piemonte  \n",
       "96  Piemonte  \n",
       "97    Puglia  "
      ]
     },
     "execution_count": 1169,
     "metadata": {},
     "output_type": "execute_result"
    }
   ],
   "source": [
    "df.head()"
   ]
  },
  {
   "cell_type": "code",
   "execution_count": 1170,
   "metadata": {},
   "outputs": [],
   "source": [
    "df = df[df['data_somministrazione']>='2021-01-01']"
   ]
  },
  {
   "cell_type": "code",
   "execution_count": 1171,
   "metadata": {},
   "outputs": [],
   "source": [
    "#df.data_somministrazione = df.data_somministrazione.dt.strftime(\"%d-%m-%Y\")"
   ]
  },
  {
   "cell_type": "code",
   "execution_count": 1172,
   "metadata": {},
   "outputs": [],
   "source": [
    "df['giorno_campagna'] = df.data_somministrazione.dt.dayofyear"
   ]
  },
  {
   "cell_type": "code",
   "execution_count": 1173,
   "metadata": {},
   "outputs": [
    {
     "name": "stderr",
     "output_type": "stream",
     "text": [
      "/Users/admin/opt/anaconda3/lib/python3.7/site-packages/ipykernel_launcher.py:1: FutureWarning:\n",
      "\n",
      "Indexing with multiple keys (implicitly converted to a tuple of keys) will be deprecated, use a list instead.\n",
      "\n"
     ]
    },
    {
     "data": {
      "text/html": [
       "<div>\n",
       "<style scoped>\n",
       "    .dataframe tbody tr th:only-of-type {\n",
       "        vertical-align: middle;\n",
       "    }\n",
       "\n",
       "    .dataframe tbody tr th {\n",
       "        vertical-align: top;\n",
       "    }\n",
       "\n",
       "    .dataframe thead th {\n",
       "        text-align: right;\n",
       "    }\n",
       "</style>\n",
       "<table border=\"1\" class=\"dataframe\">\n",
       "  <thead>\n",
       "    <tr style=\"text-align: right;\">\n",
       "      <th>data_somministrazione</th>\n",
       "      <th>2021-01-01</th>\n",
       "      <th>2021-01-02</th>\n",
       "      <th>2021-01-03</th>\n",
       "      <th>2021-01-04</th>\n",
       "      <th>2021-01-05</th>\n",
       "      <th>2021-01-06</th>\n",
       "      <th>2021-01-07</th>\n",
       "      <th>2021-01-08</th>\n",
       "      <th>2021-01-09</th>\n",
       "      <th>2021-01-10</th>\n",
       "      <th>...</th>\n",
       "      <th>2021-01-26</th>\n",
       "      <th>2021-01-27</th>\n",
       "      <th>2021-01-28</th>\n",
       "      <th>2021-01-29</th>\n",
       "      <th>2021-01-30</th>\n",
       "      <th>2021-01-31</th>\n",
       "      <th>2021-02-01</th>\n",
       "      <th>2021-02-02</th>\n",
       "      <th>2021-02-03</th>\n",
       "      <th>2021-02-04</th>\n",
       "    </tr>\n",
       "    <tr>\n",
       "      <th>fascia_anagrafica</th>\n",
       "      <th></th>\n",
       "      <th></th>\n",
       "      <th></th>\n",
       "      <th></th>\n",
       "      <th></th>\n",
       "      <th></th>\n",
       "      <th></th>\n",
       "      <th></th>\n",
       "      <th></th>\n",
       "      <th></th>\n",
       "      <th></th>\n",
       "      <th></th>\n",
       "      <th></th>\n",
       "      <th></th>\n",
       "      <th></th>\n",
       "      <th></th>\n",
       "      <th></th>\n",
       "      <th></th>\n",
       "      <th></th>\n",
       "      <th></th>\n",
       "      <th></th>\n",
       "    </tr>\n",
       "  </thead>\n",
       "  <tbody>\n",
       "    <tr>\n",
       "      <th>16-19</th>\n",
       "      <td>2.0</td>\n",
       "      <td>18.0</td>\n",
       "      <td>0.0</td>\n",
       "      <td>12.0</td>\n",
       "      <td>22.0</td>\n",
       "      <td>38.0</td>\n",
       "      <td>31.0</td>\n",
       "      <td>43.0</td>\n",
       "      <td>75.0</td>\n",
       "      <td>144.0</td>\n",
       "      <td>...</td>\n",
       "      <td>3.0</td>\n",
       "      <td>5.0</td>\n",
       "      <td>1.0</td>\n",
       "      <td>0.0</td>\n",
       "      <td>3.0</td>\n",
       "      <td>3.0</td>\n",
       "      <td>4.0</td>\n",
       "      <td>8.0</td>\n",
       "      <td>14.0</td>\n",
       "      <td>6.0</td>\n",
       "    </tr>\n",
       "    <tr>\n",
       "      <th>20-29</th>\n",
       "      <td>907.0</td>\n",
       "      <td>3471.0</td>\n",
       "      <td>3429.0</td>\n",
       "      <td>5881.0</td>\n",
       "      <td>6765.0</td>\n",
       "      <td>6559.0</td>\n",
       "      <td>7631.0</td>\n",
       "      <td>8975.0</td>\n",
       "      <td>8855.0</td>\n",
       "      <td>7445.0</td>\n",
       "      <td>...</td>\n",
       "      <td>293.0</td>\n",
       "      <td>684.0</td>\n",
       "      <td>386.0</td>\n",
       "      <td>394.0</td>\n",
       "      <td>346.0</td>\n",
       "      <td>225.0</td>\n",
       "      <td>384.0</td>\n",
       "      <td>715.0</td>\n",
       "      <td>900.0</td>\n",
       "      <td>942.0</td>\n",
       "    </tr>\n",
       "    <tr>\n",
       "      <th>30-39</th>\n",
       "      <td>1953.0</td>\n",
       "      <td>6835.0</td>\n",
       "      <td>6091.0</td>\n",
       "      <td>11971.0</td>\n",
       "      <td>13558.0</td>\n",
       "      <td>11220.0</td>\n",
       "      <td>14989.0</td>\n",
       "      <td>15293.0</td>\n",
       "      <td>13474.0</td>\n",
       "      <td>9905.0</td>\n",
       "      <td>...</td>\n",
       "      <td>473.0</td>\n",
       "      <td>721.0</td>\n",
       "      <td>460.0</td>\n",
       "      <td>505.0</td>\n",
       "      <td>445.0</td>\n",
       "      <td>352.0</td>\n",
       "      <td>546.0</td>\n",
       "      <td>835.0</td>\n",
       "      <td>1158.0</td>\n",
       "      <td>1253.0</td>\n",
       "    </tr>\n",
       "    <tr>\n",
       "      <th>40-49</th>\n",
       "      <td>2412.0</td>\n",
       "      <td>8352.0</td>\n",
       "      <td>7710.0</td>\n",
       "      <td>14451.0</td>\n",
       "      <td>16527.0</td>\n",
       "      <td>12773.0</td>\n",
       "      <td>18888.0</td>\n",
       "      <td>19424.0</td>\n",
       "      <td>16377.0</td>\n",
       "      <td>11423.0</td>\n",
       "      <td>...</td>\n",
       "      <td>610.0</td>\n",
       "      <td>834.0</td>\n",
       "      <td>690.0</td>\n",
       "      <td>713.0</td>\n",
       "      <td>584.0</td>\n",
       "      <td>457.0</td>\n",
       "      <td>704.0</td>\n",
       "      <td>1054.0</td>\n",
       "      <td>1492.0</td>\n",
       "      <td>1374.0</td>\n",
       "    </tr>\n",
       "    <tr>\n",
       "      <th>50-59</th>\n",
       "      <td>3177.0</td>\n",
       "      <td>10642.0</td>\n",
       "      <td>10026.0</td>\n",
       "      <td>19733.0</td>\n",
       "      <td>22777.0</td>\n",
       "      <td>17696.0</td>\n",
       "      <td>26197.0</td>\n",
       "      <td>26650.0</td>\n",
       "      <td>22397.0</td>\n",
       "      <td>15235.0</td>\n",
       "      <td>...</td>\n",
       "      <td>696.0</td>\n",
       "      <td>1091.0</td>\n",
       "      <td>911.0</td>\n",
       "      <td>898.0</td>\n",
       "      <td>833.0</td>\n",
       "      <td>682.0</td>\n",
       "      <td>945.0</td>\n",
       "      <td>1178.0</td>\n",
       "      <td>1725.0</td>\n",
       "      <td>1797.0</td>\n",
       "    </tr>\n",
       "    <tr>\n",
       "      <th>60-69</th>\n",
       "      <td>1673.0</td>\n",
       "      <td>6419.0</td>\n",
       "      <td>5905.0</td>\n",
       "      <td>11821.0</td>\n",
       "      <td>14002.0</td>\n",
       "      <td>11795.0</td>\n",
       "      <td>15333.0</td>\n",
       "      <td>15937.0</td>\n",
       "      <td>16876.0</td>\n",
       "      <td>10650.0</td>\n",
       "      <td>...</td>\n",
       "      <td>516.0</td>\n",
       "      <td>697.0</td>\n",
       "      <td>540.0</td>\n",
       "      <td>535.0</td>\n",
       "      <td>632.0</td>\n",
       "      <td>304.0</td>\n",
       "      <td>616.0</td>\n",
       "      <td>696.0</td>\n",
       "      <td>1057.0</td>\n",
       "      <td>1118.0</td>\n",
       "    </tr>\n",
       "    <tr>\n",
       "      <th>70-79</th>\n",
       "      <td>183.0</td>\n",
       "      <td>596.0</td>\n",
       "      <td>527.0</td>\n",
       "      <td>1102.0</td>\n",
       "      <td>1544.0</td>\n",
       "      <td>1688.0</td>\n",
       "      <td>2281.0</td>\n",
       "      <td>2641.0</td>\n",
       "      <td>3021.0</td>\n",
       "      <td>2210.0</td>\n",
       "      <td>...</td>\n",
       "      <td>339.0</td>\n",
       "      <td>375.0</td>\n",
       "      <td>275.0</td>\n",
       "      <td>286.0</td>\n",
       "      <td>189.0</td>\n",
       "      <td>84.0</td>\n",
       "      <td>306.0</td>\n",
       "      <td>287.0</td>\n",
       "      <td>491.0</td>\n",
       "      <td>384.0</td>\n",
       "    </tr>\n",
       "    <tr>\n",
       "      <th>80-89</th>\n",
       "      <td>281.0</td>\n",
       "      <td>801.0</td>\n",
       "      <td>596.0</td>\n",
       "      <td>1402.0</td>\n",
       "      <td>1840.0</td>\n",
       "      <td>1534.0</td>\n",
       "      <td>3023.0</td>\n",
       "      <td>3015.0</td>\n",
       "      <td>2915.0</td>\n",
       "      <td>1709.0</td>\n",
       "      <td>...</td>\n",
       "      <td>690.0</td>\n",
       "      <td>782.0</td>\n",
       "      <td>571.0</td>\n",
       "      <td>536.0</td>\n",
       "      <td>424.0</td>\n",
       "      <td>226.0</td>\n",
       "      <td>369.0</td>\n",
       "      <td>655.0</td>\n",
       "      <td>914.0</td>\n",
       "      <td>703.0</td>\n",
       "    </tr>\n",
       "    <tr>\n",
       "      <th>90+</th>\n",
       "      <td>325.0</td>\n",
       "      <td>750.0</td>\n",
       "      <td>531.0</td>\n",
       "      <td>1288.0</td>\n",
       "      <td>1779.0</td>\n",
       "      <td>1425.0</td>\n",
       "      <td>2753.0</td>\n",
       "      <td>2636.0</td>\n",
       "      <td>2424.0</td>\n",
       "      <td>1349.0</td>\n",
       "      <td>...</td>\n",
       "      <td>497.0</td>\n",
       "      <td>634.0</td>\n",
       "      <td>471.0</td>\n",
       "      <td>412.0</td>\n",
       "      <td>267.0</td>\n",
       "      <td>113.0</td>\n",
       "      <td>301.0</td>\n",
       "      <td>455.0</td>\n",
       "      <td>523.0</td>\n",
       "      <td>433.0</td>\n",
       "    </tr>\n",
       "  </tbody>\n",
       "</table>\n",
       "<p>9 rows × 35 columns</p>\n",
       "</div>"
      ],
      "text/plain": [
       "data_somministrazione  2021-01-01  2021-01-02  2021-01-03  2021-01-04  \\\n",
       "fascia_anagrafica                                                       \n",
       "16-19                         2.0        18.0         0.0        12.0   \n",
       "20-29                       907.0      3471.0      3429.0      5881.0   \n",
       "30-39                      1953.0      6835.0      6091.0     11971.0   \n",
       "40-49                      2412.0      8352.0      7710.0     14451.0   \n",
       "50-59                      3177.0     10642.0     10026.0     19733.0   \n",
       "60-69                      1673.0      6419.0      5905.0     11821.0   \n",
       "70-79                       183.0       596.0       527.0      1102.0   \n",
       "80-89                       281.0       801.0       596.0      1402.0   \n",
       "90+                         325.0       750.0       531.0      1288.0   \n",
       "\n",
       "data_somministrazione  2021-01-05  2021-01-06  2021-01-07  2021-01-08  \\\n",
       "fascia_anagrafica                                                       \n",
       "16-19                        22.0        38.0        31.0        43.0   \n",
       "20-29                      6765.0      6559.0      7631.0      8975.0   \n",
       "30-39                     13558.0     11220.0     14989.0     15293.0   \n",
       "40-49                     16527.0     12773.0     18888.0     19424.0   \n",
       "50-59                     22777.0     17696.0     26197.0     26650.0   \n",
       "60-69                     14002.0     11795.0     15333.0     15937.0   \n",
       "70-79                      1544.0      1688.0      2281.0      2641.0   \n",
       "80-89                      1840.0      1534.0      3023.0      3015.0   \n",
       "90+                        1779.0      1425.0      2753.0      2636.0   \n",
       "\n",
       "data_somministrazione  2021-01-09  2021-01-10  ...  2021-01-26  2021-01-27  \\\n",
       "fascia_anagrafica                              ...                           \n",
       "16-19                        75.0       144.0  ...         3.0         5.0   \n",
       "20-29                      8855.0      7445.0  ...       293.0       684.0   \n",
       "30-39                     13474.0      9905.0  ...       473.0       721.0   \n",
       "40-49                     16377.0     11423.0  ...       610.0       834.0   \n",
       "50-59                     22397.0     15235.0  ...       696.0      1091.0   \n",
       "60-69                     16876.0     10650.0  ...       516.0       697.0   \n",
       "70-79                      3021.0      2210.0  ...       339.0       375.0   \n",
       "80-89                      2915.0      1709.0  ...       690.0       782.0   \n",
       "90+                        2424.0      1349.0  ...       497.0       634.0   \n",
       "\n",
       "data_somministrazione  2021-01-28  2021-01-29  2021-01-30  2021-01-31  \\\n",
       "fascia_anagrafica                                                       \n",
       "16-19                         1.0         0.0         3.0         3.0   \n",
       "20-29                       386.0       394.0       346.0       225.0   \n",
       "30-39                       460.0       505.0       445.0       352.0   \n",
       "40-49                       690.0       713.0       584.0       457.0   \n",
       "50-59                       911.0       898.0       833.0       682.0   \n",
       "60-69                       540.0       535.0       632.0       304.0   \n",
       "70-79                       275.0       286.0       189.0        84.0   \n",
       "80-89                       571.0       536.0       424.0       226.0   \n",
       "90+                         471.0       412.0       267.0       113.0   \n",
       "\n",
       "data_somministrazione  2021-02-01  2021-02-02  2021-02-03  2021-02-04  \n",
       "fascia_anagrafica                                                      \n",
       "16-19                         4.0         8.0        14.0         6.0  \n",
       "20-29                       384.0       715.0       900.0       942.0  \n",
       "30-39                       546.0       835.0      1158.0      1253.0  \n",
       "40-49                       704.0      1054.0      1492.0      1374.0  \n",
       "50-59                       945.0      1178.0      1725.0      1797.0  \n",
       "60-69                       616.0       696.0      1057.0      1118.0  \n",
       "70-79                       306.0       287.0       491.0       384.0  \n",
       "80-89                       369.0       655.0       914.0       703.0  \n",
       "90+                         301.0       455.0       523.0       433.0  \n",
       "\n",
       "[9 rows x 35 columns]"
      ]
     },
     "execution_count": 1173,
     "metadata": {},
     "output_type": "execute_result"
    }
   ],
   "source": [
    "df_pivot = (df.groupby(['data_somministrazione','fascia_anagrafica'])['prima_dose','seconda_dose'].sum().reset_index(level=0).\n",
    " pivot(columns='data_somministrazione', values='prima_dose').fillna(0))\n",
    "df_pivot"
   ]
  },
  {
   "cell_type": "code",
   "execution_count": 1174,
   "metadata": {},
   "outputs": [
    {
     "data": {
      "text/plain": [
       "<matplotlib.axes._subplots.AxesSubplot at 0x7fc2facfe210>"
      ]
     },
     "execution_count": 1174,
     "metadata": {},
     "output_type": "execute_result"
    },
    {
     "data": {
      "image/png": "[encoded data removed]",
      "text/plain": [
       "<Figure size 1080x576 with 2 Axes>"
      ]
     },
     "metadata": {},
     "output_type": "display_data"
    }
   ],
   "source": [
    "\n",
    "plt.figure(figsize=(15,8))\n",
    "sns.heatmap(df_pivot, cmap='coolwarm', linecolor='white', linewidths=0.1)"
   ]
  },
  {
   "cell_type": "code",
   "execution_count": 1175,
   "metadata": {},
   "outputs": [],
   "source": [
    "daily = df.groupby('data_somministrazione')['prima_dose'].sum().reset_index()\n",
    "df = df.merge(daily, left_on='data_somministrazione', right_on='data_somministrazione', how='inner', \n",
    "        suffixes=['','_totale_giorno'])"
   ]
  },
  {
   "cell_type": "markdown",
   "metadata": {},
   "source": [
    "I need to groupby before calculating percentage as they are labelled by region as well"
   ]
  },
  {
   "cell_type": "code",
   "execution_count": 1176,
   "metadata": {},
   "outputs": [],
   "source": [
    "df1 = df.groupby(['data_somministrazione', 'fascia_anagrafica'])['prima_dose'].sum().reset_index(level=1).fillna(0)"
   ]
  },
  {
   "cell_type": "code",
   "execution_count": 1177,
   "metadata": {},
   "outputs": [],
   "source": [
    "df1 = df1.merge(daily, left_on='data_somministrazione', right_on='data_somministrazione', how='inner', \n",
    "        suffixes=['','_totale_giorno']).fillna(0)"
   ]
  },
  {
   "cell_type": "code",
   "execution_count": 1178,
   "metadata": {},
   "outputs": [],
   "source": [
    "df1['perc_tot_somministrati'] = (df1.prima_dose/df1.prima_dose_totale_giorno).mul(100).round(0)"
   ]
  },
  {
   "cell_type": "code",
   "execution_count": 1179,
   "metadata": {},
   "outputs": [],
   "source": [
    "df1.data_somministrazione = df1.data_somministrazione.dt.strftime(\"%d-%m-%Y\")\n",
    "df1_pivot = df1.pivot(columns='data_somministrazione',index='fascia_anagrafica',values='perc_tot_somministrati').sort_index(ascending=False)"
   ]
  },
  {
   "cell_type": "code",
   "execution_count": null,
   "metadata": {},
   "outputs": [],
   "source": []
  },
  {
   "cell_type": "code",
   "execution_count": 1180,
   "metadata": {},
   "outputs": [
    {
     "data": {
      "image/png": "[encoded data removed]",
      "text/plain": [
       "<Figure size 1080x576 with 1 Axes>"
      ]
     },
     "metadata": {},
     "output_type": "display_data"
    }
   ],
   "source": [
    "plt.figure(figsize=(15,8))\n",
    "sns.heatmap(df1_pivot, cmap='Blues'\n",
    ",annot=True, linecolor='black', linewidths=0.01, cbar=False, fmt='g')\n",
    "plt.ylabel('')\n",
    "plt.yticks(rotation=0, )\n",
    "plt.suptitle('Percentuale Somministrata sul Totale Giornaliero', fontsize=20)\n",
    "plt.title('Elaborazione: @TomZ_UK - Dati: ISS')\n",
    "\n",
    "plt.savefig('percentuale_totale_HM.png')"
   ]
  },
  {
   "cell_type": "markdown",
   "metadata": {},
   "source": [
    "# Analisi Popolazione\n",
    "Percentuale somministrazioni sul totale popolazione divisa per gruppi anagrafici"
   ]
  },
  {
   "cell_type": "code",
   "execution_count": 1181,
   "metadata": {},
   "outputs": [
    {
     "data": {
      "text/html": [
       "<div>\n",
       "<style scoped>\n",
       "    .dataframe tbody tr th:only-of-type {\n",
       "        vertical-align: middle;\n",
       "    }\n",
       "\n",
       "    .dataframe tbody tr th {\n",
       "        vertical-align: top;\n",
       "    }\n",
       "\n",
       "    .dataframe thead tr th {\n",
       "        text-align: left;\n",
       "    }\n",
       "</style>\n",
       "<table border=\"1\" class=\"dataframe\">\n",
       "  <thead>\n",
       "    <tr>\n",
       "      <th></th>\n",
       "      <th>Età</th>\n",
       "      <th>Celibi/Nubili</th>\n",
       "      <th>Coniugati/e</th>\n",
       "      <th>Vedovi/e</th>\n",
       "      <th>Divorziati/e</th>\n",
       "      <th>Maschi</th>\n",
       "      <th>Femmine</th>\n",
       "      <th colspan=\"2\" halign=\"left\">Totale</th>\n",
       "    </tr>\n",
       "    <tr>\n",
       "      <th></th>\n",
       "      <th>Età</th>\n",
       "      <th>Celibi/Nubili</th>\n",
       "      <th>Coniugati/e</th>\n",
       "      <th>Vedovi/e</th>\n",
       "      <th>Divorziati/e</th>\n",
       "      <th>Maschi</th>\n",
       "      <th>Femmine</th>\n",
       "      <th>Unnamed: 7_level_1</th>\n",
       "      <th>%</th>\n",
       "    </tr>\n",
       "  </thead>\n",
       "  <tbody>\n",
       "    <tr>\n",
       "      <th>0</th>\n",
       "      <td>0-4</td>\n",
       "      <td>2.264.538</td>\n",
       "      <td>0</td>\n",
       "      <td>0</td>\n",
       "      <td>0</td>\n",
       "      <td>1.163.19851,4%</td>\n",
       "      <td>1.101.34048,6%</td>\n",
       "      <td>2.264.538</td>\n",
       "      <td>3,8%</td>\n",
       "    </tr>\n",
       "    <tr>\n",
       "      <th>1</th>\n",
       "      <td>5-9</td>\n",
       "      <td>2.627.956</td>\n",
       "      <td>0</td>\n",
       "      <td>0</td>\n",
       "      <td>0</td>\n",
       "      <td>1.352.24051,5%</td>\n",
       "      <td>1.275.71648,5%</td>\n",
       "      <td>2.627.956</td>\n",
       "      <td>4,4%</td>\n",
       "    </tr>\n",
       "    <tr>\n",
       "      <th>2</th>\n",
       "      <td>10-14</td>\n",
       "      <td>2.835.060</td>\n",
       "      <td>0</td>\n",
       "      <td>0</td>\n",
       "      <td>0</td>\n",
       "      <td>1.460.44951,5%</td>\n",
       "      <td>1.374.61148,5%</td>\n",
       "      <td>2.835.060</td>\n",
       "      <td>4,8%</td>\n",
       "    </tr>\n",
       "    <tr>\n",
       "      <th>3</th>\n",
       "      <td>15-19</td>\n",
       "      <td>2.868.948</td>\n",
       "      <td>2.004</td>\n",
       "      <td>21</td>\n",
       "      <td>83</td>\n",
       "      <td>1.485.46551,7%</td>\n",
       "      <td>1.385.59148,3%</td>\n",
       "      <td>2.871.056</td>\n",
       "      <td>4,8%</td>\n",
       "    </tr>\n",
       "    <tr>\n",
       "      <th>4</th>\n",
       "      <td>20-24</td>\n",
       "      <td>2.890.840</td>\n",
       "      <td>64.253</td>\n",
       "      <td>127</td>\n",
       "      <td>668</td>\n",
       "      <td>1.549.02052,4%</td>\n",
       "      <td>1.406.86847,6%</td>\n",
       "      <td>2.955.888</td>\n",
       "      <td>5,0%</td>\n",
       "    </tr>\n",
       "    <tr>\n",
       "      <th>5</th>\n",
       "      <td>25-29</td>\n",
       "      <td>2.714.681</td>\n",
       "      <td>407.555</td>\n",
       "      <td>630</td>\n",
       "      <td>5.628</td>\n",
       "      <td>1.605.44451,3%</td>\n",
       "      <td>1.523.05048,7%</td>\n",
       "      <td>3.128.494</td>\n",
       "      <td>5,2%</td>\n",
       "    </tr>\n",
       "    <tr>\n",
       "      <th>6</th>\n",
       "      <td>30-34</td>\n",
       "      <td>2.084.313</td>\n",
       "      <td>1.169.221</td>\n",
       "      <td>2.418</td>\n",
       "      <td>26.489</td>\n",
       "      <td>1.658.74950,5%</td>\n",
       "      <td>1.623.69249,5%</td>\n",
       "      <td>3.282.441</td>\n",
       "      <td>5,5%</td>\n",
       "    </tr>\n",
       "    <tr>\n",
       "      <th>7</th>\n",
       "      <td>35-39</td>\n",
       "      <td>1.577.289</td>\n",
       "      <td>1.915.487</td>\n",
       "      <td>7.282</td>\n",
       "      <td>72.133</td>\n",
       "      <td>1.792.98150,2%</td>\n",
       "      <td>1.779.21049,8%</td>\n",
       "      <td>3.572.191</td>\n",
       "      <td>6,0%</td>\n",
       "    </tr>\n",
       "    <tr>\n",
       "      <th>8</th>\n",
       "      <td>40-44</td>\n",
       "      <td>1.393.337</td>\n",
       "      <td>2.620.552</td>\n",
       "      <td>18.957</td>\n",
       "      <td>154.618</td>\n",
       "      <td>2.089.19849,9%</td>\n",
       "      <td>2.098.26650,1%</td>\n",
       "      <td>4.187.464</td>\n",
       "      <td>7,0%</td>\n",
       "    </tr>\n",
       "    <tr>\n",
       "      <th>9</th>\n",
       "      <td>45-49</td>\n",
       "      <td>1.211.484</td>\n",
       "      <td>3.236.400</td>\n",
       "      <td>42.592</td>\n",
       "      <td>259.289</td>\n",
       "      <td>2.356.80049,6%</td>\n",
       "      <td>2.392.96550,4%</td>\n",
       "      <td>4.749.765</td>\n",
       "      <td>8,0%</td>\n",
       "    </tr>\n",
       "    <tr>\n",
       "      <th>10</th>\n",
       "      <td>50-54</td>\n",
       "      <td>914.381</td>\n",
       "      <td>3.545.692</td>\n",
       "      <td>84.717</td>\n",
       "      <td>331.914</td>\n",
       "      <td>2.404.14449,3%</td>\n",
       "      <td>2.472.56050,7%</td>\n",
       "      <td>4.876.704</td>\n",
       "      <td>8,2%</td>\n",
       "    </tr>\n",
       "    <tr>\n",
       "      <th>11</th>\n",
       "      <td>55-59</td>\n",
       "      <td>626.453</td>\n",
       "      <td>3.439.662</td>\n",
       "      <td>147.926</td>\n",
       "      <td>323.450</td>\n",
       "      <td>2.213.00848,8%</td>\n",
       "      <td>2.324.48351,2%</td>\n",
       "      <td>4.537.491</td>\n",
       "      <td>7,6%</td>\n",
       "    </tr>\n",
       "    <tr>\n",
       "      <th>12</th>\n",
       "      <td>60-64</td>\n",
       "      <td>411.731</td>\n",
       "      <td>3.006.985</td>\n",
       "      <td>230.387</td>\n",
       "      <td>244.247</td>\n",
       "      <td>1.874.92248,2%</td>\n",
       "      <td>2.018.42851,8%</td>\n",
       "      <td>3.893.350</td>\n",
       "      <td>6,5%</td>\n",
       "    </tr>\n",
       "    <tr>\n",
       "      <th>13</th>\n",
       "      <td>65-69</td>\n",
       "      <td>286.807</td>\n",
       "      <td>2.663.542</td>\n",
       "      <td>348.074</td>\n",
       "      <td>172.591</td>\n",
       "      <td>1.652.74047,6%</td>\n",
       "      <td>1.818.27452,4%</td>\n",
       "      <td>3.471.014</td>\n",
       "      <td>5,8%</td>\n",
       "    </tr>\n",
       "    <tr>\n",
       "      <th>14</th>\n",
       "      <td>70-74</td>\n",
       "      <td>225.584</td>\n",
       "      <td>2.429.874</td>\n",
       "      <td>544.701</td>\n",
       "      <td>124.201</td>\n",
       "      <td>1.555.30646,8%</td>\n",
       "      <td>1.769.05453,2%</td>\n",
       "      <td>3.324.360</td>\n",
       "      <td>5,6%</td>\n",
       "    </tr>\n",
       "    <tr>\n",
       "      <th>15</th>\n",
       "      <td>75-79</td>\n",
       "      <td>170.300</td>\n",
       "      <td>1.701.425</td>\n",
       "      <td>701.606</td>\n",
       "      <td>70.682</td>\n",
       "      <td>1.181.23344,7%</td>\n",
       "      <td>1.462.78055,3%</td>\n",
       "      <td>2.644.013</td>\n",
       "      <td>4,4%</td>\n",
       "    </tr>\n",
       "    <tr>\n",
       "      <th>16</th>\n",
       "      <td>80-84</td>\n",
       "      <td>140.403</td>\n",
       "      <td>1.162.123</td>\n",
       "      <td>888.727</td>\n",
       "      <td>40.283</td>\n",
       "      <td>930.78741,7%</td>\n",
       "      <td>1.300.74958,3%</td>\n",
       "      <td>2.231.536</td>\n",
       "      <td>3,7%</td>\n",
       "    </tr>\n",
       "    <tr>\n",
       "      <th>17</th>\n",
       "      <td>85-89</td>\n",
       "      <td>93.445</td>\n",
       "      <td>500.696</td>\n",
       "      <td>785.500</td>\n",
       "      <td>16.983</td>\n",
       "      <td>507.80936,4%</td>\n",
       "      <td>888.81563,6%</td>\n",
       "      <td>1.396.624</td>\n",
       "      <td>2,3%</td>\n",
       "    </tr>\n",
       "    <tr>\n",
       "      <th>18</th>\n",
       "      <td>90-94</td>\n",
       "      <td>46.534</td>\n",
       "      <td>129.439</td>\n",
       "      <td>434.772</td>\n",
       "      <td>5.615</td>\n",
       "      <td>179.13029,1%</td>\n",
       "      <td>437.23070,9%</td>\n",
       "      <td>616.360</td>\n",
       "      <td>1,0%</td>\n",
       "    </tr>\n",
       "    <tr>\n",
       "      <th>19</th>\n",
       "      <td>95-99</td>\n",
       "      <td>13.552</td>\n",
       "      <td>16.437</td>\n",
       "      <td>129.152</td>\n",
       "      <td>1.238</td>\n",
       "      <td>35.14121,9%</td>\n",
       "      <td>125.23878,1%</td>\n",
       "      <td>160.379</td>\n",
       "      <td>0,3%</td>\n",
       "    </tr>\n",
       "    <tr>\n",
       "      <th>20</th>\n",
       "      <td>100+</td>\n",
       "      <td>1.556</td>\n",
       "      <td>836</td>\n",
       "      <td>12.307</td>\n",
       "      <td>105</td>\n",
       "      <td>2.33215,8%</td>\n",
       "      <td>12.47284,2%</td>\n",
       "      <td>14.804</td>\n",
       "      <td>0,0%</td>\n",
       "    </tr>\n",
       "    <tr>\n",
       "      <th>21</th>\n",
       "      <td>Totale</td>\n",
       "      <td>25.399.192</td>\n",
       "      <td>28.012.183</td>\n",
       "      <td>4.379.896</td>\n",
       "      <td>1.850.217</td>\n",
       "      <td>29.050.09648,7%</td>\n",
       "      <td>30.591.39251,3%</td>\n",
       "      <td>59.641.488</td>\n",
       "      <td>100,0%</td>\n",
       "    </tr>\n",
       "  </tbody>\n",
       "</table>\n",
       "</div>"
      ],
      "text/plain": [
       "       Età Celibi/Nubili Coniugati/e   Vedovi/e Divorziati/e           Maschi  \\\n",
       "       Età Celibi/Nubili Coniugati/e   Vedovi/e Divorziati/e           Maschi   \n",
       "0      0-4     2.264.538           0          0            0   1.163.19851,4%   \n",
       "1      5-9     2.627.956           0          0            0   1.352.24051,5%   \n",
       "2    10-14     2.835.060           0          0            0   1.460.44951,5%   \n",
       "3    15-19     2.868.948       2.004         21           83   1.485.46551,7%   \n",
       "4    20-24     2.890.840      64.253        127          668   1.549.02052,4%   \n",
       "5    25-29     2.714.681     407.555        630        5.628   1.605.44451,3%   \n",
       "6    30-34     2.084.313   1.169.221      2.418       26.489   1.658.74950,5%   \n",
       "7    35-39     1.577.289   1.915.487      7.282       72.133   1.792.98150,2%   \n",
       "8    40-44     1.393.337   2.620.552     18.957      154.618   2.089.19849,9%   \n",
       "9    45-49     1.211.484   3.236.400     42.592      259.289   2.356.80049,6%   \n",
       "10   50-54       914.381   3.545.692     84.717      331.914   2.404.14449,3%   \n",
       "11   55-59       626.453   3.439.662    147.926      323.450   2.213.00848,8%   \n",
       "12   60-64       411.731   3.006.985    230.387      244.247   1.874.92248,2%   \n",
       "13   65-69       286.807   2.663.542    348.074      172.591   1.652.74047,6%   \n",
       "14   70-74       225.584   2.429.874    544.701      124.201   1.555.30646,8%   \n",
       "15   75-79       170.300   1.701.425    701.606       70.682   1.181.23344,7%   \n",
       "16   80-84       140.403   1.162.123    888.727       40.283     930.78741,7%   \n",
       "17   85-89        93.445     500.696    785.500       16.983     507.80936,4%   \n",
       "18   90-94        46.534     129.439    434.772        5.615     179.13029,1%   \n",
       "19   95-99        13.552      16.437    129.152        1.238      35.14121,9%   \n",
       "20    100+         1.556         836     12.307          105       2.33215,8%   \n",
       "21  Totale    25.399.192  28.012.183  4.379.896    1.850.217  29.050.09648,7%   \n",
       "\n",
       "            Femmine             Totale          \n",
       "            Femmine Unnamed: 7_level_1       %  \n",
       "0    1.101.34048,6%          2.264.538    3,8%  \n",
       "1    1.275.71648,5%          2.627.956    4,4%  \n",
       "2    1.374.61148,5%          2.835.060    4,8%  \n",
       "3    1.385.59148,3%          2.871.056    4,8%  \n",
       "4    1.406.86847,6%          2.955.888    5,0%  \n",
       "5    1.523.05048,7%          3.128.494    5,2%  \n",
       "6    1.623.69249,5%          3.282.441    5,5%  \n",
       "7    1.779.21049,8%          3.572.191    6,0%  \n",
       "8    2.098.26650,1%          4.187.464    7,0%  \n",
       "9    2.392.96550,4%          4.749.765    8,0%  \n",
       "10   2.472.56050,7%          4.876.704    8,2%  \n",
       "11   2.324.48351,2%          4.537.491    7,6%  \n",
       "12   2.018.42851,8%          3.893.350    6,5%  \n",
       "13   1.818.27452,4%          3.471.014    5,8%  \n",
       "14   1.769.05453,2%          3.324.360    5,6%  \n",
       "15   1.462.78055,3%          2.644.013    4,4%  \n",
       "16   1.300.74958,3%          2.231.536    3,7%  \n",
       "17     888.81563,6%          1.396.624    2,3%  \n",
       "18     437.23070,9%            616.360    1,0%  \n",
       "19     125.23878,1%            160.379    0,3%  \n",
       "20      12.47284,2%             14.804    0,0%  \n",
       "21  30.591.39251,3%         59.641.488  100,0%  "
      ]
     },
     "execution_count": 1181,
     "metadata": {},
     "output_type": "execute_result"
    }
   ],
   "source": [
    "pd.read_html('https://www.tuttitalia.it/statistiche/popolazione-eta-sesso-stato-civile-2020/')[0]\n"
   ]
  },
  {
   "cell_type": "code",
   "execution_count": 1182,
   "metadata": {},
   "outputs": [
    {
     "data": {
      "text/html": [
       "<div>\n",
       "<style scoped>\n",
       "    .dataframe tbody tr th:only-of-type {\n",
       "        vertical-align: middle;\n",
       "    }\n",
       "\n",
       "    .dataframe tbody tr th {\n",
       "        vertical-align: top;\n",
       "    }\n",
       "\n",
       "    .dataframe thead th {\n",
       "        text-align: right;\n",
       "    }\n",
       "</style>\n",
       "<table border=\"1\" class=\"dataframe\">\n",
       "  <thead>\n",
       "    <tr style=\"text-align: right;\">\n",
       "      <th></th>\n",
       "      <th>Età</th>\n",
       "      <th>Totale</th>\n",
       "    </tr>\n",
       "  </thead>\n",
       "  <tbody>\n",
       "    <tr>\n",
       "      <th>96</th>\n",
       "      <td>96 anni</td>\n",
       "      <td>30447</td>\n",
       "    </tr>\n",
       "    <tr>\n",
       "      <th>97</th>\n",
       "      <td>97 anni</td>\n",
       "      <td>22450</td>\n",
       "    </tr>\n",
       "    <tr>\n",
       "      <th>98</th>\n",
       "      <td>98 anni</td>\n",
       "      <td>15624</td>\n",
       "    </tr>\n",
       "    <tr>\n",
       "      <th>99</th>\n",
       "      <td>99 anni</td>\n",
       "      <td>10192</td>\n",
       "    </tr>\n",
       "    <tr>\n",
       "      <th>100</th>\n",
       "      <td>100 anni e più</td>\n",
       "      <td>15080</td>\n",
       "    </tr>\n",
       "  </tbody>\n",
       "</table>\n",
       "</div>"
      ],
      "text/plain": [
       "                Età  Totale\n",
       "96          96 anni   30447\n",
       "97          97 anni   22450\n",
       "98          98 anni   15624\n",
       "99          99 anni   10192\n",
       "100  100 anni e più   15080"
      ]
     },
     "execution_count": 1182,
     "metadata": {},
     "output_type": "execute_result"
    }
   ],
   "source": [
    "pop = pd.read_html('https://it.wikipedia.org/wiki/Demografia_d%27Italia', thousands='.')[11]\n",
    "pop = pop[['Età', 'Totale']]\n",
    "pop.drop(index=101, axis=0, inplace=True)\n",
    "pop.Totale = pd.to_numeric(pop.Totale)\n",
    "pop.tail()"
   ]
  },
  {
   "cell_type": "code",
   "execution_count": 1183,
   "metadata": {},
   "outputs": [],
   "source": [
    "pop['Età'] = pd.to_numeric(pop['Età'].str.split(' ', expand=True)[0])"
   ]
  },
  {
   "cell_type": "code",
   "execution_count": 1184,
   "metadata": {},
   "outputs": [],
   "source": [
    "def ages(s):\n",
    "    if (s['Età'] >= 0 and s['Età'] < 16):\n",
    "        return '0-16'\n",
    "    elif (s['Età'] >= 16 and s['Età'] <= 19):\n",
    "        return '16-19'\n",
    "    elif (s['Età'] >= 20 and s['Età'] <= 29):\n",
    "        return '20-29'\n",
    "    elif (s['Età'] >= 30 and s['Età'] <= 39):\n",
    "        return '30-39'\n",
    "    elif (s['Età'] >= 40 and s['Età'] <= 49):\n",
    "        return '40-49'\n",
    "    elif (s['Età'] >= 50 and s['Età'] <= 59):\n",
    "        return '50-59'\n",
    "    elif (s['Età'] >= 60 and s['Età'] <= 69):\n",
    "        return '60-69'\n",
    "    elif (s['Età'] >= 70 and s['Età'] <= 79):\n",
    "        return '70-79'\n",
    "    elif (s['Età'] >= 80 and s['Età'] <= 89):\n",
    "        return '80-89'\n",
    "    elif s['Età'] >= 90:\n",
    "        return '90+'"
   ]
  },
  {
   "cell_type": "markdown",
   "metadata": {},
   "source": [
    "def regrouping(s):\n",
    "    if s['Età'] >= 0 | s['Età'] < 16:\n",
    "        return '0-16'\n",
    "    elif s['Età'] >= 16 | s['Età'] <= 19:\n",
    "        return '16-19'\n",
    "    elif s['Età'] >= 20 | s['Età'] <= 29:\n",
    "        return '20-29'\n",
    "    elif s['Età'] >= 30 | s['Età'] <= 39:\n",
    "        return '30-39'\n",
    "    elif s['Età'] >= 40 | s['Età'] <= 49:\n",
    "        return '40-49'\n",
    "    elif s['Età'] >= 50 | s['Età'] <= 59:\n",
    "        return '50-59'\n",
    "    elif s['Età'] >= 60 | s['Età'] <= 69:\n",
    "        return '60-69'\n",
    "    elif s['Età'] >= 70 | s['Età'] <= 79:\n",
    "        return '70-79'\n",
    "    elif s['Età'] >= 80 | s['Età'] <= 89:\n",
    "        return '80-89'\n",
    "    elif s['Età'] >= 90:\n",
    "        return '90+'"
   ]
  },
  {
   "cell_type": "code",
   "execution_count": 1185,
   "metadata": {},
   "outputs": [],
   "source": [
    "\n",
    "pop['gruppo'] = pop.apply(ages, axis=1)"
   ]
  },
  {
   "cell_type": "code",
   "execution_count": 1186,
   "metadata": {},
   "outputs": [
    {
     "data": {
      "text/html": [
       "<div>\n",
       "<style scoped>\n",
       "    .dataframe tbody tr th:only-of-type {\n",
       "        vertical-align: middle;\n",
       "    }\n",
       "\n",
       "    .dataframe tbody tr th {\n",
       "        vertical-align: top;\n",
       "    }\n",
       "\n",
       "    .dataframe thead th {\n",
       "        text-align: right;\n",
       "    }\n",
       "</style>\n",
       "<table border=\"1\" class=\"dataframe\">\n",
       "  <thead>\n",
       "    <tr style=\"text-align: right;\">\n",
       "      <th></th>\n",
       "      <th>Età</th>\n",
       "      <th>Totale</th>\n",
       "      <th>gruppo</th>\n",
       "    </tr>\n",
       "  </thead>\n",
       "  <tbody>\n",
       "    <tr>\n",
       "      <th>0</th>\n",
       "      <td>0</td>\n",
       "      <td>532991</td>\n",
       "      <td>0-16</td>\n",
       "    </tr>\n",
       "    <tr>\n",
       "      <th>1</th>\n",
       "      <td>1</td>\n",
       "      <td>542019</td>\n",
       "      <td>0-16</td>\n",
       "    </tr>\n",
       "    <tr>\n",
       "      <th>2</th>\n",
       "      <td>2</td>\n",
       "      <td>553729</td>\n",
       "      <td>0-16</td>\n",
       "    </tr>\n",
       "    <tr>\n",
       "      <th>3</th>\n",
       "      <td>3</td>\n",
       "      <td>561994</td>\n",
       "      <td>0-16</td>\n",
       "    </tr>\n",
       "    <tr>\n",
       "      <th>4</th>\n",
       "      <td>4</td>\n",
       "      <td>559203</td>\n",
       "      <td>0-16</td>\n",
       "    </tr>\n",
       "    <tr>\n",
       "      <th>...</th>\n",
       "      <td>...</td>\n",
       "      <td>...</td>\n",
       "      <td>...</td>\n",
       "    </tr>\n",
       "    <tr>\n",
       "      <th>96</th>\n",
       "      <td>96</td>\n",
       "      <td>30447</td>\n",
       "      <td>90+</td>\n",
       "    </tr>\n",
       "    <tr>\n",
       "      <th>97</th>\n",
       "      <td>97</td>\n",
       "      <td>22450</td>\n",
       "      <td>90+</td>\n",
       "    </tr>\n",
       "    <tr>\n",
       "      <th>98</th>\n",
       "      <td>98</td>\n",
       "      <td>15624</td>\n",
       "      <td>90+</td>\n",
       "    </tr>\n",
       "    <tr>\n",
       "      <th>99</th>\n",
       "      <td>99</td>\n",
       "      <td>10192</td>\n",
       "      <td>90+</td>\n",
       "    </tr>\n",
       "    <tr>\n",
       "      <th>100</th>\n",
       "      <td>100</td>\n",
       "      <td>15080</td>\n",
       "      <td>90+</td>\n",
       "    </tr>\n",
       "  </tbody>\n",
       "</table>\n",
       "<p>101 rows × 3 columns</p>\n",
       "</div>"
      ],
      "text/plain": [
       "     Età  Totale gruppo\n",
       "0      0  532991   0-16\n",
       "1      1  542019   0-16\n",
       "2      2  553729   0-16\n",
       "3      3  561994   0-16\n",
       "4      4  559203   0-16\n",
       "..   ...     ...    ...\n",
       "96    96   30447    90+\n",
       "97    97   22450    90+\n",
       "98    98   15624    90+\n",
       "99    99   10192    90+\n",
       "100  100   15080    90+\n",
       "\n",
       "[101 rows x 3 columns]"
      ]
     },
     "execution_count": 1186,
     "metadata": {},
     "output_type": "execute_result"
    }
   ],
   "source": [
    "pop"
   ]
  },
  {
   "cell_type": "code",
   "execution_count": 1187,
   "metadata": {},
   "outputs": [],
   "source": [
    "pop = pop.groupby('gruppo')['Totale'].sum().reset_index()\n",
    "pop.gruppo = pop.gruppo.astype(str)"
   ]
  },
  {
   "cell_type": "code",
   "execution_count": 1188,
   "metadata": {},
   "outputs": [
    {
     "data": {
      "text/html": [
       "<div>\n",
       "<style scoped>\n",
       "    .dataframe tbody tr th:only-of-type {\n",
       "        vertical-align: middle;\n",
       "    }\n",
       "\n",
       "    .dataframe tbody tr th {\n",
       "        vertical-align: top;\n",
       "    }\n",
       "\n",
       "    .dataframe thead th {\n",
       "        text-align: right;\n",
       "    }\n",
       "</style>\n",
       "<table border=\"1\" class=\"dataframe\">\n",
       "  <thead>\n",
       "    <tr style=\"text-align: right;\">\n",
       "      <th></th>\n",
       "      <th>gruppo</th>\n",
       "      <th>Totale</th>\n",
       "    </tr>\n",
       "  </thead>\n",
       "  <tbody>\n",
       "    <tr>\n",
       "      <th>0</th>\n",
       "      <td>0-16</td>\n",
       "      <td>8885150</td>\n",
       "    </tr>\n",
       "    <tr>\n",
       "      <th>1</th>\n",
       "      <td>16-19</td>\n",
       "      <td>2310358</td>\n",
       "    </tr>\n",
       "    <tr>\n",
       "      <th>2</th>\n",
       "      <td>20-29</td>\n",
       "      <td>6327883</td>\n",
       "    </tr>\n",
       "    <tr>\n",
       "      <th>3</th>\n",
       "      <td>30-39</td>\n",
       "      <td>8345554</td>\n",
       "    </tr>\n",
       "    <tr>\n",
       "      <th>4</th>\n",
       "      <td>40-49</td>\n",
       "      <td>9567872</td>\n",
       "    </tr>\n",
       "    <tr>\n",
       "      <th>5</th>\n",
       "      <td>50-59</td>\n",
       "      <td>7871829</td>\n",
       "    </tr>\n",
       "    <tr>\n",
       "      <th>6</th>\n",
       "      <td>60-69</td>\n",
       "      <td>6860158</td>\n",
       "    </tr>\n",
       "    <tr>\n",
       "      <th>7</th>\n",
       "      <td>70-79</td>\n",
       "      <td>5628974</td>\n",
       "    </tr>\n",
       "    <tr>\n",
       "      <th>8</th>\n",
       "      <td>80-89</td>\n",
       "      <td>3117811</td>\n",
       "    </tr>\n",
       "    <tr>\n",
       "      <th>9</th>\n",
       "      <td>90+</td>\n",
       "      <td>518155</td>\n",
       "    </tr>\n",
       "  </tbody>\n",
       "</table>\n",
       "</div>"
      ],
      "text/plain": [
       "  gruppo   Totale\n",
       "0   0-16  8885150\n",
       "1  16-19  2310358\n",
       "2  20-29  6327883\n",
       "3  30-39  8345554\n",
       "4  40-49  9567872\n",
       "5  50-59  7871829\n",
       "6  60-69  6860158\n",
       "7  70-79  5628974\n",
       "8  80-89  3117811\n",
       "9    90+   518155"
      ]
     },
     "execution_count": 1188,
     "metadata": {},
     "output_type": "execute_result"
    }
   ],
   "source": [
    "pop"
   ]
  },
  {
   "cell_type": "code",
   "execution_count": 1189,
   "metadata": {},
   "outputs": [
    {
     "data": {
      "text/html": [
       "<div>\n",
       "<style scoped>\n",
       "    .dataframe tbody tr th:only-of-type {\n",
       "        vertical-align: middle;\n",
       "    }\n",
       "\n",
       "    .dataframe tbody tr th {\n",
       "        vertical-align: top;\n",
       "    }\n",
       "\n",
       "    .dataframe thead th {\n",
       "        text-align: right;\n",
       "    }\n",
       "</style>\n",
       "<table border=\"1\" class=\"dataframe\">\n",
       "  <thead>\n",
       "    <tr style=\"text-align: right;\">\n",
       "      <th></th>\n",
       "      <th>data_somministrazione</th>\n",
       "      <th>fascia_anagrafica</th>\n",
       "      <th>prima_dose</th>\n",
       "      <th>prima_dose_totale_giorno</th>\n",
       "      <th>perc_tot_somministrati</th>\n",
       "      <th>totale_fascia</th>\n",
       "    </tr>\n",
       "  </thead>\n",
       "  <tbody>\n",
       "    <tr>\n",
       "      <th>0</th>\n",
       "      <td>01-01-2021</td>\n",
       "      <td>16-19</td>\n",
       "      <td>2</td>\n",
       "      <td>10913</td>\n",
       "      <td>0.0</td>\n",
       "      <td>2310358</td>\n",
       "    </tr>\n",
       "    <tr>\n",
       "      <th>1</th>\n",
       "      <td>02-01-2021</td>\n",
       "      <td>16-19</td>\n",
       "      <td>18</td>\n",
       "      <td>37884</td>\n",
       "      <td>0.0</td>\n",
       "      <td>2310358</td>\n",
       "    </tr>\n",
       "    <tr>\n",
       "      <th>2</th>\n",
       "      <td>04-01-2021</td>\n",
       "      <td>16-19</td>\n",
       "      <td>12</td>\n",
       "      <td>67661</td>\n",
       "      <td>0.0</td>\n",
       "      <td>2310358</td>\n",
       "    </tr>\n",
       "    <tr>\n",
       "      <th>3</th>\n",
       "      <td>05-01-2021</td>\n",
       "      <td>16-19</td>\n",
       "      <td>22</td>\n",
       "      <td>78814</td>\n",
       "      <td>0.0</td>\n",
       "      <td>2310358</td>\n",
       "    </tr>\n",
       "    <tr>\n",
       "      <th>4</th>\n",
       "      <td>06-01-2021</td>\n",
       "      <td>16-19</td>\n",
       "      <td>38</td>\n",
       "      <td>64728</td>\n",
       "      <td>0.0</td>\n",
       "      <td>2310358</td>\n",
       "    </tr>\n",
       "  </tbody>\n",
       "</table>\n",
       "</div>"
      ],
      "text/plain": [
       "  data_somministrazione fascia_anagrafica  prima_dose  \\\n",
       "0            01-01-2021             16-19           2   \n",
       "1            02-01-2021             16-19          18   \n",
       "2            04-01-2021             16-19          12   \n",
       "3            05-01-2021             16-19          22   \n",
       "4            06-01-2021             16-19          38   \n",
       "\n",
       "   prima_dose_totale_giorno  perc_tot_somministrati  totale_fascia  \n",
       "0                     10913                     0.0        2310358  \n",
       "1                     37884                     0.0        2310358  \n",
       "2                     67661                     0.0        2310358  \n",
       "3                     78814                     0.0        2310358  \n",
       "4                     64728                     0.0        2310358  "
      ]
     },
     "execution_count": 1189,
     "metadata": {},
     "output_type": "execute_result"
    }
   ],
   "source": [
    "df1 = df1.merge(pop, left_on='fascia_anagrafica', right_on='gruppo', how='inner')\n",
    "df1.drop('gruppo', axis=1, inplace=True)\n",
    "df1.rename(columns={'Totale':'totale_fascia'}, inplace=True)\n",
    "df1.head()"
   ]
  },
  {
   "cell_type": "code",
   "execution_count": 1190,
   "metadata": {},
   "outputs": [
    {
     "data": {
      "text/html": [
       "<div>\n",
       "<style scoped>\n",
       "    .dataframe tbody tr th:only-of-type {\n",
       "        vertical-align: middle;\n",
       "    }\n",
       "\n",
       "    .dataframe tbody tr th {\n",
       "        vertical-align: top;\n",
       "    }\n",
       "\n",
       "    .dataframe thead th {\n",
       "        text-align: right;\n",
       "    }\n",
       "</style>\n",
       "<table border=\"1\" class=\"dataframe\">\n",
       "  <thead>\n",
       "    <tr style=\"text-align: right;\">\n",
       "      <th></th>\n",
       "      <th>data_somministrazione</th>\n",
       "      <th>fascia_anagrafica</th>\n",
       "      <th>prima_dose</th>\n",
       "      <th>Totale</th>\n",
       "    </tr>\n",
       "  </thead>\n",
       "  <tbody>\n",
       "    <tr>\n",
       "      <th>309</th>\n",
       "      <td>27-01-2021</td>\n",
       "      <td>90+</td>\n",
       "      <td>5823</td>\n",
       "      <td>518155</td>\n",
       "    </tr>\n",
       "    <tr>\n",
       "      <th>310</th>\n",
       "      <td>28-01-2021</td>\n",
       "      <td>90+</td>\n",
       "      <td>4305</td>\n",
       "      <td>518155</td>\n",
       "    </tr>\n",
       "    <tr>\n",
       "      <th>311</th>\n",
       "      <td>29-01-2021</td>\n",
       "      <td>90+</td>\n",
       "      <td>4279</td>\n",
       "      <td>518155</td>\n",
       "    </tr>\n",
       "    <tr>\n",
       "      <th>312</th>\n",
       "      <td>30-01-2021</td>\n",
       "      <td>90+</td>\n",
       "      <td>3723</td>\n",
       "      <td>518155</td>\n",
       "    </tr>\n",
       "    <tr>\n",
       "      <th>313</th>\n",
       "      <td>31-01-2021</td>\n",
       "      <td>90+</td>\n",
       "      <td>2446</td>\n",
       "      <td>518155</td>\n",
       "    </tr>\n",
       "  </tbody>\n",
       "</table>\n",
       "</div>"
      ],
      "text/plain": [
       "    data_somministrazione fascia_anagrafica  prima_dose  Totale\n",
       "309            27-01-2021               90+        5823  518155\n",
       "310            28-01-2021               90+        4305  518155\n",
       "311            29-01-2021               90+        4279  518155\n",
       "312            30-01-2021               90+        3723  518155\n",
       "313            31-01-2021               90+        2446  518155"
      ]
     },
     "execution_count": 1190,
     "metadata": {},
     "output_type": "execute_result"
    }
   ],
   "source": [
    "df2 = (df1.groupby(['data_somministrazione','fascia_anagrafica'])['prima_dose']\n",
    " .sum().groupby(level=0).cumsum().reset_index()\n",
    ".merge(pop, left_on='fascia_anagrafica', right_on='gruppo')).drop(['gruppo'], axis=1)\n",
    "df2.tail()"
   ]
  },
  {
   "cell_type": "code",
   "execution_count": 1191,
   "metadata": {},
   "outputs": [],
   "source": [
    "df_last = df1.groupby('fascia_anagrafica')[['prima_dose','totale_fascia']].agg({'prima_dose':'sum','totale_fascia':'last'}).reset_index()"
   ]
  },
  {
   "cell_type": "code",
   "execution_count": 1192,
   "metadata": {},
   "outputs": [],
   "source": [
    "df_last['perc_vaccinata'] = (df_last.prima_dose/df_last.totale_fascia).mul(100).round(2)"
   ]
  },
  {
   "cell_type": "code",
   "execution_count": 1193,
   "metadata": {},
   "outputs": [
    {
     "data": {
      "text/html": [
       "<div>\n",
       "<style scoped>\n",
       "    .dataframe tbody tr th:only-of-type {\n",
       "        vertical-align: middle;\n",
       "    }\n",
       "\n",
       "    .dataframe tbody tr th {\n",
       "        vertical-align: top;\n",
       "    }\n",
       "\n",
       "    .dataframe thead th {\n",
       "        text-align: right;\n",
       "    }\n",
       "</style>\n",
       "<table border=\"1\" class=\"dataframe\">\n",
       "  <thead>\n",
       "    <tr style=\"text-align: right;\">\n",
       "      <th></th>\n",
       "      <th>fascia_anagrafica</th>\n",
       "      <th>prima_dose</th>\n",
       "      <th>totale_fascia</th>\n",
       "      <th>perc_vaccinata</th>\n",
       "    </tr>\n",
       "  </thead>\n",
       "  <tbody>\n",
       "    <tr>\n",
       "      <th>0</th>\n",
       "      <td>16-19</td>\n",
       "      <td>1363</td>\n",
       "      <td>2310358</td>\n",
       "      <td>0.06</td>\n",
       "    </tr>\n",
       "    <tr>\n",
       "      <th>1</th>\n",
       "      <td>20-29</td>\n",
       "      <td>137188</td>\n",
       "      <td>6327883</td>\n",
       "      <td>2.17</td>\n",
       "    </tr>\n",
       "    <tr>\n",
       "      <th>2</th>\n",
       "      <td>30-39</td>\n",
       "      <td>203843</td>\n",
       "      <td>8345554</td>\n",
       "      <td>2.44</td>\n",
       "    </tr>\n",
       "    <tr>\n",
       "      <th>3</th>\n",
       "      <td>40-49</td>\n",
       "      <td>254572</td>\n",
       "      <td>9567872</td>\n",
       "      <td>2.66</td>\n",
       "    </tr>\n",
       "    <tr>\n",
       "      <th>4</th>\n",
       "      <td>50-59</td>\n",
       "      <td>342036</td>\n",
       "      <td>7871829</td>\n",
       "      <td>4.35</td>\n",
       "    </tr>\n",
       "    <tr>\n",
       "      <th>5</th>\n",
       "      <td>60-69</td>\n",
       "      <td>212139</td>\n",
       "      <td>6860158</td>\n",
       "      <td>3.09</td>\n",
       "    </tr>\n",
       "    <tr>\n",
       "      <th>6</th>\n",
       "      <td>70-79</td>\n",
       "      <td>51321</td>\n",
       "      <td>5628974</td>\n",
       "      <td>0.91</td>\n",
       "    </tr>\n",
       "    <tr>\n",
       "      <th>7</th>\n",
       "      <td>80-89</td>\n",
       "      <td>75916</td>\n",
       "      <td>3117811</td>\n",
       "      <td>2.43</td>\n",
       "    </tr>\n",
       "    <tr>\n",
       "      <th>8</th>\n",
       "      <td>90+</td>\n",
       "      <td>58926</td>\n",
       "      <td>518155</td>\n",
       "      <td>11.37</td>\n",
       "    </tr>\n",
       "  </tbody>\n",
       "</table>\n",
       "</div>"
      ],
      "text/plain": [
       "  fascia_anagrafica  prima_dose  totale_fascia  perc_vaccinata\n",
       "0             16-19        1363        2310358            0.06\n",
       "1             20-29      137188        6327883            2.17\n",
       "2             30-39      203843        8345554            2.44\n",
       "3             40-49      254572        9567872            2.66\n",
       "4             50-59      342036        7871829            4.35\n",
       "5             60-69      212139        6860158            3.09\n",
       "6             70-79       51321        5628974            0.91\n",
       "7             80-89       75916        3117811            2.43\n",
       "8               90+       58926         518155           11.37"
      ]
     },
     "execution_count": 1193,
     "metadata": {},
     "output_type": "execute_result"
    }
   ],
   "source": [
    "df_last"
   ]
  },
  {
   "cell_type": "code",
   "execution_count": 1194,
   "metadata": {},
   "outputs": [
    {
     "data": {
      "image/png": "[encoded data removed]",
      "text/plain": [
       "<Figure size 1008x504 with 1 Axes>"
      ]
     },
     "metadata": {},
     "output_type": "display_data"
    }
   ],
   "source": [
    "sns.set_style('darkgrid')\n",
    "plt.figure(figsize=(14,7))\n",
    "sns.barplot(data=df_last, x='fascia_anagrafica',y='perc_vaccinata', color='#176AA5').set_title('Elaborazione: @TomZ_UK - Dati: ISS/ISTAT', fontsize=12)\n",
    "plt.ylabel('Percentuale', fontsize=16)\n",
    "plt.xlabel('Fascia Anagrafica', fontsize=16)\n",
    "plt.suptitle('Percentuale di Popolazione Vaccinata con Prima Dose', fontsize=20)\n",
    "\n",
    "plt.savefig('Percentuale_Pop.png')"
   ]
  },
  {
   "cell_type": "code",
   "execution_count": 1195,
   "metadata": {},
   "outputs": [
    {
     "data": {
      "text/plain": [
       "2279855"
      ]
     },
     "execution_count": 1195,
     "metadata": {},
     "output_type": "execute_result"
    }
   ],
   "source": [
    "(df.prima_dose.sum() + df.seconda_dose.sum())"
   ]
  },
  {
   "cell_type": "code",
   "execution_count": 1196,
   "metadata": {},
   "outputs": [],
   "source": [
    "pop.drop(index=0, inplace=True)"
   ]
  },
  {
   "cell_type": "code",
   "execution_count": 1197,
   "metadata": {},
   "outputs": [
    {
     "data": {
      "text/plain": [
       "2.65"
      ]
     },
     "execution_count": 1197,
     "metadata": {},
     "output_type": "execute_result"
    }
   ],
   "source": [
    "((df.prima_dose.sum()/pop.Totale.sum())*100).round(2)"
   ]
  },
  {
   "cell_type": "markdown",
   "metadata": {},
   "source": [
    "# Gauge Chart"
   ]
  },
  {
   "cell_type": "code",
   "execution_count": 1198,
   "metadata": {},
   "outputs": [
    {
     "data": {
      "text/plain": [
       "0         NaN\n",
       "1         0.0\n",
       "2         0.0\n",
       "3         0.0\n",
       "4         0.0\n",
       "5         0.0\n",
       "6         0.0\n",
       "7         0.0\n",
       "8         0.0\n",
       "9         0.0\n",
       "10        0.0\n",
       "11        0.0\n",
       "12        0.0\n",
       "13        0.0\n",
       "14        0.0\n",
       "15        0.0\n",
       "16     2800.0\n",
       "17     4393.0\n",
       "18     1776.0\n",
       "19     4480.0\n",
       "20    19377.0\n",
       "21    13876.0\n",
       "22    32635.0\n",
       "23    30548.0\n",
       "24    63548.0\n",
       "25    75094.0\n",
       "26    64002.0\n",
       "27    88025.0\n",
       "28    91309.0\n",
       "29    83762.0\n",
       "30    56241.0\n",
       "31    77680.0\n",
       "32    77600.0\n",
       "33    85172.0\n",
       "34    70233.0\n",
       "Name: seconda_dose, dtype: float64"
      ]
     },
     "execution_count": 1198,
     "metadata": {},
     "output_type": "execute_result"
    }
   ],
   "source": [
    "df_seconda = df.groupby(df.data_somministrazione)[['seconda_dose']].sum().cumsum().reset_index()\n",
    "df_seconda.seconda_dose.diff()"
   ]
  },
  {
   "cell_type": "markdown",
   "metadata": {},
   "source": [
    "df.groupby(['data_somministrazione'])['prima_dose'].sum() \\\n",
    "  .groupby(level=1).cumsum().reset_index()"
   ]
  },
  {
   "cell_type": "code",
   "execution_count": 1199,
   "metadata": {},
   "outputs": [],
   "source": [
    "df_prima = df.groupby('data_somministrazione')[['prima_dose']].sum().cumsum().reset_index()"
   ]
  },
  {
   "cell_type": "code",
   "execution_count": 1200,
   "metadata": {},
   "outputs": [
    {
     "data": {
      "text/plain": [
       "50548594"
      ]
     },
     "execution_count": 1200,
     "metadata": {},
     "output_type": "execute_result"
    }
   ],
   "source": [
    "pop.Totale.sum()"
   ]
  },
  {
   "cell_type": "code",
   "execution_count": 1201,
   "metadata": {},
   "outputs": [],
   "source": [
    "df_prima['pct_pop_prima_dose'] = (df_prima.prima_dose/pop.Totale.sum()).mul(100)"
   ]
  },
  {
   "cell_type": "code",
   "execution_count": 1202,
   "metadata": {},
   "outputs": [],
   "source": [
    "df_prima['daily_change'] = df_prima.pct_pop_prima_dose.diff()"
   ]
  },
  {
   "cell_type": "code",
   "execution_count": 1203,
   "metadata": {},
   "outputs": [
    {
     "data": {
      "text/html": [
       "<div>\n",
       "<style scoped>\n",
       "    .dataframe tbody tr th:only-of-type {\n",
       "        vertical-align: middle;\n",
       "    }\n",
       "\n",
       "    .dataframe tbody tr th {\n",
       "        vertical-align: top;\n",
       "    }\n",
       "\n",
       "    .dataframe thead th {\n",
       "        text-align: right;\n",
       "    }\n",
       "</style>\n",
       "<table border=\"1\" class=\"dataframe\">\n",
       "  <thead>\n",
       "    <tr style=\"text-align: right;\">\n",
       "      <th></th>\n",
       "      <th>data_somministrazione</th>\n",
       "      <th>prima_dose</th>\n",
       "      <th>pct_pop_prima_dose</th>\n",
       "      <th>daily_change</th>\n",
       "      <th>prima_dose_giorno</th>\n",
       "    </tr>\n",
       "  </thead>\n",
       "  <tbody>\n",
       "    <tr>\n",
       "      <th>0</th>\n",
       "      <td>2021-01-01</td>\n",
       "      <td>10913</td>\n",
       "      <td>0.021589</td>\n",
       "      <td>NaN</td>\n",
       "      <td>0.0</td>\n",
       "    </tr>\n",
       "    <tr>\n",
       "      <th>1</th>\n",
       "      <td>2021-01-02</td>\n",
       "      <td>48797</td>\n",
       "      <td>0.096535</td>\n",
       "      <td>0.074946</td>\n",
       "      <td>37884.0</td>\n",
       "    </tr>\n",
       "    <tr>\n",
       "      <th>2</th>\n",
       "      <td>2021-01-03</td>\n",
       "      <td>83612</td>\n",
       "      <td>0.165409</td>\n",
       "      <td>0.068874</td>\n",
       "      <td>34815.0</td>\n",
       "    </tr>\n",
       "    <tr>\n",
       "      <th>3</th>\n",
       "      <td>2021-01-04</td>\n",
       "      <td>151273</td>\n",
       "      <td>0.299263</td>\n",
       "      <td>0.133853</td>\n",
       "      <td>67661.0</td>\n",
       "    </tr>\n",
       "    <tr>\n",
       "      <th>4</th>\n",
       "      <td>2021-01-05</td>\n",
       "      <td>230087</td>\n",
       "      <td>0.455180</td>\n",
       "      <td>0.155917</td>\n",
       "      <td>78814.0</td>\n",
       "    </tr>\n",
       "    <tr>\n",
       "      <th>5</th>\n",
       "      <td>2021-01-06</td>\n",
       "      <td>294815</td>\n",
       "      <td>0.583231</td>\n",
       "      <td>0.128051</td>\n",
       "      <td>64728.0</td>\n",
       "    </tr>\n",
       "    <tr>\n",
       "      <th>6</th>\n",
       "      <td>2021-01-07</td>\n",
       "      <td>385941</td>\n",
       "      <td>0.763505</td>\n",
       "      <td>0.180274</td>\n",
       "      <td>91126.0</td>\n",
       "    </tr>\n",
       "    <tr>\n",
       "      <th>7</th>\n",
       "      <td>2021-01-08</td>\n",
       "      <td>480555</td>\n",
       "      <td>0.950679</td>\n",
       "      <td>0.187174</td>\n",
       "      <td>94614.0</td>\n",
       "    </tr>\n",
       "    <tr>\n",
       "      <th>8</th>\n",
       "      <td>2021-01-09</td>\n",
       "      <td>566969</td>\n",
       "      <td>1.121632</td>\n",
       "      <td>0.170952</td>\n",
       "      <td>86414.0</td>\n",
       "    </tr>\n",
       "    <tr>\n",
       "      <th>9</th>\n",
       "      <td>2021-01-10</td>\n",
       "      <td>627039</td>\n",
       "      <td>1.240468</td>\n",
       "      <td>0.118836</td>\n",
       "      <td>60070.0</td>\n",
       "    </tr>\n",
       "    <tr>\n",
       "      <th>10</th>\n",
       "      <td>2021-01-11</td>\n",
       "      <td>707291</td>\n",
       "      <td>1.399230</td>\n",
       "      <td>0.158762</td>\n",
       "      <td>80252.0</td>\n",
       "    </tr>\n",
       "    <tr>\n",
       "      <th>11</th>\n",
       "      <td>2021-01-12</td>\n",
       "      <td>787654</td>\n",
       "      <td>1.558211</td>\n",
       "      <td>0.158982</td>\n",
       "      <td>80363.0</td>\n",
       "    </tr>\n",
       "    <tr>\n",
       "      <th>12</th>\n",
       "      <td>2021-01-13</td>\n",
       "      <td>879964</td>\n",
       "      <td>1.740828</td>\n",
       "      <td>0.182616</td>\n",
       "      <td>92310.0</td>\n",
       "    </tr>\n",
       "    <tr>\n",
       "      <th>13</th>\n",
       "      <td>2021-01-14</td>\n",
       "      <td>971410</td>\n",
       "      <td>1.921735</td>\n",
       "      <td>0.180907</td>\n",
       "      <td>91446.0</td>\n",
       "    </tr>\n",
       "    <tr>\n",
       "      <th>14</th>\n",
       "      <td>2021-01-15</td>\n",
       "      <td>1058704</td>\n",
       "      <td>2.094428</td>\n",
       "      <td>0.172693</td>\n",
       "      <td>87294.0</td>\n",
       "    </tr>\n",
       "    <tr>\n",
       "      <th>15</th>\n",
       "      <td>2021-01-16</td>\n",
       "      <td>1122006</td>\n",
       "      <td>2.219658</td>\n",
       "      <td>0.125230</td>\n",
       "      <td>63302.0</td>\n",
       "    </tr>\n",
       "    <tr>\n",
       "      <th>16</th>\n",
       "      <td>2021-01-17</td>\n",
       "      <td>1155062</td>\n",
       "      <td>2.285053</td>\n",
       "      <td>0.065394</td>\n",
       "      <td>33056.0</td>\n",
       "    </tr>\n",
       "    <tr>\n",
       "      <th>17</th>\n",
       "      <td>2021-01-18</td>\n",
       "      <td>1192077</td>\n",
       "      <td>2.358279</td>\n",
       "      <td>0.073227</td>\n",
       "      <td>37015.0</td>\n",
       "    </tr>\n",
       "    <tr>\n",
       "      <th>18</th>\n",
       "      <td>2021-01-19</td>\n",
       "      <td>1221947</td>\n",
       "      <td>2.417371</td>\n",
       "      <td>0.059092</td>\n",
       "      <td>29870.0</td>\n",
       "    </tr>\n",
       "    <tr>\n",
       "      <th>19</th>\n",
       "      <td>2021-01-20</td>\n",
       "      <td>1246692</td>\n",
       "      <td>2.466324</td>\n",
       "      <td>0.048953</td>\n",
       "      <td>24745.0</td>\n",
       "    </tr>\n",
       "    <tr>\n",
       "      <th>20</th>\n",
       "      <td>2021-01-21</td>\n",
       "      <td>1261557</td>\n",
       "      <td>2.495731</td>\n",
       "      <td>0.029407</td>\n",
       "      <td>14865.0</td>\n",
       "    </tr>\n",
       "    <tr>\n",
       "      <th>21</th>\n",
       "      <td>2021-01-22</td>\n",
       "      <td>1273226</td>\n",
       "      <td>2.518816</td>\n",
       "      <td>0.023085</td>\n",
       "      <td>11669.0</td>\n",
       "    </tr>\n",
       "    <tr>\n",
       "      <th>22</th>\n",
       "      <td>2021-01-23</td>\n",
       "      <td>1278816</td>\n",
       "      <td>2.529875</td>\n",
       "      <td>0.011059</td>\n",
       "      <td>5590.0</td>\n",
       "    </tr>\n",
       "    <tr>\n",
       "      <th>23</th>\n",
       "      <td>2021-01-24</td>\n",
       "      <td>1281799</td>\n",
       "      <td>2.535776</td>\n",
       "      <td>0.005901</td>\n",
       "      <td>2983.0</td>\n",
       "    </tr>\n",
       "    <tr>\n",
       "      <th>24</th>\n",
       "      <td>2021-01-25</td>\n",
       "      <td>1286269</td>\n",
       "      <td>2.544619</td>\n",
       "      <td>0.008843</td>\n",
       "      <td>4470.0</td>\n",
       "    </tr>\n",
       "    <tr>\n",
       "      <th>25</th>\n",
       "      <td>2021-01-26</td>\n",
       "      <td>1290386</td>\n",
       "      <td>2.552763</td>\n",
       "      <td>0.008145</td>\n",
       "      <td>4117.0</td>\n",
       "    </tr>\n",
       "    <tr>\n",
       "      <th>26</th>\n",
       "      <td>2021-01-27</td>\n",
       "      <td>1296209</td>\n",
       "      <td>2.564283</td>\n",
       "      <td>0.011520</td>\n",
       "      <td>5823.0</td>\n",
       "    </tr>\n",
       "    <tr>\n",
       "      <th>27</th>\n",
       "      <td>2021-01-28</td>\n",
       "      <td>1300514</td>\n",
       "      <td>2.572800</td>\n",
       "      <td>0.008517</td>\n",
       "      <td>4305.0</td>\n",
       "    </tr>\n",
       "    <tr>\n",
       "      <th>28</th>\n",
       "      <td>2021-01-29</td>\n",
       "      <td>1304793</td>\n",
       "      <td>2.581265</td>\n",
       "      <td>0.008465</td>\n",
       "      <td>4279.0</td>\n",
       "    </tr>\n",
       "    <tr>\n",
       "      <th>29</th>\n",
       "      <td>2021-01-30</td>\n",
       "      <td>1308516</td>\n",
       "      <td>2.588630</td>\n",
       "      <td>0.007365</td>\n",
       "      <td>3723.0</td>\n",
       "    </tr>\n",
       "    <tr>\n",
       "      <th>30</th>\n",
       "      <td>2021-01-31</td>\n",
       "      <td>1310962</td>\n",
       "      <td>2.593469</td>\n",
       "      <td>0.004839</td>\n",
       "      <td>2446.0</td>\n",
       "    </tr>\n",
       "    <tr>\n",
       "      <th>31</th>\n",
       "      <td>2021-02-01</td>\n",
       "      <td>1315137</td>\n",
       "      <td>2.601728</td>\n",
       "      <td>0.008259</td>\n",
       "      <td>4175.0</td>\n",
       "    </tr>\n",
       "    <tr>\n",
       "      <th>32</th>\n",
       "      <td>2021-02-02</td>\n",
       "      <td>1321020</td>\n",
       "      <td>2.613366</td>\n",
       "      <td>0.011638</td>\n",
       "      <td>5883.0</td>\n",
       "    </tr>\n",
       "    <tr>\n",
       "      <th>33</th>\n",
       "      <td>2021-02-03</td>\n",
       "      <td>1329294</td>\n",
       "      <td>2.629735</td>\n",
       "      <td>0.016368</td>\n",
       "      <td>8274.0</td>\n",
       "    </tr>\n",
       "    <tr>\n",
       "      <th>34</th>\n",
       "      <td>2021-02-04</td>\n",
       "      <td>1337304</td>\n",
       "      <td>2.645581</td>\n",
       "      <td>0.015846</td>\n",
       "      <td>8010.0</td>\n",
       "    </tr>\n",
       "  </tbody>\n",
       "</table>\n",
       "</div>"
      ],
      "text/plain": [
       "   data_somministrazione  prima_dose  pct_pop_prima_dose  daily_change  \\\n",
       "0             2021-01-01       10913            0.021589           NaN   \n",
       "1             2021-01-02       48797            0.096535      0.074946   \n",
       "2             2021-01-03       83612            0.165409      0.068874   \n",
       "3             2021-01-04      151273            0.299263      0.133853   \n",
       "4             2021-01-05      230087            0.455180      0.155917   \n",
       "5             2021-01-06      294815            0.583231      0.128051   \n",
       "6             2021-01-07      385941            0.763505      0.180274   \n",
       "7             2021-01-08      480555            0.950679      0.187174   \n",
       "8             2021-01-09      566969            1.121632      0.170952   \n",
       "9             2021-01-10      627039            1.240468      0.118836   \n",
       "10            2021-01-11      707291            1.399230      0.158762   \n",
       "11            2021-01-12      787654            1.558211      0.158982   \n",
       "12            2021-01-13      879964            1.740828      0.182616   \n",
       "13            2021-01-14      971410            1.921735      0.180907   \n",
       "14            2021-01-15     1058704            2.094428      0.172693   \n",
       "15            2021-01-16     1122006            2.219658      0.125230   \n",
       "16            2021-01-17     1155062            2.285053      0.065394   \n",
       "17            2021-01-18     1192077            2.358279      0.073227   \n",
       "18            2021-01-19     1221947            2.417371      0.059092   \n",
       "19            2021-01-20     1246692            2.466324      0.048953   \n",
       "20            2021-01-21     1261557            2.495731      0.029407   \n",
       "21            2021-01-22     1273226            2.518816      0.023085   \n",
       "22            2021-01-23     1278816            2.529875      0.011059   \n",
       "23            2021-01-24     1281799            2.535776      0.005901   \n",
       "24            2021-01-25     1286269            2.544619      0.008843   \n",
       "25            2021-01-26     1290386            2.552763      0.008145   \n",
       "26            2021-01-27     1296209            2.564283      0.011520   \n",
       "27            2021-01-28     1300514            2.572800      0.008517   \n",
       "28            2021-01-29     1304793            2.581265      0.008465   \n",
       "29            2021-01-30     1308516            2.588630      0.007365   \n",
       "30            2021-01-31     1310962            2.593469      0.004839   \n",
       "31            2021-02-01     1315137            2.601728      0.008259   \n",
       "32            2021-02-02     1321020            2.613366      0.011638   \n",
       "33            2021-02-03     1329294            2.629735      0.016368   \n",
       "34            2021-02-04     1337304            2.645581      0.015846   \n",
       "\n",
       "    prima_dose_giorno  \n",
       "0                 0.0  \n",
       "1             37884.0  \n",
       "2             34815.0  \n",
       "3             67661.0  \n",
       "4             78814.0  \n",
       "5             64728.0  \n",
       "6             91126.0  \n",
       "7             94614.0  \n",
       "8             86414.0  \n",
       "9             60070.0  \n",
       "10            80252.0  \n",
       "11            80363.0  \n",
       "12            92310.0  \n",
       "13            91446.0  \n",
       "14            87294.0  \n",
       "15            63302.0  \n",
       "16            33056.0  \n",
       "17            37015.0  \n",
       "18            29870.0  \n",
       "19            24745.0  \n",
       "20            14865.0  \n",
       "21            11669.0  \n",
       "22             5590.0  \n",
       "23             2983.0  \n",
       "24             4470.0  \n",
       "25             4117.0  \n",
       "26             5823.0  \n",
       "27             4305.0  \n",
       "28             4279.0  \n",
       "29             3723.0  \n",
       "30             2446.0  \n",
       "31             4175.0  \n",
       "32             5883.0  \n",
       "33             8274.0  \n",
       "34             8010.0  "
      ]
     },
     "execution_count": 1203,
     "metadata": {},
     "output_type": "execute_result"
    }
   ],
   "source": [
    "df_prima['prima_dose_giorno'] = df_prima.prima_dose.diff().fillna(0)\n",
    "df_prima"
   ]
  },
  {
   "cell_type": "code",
   "execution_count": 1204,
   "metadata": {},
   "outputs": [
    {
     "data": {
      "application/vnd.plotly.v1+json": {
       "config": {
        "plotlyServerURL": "https://plot.ly"
       },
       "data": [
        {
         "delta": {
          "increasing": {
           "color": "Green"
          },
          "reference": 2.581264673751361,
          "valueformat": ".02f"
         },
         "domain": {
          "x": [
           0,
           1
          ],
          "y": [
           0,
           1
          ]
         },
         "gauge": {
          "axis": {
           "range": [
            null,
            100
           ],
           "tickcolor": "darkblue",
           "tickwidth": 1
          },
          "bar": {
           "color": "#FFBF00"
          },
          "bgcolor": "white",
          "bordercolor": "gray",
          "borderwidth": 2,
          "steps": [
           {
            "color": "#85C1E9",
            "range": [
             0,
             80
            ]
           },
           {
            "color": "#85C1E9",
            "range": [
             40,
             60
            ]
           },
           {
            "color": "#85C1E9",
            "range": [
             60,
             80
            ]
           }
          ],
          "threshold": {
           "line": {
            "color": "red",
            "width": 4
           },
           "thickness": 0.75,
           "value": 80
          }
         },
         "mode": "gauge+number+delta",
         "title": {
          "font": {
           "size": 24
          },
          "text": "Percentuale Popolazione 16+ Vaccinata con Prima Dose"
         },
         "type": "indicator",
         "value": 2.6
        }
       ],
       "layout": {
        "font": {
         "color": "darkblue",
         "family": "Arial"
        },
        "paper_bgcolor": "lavender",
        "template": {
         "data": {
          "bar": [
           {
            "error_x": {
             "color": "#2a3f5f"
            },
            "error_y": {
             "color": "#2a3f5f"
            },
            "marker": {
             "line": {
              "color": "#E5ECF6",
              "width": 0.5
             }
            },
            "type": "bar"
           }
          ],
          "barpolar": [
           {
            "marker": {
             "line": {
              "color": "#E5ECF6",
              "width": 0.5
             }
            },
            "type": "barpolar"
           }
          ],
          "carpet": [
           {
            "aaxis": {
             "endlinecolor": "#2a3f5f",
             "gridcolor": "white",
             "linecolor": "white",
             "minorgridcolor": "white",
             "startlinecolor": "#2a3f5f"
            },
            "baxis": {
             "endlinecolor": "#2a3f5f",
             "gridcolor": "white",
             "linecolor": "white",
             "minorgridcolor": "white",
             "startlinecolor": "#2a3f5f"
            },
            "type": "carpet"
           }
          ],
          "choropleth": [
           {
            "colorbar": {
             "outlinewidth": 0,
             "ticks": ""
            },
            "type": "choropleth"
           }
          ],
          "contour": [
           {
            "colorbar": {
             "outlinewidth": 0,
             "ticks": ""
            },
            "colorscale": [
             [
              0,
              "#0d0887"
             ],
             [
              0.1111111111111111,
              "#46039f"
             ],
             [
              0.2222222222222222,
              "#7201a8"
             ],
             [
              0.3333333333333333,
              "#9c179e"
             ],
             [
              0.4444444444444444,
              "#bd3786"
             ],
             [
              0.5555555555555556,
              "#d8576b"
             ],
             [
              0.6666666666666666,
              "#ed7953"
             ],
             [
              0.7777777777777778,
              "#fb9f3a"
             ],
             [
              0.8888888888888888,
              "#fdca26"
             ],
             [
              1,
              "#f0f921"
             ]
            ],
            "type": "contour"
           }
          ],
          "contourcarpet": [
           {
            "colorbar": {
             "outlinewidth": 0,
             "ticks": ""
            },
            "type": "contourcarpet"
           }
          ],
          "heatmap": [
           {
            "colorbar": {
             "outlinewidth": 0,
             "ticks": ""
            },
            "colorscale": [
             [
              0,
              "#0d0887"
             ],
             [
              0.1111111111111111,
              "#46039f"
             ],
             [
              0.2222222222222222,
              "#7201a8"
             ],
             [
              0.3333333333333333,
              "#9c179e"
             ],
             [
              0.4444444444444444,
              "#bd3786"
             ],
             [
              0.5555555555555556,
              "#d8576b"
             ],
             [
              0.6666666666666666,
              "#ed7953"
             ],
             [
              0.7777777777777778,
              "#fb9f3a"
             ],
             [
              0.8888888888888888,
              "#fdca26"
             ],
             [
              1,
              "#f0f921"
             ]
            ],
            "type": "heatmap"
           }
          ],
          "heatmapgl": [
           {
            "colorbar": {
             "outlinewidth": 0,
             "ticks": ""
            },
            "colorscale": [
             [
              0,
              "#0d0887"
             ],
             [
              0.1111111111111111,
              "#46039f"
             ],
             [
              0.2222222222222222,
              "#7201a8"
             ],
             [
              0.3333333333333333,
              "#9c179e"
             ],
             [
              0.4444444444444444,
              "#bd3786"
             ],
             [
              0.5555555555555556,
              "#d8576b"
             ],
             [
              0.6666666666666666,
              "#ed7953"
             ],
             [
              0.7777777777777778,
              "#fb9f3a"
             ],
             [
              0.8888888888888888,
              "#fdca26"
             ],
             [
              1,
              "#f0f921"
             ]
            ],
            "type": "heatmapgl"
           }
          ],
          "histogram": [
           {
            "marker": {
             "colorbar": {
              "outlinewidth": 0,
              "ticks": ""
             }
            },
            "type": "histogram"
           }
          ],
          "histogram2d": [
           {
            "colorbar": {
             "outlinewidth": 0,
             "ticks": ""
            },
            "colorscale": [
             [
              0,
              "#0d0887"
             ],
             [
              0.1111111111111111,
              "#46039f"
             ],
             [
              0.2222222222222222,
              "#7201a8"
             ],
             [
              0.3333333333333333,
              "#9c179e"
             ],
             [
              0.4444444444444444,
              "#bd3786"
             ],
             [
              0.5555555555555556,
              "#d8576b"
             ],
             [
              0.6666666666666666,
              "#ed7953"
             ],
             [
              0.7777777777777778,
              "#fb9f3a"
             ],
             [
              0.8888888888888888,
              "#fdca26"
             ],
             [
              1,
              "#f0f921"
             ]
            ],
            "type": "histogram2d"
           }
          ],
          "histogram2dcontour": [
           {
            "colorbar": {
             "outlinewidth": 0,
             "ticks": ""
            },
            "colorscale": [
             [
              0,
              "#0d0887"
             ],
             [
              0.1111111111111111,
              "#46039f"
             ],
             [
              0.2222222222222222,
              "#7201a8"
             ],
             [
              0.3333333333333333,
              "#9c179e"
             ],
             [
              0.4444444444444444,
              "#bd3786"
             ],
             [
              0.5555555555555556,
              "#d8576b"
             ],
             [
              0.6666666666666666,
              "#ed7953"
             ],
             [
              0.7777777777777778,
              "#fb9f3a"
             ],
             [
              0.8888888888888888,
              "#fdca26"
             ],
             [
              1,
              "#f0f921"
             ]
            ],
            "type": "histogram2dcontour"
           }
          ],
          "mesh3d": [
           {
            "colorbar": {
             "outlinewidth": 0,
             "ticks": ""
            },
            "type": "mesh3d"
           }
          ],
          "parcoords": [
           {
            "line": {
             "colorbar": {
              "outlinewidth": 0,
              "ticks": ""
             }
            },
            "type": "parcoords"
           }
          ],
          "pie": [
           {
            "automargin": true,
            "type": "pie"
           }
          ],
          "scatter": [
           {
            "marker": {
             "colorbar": {
              "outlinewidth": 0,
              "ticks": ""
             }
            },
            "type": "scatter"
           }
          ],
          "scatter3d": [
           {
            "line": {
             "colorbar": {
              "outlinewidth": 0,
              "ticks": ""
             }
            },
            "marker": {
             "colorbar": {
              "outlinewidth": 0,
              "ticks": ""
             }
            },
            "type": "scatter3d"
           }
          ],
          "scattercarpet": [
           {
            "marker": {
             "colorbar": {
              "outlinewidth": 0,
              "ticks": ""
             }
            },
            "type": "scattercarpet"
           }
          ],
          "scattergeo": [
           {
            "marker": {
             "colorbar": {
              "outlinewidth": 0,
              "ticks": ""
             }
            },
            "type": "scattergeo"
           }
          ],
          "scattergl": [
           {
            "marker": {
             "colorbar": {
              "outlinewidth": 0,
              "ticks": ""
             }
            },
            "type": "scattergl"
           }
          ],
          "scattermapbox": [
           {
            "marker": {
             "colorbar": {
              "outlinewidth": 0,
              "ticks": ""
             }
            },
            "type": "scattermapbox"
           }
          ],
          "scatterpolar": [
           {
            "marker": {
             "colorbar": {
              "outlinewidth": 0,
              "ticks": ""
             }
            },
            "type": "scatterpolar"
           }
          ],
          "scatterpolargl": [
           {
            "marker": {
             "colorbar": {
              "outlinewidth": 0,
              "ticks": ""
             }
            },
            "type": "scatterpolargl"
           }
          ],
          "scatterternary": [
           {
            "marker": {
             "colorbar": {
              "outlinewidth": 0,
              "ticks": ""
             }
            },
            "type": "scatterternary"
           }
          ],
          "surface": [
           {
            "colorbar": {
             "outlinewidth": 0,
             "ticks": ""
            },
            "colorscale": [
             [
              0,
              "#0d0887"
             ],
             [
              0.1111111111111111,
              "#46039f"
             ],
             [
              0.2222222222222222,
              "#7201a8"
             ],
             [
              0.3333333333333333,
              "#9c179e"
             ],
             [
              0.4444444444444444,
              "#bd3786"
             ],
             [
              0.5555555555555556,
              "#d8576b"
             ],
             [
              0.6666666666666666,
              "#ed7953"
             ],
             [
              0.7777777777777778,
              "#fb9f3a"
             ],
             [
              0.8888888888888888,
              "#fdca26"
             ],
             [
              1,
              "#f0f921"
             ]
            ],
            "type": "surface"
           }
          ],
          "table": [
           {
            "cells": {
             "fill": {
              "color": "#EBF0F8"
             },
             "line": {
              "color": "white"
             }
            },
            "header": {
             "fill": {
              "color": "#C8D4E3"
             },
             "line": {
              "color": "white"
             }
            },
            "type": "table"
           }
          ]
         },
         "layout": {
          "annotationdefaults": {
           "arrowcolor": "#2a3f5f",
           "arrowhead": 0,
           "arrowwidth": 1
          },
          "coloraxis": {
           "colorbar": {
            "outlinewidth": 0,
            "ticks": ""
           }
          },
          "colorscale": {
           "diverging": [
            [
             0,
             "#8e0152"
            ],
            [
             0.1,
             "#c51b7d"
            ],
            [
             0.2,
             "#de77ae"
            ],
            [
             0.3,
             "#f1b6da"
            ],
            [
             0.4,
             "#fde0ef"
            ],
            [
             0.5,
             "#f7f7f7"
            ],
            [
             0.6,
             "#e6f5d0"
            ],
            [
             0.7,
             "#b8e186"
            ],
            [
             0.8,
             "#7fbc41"
            ],
            [
             0.9,
             "#4d9221"
            ],
            [
             1,
             "#276419"
            ]
           ],
           "sequential": [
            [
             0,
             "#0d0887"
            ],
            [
             0.1111111111111111,
             "#46039f"
            ],
            [
             0.2222222222222222,
             "#7201a8"
            ],
            [
             0.3333333333333333,
             "#9c179e"
            ],
            [
             0.4444444444444444,
             "#bd3786"
            ],
            [
             0.5555555555555556,
             "#d8576b"
            ],
            [
             0.6666666666666666,
             "#ed7953"
            ],
            [
             0.7777777777777778,
             "#fb9f3a"
            ],
            [
             0.8888888888888888,
             "#fdca26"
            ],
            [
             1,
             "#f0f921"
            ]
           ],
           "sequentialminus": [
            [
             0,
             "#0d0887"
            ],
            [
             0.1111111111111111,
             "#46039f"
            ],
            [
             0.2222222222222222,
             "#7201a8"
            ],
            [
             0.3333333333333333,
             "#9c179e"
            ],
            [
             0.4444444444444444,
             "#bd3786"
            ],
            [
             0.5555555555555556,
             "#d8576b"
            ],
            [
             0.6666666666666666,
             "#ed7953"
            ],
            [
             0.7777777777777778,
             "#fb9f3a"
            ],
            [
             0.8888888888888888,
             "#fdca26"
            ],
            [
             1,
             "#f0f921"
            ]
           ]
          },
          "colorway": [
           "#636efa",
           "#EF553B",
           "#00cc96",
           "#ab63fa",
           "#FFA15A",
           "#19d3f3",
           "#FF6692",
           "#B6E880",
           "#FF97FF",
           "#FECB52"
          ],
          "font": {
           "color": "#2a3f5f"
          },
          "geo": {
           "bgcolor": "white",
           "lakecolor": "white",
           "landcolor": "#E5ECF6",
           "showlakes": true,
           "showland": true,
           "subunitcolor": "white"
          },
          "hoverlabel": {
           "align": "left"
          },
          "hovermode": "closest",
          "mapbox": {
           "style": "light"
          },
          "paper_bgcolor": "white",
          "plot_bgcolor": "#E5ECF6",
          "polar": {
           "angularaxis": {
            "gridcolor": "white",
            "linecolor": "white",
            "ticks": ""
           },
           "bgcolor": "#E5ECF6",
           "radialaxis": {
            "gridcolor": "white",
            "linecolor": "white",
            "ticks": ""
           }
          },
          "scene": {
           "xaxis": {
            "backgroundcolor": "#E5ECF6",
            "gridcolor": "white",
            "gridwidth": 2,
            "linecolor": "white",
            "showbackground": true,
            "ticks": "",
            "zerolinecolor": "white"
           },
           "yaxis": {
            "backgroundcolor": "#E5ECF6",
            "gridcolor": "white",
            "gridwidth": 2,
            "linecolor": "white",
            "showbackground": true,
            "ticks": "",
            "zerolinecolor": "white"
           },
           "zaxis": {
            "backgroundcolor": "#E5ECF6",
            "gridcolor": "white",
            "gridwidth": 2,
            "linecolor": "white",
            "showbackground": true,
            "ticks": "",
            "zerolinecolor": "white"
           }
          },
          "shapedefaults": {
           "line": {
            "color": "#2a3f5f"
           }
          },
          "ternary": {
           "aaxis": {
            "gridcolor": "white",
            "linecolor": "white",
            "ticks": ""
           },
           "baxis": {
            "gridcolor": "white",
            "linecolor": "white",
            "ticks": ""
           },
           "bgcolor": "#E5ECF6",
           "caxis": {
            "gridcolor": "white",
            "linecolor": "white",
            "ticks": ""
           }
          },
          "title": {
           "x": 0.05
          },
          "xaxis": {
           "automargin": true,
           "gridcolor": "white",
           "linecolor": "white",
           "ticks": "",
           "title": {
            "standoff": 15
           },
           "zerolinecolor": "white",
           "zerolinewidth": 2
          },
          "yaxis": {
           "automargin": true,
           "gridcolor": "white",
           "linecolor": "white",
           "ticks": "",
           "title": {
            "standoff": 15
           },
           "zerolinecolor": "white",
           "zerolinewidth": 2
          }
         }
        }
       }
      },
      "text/html": [
       "<div>\n",
       "        \n",
       "        \n",
       "            <div id=\"297b718b-0e53-42ff-8e84-ae682e87e9f0\" class=\"plotly-graph-div\" style=\"height:525px; width:100%;\"></div>\n",
       "            <script type=\"text/javascript\">\n",
       "                require([\"plotly\"], function(Plotly) {\n",
       "                    window.PLOTLYENV=window.PLOTLYENV || {};\n",
       "                    \n",
       "                if (document.getElementById(\"297b718b-0e53-42ff-8e84-ae682e87e9f0\")) {\n",
       "                    Plotly.newPlot(\n",
       "                        '297b718b-0e53-42ff-8e84-ae682e87e9f0',\n",
       "                        [{\"delta\": {\"increasing\": {\"color\": \"Green\"}, \"reference\": 2.581264673751361, \"valueformat\": \".02f\"}, \"domain\": {\"x\": [0, 1], \"y\": [0, 1]}, \"gauge\": {\"axis\": {\"range\": [null, 100], \"tickcolor\": \"darkblue\", \"tickwidth\": 1}, \"bar\": {\"color\": \"#FFBF00\"}, \"bgcolor\": \"white\", \"bordercolor\": \"gray\", \"borderwidth\": 2, \"steps\": [{\"color\": \"#85C1E9\", \"range\": [0, 80]}, {\"color\": \"#85C1E9\", \"range\": [40, 60]}, {\"color\": \"#85C1E9\", \"range\": [60, 80]}], \"threshold\": {\"line\": {\"color\": \"red\", \"width\": 4}, \"thickness\": 0.75, \"value\": 80}}, \"mode\": \"gauge+number+delta\", \"title\": {\"font\": {\"size\": 24}, \"text\": \"Percentuale Popolazione 16+ Vaccinata con Prima Dose\"}, \"type\": \"indicator\", \"value\": 2.6}],\n",
       "                        {\"font\": {\"color\": \"darkblue\", \"family\": \"Arial\"}, \"paper_bgcolor\": \"lavender\", \"template\": {\"data\": {\"bar\": [{\"error_x\": {\"color\": \"#2a3f5f\"}, \"error_y\": {\"color\": \"#2a3f5f\"}, \"marker\": {\"line\": {\"color\": \"#E5ECF6\", \"width\": 0.5}}, \"type\": \"bar\"}], \"barpolar\": [{\"marker\": {\"line\": {\"color\": \"#E5ECF6\", \"width\": 0.5}}, \"type\": \"barpolar\"}], \"carpet\": [{\"aaxis\": {\"endlinecolor\": \"#2a3f5f\", \"gridcolor\": \"white\", \"linecolor\": \"white\", \"minorgridcolor\": \"white\", \"startlinecolor\": \"#2a3f5f\"}, \"baxis\": {\"endlinecolor\": \"#2a3f5f\", \"gridcolor\": \"white\", \"linecolor\": \"white\", \"minorgridcolor\": \"white\", \"startlinecolor\": \"#2a3f5f\"}, \"type\": \"carpet\"}], \"choropleth\": [{\"colorbar\": {\"outlinewidth\": 0, \"ticks\": \"\"}, \"type\": \"choropleth\"}], \"contour\": [{\"colorbar\": {\"outlinewidth\": 0, \"ticks\": \"\"}, \"colorscale\": [[0.0, \"#0d0887\"], [0.1111111111111111, \"#46039f\"], [0.2222222222222222, \"#7201a8\"], [0.3333333333333333, \"#9c179e\"], [0.4444444444444444, \"#bd3786\"], [0.5555555555555556, \"#d8576b\"], [0.6666666666666666, \"#ed7953\"], [0.7777777777777778, \"#fb9f3a\"], [0.8888888888888888, \"#fdca26\"], [1.0, \"#f0f921\"]], \"type\": \"contour\"}], \"contourcarpet\": [{\"colorbar\": {\"outlinewidth\": 0, \"ticks\": \"\"}, \"type\": \"contourcarpet\"}], \"heatmap\": [{\"colorbar\": {\"outlinewidth\": 0, \"ticks\": \"\"}, \"colorscale\": [[0.0, \"#0d0887\"], [0.1111111111111111, \"#46039f\"], [0.2222222222222222, \"#7201a8\"], [0.3333333333333333, \"#9c179e\"], [0.4444444444444444, \"#bd3786\"], [0.5555555555555556, \"#d8576b\"], [0.6666666666666666, \"#ed7953\"], [0.7777777777777778, \"#fb9f3a\"], [0.8888888888888888, \"#fdca26\"], [1.0, \"#f0f921\"]], \"type\": \"heatmap\"}], \"heatmapgl\": [{\"colorbar\": {\"outlinewidth\": 0, \"ticks\": \"\"}, \"colorscale\": [[0.0, \"#0d0887\"], [0.1111111111111111, \"#46039f\"], [0.2222222222222222, \"#7201a8\"], [0.3333333333333333, \"#9c179e\"], [0.4444444444444444, \"#bd3786\"], [0.5555555555555556, \"#d8576b\"], [0.6666666666666666, \"#ed7953\"], [0.7777777777777778, \"#fb9f3a\"], [0.8888888888888888, \"#fdca26\"], [1.0, \"#f0f921\"]], \"type\": \"heatmapgl\"}], \"histogram\": [{\"marker\": {\"colorbar\": {\"outlinewidth\": 0, \"ticks\": \"\"}}, \"type\": \"histogram\"}], \"histogram2d\": [{\"colorbar\": {\"outlinewidth\": 0, \"ticks\": \"\"}, \"colorscale\": [[0.0, \"#0d0887\"], [0.1111111111111111, \"#46039f\"], [0.2222222222222222, \"#7201a8\"], [0.3333333333333333, \"#9c179e\"], [0.4444444444444444, \"#bd3786\"], [0.5555555555555556, \"#d8576b\"], [0.6666666666666666, \"#ed7953\"], [0.7777777777777778, \"#fb9f3a\"], [0.8888888888888888, \"#fdca26\"], [1.0, \"#f0f921\"]], \"type\": \"histogram2d\"}], \"histogram2dcontour\": [{\"colorbar\": {\"outlinewidth\": 0, \"ticks\": \"\"}, \"colorscale\": [[0.0, \"#0d0887\"], [0.1111111111111111, \"#46039f\"], [0.2222222222222222, \"#7201a8\"], [0.3333333333333333, \"#9c179e\"], [0.4444444444444444, \"#bd3786\"], [0.5555555555555556, \"#d8576b\"], [0.6666666666666666, \"#ed7953\"], [0.7777777777777778, \"#fb9f3a\"], [0.8888888888888888, \"#fdca26\"], [1.0, \"#f0f921\"]], \"type\": \"histogram2dcontour\"}], \"mesh3d\": [{\"colorbar\": {\"outlinewidth\": 0, \"ticks\": \"\"}, \"type\": \"mesh3d\"}], \"parcoords\": [{\"line\": {\"colorbar\": {\"outlinewidth\": 0, \"ticks\": \"\"}}, \"type\": \"parcoords\"}], \"pie\": [{\"automargin\": true, \"type\": \"pie\"}], \"scatter\": [{\"marker\": {\"colorbar\": {\"outlinewidth\": 0, \"ticks\": \"\"}}, \"type\": \"scatter\"}], \"scatter3d\": [{\"line\": {\"colorbar\": {\"outlinewidth\": 0, \"ticks\": \"\"}}, \"marker\": {\"colorbar\": {\"outlinewidth\": 0, \"ticks\": \"\"}}, \"type\": \"scatter3d\"}], \"scattercarpet\": [{\"marker\": {\"colorbar\": {\"outlinewidth\": 0, \"ticks\": \"\"}}, \"type\": \"scattercarpet\"}], \"scattergeo\": [{\"marker\": {\"colorbar\": {\"outlinewidth\": 0, \"ticks\": \"\"}}, \"type\": \"scattergeo\"}], \"scattergl\": [{\"marker\": {\"colorbar\": {\"outlinewidth\": 0, \"ticks\": \"\"}}, \"type\": \"scattergl\"}], \"scattermapbox\": [{\"marker\": {\"colorbar\": {\"outlinewidth\": 0, \"ticks\": \"\"}}, \"type\": \"scattermapbox\"}], \"scatterpolar\": [{\"marker\": {\"colorbar\": {\"outlinewidth\": 0, \"ticks\": \"\"}}, \"type\": \"scatterpolar\"}], \"scatterpolargl\": [{\"marker\": {\"colorbar\": {\"outlinewidth\": 0, \"ticks\": \"\"}}, \"type\": \"scatterpolargl\"}], \"scatterternary\": [{\"marker\": {\"colorbar\": {\"outlinewidth\": 0, \"ticks\": \"\"}}, \"type\": \"scatterternary\"}], \"surface\": [{\"colorbar\": {\"outlinewidth\": 0, \"ticks\": \"\"}, \"colorscale\": [[0.0, \"#0d0887\"], [0.1111111111111111, \"#46039f\"], [0.2222222222222222, \"#7201a8\"], [0.3333333333333333, \"#9c179e\"], [0.4444444444444444, \"#bd3786\"], [0.5555555555555556, \"#d8576b\"], [0.6666666666666666, \"#ed7953\"], [0.7777777777777778, \"#fb9f3a\"], [0.8888888888888888, \"#fdca26\"], [1.0, \"#f0f921\"]], \"type\": \"surface\"}], \"table\": [{\"cells\": {\"fill\": {\"color\": \"#EBF0F8\"}, \"line\": {\"color\": \"white\"}}, \"header\": {\"fill\": {\"color\": \"#C8D4E3\"}, \"line\": {\"color\": \"white\"}}, \"type\": \"table\"}]}, \"layout\": {\"annotationdefaults\": {\"arrowcolor\": \"#2a3f5f\", \"arrowhead\": 0, \"arrowwidth\": 1}, \"coloraxis\": {\"colorbar\": {\"outlinewidth\": 0, \"ticks\": \"\"}}, \"colorscale\": {\"diverging\": [[0, \"#8e0152\"], [0.1, \"#c51b7d\"], [0.2, \"#de77ae\"], [0.3, \"#f1b6da\"], [0.4, \"#fde0ef\"], [0.5, \"#f7f7f7\"], [0.6, \"#e6f5d0\"], [0.7, \"#b8e186\"], [0.8, \"#7fbc41\"], [0.9, \"#4d9221\"], [1, \"#276419\"]], \"sequential\": [[0.0, \"#0d0887\"], [0.1111111111111111, \"#46039f\"], [0.2222222222222222, \"#7201a8\"], [0.3333333333333333, \"#9c179e\"], [0.4444444444444444, \"#bd3786\"], [0.5555555555555556, \"#d8576b\"], [0.6666666666666666, \"#ed7953\"], [0.7777777777777778, \"#fb9f3a\"], [0.8888888888888888, \"#fdca26\"], [1.0, \"#f0f921\"]], \"sequentialminus\": [[0.0, \"#0d0887\"], [0.1111111111111111, \"#46039f\"], [0.2222222222222222, \"#7201a8\"], [0.3333333333333333, \"#9c179e\"], [0.4444444444444444, \"#bd3786\"], [0.5555555555555556, \"#d8576b\"], [0.6666666666666666, \"#ed7953\"], [0.7777777777777778, \"#fb9f3a\"], [0.8888888888888888, \"#fdca26\"], [1.0, \"#f0f921\"]]}, \"colorway\": [\"#636efa\", \"#EF553B\", \"#00cc96\", \"#ab63fa\", \"#FFA15A\", \"#19d3f3\", \"#FF6692\", \"#B6E880\", \"#FF97FF\", \"#FECB52\"], \"font\": {\"color\": \"#2a3f5f\"}, \"geo\": {\"bgcolor\": \"white\", \"lakecolor\": \"white\", \"landcolor\": \"#E5ECF6\", \"showlakes\": true, \"showland\": true, \"subunitcolor\": \"white\"}, \"hoverlabel\": {\"align\": \"left\"}, \"hovermode\": \"closest\", \"mapbox\": {\"style\": \"light\"}, \"paper_bgcolor\": \"white\", \"plot_bgcolor\": \"#E5ECF6\", \"polar\": {\"angularaxis\": {\"gridcolor\": \"white\", \"linecolor\": \"white\", \"ticks\": \"\"}, \"bgcolor\": \"#E5ECF6\", \"radialaxis\": {\"gridcolor\": \"white\", \"linecolor\": \"white\", \"ticks\": \"\"}}, \"scene\": {\"xaxis\": {\"backgroundcolor\": \"#E5ECF6\", \"gridcolor\": \"white\", \"gridwidth\": 2, \"linecolor\": \"white\", \"showbackground\": true, \"ticks\": \"\", \"zerolinecolor\": \"white\"}, \"yaxis\": {\"backgroundcolor\": \"#E5ECF6\", \"gridcolor\": \"white\", \"gridwidth\": 2, \"linecolor\": \"white\", \"showbackground\": true, \"ticks\": \"\", \"zerolinecolor\": \"white\"}, \"zaxis\": {\"backgroundcolor\": \"#E5ECF6\", \"gridcolor\": \"white\", \"gridwidth\": 2, \"linecolor\": \"white\", \"showbackground\": true, \"ticks\": \"\", \"zerolinecolor\": \"white\"}}, \"shapedefaults\": {\"line\": {\"color\": \"#2a3f5f\"}}, \"ternary\": {\"aaxis\": {\"gridcolor\": \"white\", \"linecolor\": \"white\", \"ticks\": \"\"}, \"baxis\": {\"gridcolor\": \"white\", \"linecolor\": \"white\", \"ticks\": \"\"}, \"bgcolor\": \"#E5ECF6\", \"caxis\": {\"gridcolor\": \"white\", \"linecolor\": \"white\", \"ticks\": \"\"}}, \"title\": {\"x\": 0.05}, \"xaxis\": {\"automargin\": true, \"gridcolor\": \"white\", \"linecolor\": \"white\", \"ticks\": \"\", \"title\": {\"standoff\": 15}, \"zerolinecolor\": \"white\", \"zerolinewidth\": 2}, \"yaxis\": {\"automargin\": true, \"gridcolor\": \"white\", \"linecolor\": \"white\", \"ticks\": \"\", \"title\": {\"standoff\": 15}, \"zerolinecolor\": \"white\", \"zerolinewidth\": 2}}}},\n",
       "                        {\"responsive\": true}\n",
       "                    ).then(function(){\n",
       "                            \n",
       "var gd = document.getElementById('297b718b-0e53-42ff-8e84-ae682e87e9f0');\n",
       "var x = new MutationObserver(function (mutations, observer) {{\n",
       "        var display = window.getComputedStyle(gd).display;\n",
       "        if (!display || display === 'none') {{\n",
       "            console.log([gd, 'removed!']);\n",
       "            Plotly.purge(gd);\n",
       "            observer.disconnect();\n",
       "        }}\n",
       "}});\n",
       "\n",
       "// Listen for the removal of the full notebook cells\n",
       "var notebookContainer = gd.closest('#notebook-container');\n",
       "if (notebookContainer) {{\n",
       "    x.observe(notebookContainer, {childList: true});\n",
       "}}\n",
       "\n",
       "// Listen for the clearing of the current output cell\n",
       "var outputEl = gd.closest('.output');\n",
       "if (outputEl) {{\n",
       "    x.observe(outputEl, {childList: true});\n",
       "}}\n",
       "\n",
       "                        })\n",
       "                };\n",
       "                });\n",
       "            </script>\n",
       "        </div>"
      ]
     },
     "metadata": {},
     "output_type": "display_data"
    }
   ],
   "source": [
    "fig = go.Figure(go.Indicator(\n",
    "    mode = \"gauge+number+delta\",\n",
    "    value = float(df_prima.pct_pop_prima_dose.tail(1).round(1)),\n",
    "    domain = {'x': [0, 1], 'y': [0, 1]},\n",
    "    title = {'text': \"Percentuale Popolazione 16+ Vaccinata con Prima Dose\", 'font': {'size': 24}},\n",
    "    delta = {'reference': float(df_prima.pct_pop_prima_dose.iloc[-7]), 'increasing': {'color': \"Green\"},\n",
    "            'valueformat':'.02f'},\n",
    "    gauge = {\n",
    "        'axis': {'range': [None, 100], 'tickwidth': 1, 'tickcolor': \"darkblue\"},\n",
    "        'bar': {'color': \"#FFBF00\"},\n",
    "        'bgcolor': \"white\",\n",
    "        'borderwidth': 2,\n",
    "        'bordercolor': \"gray\",\n",
    "        'steps': [\n",
    "            {'range': [0, 80], 'color': '#85C1E9'},\n",
    "            {'range': [40, 60], 'color': '#85C1E9'},\n",
    "            {'range': [60, 80], 'color': '#85C1E9'}],\n",
    "        'threshold': {\n",
    "            'line': {'color': \"red\", 'width': 4},\n",
    "            'thickness': 0.75,\n",
    "            'value': 80}}))\n",
    "\n",
    "fig.update_layout(paper_bgcolor = \"lavender\", font = {'color': \"darkblue\", 'family': \"Arial\"})\n",
    "\n",
    "fig"
   ]
  },
  {
   "cell_type": "code",
   "execution_count": 1205,
   "metadata": {},
   "outputs": [
    {
     "data": {
      "text/html": [
       "<div>\n",
       "<style scoped>\n",
       "    .dataframe tbody tr th:only-of-type {\n",
       "        vertical-align: middle;\n",
       "    }\n",
       "\n",
       "    .dataframe tbody tr th {\n",
       "        vertical-align: top;\n",
       "    }\n",
       "\n",
       "    .dataframe thead th {\n",
       "        text-align: right;\n",
       "    }\n",
       "</style>\n",
       "<table border=\"1\" class=\"dataframe\">\n",
       "  <thead>\n",
       "    <tr style=\"text-align: right;\">\n",
       "      <th></th>\n",
       "      <th>data_somministrazione</th>\n",
       "      <th>prima_dose</th>\n",
       "      <th>pct_pop_prima_dose</th>\n",
       "      <th>daily_change</th>\n",
       "      <th>prima_dose_giorno</th>\n",
       "      <th>seconda_dose_giorno</th>\n",
       "    </tr>\n",
       "  </thead>\n",
       "  <tbody>\n",
       "    <tr>\n",
       "      <th>0</th>\n",
       "      <td>2021-01-01</td>\n",
       "      <td>10913</td>\n",
       "      <td>0.021589</td>\n",
       "      <td>NaN</td>\n",
       "      <td>0.0</td>\n",
       "      <td>0.0</td>\n",
       "    </tr>\n",
       "    <tr>\n",
       "      <th>1</th>\n",
       "      <td>2021-01-02</td>\n",
       "      <td>48797</td>\n",
       "      <td>0.096535</td>\n",
       "      <td>0.074946</td>\n",
       "      <td>37884.0</td>\n",
       "      <td>0.0</td>\n",
       "    </tr>\n",
       "    <tr>\n",
       "      <th>2</th>\n",
       "      <td>2021-01-03</td>\n",
       "      <td>83612</td>\n",
       "      <td>0.165409</td>\n",
       "      <td>0.068874</td>\n",
       "      <td>34815.0</td>\n",
       "      <td>0.0</td>\n",
       "    </tr>\n",
       "    <tr>\n",
       "      <th>3</th>\n",
       "      <td>2021-01-04</td>\n",
       "      <td>151273</td>\n",
       "      <td>0.299263</td>\n",
       "      <td>0.133853</td>\n",
       "      <td>67661.0</td>\n",
       "      <td>0.0</td>\n",
       "    </tr>\n",
       "    <tr>\n",
       "      <th>4</th>\n",
       "      <td>2021-01-05</td>\n",
       "      <td>230087</td>\n",
       "      <td>0.455180</td>\n",
       "      <td>0.155917</td>\n",
       "      <td>78814.0</td>\n",
       "      <td>0.0</td>\n",
       "    </tr>\n",
       "    <tr>\n",
       "      <th>5</th>\n",
       "      <td>2021-01-06</td>\n",
       "      <td>294815</td>\n",
       "      <td>0.583231</td>\n",
       "      <td>0.128051</td>\n",
       "      <td>64728.0</td>\n",
       "      <td>0.0</td>\n",
       "    </tr>\n",
       "    <tr>\n",
       "      <th>6</th>\n",
       "      <td>2021-01-07</td>\n",
       "      <td>385941</td>\n",
       "      <td>0.763505</td>\n",
       "      <td>0.180274</td>\n",
       "      <td>91126.0</td>\n",
       "      <td>0.0</td>\n",
       "    </tr>\n",
       "    <tr>\n",
       "      <th>7</th>\n",
       "      <td>2021-01-08</td>\n",
       "      <td>480555</td>\n",
       "      <td>0.950679</td>\n",
       "      <td>0.187174</td>\n",
       "      <td>94614.0</td>\n",
       "      <td>0.0</td>\n",
       "    </tr>\n",
       "    <tr>\n",
       "      <th>8</th>\n",
       "      <td>2021-01-09</td>\n",
       "      <td>566969</td>\n",
       "      <td>1.121632</td>\n",
       "      <td>0.170952</td>\n",
       "      <td>86414.0</td>\n",
       "      <td>0.0</td>\n",
       "    </tr>\n",
       "    <tr>\n",
       "      <th>9</th>\n",
       "      <td>2021-01-10</td>\n",
       "      <td>627039</td>\n",
       "      <td>1.240468</td>\n",
       "      <td>0.118836</td>\n",
       "      <td>60070.0</td>\n",
       "      <td>0.0</td>\n",
       "    </tr>\n",
       "    <tr>\n",
       "      <th>10</th>\n",
       "      <td>2021-01-11</td>\n",
       "      <td>707291</td>\n",
       "      <td>1.399230</td>\n",
       "      <td>0.158762</td>\n",
       "      <td>80252.0</td>\n",
       "      <td>0.0</td>\n",
       "    </tr>\n",
       "    <tr>\n",
       "      <th>11</th>\n",
       "      <td>2021-01-12</td>\n",
       "      <td>787654</td>\n",
       "      <td>1.558211</td>\n",
       "      <td>0.158982</td>\n",
       "      <td>80363.0</td>\n",
       "      <td>0.0</td>\n",
       "    </tr>\n",
       "    <tr>\n",
       "      <th>12</th>\n",
       "      <td>2021-01-13</td>\n",
       "      <td>879964</td>\n",
       "      <td>1.740828</td>\n",
       "      <td>0.182616</td>\n",
       "      <td>92310.0</td>\n",
       "      <td>0.0</td>\n",
       "    </tr>\n",
       "    <tr>\n",
       "      <th>13</th>\n",
       "      <td>2021-01-14</td>\n",
       "      <td>971410</td>\n",
       "      <td>1.921735</td>\n",
       "      <td>0.180907</td>\n",
       "      <td>91446.0</td>\n",
       "      <td>0.0</td>\n",
       "    </tr>\n",
       "    <tr>\n",
       "      <th>14</th>\n",
       "      <td>2021-01-15</td>\n",
       "      <td>1058704</td>\n",
       "      <td>2.094428</td>\n",
       "      <td>0.172693</td>\n",
       "      <td>87294.0</td>\n",
       "      <td>0.0</td>\n",
       "    </tr>\n",
       "    <tr>\n",
       "      <th>15</th>\n",
       "      <td>2021-01-16</td>\n",
       "      <td>1122006</td>\n",
       "      <td>2.219658</td>\n",
       "      <td>0.125230</td>\n",
       "      <td>63302.0</td>\n",
       "      <td>0.0</td>\n",
       "    </tr>\n",
       "    <tr>\n",
       "      <th>16</th>\n",
       "      <td>2021-01-17</td>\n",
       "      <td>1155062</td>\n",
       "      <td>2.285053</td>\n",
       "      <td>0.065394</td>\n",
       "      <td>33056.0</td>\n",
       "      <td>2800.0</td>\n",
       "    </tr>\n",
       "    <tr>\n",
       "      <th>17</th>\n",
       "      <td>2021-01-18</td>\n",
       "      <td>1192077</td>\n",
       "      <td>2.358279</td>\n",
       "      <td>0.073227</td>\n",
       "      <td>37015.0</td>\n",
       "      <td>4393.0</td>\n",
       "    </tr>\n",
       "    <tr>\n",
       "      <th>18</th>\n",
       "      <td>2021-01-19</td>\n",
       "      <td>1221947</td>\n",
       "      <td>2.417371</td>\n",
       "      <td>0.059092</td>\n",
       "      <td>29870.0</td>\n",
       "      <td>1776.0</td>\n",
       "    </tr>\n",
       "    <tr>\n",
       "      <th>19</th>\n",
       "      <td>2021-01-20</td>\n",
       "      <td>1246692</td>\n",
       "      <td>2.466324</td>\n",
       "      <td>0.048953</td>\n",
       "      <td>24745.0</td>\n",
       "      <td>4480.0</td>\n",
       "    </tr>\n",
       "    <tr>\n",
       "      <th>20</th>\n",
       "      <td>2021-01-21</td>\n",
       "      <td>1261557</td>\n",
       "      <td>2.495731</td>\n",
       "      <td>0.029407</td>\n",
       "      <td>14865.0</td>\n",
       "      <td>19377.0</td>\n",
       "    </tr>\n",
       "    <tr>\n",
       "      <th>21</th>\n",
       "      <td>2021-01-22</td>\n",
       "      <td>1273226</td>\n",
       "      <td>2.518816</td>\n",
       "      <td>0.023085</td>\n",
       "      <td>11669.0</td>\n",
       "      <td>13876.0</td>\n",
       "    </tr>\n",
       "    <tr>\n",
       "      <th>22</th>\n",
       "      <td>2021-01-23</td>\n",
       "      <td>1278816</td>\n",
       "      <td>2.529875</td>\n",
       "      <td>0.011059</td>\n",
       "      <td>5590.0</td>\n",
       "      <td>32635.0</td>\n",
       "    </tr>\n",
       "    <tr>\n",
       "      <th>23</th>\n",
       "      <td>2021-01-24</td>\n",
       "      <td>1281799</td>\n",
       "      <td>2.535776</td>\n",
       "      <td>0.005901</td>\n",
       "      <td>2983.0</td>\n",
       "      <td>30548.0</td>\n",
       "    </tr>\n",
       "    <tr>\n",
       "      <th>24</th>\n",
       "      <td>2021-01-25</td>\n",
       "      <td>1286269</td>\n",
       "      <td>2.544619</td>\n",
       "      <td>0.008843</td>\n",
       "      <td>4470.0</td>\n",
       "      <td>63548.0</td>\n",
       "    </tr>\n",
       "    <tr>\n",
       "      <th>25</th>\n",
       "      <td>2021-01-26</td>\n",
       "      <td>1290386</td>\n",
       "      <td>2.552763</td>\n",
       "      <td>0.008145</td>\n",
       "      <td>4117.0</td>\n",
       "      <td>75094.0</td>\n",
       "    </tr>\n",
       "    <tr>\n",
       "      <th>26</th>\n",
       "      <td>2021-01-27</td>\n",
       "      <td>1296209</td>\n",
       "      <td>2.564283</td>\n",
       "      <td>0.011520</td>\n",
       "      <td>5823.0</td>\n",
       "      <td>64002.0</td>\n",
       "    </tr>\n",
       "    <tr>\n",
       "      <th>27</th>\n",
       "      <td>2021-01-28</td>\n",
       "      <td>1300514</td>\n",
       "      <td>2.572800</td>\n",
       "      <td>0.008517</td>\n",
       "      <td>4305.0</td>\n",
       "      <td>88025.0</td>\n",
       "    </tr>\n",
       "    <tr>\n",
       "      <th>28</th>\n",
       "      <td>2021-01-29</td>\n",
       "      <td>1304793</td>\n",
       "      <td>2.581265</td>\n",
       "      <td>0.008465</td>\n",
       "      <td>4279.0</td>\n",
       "      <td>91309.0</td>\n",
       "    </tr>\n",
       "    <tr>\n",
       "      <th>29</th>\n",
       "      <td>2021-01-30</td>\n",
       "      <td>1308516</td>\n",
       "      <td>2.588630</td>\n",
       "      <td>0.007365</td>\n",
       "      <td>3723.0</td>\n",
       "      <td>83762.0</td>\n",
       "    </tr>\n",
       "    <tr>\n",
       "      <th>30</th>\n",
       "      <td>2021-01-31</td>\n",
       "      <td>1310962</td>\n",
       "      <td>2.593469</td>\n",
       "      <td>0.004839</td>\n",
       "      <td>2446.0</td>\n",
       "      <td>56241.0</td>\n",
       "    </tr>\n",
       "    <tr>\n",
       "      <th>31</th>\n",
       "      <td>2021-02-01</td>\n",
       "      <td>1315137</td>\n",
       "      <td>2.601728</td>\n",
       "      <td>0.008259</td>\n",
       "      <td>4175.0</td>\n",
       "      <td>77680.0</td>\n",
       "    </tr>\n",
       "    <tr>\n",
       "      <th>32</th>\n",
       "      <td>2021-02-02</td>\n",
       "      <td>1321020</td>\n",
       "      <td>2.613366</td>\n",
       "      <td>0.011638</td>\n",
       "      <td>5883.0</td>\n",
       "      <td>77600.0</td>\n",
       "    </tr>\n",
       "    <tr>\n",
       "      <th>33</th>\n",
       "      <td>2021-02-03</td>\n",
       "      <td>1329294</td>\n",
       "      <td>2.629735</td>\n",
       "      <td>0.016368</td>\n",
       "      <td>8274.0</td>\n",
       "      <td>85172.0</td>\n",
       "    </tr>\n",
       "    <tr>\n",
       "      <th>34</th>\n",
       "      <td>2021-02-04</td>\n",
       "      <td>1337304</td>\n",
       "      <td>2.645581</td>\n",
       "      <td>0.015846</td>\n",
       "      <td>8010.0</td>\n",
       "      <td>70233.0</td>\n",
       "    </tr>\n",
       "  </tbody>\n",
       "</table>\n",
       "</div>"
      ],
      "text/plain": [
       "   data_somministrazione  prima_dose  pct_pop_prima_dose  daily_change  \\\n",
       "0             2021-01-01       10913            0.021589           NaN   \n",
       "1             2021-01-02       48797            0.096535      0.074946   \n",
       "2             2021-01-03       83612            0.165409      0.068874   \n",
       "3             2021-01-04      151273            0.299263      0.133853   \n",
       "4             2021-01-05      230087            0.455180      0.155917   \n",
       "5             2021-01-06      294815            0.583231      0.128051   \n",
       "6             2021-01-07      385941            0.763505      0.180274   \n",
       "7             2021-01-08      480555            0.950679      0.187174   \n",
       "8             2021-01-09      566969            1.121632      0.170952   \n",
       "9             2021-01-10      627039            1.240468      0.118836   \n",
       "10            2021-01-11      707291            1.399230      0.158762   \n",
       "11            2021-01-12      787654            1.558211      0.158982   \n",
       "12            2021-01-13      879964            1.740828      0.182616   \n",
       "13            2021-01-14      971410            1.921735      0.180907   \n",
       "14            2021-01-15     1058704            2.094428      0.172693   \n",
       "15            2021-01-16     1122006            2.219658      0.125230   \n",
       "16            2021-01-17     1155062            2.285053      0.065394   \n",
       "17            2021-01-18     1192077            2.358279      0.073227   \n",
       "18            2021-01-19     1221947            2.417371      0.059092   \n",
       "19            2021-01-20     1246692            2.466324      0.048953   \n",
       "20            2021-01-21     1261557            2.495731      0.029407   \n",
       "21            2021-01-22     1273226            2.518816      0.023085   \n",
       "22            2021-01-23     1278816            2.529875      0.011059   \n",
       "23            2021-01-24     1281799            2.535776      0.005901   \n",
       "24            2021-01-25     1286269            2.544619      0.008843   \n",
       "25            2021-01-26     1290386            2.552763      0.008145   \n",
       "26            2021-01-27     1296209            2.564283      0.011520   \n",
       "27            2021-01-28     1300514            2.572800      0.008517   \n",
       "28            2021-01-29     1304793            2.581265      0.008465   \n",
       "29            2021-01-30     1308516            2.588630      0.007365   \n",
       "30            2021-01-31     1310962            2.593469      0.004839   \n",
       "31            2021-02-01     1315137            2.601728      0.008259   \n",
       "32            2021-02-02     1321020            2.613366      0.011638   \n",
       "33            2021-02-03     1329294            2.629735      0.016368   \n",
       "34            2021-02-04     1337304            2.645581      0.015846   \n",
       "\n",
       "    prima_dose_giorno  seconda_dose_giorno  \n",
       "0                 0.0                  0.0  \n",
       "1             37884.0                  0.0  \n",
       "2             34815.0                  0.0  \n",
       "3             67661.0                  0.0  \n",
       "4             78814.0                  0.0  \n",
       "5             64728.0                  0.0  \n",
       "6             91126.0                  0.0  \n",
       "7             94614.0                  0.0  \n",
       "8             86414.0                  0.0  \n",
       "9             60070.0                  0.0  \n",
       "10            80252.0                  0.0  \n",
       "11            80363.0                  0.0  \n",
       "12            92310.0                  0.0  \n",
       "13            91446.0                  0.0  \n",
       "14            87294.0                  0.0  \n",
       "15            63302.0                  0.0  \n",
       "16            33056.0               2800.0  \n",
       "17            37015.0               4393.0  \n",
       "18            29870.0               1776.0  \n",
       "19            24745.0               4480.0  \n",
       "20            14865.0              19377.0  \n",
       "21            11669.0              13876.0  \n",
       "22             5590.0              32635.0  \n",
       "23             2983.0              30548.0  \n",
       "24             4470.0              63548.0  \n",
       "25             4117.0              75094.0  \n",
       "26             5823.0              64002.0  \n",
       "27             4305.0              88025.0  \n",
       "28             4279.0              91309.0  \n",
       "29             3723.0              83762.0  \n",
       "30             2446.0              56241.0  \n",
       "31             4175.0              77680.0  \n",
       "32             5883.0              77600.0  \n",
       "33             8274.0              85172.0  \n",
       "34             8010.0              70233.0  "
      ]
     },
     "execution_count": 1205,
     "metadata": {},
     "output_type": "execute_result"
    }
   ],
   "source": [
    "df_prima['seconda_dose_giorno'] = df_seconda.seconda_dose.diff().fillna(0)\n",
    "df_prima"
   ]
  },
  {
   "cell_type": "code",
   "execution_count": 1206,
   "metadata": {},
   "outputs": [
    {
     "data": {
      "image/png": "[encoded data removed]",
      "text/plain": [
       "<Figure size 1008x504 with 1 Axes>"
      ]
     },
     "metadata": {},
     "output_type": "display_data"
    }
   ],
   "source": [
    "plt.figure(figsize=(14,7))\n",
    "sns.lineplot(data=df_prima, x='data_somministrazione', y='prima_dose_giorno', \n",
    "             linewidth=4).set_title('Elaborazione: @TomZ_UK - Dati: ISS')\n",
    "plt.suptitle('Somministrazioni Quotidiane - Prima Dose', fontsize=20)\n",
    "plt.xlabel('')\n",
    "plt.xticks(fontsize=14)\n",
    "plt.ylabel('')\n",
    "plt.yticks(fontsize=14)\n",
    "\n",
    "plt.savefig('daily_first_doses.png')"
   ]
  },
  {
   "cell_type": "code",
   "execution_count": 1207,
   "metadata": {},
   "outputs": [
    {
     "name": "stderr",
     "output_type": "stream",
     "text": [
      "/Users/admin/opt/anaconda3/lib/python3.7/site-packages/pandas/core/frame.py:4446: SettingWithCopyWarning:\n",
      "\n",
      "\n",
      "A value is trying to be set on a copy of a slice from a DataFrame\n",
      "\n",
      "See the caveats in the documentation: https://pandas.pydata.org/pandas-docs/stable/user_guide/indexing.html#returning-a-view-versus-a-copy\n",
      "\n"
     ]
    },
    {
     "data": {
      "text/html": [
       "<div>\n",
       "<style scoped>\n",
       "    .dataframe tbody tr th:only-of-type {\n",
       "        vertical-align: middle;\n",
       "    }\n",
       "\n",
       "    .dataframe tbody tr th {\n",
       "        vertical-align: top;\n",
       "    }\n",
       "\n",
       "    .dataframe thead th {\n",
       "        text-align: right;\n",
       "    }\n",
       "</style>\n",
       "<table border=\"1\" class=\"dataframe\">\n",
       "  <thead>\n",
       "    <tr style=\"text-align: right;\">\n",
       "      <th></th>\n",
       "      <th>data_somministrazione</th>\n",
       "      <th>Prima Dose</th>\n",
       "      <th>Seconda Dose</th>\n",
       "    </tr>\n",
       "  </thead>\n",
       "  <tbody>\n",
       "    <tr>\n",
       "      <th>0</th>\n",
       "      <td>2021-01-01</td>\n",
       "      <td>0.0</td>\n",
       "      <td>0.0</td>\n",
       "    </tr>\n",
       "    <tr>\n",
       "      <th>1</th>\n",
       "      <td>2021-01-02</td>\n",
       "      <td>37884.0</td>\n",
       "      <td>0.0</td>\n",
       "    </tr>\n",
       "    <tr>\n",
       "      <th>2</th>\n",
       "      <td>2021-01-03</td>\n",
       "      <td>34815.0</td>\n",
       "      <td>0.0</td>\n",
       "    </tr>\n",
       "    <tr>\n",
       "      <th>3</th>\n",
       "      <td>2021-01-04</td>\n",
       "      <td>67661.0</td>\n",
       "      <td>0.0</td>\n",
       "    </tr>\n",
       "    <tr>\n",
       "      <th>4</th>\n",
       "      <td>2021-01-05</td>\n",
       "      <td>78814.0</td>\n",
       "      <td>0.0</td>\n",
       "    </tr>\n",
       "    <tr>\n",
       "      <th>5</th>\n",
       "      <td>2021-01-06</td>\n",
       "      <td>64728.0</td>\n",
       "      <td>0.0</td>\n",
       "    </tr>\n",
       "    <tr>\n",
       "      <th>6</th>\n",
       "      <td>2021-01-07</td>\n",
       "      <td>91126.0</td>\n",
       "      <td>0.0</td>\n",
       "    </tr>\n",
       "    <tr>\n",
       "      <th>7</th>\n",
       "      <td>2021-01-08</td>\n",
       "      <td>94614.0</td>\n",
       "      <td>0.0</td>\n",
       "    </tr>\n",
       "    <tr>\n",
       "      <th>8</th>\n",
       "      <td>2021-01-09</td>\n",
       "      <td>86414.0</td>\n",
       "      <td>0.0</td>\n",
       "    </tr>\n",
       "    <tr>\n",
       "      <th>9</th>\n",
       "      <td>2021-01-10</td>\n",
       "      <td>60070.0</td>\n",
       "      <td>0.0</td>\n",
       "    </tr>\n",
       "    <tr>\n",
       "      <th>10</th>\n",
       "      <td>2021-01-11</td>\n",
       "      <td>80252.0</td>\n",
       "      <td>0.0</td>\n",
       "    </tr>\n",
       "    <tr>\n",
       "      <th>11</th>\n",
       "      <td>2021-01-12</td>\n",
       "      <td>80363.0</td>\n",
       "      <td>0.0</td>\n",
       "    </tr>\n",
       "    <tr>\n",
       "      <th>12</th>\n",
       "      <td>2021-01-13</td>\n",
       "      <td>92310.0</td>\n",
       "      <td>0.0</td>\n",
       "    </tr>\n",
       "    <tr>\n",
       "      <th>13</th>\n",
       "      <td>2021-01-14</td>\n",
       "      <td>91446.0</td>\n",
       "      <td>0.0</td>\n",
       "    </tr>\n",
       "    <tr>\n",
       "      <th>14</th>\n",
       "      <td>2021-01-15</td>\n",
       "      <td>87294.0</td>\n",
       "      <td>0.0</td>\n",
       "    </tr>\n",
       "    <tr>\n",
       "      <th>15</th>\n",
       "      <td>2021-01-16</td>\n",
       "      <td>63302.0</td>\n",
       "      <td>0.0</td>\n",
       "    </tr>\n",
       "    <tr>\n",
       "      <th>16</th>\n",
       "      <td>2021-01-17</td>\n",
       "      <td>33056.0</td>\n",
       "      <td>2800.0</td>\n",
       "    </tr>\n",
       "    <tr>\n",
       "      <th>17</th>\n",
       "      <td>2021-01-18</td>\n",
       "      <td>37015.0</td>\n",
       "      <td>4393.0</td>\n",
       "    </tr>\n",
       "    <tr>\n",
       "      <th>18</th>\n",
       "      <td>2021-01-19</td>\n",
       "      <td>29870.0</td>\n",
       "      <td>1776.0</td>\n",
       "    </tr>\n",
       "    <tr>\n",
       "      <th>19</th>\n",
       "      <td>2021-01-20</td>\n",
       "      <td>24745.0</td>\n",
       "      <td>4480.0</td>\n",
       "    </tr>\n",
       "    <tr>\n",
       "      <th>20</th>\n",
       "      <td>2021-01-21</td>\n",
       "      <td>14865.0</td>\n",
       "      <td>19377.0</td>\n",
       "    </tr>\n",
       "    <tr>\n",
       "      <th>21</th>\n",
       "      <td>2021-01-22</td>\n",
       "      <td>11669.0</td>\n",
       "      <td>13876.0</td>\n",
       "    </tr>\n",
       "    <tr>\n",
       "      <th>22</th>\n",
       "      <td>2021-01-23</td>\n",
       "      <td>5590.0</td>\n",
       "      <td>32635.0</td>\n",
       "    </tr>\n",
       "    <tr>\n",
       "      <th>23</th>\n",
       "      <td>2021-01-24</td>\n",
       "      <td>2983.0</td>\n",
       "      <td>30548.0</td>\n",
       "    </tr>\n",
       "    <tr>\n",
       "      <th>24</th>\n",
       "      <td>2021-01-25</td>\n",
       "      <td>4470.0</td>\n",
       "      <td>63548.0</td>\n",
       "    </tr>\n",
       "    <tr>\n",
       "      <th>25</th>\n",
       "      <td>2021-01-26</td>\n",
       "      <td>4117.0</td>\n",
       "      <td>75094.0</td>\n",
       "    </tr>\n",
       "    <tr>\n",
       "      <th>26</th>\n",
       "      <td>2021-01-27</td>\n",
       "      <td>5823.0</td>\n",
       "      <td>64002.0</td>\n",
       "    </tr>\n",
       "    <tr>\n",
       "      <th>27</th>\n",
       "      <td>2021-01-28</td>\n",
       "      <td>4305.0</td>\n",
       "      <td>88025.0</td>\n",
       "    </tr>\n",
       "    <tr>\n",
       "      <th>28</th>\n",
       "      <td>2021-01-29</td>\n",
       "      <td>4279.0</td>\n",
       "      <td>91309.0</td>\n",
       "    </tr>\n",
       "    <tr>\n",
       "      <th>29</th>\n",
       "      <td>2021-01-30</td>\n",
       "      <td>3723.0</td>\n",
       "      <td>83762.0</td>\n",
       "    </tr>\n",
       "    <tr>\n",
       "      <th>30</th>\n",
       "      <td>2021-01-31</td>\n",
       "      <td>2446.0</td>\n",
       "      <td>56241.0</td>\n",
       "    </tr>\n",
       "    <tr>\n",
       "      <th>31</th>\n",
       "      <td>2021-02-01</td>\n",
       "      <td>4175.0</td>\n",
       "      <td>77680.0</td>\n",
       "    </tr>\n",
       "    <tr>\n",
       "      <th>32</th>\n",
       "      <td>2021-02-02</td>\n",
       "      <td>5883.0</td>\n",
       "      <td>77600.0</td>\n",
       "    </tr>\n",
       "    <tr>\n",
       "      <th>33</th>\n",
       "      <td>2021-02-03</td>\n",
       "      <td>8274.0</td>\n",
       "      <td>85172.0</td>\n",
       "    </tr>\n",
       "    <tr>\n",
       "      <th>34</th>\n",
       "      <td>2021-02-04</td>\n",
       "      <td>8010.0</td>\n",
       "      <td>70233.0</td>\n",
       "    </tr>\n",
       "  </tbody>\n",
       "</table>\n",
       "</div>"
      ],
      "text/plain": [
       "   data_somministrazione  Prima Dose  Seconda Dose\n",
       "0             2021-01-01         0.0           0.0\n",
       "1             2021-01-02     37884.0           0.0\n",
       "2             2021-01-03     34815.0           0.0\n",
       "3             2021-01-04     67661.0           0.0\n",
       "4             2021-01-05     78814.0           0.0\n",
       "5             2021-01-06     64728.0           0.0\n",
       "6             2021-01-07     91126.0           0.0\n",
       "7             2021-01-08     94614.0           0.0\n",
       "8             2021-01-09     86414.0           0.0\n",
       "9             2021-01-10     60070.0           0.0\n",
       "10            2021-01-11     80252.0           0.0\n",
       "11            2021-01-12     80363.0           0.0\n",
       "12            2021-01-13     92310.0           0.0\n",
       "13            2021-01-14     91446.0           0.0\n",
       "14            2021-01-15     87294.0           0.0\n",
       "15            2021-01-16     63302.0           0.0\n",
       "16            2021-01-17     33056.0        2800.0\n",
       "17            2021-01-18     37015.0        4393.0\n",
       "18            2021-01-19     29870.0        1776.0\n",
       "19            2021-01-20     24745.0        4480.0\n",
       "20            2021-01-21     14865.0       19377.0\n",
       "21            2021-01-22     11669.0       13876.0\n",
       "22            2021-01-23      5590.0       32635.0\n",
       "23            2021-01-24      2983.0       30548.0\n",
       "24            2021-01-25      4470.0       63548.0\n",
       "25            2021-01-26      4117.0       75094.0\n",
       "26            2021-01-27      5823.0       64002.0\n",
       "27            2021-01-28      4305.0       88025.0\n",
       "28            2021-01-29      4279.0       91309.0\n",
       "29            2021-01-30      3723.0       83762.0\n",
       "30            2021-01-31      2446.0       56241.0\n",
       "31            2021-02-01      4175.0       77680.0\n",
       "32            2021-02-02      5883.0       77600.0\n",
       "33            2021-02-03      8274.0       85172.0\n",
       "34            2021-02-04      8010.0       70233.0"
      ]
     },
     "execution_count": 1207,
     "metadata": {},
     "output_type": "execute_result"
    }
   ],
   "source": [
    "df_pl = df_prima[['data_somministrazione','prima_dose_giorno','seconda_dose_giorno']]\n",
    "df_pl.rename(columns={'prima_dose_giorno':'Prima Dose', 'seconda_dose_giorno':'Seconda Dose'}, inplace=True)\n",
    "df_pl"
   ]
  },
  {
   "cell_type": "code",
   "execution_count": 1208,
   "metadata": {},
   "outputs": [],
   "source": [
    "df_pl = df_pl.melt(id_vars=['data_somministrazione'])\n"
   ]
  },
  {
   "cell_type": "code",
   "execution_count": 1209,
   "metadata": {},
   "outputs": [
    {
     "data": {
      "image/png": "[encoded data removed]",
      "text/plain": [
       "<Figure size 1008x504 with 1 Axes>"
      ]
     },
     "metadata": {},
     "output_type": "display_data"
    }
   ],
   "source": [
    "\n",
    "plt.figure(figsize=(14,7))\n",
    "sns.lineplot(data=df_pl, x='data_somministrazione',y='value',hue='variable',\n",
    "            linewidth=3, palette='tab10', marker='o').set_title('Elaborazione: @TomZ_UK - Dati: ISS')\n",
    "plt.suptitle('Somministrazioni Giornaliere', fontsize=20)\n",
    "plt.legend(fontsize=14)\n",
    "\n",
    "plt.xlabel('')\n",
    "plt.xticks(fontsize=14, rotation=45)\n",
    "plt.ylabel('')\n",
    "plt.yticks(fontsize=14)\n",
    "\n",
    "plt.savefig('daily_doses.png')"
   ]
  },
  {
   "cell_type": "markdown",
   "metadata": {},
   "source": [
    "# Regionale"
   ]
  },
  {
   "cell_type": "code",
   "execution_count": 1210,
   "metadata": {},
   "outputs": [
    {
     "name": "stderr",
     "output_type": "stream",
     "text": [
      "/Users/admin/opt/anaconda3/lib/python3.7/site-packages/ipykernel_launcher.py:1: FutureWarning:\n",
      "\n",
      "Indexing with multiple keys (implicitly converted to a tuple of keys) will be deprecated, use a list instead.\n",
      "\n"
     ]
    },
    {
     "data": {
      "text/html": [
       "<div>\n",
       "<style scoped>\n",
       "    .dataframe tbody tr th:only-of-type {\n",
       "        vertical-align: middle;\n",
       "    }\n",
       "\n",
       "    .dataframe tbody tr th {\n",
       "        vertical-align: top;\n",
       "    }\n",
       "\n",
       "    .dataframe thead th {\n",
       "        text-align: right;\n",
       "    }\n",
       "</style>\n",
       "<table border=\"1\" class=\"dataframe\">\n",
       "  <thead>\n",
       "    <tr style=\"text-align: right;\">\n",
       "      <th></th>\n",
       "      <th>prima_dose</th>\n",
       "      <th>seconda_dose</th>\n",
       "    </tr>\n",
       "    <tr>\n",
       "      <th>area</th>\n",
       "      <th></th>\n",
       "      <th></th>\n",
       "    </tr>\n",
       "  </thead>\n",
       "  <tbody>\n",
       "    <tr>\n",
       "      <th>ABR</th>\n",
       "      <td>20739</td>\n",
       "      <td>15619</td>\n",
       "    </tr>\n",
       "    <tr>\n",
       "      <th>BAS</th>\n",
       "      <td>11392</td>\n",
       "      <td>7249</td>\n",
       "    </tr>\n",
       "    <tr>\n",
       "      <th>CAL</th>\n",
       "      <td>33859</td>\n",
       "      <td>18124</td>\n",
       "    </tr>\n",
       "    <tr>\n",
       "      <th>CAM</th>\n",
       "      <td>108888</td>\n",
       "      <td>91263</td>\n",
       "    </tr>\n",
       "    <tr>\n",
       "      <th>EMR</th>\n",
       "      <td>132026</td>\n",
       "      <td>98948</td>\n",
       "    </tr>\n",
       "    <tr>\n",
       "      <th>FVG</th>\n",
       "      <td>34034</td>\n",
       "      <td>23825</td>\n",
       "    </tr>\n",
       "    <tr>\n",
       "      <th>LAZ</th>\n",
       "      <td>116105</td>\n",
       "      <td>82411</td>\n",
       "    </tr>\n",
       "    <tr>\n",
       "      <th>LIG</th>\n",
       "      <td>36238</td>\n",
       "      <td>23301</td>\n",
       "    </tr>\n",
       "    <tr>\n",
       "      <th>LOM</th>\n",
       "      <td>235670</td>\n",
       "      <td>143114</td>\n",
       "    </tr>\n",
       "    <tr>\n",
       "      <th>MAR</th>\n",
       "      <td>28411</td>\n",
       "      <td>20576</td>\n",
       "    </tr>\n",
       "    <tr>\n",
       "      <th>MOL</th>\n",
       "      <td>7293</td>\n",
       "      <td>5087</td>\n",
       "    </tr>\n",
       "    <tr>\n",
       "      <th>PAB</th>\n",
       "      <td>21445</td>\n",
       "      <td>11012</td>\n",
       "    </tr>\n",
       "    <tr>\n",
       "      <th>PAT</th>\n",
       "      <td>13010</td>\n",
       "      <td>8459</td>\n",
       "    </tr>\n",
       "    <tr>\n",
       "      <th>PIE</th>\n",
       "      <td>132828</td>\n",
       "      <td>82085</td>\n",
       "    </tr>\n",
       "    <tr>\n",
       "      <th>PUG</th>\n",
       "      <td>74034</td>\n",
       "      <td>48891</td>\n",
       "    </tr>\n",
       "    <tr>\n",
       "      <th>SAR</th>\n",
       "      <td>27986</td>\n",
       "      <td>19476</td>\n",
       "    </tr>\n",
       "    <tr>\n",
       "      <th>SIC</th>\n",
       "      <td>97106</td>\n",
       "      <td>83808</td>\n",
       "    </tr>\n",
       "    <tr>\n",
       "      <th>TOS</th>\n",
       "      <td>77201</td>\n",
       "      <td>59275</td>\n",
       "    </tr>\n",
       "    <tr>\n",
       "      <th>UMB</th>\n",
       "      <td>14689</td>\n",
       "      <td>11536</td>\n",
       "    </tr>\n",
       "    <tr>\n",
       "      <th>VDA</th>\n",
       "      <td>4186</td>\n",
       "      <td>2656</td>\n",
       "    </tr>\n",
       "    <tr>\n",
       "      <th>VEN</th>\n",
       "      <td>110164</td>\n",
       "      <td>85836</td>\n",
       "    </tr>\n",
       "  </tbody>\n",
       "</table>\n",
       "</div>"
      ],
      "text/plain": [
       "      prima_dose  seconda_dose\n",
       "area                          \n",
       "ABR        20739         15619\n",
       "BAS        11392          7249\n",
       "CAL        33859         18124\n",
       "CAM       108888         91263\n",
       "EMR       132026         98948\n",
       "FVG        34034         23825\n",
       "LAZ       116105         82411\n",
       "LIG        36238         23301\n",
       "LOM       235670        143114\n",
       "MAR        28411         20576\n",
       "MOL         7293          5087\n",
       "PAB        21445         11012\n",
       "PAT        13010          8459\n",
       "PIE       132828         82085\n",
       "PUG        74034         48891\n",
       "SAR        27986         19476\n",
       "SIC        97106         83808\n",
       "TOS        77201         59275\n",
       "UMB        14689         11536\n",
       "VDA         4186          2656\n",
       "VEN       110164         85836"
      ]
     },
     "execution_count": 1210,
     "metadata": {},
     "output_type": "execute_result"
    }
   ],
   "source": [
    "df_reg = df.groupby('area')['prima_dose','seconda_dose'].sum()\n",
    "df_reg"
   ]
  },
  {
   "cell_type": "code",
   "execution_count": 1211,
   "metadata": {},
   "outputs": [],
   "source": [
    "df_reg.rename(index={'ABR':'Abruzzo','BAS':'Basilicata','CAL':'Calabria',\n",
    "                    'CAM':'Campania','EMR':'Emilia-Romagna','FVG':'Friuli Venezia Giulia',\n",
    "                    'LAZ':'Lazio','LIG':'Liguria','LOM':'Lombardia','MAR':'Marche','MOL':'Molise',\n",
    "                    'PIE':'Piemonte','PUG':'Puglia','SAR':'Sardegna','SIC':'Sicilia','TOS':'Toscana',\n",
    "                    'UMB':'Umbria','VDA':\"Valle d'Aosta\",'VEN':'Veneto'}, inplace=True)"
   ]
  },
  {
   "cell_type": "code",
   "execution_count": 1212,
   "metadata": {},
   "outputs": [],
   "source": [
    "reg = pd.read_html('https://www.tuttitalia.it/regioni/popolazione/', thousands='.')[0]\n",
    "reg = reg[['Regione', 'Popolazioneresidenti']]"
   ]
  },
  {
   "cell_type": "code",
   "execution_count": 1213,
   "metadata": {},
   "outputs": [],
   "source": [
    "df_reg.reset_index(inplace=True)\n",
    "df_reg_m = df_reg.merge(reg, left_on='area',right_on='Regione', how='inner')\n",
    "df_reg_m = df_reg_m[['area','prima_dose','seconda_dose','Popolazioneresidenti']]"
   ]
  },
  {
   "cell_type": "code",
   "execution_count": 1214,
   "metadata": {},
   "outputs": [],
   "source": [
    "df_reg_m['pct_prima_dose'] = (df_reg_m.prima_dose / df_reg_m.Popolazioneresidenti).mul(100).round(2)\n",
    "df_reg_m['pct_seconda_dose'] = (df_reg_m.seconda_dose / df_reg_m.Popolazioneresidenti).mul(100).round(2)"
   ]
  },
  {
   "cell_type": "code",
   "execution_count": 1215,
   "metadata": {},
   "outputs": [],
   "source": [
    "df_reg_m.rename(columns={'pct_prima_dose':'Prima Dose pct', 'pct_seconda_dose':'Seconda Dose pct'}, inplace=True)"
   ]
  },
  {
   "cell_type": "code",
   "execution_count": 1216,
   "metadata": {},
   "outputs": [],
   "source": [
    "reg_melt = df_reg_m.melt(id_vars='area', value_vars=['Prima Dose pct','Seconda Dose pct'])"
   ]
  },
  {
   "cell_type": "code",
   "execution_count": 1217,
   "metadata": {},
   "outputs": [
    {
     "data": {
      "text/plain": [
       "(array([ 0,  1,  2,  3,  4,  5,  6,  7,  8,  9, 10, 11, 12, 13, 14, 15, 16,\n",
       "        17, 18]),\n",
       " <a list of 19 Text major ticklabel objects>)"
      ]
     },
     "execution_count": 1217,
     "metadata": {},
     "output_type": "execute_result"
    },
    {
     "data": {
      "image/png": "[encoded data removed]",
      "text/plain": [
       "<Figure size 1008x504 with 1 Axes>"
      ]
     },
     "metadata": {},
     "output_type": "display_data"
    }
   ],
   "source": [
    "plt.figure(figsize=(14,7))\n",
    "\n",
    "sns.barplot(data=reg_melt, x='area', y='value', hue='variable').set_title('Elaborazione: @TomZ_UK - Dati: ISS')\n",
    "plt.suptitle('Percentuale Popolazione Vaccinata', fontsize=20)\n",
    "plt.xticks(rotation=80, fontsize=14)"
   ]
  },
  {
   "cell_type": "markdown",
   "metadata": {},
   "source": [
    "# Deliveries"
   ]
  },
  {
   "cell_type": "code",
   "execution_count": 1218,
   "metadata": {},
   "outputs": [
    {
     "data": {
      "text/html": [
       "<div>\n",
       "<style scoped>\n",
       "    .dataframe tbody tr th:only-of-type {\n",
       "        vertical-align: middle;\n",
       "    }\n",
       "\n",
       "    .dataframe tbody tr th {\n",
       "        vertical-align: top;\n",
       "    }\n",
       "\n",
       "    .dataframe thead th {\n",
       "        text-align: right;\n",
       "    }\n",
       "</style>\n",
       "<table border=\"1\" class=\"dataframe\">\n",
       "  <thead>\n",
       "    <tr style=\"text-align: right;\">\n",
       "      <th></th>\n",
       "      <th>area</th>\n",
       "      <th>fornitore</th>\n",
       "      <th>numero_dosi</th>\n",
       "      <th>data_consegna</th>\n",
       "      <th>codice_NUTS1</th>\n",
       "      <th>codice_NUTS2</th>\n",
       "      <th>codice_regione_ISTAT</th>\n",
       "      <th>nome_area</th>\n",
       "    </tr>\n",
       "  </thead>\n",
       "  <tbody>\n",
       "    <tr>\n",
       "      <th>0</th>\n",
       "      <td>ABR</td>\n",
       "      <td>Pfizer/BioNTech</td>\n",
       "      <td>135</td>\n",
       "      <td>2020-12-27</td>\n",
       "      <td>ITF</td>\n",
       "      <td>ITF1</td>\n",
       "      <td>13</td>\n",
       "      <td>Abruzzo</td>\n",
       "    </tr>\n",
       "    <tr>\n",
       "      <th>1</th>\n",
       "      <td>ABR</td>\n",
       "      <td>Pfizer/BioNTech</td>\n",
       "      <td>7800</td>\n",
       "      <td>2020-12-30</td>\n",
       "      <td>ITF</td>\n",
       "      <td>ITF1</td>\n",
       "      <td>13</td>\n",
       "      <td>Abruzzo</td>\n",
       "    </tr>\n",
       "    <tr>\n",
       "      <th>2</th>\n",
       "      <td>ABR</td>\n",
       "      <td>Pfizer/BioNTech</td>\n",
       "      <td>3900</td>\n",
       "      <td>2021-01-05</td>\n",
       "      <td>ITF</td>\n",
       "      <td>ITF1</td>\n",
       "      <td>13</td>\n",
       "      <td>Abruzzo</td>\n",
       "    </tr>\n",
       "    <tr>\n",
       "      <th>3</th>\n",
       "      <td>ABR</td>\n",
       "      <td>Pfizer/BioNTech</td>\n",
       "      <td>3900</td>\n",
       "      <td>2021-01-07</td>\n",
       "      <td>ITF</td>\n",
       "      <td>ITF1</td>\n",
       "      <td>13</td>\n",
       "      <td>Abruzzo</td>\n",
       "    </tr>\n",
       "    <tr>\n",
       "      <th>4</th>\n",
       "      <td>ABR</td>\n",
       "      <td>Pfizer/BioNTech</td>\n",
       "      <td>3900</td>\n",
       "      <td>2021-01-11</td>\n",
       "      <td>ITF</td>\n",
       "      <td>ITF1</td>\n",
       "      <td>13</td>\n",
       "      <td>Abruzzo</td>\n",
       "    </tr>\n",
       "  </tbody>\n",
       "</table>\n",
       "</div>"
      ],
      "text/plain": [
       "  area        fornitore  numero_dosi data_consegna codice_NUTS1 codice_NUTS2  \\\n",
       "0  ABR  Pfizer/BioNTech          135    2020-12-27          ITF         ITF1   \n",
       "1  ABR  Pfizer/BioNTech         7800    2020-12-30          ITF         ITF1   \n",
       "2  ABR  Pfizer/BioNTech         3900    2021-01-05          ITF         ITF1   \n",
       "3  ABR  Pfizer/BioNTech         3900    2021-01-07          ITF         ITF1   \n",
       "4  ABR  Pfizer/BioNTech         3900    2021-01-11          ITF         ITF1   \n",
       "\n",
       "   codice_regione_ISTAT nome_area  \n",
       "0                    13   Abruzzo  \n",
       "1                    13   Abruzzo  \n",
       "2                    13   Abruzzo  \n",
       "3                    13   Abruzzo  \n",
       "4                    13   Abruzzo  "
      ]
     },
     "execution_count": 1218,
     "metadata": {},
     "output_type": "execute_result"
    }
   ],
   "source": [
    "deliveries = pd.read_csv('https://raw.githubusercontent.com/italia/covid19-opendata-vaccini/master/dati/consegne-vaccini-latest.csv')\n",
    "deliveries.head()"
   ]
  },
  {
   "cell_type": "code",
   "execution_count": 1219,
   "metadata": {},
   "outputs": [
    {
     "data": {
      "text/html": [
       "<div>\n",
       "<style scoped>\n",
       "    .dataframe tbody tr th:only-of-type {\n",
       "        vertical-align: middle;\n",
       "    }\n",
       "\n",
       "    .dataframe tbody tr th {\n",
       "        vertical-align: top;\n",
       "    }\n",
       "\n",
       "    .dataframe thead th {\n",
       "        text-align: right;\n",
       "    }\n",
       "</style>\n",
       "<table border=\"1\" class=\"dataframe\">\n",
       "  <thead>\n",
       "    <tr style=\"text-align: right;\">\n",
       "      <th></th>\n",
       "      <th>data_consegna</th>\n",
       "      <th>nome_area</th>\n",
       "      <th>numero_dosi</th>\n",
       "    </tr>\n",
       "  </thead>\n",
       "  <tbody>\n",
       "    <tr>\n",
       "      <th>0</th>\n",
       "      <td>2020-12-27</td>\n",
       "      <td>Abruzzo</td>\n",
       "      <td>135</td>\n",
       "    </tr>\n",
       "    <tr>\n",
       "      <th>1</th>\n",
       "      <td>2020-12-27</td>\n",
       "      <td>Basilicata</td>\n",
       "      <td>105</td>\n",
       "    </tr>\n",
       "    <tr>\n",
       "      <th>2</th>\n",
       "      <td>2020-12-27</td>\n",
       "      <td>Calabria</td>\n",
       "      <td>280</td>\n",
       "    </tr>\n",
       "    <tr>\n",
       "      <th>3</th>\n",
       "      <td>2020-12-27</td>\n",
       "      <td>Campania</td>\n",
       "      <td>720</td>\n",
       "    </tr>\n",
       "    <tr>\n",
       "      <th>4</th>\n",
       "      <td>2020-12-27</td>\n",
       "      <td>Emilia-Romagna</td>\n",
       "      <td>975</td>\n",
       "    </tr>\n",
       "  </tbody>\n",
       "</table>\n",
       "</div>"
      ],
      "text/plain": [
       "  data_consegna       nome_area  numero_dosi\n",
       "0    2020-12-27         Abruzzo          135\n",
       "1    2020-12-27      Basilicata          105\n",
       "2    2020-12-27        Calabria          280\n",
       "3    2020-12-27        Campania          720\n",
       "4    2020-12-27  Emilia-Romagna          975"
      ]
     },
     "execution_count": 1219,
     "metadata": {},
     "output_type": "execute_result"
    }
   ],
   "source": [
    "deliveries = deliveries.groupby(['data_consegna','nome_area'])[['numero_dosi']].sum().reset_index()\n",
    "deliveries.head()"
   ]
  },
  {
   "cell_type": "code",
   "execution_count": 1220,
   "metadata": {},
   "outputs": [
    {
     "data": {
      "text/plain": [
       "array(['Abruzzo', 'Basilicata', 'Calabria', 'Campania', 'Emilia-Romagna',\n",
       "       'Friuli-Venezia Giulia', 'Lazio', 'Liguria', 'Lombardia', 'Marche',\n",
       "       'Molise', 'Piemonte', 'Provincia Autonoma Bolzano / Bozen',\n",
       "       'Provincia Autonoma Trento', 'Puglia', 'Sardegna', 'Sicilia',\n",
       "       'Toscana', 'Umbria', \"Valle d'Aosta / Vallée d'Aoste\", 'Veneto'],\n",
       "      dtype=object)"
      ]
     },
     "execution_count": 1220,
     "metadata": {},
     "output_type": "execute_result"
    }
   ],
   "source": [
    "deliveries.nome_area.unique()"
   ]
  },
  {
   "cell_type": "code",
   "execution_count": 1221,
   "metadata": {},
   "outputs": [],
   "source": [
    "deliveries.rename(columns={'Provincia Autonoma Trento':'PAT','Provincia Autonoma Bolzano / Bozen':'PAB',\"Valle d'Aosta / Vallée d'Aoste\":\"Valle d'Aosta\"}, \n",
    "                 inplace=True)"
   ]
  },
  {
   "cell_type": "code",
   "execution_count": 1222,
   "metadata": {},
   "outputs": [],
   "source": [
    "df_reg['totale_somministrato'] = df_reg.prima_dose + df_reg.seconda_dose"
   ]
  },
  {
   "cell_type": "code",
   "execution_count": 1223,
   "metadata": {},
   "outputs": [
    {
     "data": {
      "text/html": [
       "<div>\n",
       "<style scoped>\n",
       "    .dataframe tbody tr th:only-of-type {\n",
       "        vertical-align: middle;\n",
       "    }\n",
       "\n",
       "    .dataframe tbody tr th {\n",
       "        vertical-align: top;\n",
       "    }\n",
       "\n",
       "    .dataframe thead th {\n",
       "        text-align: right;\n",
       "    }\n",
       "</style>\n",
       "<table border=\"1\" class=\"dataframe\">\n",
       "  <thead>\n",
       "    <tr style=\"text-align: right;\">\n",
       "      <th></th>\n",
       "      <th>area</th>\n",
       "      <th>prima_dose</th>\n",
       "      <th>seconda_dose</th>\n",
       "      <th>totale_somministrato</th>\n",
       "      <th>data_consegna</th>\n",
       "      <th>nome_area</th>\n",
       "      <th>numero_dosi</th>\n",
       "    </tr>\n",
       "  </thead>\n",
       "  <tbody>\n",
       "    <tr>\n",
       "      <th>0</th>\n",
       "      <td>Abruzzo</td>\n",
       "      <td>20739</td>\n",
       "      <td>15619</td>\n",
       "      <td>36358</td>\n",
       "      <td>2020-12-27</td>\n",
       "      <td>Abruzzo</td>\n",
       "      <td>135</td>\n",
       "    </tr>\n",
       "    <tr>\n",
       "      <th>1</th>\n",
       "      <td>Abruzzo</td>\n",
       "      <td>20739</td>\n",
       "      <td>15619</td>\n",
       "      <td>36358</td>\n",
       "      <td>2020-12-30</td>\n",
       "      <td>Abruzzo</td>\n",
       "      <td>7800</td>\n",
       "    </tr>\n",
       "    <tr>\n",
       "      <th>2</th>\n",
       "      <td>Abruzzo</td>\n",
       "      <td>20739</td>\n",
       "      <td>15619</td>\n",
       "      <td>36358</td>\n",
       "      <td>2021-01-05</td>\n",
       "      <td>Abruzzo</td>\n",
       "      <td>3900</td>\n",
       "    </tr>\n",
       "    <tr>\n",
       "      <th>3</th>\n",
       "      <td>Abruzzo</td>\n",
       "      <td>20739</td>\n",
       "      <td>15619</td>\n",
       "      <td>36358</td>\n",
       "      <td>2021-01-07</td>\n",
       "      <td>Abruzzo</td>\n",
       "      <td>3900</td>\n",
       "    </tr>\n",
       "    <tr>\n",
       "      <th>4</th>\n",
       "      <td>Abruzzo</td>\n",
       "      <td>20739</td>\n",
       "      <td>15619</td>\n",
       "      <td>36358</td>\n",
       "      <td>2021-01-11</td>\n",
       "      <td>Abruzzo</td>\n",
       "      <td>3900</td>\n",
       "    </tr>\n",
       "    <tr>\n",
       "      <th>...</th>\n",
       "      <td>...</td>\n",
       "      <td>...</td>\n",
       "      <td>...</td>\n",
       "      <td>...</td>\n",
       "      <td>...</td>\n",
       "      <td>...</td>\n",
       "      <td>...</td>\n",
       "    </tr>\n",
       "    <tr>\n",
       "      <th>209</th>\n",
       "      <td>Veneto</td>\n",
       "      <td>110164</td>\n",
       "      <td>85836</td>\n",
       "      <td>196000</td>\n",
       "      <td>2021-01-21</td>\n",
       "      <td>Veneto</td>\n",
       "      <td>15210</td>\n",
       "    </tr>\n",
       "    <tr>\n",
       "      <th>210</th>\n",
       "      <td>Veneto</td>\n",
       "      <td>110164</td>\n",
       "      <td>85836</td>\n",
       "      <td>196000</td>\n",
       "      <td>2021-01-26</td>\n",
       "      <td>Veneto</td>\n",
       "      <td>14040</td>\n",
       "    </tr>\n",
       "    <tr>\n",
       "      <th>211</th>\n",
       "      <td>Veneto</td>\n",
       "      <td>110164</td>\n",
       "      <td>85836</td>\n",
       "      <td>196000</td>\n",
       "      <td>2021-01-27</td>\n",
       "      <td>Veneto</td>\n",
       "      <td>36270</td>\n",
       "    </tr>\n",
       "    <tr>\n",
       "      <th>212</th>\n",
       "      <td>Veneto</td>\n",
       "      <td>110164</td>\n",
       "      <td>85836</td>\n",
       "      <td>196000</td>\n",
       "      <td>2021-02-01</td>\n",
       "      <td>Veneto</td>\n",
       "      <td>5400</td>\n",
       "    </tr>\n",
       "    <tr>\n",
       "      <th>213</th>\n",
       "      <td>Veneto</td>\n",
       "      <td>110164</td>\n",
       "      <td>85836</td>\n",
       "      <td>196000</td>\n",
       "      <td>2021-02-02</td>\n",
       "      <td>Veneto</td>\n",
       "      <td>45630</td>\n",
       "    </tr>\n",
       "  </tbody>\n",
       "</table>\n",
       "<p>214 rows × 7 columns</p>\n",
       "</div>"
      ],
      "text/plain": [
       "        area  prima_dose  seconda_dose  totale_somministrato data_consegna  \\\n",
       "0    Abruzzo       20739         15619                 36358    2020-12-27   \n",
       "1    Abruzzo       20739         15619                 36358    2020-12-30   \n",
       "2    Abruzzo       20739         15619                 36358    2021-01-05   \n",
       "3    Abruzzo       20739         15619                 36358    2021-01-07   \n",
       "4    Abruzzo       20739         15619                 36358    2021-01-11   \n",
       "..       ...         ...           ...                   ...           ...   \n",
       "209   Veneto      110164         85836                196000    2021-01-21   \n",
       "210   Veneto      110164         85836                196000    2021-01-26   \n",
       "211   Veneto      110164         85836                196000    2021-01-27   \n",
       "212   Veneto      110164         85836                196000    2021-02-01   \n",
       "213   Veneto      110164         85836                196000    2021-02-02   \n",
       "\n",
       "    nome_area  numero_dosi  \n",
       "0     Abruzzo          135  \n",
       "1     Abruzzo         7800  \n",
       "2     Abruzzo         3900  \n",
       "3     Abruzzo         3900  \n",
       "4     Abruzzo         3900  \n",
       "..        ...          ...  \n",
       "209    Veneto        15210  \n",
       "210    Veneto        14040  \n",
       "211    Veneto        36270  \n",
       "212    Veneto         5400  \n",
       "213    Veneto        45630  \n",
       "\n",
       "[214 rows x 7 columns]"
      ]
     },
     "execution_count": 1223,
     "metadata": {},
     "output_type": "execute_result"
    }
   ],
   "source": [
    "df_reg.merge(deliveries, left_on='area', right_on='nome_area')"
   ]
  },
  {
   "cell_type": "code",
   "execution_count": 1224,
   "metadata": {},
   "outputs": [],
   "source": [
    "deliveries1 = deliveries.groupby('nome_area')[['numero_dosi']].sum().reset_index()"
   ]
  },
  {
   "cell_type": "code",
   "execution_count": 1225,
   "metadata": {},
   "outputs": [],
   "source": [
    "del_merged = df_reg.merge(deliveries1, left_on='area', right_on='nome_area')\n",
    "del_merged.drop('nome_area', axis=1, inplace=True)\n",
    "del_merged['pct_somministrato'] = (del_merged.totale_somministrato/del_merged.numero_dosi).mul(100).round(2)"
   ]
  },
  {
   "cell_type": "code",
   "execution_count": 1268,
   "metadata": {},
   "outputs": [
    {
     "ename": "AttributeError",
     "evalue": "'float' object has no attribute 'round'",
     "output_type": "error",
     "traceback": [
      "\u001b[0;31m---------------------------------------------------------------------------\u001b[0m",
      "\u001b[0;31mAttributeError\u001b[0m                            Traceback (most recent call last)",
      "\u001b[0;32m<ipython-input-1268-7c2c1649b05d>\u001b[0m in \u001b[0;36m<module>\u001b[0;34m\u001b[0m\n\u001b[0;32m----> 1\u001b[0;31m \u001b[0mmedia\u001b[0m \u001b[0;34m=\u001b[0m \u001b[0mnp\u001b[0m\u001b[0;34m.\u001b[0m\u001b[0mmean\u001b[0m\u001b[0;34m(\u001b[0m\u001b[0mdel_merged\u001b[0m\u001b[0;34m.\u001b[0m\u001b[0mpct_somministrato\u001b[0m\u001b[0;34m)\u001b[0m\u001b[0;34m.\u001b[0m\u001b[0mround\u001b[0m\u001b[0;34m(\u001b[0m\u001b[0;36m2\u001b[0m\u001b[0;34m)\u001b[0m\u001b[0;34m\u001b[0m\u001b[0;34m\u001b[0m\u001b[0m\n\u001b[0m",
      "\u001b[0;31mAttributeError\u001b[0m: 'float' object has no attribute 'round'"
     ]
    }
   ],
   "source": [
    "media = np.mean(del_merged.pct_somministrato)"
   ]
  },
  {
   "cell_type": "code",
   "execution_count": 1272,
   "metadata": {},
   "outputs": [
    {
     "ename": "AttributeError",
     "evalue": "'AxesSubplot' object has no attribute 'savefig'",
     "output_type": "error",
     "traceback": [
      "\u001b[0;31m---------------------------------------------------------------------------\u001b[0m",
      "\u001b[0;31mAttributeError\u001b[0m                            Traceback (most recent call last)",
      "\u001b[0;32m<ipython-input-1272-ca4b98813157>\u001b[0m in \u001b[0;36m<module>\u001b[0;34m\u001b[0m\n\u001b[1;32m     10\u001b[0m \u001b[0mplt\u001b[0m\u001b[0;34m.\u001b[0m\u001b[0mxticks\u001b[0m\u001b[0;34m(\u001b[0m\u001b[0mrotation\u001b[0m\u001b[0;34m=\u001b[0m\u001b[0;36m35\u001b[0m\u001b[0;34m,\u001b[0m \u001b[0mfontsize\u001b[0m\u001b[0;34m=\u001b[0m\u001b[0;36m14\u001b[0m\u001b[0;34m)\u001b[0m\u001b[0;34m\u001b[0m\u001b[0;34m\u001b[0m\u001b[0m\n\u001b[1;32m     11\u001b[0m \u001b[0;34m\u001b[0m\u001b[0m\n\u001b[0;32m---> 12\u001b[0;31m \u001b[0mfig\u001b[0m\u001b[0;34m.\u001b[0m\u001b[0msavefig\u001b[0m\u001b[0;34m(\u001b[0m\u001b[0;34m'pct_somministrato_consegnato.png'\u001b[0m\u001b[0;34m)\u001b[0m\u001b[0;34m\u001b[0m\u001b[0;34m\u001b[0m\u001b[0m\n\u001b[0m",
      "\u001b[0;31mAttributeError\u001b[0m: 'AxesSubplot' object has no attribute 'savefig'"
     ]
    },
    {
     "data": {
      "image/png": "[encoded data removed]",
      "text/plain": [
       "<Figure size 1080x576 with 1 Axes>"
      ]
     },
     "metadata": {},
     "output_type": "display_data"
    }
   ],
   "source": [
    "plt.figure(figsize=(15,8))\n",
    "fig = sns.barplot(data=del_merged.sort_values('pct_somministrato'), x='area', y='pct_somministrato',\n",
    "           color='#1573B2')\n",
    "fig.axhline(media, ls='--', color='#E89429',\n",
    "           lw=2.5)\n",
    "fig.text(0.2,media+1,f'Media Nazionale: {media:.2f}',\n",
    "        fontsize=13)\n",
    "plt.suptitle('Percentuale Somministrata sul Consegnato', fontsize=20)\n",
    "plt.title('Elaborazione: @TomZ_UK - Dati: ISS')\n",
    "plt.xticks(rotation=35, fontsize=14)\n",
    "\n",
    "plt.savefig('pct_somministrato_consegnato.png')"
   ]
  },
  {
   "cell_type": "code",
   "execution_count": null,
   "metadata": {},
   "outputs": [],
   "source": []
  },
  {
   "cell_type": "code",
   "execution_count": null,
   "metadata": {},
   "outputs": [],
   "source": []
  }
 ],
 "metadata": {
  "kernelspec": {
   "display_name": "Python 3",
   "language": "python",
   "name": "python3"
  },
  "language_info": {
   "codemirror_mode": {
    "name": "ipython",
    "version": 3
   },
   "file_extension": ".py",
   "mimetype": "text/x-python",
   "name": "python",
   "nbconvert_exporter": "python",
   "pygments_lexer": "ipython3",
   "version": "3.7.6"
  }
 },
 "nbformat": 4,
 "nbformat_minor": 4
}
